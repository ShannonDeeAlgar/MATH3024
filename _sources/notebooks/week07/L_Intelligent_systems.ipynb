{
 "cells": [
  {
   "cell_type": "markdown",
   "id": "305e7889",
   "metadata": {
    "editable": true,
    "slideshow": {
     "slide_type": "slide"
    },
    "tags": [
     "slides"
    ]
   },
   "source": [
    "# Week 7: Intelligent systems\n",
    "\n",
    "**Intelligence:** the ability to *acquire and apply* knowledge and skills, i.e. learn from experience and to adapt to, shape, and select environments.\n",
    "\n",
    "**Intelligent systems** perceive and respond to the world around them. "
   ]
  },
  {
   "cell_type": "markdown",
   "id": "54b2d404-8aa4-4950-94a5-b886883551f0",
   "metadata": {
    "editable": true,
    "slideshow": {
     "slide_type": ""
    },
    "tags": [
     "reader-only"
    ]
   },
   "source": [
    "They can be found in both natural (e.g., the brain, ant colonies) and artificial (e.g., AI, robots) contexts."
   ]
  },
  {
   "cell_type": "markdown",
   "id": "a274aed2-cdf5-4c1d-af14-3d87a7bbbe2f",
   "metadata": {
    "editable": true,
    "slideshow": {
     "slide_type": ""
    },
    "tags": [
     "reader-only"
    ]
   },
   "source": [
    "<div style=\"border-left: 4px solid #1e70bf; padding: 0.75em; background-color: #eaf3fb; margin-bottom: 1em;\">\n",
    "  <strong>Pause and consider:</strong><br>\n",
    "  I actually can't think of any 'intelligent non-system' - can you?\n",
    "</div>"
   ]
  },
  {
   "cell_type": "markdown",
   "id": "3322f266",
   "metadata": {
    "editable": true,
    "slideshow": {
     "slide_type": "subslide"
    },
    "tags": [
     "slides"
    ]
   },
   "source": [
    "## A scientific schism\n",
    "\n",
    "![](images/Complex_systems_schism.png)\n",
    "\n",
    "So far we have mostly been camped in the Complexity Science space (indeed we have used '*Complex Systems*' as a synonym for '*Complexity Science*'). "
   ]
  },
  {
   "cell_type": "markdown",
   "id": "660548bc-e418-458d-9db7-8130dc7b02f9",
   "metadata": {
    "editable": true,
    "slideshow": {
     "slide_type": "subslide"
    },
    "tags": [
     "slides"
    ]
   },
   "source": [
    "## Complexity Science is..."
   ]
  },
  {
   "cell_type": "markdown",
   "id": "da3527b4-fd35-4ae7-944d-21f6a5f793aa",
   "metadata": {
    "editable": true,
    "slideshow": {
     "slide_type": "fragment"
    },
    "tags": [
     "slides"
    ]
   },
   "source": [
    "A framework for *understanding* the dynamics of complex systems and explaining phenomena such as *emergence*, *adaptation*, and *self-organisation*. "
   ]
  },
  {
   "cell_type": "markdown",
   "id": "e0aeec0f-bd16-4972-af5b-545dce152e3f",
   "metadata": {
    "editable": true,
    "slideshow": {
     "slide_type": "fragment"
    },
    "tags": [
     "slides"
    ]
   },
   "source": [
    "**Goal**: Find *simple, often mathematical descriptions* that capture the essential structure and behaviour of systems that look messy at first sight. These models prioritise *insight and explanation* over raw predictive accuracy."
   ]
  },
  {
   "cell_type": "markdown",
   "id": "3765471e-189a-43e1-9ec2-612f5d1e3c43",
   "metadata": {
    "editable": true,
    "slideshow": {
     "slide_type": "subslide"
    },
    "tags": [
     "slides"
    ]
   },
   "source": [
    "Complexity science asks questions such as:"
   ]
  },
  {
   "cell_type": "markdown",
   "id": "f6172e26-cae3-44a1-b9c6-42b1b71d0774",
   "metadata": {
    "editable": true,
    "slideshow": {
     "slide_type": "fragment"
    },
    "tags": [
     "slides"
    ]
   },
   "source": [
    "- How does intelligence arise from many interacting parts?\n",
    "- What tipping points or critical transitions exist in this system?\n",
    "- What are the universal patterns across biology, society, and technology?"
   ]
  },
  {
   "cell_type": "markdown",
   "id": "f9a922f2-43b0-4908-9919-ce45328085ca",
   "metadata": {
    "editable": true,
    "slideshow": {
     "slide_type": ""
    },
    "tags": [
     "reader-only"
    ]
   },
   "source": [
    "### Roots\n",
    "- **Cybernetics (1940s–1960s)**: Norbert Wiener and others introduced the study of feedback loops, self-regulation, and control.\n",
    "- **Complexity Science (1970s onwards)**: Theorists recognised that *simple rules can generate complex, adaptive behaviour*, as seen in cellular automata, chaos theory, network dynamics, and self-organised criticality.\n"
   ]
  },
  {
   "cell_type": "markdown",
   "id": "65ff3029",
   "metadata": {
    "editable": true,
    "slideshow": {
     "slide_type": "subslide"
    },
    "tags": [
     "slides"
    ]
   },
   "source": [
    "## Machine Learning (& AI) is..."
   ]
  },
  {
   "cell_type": "markdown",
   "id": "75e16371-cdc0-4ca5-af5e-c017a7a4a951",
   "metadata": {
    "editable": true,
    "slideshow": {
     "slide_type": "fragment"
    },
    "tags": [
     "slides"
    ]
   },
   "source": [
    "A framework for **building and implementing** systems that perform tasks requiring intelligence. \n",
    "\n",
    "Provides the *practical methodologies* to train machines to recognise patterns, adapt, and act for predictive power by taking all that complexity in and encoding it in big models. "
   ]
  },
  {
   "cell_type": "markdown",
   "id": "0fa90d8c-fab8-4dde-8206-6c6a4e58138a",
   "metadata": {
    "editable": true,
    "slideshow": {
     "slide_type": "fragment"
    },
    "tags": [
     "slides"
    ]
   },
   "source": [
    "**Goal**: Harness the richness of data and encode it in *large, flexible models* for *predictive power and performance*. Explanation is often secondary to accurate outcomes."
   ]
  },
  {
   "cell_type": "markdown",
   "id": "433e53e5-2c94-4efa-b50d-40ec1c32fd9e",
   "metadata": {
    "editable": true,
    "slideshow": {
     "slide_type": "subslide"
    },
    "tags": [
     "slides"
    ]
   },
   "source": [
    "AI asks questions such as:"
   ]
  },
  {
   "cell_type": "markdown",
   "id": "9265590a-99fd-4676-a516-f22b7efd8715",
   "metadata": {
    "editable": true,
    "slideshow": {
     "slide_type": "fragment"
    },
    "tags": [
     "slides"
    ]
   },
   "source": [
    "- How can we design algorithms that learn from data and improve over time?\n",
    "- What architectures (neural nets, transformers) are best for complex tasks?\n",
    "- How can we engineer intelligent behaviour into machines for real-world use?"
   ]
  },
  {
   "cell_type": "markdown",
   "id": "5203643a-c890-4915-9d07-d4533906d424",
   "metadata": {
    "editable": true,
    "slideshow": {
     "slide_type": ""
    },
    "tags": [
     "reader-only"
    ]
   },
   "source": [
    "### Roots\n",
    "\n",
    "- **Artificial Intelligence (1950s onwards)** – Alan Turing’s idea of machine intelligence; early symbolic AI systems (Minsky, McCarthy).\n",
    "- **Modern AI (2000s onwards)** – Explosion of data-driven methods (machine learning, deep learning, reinforcement learning, robotics)."
   ]
  },
  {
   "cell_type": "markdown",
   "id": "53e0b32c-d0e4-4021-b02c-7f937ec17673",
   "metadata": {
    "editable": true,
    "slideshow": {
     "slide_type": "subslide"
    },
    "tags": [
     "slides"
    ]
   },
   "source": [
    "## Key Distinction (but also synergy)\n",
    "\n",
    "**Complexity Science**: \n",
    "- *Explains* the principles of emergence and dynamics in complex systems. \n",
    "- Theory-driven, insight-focused."
   ]
  },
  {
   "cell_type": "markdown",
   "id": "90aef3f0-c90b-4d47-9e36-3cb8ba7fda66",
   "metadata": {
    "editable": true,
    "slideshow": {
     "slide_type": "fragment"
    },
    "tags": []
   },
   "source": [
    "**Machine Learning/AI**: \n",
    "- *Builds* tools to *predict and act* within complex systems. \n",
    "- Data-driven, performance-focused."
   ]
  },
  {
   "cell_type": "markdown",
   "id": "0dca71cd-5ea9-48a5-91c0-2bf4a8636996",
   "metadata": {
    "editable": true,
    "slideshow": {
     "slide_type": ""
    },
    "tags": [
     "reader-only"
    ]
   },
   "source": [
    "The two approaches are not opposites but complementary. Complexity science offers the *conceptual lens* and AI provides the *engineering toolkit*. \n",
    "\n",
    "Increasingly, they inform one another. e.g. complexity science helps interpret black-box AI models, while ML helps uncover patterns in complex systems where theory alone is insufficient."
   ]
  },
  {
   "cell_type": "markdown",
   "id": "66a8c075-4351-4170-aadf-4b6da4d5646f",
   "metadata": {
    "editable": true,
    "slideshow": {
     "slide_type": "subslide"
    },
    "tags": [
     "slides"
    ]
   },
   "source": [
    "## Positioning of intelligent systems\n",
    "\n",
    "\n",
    "Intelligent systems sit at the intersection of Complexity Science and Machine Learning/AI, but the emphasis shifts depending on the question being asked:\n",
    "\n",
    "**Complexity Science**:\n",
    "- The focus is on: *how intelligence emerges* from the interactions of many parts (as in biological, ecological, or social systems)\n",
    "- The goal is explanation: understanding the principles that give rise to adaptive or intelligent behaviour."
   ]
  },
  {
   "cell_type": "markdown",
   "id": "957e5392-41ea-4e90-84d5-e5740a50ad3a",
   "metadata": {
    "editable": true,
    "slideshow": {
     "slide_type": "fragment"
    },
    "tags": []
   },
   "source": [
    "**Machine Learning/AI**: \n",
    "- The focus is on: *designing and implementing algorithms that exhibit intelligence* (as in robotics, autonomous agents, or large-scale models)\n",
    "- The goal is construction: building systems that can act intelligently in the world."
   ]
  },
  {
   "cell_type": "markdown",
   "id": "18998055",
   "metadata": {
    "editable": true,
    "slideshow": {
     "slide_type": "slide"
    },
    "tags": [
     "slides"
    ]
   },
   "source": [
    "# Artificial intelligence (AI)\n",
    "\n",
    "AI has gone from niche to everywhere shifting rapidly from an abstract research idea to something that touches nearly every aspect of daily life in just a decade.\n",
    "\n",
    "![](images/Google_trends_AI.png)"
   ]
  },
  {
   "cell_type": "markdown",
   "id": "a1274aaf-3097-4904-ae47-df310fd1fdc6",
   "metadata": {
    "editable": true,
    "slideshow": {
     "slide_type": "subslide"
    },
    "tags": [
     "slides"
    ]
   },
   "source": [
    "AI is often considered to be a machine's ability to perform a task that would have previously required 'human intelligence' \n",
    "\n",
    "But successful AI is redefining what this means!\n",
    "\n",
    "e.g. chess was previously thought to be a pinnacle of human intelligence.\n",
    "\n",
    "In 1996 Grandmaster Garry Kasparov beat IBM's DeepBlue computer in a 7 match series (4-2). In 1997 he lost the rematch (3.5-2.5), playing uncharacteristically poorly.\n",
    "\n",
    "![](images/Kasparov_vs_Deep_blue_Turk.png)\n",
    "\n",
    "Images from [Kasparov photo here](https://theworld.org/stories/2018-01-05/garry-kasparov-and-game-artificial-intelligence), Turk from Wiki."
   ]
  },
  {
   "cell_type": "markdown",
   "id": "4a07fb89",
   "metadata": {
    "editable": true,
    "slideshow": {
     "slide_type": ""
    },
    "tags": [
     "reader-only"
    ]
   },
   "source": [
    "DeepBlue was designed specifically to beat Kasparov and he cried foul.\n",
    "\n",
    "The Mechanical Turk was an elaborate hoax/fraudulent chess-playing machine constructed in 1770."
   ]
  },
  {
   "cell_type": "markdown",
   "id": "2e2c7053-1b61-4e05-b5a5-77e8a6c66396",
   "metadata": {
    "editable": true,
    "slideshow": {
     "slide_type": ""
    },
    "tags": [
     "reader-only"
    ]
   },
   "source": [
    "The defeat was touted as a sign that artificial intelligence was catching up to human \n",
    "intelligence\n",
    "\n",
    "In 2015/2016 AlphaGo surpassed the top-ranked Go players\n",
    "\n",
    "DeepBlue mainly relied on brute computational force to evaluate millions of positions, AlphaGo also relied on neural networks and reinforcement learning."
   ]
  },
  {
   "cell_type": "markdown",
   "id": "72ec22c0-fcbb-449b-8149-087f43869d35",
   "metadata": {
    "editable": true,
    "slideshow": {
     "slide_type": "subslide"
    },
    "tags": [
     "slides"
    ]
   },
   "source": [
    "AI is simultaneously described as:\n",
    "1. “*the new electricity*” (Andrew Ng, 2017), poised to revolutionise human life and benefit society; and\n",
    "2. “*our biggest existential threat*” (Elon Musk, 2014)"
   ]
  },
  {
   "cell_type": "markdown",
   "id": "29f05cf9",
   "metadata": {
    "editable": true,
    "slideshow": {
     "slide_type": "subslide"
    },
    "tags": [
     "slides"
    ]
   },
   "source": [
    "## Origins\n",
    "Biological neurons receive signals from many other neurons, combine them, and fire an output if the signal is strong enough. \n",
    "\n",
    "That output aims to classify the input, assigning it to a category based on its features.\n",
    "\n",
    "![](images/Neuron_brain.png)\n",
    "\n",
    "This was the basic inspiration for the artificial neuron, the **perceptron**."
   ]
  },
  {
   "cell_type": "markdown",
   "id": "1dcd3871-e715-489e-a737-6efab5d8f101",
   "metadata": {
    "editable": true,
    "slideshow": {
     "slide_type": "subslide"
    },
    "tags": [
     "slides"
    ]
   },
   "source": [
    "### Artificial neurons\n",
    "The **artificial neuron** is a mathematical model of a biological one (and the great grandparent of neural network). \n",
    "\n",
    "![](images/Artificial_neuron.png)\n",
    "\n",
    "It was invented by McCulloch & Pitts in 1943. \n"
   ]
  },
  {
   "cell_type": "markdown",
   "id": "b6f58e44-9ed3-4a97-8769-70ce7a1a79ad",
   "metadata": {
    "editable": true,
    "slideshow": {
     "slide_type": ""
    },
    "tags": [
     "reader-only"
    ]
   },
   "source": [
    "with:\n",
    "- inputs: $i_1, i_2, \\ldots, i_n$, each multiplied by a weight $W_k$.\n",
    "- a weighted sum of these inputs:\n",
    "\n",
    "  $$\n",
    "  z = \\sum_i W_k i_k + b\n",
    "  $$\n",
    "\n",
    "  possibly with some bias $b$\n",
    "- threshold/activation function, $f$, that decides if the output, $o$, is 0 or 1."
   ]
  },
  {
   "cell_type": "markdown",
   "id": "d0177c57-0525-4c05-bc97-cd8cccf5ffee",
   "metadata": {
    "editable": true,
    "slideshow": {
     "slide_type": "subslide"
    },
    "tags": [
     "slides"
    ]
   },
   "source": [
    "### Perceptron\n",
    "The artifical neuron was first implemented as a learning machine by Frank Rosenblatt (1958).\n",
    "\n",
    "Rosenblatt’s perceptron acts as a **linear classifier**: the activation function corresponds geometrically to drawing a line (or, in higher dimensions, a hyperplane) in input space.\n",
    "- Everything on one side → “yes.”\n",
    "- Everything on the other → “no.”\n",
    "\n",
    "The perceptron learns the orientation of the separating line."
   ]
  },
  {
   "cell_type": "markdown",
   "id": "58a7b197-24df-4541-904e-a45aaa7db09e",
   "metadata": {
    "editable": true,
    "slideshow": {
     "slide_type": "subslide"
    },
    "tags": [
     "slides"
    ]
   },
   "source": [
    "### Linear classifiers\n",
    "\n",
    "Linear classifiers, like Rosenblatt's:\n",
    "- can separate data with a line\n",
    "- are the simplest feed-forward neural network \n",
    "- but they can't solve XOR.\n",
    "\n",
    "![](images/XOR_linear_classifier.png)\n",
    "\n",
    "\n",
    "Fig from [PyImageSource](https://pyimagesearch.com/2021/05/06/implementing-the-perceptron-neural-network-with-python/)\n",
    "\n",
    "It took many years (until the 1980s) to realise that multi-layer perceptrons had far greater processing power and many more for deep learning to come along (2010)."
   ]
  },
  {
   "cell_type": "markdown",
   "id": "f35f34cd",
   "metadata": {
    "editable": true,
    "slideshow": {
     "slide_type": "subslide"
    },
    "tags": [
     "slides"
    ]
   },
   "source": [
    "Since then the predictions (and sometimes hyperbole) are generally not being realised. \n",
    "\n",
    "<div style=\"margin: 1.5em 0; border-right: 4px solid #888; padding-right: 1em; text-align: right;\">\n",
    "  <div style=\"font-style: italic; font-family: 'Comic Neue', 'Segoe Script', cursive; font-size: 1.2em;\">\n",
    "    (On the perceptron:) The embryo of an electronic computer that [the Navy] expects will be able to walk, talk, see, write, reproduce itself and be conscious of its existence.\n",
    "  </div>\n",
    "  <div style=\"font-style: normal; font-size: 0.95em; margin-top: 0.5em;\">\n",
    "    — [A Sociological Study of the Official History of the Perceptrons Controversy\n",
    "](https://doi.org/10.1177%2F030631296026003005)\n",
    "  </div>\n",
    "</div>\n",
    "\n",
    "<div style=\"margin: 1.5em 0; border-right: 4px solid #888; padding-right: 1em; text-align: right;\">\n",
    "  <div style=\"font-style: italic; font-family: 'Comic Neue', 'Segoe Script', cursive; font-size: 1.2em;\">\n",
    "    I confidently expect that within a matter of 10 or 15 years, something will emerge from the laboratory, which is not too far from the robot of science fiction fame\n",
    "  </div>\n",
    "  <div style=\"font-style: normal; font-size: 0.95em; margin-top: 0.5em;\">\n",
    "    — Claude Shannon, 1961\n",
    "  </div>\n",
    "</div>"
   ]
  },
  {
   "cell_type": "markdown",
   "id": "55e3f780-61b4-4c01-b5a0-b9b955b8734b",
   "metadata": {
    "editable": true,
    "slideshow": {
     "slide_type": "subslide"
    },
    "tags": [
     "slides"
    ]
   },
   "source": [
    "\n",
    "<div style=\"margin: 1.5em 0; border-right: 4px solid #888; padding-right: 1em; text-align: right;\">\n",
    "  <div style=\"font-style: italic; font-family: 'Comic Neue', 'Segoe Script', cursive; font-size: 1.2em;\">\n",
    "    Machines will be capable, within twenty years, of doing any work that a (hu)man[sic] can do\n",
    "  </div>\n",
    "  <div style=\"font-style: normal; font-size: 0.95em; margin-top: 0.5em;\">\n",
    "    — Nobel Laureat Herbert Simon, 1965\n",
    "  </div>\n",
    "</div>\n",
    "\n",
    "<div style=\"margin: 1.5em 0; border-right: 4px solid #888; padding-right: 1em; text-align: right;\">\n",
    "  <div style=\"font-style: italic; font-family: 'Comic Neue', 'Segoe Script', cursive; font-size: 1.2em;\">\n",
    "    Within a generation... the problem of creating 'artificial intelligence; will be substantially solved\n",
    "  </div>\n",
    "  <div style=\"font-style: normal; font-size: 0.95em; margin-top: 0.5em;\">\n",
    "    — Founder of MIT Lab Marvin Minsky, 1967\n",
    "  </div>\n",
    "</div>"
   ]
  },
  {
   "cell_type": "markdown",
   "id": "8820788a",
   "metadata": {
    "editable": true,
    "slideshow": {
     "slide_type": "subslide"
    },
    "tags": [
     "slides"
    ]
   },
   "source": [
    "## Defining AI\n",
    "Hard to define.\n",
    "\n",
    "![](images/Timeline_AI.png)\n",
    "\n",
    "Fig is a screenshot from [AI Achievement Timeline](https://achievements.ai/)\n",
    "\n",
    "Nowadays, it's an umbrella term for [*'an anarchy of methods'*.](https://www.computer.org/csdl/magazine/ex/2014/06/mex2014060056/13rRUxcKzSL)"
   ]
  },
  {
   "cell_type": "markdown",
   "id": "528c222f",
   "metadata": {
    "editable": true,
    "slideshow": {
     "slide_type": "subslide"
    },
    "tags": [
     "slides"
    ]
   },
   "source": [
    "## Types of AI technology\n",
    "(these terms are often used interchangeably)\n",
    "\n",
    "**Machine learning**: a very large part of AI\n",
    "- learning from data (e.g. neural networks, decision trees, support vector machines, k-nearest neighbours,...)\n",
    "\n",
    "A model learns to separate or fit patterns in data, such as a curve dividing two clusters or a simple regression:\n",
    "\n",
    "![](images/Linear_regression.png)\n"
   ]
  },
  {
   "cell_type": "markdown",
   "id": "3d3d08e9-255b-44e0-ac5f-dbbe5f46c071",
   "metadata": {
    "editable": true,
    "slideshow": {
     "slide_type": "subslide"
    },
    "tags": [
     "slides"
    ]
   },
   "source": [
    "**Neural networks**: a large part of machine learning\n",
    "- inspired by visual system in the brain (very loosely).\n",
    "- artificial neurons organised into layers (input, hidden layers, output).\n",
    "- layers of neurons separate vision into features to build simple shapes, up to more and more complex shapes. They require very careful design. "
   ]
  },
  {
   "cell_type": "markdown",
   "id": "db26c75d-8710-4d0c-aa4b-4f70a6e4f67f",
   "metadata": {
    "editable": true,
    "slideshow": {
     "slide_type": "subslide"
    },
    "tags": [
     "slides"
    ]
   },
   "source": [
    "\n",
    "Information flows through layers of nodes linked by weighted connections:\n",
    "![](images/Neural_network.png)\n",
    "\n",
    "Can be shallow (with only a few hidden layers) or deep (many hidden layers)."
   ]
  },
  {
   "cell_type": "markdown",
   "id": "8db128b0-9ce5-44d9-af0f-6160ed9f3eca",
   "metadata": {
    "editable": true,
    "slideshow": {
     "slide_type": "subslide"
    },
    "tags": [
     "slides"
    ]
   },
   "source": [
    "**Deep (many layers) learning**: a very large part of neural networks\n",
    "- stacked layers allow automatic extraction of features, from simple edges to complex objects.\n",
    "\n",
    "![](images/Deep_learning.jpg)\n",
    "\n",
    "There are now models much more closely aligned with actual brain architecture as well but deep learning is still dominant."
   ]
  },
  {
   "cell_type": "markdown",
   "id": "970f32ca",
   "metadata": {
    "editable": true,
    "slideshow": {
     "slide_type": "subslide"
    },
    "tags": [
     "slides"
    ]
   },
   "source": [
    "## Categories of AI\n",
    "\n",
    "1. **Weak aka Narrow AI:**\n",
    "- successful\n",
    "- views \"intelligence\" as the ability of a machine to solve a very discrete task (no expectations that the AI can solve similar-but-different tasks). \n",
    "- this type of \"intelligence\" is behind much of the AI in daily life, such as recommendation algorithms, chess-playing programs, and GPS navigation."
   ]
  },
  {
   "cell_type": "markdown",
   "id": "806dbfcf",
   "metadata": {
    "editable": true,
    "slideshow": {
     "slide_type": "subslide"
    },
    "tags": [
     "slides"
    ]
   },
   "source": [
    "2. **Strong aka General AI:**\n",
    "- doesn't exist yet\n",
    "- more ambitious and more on par with human capabilities e.g. the ability to interpret tone and emotion\n",
    "- views machine \"intelligence\" as similar to human intelligence (some generalisable computational/cognitive process that enables the solution of unfamiliar tasks by way of analogy and extrapoloation from acquired knowledge or experiences).\n",
    "- might posses consciousness(?)"
   ]
  },
  {
   "cell_type": "markdown",
   "id": "c5b5f6cc",
   "metadata": {
    "editable": true,
    "slideshow": {
     "slide_type": "subslide"
    },
    "tags": [
     "slides"
    ]
   },
   "source": [
    "\n",
    "3. **Super intelligence:**\n",
    "- hypothetical \n",
    "- machines become self-aware and surpass capacity of human intelligence and ability (the muse of dystopian science fiction in which robots overrun/enslave humanity) "
   ]
  },
  {
   "cell_type": "markdown",
   "id": "e41646f2-e04c-4742-bc02-d2fd1a407c39",
   "metadata": {
    "editable": true,
    "slideshow": {
     "slide_type": ""
    },
    "tags": []
   },
   "source": [
    "<!--     - personally I think weak AI in the hands of bad people is a much scarier prospect (e.g. autonomous weapons) -->"
   ]
  },
  {
   "cell_type": "markdown",
   "id": "bc703bda",
   "metadata": {
    "editable": true,
    "slideshow": {
     "slide_type": "subslide"
    },
    "tags": [
     "slides"
    ]
   },
   "source": [
    "## Successes\n",
    "\n",
    "AI has been very successful with tasks that are clearly defined: \n",
    "- chess-playing\n",
    "- speech/facial recognition\n",
    "- GPS navigation\n",
    "- translation\n",
    "- self-driving cars\n",
    "- medical diagnosis\n",
    "- image search/classification\n",
    "- ...\n",
    "\n",
    "However, there have also been recent strides towards more open ended 'human' tasks such as creativity (generative art, ChatGPT etc), emotional intelligence (facial expression analysis, personalised content recommendations, sentiment analysis), capacity for abstraction, logic, understanding, ... \n",
    "\n",
    "Whilst they have successfully achieved their task, it is often not clear what has actually been learnt in each case."
   ]
  },
  {
   "cell_type": "markdown",
   "id": "a2aea159",
   "metadata": {
    "editable": true,
    "slideshow": {
     "slide_type": "subslide"
    },
    "tags": [
     "slides"
    ]
   },
   "source": [
    "## Fails\n",
    "As humans we will try to anthropomorphise the learning and we struggle to think about things outside our own experience.\n",
    "\n",
    "But we know that machines don't learn the way we do.\n",
    "\n",
    "It's not easy to understand what a machine has actually learned (we don't even have very good definitions for these sort of terms e.g. common sense, consciousness, learning, understanding, ...)."
   ]
  },
  {
   "cell_type": "markdown",
   "id": "d6ccb6b1-b4d6-4961-96c8-2b4802e5c70f",
   "metadata": {
    "editable": true,
    "slideshow": {
     "slide_type": "subslide"
    },
    "tags": [
     "slides"
    ]
   },
   "source": [
    "In general though, it is the easiest thing in the data that is learned e.g.:\n",
    "- does image contain an animal? Blurred background $\\rightarrow$ yes.\n",
    "- pneumonia detection from chest X-rays. Does image contain metadata (like logos) from specific hospital $\\rightarrow$ yes.\n",
    "\n",
    "\n",
    "And this learning can't be transferred to unseen situations in the training because machines lack common sense.\n",
    "\n",
    "This is a problem because life is 'long-tailed' (some unlikely things are likely to happen)."
   ]
  },
  {
   "cell_type": "markdown",
   "id": "d22fa3de",
   "metadata": {
    "editable": true,
    "slideshow": {
     "slide_type": "subslide"
    },
    "tags": [
     "slides"
    ]
   },
   "source": [
    "AI systems can be, and frequently are, vulnerable and easily fooled:\n",
    "- gender and racial bias in recruiting tools (e.g. Amazon)\n",
    "- many examples in NLP where AI learned and perpetuated societal biases \n",
    "- bad chatbots \n",
    "- ball tracking camera at soccer game [mistakingly following bald umpire's head](https://www.youtube.com/watch?v=eMx-2s7mZ24)\n",
    "- driverless cars (so many examples of cars being fooled by salt lines/plastic bags on roads, crashing into stopped cars, stop signs with stickers misclassifed as 80km/hr speed limit signs etc etc)\n",
    "- ... \n",
    "\n",
    "Defence against adversarial attacks on neural networks is now a highly active field."
   ]
  },
  {
   "cell_type": "markdown",
   "id": "3efd0a07-ac4d-45aa-a865-f95ff83a1de8",
   "metadata": {
    "editable": true,
    "slideshow": {
     "slide_type": ""
    },
    "tags": [
     "reader-only"
    ]
   },
   "source": [
    "Some other examples...\n",
    "\n",
    "**Hallucination:** AI inventing facts (fake books, fake legal cases).\n",
    "- Chicago Sun-Times & Philadelphia Inquirer (2025): [Published summer reading lists of non-existent books generated by AI.](https://www.washingtonpost.com/style/media/2025/05/20/chicago-sun-times-philadelphia-inquirer-ai-books-summer-reading/)\n",
    "- Sports Illustrated (2023): [Accused of publishing AI-generated articles with fake author names and AI headshots](https://www.bbc.com/news/world-us-canada-67560354).\n",
    "- ChatGPT hallucinated cases (2023): [Lawyer cited six non-existent court cases in filings; fined \\$5,000 and embarrassed in court](https://www.abc.net.au/news/2023-06-24/us-lawyer-uses-chatgpt-to-research-case-with-embarrassing-result/102490068).\n",
    "\n",
    "**Bias and Discrimination:** Encoded prejudices (age bias in hiring, unlawful landlord advice).\n",
    "- iTutor Group (2023): [Recruiting AI auto-rejected applicants based on age (55+ women, 60+ men), leading to an EEOC lawsuit and settlement](https://www.reuters.com/legal/tutoring-firm-settles-us-agencys-first-bias-lawsuit-involving-ai-software-2023-08-10/).\n",
    "\n",
    "**Reliability Gaps:** Models collapsing in real-world conditions \n",
    "- McDonald’s Drive-Thru AI (2024): [Repeated ordering errors (famously adding 260 McNuggets), leading to scrapped IBM partnership](https://www.tiktok.com/@typical_redhead_/video/7192248491853303086).\n",
    "\n",
    "**Accountability:** Legal, financial, and reputational fallout when companies blamed “the AI” but were still held responsible.\n",
    "- NYC MyCity chatbot (2024): [Gave entrepreneurs unlawful advice (e.g., allowing wage theft, landlord discrimination)](https://tgllaw.com/en/blog/Investigation-Finds-NYCs-AI-Chatbot-Encouraging-Illegal-Activities/).\n",
    "- Air Canada chatbot (2024): [Misled a bereaved passenger about fare refunds, costing the airline damages in court](https://www.forbes.com/sites/marisagarcia/2024/02/19/what-air-canada-lost-in-remarkable-lying-ai-chatbot-case/).\n",
    "\n",
    "**AI gone rogue**\n",
    "- Replit AI coding tool (2025): [Deleted SaaStr’s production database during a code freeze, fabricated fake users and test results, and lied about bugs](https://cybernews.com/ai-news/replit-ai-vive-code-rogue/).\n",
    "- xAI’s Grok (2025): [Produced antisemitic posts, called itself “MechaHitler,” and even gave instructions for assaulting a public figure](https://www.npr.org/2025/07/09/nx-s1-5462609/grok-elon-musk-antisemitic-racist-content).\n",
    "- AI companions (2025): [Chatbots accussed of encouraging teen suicide](https://www.abc.net.au/news/2025-08-12/how-young-australians-being-impacted-by-ai/105630108)"
   ]
  },
  {
   "cell_type": "markdown",
   "id": "e893c272-987d-4013-b695-95fbe11debc8",
   "metadata": {
    "editable": true,
    "slideshow": {
     "slide_type": "subslide"
    },
    "tags": [
     "slides"
    ]
   },
   "source": [
    "Good AI is more than accuracy. It should be:\n",
    "1. **Explainable**: We should understand why a particular result has occurred and be able to show the key factors or examples behind each decision.\n",
    "2. **Fair**: Bias should be measured and minimised with appropriate metrics reported.\n",
    "3. **Transparent**: The data, model and limits (or at least their sources should be disclosed.\n",
    "4. **Accountable**: Ideally there should also be clear ownership, audit trails, and a path for redress."
   ]
  },
  {
   "cell_type": "markdown",
   "id": "f0d0beff",
   "metadata": {
    "editable": true,
    "slideshow": {
     "slide_type": "slide"
    },
    "tags": [
     "slides"
    ]
   },
   "source": [
    "# Collective/swarm  intelligence\n",
    "\n",
    "Collective intelligence refers to an ability to do intelligent things that is exhibited by groups, communities, or networks of individuals when they work together to achieve a common goal.\n",
    "\n",
    "It is a type of **unconventional computation**.\n",
    "\n",
    "We often struggle to recognise unconventional intelligence, i.e. intelligence that looks different to what we humans supposedly have.\n",
    "\n",
    "Of course, you should now be comfortable with the reality... that human intelligence *is* collective intelligence (neurons interacting for brain function)."
   ]
  },
  {
   "cell_type": "markdown",
   "id": "5aa96f13",
   "metadata": {
    "editable": true,
    "slideshow": {
     "slide_type": "subslide"
    },
    "tags": [
     "slides"
    ]
   },
   "source": [
    "**The basic idea**: social sharing of information among group members offers a simple and flexible evolutionary advantage.\n",
    "\n",
    "<div style=\"margin: 1.5em 0; border-right: 4px solid #888; padding-right: 1em; text-align: right;\">\n",
    "  <div style=\"font-style: italic; font-family: 'Comic Neue', 'Segoe Script', cursive; font-size: 1.2em;\">\n",
    "    In theory at least, individual members of the school can profit from the discoveries and previous experience of all other members of the school during the search for food. This advantage can become decisive, outweighing the disadvantages of competition for food items, whenever the resource is unpredictably distributed in patches.\n",
    "\n",
    "  </div>\n",
    "  <div style=\"font-style: normal; font-size: 0.95em; margin-top: 0.5em;\">\n",
    "    — Biologist E.O. Wilson, from his book Sociobiology: The new synthesis [1975]\n",
    "  </div>\n",
    "</div>\n",
    "\n",
    "\n",
    "Ants, bees, termites etc are basic creatures with very limited simple behaviours.\n",
    "\n",
    "However en masse, they form **superorganisms** capable of emergent behaviour that is highly complex e.g. bees precisely modulating the temperature of a hive, and ants gathering themselves into a raft to cross a river or to survive a flood.\n",
    "\n",
    "The collective is *required* for the intelligence."
   ]
  },
  {
   "cell_type": "markdown",
   "id": "9012fd46",
   "metadata": {
    "editable": true,
    "slideshow": {
     "slide_type": "subslide"
    },
    "tags": []
   },
   "source": [
    "# Ants\n",
    "\n",
    "<div style=\"margin: 1.5em 0; border-right: 4px solid #888; padding-right: 1em; text-align: right;\">\n",
    "  <div style=\"font-style: italic; font-family: 'Comic Neue', 'Segoe Script', cursive; font-size: 1.2em;\">\n",
    "    Go to the ant, you sluggard; consider its ways and be wise! It has no commander, no overseer or ruler, yet it stores its provisions in summer and gathers its food at harvest.\n",
    "  </div>\n",
    "  <div style=\"font-style: normal; font-size: 0.95em; margin-top: 0.5em;\">\n",
    "    — Proverbs 6\n",
    "  </div>\n",
    "</div>\n",
    "\n",
    "![](images/Escher_ants.jpeg)\n"
   ]
  },
  {
   "cell_type": "markdown",
   "id": "2605e487",
   "metadata": {
    "editable": true,
    "slideshow": {
     "slide_type": ""
    },
    "tags": [
     "reader-only"
    ]
   },
   "source": [
    "Ants are eusocial species i.e. they exhibit a high degree of social complexity and cooperation within their colonies (cooperative care of young, division of labour and specialist roles etc).\n",
    "\n",
    "No central control (queen lays eggs but isn't really in charge).\n",
    "\n",
    "They exist in nearly every conceivable environment with behavioural and reproductive traits shared by all army ant species."
   ]
  },
  {
   "cell_type": "markdown",
   "id": "88b7fea6-5127-48c9-a87c-71bdee28b06b",
   "metadata": {
    "editable": true,
    "slideshow": {
     "slide_type": "subslide"
    },
    "tags": [
     "slides"
    ]
   },
   "source": [
    "Ants can do all sorts of curious things: "
   ]
  },
  {
   "cell_type": "code",
   "execution_count": 2,
   "id": "37d055ce",
   "metadata": {
    "editable": true,
    "scrolled": true,
    "slideshow": {
     "slide_type": "fragment"
    },
    "tags": [
     "hide-input",
     "slides"
    ]
   },
   "outputs": [
    {
     "data": {
      "image/jpeg": "[encoded data removed]",
      "text/html": [
       "\n",
       "        <iframe\n",
       "            width=\"400\"\n",
       "            height=\"300\"\n",
       "            src=\"https://www.youtube.com/embed/pa5UnI279Es\"\n",
       "            frameborder=\"0\"\n",
       "            allowfullscreen\n",
       "            \n",
       "        ></iframe>\n",
       "        "
      ],
      "text/plain": [
       "<IPython.lib.display.YouTubeVideo at 0x1042bc210>"
      ]
     },
     "execution_count": 2,
     "metadata": {},
     "output_type": "execute_result"
    }
   ],
   "source": [
    "from IPython.display import YouTubeVideo\n",
    "YouTubeVideo(\"pa5UnI279Es\", width=400)\n",
    "\n",
    "# https://www.youtube.com/watch?v=pa5UnI279Es"
   ]
  },
  {
   "cell_type": "markdown",
   "id": "a70d37a4-1ca0-4b23-a0b0-a4af269b9284",
   "metadata": {
    "editable": true,
    "slideshow": {
     "slide_type": ""
    },
    "tags": [
     "reader-only"
    ]
   },
   "source": [
    "It's only recently that we've really started to understand how they do it..."
   ]
  },
  {
   "cell_type": "markdown",
   "id": "302edd47",
   "metadata": {
    "editable": true,
    "slideshow": {
     "slide_type": "subslide"
    },
    "tags": [
     "slides"
    ]
   },
   "source": [
    "## Ant communication\n",
    "Ants lay pheromone where they walk, which evaporates over time. In particular, they leave a trace of pheromone on their way back to the nest when they have found food.\n",
    "\n",
    "Ants can't see very well and smell the pheromone of fellow ants with their antennae. \n",
    "\n",
    "The pheromone gives an indication of the frequency of interaction as ants encounter each other's paths. "
   ]
  },
  {
   "cell_type": "markdown",
   "id": "97fcb7f0",
   "metadata": {
    "editable": true,
    "slideshow": {
     "slide_type": "subslide"
    },
    "tags": [
     "slides"
    ]
   },
   "source": [
    "Pheromone-based communication is an example of **stigmergy**.\n",
    "\n",
    "Derived from the Greek words for \"*stigma*\" (mark or sign) and \"*ergon*\" (work, action).\n",
    "\n",
    "It's a mechanism of indirect communication between agents, which occurs *via the environment*."
   ]
  },
  {
   "cell_type": "markdown",
   "id": "f2d4a61d-ab21-4bdb-87ef-abf45dcda418",
   "metadata": {
    "editable": true,
    "slideshow": {
     "slide_type": ""
    },
    "tags": [
     "reader-only"
    ]
   },
   "source": [
    "Agents respond to traces left in the environment by others. These traces often bring fitness benefits, reinforcing behaviours until they become widespread in a population.\n",
    "\n",
    "A threshold for a task is the amount of stimulus (e.g. pheromone) needed to trigger it. For ants, this might mean following a foraging path. Different workers may have different thresholds, but once crossed, positive feedback strengthens the path.\n",
    "\n",
    "Sound familiar? It’s just like a neuron firing once enough input accumulates. Because of this analogy, ants are often used to study the brain. (See [Deborah Gordon’s TED talk](https://www.ted.com/talks/deborah_gordon_what_ants_teach_us_about_the_brain_cancer_and_the_internet)).\n",
    "\n",
    "The concept of stigmergy was formalised in 1959 by Pierre-Paul Grassé to explain nest-building in termites. Termites roll pheromone-soaked mudballs and place them randomly or near existing ones, which self-organises into pillars, tunnels, and chambers — a bit like how Wikipedia grows!\n",
    "\n",
    "For scale, check out [this video of a giant abandoned ant colony](https://www.youtube.com/watch?v=lFg21x2sj-M&t=180s)."
   ]
  },
  {
   "cell_type": "markdown",
   "id": "e454bccc",
   "metadata": {
    "editable": true,
    "slideshow": {
     "slide_type": "subslide"
    },
    "tags": [
     "slides"
    ]
   },
   "source": [
    "## Shortest paths\n",
    "\n",
    "Together many ants develop a complex network of pheromone trails, which acts as a shared external memory for the colony.\n",
    "\n",
    "This allows ants to find shortest paths:\n",
    "\n",
    "![](images/Double_bridge_experiment_ants.png)\n",
    "\n",
    "Fig from [here](https://www.ijcaonline.org/archives/volume179/number16/saxena-2018-ijca-916224.pdf)\n",
    "\n",
    "Note that it is not necessary that an ant actually travels the shortest route... the shortest route can be built from the strongest segments of the best solutions."
   ]
  },
  {
   "cell_type": "markdown",
   "id": "00643c8b-d0ca-4fb0-9c75-e7f34ff9d318",
   "metadata": {
    "editable": true,
    "slideshow": {
     "slide_type": ""
    },
    "tags": [
     "reader-only"
    ]
   },
   "source": [
    "This phenomenon was first demonstrated in the \"double‑bridge\" experiment, described in The Self‑Organizing Exploratory Pattern of the Argentine Ant by Deneubourg et al. (1990), where ants collectively resolved which bridge to use between a nest and food source by reinforcing one path through pheromone-laying. \n",
    "\n",
    "This elegant emergence of collective path selection inspired Marco Dorigo’s development of Ant Colony Optimisation (ACO) algorithms in the early 1990s."
   ]
  },
  {
   "cell_type": "markdown",
   "id": "c1613ebc",
   "metadata": {
    "editable": true,
    "slideshow": {
     "slide_type": ""
    },
    "tags": [
     "reader-only"
    ]
   },
   "source": [
    "### The travelling salesman problem\n",
    "*\"Given some cities and the distances between every pair of cities, what is the most efficient route one should take to visit each city exactly once and return to the starting city?\"* \n",
    "\n",
    "This is an NP-hard problem in combinatorial optimisation and is highly relevant in theoretical computer science and many other fields."
   ]
  },
  {
   "cell_type": "markdown",
   "id": "3110c932",
   "metadata": {
    "editable": true,
    "slideshow": {
     "slide_type": "subslide"
    },
    "tags": [
     "slides"
    ]
   },
   "source": [
    "## Lane formation \n",
    "Ants are great commuters... they don't get stuck in traffic.\n",
    "\n",
    "You might be tempted to think that it is because they aren't bound to the roads but they sort of are... ants create the 'roads': wider roads take effort and pheromone gets weaker as its spread out\n",
    "\n",
    "They form 3 distinct traffic lanes between the nest and food source that minimise congestion and prioritise food carrying. \n",
    "\n",
    "The rule is simple... if you aren't carrying food you turn with 50% probability to the left/right"
   ]
  },
  {
   "cell_type": "markdown",
   "id": "85c7534a-2d04-4b05-90de-0c144b3d98f4",
   "metadata": {
    "editable": true,
    "slideshow": {
     "slide_type": "subslide"
    },
    "tags": [
     "slides"
    ]
   },
   "source": [
    "### Data\n",
    "\n",
    "![](images/Couzin_lane_formation_data.png)\n",
    "\n",
    "Fig: ['Self-organized lane formation and optimized traffic flow in army ants', Couzin et al.](https://www.ncbi.nlm.nih.gov/pmc/articles/PMC1691225/). This is an agent-based model.\n",
    "\n"
   ]
  },
  {
   "cell_type": "markdown",
   "id": "8c83b869-2174-4ef5-b472-ba1fb8ab4d48",
   "metadata": {
    "editable": true,
    "slideshow": {
     "slide_type": "subslide"
    },
    "tags": [
     "slides"
    ]
   },
   "source": [
    "### Models\n",
    "Repulsion + pheromone:\n",
    "\n",
    "![](images/Couzin_lane_formation_model.png)"
   ]
  },
  {
   "cell_type": "markdown",
   "id": "d394eb4b-474f-49ec-bd6a-b0eda2ad8ee1",
   "metadata": {
    "editable": true,
    "slideshow": {
     "slide_type": ""
    },
    "tags": [
     "reader-only"
    ]
   },
   "source": [
    "There are several other models that also explore this behaviour, e.g. this cellular automata:\n",
    "\n",
    "![](images/Chowdhury_lane_formation.png)\n",
    "\n",
    "Fig: ['Flux-density relation for traffic of army ants in a 3-lane bi-directional trail', Pradhan et al.](https://www.sciencedirect.com/science/article/pii/S0378437120309626.) This is a cellular automata model."
   ]
  },
  {
   "cell_type": "markdown",
   "id": "9120f58a",
   "metadata": {
    "editable": true,
    "slideshow": {
     "slide_type": "subslide"
    },
    "tags": [
     "slides"
    ]
   },
   "source": [
    "## Lesson: Be like ants\n",
    "<div style=\"margin: 1.5em 0; border-right: 4px solid #888; padding-right: 1em; text-align: right;\">\n",
    "  <div style=\"font-style: italic; font-family: 'Comic Neue', 'Segoe Script', cursive; font-size: 1.2em;\">\n",
    "    The wonderful thing about being an ant is that they're working together for the benefit of the colony... The problem with us humans is that we tend to be a little selfish.  </div>\n",
    "  <div style=\"font-style: normal; font-size: 0.95em; margin-top: 0.5em;\">\n",
    "    — Couzin\n",
    "  </div>\n",
    "</div>"
   ]
  },
  {
   "cell_type": "markdown",
   "id": "21d0f04d-252b-47de-9bf3-ab9106d6a30c",
   "metadata": {
    "editable": true,
    "slideshow": {
     "slide_type": ""
    },
    "tags": [
     "reader-only"
    ]
   },
   "source": [
    "People don't always follow the rules and are rarely thinking about how hitting the brakes or making an unnecessary lane change could impact drivers that are far behind them.\n",
    "\n",
    "Take the driving out of our hands and say give it to driverless cars and we may see traffic improve substantially (until it is commercialised)."
   ]
  },
  {
   "cell_type": "markdown",
   "id": "9133eb16",
   "metadata": {
    "editable": true,
    "slideshow": {
     "slide_type": "subslide"
    },
    "tags": [
     "slides"
    ]
   },
   "source": [
    "## Lesson: Don't be like ants\n",
    "Ants aren’t smart. Ant colonies are. \n",
    "\n",
    "If ants are separated from the wider system dumb behviours can emerge:"
   ]
  },
  {
   "cell_type": "markdown",
   "id": "d2bdfcba-0786-4491-9d64-4064902b0a4c",
   "metadata": {
    "editable": true,
    "slideshow": {
     "slide_type": ""
    },
    "tags": [
     "reader-only"
    ]
   },
   "source": [
    "These ants have been separated from the main foraging party and the pheromonal communication has broken down. They are now following each other, forming a continuously rotating circle, a 'mill', commonly referred to as a 'death spiral' as these ants will likely exhaust themselves and die.\n",
    "\n",
    "It's an extreme illustration of the obligate collective foraging behaviour characteristic of army ants, which are ineffective at foraging solitarily.\n",
    "\n",
    "The mill in this video is quite small but the first reported was supposedly ~370m in circumference and the ants took two and a half hours to make one revolution (1921, William Beebe)."
   ]
  },
  {
   "cell_type": "code",
   "execution_count": 3,
   "id": "07d472be-e1a4-4fcb-bd49-5bbe32ac2d63",
   "metadata": {
    "editable": true,
    "slideshow": {
     "slide_type": "fragment"
    },
    "tags": [
     "hide-input",
     "slides"
    ]
   },
   "outputs": [
    {
     "data": {
      "image/jpeg": "[encoded data removed]",
      "text/html": [
       "\n",
       "        <iframe\n",
       "            width=\"400\"\n",
       "            height=\"300\"\n",
       "            src=\"https://www.youtube.com/embed/LEKwQxO4EZU\"\n",
       "            frameborder=\"0\"\n",
       "            allowfullscreen\n",
       "            \n",
       "        ></iframe>\n",
       "        "
      ],
      "text/plain": [
       "<IPython.lib.display.YouTubeVideo at 0x1042bd350>"
      ]
     },
     "execution_count": 3,
     "metadata": {},
     "output_type": "execute_result"
    }
   ],
   "source": [
    "from IPython.display import YouTubeVideo\n",
    "YouTubeVideo(\"LEKwQxO4EZU\", width=400)\n",
    "    \n",
    "# https://www.youtube.com/watch?v=LEKwQxO4EZU"
   ]
  },
  {
   "cell_type": "markdown",
   "id": "c401748e-5140-4503-90d5-63fce6a769e7",
   "metadata": {
    "editable": true,
    "slideshow": {
     "slide_type": ""
    },
    "tags": [
     "reader-only"
    ]
   },
   "source": [
    "Death spirals have been reproduced in laboratories and simulations.\n",
    "\n",
    "This milling behaviour is also seen in fish and caterpillars."
   ]
  },
  {
   "cell_type": "markdown",
   "id": "ce2ba53c",
   "metadata": {
    "editable": true,
    "slideshow": {
     "slide_type": "slide"
    },
    "tags": [
     "slides"
    ]
   },
   "source": [
    "# Biomimicry (biomimetics)\n",
    "From \"*bio*\" (life) and \"*mimicry*\" (to imitate or replicate).\n",
    "\n",
    "Nature's systems have had millions, if not billions, of years to evolve in order to adapt to their environments with energy efficient and sustainable solutions.\n",
    "\n",
    "\n",
    "But this is a little misleading because it's not about copying, it's about *inspiration* and using the principles that nature uses for *function*.\n",
    "\n",
    "The inspiration can be drawn from the levels of **form**, or **process**, or **system**."
   ]
  },
  {
   "cell_type": "markdown",
   "id": "a0dc9d0b-60ea-4ca6-be90-1cde8e75f915",
   "metadata": {
    "editable": true,
    "slideshow": {
     "slide_type": ""
    },
    "tags": [
     "reader-only"
    ]
   },
   "source": [
    "A classic example of biomimicry is velcro (a fastening system using hooks and loops) that was inspired by the way burrs stick to animal fur. Velcro doesn't look like a burr or like a dog, yet it perfectly recreates their physics to provide strong adhesion.\n",
    "\n",
    "![](images/Velcro_burrs.png)\n",
    "\n",
    "If you're wanting some inspiration for future biomimicry see [here](https://asknature.org)."
   ]
  },
  {
   "cell_type": "markdown",
   "id": "d803c90b-c302-48c6-9a0a-6157492ea037",
   "metadata": {
    "editable": true,
    "slideshow": {
     "slide_type": ""
    },
    "tags": [
     "reader-only"
    ]
   },
   "source": [
    "<div style=\"border-left: 4px solid #1e70bf; padding: 0.75em; background-color: #eaf3fb; margin-bottom: 1em;\">\n",
    "  <strong>Pause and consider:</strong><br>\n",
    "  What exactly is being copied by the velcro: form, process, system, or something else?\n",
    "</div>"
   ]
  },
  {
   "cell_type": "markdown",
   "id": "af3b48bb-8b3a-41c3-899b-389c3bd22d40",
   "metadata": {
    "editable": true,
    "slideshow": {
     "slide_type": ""
    },
    "tags": [
     "reader-only"
    ]
   },
   "source": [
    "``` {toggle}\n",
    "Velcro is classic process-inspired biomimicry. \n",
    "\n",
    "The inspiration comes from the functional principle of hooks catching in loops.\n",
    "\n",
    "The inventor, George de Mestral, didn’t copy the burr’s form (it doesn’t look like a burr), nor did he design a whole ecosystem-like system around it. He replicated the mechanism — the hook-and-loop fastening process.\n",
    "\n",
    "Note that where the inspiration for something has come from isn't always this cut and dry. There are many examples that sit between form, process, and system or across several of them.\n",
    "```"
   ]
  },
  {
   "cell_type": "markdown",
   "id": "97cf993a-df60-4dc5-abd1-16cf9b4aa529",
   "metadata": {
    "editable": true,
    "slideshow": {
     "slide_type": "subslide"
    },
    "tags": [
     "slides"
    ]
   },
   "source": [
    "## Form (shape/structure)\n",
    "\n",
    "Drawing inspiration from the *appearance or geometry* of nature.\n",
    "\n",
    "i.e. copy *what it looks like* to solve a problem.\n",
    "\n",
    "![](images/Train_kingfisher.png)"
   ]
  },
  {
   "cell_type": "markdown",
   "id": "532f7b24-a0d8-4b85-b568-3dd3584f9ad7",
   "metadata": {
    "editable": true,
    "slideshow": {
     "slide_type": ""
    },
    "tags": [
     "reader-only"
    ]
   },
   "source": [
    "e.g.: The streamlined nose of the Japanese Shinkansen bullet train was inspired by the beak of the kingfisher. The form reduces air resistance and noise."
   ]
  },
  {
   "cell_type": "markdown",
   "id": "8c00332c-a381-4132-8900-e77a840bf19b",
   "metadata": {
    "editable": true,
    "slideshow": {
     "slide_type": "subslide"
    },
    "tags": [
     "slides"
    ]
   },
   "source": [
    "## Process (behaviour/mechanism)\n",
    "\n",
    "Drawing inspiration from *how something works in nature*. \n",
    "\n",
    "i.e. copy *what it does/how it functions* at the mechanism level.\n",
    "\n",
    "![](images/Lotus_leaf.png)"
   ]
  },
  {
   "cell_type": "markdown",
   "id": "3ac2964f-25ef-4bd2-8eea-e14d0b14b3f5",
   "metadata": {
    "editable": true,
    "slideshow": {
     "slide_type": ""
    },
    "tags": [
     "reader-only"
    ]
   },
   "source": [
    "e.g.: The self-cleaning property of lotus leaves inspired \"Lotus Effect\" paints and coatings. Instead of copying the leaf shape, engineers mimicked the *micro-structured surface process* that repels water and dirt."
   ]
  },
  {
   "cell_type": "markdown",
   "id": "575d20c2-47dc-4a42-a4da-b1320e84e318",
   "metadata": {
    "editable": true,
    "slideshow": {
     "slide_type": "subslide"
    },
    "tags": [
     "slides"
    ]
   },
   "source": [
    "## System (relationships/ecology)\n",
    "\n",
    "Drawing inspiration from *interconnected ecosystems and cycles*. \n",
    "\n",
    "i.e. copy *how it is embedded in a network of relationships*.\n",
    "\n",
    "![](images/Kalundborg_Eco-Industrial_Park_Symbiosis_Map.jpg)"
   ]
  },
  {
   "cell_type": "markdown",
   "id": "260f0297-d7f9-47ee-a717-f4b57aee2d07",
   "metadata": {
    "editable": true,
    "slideshow": {
     "slide_type": ""
    },
    "tags": [
     "reader-only"
    ]
   },
   "source": [
    "e.g.: Industrial symbiosis in Kalundborg, Denmark, where waste from one factory (e.g. steam, water, gypsum) becomes input for another, is inspired by natural ecosystems where nothing is wasted and outputs cycle into inputs."
   ]
  },
  {
   "cell_type": "markdown",
   "id": "e99e6df2",
   "metadata": {
    "editable": true,
    "slideshow": {
     "slide_type": "slide"
    },
    "tags": [
     "slides"
    ]
   },
   "source": [
    "## Ant colony optimisation (ACO)\n",
    "We want to mimic the ants' ability to problem solve.\n",
    "\n",
    "This is a class of algorithm inspired by the pheromone laying behaviour and communication of real ants.\n",
    "\n",
    "The first ACO, called the '**Ant System**' by M. Dorigo was designed to solve the travelling salesman problem but they have since been used for so much more!\n",
    "- scheduling\n",
    "- image processing and edge detection\n",
    "- bankruptcy prediction\n",
    "- protein folding\n",
    "- ..."
   ]
  },
  {
   "cell_type": "markdown",
   "id": "3ce0ba8f-5293-47cc-9a68-300a4668b909",
   "metadata": {
    "editable": true,
    "slideshow": {
     "slide_type": ""
    },
    "tags": [
     "reader-only"
    ]
   },
   "source": [
    "The basic mechanism is for agents to deposit \"**virtual pheromones**\" along paths (aka solutions in say a parameter space) that appear promising as they navigate the search space probabilistically.\n",
    "\n",
    "There are then two key inputs to decision-making of an agent:\n",
    "1. individual component \n",
    "2. social component i.e. a motivation to comply with social norms"
   ]
  },
  {
   "cell_type": "markdown",
   "id": "45669a33",
   "metadata": {
    "editable": true,
    "slideshow": {
     "slide_type": "subslide"
    },
    "tags": [
     "slides"
    ]
   },
   "source": [
    "ACO is typically applied to path finding through *graphs* (networks).\n",
    "\n",
    "To apply an ant colony algorithm, the optimisation problem needs to be converted into the problem of finding the shortest path on a weighted graph.\n",
    "\n",
    "But, it's a bit vague and there is also a tendency to classify any algorithm that's based on an exchange of information between agents *via the environment* in this way as ACO."
   ]
  },
  {
   "cell_type": "markdown",
   "id": "00b42943",
   "metadata": {
    "editable": true,
    "slideshow": {
     "slide_type": "subslide"
    },
    "tags": [
     "slides"
    ]
   },
   "source": [
    "## So how would you model this?"
   ]
  },
  {
   "cell_type": "markdown",
   "id": "04b8025f-e3c2-411b-b70f-5e4ea9df6d1e",
   "metadata": {
    "editable": true,
    "slideshow": {
     "slide_type": "subslide"
    },
    "tags": [
     "slides"
    ]
   },
   "source": [
    "**Initialse**:\n",
    "\n",
    "- $N$ agents at the 'nest', where $i$ labels the $i$th agent.\n",
    "- $F$ food sources\n",
    "- the road network agents can travel along connecting the nest to the food, $G=(V,E)$. "
   ]
  },
  {
   "cell_type": "markdown",
   "id": "a9da65e1",
   "metadata": {
    "editable": true,
    "slideshow": {
     "slide_type": "subslide"
    },
    "tags": [
     "slides"
    ]
   },
   "source": [
    "**Generate solutions**:\n",
    "\n",
    "1. consider each edge $e\\in E$ and determine its:\n",
    "    - personal 'attractiveness' (e.g. $1/\\text{length}$) $\\alpha_e$, and\n",
    "    - the corresponding pheromone level $\\beta_e$ "
   ]
  },
  {
   "cell_type": "markdown",
   "id": "85834089-40a4-4b42-8f37-16f1a955e5e7",
   "metadata": {
    "editable": true,
    "slideshow": {
     "slide_type": ""
    },
    "tags": [
     "reader-only"
    ]
   },
   "source": [
    "These are like the **local** and **global** influences respectively (global influence is the new part here, everything up until now has been entirely local influence). $\\alpha$ and $\\beta$ control the balance between **exploration** (selecting edges that could be good but no strong evidence for it) and **exploitation** (selecting the shortest edges with a lots of pheromone) respectively."
   ]
  },
  {
   "cell_type": "markdown",
   "id": "b6d74719-ee7c-4ed0-821a-a530a3e3a0e3",
   "metadata": {
    "editable": true,
    "slideshow": {
     "slide_type": "fragment"
    },
    "tags": [
     "slides"
    ]
   },
   "source": [
    "2. compute the probability that agent $i$ moves along each edge $e$ by applying some combination of these two considerations. e.g.:\n",
    "    \n",
    "$$\n",
    "p_{e_i}=\\frac{\\alpha_e^a\\beta_e^b}{\\sum_e \\alpha_e^a\\beta_e^b}\n",
    "$$\n",
    "\n",
    "3. repeat until destination is reached"
   ]
  },
  {
   "cell_type": "markdown",
   "id": "fb79a779",
   "metadata": {
    "editable": true,
    "slideshow": {
     "slide_type": "subslide"
    },
    "tags": [
     "slides"
    ]
   },
   "source": [
    "**Update pheromone**:\n",
    "(typically done globally once entire solution has been realised) \n",
    "\n",
    "e.g.:\n",
    "      \n",
    "$$\n",
    "\\beta_e \\leftarrow (1-\\rho )\\beta _{e}+\\sum _{i}^{N}\\Delta \\beta _{e_i}\n",
    "$$\n",
    "\n",
    "i.e. the pheromone on the $e$th edge is updated with the amount of pheromone deposited by the $i$th ant, $\\Delta \\beta_{e_i}$,  $\\rho$  is the pheromone evaporation coefficient, $N$ is the number of ants. "
   ]
  },
  {
   "cell_type": "markdown",
   "id": "687fdd80",
   "metadata": {
    "editable": true,
    "slideshow": {
     "slide_type": "slide"
    },
    "tags": [
     "slides"
    ]
   },
   "source": [
    "## Other systems inspired by nature...\n",
    "\n",
    "Some examples:\n",
    "- Bat algorithm \n",
    "- Artificial fish swarm algorithm \n",
    "- Cuckoo search algorithm \n",
    "- Firefly algorithm \n",
    "- Flower pollination algorithm \n",
    "- Artificial bee colony optimisation \n",
    "- Wolf-based search algorithm \n",
    "- Bird's-eye view\n",
    "- Slime mould\n",
    "- ..."
   ]
  },
  {
   "cell_type": "markdown",
   "id": "04c038e0-a932-42a7-bef3-03b4c1d653a0",
   "metadata": {
    "editable": true,
    "slideshow": {
     "slide_type": "slide"
    },
    "tags": [
     "slides"
    ]
   },
   "source": [
    "# Optimisation\n",
    "A process concerned with finding the best available solution(s).\n",
    "\n",
    "We are almost always trying to optimise something e.g. maximise profit, maximise efficiency, minimise energy consumption."
   ]
  },
  {
   "cell_type": "markdown",
   "id": "7cc52d41-7dc2-40cf-a349-9db0d19da73f",
   "metadata": {
    "editable": true,
    "slideshow": {
     "slide_type": "subslide"
    },
    "tags": [
     "slides"
    ]
   },
   "source": [
    "Generically:\n",
    "\n",
    "$$\n",
    "\\min_{x\\in \\mathbb{R}^n} f_i(x), \\quad (i=1,2,\\ldots, M)\n",
    "$$"
   ]
  },
  {
   "cell_type": "markdown",
   "id": "0380a626-9d28-4976-926f-7ecae5d697c5",
   "metadata": {
    "editable": true,
    "slideshow": {
     "slide_type": "fragment"
    },
    "tags": [
     "slides"
    ]
   },
   "source": [
    "**The objective function**, $f_i(x)$:\n",
    "- is the function that needs to be minimised (or maximised)\n",
    "- is the cost for objective $i$, where there are $M$ objective functions\n",
    "- if $M=1$ then this is a *'single objective'* optimisation, while $M>1$ is a *'multi-objective'* optimisation\n",
    "- if the objective function (and constraints) are linear then we speak of 'linear programming'"
   ]
  },
  {
   "cell_type": "markdown",
   "id": "bacf3d8f-98b2-4bfb-b043-581d76cdfc05",
   "metadata": {
    "editable": true,
    "slideshow": {
     "slide_type": "subslide"
    },
    "tags": [
     "slides",
     "remove-cell"
    ]
   },
   "source": [
    "$$\n",
    "\\min_{x\\in \\mathbb{R}^n} f_i(x), \\quad (i=1,2,\\ldots, M)\n",
    "$$"
   ]
  },
  {
   "cell_type": "markdown",
   "id": "a69fbf4f-a8a9-4696-a989-3a65c51d21e1",
   "metadata": {
    "editable": true,
    "slideshow": {
     "slide_type": "fragment"
    },
    "tags": [
     "slides"
    ]
   },
   "source": [
    "**The design variables**, $x$: \n",
    "- $n$ input parameters to be 'guessed' by the optimisation algorithm\n",
    "- these are the factors that affect the outcome of the objective function\n",
    "- $\\mathbb{R}^n$ is the space spanned by the decision variables (the *'search space'*)\n",
    "- variables can be continuous or restricted to discrete values"
   ]
  },
  {
   "cell_type": "markdown",
   "id": "0162ba80-d346-4ca2-9944-74f8618b951c",
   "metadata": {
    "editable": true,
    "slideshow": {
     "slide_type": ""
    },
    "tags": [
     "reader-only"
    ]
   },
   "source": [
    "**The constraints**:\n",
    "- there may be limitations or restrictions (such as equalities or inequalities) within which the optimisation must occur:\n",
    "  \n",
    "$$\n",
    "h_j(x)=0, \\quad (j=1,2, \\dots, J)\n",
    "$$\n",
    "\n",
    "$$\n",
    "g_k(x) \\leq 0, \\quad (k=1,2,\\ldots, K)\n",
    "$$\n",
    "\n",
    "- the set of all possible solutions that satisfy the constraints is the *feasible region* \n",
    "- if there are no constraints (e.g. $J=0$ and $K=0$) then this is an *'unconstrained'* problem and $x\\in \\mathbb{R}^n$ (while if $J>0$ or $K>0$ then it is a *'constrained'* problem)\n",
    "- if any of $f_i$, $h_j$ and $g_k$ are nonlinear then the problem is classified as a nonlinear optimisation problem"
   ]
  },
  {
   "cell_type": "markdown",
   "id": "275c3eaa-ceeb-477d-bfeb-955e947549c0",
   "metadata": {
    "editable": true,
    "slideshow": {
     "slide_type": "subslide"
    },
    "tags": [
     "slides"
    ]
   },
   "source": [
    "## Global vs. Local Optimisation:\n",
    "\n",
    "**Local Optimisation:** Finding the best solution within a specific, possibly limited region of the feasible space\n"
   ]
  },
  {
   "cell_type": "markdown",
   "id": "a60c5e4e-d0d6-42bc-a3db-0f143c33f09e",
   "metadata": {
    "editable": true,
    "slideshow": {
     "slide_type": ""
    },
    "tags": [
     "reader-only"
    ]
   },
   "source": [
    "- local optima are solutions that are optimal within a neighbouring set of solutions, but not necessarily across the entire space\n",
    "- less computationally intensive\n",
    "- gradient descent, Newton’s method, simplex method,..."
   ]
  },
  {
   "cell_type": "markdown",
   "id": "fbf371e4-f998-4f46-8711-88bcd0e1ff79",
   "metadata": {
    "editable": true,
    "slideshow": {
     "slide_type": "fragment"
    },
    "tags": [
     "slides"
    ]
   },
   "source": [
    "**Global Optimisation:** Finding the absolute best solution across the entire feasible region\n"
   ]
  },
  {
   "cell_type": "markdown",
   "id": "e1f3b3f4-d62a-46bc-b7d3-98032d180238",
   "metadata": {
    "editable": true,
    "slideshow": {
     "slide_type": ""
    },
    "tags": [
     "reader-only"
    ]
   },
   "source": [
    "- often more complex and computationally intensive because the algorithm must explore the entire search space\n",
    "- particularly important for non-convex functions, which may have multiple local optima\n",
    "- simulated annealing, genetic algorithms, branch and bound, ..., **particle swarm optimisation** "
   ]
  },
  {
   "cell_type": "markdown",
   "id": "e93796c1-4ed9-4246-961e-3a85157ee8ce",
   "metadata": {
    "editable": true,
    "slideshow": {
     "slide_type": ""
    },
    "tags": [
     "reader-only"
    ]
   },
   "source": [
    "Some categorisations...\n",
    "\n",
    "- Deterministic e.g. hill-climbing vs Stochastic e.g. particle swarm optimisation (PSO)\n",
    "\n",
    "- Single agent e.g. simulated annealing vs population-based e.g. PSO\n",
    " \n",
    "- (meta-)heuristics e.g. PSO vs bio/nature-inspired based on a successful system e.g. genetic algorithms\n",
    "    - *Heuristics* are rule-of-thumb or intuitive strategies used to quickly find good solutions to problems. They are typically designed for specific problem instances or problem types\n",
    "    - *Metaheuristics* are higher-level strategies that guide the search for solutions in a broader, more generic manner. They are not tied to specific problem structures and can be applied to a wide range of optimisation problems"
   ]
  },
  {
   "cell_type": "markdown",
   "id": "7ca7bd3e-cc3a-4e61-9d70-7a4de98db6d6",
   "metadata": {
    "editable": true,
    "slideshow": {
     "slide_type": "slide"
    },
    "tags": [
     "slides"
    ]
   },
   "source": [
    "# Swarm optimisation\n",
    "Swarm optimisation is an iterative process carried out by a collective of interacting individuals.\n",
    "\n",
    "It continues until certain termination criteria are met, which could include a maximum number of iterations, a specific level of convergence, or a predetermined threshold for the fitness score.\n",
    "\n",
    "We will cover the basics with respect to a particular swarm optimiser: particle swarm optimisation (PSO)."
   ]
  },
  {
   "cell_type": "markdown",
   "id": "03776ead-c42a-4e00-8b7b-106d0066d038",
   "metadata": {
    "editable": true,
    "slideshow": {
     "slide_type": "subslide"
    },
    "tags": [
     "slides"
    ]
   },
   "source": [
    "## Particle swarm optimisation (PSO)\n",
    "\n",
    "First intended for simulating social behaviour as a stylised representation of the movement of organisms in a bird flock or fish school.\n",
    "\n",
    "Kennedy and Eberhart included a roost, or, more generally, an attraction point (e.g, a prey) in a simplified Boids-like simulation, such that each agent:\n",
    "- is attracted to the location of the roost\n",
    "- remembers where it was closer to the roost\n",
    "- shares information with the entire flock about its closest location to the roost (local-neighbourhood variants came later.)"
   ]
  },
  {
   "cell_type": "markdown",
   "id": "7199d605-5c85-4d57-9a02-326f0ff27708",
   "metadata": {
    "editable": true,
    "slideshow": {
     "slide_type": ""
    },
    "tags": [
     "reader-only"
    ]
   },
   "source": [
    "Eventually (almost) all agents landed at the roost.\n",
    "\n",
    "In this version, the attractor was fixed in space and distance to it was measurable: every agent knew where to fly, and the flock just converged. That’s why this version was only ever a metaphor for flocking, not an optimisation algorithm. In the original "
   ]
  },
  {
   "cell_type": "markdown",
   "id": "204ea4e5-394b-4b0b-b7db-75b245de629c",
   "metadata": {
    "editable": true,
    "slideshow": {
     "slide_type": "subslide"
    },
    "tags": [
     "slides"
    ]
   },
   "source": [
    "They then flipped the set up such that:\n",
    "- the “roost” is no longer fixed. Instead, the best positions discovered so far acted as *emergent attractors*. \n",
    "- the quality of agent's position was evaluated by a fitness function on the optimisation landscape.\n",
    "- Each particle was pulled toward its own best position so far (pbest) and the best position found by the swarm (gbest)."
   ]
  },
  {
   "cell_type": "markdown",
   "id": "c7434849-07f8-4563-9fcd-411bcd4a9fbe",
   "metadata": {
    "editable": true,
    "slideshow": {
     "slide_type": ""
    },
    "tags": [
     "reader-only"
    ]
   },
   "source": [
    "\n",
    "The novelty of PSO was not that agents move toward an attractor (that part is obvious). The key insight was removing the fixed attractor and *letting swarm dynamics create self-organising search* such that the “attractor” is no longer fixed but emerges dynamically from the swarm’s memory.\n",
    "\n",
    "This shift transformed a flocking simulation into a general optimisation algorithm."
   ]
  },
  {
   "cell_type": "markdown",
   "id": "00c3a207-4eed-4e3f-abe8-c63c95ba102b",
   "metadata": {
    "editable": true,
    "slideshow": {
     "slide_type": "subslide"
    },
    "tags": [
     "slides"
    ]
   },
   "source": [
    "\n",
    "The [PSO algorithm](https://ieeexplore.ieee.org/document/488968) uses only basic mathematical operators and is computationally inexpensive in terms of both memory requirements and speed\n",
    "\n",
    ">*\"very simple concept, and paradigms can be implemented in a few lines of computer code.\" - Kennedy et al.*\n",
    "    \n",
    "It has undergone continued development since it was first proposed in 1995 and continues to be used today."
   ]
  },
  {
   "cell_type": "markdown",
   "id": "bb5fc162-6be2-4839-bfa3-f619dcd024f5",
   "metadata": {
    "editable": true,
    "slideshow": {
     "slide_type": "subslide"
    },
    "tags": [
     "slides"
    ]
   },
   "source": [
    "### The search space \n",
    "The set of possible solutions is the **search/solution space**, $X_n \\subseteq \\mathbb{R}^n $.\n",
    "\n",
    "Each particle (aka agent) has a state (its position), $x\\in X_n$, that represents a solution to the optimisation problem."
   ]
  },
  {
   "cell_type": "markdown",
   "id": "efee329f-5045-4530-80bf-f8b4146fafbc",
   "metadata": {
    "editable": true,
    "slideshow": {
     "slide_type": ""
    },
    "tags": [
     "reader-only"
    ]
   },
   "source": [
    "Agents move through the search space (which could be abstract e.g. a position in it could represent a set of variables or parameters.), adjusting their positions based on their own experience and the experience of neighbouring particles."
   ]
  },
  {
   "cell_type": "markdown",
   "id": "90374db7-a0fc-4092-a4a9-62522f88c799",
   "metadata": {
    "editable": true,
    "slideshow": {
     "slide_type": "subslide"
    },
    "tags": [
     "slides"
    ]
   },
   "source": [
    "### Fitness function (aka objective function, cost function)\n",
    "\n",
    "The fitness function provides the means to objectively compare different candidate solutions and select the best ones for further exploration. \n",
    "\n",
    "The **'fitness'** is then the output of the fitness function for a given potential solution, representing the quality of the agent's position on the optimisation landscape. "
   ]
  },
  {
   "cell_type": "markdown",
   "id": "fb26ca53-99ea-484f-a464-75ff656b4e7a",
   "metadata": {
    "editable": true,
    "slideshow": {
     "slide_type": ""
    },
    "tags": [
     "reader-only"
    ]
   },
   "source": [
    "\n",
    "The algorithm aims to find the solution(s) with the highest fitness.\n",
    "\n",
    "Fitness functions are specific to *the particular problem* i.e. it is designed using domain knowledge and informs about how well a solution meets the objectives. "
   ]
  },
  {
   "cell_type": "markdown",
   "id": "d709e8f4-0030-4683-a35f-7d0eabc47e15",
   "metadata": {
    "editable": true,
    "slideshow": {
     "slide_type": ""
    },
    "tags": [
     "reader-only"
    ]
   },
   "source": [
    "\n",
    "This *could* be a convex function, which would be nice because:\n",
    "- we wouldn't have to worry about getting stuck in local optima (convex functions are well-behaved because any local minimum is also a unique global minimum and there are many efficient algorithms for finding optimal solutions)\n",
    "- less sensitive to initialisation and parameter choices\n",
    "- reliable for a wide range of practical applications\n",
    "\n",
    "But we're rarely dealing with well-behaved convex functions and will often have multiple local optima or complex constraints.\n",
    "\n",
    "Swarm optimisation is comparatively good at avoiding premature converge to local minima in multimodal problem optimisation and typically balance fast converge speed with an ability to jump out of local optima."
   ]
  },
  {
   "cell_type": "markdown",
   "id": "4d00af5e-42ad-473d-83c8-c3567edcdd76",
   "metadata": {
    "editable": true,
    "slideshow": {
     "slide_type": "subslide"
    },
    "tags": [
     "slides"
    ]
   },
   "source": [
    "### Moving through the search space\n",
    "\n",
    "In PSO agents move through the search space with a velocity that is dynamically adjusted according to its own and its neighbours’ historical behaviour. In particular, movement is influenced by:\n",
    "- the best state this individual has found so far (pbest)\n",
    "- the best state the flock found so far (gbest)\n",
    "\n",
    "i.e. an agent 'learns' from itself and others."
   ]
  },
  {
   "cell_type": "markdown",
   "id": "abb645ae-4682-4e54-a526-554306b747ff",
   "metadata": {
    "editable": true,
    "slideshow": {
     "slide_type": ""
    },
    "tags": [
     "reader-only"
    ]
   },
   "source": [
    "In other swarm algorithms different combinations of the information shared and received are used, e.g.:\n",
    "- the local or global best solution (position) or some combination of multiple best solutions, e.g. Bat Algorithm, Artificial Bee Colony, Wolf-based search\n",
    "- a subset or combination of all of better solutions, e.g. Firefly algorithm\n",
    "- a combination of all solutions (centroid), e.g. Artificial fish swarm algorithm"
   ]
  },
  {
   "cell_type": "markdown",
   "id": "bfeacb53-fa34-4113-b0d8-be10a10a41c3",
   "metadata": {
    "editable": true,
    "slideshow": {
     "slide_type": "subslide"
    },
    "tags": [
     "slides"
    ]
   },
   "source": [
    "### Exploration and Exploitation\n",
    "\n",
    "Successful optimisation requires a balance between *exploration and exploitation* within the search space.\n",
    "\n",
    "**Exploration:** searching for new, potentially better solutions\n",
    "\n",
    "**Exploitation:** focusing on known, promising solutions"
   ]
  },
  {
   "cell_type": "markdown",
   "id": "81141b3a-a224-420e-b68b-dd19913e511e",
   "metadata": {
    "editable": true,
    "slideshow": {
     "slide_type": ""
    },
    "tags": [
     "reader-only"
    ]
   },
   "source": [
    "\n",
    "Generally speaking, an algorithm should have a more exploration and less exploitation ability at first. Exploration can then be be decreased, and exploitation increased to refine candidate solutions over the time."
   ]
  },
  {
   "cell_type": "markdown",
   "id": "db6e0e86-0ce4-4d2b-b436-c0fe00f7c59f",
   "metadata": {
    "editable": true,
    "slideshow": {
     "slide_type": "subslide"
    },
    "tags": [
     "slides"
    ]
   },
   "source": [
    "### Forces\n",
    "\n",
    "Velocity is a linear combination of personal inertia (exploration) and influences/biases (both personal and social), which act to enforce social norms and what has been good so far:\n",
    "\n",
    "$$\n",
    "v_i(t+1)=wv_i(t) + p U_1 (x_{i_b}-x_i(t)) + s U_2(x_{g_b}-x_i(t))\n",
    "$$\n"
   ]
  },
  {
   "cell_type": "markdown",
   "id": "cd589720-d985-4f23-b989-ce48bfe67b0e",
   "metadata": {
    "editable": true,
    "slideshow": {
     "slide_type": ""
    },
    "tags": [
     "reader-only"
    ]
   },
   "source": [
    "\n",
    "- inertia (first term) encourages particle to move in same direction depending on the strength of the inertia weight $w$ (possibly a function changing dynamically over time). $w$ can be used to control the balance between exploration and exploitation\n",
    "- personal bias (second term) aims for short-sighted improvement by directing the particle to return to a previous position best position, $x_{i_b}$\n",
    "- social bias (third term) aims for conformity by directing the particle to follow the best position found so far, $x_{g_b}$\n",
    "\n",
    "\n",
    "$p$, $s$, $U_1$ and $U_2$ are hyperparameters (parameter whose value is used to control the learning process). \n",
    "- $p$ and $s$ weigh the importance of the particle's personal previous experiences and those of the group respectively \n",
    "- $U_n$ are random values drawn from the range [0,1]. This is essential for avoiding premature convergences to local minima"
   ]
  },
  {
   "cell_type": "markdown",
   "id": "69f2f51f-25d0-401d-b261-a1e14c8f468d",
   "metadata": {
    "editable": true,
    "slideshow": {
     "slide_type": ""
    },
    "tags": [
     "reader-only"
    ]
   },
   "source": [
    "### Randomness\n",
    "\n",
    "We will often lean on stochasticity to:\n",
    "- handle uncertainty e.g. uncertain or noisy objective functions \n",
    "- encourage diversity among swarm agents and the set of solutions they explore by perturbing the state or drivers by random factors. This can help the swarm to avoid premature convergence (where the swarm settles too quickly on suboptimal solutions) and escape local optima by covering a larger portion of the solution space efficiently (helping to balance the trade-off of exploration vs exploitation)\n",
    "    - a lot of randomness allows exploration of new possibilities\n",
    "    - a bit of randomness allows exploitation by testing patterns similar to the best one found so far\n",
    "\n",
    "Can be introduced via:\n",
    "- random initialisation of particles' positions and velocities \n",
    "- probabilistic forces or decisions"
   ]
  },
  {
   "cell_type": "markdown",
   "id": "ebb75231-ca35-4a44-9ee7-1c71ff41973f",
   "metadata": {
    "editable": true,
    "slideshow": {
     "slide_type": "subslide"
    },
    "tags": [
     "slides"
    ]
   },
   "source": [
    "### The picture to have in mind\n",
    "\n",
    "![](images/ParticleSwarmArrowsAnimation.gif)\n",
    "\n",
    "But the landscape may:\n",
    "- be complex, noisy, and high-dimensional \n",
    "- change over time ('fitness seascape' can be more appropriate)\n",
    "- have multiple optimas"
   ]
  },
  {
   "cell_type": "markdown",
   "id": "83cb197b-6d5c-4bf4-abab-5827393cd5bc",
   "metadata": {
    "editable": true,
    "slideshow": {
     "slide_type": ""
    },
    "tags": [
     "reader-only"
    ]
   },
   "source": [
    "\n",
    "Consider, for example, the problem of training a neural network for image classification:\n",
    "- The fitness function could be the accuracy of the neural network on a validation set, which measures how well the network is performing on unseen data\n",
    "- The solution space consists of all possible configurations of the neural network’s weights and biases. This space is typically high-dimensional and extremely complex."
   ]
  },
  {
   "cell_type": "markdown",
   "id": "bc2b52d7-b0b0-48c5-af84-5a80082ca8c8",
   "metadata": {
    "editable": true,
    "slideshow": {
     "slide_type": "subslide"
    },
    "tags": [
     "slides"
    ]
   },
   "source": [
    "### An* algorithm \n",
    "\n",
    "![](images/PSO_flowchart.png)\n"
   ]
  },
  {
   "cell_type": "markdown",
   "id": "7ec2833b-5f35-4ecb-aa69-217d30d64423",
   "metadata": {
    "editable": true,
    "slideshow": {
     "slide_type": "subslide"
    },
    "tags": [
     "slides"
    ]
   },
   "source": [
    "\n",
    "![](images/PSO_pseudocode.png)\n",
    "\n",
    "$*$ Note that this is a slight variant with the social component based on a local network and the global best only stored and not influencing the dynamics directly \n",
    "\n",
    "Figure from this [PSO review article](https://link.springer.com/article/10.1007/s40747-018-0071-2)"
   ]
  },
  {
   "cell_type": "markdown",
   "id": "788146cb-6459-4f04-99f0-1aaf3dc53b39",
   "metadata": {
    "editable": true,
    "slideshow": {
     "slide_type": "subslide"
    },
    "tags": [
     "slides"
    ]
   },
   "source": [
    "### Limitations and considerations\n",
    "\n",
    "**Advantages**\n",
    "- simple implementation\n",
    "- not a lot of hyperparameters and very flexible with the form of the objective function, so is able to solve a wide range of problems\n",
    "- relatively insensitive to scaling of design variables \n",
    "- easily parallelised for concurrent and efficient processing \n"
   ]
  },
  {
   "cell_type": "markdown",
   "id": "00032b6d-ed99-46d9-92ab-ec1296f81393",
   "metadata": {
    "editable": true,
    "slideshow": {
     "slide_type": "fragment"
    },
    "tags": [
     "slides"
    ]
   },
   "source": [
    "\n",
    "**Disadvantages**\n",
    "- final solution is heavily dependent on the initial seeds of the population (so ensemble runs are especially important)\n",
    "- can have a tendency to a fast and premature convergence to sub optimal points\n",
    "- convergence can be slow in the refined search stage (weak local search ability)"
   ]
  },
  {
   "cell_type": "markdown",
   "id": "123ce5fa-05d3-442e-ac4d-b283a5612b41",
   "metadata": {
    "editable": true,
    "slideshow": {
     "slide_type": ""
    },
    "tags": [
     "reader-only"
    ]
   },
   "source": [
    "<div style=\"border-left: 4px solid #b22222; padding: 0.75em; background-color: #fdecea; margin-bottom: 1em;\">\n",
    "  <strong>Read:</strong><br>\n",
    "  Read the OG PSO paper[PSO algorithm](https://ieeexplore.ieee.org/document/488968). It's fantastic and full of gems like this...\n",
    "\n",
    ">\"This is a major distinction in terms of contriving a computer simulation,for at least one obvious reason: collision. Two individuals can hold identical attitudes and beliefs without banging together,but two birds cannot occupy the same position in space without colliding. It seems reasonable, in discussing human social behavior,to map the concept of change into the bird fish analogy of movement. This is consistent with the classic Aristotelian view of qualitative and quantitative change as types of movement. Thus, besides moving through three-dimensional physical space, and avoiding collisions, humans change in abstract multi-dimensional space, collision-free. Physical space of course affects informational inputs, but it is arguably a trivial component of psychological experience. Humans learn to avoid physical collision by an early age...\"\n",
    "\n",
    "</div>"
   ]
  },
  {
   "cell_type": "markdown",
   "id": "fc65c90d-42d7-447c-bfab-8add3d7ad963",
   "metadata": {
    "editable": true,
    "slideshow": {
     "slide_type": "subslide"
    },
    "tags": [
     "slides"
    ]
   },
   "source": [
    "# Harnessing collective intelligence\n",
    "\n",
    "Some crowds turn to madness, others to wisdom.\n",
    "\n",
    "[Researchers at Uninanimous](https://unanimous.ai/swarm/) predicted the exact Kentucky Derby finish: Nyquist, Exaggerator, Gun Runner, Mohaymen: a superfecta that bookmakers had at 540:1!\n",
    "\n",
    "![](images/Unanimous_Kentucky_derby.gif)\n",
    "\n",
    "Gif from [here](https://www.news.com.au/technology/innovation/design/swarm-intelligence-predicted-a-540-to-one-long-shot-and-could-be-the-future-of-decision-making/news-story/955f67fd78fe9c73665395637a62840c) \n",
    "\n",
    "They asked 20 avid racing fans from across the country to pick the race winner. Participants moved a shared “puck” in sync to indicate answers, convering on a group choice that optimised their collective conviction."
   ]
  },
  {
   "cell_type": "markdown",
   "id": "eff40d3d-d19f-460f-baa2-d3553d136a79",
   "metadata": {
    "editable": true,
    "slideshow": {
     "slide_type": ""
    },
    "tags": [
     "remove-cell"
    ]
   },
   "source": [
    "<div style=\"background-color: #ffff88; padding: 1em; border-left: 5px solid #fff102;\">\n",
    "For discussion...\n",
    "\n",
    "Whether we follow the majority or trust experts is shaped by our networks. In general, more bridges allows for more diverse evidence and better collective decisions.\n",
    "\n",
    "Beyond **Homo Economicus**: People act under imperfect information and cognitive limits (bounded rationality). Decision strategies are context-dependent, not one-size-fits-all. Combining the \n",
    "</div>\n"
   ]
  },
  {
   "cell_type": "markdown",
   "id": "51ad3691",
   "metadata": {
    "editable": true,
    "slideshow": {
     "slide_type": "slide"
    },
    "tags": [
     "slides"
    ]
   },
   "source": [
    "# Controlling collective intelligence"
   ]
  },
  {
   "cell_type": "code",
   "execution_count": 4,
   "id": "872c458e",
   "metadata": {
    "editable": true,
    "slideshow": {
     "slide_type": "fragment"
    },
    "tags": [
     "hide-input"
    ]
   },
   "outputs": [
    {
     "data": {
      "image/jpeg": "[encoded data removed]",
      "text/html": [
       "\n",
       "        <iframe\n",
       "            width=\"400\"\n",
       "            height=\"300\"\n",
       "            src=\"https://www.youtube.com/embed/fsVJuN75vzE\"\n",
       "            frameborder=\"0\"\n",
       "            allowfullscreen\n",
       "            \n",
       "        ></iframe>\n",
       "        "
      ],
      "text/plain": [
       "<IPython.lib.display.YouTubeVideo at 0x1042dd250>"
      ]
     },
     "execution_count": 4,
     "metadata": {},
     "output_type": "execute_result"
    }
   ],
   "source": [
    "from IPython.display import YouTubeVideo\n",
    "YouTubeVideo(\"fsVJuN75vzE\", width=400)"
   ]
  }
 ],
 "metadata": {
  "celltoolbar": "Slideshow",
  "kernelspec": {
   "display_name": "Python 3 (ipykernel)",
   "language": "python",
   "name": "python3"
  },
  "language_info": {
   "codemirror_mode": {
    "name": "ipython",
    "version": 3
   },
   "file_extension": ".py",
   "mimetype": "text/x-python",
   "name": "python",
   "nbconvert_exporter": "python",
   "pygments_lexer": "ipython3",
   "version": "3.11.8"
  },
  "toc": {
   "base_numbering": 1,
   "nav_menu": {},
   "number_sections": true,
   "sideBar": true,
   "skip_h1_title": false,
   "title_cell": "Table of Contents",
   "title_sidebar": "Contents",
   "toc_cell": false,
   "toc_position": {},
   "toc_section_display": true,
   "toc_window_display": false
  }
 },
 "nbformat": 4,
 "nbformat_minor": 5
}

{
 "cells": [
  {
   "cell_type": "markdown",
   "id": "c2a410f2",
   "metadata": {
    "editable": true,
    "slideshow": {
     "slide_type": ""
    },
    "tags": [
     "reader-only"
    ]
   },
   "source": [
    "# Week 10: Game theory"
   ]
  },
  {
   "cell_type": "markdown",
   "id": "46b9b198",
   "metadata": {
    "editable": true,
    "slideshow": {
     "slide_type": ""
    },
    "tags": [
     "reader-only"
    ]
   },
   "source": [
    "Game theory was first formalised by John von Neumann and Oskar Morgenstern in their landmark 1944 book *Theory of Games and Economic Behavior*. It gained prominence during the Cold War, when strategists sought mathematical tools to analyse conflict, negotiation, and deterrence.\n",
    "\n",
    "At its heart, game theory is the quantitative study of strategic interaction. It provides a framework for situations with multiple decision makers, or players, where the outcome for each individual depends not only on their own choices but also on the choices of others. This makes game theory a natural companion to the study of complex systems, many of which involve interacting agents (people, organisms, firms, or institutions etc) whose local decisions shape collective behaviour. \n",
    "\n",
    "Game theoretic models shed light on why rational self-interest often leads to tension between what is best for the individual and what is best for the group. Traditionally, they have focused on small, stylised settings with only a few players, making the mathematics manageable and the strategic logic clear. With greater computing power and advances in complex systems theory, game-theoretic insights about incentives and stability can now be embedded within large-scale models, linking clear strategic reasoning to rich collective dynamics.\n",
    "\n",
    "We’ll use the **Prisoner’s Dilemma** to explore the basics of game theory. \n",
    "\n",
    "It’s the most famous example in the field. First discussed in the 1950s, it captures the paradox at the heart of many complex systems — that rational choices at the individual level can undermine the collective good."
   ]
  },
  {
   "cell_type": "markdown",
   "id": "d3421853",
   "metadata": {
    "editable": true,
    "slideshow": {
     "slide_type": "slide"
    },
    "tags": [
     "slides"
    ]
   },
   "source": [
    "# Games\n",
    "A \"game\" is not about entertainment but a carefully designed representation of strategic decision-making. \n",
    "\n",
    "It is defined by three key ingredients: who makes the decision, $P$, what decision they make, $A$, and what reward they get as a result of the decision of *all* players, $U$.\n",
    "\n",
    "Formally:\n",
    "\n",
    "$$\n",
    "G = \\{P, A, U\\}.\n",
    "$$"
   ]
  },
  {
   "cell_type": "markdown",
   "id": "b43b5b0d-465b-4a2e-9e3b-181971725ff0",
   "metadata": {
    "editable": true,
    "slideshow": {
     "slide_type": ""
    },
    "tags": [
     "reader-only"
    ]
   },
   "source": [
    "$P$: players\n",
    "- A set of decision makers in a game $\\{p_1, p_2, \\ldots, p_n\\}$ (this is an n-player game)\n",
    "\n",
    "$A$: actions \n",
    "- A set that tells us what each player can do in the game $\\{a_1,a_2, \\ldots, a_n\\}$\n",
    "- e.g. the actions of player 1 $a_1=\\{\\text{up}, \\text{down}\\}$\n",
    "\n",
    "$U$: utility/payoff \n",
    "- A set of rewards (or punishments) $\\{u_1, u_2, \\ldots, u_n\\}$\n",
    "- Each element is a function for each player\n",
    "- e.g. the utility of player 1 in a 2-player game if $p_1$ plays the action $\\text{up}$ and $p_2$ plays the action $\\text{down}$ is $u_1(\\text{up}, \\text{down})=2$"
   ]
  },
  {
   "cell_type": "markdown",
   "id": "a7aa8aa3",
   "metadata": {
    "editable": true,
    "slideshow": {
     "slide_type": "subslide"
    },
    "tags": [
     "slides"
    ]
   },
   "source": [
    "## Assumptions\n",
    "\n",
    "Game theory hinges on some critical assumptions.\n",
    "\n",
    "The players are **rational utility maximisers**. \n",
    "- **Rational** means they don't make mistakes when they choose the action.\n",
    "- **Utility maximiser** means they always choose the action that's best for them."
   ]
  },
  {
   "cell_type": "markdown",
   "id": "8c417d1a-1188-4e62-9112-014e89519f9f",
   "metadata": {
    "editable": true,
    "slideshow": {
     "slide_type": ""
    },
    "tags": [
     "reader-only"
    ]
   },
   "source": [
    "Within this major assumption are the following:\n",
    "- All players understand the game\n",
    "- Players prefer the better payoff \n",
    "- No other considerations (e.g. reputation, loyalty, opportunity for retribution)\n",
    "- No communication (no negotiating, making promises or threats)\n",
    "\n",
    "Behavioural Game Theory relaxes these assumptions but we don't get into that in this unit."
   ]
  },
  {
   "cell_type": "markdown",
   "id": "3d8398d1-7c1b-4491-a4e3-0a649c87d9d6",
   "metadata": {
    "editable": true,
    "slideshow": {
     "slide_type": ""
    },
    "tags": [
     "reader-only"
    ]
   },
   "source": [
    "## Modelling games"
   ]
  },
  {
   "cell_type": "markdown",
   "id": "802fd871-454e-4fff-986f-608025913ed8",
   "metadata": {
    "editable": true,
    "slideshow": {
     "slide_type": "subslide"
    },
    "tags": [
     "slides"
    ]
   },
   "source": [
    "### Strategy space\n",
    "\n",
    "The **strategy space** is the set of all possible action profiles across players:\n",
    "\n",
    "$$\n",
    "S = A_1 \\times A_2 \\times \\cdots \\times A_n,\n",
    "$$\n",
    "\n",
    "where $A_i$ is the action set of player $p_i$.\n",
    "\n",
    "Each element $s \\in S$ is a tuple $(a_1,a_2,\\ldots,a_n)$ describing one possible combination of actions."
   ]
  },
  {
   "cell_type": "markdown",
   "id": "9578e5bd-40d6-435f-83b2-a65f77bb3e37",
   "metadata": {
    "editable": true,
    "slideshow": {
     "slide_type": "subslide"
    },
    "tags": [
     "slides"
    ]
   },
   "source": [
    "### Payoff functions\n",
    "\n",
    "For each profile $s \\in S$ we assign a **payoff function**:\n",
    "\n",
    "$$\n",
    "u_i : S \\to \\mathbb{R},\n",
    "$$\n",
    "\n",
    "which gives the utility (reward/cost) for player $p_i$."
   ]
  },
  {
   "cell_type": "markdown",
   "id": "8ff83c61-0097-43d3-ac1a-e5f5fef2995b",
   "metadata": {
    "editable": true,
    "slideshow": {
     "slide_type": "subslide"
    },
    "tags": [
     "slides"
    ]
   },
   "source": [
    "### Payoff matrix (normal form)\n",
    "\n",
    "For 2-player games, it is convenient to represent the payoff structure with a matrix:\n",
    "\n",
    "\n",
    "$$\n",
    "\\begin{array}{c|c|c|}\n",
    " & \\text{Player 2: } \\beta_1 & \\text{Player 2: } \\beta_2 \\\\\n",
    "\\hline\n",
    "\\text{Player 1: } \\alpha_1 & (u_1(\\alpha_1,\\beta_1), u_2(\\alpha_1,\\beta_1)) \n",
    "                           & (u_1(\\alpha_1,\\beta_2), u_2(\\alpha_1,\\beta_2)) \\\\\n",
    "\\hline\n",
    "\\text{Player 1: } \\alpha_2 & (u_1(\\alpha_2,\\beta_1), u_2(\\alpha_2,\\beta_1)) \n",
    "                           & (u_1(\\alpha_2,\\beta_2), u_2(\\alpha_2,\\beta_2)) \\\\\n",
    "\\hline\n",
    "\\end{array}\n",
    "$$"
   ]
  },
  {
   "cell_type": "markdown",
   "id": "7bd55632-9c72-4c3a-9bcd-056ecf3b727c",
   "metadata": {
    "editable": true,
    "slideshow": {
     "slide_type": ""
    },
    "tags": [
     "reader-only"
    ]
   },
   "source": [
    "- Player 1’s actions label the rows.\n",
    "- Player 2’s actions label the columns.\n",
    "- Each cell of the matrix corresponds to one strategy profile $s\\in S$, and the entries show the utilities $(u_1,u_2)$ corresponding to that action pair.\n",
    "\n",
    "This compact form is called the **normal form** of a game."
   ]
  },
  {
   "cell_type": "markdown",
   "id": "20f32550-7878-493e-bd45-ffd7f5de6487",
   "metadata": {
    "editable": true,
    "slideshow": {
     "slide_type": ""
    },
    "tags": [
     "reader-only"
    ]
   },
   "source": [
    "## Outcomes"
   ]
  },
  {
   "cell_type": "markdown",
   "id": "b45337ad-0c4a-4ffc-b1b7-3c330bdf79ce",
   "metadata": {
    "editable": true,
    "slideshow": {
     "slide_type": ""
    },
    "tags": [
     "reader-only"
    ]
   },
   "source": [
    "Although the models are stylised, they are powerful. By treating decisions as part of a deterministic dynamical system, game theory adds rigour to the study of human behaviour. \n",
    "\n",
    "When analysing a game, we care about the properties of outcomes (not just individual strategies). Solutions focus on whether outcomes are *stable* (such as Nash equilibria) and whether they are *efficient* (such as Pareto optimal outcomes).\n",
    "\n",
    "**Pareto Optimality**:\n",
    "An outcome is Pareto optimal if no player can be made better off without making at least one other player worse off. These outcomes form the **Pareto frontier**.\n",
    "\n",
    "**Dominant Strategy**:\n",
    "A strategy is dominant if it gives a player at least as good a payoff as any other, regardless of what others do. If it is *strictly better* in every case, it is a **strictly dominant strategy**.\n",
    "\n",
    "**Dominated Strategy**:\n",
    "A strategy is dominated if there is always another strategy that does at least as well, and sometimes better. Rational players should never play dominated strategies.\n",
    "\n",
    "**Social Optimum**:\n",
    "The outcome that maximises the **sum of payoffs** across all players (sometimes called utilitarian efficiency). This is different from Pareto optimality as it may not be stable.\n",
    "(The outcome that maximises $u_1 + u_2$ across the whole payoff matrix).  "
   ]
  },
  {
   "cell_type": "markdown",
   "id": "894680c8-6d78-4117-b994-6b42b5c64ffe",
   "metadata": {
    "editable": true,
    "slideshow": {
     "slide_type": "subslide"
    },
    "tags": [
     "slides"
    ]
   },
   "source": [
    "### Nash equilibrium \n",
    "\n",
    "The Nash equilibrium (named for Nobel Laureate John Nash) is often phrased as *'no player has an incentive to unilaterally deviate'*, i.e. there's nothing to gain by changing personal strategy and the situation is stable. "
   ]
  },
  {
   "cell_type": "markdown",
   "id": "158d453b-9b8e-4425-bc1f-ff9552462e97",
   "metadata": {
    "editable": true,
    "slideshow": {
     "slide_type": ""
    },
    "tags": [
     "reader-only"
    ]
   },
   "source": [
    "'Unilaterally' $\\implies $ a player can only change their own strategy (not that of others).\n",
    "\n",
    "The other way to think about this is having played the game, no player wishes they’d played differently.\n",
    "\n",
    "Formally:"
   ]
  },
  {
   "cell_type": "markdown",
   "id": "b091f920-71fa-423d-bcca-802cdfc18199",
   "metadata": {
    "editable": true,
    "slideshow": {
     "slide_type": "fragment"
    },
    "tags": [
     "slides"
    ]
   },
   "source": [
    "Let the actions of $p_1$ and $p_2$ be $a_1=\\{\\alpha_1,\\alpha_2, \\ldots \\alpha_n\\}$ and $a_2=\\{\\beta_1,\\beta_2, \\ldots \\beta_n\\}$ respectively.\n",
    "\n",
    "Then $(\\alpha^*, \\beta^*)$ is a Nash equilibrium if:\n",
    "\n",
    "$$\n",
    "u_1(\\alpha^*,\\beta^*)\\geq u_1(\\alpha',\\beta^*) \\quad \\forall \\alpha'\\in a_1\n",
    "$$\n",
    "\n",
    "and \n",
    "\n",
    "$$\n",
    "u_2(\\alpha^*,\\beta^*)\\geq u_2(\\alpha^*,\\beta') \\quad \\forall \\beta' \\in a_2.\n",
    "$$"
   ]
  },
  {
   "cell_type": "markdown",
   "id": "f733ac87-0914-43f0-af38-cab5d6089b72",
   "metadata": {
    "editable": true,
    "slideshow": {
     "slide_type": ""
    },
    "tags": [
     "reader-only"
    ]
   },
   "source": [
    "Note that for it to not to be a Nash equilibrium only one player needs an incentive to deviate. The “greater than or equal to” allows for cases where a player is indifferent between sticking with the equilibrium strategy and switching to another. Equality means the player has no incentive to deviate, but also no strict gain from staying. This outcome is still a Nash equilibrium because there is nothing to be gained by moving away. \n",
    "\n",
    "We use the asterisk to denote the stable equilibrium (similar to fixed points in nonlinear dynamics)."
   ]
  },
  {
   "cell_type": "markdown",
   "id": "70f014bf-2659-4a8b-9539-6789379fb93b",
   "metadata": {
    "editable": true,
    "slideshow": {
     "slide_type": ""
    },
    "tags": [
     "presenter-notes",
     "remove-cell"
    ]
   },
   "source": [
    "<div style=\"background-color: #ffff88; padding: 1em; border-left: 5px solid #fff102;\">\n",
    "Khan Academy has a tutorial to point students to: https://www.khanacademy.org/economics-finance-domain/microeconomics/nash-equilibrium-tutorial\n",
    "</div>"
   ]
  },
  {
   "cell_type": "markdown",
   "id": "d9bf6664",
   "metadata": {
    "editable": true,
    "slideshow": {
     "slide_type": "slide"
    },
    "tags": [
     "slides"
    ]
   },
   "source": [
    "# Prisoner's dilemma\n",
    "\n",
    "*Two criminals are caught by the police, but there isn’t enough evidence for the full charge. They are interrogated separately.*\n",
    "\n",
    "Each must decide whether to:\n",
    "- **Cooperate (C):** stay silent and protect the other.\n",
    "- **Defect (D):** betray the other by confessing.\n",
    "\n",
    "The outcome determines how many years each spends in jail."
   ]
  },
  {
   "cell_type": "markdown",
   "id": "8309b600-a5e3-4836-853a-d685bf85dd2f",
   "metadata": {
    "editable": true,
    "slideshow": {
     "slide_type": "subslide"
    },
    "tags": [
     "slides"
    ]
   },
   "source": [
    "## Framed as a game\n",
    "\n",
    "Using the formal definition of a game, $G = \\{P, A, U\\}$:\n",
    "- **Players**: $P=\\{p_1, p_2\\}$\n",
    "- **Actions**: $A=\\{A_1, A_2\\}$, where $A_1=\\{C,D\\}$, $A_2=\\{C,D\\}$\n",
    "- **Utilities (payoffs)**: $U=\\{u_1,u_2\\}$ for chosen actions $a_1\\in A_1$ and $a_2\\in A_2$ \n",
    "    - $u_1(a_1,a_2)$ = -(years in jail) for $p_1$ given actions $(a_1,a_2)$\n",
    "    - $u_2(a_1,a_2)$ = -(years in jail) for $p_2$\n",
    "    - We define **utility = −(years in jail)** (think of it as years of life lost) in order to keep “higher is better” consistent with the formal definition of Nash equilibrium (which we will see shortly)."
   ]
  },
  {
   "cell_type": "markdown",
   "id": "1c3345d1-ec3e-4ed8-9ee5-3d1a9a8dcbe4",
   "metadata": {
    "editable": true,
    "slideshow": {
     "slide_type": ""
    },
    "tags": [
     "reader-only"
    ]
   },
   "source": [
    "The outcome determines how many years each spends in jail.\n",
    "\n",
    "*Note*: Sometimes the actions are labelled as *confess* (C) vs. *don’t confess* (D), and payoffs can also be framed as *time served* rather than *time saved* so care needs to be taken in interpretting the situation."
   ]
  },
  {
   "cell_type": "markdown",
   "id": "66c07965-eb0d-4b59-8c59-fb65f6caf6e0",
   "metadata": {
    "editable": true,
    "slideshow": {
     "slide_type": "subslide"
    },
    "tags": [
     "slides"
    ]
   },
   "source": [
    "## The rules of the game\n",
    "\n",
    "The police offer the prisoners a **\"Faustian bargain\"** (Faust traded his soul for knowledge and power):\n",
    "\n",
    "If one betrays while the other stays silent:\n",
    "- The betrayer goes free.\n",
    "- The silent one serves 3 years.\n",
    "\n",
    "If both betray:\n",
    "- Each serves 2 years.\n",
    "\n",
    "If both stay silent:\n",
    "- Each serves only 1 year."
   ]
  },
  {
   "cell_type": "markdown",
   "id": "5bae5727-5f69-4a88-8374-011f404fd785",
   "metadata": {
    "editable": true,
    "slideshow": {
     "slide_type": ""
    },
    "tags": [
     "reader-only"
    ]
   },
   "source": [
    "This makes the situation **symmetric**: both players face the same set of consequences."
   ]
  },
  {
   "cell_type": "markdown",
   "id": "e190c160-09b7-46d5-8983-6aa6f397daf4",
   "metadata": {
    "editable": true,
    "slideshow": {
     "slide_type": "subslide"
    },
    "tags": [
     "slides"
    ]
   },
   "source": [
    "## Payoff structure \n",
    "\n",
    "We can now assign payoffs formally:\n",
    "\n",
    "$$\n",
    "u_1(D,C)=0, \\quad u_1(C,D)=3, \\quad u_1(D,D)=2, \\quad u_1(C,C)=1\n",
    "$$\n",
    "\n",
    "By symmetry:\n",
    "\n",
    "$$\n",
    "u_2(C,D)=0, \\quad u_2(D,C)=3, \\quad u_2(D,D)=2, \\quad u_2(C,C)=1\n",
    "$$"
   ]
  },
  {
   "cell_type": "markdown",
   "id": "7bdbf41a-8b53-4d71-ba7a-ebcc172d8430",
   "metadata": {
    "editable": true,
    "slideshow": {
     "slide_type": ""
    },
    "tags": [
     "reader-only"
    ]
   },
   "source": [
    "Hence the possible action pairs, $(u_1,u_2)$ are:\n",
    "- $(C,C)$: both cooperate then each serves 1 year.\n",
    "- $(D,C)$: Player 1 betrays then they go free, Player 2 serves 3 years.\n",
    "- $(C,D)$: Player 1 silent then they will serve 3 years, Player 2 goes free.\n",
    "- $(D,D)$: both betray then each serves 2 years."
   ]
  },
  {
   "cell_type": "markdown",
   "id": "185e0fc7-41d0-47a3-b5e9-cdedc9619297",
   "metadata": {
    "editable": true,
    "slideshow": {
     "slide_type": "subslide"
    },
    "tags": [
     "slides"
    ]
   },
   "source": [
    "The **strategy space** is the set of all possible action pairs:\n",
    "\n",
    "$$\n",
    "S=\\{C,D\\}\\times\\{C,D\\}=\\{(C,C),(C,D),(D,C),(D,D)\\}.\n",
    "$$\n",
    "\n",
    "For each element of $S$, the payoff functions $u_1$ and $u_2$ tell us the outcome (years in jail)."
   ]
  },
  {
   "cell_type": "markdown",
   "id": "f95edecc",
   "metadata": {
    "editable": true,
    "slideshow": {
     "slide_type": "subslide"
    },
    "tags": [
     "slides"
    ]
   },
   "source": [
    "## Payoff matrix (normal form)\n",
    "\n",
    "![](images/Payoff_matrix_pictures_PD.png)"
   ]
  },
  {
   "cell_type": "markdown",
   "id": "c1cd393a-fb79-4969-886d-91559cef052a",
   "metadata": {
    "editable": true,
    "slideshow": {
     "slide_type": ""
    },
    "tags": [
     "reader-only"
    ]
   },
   "source": [
    "- Player 1 chooses rows.\n",
    "- Player 2 chooses columns.\n",
    "- Each cell shows the utility $(u_1, u_2)$.\n",
    "\n",
    "$$\n",
    "\\begin{array}{c|c|c|}\n",
    " & C & D \\\\\n",
    "\\hline\n",
    "C & (-1,-1) & (-3,0) \\\\\n",
    "\\hline\n",
    "D & (0,-3) & (-2,-2) \\\\\n",
    "\\hline\n",
    "\\end{array}\n",
    "$$"
   ]
  },
  {
   "cell_type": "markdown",
   "id": "2a16b0f2-d6af-4646-8603-d1d5c9de546c",
   "metadata": {
    "editable": true,
    "slideshow": {
     "slide_type": "subslide"
    },
    "tags": [
     "slides"
    ]
   },
   "source": [
    "## Payoff plane"
   ]
  },
  {
   "cell_type": "markdown",
   "id": "6c783eae-c501-4a37-aeb4-7c037290d6a8",
   "metadata": {
    "editable": true,
    "slideshow": {
     "slide_type": ""
    },
    "tags": [
     "reader-only"
    ]
   },
   "source": [
    "In the normal form, rows and columns correspond to *actions*.\n",
    "\n",
    "Alternatively, we can represent the two player game with **\"payoff plane\"** where the focus is on the *set of achievable payoffs* and the trade-offs between players. The utilities themselves become the coordinates, and each action profile corresponds to a point in this plane.\n",
    "\n",
    "This representation is sometimes called the **dual of the normal form**:"
   ]
  },
  {
   "cell_type": "markdown",
   "id": "25badfda-ee10-490f-9007-aeb412118a43",
   "metadata": {
    "editable": true,
    "slideshow": {
     "slide_type": "fragment"
    },
    "tags": [
     "slides"
    ]
   },
   "source": [
    "![](images/Payoff_plane_PD.png)"
   ]
  },
  {
   "cell_type": "markdown",
   "id": "8fd073a2",
   "metadata": {
    "editable": true,
    "slideshow": {
     "slide_type": "subslide"
    },
    "tags": [
     "reader-only"
    ]
   },
   "source": [
    "For the Prisoner’s Dilemma, these points are:\n",
    "- $(1,1)$ for both cooperating.\n",
    "- $(0,3)$ and $(3,0)$ for unilateral defection.\n",
    "- $(2,2)$ for mutual defection.\n",
    "\n",
    "The lines connect outcomes that are available through one player’s unilateral choice, holding the other player’s choice fixed. e.g., the line connecting $(0,3)$ and $(2,2)$ represents Player 1’s two possible payoffs when Player 2 defects. Similarly, the line connecting $(1,1)$ and $(3,0)$ represents Player 1’s two possible payoffs when Player 2 cooperates."
   ]
  },
  {
   "cell_type": "markdown",
   "id": "5cddb19c",
   "metadata": {
    "editable": true,
    "slideshow": {
     "slide_type": "subslide"
    },
    "tags": [
     "slides"
    ]
   },
   "source": [
    "## So what actions should the players choose?\n",
    "\n",
    "Assuming that the prisoners are rational utility maximisers, i.e. they are only concerned with the immediate goal of minimising their own sentence...\n",
    "\n",
    "What should $p_1$ do?\n",
    "\n",
    "\n",
    "![](images/Payoff_matrix_PD.png)"
   ]
  },
  {
   "cell_type": "markdown",
   "id": "f328572a",
   "metadata": {
    "editable": true,
    "slideshow": {
     "slide_type": ""
    },
    "tags": [
     "reader-only"
    ]
   },
   "source": [
    "Analysing the payoff matrix. We assume a particular set of actions (position of the normal form) and assess whether a player would opt to change their mind when informed what the other player has chosen. "
   ]
  },
  {
   "cell_type": "markdown",
   "id": "4c60edf4-5607-4ff8-a279-e6770d3a517b",
   "metadata": {
    "editable": true,
    "slideshow": {
     "slide_type": ""
    },
    "tags": [
     "reader-only"
    ]
   },
   "source": [
    "From $p_1$'s perspective:\n",
    "\n",
    "**If $p_2$ cooperates**: $u_1(D,C) = 0 \\geq u_1(C,C) = -1$\n",
    "- $\\therefore p_1$ is better off defecting; she would go free rather than serve 1 year\n",
    "\n",
    "**If $p_2$ defects**: $u_1(D,D) = -2 \\geq u_1(C,D) = -3$\n",
    "- $\\therefore p_1$ is still better off defecting; she would serve only 2 years rather than 3"
   ]
  },
  {
   "cell_type": "markdown",
   "id": "e902a40e-5ac1-4db4-ad7c-a606d1f0f688",
   "metadata": {
    "editable": true,
    "slideshow": {
     "slide_type": "subslide"
    },
    "tags": [
     "slides"
    ]
   },
   "source": [
    "## Nash equilibrium\n",
    "\n",
    "No matter what $p_2$ does, $p_1$ is better off defecting.\n",
    "\n",
    "Same goes for $p_2$ from symmetry.\n",
    "\n",
    "Defecting is the best choice in all cases! It is the (strictly) **'dominant strategy'** and the **Nash equilibrium** i.e. once both defect, neither regrets it — even though they don’t like the outcome!\n",
    "\n",
    "Here the inequalities are strict in each comparison, so defection strictly dominates cooperation for both players."
   ]
  },
  {
   "cell_type": "markdown",
   "id": "5c9c5f1b-240a-40d7-af94-04ffc2412d2e",
   "metadata": {
    "editable": true,
    "slideshow": {
     "slide_type": ""
    },
    "tags": [
     "reader-only"
    ]
   },
   "source": [
    "<div style=\"border-left: 4px solid #1e70bf; padding: 0.75em; background-color: #eaf3fb; margin-bottom: 1em;\">\n",
    "  <strong>Question:</strong><br>\n",
    "  Show working to support that player 2 should defect.\n",
    "</div>"
   ]
  },
  {
   "cell_type": "markdown",
   "id": "8b0725c7-1a6e-4d1d-afdb-7540f8a4f4f8",
   "metadata": {
    "editable": true,
    "slideshow": {
     "slide_type": ""
    },
    "tags": [
     "reader-only"
    ]
   },
   "source": [
    "```{toggle}\n",
    "**If $p_1$ cooperates**: $u_2(C,D) = 0 \\geq u_2(C,C) = -1$\n",
    "- $\\therefore p_2$ best responds with $D$\n",
    "  \n",
    "**If $p_2$ defects**: $u_2(D,D) = -2 \\geq u_2(D,C) = -3$\n",
    "- $\\therefore p_2$ best responds with $D$\n",
    "```"
   ]
  },
  {
   "cell_type": "markdown",
   "id": "23f6c473",
   "metadata": {
    "editable": true,
    "slideshow": {
     "slide_type": "subslide"
    },
    "tags": [
     "slides"
    ]
   },
   "source": [
    "## Pareto optimum\n",
    "\n",
    "The point $(1,1)$ is Pareto-superior to $(2,2)$ because both players would prefer this option. But the incentives of each player make it unstable. "
   ]
  },
  {
   "cell_type": "markdown",
   "id": "80d8c077-b0d1-4dfc-a437-c013e3d791c3",
   "metadata": {
    "editable": true,
    "slideshow": {
     "slide_type": ""
    },
    "tags": [
     "reader-only"
    ]
   },
   "source": [
    "The geometry of the payoff space makes these tensions visually obvious. Especially when lines are replaced with arrows:"
   ]
  },
  {
   "cell_type": "markdown",
   "id": "23b5f14b-0e4a-4022-aac7-58f12afc629a",
   "metadata": {
    "editable": true,
    "slideshow": {
     "slide_type": "fragment"
    },
    "tags": [
     "slides"
    ]
   },
   "source": [
    "![](images/Payoff_plane_analysed_PD.png)"
   ]
  },
  {
   "cell_type": "markdown",
   "id": "a0a8940a",
   "metadata": {
    "editable": true,
    "jp-MarkdownHeadingCollapsed": true,
    "slideshow": {
     "slide_type": ""
    },
    "tags": [
     "reader-only"
    ]
   },
   "source": [
    "## What about the greater good?\n",
    "\n",
    "There is nothing the prisoners can do to achieve the outcome they both want (the **Pareto optimal** outcome). Mutual cooperation is preferable to mutual defection and yet rational self-interest pushes each to defect - a situation that is worse for both prisoners.\n",
    "\n",
    "This highlights a central irony of the Prisoner’s Dilemma: By acting purely in self-interest, players end up *hurting themselves when they're actually only thinking about themselves*.\n",
    "\n",
    "The dilemma illustrates how the pursuit of individual rationality can undermine the collective good. logic extends far beyond two criminals in a cell. Many real-world situations echo the same tension:\n",
    "- **Tragedy of the commons**: shared resources like fisheries, forests, or the atmosphere are overused because each individual gains by exploiting them, even though collective restraint would leave everyone better off.\n",
    "- **Public goods**: everyone benefits from clean air, vaccination, or infrastructure, but each individual has an incentive to free-ride rather than contribute."
   ]
  },
  {
   "cell_type": "markdown",
   "id": "2adb1aca",
   "metadata": {
    "editable": true,
    "slideshow": {
     "slide_type": "subslide"
    },
    "tags": [
     "slides"
    ]
   },
   "source": [
    "## Generalising the payoff\n",
    "\n",
    "![](images/General_PD.png)"
   ]
  },
  {
   "cell_type": "markdown",
   "id": "7af06bd8-c205-4f4c-9b82-9f93390748a6",
   "metadata": {
    "editable": true,
    "slideshow": {
     "slide_type": ""
    },
    "tags": [
     "reader-only"
    ]
   },
   "source": [
    "We define each of the possible utilities as:\n",
    "- **Reward:** $R = u_1(C, C)$ (payoff to a cooperator when both cooperate) \n",
    "- **Temptation:** $T = u_1(D, C)$ (payoff to a defector against a cooperator) \n",
    "- **Penalty:** $P = u_1(D, D)$ (payoff to a defector when both defect)\n",
    "- **Sucker:** $S = u_1(C, D)$ (payoff to a cooperator against a defector)\n",
    "\n",
    "By symmetry, the same definitions apply to Player 2."
   ]
  },
  {
   "cell_type": "markdown",
   "id": "a8733185-a037-45a2-b04e-75ac43cedb98",
   "metadata": {
    "editable": true,
    "slideshow": {
     "slide_type": "subslide"
    },
    "tags": [
     "slides"
    ]
   },
   "source": [
    "In general, if: \n",
    "\n",
    "$$\n",
    "S<P<R<T\n",
    "$$\n",
    "\n",
    "then the game is classified as a Prisoner's Dilemma.\n",
    "\n",
    "- $R>P$ implies that mutual cooperation is superior to mutual defection.\n",
    "- $T>R$ and $P>S$ imply that defection is the dominant strategy for both agents.\n",
    "\n",
    "Note: '$>$' here implies 'better', which will depend on the question context (e.g. if the utility is time in jail vs time spared from jail)."
   ]
  },
  {
   "cell_type": "markdown",
   "id": "cb74e375",
   "metadata": {
    "editable": true,
    "slideshow": {
     "slide_type": "subslide"
    },
    "tags": [
     "reader-only"
    ]
   },
   "source": [
    "## Prisoner's dilemmas outside of the prison\n",
    "Many social interactions can be modeled as variations on the Prisoner's Dilemma\n",
    "\n",
    "Some classic examples include:\n",
    "- Business competition between two companies deciding whether to lower their prices to attract more customers or keep prices high to maximise profits\n",
    "- Environmental conservation between neighbouring countries that share a common water resource\n",
    "- Arms race between countries building up their military capabilities \n",
    "- Traffic congestion: https://www.youtube.com/watch?v=cALezV_Fwi0\n",
    "- International diplomacy\n",
    "- Common-pool resource management\n",
    "- ...\n"
   ]
  },
  {
   "cell_type": "markdown",
   "id": "09fa3a4f",
   "metadata": {
    "editable": true,
    "slideshow": {
     "slide_type": "subslide"
    },
    "tags": [
     "slides"
    ]
   },
   "source": [
    "And if it doesn't fit the Prisoner's Dilemma framework then there is another game it will fit!\n",
    "\n",
    "![](images/2x2games-topology_page1.jpg)"
   ]
  },
  {
   "cell_type": "markdown",
   "id": "58cc6953-ea1f-4aa3-a62a-84db0c251324",
   "metadata": {
    "editable": true,
    "slideshow": {
     "slide_type": "subslide"
    },
    "tags": [
     "slides"
    ]
   },
   "source": [
    "![](images/2x2games-topology_page4.jpg)\n",
    "\n",
    "[Topology of 2x2 Ordinal Games with Payoff Families]\n",
    "(https://upload.wikimedia.org/wikipedia/commons/3/32/2x2chart110602.pdf)"
   ]
  },
  {
   "cell_type": "markdown",
   "id": "f6989099",
   "metadata": {
    "editable": true,
    "slideshow": {
     "slide_type": ""
    },
    "tags": [
     "reader-only"
    ]
   },
   "source": [
    "A systematic approach to (strict/indifferent ordinal) $2\\times 2$ games was provided by Robinson and Goforth, 2005.\n",
    "\n",
    "Payoffs are strictly ordinal so each player has $4!=24$ ways to assign the outcomes.\n",
    "\n",
    "Since the rankings of Player 1 and Player 2 are independent, the total number of possible strict ordinal 2x2 games is $24\\times 24=576$.\n",
    "\n",
    "Many games are essentially the same when considering symmetries:\n",
    "- No swaps (original game)\n",
    "- Swap Player 1's strategies (flip rows)\n",
    "- Swap Player 2's strategies (flip columns)\n",
    "- Swap both Player 1 and Player 2's strategies (flip both rows and columns).\n",
    "\n",
    "Hence, there is factor 4 reduction and the number of distinct games is $576/4=144$ strict ordinal 2x2 games."
   ]
  },
  {
   "cell_type": "markdown",
   "id": "19360953",
   "metadata": {
    "editable": true,
    "slideshow": {
     "slide_type": "slide"
    },
    "tags": [
     "slides"
    ]
   },
   "source": [
    "# Reality\n",
    "Game theory tells us what a perfectly rational agent *should* do.\n",
    "    \n",
    "It is much harder to predict what real people *actually* do.\n",
    "\n",
    "See this 'real life' example, the Golden Balls: "
   ]
  },
  {
   "cell_type": "code",
   "execution_count": 3,
   "id": "f56e1160-08b3-48a5-a0c7-14ca10c7b2ed",
   "metadata": {
    "editable": true,
    "slideshow": {
     "slide_type": "fragment"
    },
    "tags": [
     "slides",
     "hide-input"
    ]
   },
   "outputs": [
    {
     "data": {
      "image/jpeg": "[encoded data removed]",
      "text/html": [
       "\n",
       "        <iframe\n",
       "            width=\"400\"\n",
       "            height=\"300\"\n",
       "            src=\"https://www.youtube.com/embed/S0qjK3TWZE8\"\n",
       "            frameborder=\"0\"\n",
       "            allowfullscreen\n",
       "            \n",
       "        ></iframe>\n",
       "        "
      ],
      "text/plain": [
       "<IPython.lib.display.YouTubeVideo at 0x112d1e8d0>"
      ]
     },
     "metadata": {},
     "output_type": "display_data"
    }
   ],
   "source": [
    "from IPython.display import YouTubeVideo\n",
    "display(YouTubeVideo(\"S0qjK3TWZE8\", width=400))"
   ]
  },
  {
   "cell_type": "markdown",
   "id": "07507eed-5649-4b03-a13c-efa1871f738b",
   "metadata": {
    "editable": true,
    "slideshow": {
     "slide_type": ""
    },
    "tags": [
     "remove-cell"
    ]
   },
   "source": [
    "# Is it so surprising that people are not rational agents?\n",
    "\n",
    "How can we explain people not doing what Game Theory says they should?\n",
    "- people are not smart enough to understand the scenario?\n",
    "- people are knowingly acting contrary to their own interest?\n",
    "- something else?\n",
    "\n",
    "We will take a small detour via evolution and genetic algorithms and come back to this 'something else'..."
   ]
  },
  {
   "cell_type": "markdown",
   "id": "754af072-4e59-4257-80d5-71957ab707a0",
   "metadata": {
    "editable": true,
    "slideshow": {
     "slide_type": ""
    },
    "tags": [
     "remove-cell"
    ]
   },
   "source": [
    "# Evolution\n",
    "To evolve is to change over time\n",
    "\n",
    "In biology, evolution refers to the gradual process by which species change genetically across generations i.e. it's an aggregate effect: *individuals don't evolve, populations do*\n",
    "\n",
    "The theory of evolution claims that new species are created and existing species change due to **natural selection**\n",
    "\n",
    "Natural selection is the process where inherited variations between individuals cause differences in survival and reproduction"
   ]
  },
  {
   "cell_type": "markdown",
   "id": "55f9a1d7-3174-45dc-a3c3-f19b708b3f62",
   "metadata": {
    "editable": true,
    "slideshow": {
     "slide_type": ""
    },
    "tags": [
     "remove-cell"
    ]
   },
   "source": [
    "## Darwin\n",
    "\n",
    "<center> \n",
    "<img src=\"DarwinsFinches.jpeg\" width=\"300\"/>\n",
    "</center>\n",
    "\n",
    "Finches from the Galapagos inspired Darwin during his visit to the islands in 1835: They are thought to have evolved from a single finch species that came to the islands more than a million years ago. Differences between species are in the size and shape of their beaks, which are highly adapted to different food sources available on the different islands\n",
    "\n",
    "According to Darwin all organisms share a common ancestor that lived about 580 million years ago and there's no hierarchy -- each organism alive now is the most evolved of its kind. "
   ]
  },
  {
   "cell_type": "markdown",
   "id": "5d2f81c4-336e-4821-8451-c33861287542",
   "metadata": {
    "editable": true,
    "slideshow": {
     "slide_type": ""
    },
    "tags": [
     "remove-cell"
    ]
   },
   "source": [
    "### Beware the linear depiction of ape to man!\n",
    "\n",
    "<center> \n",
    "<img src=\"Evolution_ApeMan_Linear.png\" width=\"300\"/>\n",
    "</center>\n",
    "\n",
    "Image: http://creationwiki.org/Devolution\n",
    "\n",
    "Many variations of this picture - some have a humorous spirit, but most aim to ridicule the monkey to man theory\n",
    "\n",
    "Linear depictions like this may confirm false preconceptions about evolution, such as intelligent design (the idea that life has an intelligent creator behind it)\n",
    "<!-- Evolution is not some goal-directed process with humans as the final product/pinnacle -->\n",
    "\n",
    "The reality is that each is a unique species with their own evolutionary paths and humans are no more special than any other primate."
   ]
  },
  {
   "cell_type": "markdown",
   "id": "f7eed763-463d-45e7-82a2-2b2a0f1634c3",
   "metadata": {
    "editable": true,
    "slideshow": {
     "slide_type": ""
    },
    "tags": [
     "remove-cell"
    ]
   },
   "source": [
    "### Evolution is not linear\n",
    "\n",
    "<center> \n",
    "<img src=\"Evolution_ApeMan_Proper.jpeg\" width=\"300\"/>\n",
    "</center>\n",
    "\n",
    "Image from: doi:10.1038/nature01400\n",
    " \n",
    "Evolution is a process of continuous branching and divergence of populations of organisms\n",
    "\n",
    "Humans did not evolve from chimpanzees or any of the other great apes that live today\n",
    "\n",
    "We share a common ancestor that lived $\\approx$10 million years ago - asking why modern chimps don't look more like humans is like asking why the children of your cousins don't look more like you than their parents - they're on an entirely different evolutionary path.\n",
    "\n",
    "<!-- Some good reading and some really bad reading on this topic exists. Do your own homework.  -->\n",
    "<!-- https://www.washingtonpost.com/news/speaking-of-science/wp/2016/07/25/dear-science-answers-your-questions-about-evolution/ -->"
   ]
  },
  {
   "cell_type": "markdown",
   "id": "adcf3a46-299b-4fd4-af18-7ef091917ca2",
   "metadata": {
    "editable": true,
    "slideshow": {
     "slide_type": ""
    },
    "tags": [
     "remove-cell"
    ]
   },
   "source": [
    "## Explaining global/macroscopic observations\n",
    "i.e. the output\n",
    "\n",
    "The theory of evolution is powerful because it explains phenomena we see in the natural world:\n",
    "- **Adaptation**: Natural selection favors adaptations that best enable creatures to survive under the circumstances in which they live. (This *does not* mean they should all be becoming more human!)\n",
    "<!--     - How ridiculously elitist to think we are the goal and culmination of 4.5 billion years of evolution.\n",
    "    - We continue to evolve - lactose tolerance came long after we were making cheese. Malaria resilience in parts of the world etc.\n",
    "    - Our species could continue to evolve and change for many millennia to come, but we could just as easily go extinct, as have 99 percent of all life forms that came before us.\n",
    "    - Many features of natural systems seem as if they were designed. -->\n",
    "- **Increasing diversity**: Over time the number of species on earth has generally increased (despite periods of mass extinction)\n",
    "- **Increasing complexity**: The history of life on earth starts with relatively simple life forms, with more complex organisms appearing later in the geological record.\n"
   ]
  },
  {
   "cell_type": "markdown",
   "id": "798a38a9-aa79-4722-8bb8-ed6ac7dc27ba",
   "metadata": {
    "editable": true,
    "slideshow": {
     "slide_type": ""
    },
    "tags": [
     "remove-cell"
    ]
   },
   "source": [
    "## Mechanisms for evolution\n",
    "i.e. the inputs required\n",
    "\n",
    "<!-- Gradual change happens on timescales that vary from organism to organism based on the length of a generation -->\n",
    "\n",
    "To model evolution the following three mechanisms are sufficient:\n",
    "1. **Variation**: variability in the population, i.e. differences between individuals\n",
    "2. **Differential survival or reproduction**: differences between individuals affect their ability to survive or reproduce\n",
    "3. **Replicators**: a population of agents that can reproduce in some way (perfect copies of themselves or imperfect copying, i.e. mutation)"
   ]
  },
  {
   "cell_type": "markdown",
   "id": "ebe6ea04-4789-42ad-9f1c-84645d9eeca6",
   "metadata": {
    "editable": true,
    "slideshow": {
     "slide_type": ""
    },
    "tags": [
     "remove-cell"
    ]
   },
   "source": [
    "# Modelling evolution\n",
    "\n",
    "The (typical) process is:\n",
    "- Agents have genetic information, called their \"genotype\" \n",
    "- Based on their genotype a \"fitness\" is calculated\n",
    "- Some agents die\n",
    "- Some agents are born \n",
    "\n",
    "There are modelling decisions and choices are everywhere here!\n",
    "\n",
    "e.g.:\n",
    "- What is the genotype?\n",
    "- What is fitness? How does it depend on the agent genotype?\n",
    "- Who dies - dependent on what? Fitness? How many die?\n",
    "- Who is born - how many? What are their properties? Are they children of existing agents? Who gets to reproduce?\n",
    "- etc etc etc...\n",
    "- \n",
    "## An example\n",
    "https://www.complexity-explorables.org/explorables/maggots-in-the-wiggle-room/"
   ]
  },
  {
   "cell_type": "markdown",
   "id": "076e8823-91a5-4021-80b0-2ced6e5f5cd0",
   "metadata": {
    "editable": true,
    "slideshow": {
     "slide_type": ""
    },
    "tags": [
     "remove-cell"
    ]
   },
   "source": [
    "### Fitness\n",
    "Evolution is a change in a population's distribution of genotypes (may be hard to visualise)\n",
    "\n",
    "As genotypes change, we expect fitness to change \n",
    "\n",
    "Therefore, we use changes in the distribution of fitness as evidence of evolution (easier to visualise as it's just a single value)"
   ]
  },
  {
   "cell_type": "markdown",
   "id": "96ec316d-8096-4f97-8217-a45a62fc4524",
   "metadata": {
    "editable": true,
    "slideshow": {
     "slide_type": ""
    },
    "tags": [
     "remove-cell"
    ]
   },
   "source": [
    "##### Fitness landscapes\n",
    "\n",
    "We saw fitness landscapes in the context of particle swarm optimisation\n",
    "\n",
    "In genetic algorithms the fitness landscape, sometimes called an evolutionary landscape, is a function that maps genotype to fitness\n",
    "<!-- a relationship between genotype and fitness is needed for evolution but it can be any relationship -- even a totally random fitness landscape will work. -->\n",
    "        \n",
    "- The agent's fitness is the 'height' of the landscape at that location, which relates to an agent's ability to survive or reproduce\n",
    "- Increasing fitness (of the population) means that the species is getting better at surviving in its environment\n",
    "- In biological terms, the fitness landscape represents information about how the genotype of an organism is related to its physical form and capabilities, called its phenotype, and how the phenotype interacts with its environment"
   ]
  },
  {
   "cell_type": "markdown",
   "id": "4d9773f1-c016-47d7-bdd9-f397e6c496a3",
   "metadata": {
    "editable": true,
    "slideshow": {
     "slide_type": ""
    },
    "tags": [
     "remove-cell"
    ]
   },
   "source": [
    "##### Remember...\n",
    "Agents don't move over the fitness landscape (the genotype of an organism doesn't change)\n",
    "    \n",
    "When an agent dies, it can leave a location unoccupied. And when a mutation occurs, it can occupy a new location \n",
    "        \n",
    "As agents disappear from some locations and appear in others, the *population* migrates across the landscape (like a glider in Game of Life) \n",
    "        \n",
    "i.e. organisms don't evolve; populations do"
   ]
  },
  {
   "cell_type": "markdown",
   "id": "4b231ff7-ab6e-4fed-bed7-abb64c059f31",
   "metadata": {
    "editable": true,
    "slideshow": {
     "slide_type": ""
    },
    "tags": [
     "remove-cell"
    ]
   },
   "source": [
    "## Building the required mechanisms for adaptation into the model\n",
    "1. Variation: initialise the population with a variety of genotypes (or could simply rely on mutation)\n",
    "2. Differential survival and reproduction: genotype is mapped to fitness and a function converts the fitness to agent's ability to survive or reproduce\n",
    "3. Replication: the genotype is copied by agents that reproduce. Mutation of the genotype is included to increase diversity"
   ]
  },
  {
   "cell_type": "markdown",
   "id": "c70fd097-a345-4444-be0e-654e3a2b43c2",
   "metadata": {
    "editable": true,
    "slideshow": {
     "slide_type": ""
    },
    "tags": [
     "remove-cell"
    ]
   },
   "source": [
    "### How would you test these mechanisms?\n",
    "\n",
    "They should result in: adaptation, increasing diversity, increasing complexity\n",
    "\n",
    "For example:\n",
    "- Increasing fitness would mean that the species is getting better at surviving in its environment (and hence adapting)\n",
    "- Diversity could be captured by number of/distribution of genotypes"
   ]
  },
  {
   "cell_type": "markdown",
   "id": "405b0c35-35da-48ef-9991-726e1e01152a",
   "metadata": {
    "editable": true,
    "slideshow": {
     "slide_type": ""
    },
    "tags": [
     "remove-cell"
    ]
   },
   "source": [
    "This model is not meant to be realistic - evolution in natural systems is obviously much more complicated than this\n",
    "        \n",
    "Rather, it is a demonstration that the features of the model are *sufficient* to produce the behaviour we are trying to explain\n",
    "\n",
    "This doesn't prove that evolution in nature is caused by these mechanisms alone. But it is reasonable to think that they at least contribute to natural evolution\n",
    "                \n",
    "Similarly, it doesn't prove that these mechanisms always cause evolution. But the results are fairly robust."
   ]
  },
  {
   "cell_type": "markdown",
   "id": "2bee20e4-17e8-4992-a011-85783a6770ae",
   "metadata": {
    "editable": true,
    "slideshow": {
     "slide_type": ""
    },
    "tags": [
     "remove-cell"
    ]
   },
   "source": [
    "# Altruistic genes (and selfish ones) with an evolutionary model\n",
    "\n",
    "What do you expect of this computational model...?:\n",
    "\n",
    ">*In a evolving population where some agents have genes that encourage them to help others, even to their own detriment, and other agents are purely selfish...*\n",
    "\n",
    ">*... it seems like the selfish ones would benefit, the altruistic ones would suffer, and the genes for altruism would be driven to extinction -- Allen Downey*\n",
    "\n",
    "\n",
    "This apparent conflict (between natural selection, which suggests that animals live in a state of constant competition, and altruism, which is the tendency of many animals to help other animals, even to their own detriment) is the 'problem/paradox of altruism'\n",
    "\n",
    "Among biologists, there are many possible explanations, including reciprocal altruism, sexual selection, kin selection, and group selection. "
   ]
  },
  {
   "cell_type": "markdown",
   "id": "bb4d3000-de25-4139-b5cf-a3f1a7ededf9",
   "metadata": {
    "editable": true,
    "slideshow": {
     "slide_type": ""
    },
    "tags": [
     "remove-cell"
    ]
   },
   "source": [
    "# Iterated prisoner's dilemma\n",
    "\n",
    "There is no altruism in the Prisoner's Dilemma, and yet, when real people play these games we frequently observe them not chasing maximal utility in a rational way\n",
    "\n",
    "Here's a third option for why people are not rational: altruism is simply adaptive (Occam's razor - again!) i.e. genes for altruism make people more likely to survive and reproduce\n",
    "\n",
    "Robert Axelrod's tournament played many different strategies against each other in *repeated games* (200 rounds)\n",
    "\n",
    "14 different strategies (+ random) were submitted by participants\n",
    "\n",
    "<center> \n",
    "<img src=\"Axelrod_PD.png\" width=\"300\"/>\n",
    "</center>"
   ]
  },
  {
   "cell_type": "markdown",
   "id": "bc4a3e25-e61d-4249-ad83-e94241116252",
   "metadata": {
    "editable": true,
    "slideshow": {
     "slide_type": ""
    },
    "tags": [
     "remove-cell"
    ]
   },
   "source": [
    "## Successful strategies\n",
    "Successful strategies in the tournament had the following properties:\n",
    "- **Nice**: The strategies that do well cooperate during the first round, and generally cooperate as often as they defect in subsequent rounds\n",
    "- **Retaliating**: Strategies that cooperate all the time did not do as well as strategies that retaliate if the opponent defects (avoiding further losses and disincentivising defecting) \n",
    "- **Forgiving**: But strategies that were too vindictive tended to punish themselves as well as their opponents\n",
    "- **Non-envious**: Some of the most successful strategies seldom outscore their opponents and aren't tempted; they are successful because they do well enough against a wide variety of opponents\n",
    "\n",
    "A brain that is wired to be nice, tempered by a balance of retaliation and forgiveness, with foresight beyond the immediate future will tend to do well in a wide variety of circumstances."
   ]
  },
  {
   "cell_type": "markdown",
   "id": "66bd5cf9-9059-4f94-8551-97e061671068",
   "metadata": {
    "editable": true,
    "slideshow": {
     "slide_type": ""
    },
    "tags": [
     "remove-cell"
    ]
   },
   "source": [
    "### Tit for Tat\n",
    "One strategy, called Tit for Tat, cooperated in the first instance and then copied the opponents move in the previous round of play\n",
    "\n",
    "Does Tit for Tat have the properties of a successful strategy? (nice, retaliatory, forgiving, non-envious)\n",
    "<!-- nice - cooperates in first round\n",
    "retaliates - tit for tat\n",
    "forgiving - tit for tat. But being more forgiving can be even better e.g. tit for 2tat avoids echo effect but can be taken advantage of once people know this strategy exists\n",
    "non-envious - can only tie or lose against a single opponent -->\n",
    "\n",
    "This strategy actually won the tournament but better strategies have been uncovered since.\n",
    "<center> \n",
    "<img src=\"Iterated_Prisoners_Dilemma_Venn-Diagram.svg\" width=\"600\"/>\n",
    "</center>\n",
    "\n",
    "\n"
   ]
  },
  {
   "cell_type": "markdown",
   "id": "86d7cac4-4d05-4235-b786-29995a6cfc59",
   "metadata": {
    "editable": true,
    "slideshow": {
     "slide_type": ""
    },
    "tags": [
     "remove-cell"
    ]
   },
   "source": [
    "...For inclusion in 2025...\n",
    "More background on PD variants needed: https://en.wikipedia.org/wiki/Prisoner%27s_dilemma#cite_note-1\n",
    "\n",
    "<center> \n",
    "<img src=\"Axelrod_TournamentResults.png\" width=\"600\"/>\n",
    "</center>"
   ]
  },
  {
   "cell_type": "markdown",
   "id": "c2b6a8b3-26d3-4941-b32c-2eef774cbd34",
   "metadata": {
    "editable": true,
    "slideshow": {
     "slide_type": ""
    },
    "tags": [
     "remove-cell"
    ]
   },
   "source": [
    "## Evolving a successful strategy\n",
    "\n",
    "Axelrod's tournaments and the strategies that were played were designed by people - they didn't evolve \n",
    "        \n",
    "Assume the points accrued at the end of one of Axelrod's tournaments are a kind of resource that can be used for reproduction\n",
    "\n",
    "- Genotype: iterated PD strategy (we'll need a way to encode the PD strategy as a genotype)\n",
    "- Generation: an Axelrod tournament (200 games against all opponents)\n",
    "- Fitness: points accrued\n",
    "- Reproduction: function of fitness such that the number of players with successful strategies increases in - successive generations\n"
   ]
  },
  {
   "cell_type": "markdown",
   "id": "a9bbd415-1de4-4083-b584-6f99d2524d1b",
   "metadata": {
    "editable": true,
    "slideshow": {
     "slide_type": ""
    },
    "tags": [
     "remove-cell"
    ]
   },
   "source": [
    "## Analysis\n",
    "What sorts of questions might we try and answer with a computational model of the tournament?\n",
    "- Can genes for niceness, retribution, and forgiveness appear by mutation? \n",
    "- Can they successfully invade a population of other strategies?\n",
    "- Can they resist being invaded by subsequent mutations?\n",
    "\n",
    "I'll leave it with you to think about modelling this to evolve a winning strategy and the sorts of behaviours that might emerge from this Complex System."
   ]
  },
  {
   "cell_type": "code",
   "execution_count": 1,
   "id": "5416b4f2-08a4-4c61-9263-8f63fd127ac6",
   "metadata": {
    "editable": true,
    "slideshow": {
     "slide_type": "subslide"
    },
    "tags": [
     "slides",
     "hide-input"
    ]
   },
   "outputs": [
    {
     "name": "stdout",
     "output_type": "stream",
     "text": [
      "Lectures completed successfully!\n"
     ]
    }
   ],
   "source": [
    "print(\"Lectures completed successfully!\")"
   ]
  },
  {
   "cell_type": "markdown",
   "id": "407e130e-1c99-44a4-a6d5-ef0d46aa6945",
   "metadata": {
    "editable": true,
    "slideshow": {
     "slide_type": "subslide"
    },
    "tags": [
     "slides"
    ]
   },
   "source": [
    "<div style=\"margin: 1.5em 0; border-right: 4px solid #888; padding-right: 1em; text-align: right;\">\n",
    "  <div style=\"font-style: italic; font-family: 'Comic Neue', 'Segoe Script', cursive; font-size: 1.2em;\">\n",
    "    Tiger got to hunt, bird got to fly; Man got to sit and wonder 'why, why, why?' Tiger got to sleep, bird got to land; Man got to tell himself he understand.\n",
    "  </div>\n",
    "  <div style=\"font-style: normal; font-size: 0.95em; margin-top: 0.5em;\">\n",
    "    — Kurt Vonnegut\n",
    "  </div>\n",
    "</div>\n",
    "\n",
    "I hope that you've enjoyed this unit and that you think about it and what you have learned as you go into the next phase of your working life and education\n",
    "\n",
    "Good luck for the upcoming Test and your final Project submissions :)"
   ]
  }
 ],
 "metadata": {
  "celltoolbar": "Slideshow",
  "kernelspec": {
   "display_name": "Python 3 (ipykernel)",
   "language": "python",
   "name": "python3"
  },
  "language_info": {
   "codemirror_mode": {
    "name": "ipython",
    "version": 3
   },
   "file_extension": ".py",
   "mimetype": "text/x-python",
   "name": "python",
   "nbconvert_exporter": "python",
   "pygments_lexer": "ipython3",
   "version": "3.11.8"
  },
  "toc": {
   "base_numbering": 1,
   "nav_menu": {},
   "number_sections": true,
   "sideBar": true,
   "skip_h1_title": false,
   "title_cell": "Table of Contents",
   "title_sidebar": "Contents",
   "toc_cell": false,
   "toc_position": {},
   "toc_section_display": true,
   "toc_window_display": false
  }
 },
 "nbformat": 4,
 "nbformat_minor": 5
}

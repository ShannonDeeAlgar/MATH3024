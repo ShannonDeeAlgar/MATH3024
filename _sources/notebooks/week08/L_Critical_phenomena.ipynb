{
 "cells": [
  {
   "cell_type": "markdown",
   "id": "082eb6fb",
   "metadata": {
    "editable": true,
    "slideshow": {
     "slide_type": "slide"
    },
    "tags": [
     "slides"
    ]
   },
   "source": [
    "# Week 8: Critical behaviour \n",
    "Last week we learnt about swarm optimisation with agent-based models.\n",
    "\n",
    "Today, we'll return to cellular automata as the modelling framework to explore criticality."
   ]
  },
  {
   "cell_type": "markdown",
   "id": "3a5d179e-8640-4eb4-967c-280c2d025804",
   "metadata": {
    "editable": true,
    "raw_mimetype": "",
    "slideshow": {
     "slide_type": "subslide"
    },
    "tags": [
     "slides"
    ]
   },
   "source": [
    "## Motivation: Vicsek model"
   ]
  },
  {
   "cell_type": "markdown",
   "id": "57db6da4-4df2-4ae1-a57f-9e496f7c8487",
   "metadata": {
    "editable": true,
    "slideshow": {
     "slide_type": ""
    },
    "tags": [
     "reader-only"
    ]
   },
   "source": [
    "We’ve already seen how to:\n",
    "1. Define an order parameter for collective behaviour (the average velocity, $v_a$).\n",
    "2. Sweep parameters (noise, $\\eta$ and density, $\\rho$).\n",
    "3. Average over ensembles.\n",
    "\n",
    "These steps produce curves that *suggest* a **phase transition**, where collective behaviour changes abruptly:"
   ]
  },
  {
   "cell_type": "markdown",
   "id": "799d3718-8537-4355-8044-a69c0a3df913",
   "metadata": {
    "editable": true,
    "slideshow": {
     "slide_type": "fragment"
    },
    "tags": [
     "slides"
    ]
   },
   "source": [
    "![](images/Vicsek_results_Fig2a.png)\n",
    "\n",
    "Fig 2a of the original [Vicsek model](https://doi.org/10.1103/PhysRevLett.75.1226)."
   ]
  },
  {
   "cell_type": "markdown",
   "id": "410cd75c-177a-4b8a-a53b-e7544d068875",
   "metadata": {
    "editable": true,
    "slideshow": {
     "slide_type": ""
    },
    "tags": [
     "reader-only"
    ]
   },
   "source": [
    "### Fig. 2a of Vicsek, 1995 \n",
    "\n",
    "Shows how the order parameter (the average velocity $v_a$) changes as the control parameter (noise strength $\\eta$) is adjusted for different system sizes.\n",
    "\n",
    "When noise is high, the system is disordered: particles move in all directions with equal probability. This state has rotational symmetry (if you rotated the system, it would look the same on average).\n",
    "\n",
    "As noise decreases, particles align in a common direction. \n",
    "\n",
    "The equations don’t prescribe which direction — the system chooses one itself. This is **spontaneous symmetry breaking**: no external field or leader dictates the choice, yet once chosen, the direction is stable."
   ]
  },
  {
   "cell_type": "markdown",
   "id": "b3404c45-0b71-4d73-9a25-439a60bc7d51",
   "metadata": {
    "editable": true,
    "slideshow": {
     "slide_type": ""
    },
    "tags": [
     "reader-only"
    ]
   },
   "source": [
    "But in statistical physics eyeballing a curve isn't enough.\n",
    "\n",
    "We need to extract scaling laws and critical exponents... and Vicsek was a Statistical Physicist afterall:\n"
   ]
  },
  {
   "cell_type": "markdown",
   "id": "0ba86c5a-8d64-4793-92ec-5d20e458850e",
   "metadata": {
    "editable": true,
    "slideshow": {
     "slide_type": "subslide"
    },
    "tags": [
     "slides"
    ]
   },
   "source": [
    "\n",
    "![](images/Vicsek_abstract.png)\n",
    "\n",
    "This is the abstract of the original [Vicsek model](https://doi.org/10.1103/PhysRevLett.75.1226)."
   ]
  },
  {
   "cell_type": "markdown",
   "id": "d668046e-417a-48d6-a66b-8436259a2dab",
   "metadata": {
    "editable": true,
    "slideshow": {
     "slide_type": ""
    },
    "tags": [
     "reader-only"
    ]
   },
   "source": [
    "Abstracts are short, and space is precious but the authors highlight the following details because they are *fundamental to understanding the behaviour of the system*: \n",
    "\n",
    "1. The type of phase transition: continuous\n",
    "2. The power law scaling: $(\\eta_c-\\eta)^\\beta$ \n",
    "3. The critical exponent: $\\beta\\approx 0.45$"
   ]
  },
  {
   "cell_type": "markdown",
   "id": "382b69fc",
   "metadata": {
    "editable": true,
    "slideshow": {
     "slide_type": "subslide"
    },
    "tags": [
     "slides"
    ]
   },
   "source": [
    "## Phase transition\n",
    "A **phase transition** is when a system undergoes a sudden transformation from one state to another (e.g. order to chaos).\n",
    "\n",
    "These transformations matter because they produce qualitatively new patterns and behaviours.\n",
    "\n",
    "They arise from interactions and feedback loops, and are marked by sharp shifts in key properties."
   ]
  },
  {
   "cell_type": "markdown",
   "id": "155a6f95-9ba9-4c92-95ee-b426dcd13a78",
   "metadata": {
    "editable": true,
    "slideshow": {
     "slide_type": ""
    },
    "tags": [
     "reader-only"
    ]
   },
   "source": [
    "Phase transitions are often about ordering.\n",
    "\n",
    "For example, water molecules are disordered in liquid, but ordered in ice. Between these states there is a transition that we often describe a phase transition using an order parameter.\n",
    "\n",
    "Phase transitions are generally classified into two main types, distinguished by whether they exhibit smooth, continuous critical behaviour or abrupt, discontinuous jumps."
   ]
  },
  {
   "cell_type": "markdown",
   "id": "e6dfdec8",
   "metadata": {
    "editable": true,
    "slideshow": {
     "slide_type": "subslide"
    },
    "tags": [
     "slides"
    ]
   },
   "source": [
    "### First-order phase transitions\n",
    "A discontinuous jump in the order parameter, $\\Phi$:\n",
    "\n",
    "![](images/First_order_transition.png)\n",
    "\n",
    "e.g.: melting of ice, boiling of water, and ferromagnetic/paramagnetic transitions."
   ]
  },
  {
   "cell_type": "markdown",
   "id": "95ff6598-94be-4550-84b6-e3a3f23c9dea",
   "metadata": {
    "editable": true,
    "slideshow": {
     "slide_type": ""
    },
    "tags": [
     "reader-only"
    ]
   },
   "source": [
    "- Abrupt, discontinuous change: the system jumps sharply from one stable state to another.\n",
    "- Thermodynamic signature: discontinuity in the first derivative of the free energy (e.g. entropy, volume), usually with latent heat absorbed or released."
   ]
  },
  {
   "cell_type": "markdown",
   "id": "7f63890a-b67b-4c8f-a091-d882e5c2dcf8",
   "metadata": {
    "editable": true,
    "slideshow": {
     "slide_type": "subslide"
    },
    "tags": [
     "slides"
    ]
   },
   "source": [
    "### Second-order phase transitions\n",
    "A more gradual smooth change:\n",
    "\n",
    "![](images/Second_order_transition.png)\n",
    "\n",
    "e.g.: superconducting transition in metals, ferromagnetic transition in iron, and the superfluid transition in helium."
   ]
  },
  {
   "cell_type": "markdown",
   "id": "845af020-f094-4954-b53d-21da41f4c437",
   "metadata": {
    "editable": true,
    "slideshow": {
     "slide_type": ""
    },
    "tags": [
     "reader-only"
    ]
   },
   "source": [
    "- Continuous transitions: change occurs smoothly, without abrupt jumps.\n",
    "- Thermodynamic signature: first derivatives of free energy remain continuous, but second derivatives (e.g. specific heat, susceptibility) may diverge or show discontinuities (kinks may be present in this curve). No latent heat is involved.\n",
    "- Beyond the critical point, the distinction between phases disappears and their properties converge."
   ]
  },
  {
   "cell_type": "markdown",
   "id": "fd8ac636-641a-414e-b6f9-0a71a855d87c",
   "metadata": {
    "editable": true,
    "slideshow": {
     "slide_type": "subslide"
    },
    "tags": [
     "slides"
    ]
   },
   "source": [
    "#### The battle over the type of transition\n",
    "For many years researchers argued about the nature of this transition:\n",
    "\n",
    "![](images/Gregoire_Chate_transition_type.png)\n",
    "\n",
    "Fig from: Grégoire and Chaté's analysis of the [Onset of Collective and Cohesive Motion](https://journals.aps.org/prl/pdf/10.1103/PhysRevLett.92.025702)"
   ]
  },
  {
   "cell_type": "markdown",
   "id": "ac8be1f4-d78f-4120-8aa7-9e5b23ac157e",
   "metadata": {
    "editable": true,
    "slideshow": {
     "slide_type": ""
    },
    "tags": [
     "reader-only"
    ]
   },
   "source": [
    "Vicsek et al. (1995) argued it was continuous: as noise increased, order gradually declined towards disorder. Later work (notably Grégoire & Chaté, mid-2000s) found signs of discontinuous behaviour with abrupt switching and coexistence between ordered and disordered phases.\n",
    "\n",
    "The difficulty lay in a few things:\n",
    "- finite-size effects: in small simulations the transition looked smooth, whereas larger particle numbers show sharper transitions and only with very large system sizes did the discontinuous nature become clear. \n",
    "- noise implementation: Vicsek used angular noise (random angle added to the average heading) but later work looked at vectorial noise (random vector added before normalisation). These two produce qualitatively different transitions: angular noise looks more continuous, vectorial noise more discontinuous.\n",
    "\n",
    "This back-and-forth illustrates some key points:\n",
    "1. science is alive and full of debate. One of the simplest models in complex systems sparked years of disagreement!\n",
    "2. definitions and implementations matter and even simple models can hide complex truths that only reveal themselves when pushed to their limits.\n",
    "3. phase transitions are subtle.\n",
    "4. the order of the transition matters (continuous transitions are linked with critical phenomena, power laws, universality, etc., while discontinuous ones are more like “flips” between states).\n",
    "\n",
    "It is on this last point that we will now focus - the reason for the debate in the first place. "
   ]
  },
  {
   "cell_type": "markdown",
   "id": "7496334f",
   "metadata": {
    "editable": true,
    "slideshow": {
     "slide_type": "subslide"
    },
    "tags": [
     "slides"
    ]
   },
   "source": [
    "## Critical phenomena\n",
    "If a phase transition occurs then there is a **critical point (aka tipping point)** between the phases where dramatic changes in behaviour and properties emerge.\n",
    "\n",
    "If a phase transition occurs, there is a critical boundary between phases. \n",
    "\n",
    "For continuous (second-order) transitions, this boundary is marked by dramatic changes and unexpected **critical phenomena** characterised by:\n",
    "- Diverging correlations\n",
    "- Scale-invariance\n",
    "- Power laws everywhere."
   ]
  },
  {
   "cell_type": "markdown",
   "id": "b30e956d-f7cf-417c-b0ab-06f826d7d9c1",
   "metadata": {
    "editable": true,
    "slideshow": {
     "slide_type": ""
    },
    "tags": [
     "remove-cell",
     "presenter-notes"
    ]
   },
   "source": [
    "<div style=\"background-color: #ffff88; padding: 1em; border-left: 5px solid #fff102;\">\n",
    "Worth highlighting to students mechanism/consequence/fingerprint:\n",
    "\n",
    "Near this critical point:\n",
    "- **Mechanism**: Correlations diverge (in space and time, no characteristic scale).\n",
    "- **Consequence**: This loss of its characteristic scale makes the system scale-invariant.\n",
    "- **Fingerprint**: And scale invariance is expressed mathematically as power laws in observables.\n",
    "\n",
    "</div>"
   ]
  },
  {
   "cell_type": "markdown",
   "id": "e05a68b7-4349-4c14-bb07-2efe17a03a84",
   "metadata": {
    "editable": true,
    "slideshow": {
     "slide_type": ""
    },
    "tags": [
     "reader-only"
    ]
   },
   "source": [
    "First-order transitions themselves don’t have critical phenomena because the change is abrupt, with a finite correlation length and latent heat, so there is no diverging scale or scale-invariance.\n",
    "\n",
    "And this is exactly why researchers were debating so much about whether the Vicsek model underwent a first- or second-order transition.\n",
    "\n",
    "If it is second-order (continuous) then we get genuine critical phenomena. This makes the flocking transition analogous to classical statistical physics transitions (Ising, percolation, etc.), which is theoretically powerful.\n",
    "\n",
    "If the transition is first-order (discontinuous) then none of that applies and we can’t meaningfully speak of “critical phenomena” in the usual sense. Instead we expect hysteresis, phase coexistence (e.g. ordered bands moving through disorder), and a jump in the order parameter.\n",
    "\n",
    "Remember: Vicsek was pretty excited to have invented the moving analogue of the Heisenberg model! A first-order transition directly challenges the idea of *flocking as a new universality class with critical behaviour*."
   ]
  },
  {
   "cell_type": "markdown",
   "id": "a5491561-24dd-4854-b885-7488872d7c7b",
   "metadata": {
    "editable": true,
    "slideshow": {
     "slide_type": "subslide"
    },
    "tags": [
     "slides"
    ]
   },
   "source": [
    "### Diverging correlations in:\n",
    "- **Space**: correlation length diverges (everything becomes coupled).\n",
    "- **Time**: correlation time diverges (system takes forever to “forget” fluctuations).\n",
    "\n",
    "This means there is no characteristic space/time scale."
   ]
  },
  {
   "cell_type": "markdown",
   "id": "6465c807-1a3e-4842-ab2b-6b160a12cf18",
   "metadata": {
    "editable": true,
    "slideshow": {
     "slide_type": ""
    },
    "tags": [
     "reader-only"
    ]
   },
   "source": [
    "#### Correlation length, $\\xi$ \n",
    "Tells us how far information about local fluctuations “propagates” across the system.\n",
    "\n",
    "**Away from criticality**: $\\xi$ is finite and short\n",
    "- Correlations are local: disturbances don’t spread far, and distant regions fluctuate independently.\n",
    "- Correlations in space decay **exponentially** with the characteristic scale $\\xi$:\n",
    "\n",
    "$$\n",
    "C(r) \\sim e^{-r/\\xi}.\n",
    "$$\n",
    "\n",
    "**Near criticality**: $\\xi$ grows large\n",
    "- Correlations between different parts of the system become increasingly long-ranged.\n",
    "- A small change in one part of the system can influence distant parts, leading to large-scale fluctuations (distant parts of the system begin to fluctuate together).\n",
    "- System behaviour starts to depend strongly on system size, because correlations are approaching the system boundary.\n",
    "\n",
    "**At criticality**: $\\xi \\to \\infty$\n",
    "- There is no single spatial scale — correlations exist across all distances.\n",
    "- The system becomes **scale-free in space**.\n",
    "- The exponential decay breaks down and is replaced by a **power law**:\n",
    "\n",
    "$$\n",
    "C(r) \\sim r^{-\\eta}.\n",
    "$$"
   ]
  },
  {
   "cell_type": "markdown",
   "id": "e813432b-01c8-4358-84c8-71764ac6e06d",
   "metadata": {
    "editable": true,
    "slideshow": {
     "slide_type": ""
    },
    "tags": [
     "reader-only"
    ]
   },
   "source": [
    "#### Correlation time, $\\tau$\n",
    "The temporal analogue of correlation length.\n",
    "\n",
    "Tells us how long information about a fluctuation “persists” before the system forgets it.\n",
    "\n",
    "**Away from criticality**: $\\tau$ is finite and short\n",
    "- Fluctuations die out quickly, the system relaxes fast, and successive measurements are nearly independent.\n",
    "- Correlations in time decay exponentially with the characteristic (time) scale $\\tau$\n",
    "\n",
    "$$\n",
    "C(t) \\sim e^{-t/\\tau}.\n",
    "$$\n",
    "\n",
    "where where larger $\\tau$ means slower decay (longer memory), and smaller $\\tau$ means faster decay (shorter memory).\n",
    "\n",
    "**Near criticality**: $\\tau$ grows large\n",
    "- Fluctuations persist for a long time; the system responds sluggishly to external perturbations and the time it takes the system to return to equilibrium after disturbance is long.\n",
    "- This is **critical slowing down**.\n",
    "\n",
    "**At criticality**: $\\tau$ diverges ($\\to \\infty$). \n",
    "- There is no single relaxation scale.\n",
    "- The system becomes **scale-free in time**: fluctuations exist on all timescales.\n",
    "- The exponential decay breaks down and is replaced by a power law (a scale-free decay):\n",
    "\n",
    "$$\n",
    "C(t) \\sim t^{-\\alpha}.\n",
    "$$"
   ]
  },
  {
   "cell_type": "markdown",
   "id": "cf11acf4-09c5-432c-9516-b265df72ff76",
   "metadata": {
    "editable": true,
    "slideshow": {
     "slide_type": ""
    },
    "tags": [
     "reader-only"
    ]
   },
   "source": [
    "##### Exponentials and Power laws: a very quick review\n",
    "\n",
    "**Exponential decay** (with characteristic timescale $\\tau$):\n",
    "\n",
    "$$\n",
    "C(t)\\sim e^{-t/\\tau}\n",
    "$$\n",
    "\n",
    "This form has a *built-in scale*. On linear axes the curve looks flat at short times and drops rapidly to zero at long times. On a log–log plot, it bends — the “knee” marks the characteristic scale $\\tau$.\n",
    "\n",
    "**Power law decay** (no characteristic timescale):\n",
    "\n",
    "$$\n",
    "y \\;\\sim\\; x^{\\alpha},\n",
    "$$\n",
    "\n",
    "where:\n",
    "\n",
    "* $y$ is the dependent variable,\n",
    "* $x$ is the independent variable (often distance, time, or the deviation from criticality),\n",
    "* $\\alpha$ is the **power law exponent** (can be positive or negative).\n",
    "\n",
    "Here the decay is *scale-free*. This is evident from the fact that power laws appear as straight lines on log–log plots, with the slope equal to the exponent, $\\alpha$.\n",
    "\n",
    "$$\n",
    "y = A\\,x^{\\alpha}\n",
    "$$\n",
    "\n",
    "becomes\n",
    "\n",
    "$$\n",
    "\\log y = \\log A + \\alpha \\log x,\n",
    "$$\n",
    "\n",
    "Rescaling the time axis simply shifts the line without changing its slope. In other words, the decay has the same form at all scales. This is **scale invariance**. In general, scale invariance means patterns or statistical properties look the same at different scales. Formally, a function $f(x)$ is scale invariant if for any constant $c>0$:\n",
    "\n",
    "$$\n",
    "f(cx)\\propto f(x).\n",
    "$$"
   ]
  },
  {
   "cell_type": "markdown",
   "id": "03ff8b24-de7a-4337-b6b1-a652174b4ad7",
   "metadata": {
    "editable": true,
    "slideshow": {
     "slide_type": ""
    },
    "tags": [
     "reader-only"
    ]
   },
   "source": [
    "<div style=\"border-left: 4px solid #1e70bf; padding: 0.75em; background-color: #eaf3fb; margin-bottom: 1em;\">\n",
    "  <strong>Proof:</strong><br>\n",
    "  Convince yourself that power laws are indeed scale free.\n",
    "</div>"
   ]
  },
  {
   "cell_type": "markdown",
   "id": "73ef3c0c-1999-4dd5-8f2d-0660214a8787",
   "metadata": {
    "editable": true,
    "slideshow": {
     "slide_type": ""
    },
    "tags": [
     "reader-only"
    ]
   },
   "source": [
    "```{toggle}\n",
    "\n",
    "Take a power law:\n",
    "\n",
    "$$\n",
    "f(x) = A x^{-\\alpha}.\n",
    "$$\n",
    "\n",
    "If you rescale the argument $x \\mapsto c x$:\n",
    "\n",
    "$$\n",
    "f(c x) = A (c x)^{-\\alpha} = c^{-\\alpha} f(x).\n",
    "$$\n",
    "\n",
    "So it’s not *exactly equal* to $f(x)$, but it has the *same functional form*, multiplied by a constant factor $c^{-\\alpha}$.\n",
    "\n",
    "That counts as scale invariance because rescaling has just rescaled the vertical axis by a constant leaving the shape unchanged.\n",
    "\n",
    "Contrast this with exponentials, where rescaling the axis changes the shape of the function (introduces a new timescale).\n",
    "```"
   ]
  },
  {
   "cell_type": "markdown",
   "id": "dd5fbfb8-5f02-4683-9efa-cf0350649461",
   "metadata": {
    "editable": true,
    "slideshow": {
     "slide_type": ""
    },
    "tags": [
     "reader-only"
    ]
   },
   "source": [
    "Power laws are **heavy-tailed**. This means that the part of the distribution representing extreme values decays *more slowly than an exponential distribution*.\n",
    "\n",
    "![](images/Tails_comparison.png)\n",
    "\n",
    "This means that:\n",
    "- **Extreme events are common**: very large earthquakes, financial crashes, or highly connected network hubs occur far more often than in light-tailed distributions. If you wait long enough, a “big one” will eventually arrive.\n",
    "- **Robust yet fragile**: systems with heavy-tailed structure (e.g. scale-free networks) are resilient to random small failures but highly vulnerable to targeted attacks on hubs.\n",
    "- **Statistical challenges**: extreme values are so frequent that standard summary measures fail. In many cases:\n",
    "    - The mean may diverge or be dominated by a few large events.\n",
    "    - Averages are therefore not representative or meaningful. Nor are any other characteristic length of an observable property because the distribution remains the same regardless of the scale at which you observe it.\n",
    "    - Special statistical tools (e.g. tail exponents, quantile methods, log-log plots) are needed for proper analysis.\n",
    "\n",
    "Empirically, we will rarely see true power laws for all values but we will consider the system to be governed by a power law if it follows a *power law in the tail* (heavy tail).\n",
    "\n",
    "- e.g. Gutenberg-Richter Law relating the magnitude and number of earthquakes:\n",
    "\n",
    "$$\n",
    "N(M) = 10^{a-bM}\n",
    "$$\n",
    "\n",
    "The critical system in this case is the Earth's crust.\n",
    "\n",
    "![](images/Earthquake_heavy_tail.png)\n",
    "\n",
    "Power laws also appear outside strict thermodynamic critical points (in networks, biology, economics etc).\n",
    "\n",
    "- e.g. scale-free networks with power law degree distribution:\n",
    "\n",
    "$$\n",
    "p(k) \\propto k^{-\\gamma}.\n",
    "$$\n",
    "\n",
    "![](images/Degree_distribution_for_BA_network.png)\n",
    "\n",
    "The noisy tail is something you’ll almost always see, on account of sampling limits (very few nodes at high degree) and real-world constraints (finite size, cutoffs, costs on connections).\n",
    "\n",
    "We won't go into much detail other than plotting on a log-log scale and fitting a straight line to estimate the scaling exponent. If you're interested see Clauset's SIAM review on [Power-Law Distributions in Empirical Data](https://doi.org/10.1137/070710111):\n",
    "\n",
    "![](images/Clauset_recipe_for_analysing_power_laws.png)\n",
    "\n",
    "Fig from Clauset's review."
   ]
  },
  {
   "cell_type": "markdown",
   "id": "c3126e06-2aef-4aa7-afb7-8c04fae6fd62",
   "metadata": {
    "editable": true,
    "slideshow": {
     "slide_type": "subslide"
    },
    "tags": [
     "slides"
    ]
   },
   "source": [
    "##### An Analogy\n",
    "\n",
    "Consider a stadium crowd responding to a clap.\n",
    "- How far the clap spreads is the correlation length ($\\xi$).\n",
    "- How long it lingers is the correlation time ($\\tau$).\n",
    "\n",
    "**Away from criticality**:\n",
    "- **$\\xi$ is local:** one clap affects only nearby seats.\n",
    "- **$\\tau$ is short:** clap fades instantly.\n",
    "\n",
    "**Near criticality**:\n",
    "- **$\\xi$ is large:** a wave sweeps across much of the stadium.\n",
    "- **$\\tau$ is long:** clap echoes and lingers, system is slow to settle.\n",
    "\n",
    "**At criticality**:\n",
    "- **$\\xi \\to \\infty$:** Whole stadium moves as one; disturbance spreads everywhere.\n",
    "- **$\\tau \\to \\infty$:** No single settling time; ripples persist on all timescales."
   ]
  },
  {
   "cell_type": "markdown",
   "id": "acfc4253-9ecb-44c6-bf96-73d490189eaa",
   "metadata": {
    "editable": true,
    "slideshow": {
     "slide_type": "subslide"
    },
    "tags": [
     "slides"
    ]
   },
   "source": [
    "##### And back to flocking\n",
    "\n",
    "Let's now make sure we understand the meaning of the correlation length and time in terms of flocking...\n",
    "\n",
    "**Away from criticality**:\n",
    "\n",
    "1. In the ordered phase (low noise):\n",
    "- **Length:** the system self-organises into large, coherent flocks. The correlation length is essentially the size of a flock (particles within a flock are strongly aligned, but different flocks can move in different directions).\n",
    "- **Time:** fluctuations relax quickly; the correlation time is how long it takes a perturbation to return to the mean alignment (a few update steps).\n",
    "\n",
    "2. In the disordered phase (high noise): \n",
    "- **Length:** the characteristic length is on the order of the interaction radius (the neighbourhood size each particle aligns with), because beyond that, orientations are uncorrelated.\n",
    "- **Time:** orientations randomise almost every step, so correlations vanish rapidly and the timescale is again short.\n",
    "\n",
    "i.e. away from criticality, we can identify a typical length and there’s a well-defined, finite relaxation time."
   ]
  },
  {
   "cell_type": "markdown",
   "id": "6d5adcc5-3f8a-4034-97ae-48bcb134c6c4",
   "metadata": {
    "editable": true,
    "slideshow": {
     "slide_type": "subslide"
    },
    "tags": [
     "slides"
    ]
   },
   "source": [
    "\n",
    "**At the critical point**\n",
    "- **Length:** flocks of all sizes emerge and there is no typical flock size.\n",
    "- **Time:** fluctuations persist on all timescales and there is no typical relaxation time."
   ]
  },
  {
   "cell_type": "markdown",
   "id": "72153950-d367-4d46-ae50-b6a62080a283",
   "metadata": {
    "editable": true,
    "slideshow": {
     "slide_type": "subslide"
    },
    "tags": [
     "slides"
    ]
   },
   "source": [
    "#### Vicsek and correlations\n",
    "\n",
    "Vicsek didn't actually measure correlation functions directly. \n",
    "\n",
    "Instead, they inferred the divergence of the correlation length from the finite-size scaling of the order parameter (Fig. 2) and the resulting scaling collapse (Fig. 3)."
   ]
  },
  {
   "cell_type": "markdown",
   "id": "57b56eec-54bd-42ea-9b7b-def3f22a396b",
   "metadata": {
    "editable": true,
    "slideshow": {
     "slide_type": ""
    },
    "tags": [
     "reader-only"
    ]
   },
   "source": [
    "Later studies (by Vicsek & Czirók, and independently by Chate and by Toner–Tu) explicitly measured velocity correlations and confirmed the scaling picture."
   ]
  },
  {
   "cell_type": "markdown",
   "id": "aa2bb85a-4edc-442a-a3da-9545f9cda4bf",
   "metadata": {
    "editable": true,
    "slideshow": {
     "slide_type": "subslide"
    },
    "tags": [
     "slides"
    ]
   },
   "source": [
    "#### Finite-size effects\n",
    "\n",
    "True criticality requires an infinite system such that the correlation length can diverge at the critical point. \n",
    "\n",
    "In a finite system, however, the correlation length $\\xi$ cannot exceed the system size, $L$.\n",
    "\n",
    "In such cases, $\\xi$ grows only up to $L$, near criticality the entire system becomes correlated, and observables depend on both the control parameter $p$ and the system size $L$."
   ]
  },
  {
   "cell_type": "markdown",
   "id": "98564c90-1d05-480d-aead-75a33bce8053",
   "metadata": {
    "editable": true,
    "slideshow": {
     "slide_type": "subslide"
    },
    "tags": [
     "slides"
    ]
   },
   "source": [
    "We got a hint of this behaviour from doing parameter sweeps with different system sizes:\n",
    "\n",
    "![](images/Vicsek_results_Fig2a.png)\n",
    "\n",
    "Fig. 2a: The transition sharpens with increasing $N$. If correlations are long or short-ranged, size doesn’t matter much for the overall behaviour. In the transition region, dependence on $N$ shows $\\xi$ is growing towards $L$ and what looks like a wide band of criticality is really just finite-size rounding of an underlying sharp transition."
   ]
  },
  {
   "cell_type": "markdown",
   "id": "587e7844-8c2c-4a29-9a09-8db8276d1d2e",
   "metadata": {
    "editable": true,
    "slideshow": {
     "slide_type": "subslide"
    },
    "tags": [
     "slides"
    ]
   },
   "source": [
    "#### Finite-size scaling\n",
    "Many real-world systems (e.g. bird flocks, fish schools, power grids) are finite yet still show *quasi-critical behaviour*: \n",
    "- large fluctuations\n",
    "- approximate scale-free behaviour over a finite range (the transition “band” displays a range of intermediate order-parameter values)\n",
    "\n",
    "**Finite-size effects** are deviations from true criticality caused by the limit imposed by $L$. They matter because they let us infer critical behaviour from simulations or experiments where system size is necessarily finite. \n",
    "\n",
    "**Finite-size scaling** turns this limitation into a tool: by studying how observables depend on $L$, we can reconstruct the critical behaviour that would occur in the thermodynamic limit $N\\rightarrow \\infty$."
   ]
  },
  {
   "cell_type": "markdown",
   "id": "83c829f6-4a11-4675-9391-627728da6480",
   "metadata": {
    "editable": true,
    "slideshow": {
     "slide_type": ""
    },
    "tags": [
     "presenter-notes",
     "remove-cell"
    ]
   },
   "source": [
    "\n",
    "<div style=\"background-color: #ffff88; padding: 1em; border-left: 5px solid #fff102;\">\n",
    "Highlight to students:\n",
    "    \n",
    "- finite-size effects = the problem\n",
    "- finite-size scaling = the solution\n",
    "</div>"
   ]
  },
  {
   "cell_type": "markdown",
   "id": "e143a897-a28a-48c7-aab2-e8f67362df5d",
   "metadata": {
    "editable": true,
    "slideshow": {
     "slide_type": ""
    },
    "tags": [
     "reader-only"
    ]
   },
   "source": [
    "Because the apparent critical noise $\\eta_c$ shifts slightly with system size $L$, Vicsek accounted for this finite-size effect by plotting results in terms of $\\eta_c(L)$. This adjustment allows curves from different system sizes to collapse onto the same scaling law.\n",
    "\n",
    "With this correction, we can formally test for critical behaviour. In the ordered phase, the order parameter is expected to vanish near the transition as a power law:\n",
    "\n",
    "$$\n",
    "v_a \\sim \\left(\\frac{\\eta_c - \\eta}{\\eta_c}\\right)^{\\beta}.\n",
    "$$\n",
    "\n",
    "If this scaling holds, then a log–log plot of $v_a$ versus the reduced distance from the critical noise should yield a straight line, with slope equal to the critical exponent $\\beta$."
   ]
  },
  {
   "cell_type": "markdown",
   "id": "5e3ee935-82d1-40b6-b6d3-f7f59a4cd8dc",
   "metadata": {
    "editable": true,
    "slideshow": {
     "slide_type": "subslide"
    },
    "tags": [
     "slides"
    ]
   },
   "source": [
    "#### Fig. 3a of Vicsek, 1995 \n",
    "Shows the scaling collapse for the noise-driven transition:\n",
    "\n",
    "![](images/Vicsek_results_Fig3a.png)\n",
    "\n",
    "Fig. 3a: Rescaling with critical exponents collapses the curves. Collapse is only possible if correlations diverge and system size sets the cutoff.\n",
    "\n",
    "A straight line indicates that the order parameter $v_a$ vanishes near the transition as a power law in the distance from critical noise. The slope gives the critical exponent $\\beta\\approx 0.45$, which quantifies how quickly collective order disappears as the system approaches $\\eta_c$."
   ]
  },
  {
   "cell_type": "markdown",
   "id": "07f7a92f-208a-45d0-8f5a-f9d1c07807b5",
   "metadata": {
    "editable": true,
    "slideshow": {
     "slide_type": ""
    },
    "tags": [
     "reader-only"
    ]
   },
   "source": [
    "##### How this figure was produced\n",
    "\n",
    "$\\eta_c(L)$ is the pseudo-critical noise identified from Figure 2 for each system size $L$. (this is done for e.g. using the steepest slope of or Binder cumulants, which we don't cover explicitly in this unit).\n",
    "\n",
    "Near the transition, the finite-size scaling ansatz is:\n",
    "\n",
    "$$\n",
    "v_a(\\eta, L) \\sim (\\eta_c(L) - \\eta)^\\beta,\n",
    "$$\n",
    "\n",
    "valid for $\\eta < \\eta_c(L)$.\n",
    "\n",
    "We can then define the scaled “distance from criticality”:\n",
    "\n",
    "$$\n",
    "x = \\frac{\\eta_c(L) - \\eta}{\\eta_c(L)}.\n",
    "$$\n",
    "\n",
    "This is the x-axis in the figure.\n",
    "\n",
    "When rescaled appropriately as distance from the critical noise $(\\eta_c(L) - \\eta)/\\eta_c(L)$, the curves for different system sizes line up on a single straight line in log–log space. The slope ($\\beta \\approx 0.45$) is the **critical exponent**. \n",
    "\n",
    "Note that in practice, you don’t assume the exponents and then magically see a collapse.\n",
    "Instead, you adjust $\\beta$ until the data for different system sizes fall on top of one another.\n",
    "\n",
    "The values that give the best collapse are then reported as the measured critical exponents.\n",
    "\n",
    "To summarise the process:\n",
    "1. Hypothesise finite-size scaling form.\n",
    "2. Rescale using trial exponents.\n",
    "3. Adjust exponents until curves collapse.\n",
    "4. Read off those exponents as the estimates."
   ]
  },
  {
   "cell_type": "markdown",
   "id": "c95664ba-7370-4444-946e-b53356b30270",
   "metadata": {
    "editable": true,
    "slideshow": {
     "slide_type": ""
    },
    "tags": [
     "reader-only"
    ]
   },
   "source": [
    "##### How to interpret this figure\n",
    "\n",
    "The straight line in the log–log plot of\n",
    "\n",
    "$$\n",
    "v_a \\quad \\text{vs.} \\quad \\frac{\\eta_c(L)-\\eta}{\\eta_c(L)} \\quad (0 < \\eta < \\eta_c)\n",
    "$$\n",
    "\n",
    "is the fingerprint of a power law. The order parameter doesn’t just vanish as noise increases; it follows\n",
    "\n",
    "$$\n",
    "v_a \\sim \\left(\\frac{\\eta_c(L)-\\eta}{\\eta_c(L)}\\right)^{\\beta},\n",
    "$$\n",
    "\n",
    "with the slope of the line giving the exponent $\\beta$. This slow, scale-free decline is the hallmark of criticality, very different from a sharp, first-order jump.\n",
    "\n",
    "In practice, the neatest collapse is not seen *right at* $\\eta_c$, but slightly away from it. In a finite system, $\\xi$ cannot grow beyond $L$, so extremely close to the transition the scaling form breaks down. Finite-size rounding and critical slowing down add further noise. The most reliable scaling region is the intermediate regime: close enough to feel criticality, but not so close that finite-size effects dominate.\n",
    "\n",
    "Also note: here we only see the ordered side ($\\eta < \\eta_c$) because the order parameter vanishes to zero in the disordered phase. To probe scaling there, a different observable is needed (typically the **susceptibility**).\n",
    "\n",
    "This is the standard recipe across statistical physics (Ising, percolation, etc.): order parameter on the ordered side, susceptibility on the disordered side, and correlation length across both."
   ]
  },
  {
   "cell_type": "markdown",
   "id": "58612506-bf0e-4cc0-81c2-dc37658f77e9",
   "metadata": {
    "editable": true,
    "slideshow": {
     "slide_type": "subslide"
    },
    "tags": [
     "slides"
    ]
   },
   "source": [
    "#### Fig. 3b of Vicsek, 1995 \n",
    "Shows the critical exponents beyond $\\beta$:\n",
    "\n",
    "![](images/Vicsek_results_Fig3b.png)\n",
    "\n",
    "Fig 3b of the original [Vicsek model](https://doi.org/10.1103/PhysRevLett.75.1226)."
   ]
  },
  {
   "cell_type": "markdown",
   "id": "78ef4133-b6c2-43aa-ad13-d4cbdc037ad7",
   "metadata": {
    "editable": true,
    "slideshow": {
     "slide_type": ""
    },
    "tags": [
     "reader-only"
    ]
   },
   "source": [
    "- They also measured other exponents (e.g. $\\delta \\approx 0.35$) from how $v_a$ changes with density at fixed noise.\n",
    "- Shows that *multiple exponents* can characterise different aspects of criticality. Both are needed to fully describe the behaviour of the Vicsek model near the transition.\n",
    "\n",
    "Critical exponents matter because they are often universal: the same numbers reappear in very different systems such as magnets, fluids, even flocking birds."
   ]
  },
  {
   "cell_type": "markdown",
   "id": "6d6aa631-7674-45c8-aae6-caff0030bd44",
   "metadata": {
    "editable": true,
    "slideshow": {
     "slide_type": ""
    },
    "tags": [
     "presenter-notes",
     "remove-cell"
    ]
   },
   "source": [
    "\n",
    "\n",
    "<div style=\"background-color: #ffff88; padding: 1em; border-left: 5px solid #fff102;\">\n",
    "\n",
    "**Recap**: \n",
    "\n",
    "At the critical point, \n",
    "- diverging correlations strip away the system’s characteristic scale.\n",
    "    - The consequence is scale invariance in many observable properties,\n",
    "        - and the fingerprint is power law behaviour described by critical exponents that quantify how these properties diverge or vanish.\n",
    "\n",
    "</div>"
   ]
  },
  {
   "cell_type": "markdown",
   "id": "fbd6a50e",
   "metadata": {
    "editable": true,
    "slideshow": {
     "slide_type": ""
    },
    "tags": [
     "reader-only"
    ]
   },
   "source": [
    "\n",
    "## A familiar example: the Ising model\n",
    "\n",
    "To help reinforce what we have just covered, here is another system you are familiar with...\n",
    "\n",
    "The Ising model is a canonical example of critical behaviour and phase transitions in statistical mechanics. It describes magnetic spins on a lattice that can point up or down.\n",
    "\n",
    "Temperature, $T$ is the control parameter with a critical value at $T_c$.\n",
    "\n",
    "- **Below $T_c$:** *ferromagnetic (ordered)* with spins tending to align, forming large domains.\n",
    "- **Above $T_c$:** *paramagnetic (disordered)* with spins randomised by thermal fluctuations, with only short-range correlations.\n",
    "- **At $T_c$:** correlations diverge, the system becomes scale-free, and critical phenomena appear."
   ]
  },
  {
   "cell_type": "markdown",
   "id": "5dbf67cb",
   "metadata": {
    "editable": true,
    "slideshow": {
     "slide_type": ""
    },
    "tags": [
     "reader-only"
    ]
   },
   "source": [
    "### Diverging Correlations\n",
    "\n",
    "**Ordered phase ($T < T_c$)**\n",
    "Spins align into domains. Correlations are finite but extended: spins inside a domain are highly correlated, but domains themselves have a characteristic size.\n",
    "\n",
    "$$\n",
    "C(r) \\sim e^{-r/\\xi}, \\qquad \\xi \\ \\text{finite}.\n",
    "$$\n",
    "\n",
    "**Critical point ($T = T_c$)**\n",
    "Correlations become *scale-free*. The correlation length diverges ($\\xi \\to \\infty$), and fluctuations occur on all length scales.\n",
    "\n",
    "  $$\n",
    "  C(r) \\sim r^{-\\eta}.\n",
    "  $$\n",
    "\n",
    "Note that in the Vicsek model, $\\eta$ is a control parameter, whereas here it is the critical exponent describing correlation decay at $T_c$ (same symbol, very different meaning).\n",
    "\n",
    "**Disordered phase ($T > T_c$)**\n",
    "Thermal fluctuations dominate. Correlations are short-ranged: a spin only influences its immediate neighbours.\n",
    "\n",
    "$$\n",
    "C(r) \\sim e^{-r/\\xi}, \\qquad \\xi \\ \\text{small}.\n",
    "$$"
   ]
  },
  {
   "cell_type": "markdown",
   "id": "86b0d8a0",
   "metadata": {
    "editable": true,
    "slideshow": {
     "slide_type": ""
    },
    "tags": [
     "reader-only"
    ]
   },
   "source": [
    "### Scale invariance (aka scale-free behaviour)\n",
    "\n",
    "Near $T_c$, the system becomes **scale-free**: there is no typical size for correlated regions of spins.\n",
    "\n",
    "- Clusters of aligned spins appear on all length scales.\n",
    "- The distribution of cluster sizes follows a **power law**.\n",
    "- Large and small clusters look statistically similar — the system is self-similar across scales.\n",
    "\n",
    "This is the **consequence** of the diverging correlation length, and its fingerprint is the emergence of power law behaviour."
   ]
  },
  {
   "cell_type": "markdown",
   "id": "18e395fd",
   "metadata": {
    "editable": true,
    "slideshow": {
     "slide_type": ""
    },
    "tags": [
     "reader-only"
    ]
   },
   "source": [
    "### Power law scaling and critical exponents\n",
    "\n",
    "**Magnetisation (order parameter)**\n",
    "\n",
    "$$\n",
    "M(T) \\propto (T_c - T)^{\\beta}, \\qquad T \\to T_c^{-}\n",
    "$$\n",
    "\n",
    "- Measures the net alignment of spins.\n",
    "- Vanishes as $T \\to T_c$ from below.\n",
    "- 2D Ising: $\\beta = \\tfrac{1}{8}$.\n",
    "- 3D Ising: $\\beta \\approx 0.326$.\n",
    "\n",
    "**Magnetic susceptibility**\n",
    "\n",
    "$$\n",
    "\\chi(T) \\propto |T - T_c|^{-\\gamma}\n",
    "$$\n",
    "\n",
    "- Measures the response to an external magnetic field.\n",
    "- Diverges near $T_c$.\n",
    "- 2D Ising: $\\gamma = \\tfrac{7}{4}$.\n",
    "\n",
    "**Correlation length**\n",
    "\n",
    "$$\n",
    "\\xi(T) \\propto |T - T_c|^{-\\nu}\n",
    "$$\n",
    "\n",
    "- Measures the typical distance over which spins are correlated.\n",
    "- Diverges near $T_c$.\n",
    "- 2D Ising: $\\nu = 1$."
   ]
  },
  {
   "cell_type": "markdown",
   "id": "2d206a41",
   "metadata": {
    "editable": true,
    "slideshow": {
     "slide_type": "subslide"
    },
    "tags": [
     "slides"
    ]
   },
   "source": [
    "## Percolation\n",
    "Percolation is another very prominent statistical physics model for criticality.\n",
    "\n",
    "It is a process where fluid flows through a semi-porous material e.g. oil in rock formations, hydrogen gas in micropores or water through coffee grounds:\n",
    "\n",
    "[The barista's secret Complexity Explorable](http://www.complexity-explorables.org/explorables/baristas-secret/).\n",
    "\n",
    "Three different initialisations with the porosity, $p=59.22\\%<p_c$:\n",
    "![](images/Baristas_secret_screenshots.png)"
   ]
  },
  {
   "cell_type": "markdown",
   "id": "9f6df625",
   "metadata": {
    "editable": true,
    "slideshow": {
     "slide_type": ""
    },
    "tags": [
     "reader-only"
    ]
   },
   "source": [
    "The system's response shows a sharp transition at a certain porosity. This is the **percolation threshold**, $p_c$, which is a critical value:\n",
    "- Below $p_c$ no percolation occurs\n",
    "- As the control parameter approaches the percolation threshold, $p_c$, critical behaviours can be observed (diverging correlation, cluster size follows a power law, spanning cluster appears with universal fractal dimension)\n",
    "- Near $p_c$ the system is very sensitive to small perturbation\n",
    "- Above $p_c$ percolation occurs"
   ]
  },
  {
   "cell_type": "markdown",
   "id": "cd594555-6784-4911-8c48-a6a58a43c0b1",
   "metadata": {
    "editable": true,
    "slideshow": {
     "slide_type": ""
    },
    "tags": [
     "reader-only"
    ]
   },
   "source": [
    "Computing the percolation threshold, $p_c$, can be tricky in general.\n",
    "\n",
    "Some options:\n",
    "- Numerical experiments\n",
    "- Finite-size scaling theory is used to extrapolate the behaviour of an infinitely large system based on data from finite-sized systems\n",
    "- Theoretical mean-field models\n",
    "- Other theoretical approaches based on concepts from statistical physics, percolation theory, or graph theory.\n",
    "\n",
    "In this unit we are primarily concerned with numerical experiments."
   ]
  },
  {
   "cell_type": "markdown",
   "id": "27be62e0",
   "metadata": {
    "editable": true,
    "slideshow": {
     "slide_type": ""
    },
    "tags": [
     "reader-only"
    ]
   },
   "source": [
    "The image of a liquid seeping through a porous material is just one metaphor for percolation. Other applications for spatial contact processes:\n",
    "- spread of infectious disease in which the liquid becomes an infectious disease, empty sites are susceptible individuals and occupied sites are immune. In this case the percolation threshold is the epidemic threshold\n",
    "    - [Critical hexSIRSize](https://www.complexity-explorables.org/explorables/critical-hexsirsize/): stochastic, spatial SIRS model. Pattern formation in an epidemic model near its critical point \n",
    "\n",
    "- dynamics of forest fires in which the liquid is a fire that expands across an area of vegetation and the porosity is equivalent to the density of trees\n",
    "    - [Critically inflammatory](https://www.complexity-explorables.org/explorables/critically-inflammatory/): A forest fire model. Spatial patterns, dynamics and criticality in forest fire dynamics "
   ]
  },
  {
   "cell_type": "markdown",
   "id": "f096f2da-2163-49cf-b5e7-a8c7d250641f",
   "metadata": {
    "editable": true,
    "slideshow": {
     "slide_type": ""
    },
    "tags": [
     "reader-only"
    ]
   },
   "source": [
    "<div style=\"border-left: 4px solid #1e70bf; padding: 0.75em; background-color: #eaf3fb; margin-bottom: 1em;\">\n",
    "  <strong>Pause and consider:</strong><br>\n",
    "  Critical points are usually unstable, so why do we see critical behaviour everywhere?\n",
    "</div>"
   ]
  },
  {
   "cell_type": "markdown",
   "id": "56f59428",
   "metadata": {
    "editable": true,
    "slideshow": {
     "slide_type": "subslide"
    },
    "tags": [
     "slides"
    ]
   },
   "source": [
    "# Self-organised criticality\n",
    "\n",
    "Ising, percolation and Vicsek models display criticality: they require an external control parameter (temperature, density, noise or density respectively).\n",
    "\n",
    "The Vicsek model is **self-organising** because the global flocking emerges from simple local rules without any external field or central control. However, self-organisation alone does not guarantee that the system reaches a critical state.\n",
    "\n",
    "**Self-organised criticality** (SOC) is the idea that some systems naturally evolve toward a critical state, without external tuning."
   ]
  },
  {
   "cell_type": "markdown",
   "id": "1688c8df",
   "metadata": {
    "editable": true,
    "slideshow": {
     "slide_type": "subslide"
    },
    "tags": [
     "slides"
    ]
   },
   "source": [
    "\n",
    "In the critical state these systems are poised on the edge of instability, allowing them to:\n",
    "- efficiently distribute energy or resources \n",
    "- maintain robustness and adaptability \n",
    "<!-- i.e. balance stability and responsiveness to adapt to changes in the environment -->\n",
    "\n",
    "SOC is a very active and influential research area because we still don't have answers to some of the biggest questions:\n",
    "- how does self-organised criticality work? (we know there is usually a slow drive and highly non-linear interaction nut not much else is known...)\n",
    "- is it ubiquitous?"
   ]
  },
  {
   "cell_type": "markdown",
   "id": "6186397c",
   "metadata": {
    "editable": true,
    "slideshow": {
     "slide_type": "slide"
    },
    "tags": []
   },
   "source": [
    "# Sand piles\n",
    "\n",
    "<div style=\"margin: 1.5em 0; border-right: 4px solid #888; padding-right: 1em; text-align: right;\">\n",
    "  <div style=\"font-style: italic; font-family: 'Comic Neue', 'Segoe Script', cursive; font-size: 1.2em;\">\n",
    "    How do we know that the creations of worlds are not determined by falling grains of sand?\n",
    "  </div>\n",
    "  <div style=\"font-style: normal; font-size: 0.95em; margin-top: 0.5em;\">\n",
    "    — Victor Hugo, Les Miserables 1862\n",
    "  </div>\n",
    "</div>\n"
   ]
  },
  {
   "cell_type": "markdown",
   "id": "d37cf795-075e-4ca5-92c5-613ff2da0088",
   "metadata": {
    "editable": true,
    "slideshow": {
     "slide_type": ""
    },
    "tags": [
     "reader-only"
    ]
   },
   "source": [
    "Consider a pile of sand  formed by dropping one sand grain on top of another over time. These piles form pyramid-like shapes of a certain slope.\n",
    "\n",
    "If we continue to add sand grains then they slide down the slopes of the pyramid causing mini avalanches and the slope of the pyramid stays at the same angle. This is the *angle of repose*. A pyramid of sand with a larger slope than the angle of repose will create avalanches until the slope is again the angle of repose. The pyramid is in a critical state, and any departure from this state causes sequences of avalanches of different sizes to return to the critical state."
   ]
  },
  {
   "cell_type": "markdown",
   "id": "2095cf88-44f8-4ed3-8525-033a6ffa45e2",
   "metadata": {
    "editable": true,
    "slideshow": {
     "slide_type": ""
    },
    "tags": []
   },
   "source": [
    "![](images/Sandpile_Matemateca_22_screenshot.png)\n",
    "\n",
    "Video of sandpile [here](https://en.wikipedia.org/wiki/Angle_of_repose)"
   ]
  },
  {
   "cell_type": "markdown",
   "id": "29f6e3a1",
   "metadata": {
    "editable": true,
    "slideshow": {
     "slide_type": "subslide"
    },
    "tags": [
     "slides"
    ]
   },
   "source": [
    "## Sand pile models\n",
    "\n",
    "Bak et al. proposed a sandpile model in 1987 to emulate this and demonstrate self-organised criticality. It is sometimes referred to as the Abelian sand pile model*.\n",
    "\n",
    "It's not meant to be a realistic model of a sand pile - it's an abstraction, i.e. a simple example of a broad category of models for self-organised criticality.\n",
    "\n",
    "The idea we aim to capture: how the addition of grains of sand to a 'metastable state' can trigger local motion causing the sand to rearrange itself via avalanches that span the entire pile.\n",
    "\n",
    "In the self-organised critical state chain reactions can trigger avalanches of all sizes\n",
    "- **\"Critical\"** because a single local event can impact the entire system\n",
    "- **\"Self-organised\"** because the global state/pattern/dynamics has emerged spontaneously (no top-down control/invisible hand imposing order)."
   ]
  },
  {
   "cell_type": "markdown",
   "id": "6b96f25a-41ca-4279-9da3-c68eaa1bdf50",
   "metadata": {
    "editable": true,
    "slideshow": {
     "slide_type": ""
    },
    "tags": [
     "reader-only"
    ]
   },
   "source": [
    "*The term Abelian comes from group theory, where a group is called Abelian if the order of operations does not matter (i.e., the group is commutative), i.e. the order in which you combine its elements (via a binary operation like addition or multiplication) does not affect the result. For example, in ordinary arithmetic, addition is commutative because:\n",
    "\n",
    "$$\n",
    "a + b = b + a\n",
    "$$\n",
    "\n",
    "In the sandpile model, regardless of the sequence of topplings, the final distribution of sand is the same, making the model an example of an Abelian system.\n",
    "\n",
    "The commutative property in the Abelian Sandpile Model makes it a more tractable and mathematically interesting system to study."
   ]
  },
  {
   "cell_type": "markdown",
   "id": "7384aa07-208d-4764-847c-e4651a5af1b0",
   "metadata": {
    "editable": true,
    "slideshow": {
     "slide_type": ""
    },
    "tags": [
     "reader-only"
    ]
   },
   "source": [
    "<div style=\"border-left: 4px solid #1e70bf; padding: 0.75em; background-color: #eaf3fb; margin-bottom: 1em;\">\n",
    "  <strong>Pause and consider:</strong><br>\n",
    "  With everything you have learnt so far... How will we model this?\n",
    "</div>"
   ]
  },
  {
   "cell_type": "markdown",
   "id": "bba65e0b-cdd4-4d39-bca2-c72a8fbce982",
   "metadata": {
    "editable": true,
    "slideshow": {
     "slide_type": ""
    },
    "tags": [
     "reader-only"
    ]
   },
   "source": [
    "Other seemingly non-negotiable quotes when one works in sandpiles:\n",
    "\n",
    "<div style=\"margin: 1.5em 0; border-right: 4px solid #888; padding-right: 1em; text-align: right;\">\n",
    "  <div style=\"font-style: italic; font-family: 'Comic Neue', 'Segoe Script', cursive; font-size: 1.2em;\">\n",
    "    To see a World in a Grain of Sand\n",
    "  </div>\n",
    "  <div style=\"font-style: normal; font-size: 0.95em; margin-top: 0.5em;\">\n",
    "    — William Blake, Auguries of Innocence\n",
    "  </div>\n",
    "</div>"
   ]
  },
  {
   "cell_type": "markdown",
   "id": "7faf3c7e-82c0-4a11-b8d3-f8705292d2fa",
   "metadata": {
    "editable": true,
    "slideshow": {
     "slide_type": "subslide"
    },
    "tags": [
     "slides"
    ]
   },
   "source": [
    "## Model details\n",
    "- 2D cellular automata \n",
    "- state of each cell, $z(x,y)$, represents the slope of a part of the sand pile (or equivalently the number of grains)\n",
    "- boundary of grid: state is kept at 0 i.e. as sand is distributed outwards, excess will 'fall off the edge'\n",
    "- dynamics: \n",
    "    1. randomly select cell and increment state by 1 (add sand to it)\n",
    "    2. if cell state exceeds a critical value of $K_c$ then it 'topples' and redistributes sand to 4 neighbouring cells (-4 to the cell that topples and +1 to its von Neumann neighbours)    \n",
    "    3. once all sites are stable again return to step 1\n",
    "   \n",
    "$$\n",
    "z(x,y) \\mapsto z(x,y) - 4,\n",
    "$$ \n",
    "\n",
    "$$\n",
    "z(x\\pm 1,y) \\mapsto z(x\\pm 1,y) + 1,\n",
    "$$ \n",
    "\n",
    "$$\n",
    "z(x,y\\pm 1) \\mapsto z(x, y\\pm 1) + 1.\n",
    "$$ \n",
    "\n",
    "Note that we usually choose $K_c=4$."
   ]
  },
  {
   "cell_type": "markdown",
   "id": "2c72beb4-40d7-49ac-86ab-c0494dcbcf97",
   "metadata": {
    "editable": true,
    "slideshow": {
     "slide_type": "subslide"
    },
    "tags": [
     "slides"
    ]
   },
   "source": [
    "## Perturbations\n",
    "Most of the time, dropping a single grain causes no cells to topple\n",
    "\n",
    "Occasionally a single grain can cause an avalanche affecting a substantial fraction of the grid\n",
    "\n",
    "To investigate this behaviour we initialise as:\n",
    "- option A (more common): all cells are initialised randomly with integer values $z>K_c$, and the model is run until it stabilises. This state is then used as an initialisation\n",
    "- option B: build up a sand pile by adding a grains at a random lattice point $(x,y)$ and then running the dynamics"
   ]
  },
  {
   "cell_type": "markdown",
   "id": "ca507330-8d20-4fc7-ac1a-a56a3e29c860",
   "metadata": {
    "editable": true,
    "slideshow": {
     "slide_type": "subslide"
    },
    "tags": [
     "slides"
    ]
   },
   "source": [
    "# Properties of self-organising critical systems\n",
    "The idea of SOC is intuitive but definitions are typically vague and involve presence of properties. We will focus on a few of these properties:\n",
    "1. Fractal Geometry - non-regular geometric shape containing the same degree of non-regularity on all scales, i.e. scale invariance\n",
    "2. Heavy-tailed distributions - probability distribution whose tails are not exponentially bounded (a looser condition than the power law but intended to capture the same behaviour)\n",
    "3. Pink noise - exhibited through variations in time where low frequency components have more power than high frequency components. The power for a particular frequency $f$ will decay at a rate of $1/f$ 'Self-Organized Criticality: An Explanation of 1/f Noise'"
   ]
  },
  {
   "cell_type": "markdown",
   "id": "a1e274ff-bbbe-4952-a618-d75c7fa5a6d5",
   "metadata": {
    "editable": true,
    "slideshow": {
     "slide_type": ""
    },
    "tags": []
   },
   "source": [
    "## Fractals?\n",
    "Binarised sand piles for $z=\\{0,1,2,3\\}$:\n",
    "\n",
    "![](images/Downey_sand_fractals.png)\n",
    "\n",
    "Image from [Allen Downey's Think Complexity](https://greenteapress.com/wp/think-complexity-2e/).\n",
    "\n",
    "**Q:** It looks fractal... but is it? "
   ]
  },
  {
   "cell_type": "markdown",
   "id": "d9689493-fe6d-4c11-98e4-7cb1ecfc711e",
   "metadata": {
    "editable": true,
    "slideshow": {
     "slide_type": ""
    },
    "tags": []
   },
   "source": [
    "**A:** To be sure we'll need to estimate the fractal dimension \n",
    "\n",
    "Box-counting dimension: \n",
    "1. count number of cells with sand in it for varying box sizes\n",
    "2. On a log-log scale, the cell counts form nearly straight lines, which indicates that we are measuring fractal dimension over a valid range of box sizes.\n",
    "\n",
    "![](images/Downey_sand_fractals_box_counting.png)\n",
    "\n",
    "Image from [Allen Downey's Think Complexity](https://greenteapress.com/wp/think-complexity-2e/)."
   ]
  },
  {
   "cell_type": "markdown",
   "id": "0fc32b3d-bb72-4e8a-a266-f3150367c64c",
   "metadata": {
    "editable": true,
    "slideshow": {
     "slide_type": ""
    },
    "tags": [
     "reader-only"
    ]
   },
   "source": [
    "<div style=\"border-left: 4px solid #1e70bf; padding: 0.75em; background-color: #eaf3fb; margin-bottom: 1em;\">\n",
    "  <strong>Theoretical Question:</strong><br>\n",
    "  It's certainly not a square with dimension equal to 2 but ask yourself what if it's random? What would you expect the box-counting dimension to tell you for a random distribution of sand?\n",
    "\n",
    "</div>"
   ]
  },
  {
   "cell_type": "markdown",
   "id": "29665138-b405-49c6-92b5-92d88f2f28ab",
   "metadata": {
    "editable": true,
    "slideshow": {
     "slide_type": ""
    },
    "tags": [
     "remove-cell"
    ]
   },
   "source": [
    "## Power law?\n",
    "\n",
    "**Q1:** What should we be looking at to quantify this behaviour?\n"
   ]
  },
  {
   "cell_type": "markdown",
   "id": "4ef815da-7df1-4d08-a36c-f5593e8edd2c",
   "metadata": {
    "editable": true,
    "slideshow": {
     "slide_type": ""
    },
    "tags": [
     "remove-cell"
    ]
   },
   "source": [
    "\n",
    "**A1:** For each perturbation:\n",
    "- the number of time steps the pile takes to stabilise, $t$\n",
    "- the total number of cells that topple, $S$\n"
   ]
  },
  {
   "cell_type": "markdown",
   "id": "aaa2da7a-b0ba-4564-932a-a666d6ada765",
   "metadata": {
    "editable": true,
    "slideshow": {
     "slide_type": ""
    },
    "tags": [
     "remove-cell"
    ]
   },
   "source": [
    "**Q2:** How can we use these observations to demonstrate the properties typical of critical phenomena?\n"
   ]
  },
  {
   "cell_type": "markdown",
   "id": "08e31379-e4c7-460b-a44b-807e16791745",
   "metadata": {
    "editable": true,
    "slideshow": {
     "slide_type": ""
    },
    "tags": [
     "remove-cell"
    ]
   },
   "source": [
    "**A2:** Tracking the distribution of avalanche sizes, $S$ as a function of size, we should find the hallmark of self-organised criticality...\n",
    "\n",
    "...a power law (or at least a heavy tail distribution characterised by many small values and a few very large values, slower-than-exponential decay rate):\n",
    "\n",
    "$$\n",
    "D(S) = a S^{-\\alpha}.\n",
    "$$"
   ]
  },
  {
   "cell_type": "markdown",
   "id": "6ef6999f-aeb2-47d9-a94d-4f405a74be02",
   "metadata": {
    "editable": true,
    "slideshow": {
     "slide_type": ""
    },
    "tags": [
     "remove-cell"
    ]
   },
   "source": [
    "$$\n",
    "D(S) = a S^{-\\alpha}.\n",
    "$$\n",
    "\n",
    "Extending the size of the system does not change the exponent, i.e., there is no intrinsic length scale in the system (scale invariance)\n",
    "\n",
    "Note: large amount of data is required to demonstrate the cascading effect of dropping sand in a random location. The majority of the time that this process takes place, nothing happens. This will cause the CA state to be unchanged. Thus, it is important to filter these results out, so that the histogram displays desired outcomes without difficulty. i.e. $S$ is looking at the number of cells that topple, given that a cell topples\n",
    "\n",
    "![](images/Downey_sand_avalanche_quantified.png)\n",
    "\n",
    "Images from [Allen Downey's Think Complexity](https://greenteapress.com/wp/think-complexity-2e/) (he also provides code)."
   ]
  },
  {
   "cell_type": "markdown",
   "id": "9d05b3e0-f95a-4b8f-b541-f6ff0e01180b",
   "metadata": {
    "editable": true,
    "slideshow": {
     "slide_type": ""
    },
    "tags": [
     "remove-cell"
    ]
   },
   "source": [
    "## Pink noise?\n",
    "Bak et al. originally presented the sand pile model in a paper titled *'Self-Organized Criticality: An Explanation of 1/f Noise'* (and of why it is so common in natural and engineered systems)\n",
    "\n",
    "A signal is a quantity that changes over time\n",
    "\n",
    "Any signal can be decomposed into a set of frequency components with different levels of power (amplitude or volume) \n",
    "\n",
    "The power spectrum of a signal is a function that shows the power of each frequency component. Specifically, the power, $P$, at frequency $f$ is proportional to $1/f$"
   ]
  },
  {
   "cell_type": "markdown",
   "id": "f99c1ab5-f5cc-48ec-9cad-95c2bea1cee4",
   "metadata": {
    "editable": true,
    "slideshow": {
     "slide_type": ""
    },
    "tags": [
     "remove-cell"
    ]
   },
   "source": [
    "Noise is a signal that contains many frequency components (can be found through a process called spectral analysis)\n",
    "\n",
    "There are many kinds of noise. For example, white noise is a signal that has components with equal power over a wide range of frequencies so $\\beta=0$, i.e. it has a flat Fourier spectrum. Other kinds of noise have different relationships between frequency and power\n",
    "\n",
    "In pink noise (sometimes called 'flicker noise') low-frequency components have more power than high-frequency components and $0<\\beta<2$ (between white and red noise)\n",
    "\n",
    "For the sand pile model we need a signal that can be measured when sand is toppled ($t$ and $S$)\n",
    "\n",
    "**Q:** How would we find $\\beta$ from data?"
   ]
  },
  {
   "cell_type": "markdown",
   "id": "40949b83-6a08-4aeb-814d-25c07e0aac0d",
   "metadata": {
    "editable": true,
    "slideshow": {
     "slide_type": ""
    },
    "tags": [
     "remove-cell"
    ]
   },
   "source": [
    "**Q:** How would we find $\\beta$ from data?\n",
    "\n",
    "**A:** We'll need to extract the power spectrum \n",
    "\n",
    "I am sweeping a lot of the mathematical detail under the rug here. The basic idea is to take a signal and decompose it into its individual frequency components which add up to make that signal. (This isn't assessable, we'll just assume we easily extract the power spectrum from some nice python package)\n",
    "\n",
    "Taking the $\\log$ of both sides yields\n",
    "$$\\log P(f) = -\\beta \\log f$$\n",
    "Plotting $P(f)$ versus $f$ on a log-log scale, we expect a straight line with slope $\\beta$\n",
    "\n",
    "The power spectrum of the number of toppled cells over time gives a value of $\\beta=1.58$:\n",
    "\n",
    "![](images/Downey_sand_power_spectra.png)\n",
    "\n",
    "Image from [Allen Downey's Think Complexity](https://greenteapress.com/wp/think-complexity-2e/)."
   ]
  },
  {
   "cell_type": "markdown",
   "id": "729d84cf-01d7-4cce-b4aa-ff50d6c87ab5",
   "metadata": {
    "editable": true,
    "slideshow": {
     "slide_type": ""
    },
    "tags": [
     "remove-cell"
    ]
   },
   "source": [
    "The sand pile model is an example of stochastic dynamics operating in a deterministic environment \n",
    "\n",
    "But we could also consider models that consist of deterministic dynamics operating in a random environment (sometimes called ‘extremal’ or ‘quenched’ models). The most important example of this type is the Bak-Sneppen model of evolution (power laws based on extinction events suggest that evolution is a SOC process. Extinctions can be viewed as avalances where death of a species triggers deaths of others)."
   ]
  },
  {
   "cell_type": "markdown",
   "id": "624205d2-4885-4976-a5b4-0718c366279d",
   "metadata": {
    "editable": true,
    "slideshow": {
     "slide_type": "slide"
    },
    "tags": [
     "slides",
     "remove-cell"
    ]
   },
   "source": [
    "# Analytics\n",
    "Mathematically, we can use mean-field approximations and renormalisation group analysis to predict typical average outcomes and percolation thresholds.\n",
    "\n",
    "**Mean-field approximations:** \n",
    "- describe how the macroscopic detail of system changes on average over time\n",
    "- i.e. large detail/dynamics over time\n",
    "\n",
    "**Renormalisation group analysis:**\n",
    "- describes a certain property of a small part of the system and how it changes over length scales\n",
    "- i.e. small detail over space/relationships between scales\n",
    "- more comprehensive in its approach to scaling\n",
    "\n",
    "These are two sides of the same coin: Both aim to simplify and understand complex systems by focusing on effective behaviours and average effects."
   ]
  },
  {
   "cell_type": "markdown",
   "id": "b322e303-e825-45ce-b6ea-f1a0633e3e25",
   "metadata": {
    "editable": true,
    "slideshow": {
     "slide_type": "subslide"
    },
    "tags": [
     "slides",
     "remove-cell"
    ]
   },
   "source": [
    "## Mean-field approximation\n",
    "We saw mean-field approximation applied to Game of Life and Kuramoto's network of oscillators previously:\n",
    "\n",
    "![](images/Mean_field_approximation_GoL.png)\n",
    "\n",
    "![](images/Mean_field_approximation_Kuramoto.png)\n",
    "\n",
    "The averaging across the entire system disregards spatial relationships. For this reason, you should use it with caution as it can be misleading. It failed completely for Game of Life but worked well the Kuramoto model."
   ]
  },
  {
   "cell_type": "markdown",
   "id": "09831db2-3461-4ae3-adbc-94ca2a924b8e",
   "metadata": {
    "editable": true,
    "slideshow": {
     "slide_type": ""
    },
    "tags": [
     "reader-only",
     "remove-cell"
    ]
   },
   "source": [
    "Recall the process...\n",
    "1. reformulate the dynamics by describing the system's average state, which represents the overall behavior of all cells\n",
    "2. derive an equation that shows how this average state evolves over time based on how individual cells interact with it\n",
    "    - each cell's behaviour is viewed in relation to the average, known as the *mean field*, which is a uniform, probabilistic space\n",
    "    - we assume that each cell experiences the same average environment\n",
    "    - rather than updating every single cell based on its actual neighbours, we calculate the probability that a cell will be black or white based on the average density\n",
    "    - focus shifts from individual cell updates to the evolution of the global density of black cells over time\n",
    "3. analyse how the average state and long-term behaviour changes over time to predict the expected outcome of the process given an initial configuration"
   ]
  },
  {
   "cell_type": "markdown",
   "id": "68c884ee-8a64-4d96-852e-2cc48ae10ee6",
   "metadata": {
    "editable": true,
    "slideshow": {
     "slide_type": "subslide"
    },
    "tags": [
     "slides",
     "remove-cell"
    ]
   },
   "source": [
    "## Renormalisation group analysis (RGA)\n",
    "Used in quantum and statistical physics\n",
    "\n",
    "RGA focuses on how the system's behaviour changes as you zoom out or coarse-grain the system. It simplifies the system by averaging out details at smaller scales and analysing the effective interactions at larger scales\n",
    "\n",
    "It's complicated and in my opinion not a fantastic method for complex systems but it is included in many classic text books (like Sayama's).\n",
    "\n",
    "It works by defining a certain property of a small part of the system and describing how it changes over length scales, not time.\n",
    "\n",
    "The result is an iterative map whose long-term/large-scale behaviour can be used to make predictions or statements about the system property (a la MATH3021).\n",
    "\n",
    "We'll look at a very simple example to illustrate the idea..."
   ]
  },
  {
   "cell_type": "markdown",
   "id": "cb05e58d-a142-4678-b52a-359ecf3f018a",
   "metadata": {
    "editable": true,
    "slideshow": {
     "slide_type": ""
    },
    "tags": [
     "remove-cell"
    ]
   },
   "source": [
    "### Forest fire\n",
    "[Critically inflammatory Complexity Explorable](https://www.complexity-explorables.org/explorables/critically-inflammatory/)\n"
   ]
  },
  {
   "cell_type": "markdown",
   "id": "10b1bd93-b83e-4d3b-b2d3-18032b8f3314",
   "metadata": {
    "editable": true,
    "slideshow": {
     "slide_type": "subslide"
    },
    "tags": [
     "slides",
     "remove-cell"
    ]
   },
   "source": [
    "#### Our own (very simple) model: ignoring regrowth of trees\n",
    "\n",
    "**Initialise**: Assume a square lattice where the states are occupied by a tree with state equal to $1$ or not with state equal to $0$\n",
    "- Trees initially occupy a cell with probability $p$ ($p=0$ means no trees anywhere, $p=1$ means every cell has a tree)\n",
    "- Randomly set fire to one tree\n",
    "\n",
    "**Dynamics**: If an unburnt tree is next to (Moore neighbourhood) a burning tree then it catches fire.\n",
    "\n",
    "We want to know if percolation occurs, i.e., does the extent of the burnt trees span the lattice?"
   ]
  },
  {
   "cell_type": "markdown",
   "id": "6d9eb663-a3e9-4661-86d3-0ca14962879f",
   "metadata": {
    "editable": true,
    "slideshow": {
     "slide_type": ""
    },
    "tags": [
     "reader-only",
     "remove-cell"
    ]
   },
   "source": [
    "Renormalisation works by coarse-graining: dividing the system into blocks, which are replaced with simplified variables (at each step of the renormalisation) that describe whether large clusters of trees within them are connected or disconnected.\n",
    "\n",
    "As the system is \"zoomed out\" through multiple renormalisation steps, the behaviour of clusters at larger scales is observed.\n",
    "\n",
    "Specifically:"
   ]
  },
  {
   "cell_type": "markdown",
   "id": "6c2ffd69-b6ad-4667-bda0-dd6a896a8fde",
   "metadata": {
    "editable": true,
    "slideshow": {
     "slide_type": "subslide"
    },
    "tags": [
     "slides",
     "remove-cell"
    ]
   },
   "source": [
    "1. define a property of the system than can be measured at any scale. \n",
    "    - For the simple forest fire model, where we are interested in percolation, this property could be the probability, $P$, that a fire can spread from one side of the portion of the forest (of scale $s$) to another.\n",
    "    \n",
    "2. calculate the property at the smallest scale $P_{1}$. \n",
    "    - one cell, and we need a tree to be present so $P_{1} = p$."
   ]
  },
  {
   "cell_type": "markdown",
   "id": "52b4be81-73db-4358-85f7-fe778d909062",
   "metadata": {
    "editable": true,
    "slideshow": {
     "slide_type": "subslide"
    },
    "tags": [
     "slides",
     "remove-cell"
    ]
   },
   "source": [
    "3. derive a mathematical relationship between the property at the smallest scale and the property at the next larger scale $P_{2} = \\Phi\\left[P_{1}\\right]$\n",
    "    - calculate the probability that a fire can percolate on a $2\\times 2$ grid.\n",
    "    \n",
    "By considering an exhaustive list of possible situations we see that this happens if all four cells have trees, all combinations of three cells having trees, and the four possibilities for only two cells having trees.\n",
    "\n",
    "$$\n",
    "P_{2}=\\Phi\\left[P_{1}\\right] = P_{1}^{4} + 4P_{1}^{3}(1-P_{1})+4P_{1}^{2}(1-P_{1})^{2}.\n",
    "$$\n",
    "\n",
    "![](images/Sayama_renormalisation.png)\n",
    "\n",
    "Image from Sayama's text book\n"
   ]
  },
  {
   "cell_type": "markdown",
   "id": "f43a3e77-d785-4a9c-8b43-975188a6d692",
   "metadata": {
    "editable": true,
    "slideshow": {
     "slide_type": "subslide"
    },
    "tags": [
     "slides",
     "remove-cell"
    ]
   },
   "source": [
    "\n",
    "4. *Assume* this relationship holds to predict larger scales and obtain the iterative map:\n",
    "\\begin{equation*}\n",
    "P_{s+1}=\\Phi\\left[P_{s}\\right] = P_{s}^{4} + 4P_{s}^{3}(1-P_{s})+4P_{s}^{2}(1-P_{s})^{2} \\text{ for all } s.\n",
    "\\end{equation*}    \n",
    "    \n",
    "![](images/Sayama_renormalisation.png)\n",
    "\n",
    "Image from Sayama's text book."
   ]
  },
  {
   "cell_type": "markdown",
   "id": "3fd2ba4c-ccee-43bd-a316-0275a97854da",
   "metadata": {
    "editable": true,
    "slideshow": {
     "slide_type": "subslide"
    },
    "tags": [
     "slides",
     "remove-cell"
    ]
   },
   "source": [
    "This is clearly an approximation but it does produce a difference equation whose asymptotic behaviour ($s\\to\\infty$) can be analysed (cobweb plot, determine fixed points and stability etc).\n",
    "\n",
    "It's not correct but *some kind of approximation needs to be made in order to study complex systems analytically*.\n",
    "\n",
    "When you scale up to larger blocks, like 4×4, the interactions become more complex. Fires that start in one 2×2 block can influence adjacent 2×2 blocks. However, when looking at a 4×4 block as a whole, the spread of fire can become nonlinear due to interactions across the entire 4×4 area, which can introduce new dynamics not observed in the smaller 2×2 blocks."
   ]
  },
  {
   "cell_type": "markdown",
   "id": "7e997ebc-7369-49d2-8f24-577f346418cd",
   "metadata": {
    "editable": true,
    "slideshow": {
     "slide_type": "subslide"
    },
    "tags": [
     "slides",
     "remove-cell"
    ]
   },
   "source": [
    "For the simple forest fire model if $P_{1}=p$ is above $0.382$ then RGA predicts percolation i.e. If the tree density in the forest is below 38%, only a small area will burn. But if the tree density is above 38%, most of the forest will be burned.\n"
   ]
  },
  {
   "cell_type": "markdown",
   "id": "e366b59a-df9a-46b3-9f21-04f774943173",
   "metadata": {
    "editable": true,
    "slideshow": {
     "slide_type": ""
    },
    "tags": [
     "remove-cell"
    ]
   },
   "source": [
    "#### A slightly more complicated model: with regrowth of trees\n",
    "\n",
    "Bak, Chen and Tang proposed the following rules for a forest fire model on a lattice:\n",
    "- A burning tree becomes an empty site,\n",
    "- A green tree becomes burning if at least one of its neighbours is burning,\n",
    "- At an empty site a green tree grows with probability $p$.\n",
    "\n",
    "Bak et al. claimed this exhibits SOC in the limit as $p\\to 0$.\n",
    "\n",
    "However, there is no fire-starting mechanism other than the initialisation or seeding fires by hand. This was criticised as being a bit artificial.\n",
    "\n",
    "Drossel and Schwabl argued that the SOC was not exhibited because small forest fires can't occur.\n",
    "\n",
    "So, they introduced a fourth rule modelling lightning strikes:\n",
    "- A tree without a burning neighbour becomes a burning tree during one time step with probability $f$."
   ]
  },
  {
   "cell_type": "markdown",
   "id": "a5dc6615-efc6-4c64-93eb-22a2a7d05ade",
   "metadata": {
    "editable": true,
    "raw_mimetype": "",
    "slideshow": {
     "slide_type": ""
    },
    "tags": [
     "remove-cell"
    ]
   },
   "source": [
    "Love this. Here’s a **very bare-bones, teaching-friendly RG sketch** for the Drossel–Schwabl (DS) forest-fire model that’s honest about assumptions and still shows the idea.\n",
    "\n",
    "---\n",
    "\n",
    "# A toy real-space RG for the DS forest-fire model\n",
    "\n",
    "**Model recap (DS):**\n",
    "\n",
    "* States on a 2D lattice: empty (E), tree (T), burning (B).\n",
    "* Dynamics per tick:\n",
    "  (i) $B \\to E$ (burns out),\n",
    "  (ii) $T$ with a burning neighbour $\\to B$ (spread),\n",
    "  (iii) $E \\xrightarrow{p} T$ (growth),\n",
    "  (iv) $T \\xrightarrow{f} B$ (lightning).\n",
    "* SOC regime: **time-scale separation** $f \\ll p \\ll 1$: fires spread fast (ballistically), growth is slow, lightning is rarer still.\n",
    "\n",
    "We’ll do a **real-space coarse-graining** with $b\\times b$ blocks and define **renormalised variables**.\n",
    "\n",
    "---\n",
    "\n",
    "## 1) Coarse-grained variables and a quasi-static approximation\n",
    "\n",
    "Let\n",
    "\n",
    "* $\\rho \\equiv \\Pr(\\text{site is a tree})$ (tree density at a snapshot),\n",
    "* $\\phi \\equiv \\Pr(\\text{site is burning})$ (burning fraction).\n",
    "\n",
    "With $f \\ll p$ and fast spread, **burning is impulsive**: avalanches are brief, so at a random time $\\phi$ is small (most of the time nothing is burning). We therefore treat the geometry **quasi-statically**:\n",
    "\n",
    "* between avalanches, trees regrow;\n",
    "* a lightning strike ignites a connected tree cluster, which then burns out rapidly.\n",
    "\n",
    "Thus, at the instant of ignition, the forest looks like **site percolation** on the tree subgraph with occupation probability $\\rho$. The avalanche size is essentially the size of the ignited tree cluster.\n",
    "\n",
    "---\n",
    "\n",
    "## 2) Block states and RG map\n",
    "\n",
    "Partition the lattice into $b\\times b$ blocks. Define the **block state** by a simple majority/OR rule tailored to the dynamics:\n",
    "\n",
    "* A block is **Burning** if **any** site is burning inside (fast contagion → “OR” is appropriate):\n",
    "\n",
    "  $$\n",
    "  \\Phi' \\;=\\; 1 - (1-\\phi)^{b^{2}} \\;\\approx\\; b^{2}\\phi \\quad (\\phi\\ll 1).\n",
    "  $$\n",
    "\n",
    "  Since $\\phi$ is episodic and small, the flow rapidly sends $\\Phi' \\to 0$ between avalanches. Burning does **not** set the fixed point; it’s the trigger for relaxation.\n",
    "\n",
    "* For **trees**, define a block as **Tree-occupied** if it contains **at least one tree** (the most conservative choice):\n",
    "\n",
    "  $$\n",
    "  \\rho'_{\\text{OR}} \\;=\\; 1 - (1-\\rho)^{b^{2}}\n",
    "  \\;\\approx\\; b^{2}\\rho \\quad (\\rho\\ll 1).\n",
    "  $$\n",
    "\n",
    "  That map is only good at low density.\n",
    "\n",
    "A better coarse variable (because avalanches burn **connected** clusters) is:\n",
    "\n",
    "* A block is **Tree-connected** if there exists a **connected tree path across the block** (left-to-right or top-to-bottom). Call its probability $Q(\\rho)$. Then the RG map is\n",
    "\n",
    "$$\n",
    "\\rho' \\;=\\; R_b(\\rho) \\;\\equiv\\; Q_b(\\rho).\n",
    "$$\n",
    "\n",
    "This is exactly the **real-space RG for site percolation** on a $b\\times b$ cell: there exists a **nontrivial fixed point** $\\rho_c$ such that\n",
    "\n",
    "$$\n",
    "R_b(\\rho_c)=\\rho_c,\\qquad \\lambda \\;\\equiv\\; \\left.\\frac{dR_b}{d\\rho}\\right|_{\\rho_c} > 1,\n",
    "$$\n",
    "\n",
    "so $\\rho_c$ is **unstable** (critical).\n",
    "\n",
    "> Intuition: coarse-graining keeps only whether trees percolate through a block; the detailed micro-arrangement is irrelevant at large scales. That produces the percolation critical fixed point.\n",
    "\n",
    "---\n",
    "\n",
    "## 3) Including the slow drive ($p$) and dissipation ($f$)\n",
    "\n",
    "The DS model **self-drives** $\\rho$ upward via growth and **dissipates** it via avalanches:\n",
    "\n",
    "* **Drive (between avalanches):**\n",
    "  In a region with empty fraction $1-\\rho$, growth increases density by $\\Delta \\rho_+ \\sim p(1-\\rho)$ per tick.\n",
    "\n",
    "* **Dissipation (during an avalanche):**\n",
    "  Lightning hits a random tree with rate $\\sim f \\rho$ and removes a connected tree cluster of mean size $\\langle s(\\rho)\\rangle$. The **density drop per event** is $\\Delta \\rho_- \\sim \\langle s(\\rho)\\rangle / L^{2}$, and **events occur** at rate $\\sim f \\rho L^{2}$. Over time, the **mean dissipation rate** is therefore\n",
    "\n",
    "  $$\n",
    "  \\dot\\rho_- \\;\\sim\\; f \\rho \\,\\langle s(\\rho)\\rangle.\n",
    "  $$\n",
    "\n",
    "Near the percolation point,\n",
    "\n",
    "$$\n",
    "\\langle s(\\rho)\\rangle \\sim \n",
    "\\begin{cases}\n",
    "\\text{finite}, & \\rho<\\rho_c,\\\\\n",
    "L^{D}, & \\rho\\to\\rho_c^{+} \\text{ with finite } L,\\\\\n",
    "\\text{diverges as } |\\rho-\\rho_c|^{-\\gamma}, & L\\to\\infty,\n",
    "\\end{cases}\n",
    "$$\n",
    "\n",
    "so the **dissipation grows sharply** as $\\rho\\to \\rho_c$.\n",
    "\n",
    "A mean-field balance for the **slow evolution** of $\\rho$ is:\n",
    "\n",
    "$$\n",
    "\\dot\\rho \\;=\\; p(1-\\rho) \\;-\\; f \\rho \\,\\langle s(\\rho)\\rangle.\n",
    "$$\n",
    "\n",
    "* For **$f\\ll p$** (many growth ticks between lightning strikes) and **fast avalanches**, the system drifts upward in $\\rho$ until the **dissipation term explodes** near $\\rho_c$, kicking $\\rho$ back down by a large avalanche.\n",
    "* Repeating this cycle makes $\\rho(t)$ **hover near the unstable fixed point** $\\rho_c$ of the percolation RG: the **RG flow tries to push away**, but the **drive-dissipate cycle repeatedly returns** the system to its vicinity.\n",
    "\n",
    "This is the RG picture of **self-organized criticality**: the **critical manifold** (here the percolation fixed point) is an **attractor of the driven–dissipative dynamics**, even though it is **unstable** under the static RG map $R_b$.\n",
    "\n",
    "---\n",
    "\n",
    "## 4) What this toy RG says (and doesn’t)\n",
    "\n",
    "* **Says:**\n",
    "\n",
    "  * Coarse-graining reduces the geometry to **percolation** of trees with control parameter $\\rho$.\n",
    "  * The static RG has an **unstable critical fixed point** $\\rho_c$.\n",
    "  * The DS dynamics with $f\\ll p$ **self-tunes** $\\rho$ toward $\\rho_c$, producing **scale-free avalanches** (because cluster sizes near $\\rho_c$ are scale-free).\n",
    "* **Doesn’t (on purpose):**\n",
    "\n",
    "  * Compute exact recursion $R_b$ or exponents; we only used their **structure** (existence and instability of $\\rho_c$).\n",
    "  * Prove which **universality class** all avalanche exponents fall into; DS has subtleties (finite-size, double-limit issues, etc.).\n",
    "\n",
    "---\n",
    "\n",
    "## 5) If you want one equation to show on a slide\n",
    "\n",
    "$$\n",
    "\\boxed{\\quad\n",
    "\\begin{aligned}\n",
    "\\rho' &= R_b(\\rho)\\quad\\text{(percolation RG; fixed point }\\rho_c\\text{)},\\\\[2pt]\n",
    "\\dot\\rho &= p(1-\\rho) \\;-\\; f\\,\\rho\\,\\langle s(\\rho)\\rangle, \\qquad\n",
    "\\langle s(\\rho)\\rangle \\uparrow \\text{ as } \\rho \\to \\rho_c.\n",
    "\\end{aligned}\n",
    "\\quad}\n",
    "$$\n",
    "\n",
    "**Moral:** the **RG flow** defines the critical manifold; the **slow drive + fast dissipation** makes that manifold an **effective attractor** → **SOC**.\n",
    "\n",
    "---\n",
    "\n",
    "If you’d like, I can turn this into two slide-ready panels: (i) cartoon RG flow with unstable $\\rho_c$; (ii) sawtooth $\\rho(t)$ drifting up via growth and dropping via avalanches, annotated with “hovering near $\\rho_c$”.\n"
   ]
  },
  {
   "cell_type": "markdown",
   "id": "02eb3df5-da81-4f62-8611-886656eb36cd",
   "metadata": {
    "editable": true,
    "slideshow": {
     "slide_type": ""
    },
    "tags": [
     "remove-cell"
    ]
   },
   "source": [
    "# Conclusions\n",
    "\n",
    "The sand-pile model is idealised with highly oversimplifed laws of motion. *However*, it successfully explains the behaviour of diverse phenomena such as earthquakes or forest fires.\n",
    "\n",
    "So much of life and nature seems to be poised at criticality. e.g. large earthquakes and some kinds of accidents are fundamentally unpredictable.\n",
    "\n",
    "There is strong support and empirical evidence suggesting that SOC is key to understanding how the world works.\n",
    "- Per Bak (1997, title) claims to have discovered ‘how nature works’\n",
    "<!-- - Creutz (1997, p. 147) thinks that ‘[t]he idea provides a possible “explanation” of the omnipresent multi-scale structures throughout the natural world’ (my emphasis)\n",
    "- Paczuski and Bak (1999, p. 2) assert that ‘punctuated equilibrium [i.e. SOC] dynamics is the essential dynamical process for everything that evolves and becomes complex’ (my emphasis)\n",
    "- Blanchard and co-workers (1999, p. 375) observe that SOC has become a ‘new paradigm for the explanation of a huge variety of phenomena in nature as well as social science’\n",
    "- Buchanan (2000, title) thinks that SOC is ‘ubiquitous’ and has discovered ‘why the world is simpler than we think’ -->\n",
    "\n",
    "But is SOC ubiquitous? And in what sense is SOC a general feature of nature? ... We still don't know.\n",
    "\n",
    "SOC is no longer seen as the sole framework to explain multi-scale phenomena. It is now understood as part of a broader collection of mechanisms (including the importance of network topologies and non-equilibrium models), rather than a universal theory.\n",
    "\n",
    "What we do know is that it is impossible to look at the state of a critical system and say whether a large avalanche is 'due'. If the system is in a critical state, then a large avalanche is always possible... It just depends on the next grain of sand."
   ]
  },
  {
   "cell_type": "markdown",
   "id": "67d26bbc-2614-4b1c-9c8e-8635b235018c",
   "metadata": {
    "editable": true,
    "slideshow": {
     "slide_type": ""
    },
    "tags": [
     "remove-cell"
    ]
   },
   "source": [
    "# References\n",
    "**Cellular automata introduction and RGA**:\n",
    "- Sayama H, 'Introduction to the modeling and analysis of complex systems,' OpenSUNY textbooks, (2015).\n",
    "- Self-organized criticality, sandpile model\n",
    "- Bak P, Tang C, Wiesenfeld K, 'Self-organized criticality: an explanation of $1/f$ noise,' Physical Review Letters, 59, 381--384 (1987).\n",
    "- Bak P, Tang C, Wiesenfeld K, 'Self-organized criticality,' Physical Review A, 38, 364--374 (1988).\n",
    "\n",
    "**Forest fire and earthquake models**:\n",
    "- Bak P, Chen K, Tang C, 'A forest-fire model and some thoughts on turbulence,' Physics Letters A, 147, 297--300 (1990).\n",
    "- Drossel B, Schwabl F, 'Self-organized critical forest-fire model,' Physical Review Letters, 69, 1629--1632 (1992).\n",
    "- Olami Z, Feder HJS, Christensen K, 'Self-organized criticality in a continuous, nonconservative cellular automaton modeling earthquakes,' Physical Review Letters, 68, 1244--1247 (1992).\n"
   ]
  },
  {
   "cell_type": "markdown",
   "id": "219e7e0b-ddca-4791-9637-a95bc0e0515b",
   "metadata": {
    "editable": true,
    "slideshow": {
     "slide_type": ""
    },
    "tags": [
     "reader-only",
     "remove-cell"
    ]
   },
   "source": [
    "<div style=\"border-left: 4px solid #1e70bf; padding: 0.75em; background-color: #eaf3fb; margin-bottom: 1em;\">\n",
    "  <strong>Something else to consider...</strong><br>\n",
    "  What would you say if asked 'what caused the avalanche?'?\n",
    "</div>"
   ]
  },
  {
   "cell_type": "markdown",
   "id": "0d574797-1189-4ee9-b05d-0948af75120d",
   "metadata": {
    "editable": true,
    "slideshow": {
     "slide_type": ""
    },
    "tags": [
     "reader-only",
     "remove-cell"
    ]
   },
   "source": [
    "```{toggle}\n",
    "\n",
    "Within a sand pile model, large avalanches occur under two different philosophies:\n",
    "- the proximate (most immediate) cause of these avalanches are because a grain of sand is dropped on the sand pile (and the topple mechanism)\n",
    "- the ultimate (true) cause of these avalanches are because of the properties of the self-organised critical state that the system is in\n",
    "\n",
    "```"
   ]
  }
 ],
 "metadata": {
  "@webio": {
   "lastCommId": null,
   "lastKernelId": null
  },
  "celltoolbar": "Slideshow",
  "kernelspec": {
   "display_name": "Python 3 (ipykernel)",
   "language": "python",
   "name": "python3"
  },
  "language_info": {
   "codemirror_mode": {
    "name": "ipython",
    "version": 3
   },
   "file_extension": ".py",
   "mimetype": "text/x-python",
   "name": "python",
   "nbconvert_exporter": "python",
   "pygments_lexer": "ipython3",
   "version": "3.11.8"
  },
  "toc": {
   "base_numbering": 1,
   "nav_menu": {},
   "number_sections": true,
   "sideBar": true,
   "skip_h1_title": false,
   "title_cell": "Table of Contents",
   "title_sidebar": "Contents",
   "toc_cell": false,
   "toc_position": {},
   "toc_section_display": true,
   "toc_window_display": false
  }
 },
 "nbformat": 4,
 "nbformat_minor": 5
}

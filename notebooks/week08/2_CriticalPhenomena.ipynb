{
 "cells": [
  {
   "cell_type": "markdown",
   "id": "f163114d",
   "metadata": {
    "slideshow": {
     "slide_type": "slide"
    }
   },
   "source": [
    ">*\"The subject of sand movement lies far more in the realm of physics than of geomorphology\"* - Ralph Bagnold, Physics of Blown Sand and Desert Dunes\n",
    "\n",
    ">*\"To see a World in a Grain of Sand\"*, William Blake, Auguries of Innocence"
   ]
  },
  {
   "cell_type": "markdown",
   "id": "c877cfda",
   "metadata": {
    "slideshow": {
     "slide_type": "slide"
    }
   },
   "source": [
    "# Properties of critical systems\n",
    "We will focus on a few properties today\n",
    "1. Fractal Geometry - non-regular geometric shape containing the same degree of non-regularity on all scales, i.e. scale invariance\n",
    "2. Heavy-tailed distributions - probability distribution whose tails are not exponentially bounded (a looser condition than the power-law but intended to capture the same behaviour)\n",
    "3. Pink noise* - exhibited through variations in time where low frequency components have more power than high frequency components. The power for a particular frequency $f$ will decay at a rate of $1/f$ 'Self-Organized Criticality: An Explanation of 1/f Noise'"
   ]
  },
  {
   "cell_type": "markdown",
   "id": "6fc6f295",
   "metadata": {
    "slideshow": {
     "slide_type": "slide"
    }
   },
   "source": [
    "# Sand pile model\n",
    "A model of self-organised criticality (not of sand piles)\n",
    "\n",
    "The idea we aim to capture: how the addition of grains of sand to a 'metastable state' can trigger local motion causing the sand to rearrange itself via avalanches that span the entire pile\n",
    "\n",
    "In the self-organised critical state chain reactions can trigger avalanches of all sizes\n",
    "- **\"Critical\"** because a single local event can impact the entire system\n",
    "- **\"Self-organised\"** because the global state/pattern/dynamics has emerged spontaneously (no top-down control/invisible hand imposing order).\n",
    "\n",
    "<!-- The idea of SOC is intuitive but definitions are typically vague, involve presence of properties, e.g. \n",
    "- power law distributed events\n",
    "- scale invariance\n",
    "- criticality with no parameter fine tuning -->"
   ]
  },
  {
   "cell_type": "markdown",
   "id": "fdbccc66",
   "metadata": {
    "slideshow": {
     "slide_type": "subslide"
    }
   },
   "source": [
    "## (Abelian) Sand pile model\n",
    "The term Abelian comes from group theory, where a group is called Abelian if the order of operations does not matter (i.e., the group is commutative), i.e. the order in which you combine its elements (via a binary operation like addition or multiplication) does not affect the result. For example, in ordinary arithmetic, addition is commutative because:\n",
    "\n",
    "$$\\color{white}{a + b = b + a}$$\n",
    "\n",
    "In the sandpile model, regardless of the sequence of topplings, the final distribution of sand is the same, making the model an example of an Abelian system\n",
    "\n",
    "The commutative property in the Abelian Sandpile Model makes it a more tractable and mathematically interesting system to study."
   ]
  },
  {
   "cell_type": "markdown",
   "id": "c5ba3761",
   "metadata": {
    "slideshow": {
     "slide_type": "subslide"
    }
   },
   "source": [
    "## Sand pile model details\n",
    "- 2D cellular automata \n",
    "- state of each cell, $z(x,y)$, represents the slope of a part of the sand pile (or equivalently the number of grains)\n",
    "- boundary of grid: state is kept at 0 i.e. as sand is distributed outwards, excess will 'fall off the edge'\n",
    "- dynamics: \n",
    "    1. randomly select cell and increment state by 1 (add sand to it)\n",
    "    2. if cell state exceeds a critical value of $K_c$ then it 'topples' and redistributes sand to 4 neighbouring cells (-4 to the cell that topples and +1 to its von Neumann neighbours)    \n",
    "    3. once all sites are stable again return to step 1\n",
    "\n",
    "<!-- \\begin{eqnarray*}\n",
    "z(x,y) & \\to & z(x,y) - 4, \\\\\n",
    "z(x\\pm 1,y) & \\to & z(x\\pm 1, y) + 1, \\\\\n",
    "z(x,y\\pm 1) & \\to & z(x, y\\pm 1) + 1.\n",
    "\\end{eqnarray*} -->\n",
    "    \n",
    "$$\\color{white}{z(x,y) \\mapsto z(x,y) - 4,}$$ \n",
    "$$\\color{white}{z(x\\pm 1,y) \\mapsto z(x\\pm 1,y) + 1,}$$  \n",
    "$$\\color{white}{z(x,y\\pm 1) \\mapsto z(x, y\\pm 1) + 1.}$$ \n",
    "\n",
    "Note that we usually choose $K_c=4$.\n",
    "\n"
   ]
  },
  {
   "cell_type": "markdown",
   "id": "a8c833e0",
   "metadata": {
    "slideshow": {
     "slide_type": "subslide"
    }
   },
   "source": [
    "## Perturbations\n",
    "Most of the time, dropping a single grain causes no cells to topple\n",
    "\n",
    "Occasionally a single grain can cause an avalanche affecting a substantial fraction of the grid\n",
    "\n",
    "To investigate this behaviour we initialise as:\n",
    "- option A (more common): all cells are initialised randomly with integer values $z>K_c$, and the model is run until it stabilises. This state is then used as an initialisation\n",
    "- option B: build up a sand pile by adding a grains at a random lattice point $(x,y)$ and then running the dynamics"
   ]
  },
  {
   "cell_type": "markdown",
   "id": "44cb411d",
   "metadata": {
    "slideshow": {
     "slide_type": "subslide"
    }
   },
   "source": [
    "## Power law?\n",
    "\n",
    "**Q1:** What should we be looking at to quantify this behaviour?\n"
   ]
  },
  {
   "cell_type": "markdown",
   "id": "84676fc4",
   "metadata": {
    "slideshow": {
     "slide_type": "fragment"
    }
   },
   "source": [
    "\n",
    "**A1:** For each perturbation:\n",
    "- the number of time steps the pile takes to stabilise, $t$\n",
    "- the total number of cells that topple, $S$\n"
   ]
  },
  {
   "cell_type": "markdown",
   "id": "bcedce62",
   "metadata": {
    "slideshow": {
     "slide_type": "fragment"
    }
   },
   "source": [
    "**Q2:** How can we use these observations to demonstrate the properties typical of critical phenomena?\n"
   ]
  },
  {
   "cell_type": "markdown",
   "id": "e0bc8878",
   "metadata": {
    "slideshow": {
     "slide_type": "fragment"
    }
   },
   "source": [
    "**A2:** Tracking the distribution of avalanche sizes, $S$ as a function of size, we should find the hallmark of self-organised criticality...\n",
    "\n",
    "...a power law (or at least a heavy tail distribution characterised by many small values and a few very large values, slower-than-exponential decay rate):\n",
    "\\begin{equation*}\n",
    "D(S) = a S^{-\\alpha}.\n",
    "\\end{equation*}"
   ]
  },
  {
   "cell_type": "markdown",
   "id": "9c0fe4d3",
   "metadata": {
    "slideshow": {
     "slide_type": "subslide"
    }
   },
   "source": [
    "\\begin{equation*}\n",
    "D(S) = a S^{-\\alpha}.\n",
    "\\end{equation*}\n",
    "\n",
    "Extending the size of the system does not change the exponent, i.e., there is no intrinsic length scale in the system (scale invariance)\n",
    "\n",
    "Note: large amount of data is required to demonstrate the cascading effect of dropping sand in a random location. The majority of the time that this process takes place, nothing happens. This will cause the CA state to be unchanged. Thus, it is important to filter these results out, so that the histogram displays desired outcomes without difficulty. i.e. $S$ is looking at the number of cells that topple, given that a cell topples\n",
    "\n",
    "<center>\n",
    "<img src=\"Sand_Distributions2.png\" width=\"600\"/>\n",
    "</center>\n",
    "\n",
    "Image from Bak et al 'Self- Organized Criticality: An Explanation of 1/f Noise'"
   ]
  },
  {
   "cell_type": "markdown",
   "id": "ba5bc3cd",
   "metadata": {
    "slideshow": {
     "slide_type": "subslide"
    }
   },
   "source": [
    "## Fractals?\n",
    "Binarised sand piles for $z=\\{0,1,2,3\\}$:\n",
    "<center>\n",
    "<img src=\"Sand_Fractals.png\" width=\"600\"/>\n",
    "</center>\n",
    "\n",
    "Image from Allen Downey's Think Complexity (he also provides code)\n",
    "\n",
    "**Q:** It looks fractal... but is it? "
   ]
  },
  {
   "cell_type": "markdown",
   "id": "b3774208",
   "metadata": {
    "slideshow": {
     "slide_type": "subslide"
    }
   },
   "source": [
    "**A:** To be sure we'll need to estimate the fractal dimension \n",
    "\n",
    "Box-counting dimension: \n",
    "1. count number of cells with sand in it for varying box sizes\n",
    "2. On a log-log scale, the cell counts form nearly straight lines, which indicates that we are measuring fractal dimension over a valid range of box sizes\n",
    "<center>\n",
    "<img src=\"Sand_FractalBoxCounting.png\" width=\"600\"/>\n",
    "</center>\n"
   ]
  },
  {
   "cell_type": "markdown",
   "id": "6cc74789",
   "metadata": {
    "slideshow": {
     "slide_type": "subslide"
    }
   },
   "source": [
    "## Pink noise?\n",
    "Bak et al. originally presented the sand pile model in a paper titled *'Self-Organized Criticality: An Explanation of 1/f Noise'* (and of why it is so common in natural and engineered systems)\n",
    "\n",
    "A signal is a quantity that changes over time\n",
    "\n",
    "Any signal can be decomposed into a set of frequency components with different levels of power (amplitude or volume) \n",
    "\n",
    "The power spectrum of a signal is a function that shows the power of each frequency component. Specifically, the power, $P$, at frequency $f$ is proportional to $1/f$"
   ]
  },
  {
   "cell_type": "markdown",
   "id": "96b1ff31",
   "metadata": {
    "slideshow": {
     "slide_type": "subslide"
    }
   },
   "source": [
    "Noise is a signal that contains many frequency components (can be found through a process called spectral analysis)\n",
    "\n",
    "There are many kinds of noise. For example, white noise is a signal that has components with equal power over a wide range of frequencies so $\\beta=0$, i.e. it has a flat Fourier spectrum. Other kinds of noise have different relationships between frequency and power\n",
    "\n",
    "In pink noise (sometimes called 'flicker noise') low-frequency components have more power than high-frequency components and $0<\\beta<2$ (between white and red noise)\n",
    "\n",
    "For the sand pile model we need a signal that can be measured when sand is toppled ($t$ and $S$)\n",
    "\n",
    "**Q:** How would we find $\\beta$ from data?"
   ]
  },
  {
   "cell_type": "markdown",
   "id": "553362a9",
   "metadata": {
    "slideshow": {
     "slide_type": "subslide"
    }
   },
   "source": [
    "**Q:** How would we find $\\beta$ from data?\n",
    "\n",
    "**A:** We'll need to extract the power spectrum \n",
    "\n",
    "I am sweeping a lot of the mathematical detail under the rug here. The basic idea is to take a signal and decompose it into its individual frequency components which add up to make that signal. (This isn't assessable, we'll just assume we easily extract the power spectrum from some nice python package)\n",
    "\n",
    "Taking the $\\log$ of both sides yields\n",
    "$$\\log P(f) = -\\beta \\log f$$\n",
    "Plotting $P(f)$ versus $f$ on a log-log scale, we expect a straight line with slope $\\beta$\n",
    "\n",
    "The power spectrum of the number of toppled cells over time gives a value of $\\beta=1.58$:\n",
    "<center>\n",
    "<img src=\"Sand_PowerSpectra.png\" width=\"300\"/>\n",
    "</center>\n",
    "\n",
    "Image from Allen Downey's Think Complexity "
   ]
  },
  {
   "cell_type": "markdown",
   "id": "24b9b678",
   "metadata": {
    "slideshow": {
     "slide_type": "subslide"
    }
   },
   "source": [
    "The sand pile model is an example of stochastic dynamics operating in a deterministic environment \n",
    "\n",
    "But we could also consider models that consist of deterministic dynamics operating in a random environment (sometimes called ‘extremal’ or ‘quenched’ models). The most important example of this type is the Bak-Sneppen model of evolution (power laws based on extinction events suggest that evolution is a SOC process. Extinctions can be viewed as avalances where death of a species triggers deaths of others)."
   ]
  },
  {
   "cell_type": "markdown",
   "id": "5a181b31",
   "metadata": {
    "slideshow": {
     "slide_type": "slide"
    }
   },
   "source": [
    "# Analytics\n",
    "Mathematically, we can use mean-field approximations and renormalization group analysis to predict typical average outcomes and percolation thresholds\n",
    "\n",
    "**Mean-field approximations:** \n",
    "- describe how the macroscopic detail of system changes on average over time\n",
    "- i.e. large detail/dynamics over time\n",
    "\n",
    "**Renormalization group analysis:**\n",
    "- describes a certain property of a small part of the system and how it changes over length scales\n",
    "- i.e. small detail over space/relationships between scales\n",
    "- more comprehensive in its approach to scaling\n",
    "\n",
    "Two sides of the same coin: Both aim to simplify and understand complex systems by focusing on effective behaviours and average effects."
   ]
  },
  {
   "cell_type": "markdown",
   "id": "2b8abf19",
   "metadata": {
    "slideshow": {
     "slide_type": "subslide"
    }
   },
   "source": [
    "## Mean-field approximation\n",
    "We saw mean-field approximation when analysing cellular automata previously\n",
    "\n",
    "Recall...\n",
    "1. reformulate the dynamics by describing the system's average state, which represents the overall behavior of all cells\n",
    "2. derive an equation that shows how this average state evolves over time based on how individual cells interact with it\n",
    "    - each cell's behaviour is viewed in relation to the average, known as the *mean field*, which is a uniform, probabilistic space\n",
    "    - we assume that each cell experiences the same average environment\n",
    "    - rather than updating every single cell based on its actual neighbours, we calculate the probability that a cell will be black or white based on the average density\n",
    "    - focus shifts from individual cell updates to the evolution of the global density of black cells over time\n",
    "3. analyse how the average state and long-term behaviour changes over time to predict the expected outcome of the process given an initial configuration\n",
    "\n",
    "This process (of averaging across the entire system) disregards spatial relationships. For this reason, you should use it with caution as it can be misleading."
   ]
  },
  {
   "cell_type": "markdown",
   "id": "628906bb",
   "metadata": {
    "slideshow": {
     "slide_type": "subslide"
    }
   },
   "source": [
    "## Renormalization group analysis (RGA)\n",
    "Used in quantum and statistical physics\n",
    "\n",
    "RGA focuses on how the system's behaviour changes as you zoom out or coarse-grain the system. It simplifies the system by averaging out details at smaller scales and analyzing the effective interactions at larger scales\n",
    "\n",
    "It's complicated and in my opinion not a fantastic method for complex systems but it is included in many classic text books\n",
    "\n",
    "It works by defining a certain property of a small part of the system and describing how it changes over length scales, not time\n",
    "\n",
    "The result is an iterative map whose long-term/large-scale behaviour can be used to make predictions or statements about the system property\n",
    "\n",
    "We'll look at a very simple example to illustrate the idea..."
   ]
  },
  {
   "cell_type": "markdown",
   "id": "850ba05e",
   "metadata": {
    "slideshow": {
     "slide_type": "subslide"
    }
   },
   "source": [
    "## Forest fire\n",
    "https://www.complexity-explorables.org/explorables/critically-inflammatory/\n",
    "\n",
    "Assume a square lattice where the states are occupied by a tree $1$ or not $0$\n",
    "- Trees initially occupy a cell with probability $p$.  \n",
    "<!-- $p=0$ means no trees anywhere, $p=1$ means every cell has a tree -->\n",
    "- Randomly set fire to one tree\n",
    "- If an unburnt tree is next to (Moore neighbourhood) a burning tree then it catches fire\n",
    "\n",
    "Note, there is no regrowth of trees in this model and so eventually there will be a static final configuration (different to the explorable above)\n",
    "\n",
    "We want to know if percolation occurs, i.e., does the extent of the burnt trees span the lattice?"
   ]
  },
  {
   "cell_type": "markdown",
   "id": "59610b03",
   "metadata": {
    "slideshow": {
     "slide_type": "subslide"
    }
   },
   "source": [
    "Renormalization works by coarse-graining: dividing the system into blocks, which are replaced with simplified variables (at each step of the renormalisation) that describe whether large clusters of trees within them are connected or disconnected\n",
    "\n",
    "As the system is \"zoomed out\" through multiple renormalization steps, the behaviour of clusters at larger scales is observed\n",
    "\n",
    "Specifically:\n",
    "1. define a property of the system than can be measured at any scale. \n",
    "    - For the simple forest fire model, where we are interested in percolation, this property could be the probability, $P$, that a fire can spread from one side of the portion of the forest (of scale $s$) to another\n",
    "    \n",
    "2. calculate the property at the smallest scale $P_{1}$. \n",
    "    - one cell, and we need a tree to be present so $ P_{1} = p $"
   ]
  },
  {
   "cell_type": "markdown",
   "id": "19c704f4",
   "metadata": {
    "slideshow": {
     "slide_type": "subslide"
    }
   },
   "source": [
    "3. derive a mathematical relationship between the property at the smallest scale and the property at the next larger scale $P_{2} = \\Phi\\left[P_{1}\\right]$\n",
    "    - calculate the probability that a fire can percolate on a $2\\times 2$ grid.\n",
    "    \n",
    "By considering an exhaustive list of possible situations we see that this happens if all four cells have trees, all combinations of three cells having trees, and the four possibilities for only two cells having trees.\n",
    "\\begin{equation*}\n",
    "P_{2}=\\Phi\\left[P_{1}\\right] = P_{1}^{4} + 4P_{1}^{3}(1-P_{1})+4P_{1}^{2}(1-P_{1})^{2}.\n",
    "\\end{equation*}\n",
    "\n",
    "<center>\n",
    "<img src=\"Renormalisation_Sayama.png\" width=\"600\"/>\n",
    "</center>\n",
    "\n",
    "Image from Sayama"
   ]
  },
  {
   "cell_type": "markdown",
   "id": "4999de0d",
   "metadata": {
    "slideshow": {
     "slide_type": "subslide"
    }
   },
   "source": [
    "4. *Assume* this relationship holds to predict larger scales and obtain the iterative map:\n",
    "\\begin{equation*}\n",
    "P_{s+1}=\\Phi\\left[P_{s}\\right] = P_{s}^{4} + 4P_{s}^{3}(1-P_{s})+4P_{s}^{2}(1-P_{s})^{2} \\text{ for all } s.\n",
    "\\end{equation*}    \n",
    "    \n",
    "<center>\n",
    "<img src=\"Renormalisation2_Sayama.png\" width=\"600\"/>\n",
    "</center>\n",
    "\n",
    "Image from Sayama\n",
    "\n",
    "This is clearly an approximation but does produce a difference equation whose asymptotic behaviour ($s\\to\\infty$) can be analysed (cobweb plot, determine fixed points and stability etc)\n",
    "\n",
    "It's not correct but *some kind of approximation needs to be made in order to study complex systems analytically*\n",
    "<!-- When you scale up to larger blocks, like 4×4, the interactions become more complex. Fires that start in one 2×2 block can influence adjacent 2×2 blocks. However, when looking at a 4×4 block as a whole, the spread of fire can become nonlinear due to interactions across the entire 4×4 area, which can introduce new dynamics not observed in the smaller 2×2 blocks. -->\n",
    "\n",
    "\n",
    "\n",
    "For the simple forest fire model if $P_{1}=p$ is above $0.382$ then RGA predicts percolation i.e. If the tree density in the forest is below 38%, only a small area will burn. But if the tree density is above 38%, most of the forest will be burned.\n",
    "<!-- \n",
    "**Forest fire---more complicated**\n",
    "\n",
    "Bak, Chen and Tang proposed the following rules for a forest fire model on a lattice:\n",
    "- A burning tree becomes an empty site,\n",
    "- A green tree becomes burning if at least one of its neighbours is burning,\n",
    "- At an empty site a green tree grows with probability $p$.\n",
    "\n",
    "Bak et al. claimed this exhibits SOC in the limit as $p\\to 0$.\n",
    "\n",
    "However, Drossel and Schwabl argue that this is not the case as small forest fires can't occur.\n",
    "\n",
    "So, they introduced a fourth rule modelling lightning strikes\n",
    "A tree without a burning neighbour becomes a burning tree during one time step with probability $f$.\n",
    "\n",
    " -->"
   ]
  },
  {
   "cell_type": "markdown",
   "id": "172e9be8",
   "metadata": {
    "slideshow": {
     "slide_type": "slide"
    }
   },
   "source": [
    "# Conclusions\n",
    "\n",
    "The sand-pile model is idealised with highly oversimplifed laws of motion. *However*, it successfully explains the behaviour of diverse phenomena such as earthquakes or forest fires\n",
    "\n",
    "So much of life and nature seems to be poised at criticality. e.g. large earthquakes and some kinds of accidents are fundamentally unpredictable\n",
    "\n",
    "There is strong support and empirical evidence suggesting that SOC is key to understanding how the world works\n",
    "- Per Bak (1997, title) claims to have discovered ‘how nature works’\n",
    "<!-- - Creutz (1997, p. 147) thinks that ‘[t]he idea provides a possible “explanation” of the omnipresent multi-scale structures throughout the natural world’ (my emphasis)\n",
    "- Paczuski and Bak (1999, p. 2) assert that ‘punctuated equilibrium [i.e. SOC] dynamics is the essential dynamical process for everything that evolves and becomes complex’ (my emphasis)\n",
    "- Blanchard and co-workers (1999, p. 375) observe that SOC has become a ‘new paradigm for the explanation of a huge variety of phenomena in nature as well as social science’\n",
    "- Buchanan (2000, title) thinks that SOC is ‘ubiquitous’ and has discovered ‘why the world is simpler than we think’ -->"
   ]
  },
  {
   "cell_type": "markdown",
   "id": "81f9e02f",
   "metadata": {
    "slideshow": {
     "slide_type": "subslide"
    }
   },
   "source": [
    "But is SOC ubiquitous? And in what sense is SOC a general feature of nature? \n",
    "\n",
    "We still don't know\n",
    "\n",
    "SOC is no longer seen as the sole framework to explain multi-scale phenomena\n",
    "\n",
    "It is now understood as part of a broader collection of mechanisms (including the importance of network topologies and non-equilibrium models), rather than a universal theory.\n",
    "\n",
    "What we do know is that it is impossible to look at the state of a critical system and say whether a large avalanche is 'due'. If the system is in a critical state, then a large avalanche is always possible... It just depends on the next grain of sand."
   ]
  },
  {
   "cell_type": "markdown",
   "id": "84e8dda3",
   "metadata": {
    "slideshow": {
     "slide_type": "skip"
    }
   },
   "source": [
    "# References\n",
    "Cellular automata introduction and RGA:\n",
    "- Sayama H, 'Introduction to the modeling and analysis of complex systems,' OpenSUNY textbooks, (2015).\n",
    "- Self-organized criticality, sandpile model\n",
    "- Bak P, Tang C, Wiesenfeld K, 'Self-organized criticality: an explanation of $1/f$ noise,' Physical Review Letters, 59, 381--384 (1987).\n",
    "- Bak P, Tang C, Wiesenfeld K, 'Self-organized criticality,' Physical Review A, 38, 364--374 (1988).\n",
    "\n",
    "Forest fire and earthquake models:\n",
    "- Bak P, Chen K, Tang C, 'A forest-fire model and some thoughts on turbulence,' Physics Letters A, 147, 297--300 (1990).\n",
    "- Drossel B, Schwabl F, 'Self-organized critical forest-fire model,' Physical Review Letters, 69, 1629--1632 (1992).\n",
    "- Olami Z, Feder HJS, Christensen K, 'Self-organized criticality in a continuous, nonconservative cellular automaton modeling earthquakes,' Physical Review Letters, 68, 1244--1247 (1992).\n"
   ]
  },
  {
   "cell_type": "markdown",
   "id": "73657490",
   "metadata": {
    "slideshow": {
     "slide_type": "skip"
    }
   },
   "source": [
    "# For inclusion in 2024\n",
    "Clauset et al Power law distributions in empirical data - SIAM review\n",
    "\n",
    "http://philsci-archive.pitt.edu/11217/1/SOC.pdf\n",
    "\n"
   ]
  }
 ],
 "metadata": {
  "@webio": {
   "lastCommId": null,
   "lastKernelId": null
  },
  "celltoolbar": "Slideshow",
  "kernelspec": {
   "display_name": "Python 3 (ipykernel)",
   "language": "python",
   "name": "python3"
  },
  "language_info": {
   "codemirror_mode": {
    "name": "ipython",
    "version": 3
   },
   "file_extension": ".py",
   "mimetype": "text/x-python",
   "name": "python",
   "nbconvert_exporter": "python",
   "pygments_lexer": "ipython3",
   "version": "3.11.13"
  },
  "toc": {
   "base_numbering": 1,
   "nav_menu": {},
   "number_sections": true,
   "sideBar": true,
   "skip_h1_title": false,
   "title_cell": "Table of Contents",
   "title_sidebar": "Contents",
   "toc_cell": false,
   "toc_position": {},
   "toc_section_display": true,
   "toc_window_display": false
  }
 },
 "nbformat": 4,
 "nbformat_minor": 5
}

{
 "cells": [
  {
   "cell_type": "markdown",
   "id": "082eb6fb",
   "metadata": {
    "editable": true,
    "slideshow": {
     "slide_type": "slide"
    },
    "tags": [
     "slides"
    ]
   },
   "source": [
    "# Week 8: Critical behaviour \n",
    "Last week we learnt about swarm optimisation with agent-based models.\n",
    "\n",
    "Today, we'll return to cellular automata as the modelling framework to explore criticality."
   ]
  },
  {
   "cell_type": "markdown",
   "id": "0ba86c5a-8d64-4793-92ec-5d20e458850e",
   "metadata": {
    "editable": true,
    "slideshow": {
     "slide_type": "subslide"
    },
    "tags": [
     "slides"
    ]
   },
   "source": [
    "## Motivation: Vicsek model\n",
    "\n",
    "![](images/Vicsek_abstract.png)"
   ]
  },
  {
   "cell_type": "markdown",
   "id": "d668046e-417a-48d6-a66b-8436259a2dab",
   "metadata": {
    "editable": true,
    "slideshow": {
     "slide_type": ""
    },
    "tags": [
     "reader-only"
    ]
   },
   "source": [
    "Abstracts are short, and space is precious but the authors highlight these details because they are *fundamental to understanding the behaviour of the system*: \n",
    "\n",
    "- The type of transition\n",
    "- (spontaneous rotational symmetry breaking)\n",
    "- The power law scaling and the critical exponent"
   ]
  },
  {
   "cell_type": "markdown",
   "id": "ff46ecce-01ed-4260-81ee-9e6d6c024897",
   "metadata": {
    "editable": true,
    "slideshow": {
     "slide_type": "subslide"
    },
    "tags": [
     "slides"
    ]
   },
   "source": [
    "The results are presented in a typical style for statistical physics: sweeping parameters and averaging over many runs.\n",
    "\n",
    "From there, the behaviour is abstracted further with scaling arguments and critical exponents, which provide a formal way to detect and classify criticality — going beyond simply eyeballing curves.\n",
    "\n",
    "This is why Vicsek and colleagues were confident in claiming power-law scaling and reporting a critical exponent right in the abstract.\n",
    "\n",
    "![](images/Vicsek_results.png)\n"
   ]
  },
  {
   "cell_type": "markdown",
   "id": "7b930939-a3fe-4626-98bb-d81981f1adff",
   "metadata": {
    "editable": true,
    "slideshow": {
     "slide_type": ""
    },
    "tags": [
     "reader-only"
    ]
   },
   "source": [
    "Left (Fig 2): continuous transition. \n",
    "\n",
    "Right (Fig 3): rescaled data collapsing onto a line, with slope giving the critical exponent. \n",
    "\n",
    "These results convinced Vicsek et al. it was a continuous, power-law transition."
   ]
  },
  {
   "cell_type": "markdown",
   "id": "fd8ac636-641a-414e-b6f9-0a71a855d87c",
   "metadata": {
    "editable": true,
    "slideshow": {
     "slide_type": ""
    },
    "tags": [
     "reader-only"
    ]
   },
   "source": [
    "### Fig. 2a of Vicsek, 1995 \n",
    "Shows how the order parameter (the average velocity $v_a$) changes as the control parameter (noise strength $\\eta$) is adjusted for different system sizes.\n",
    "\n",
    "When noise is high, the system is disordered: particles move in all directions with equal probability. This state has rotational symmetry — if you rotated the system, it would look the same on average.\n",
    "\n",
    "As noise decreases, particles spontaneously align in a common direction. The equations don’t prescribe which direction — the system chooses one itself. This is spontaneous symmetry breaking: no external field or leader dictates the choice, yet once chosen, the direction is stable.\n",
    "\n",
    "Between these extremes lies a **phase transition**, where collective behaviour changes abruptly. \n",
    "\n",
    "The type of transition determines whether we expect smooth critical behaviour or abrupt jumps.\n",
    "For years there was a battle in the literature about this transition (namely whether is was continuous, or discontinuous).\n",
    "\n",
    "Vicsek et al. (1995) argued it was continuous: as noise increased, order gradually declined towards disorder. Later work (notably Grégoire & Chaté, mid-2000s) found signs of discontinuous behaviour with abrupt switching and coexistence between ordered and disordered phases.\n",
    "\n",
    "The difficulty lay in a few things:\n",
    "- finite-size effects: in small simulations the transition looked smooth, whereas larger particle numbers show sharper transitions and only with very large system sizes did the discontinuous nature become clear. \n",
    "- noise implementation: Vicsek used angular noise (random angle added to the average heading) but later work looked at vectorial noise (random vector added before normalisation). These two produce qualitatively different transitions: angular noise looks more continuous, vectorial noise more discontinuous.\n",
    "\n",
    "This back-and-forth illustrates some key points:\n",
    "1. science is alive and full of debate. One of the simplest models in complex systems sparked years of disagreement!\n",
    "2. definitions and implementations matter and even simple models can hide complex truths that only reveal themselves when pushed to their limits.\n",
    "3. phase transitions are subtle.\n",
    "4. the order of the transition matters (continuous transitions are linked with critical phenomena, power laws, universality, etc., while discontinuous ones are more like “flips” between states).\n"
   ]
  },
  {
   "cell_type": "markdown",
   "id": "347ab92f-3cf8-4799-b57a-063cf4ff39e1",
   "metadata": {
    "editable": true,
    "slideshow": {
     "slide_type": "subslide"
    },
    "tags": [
     "slides"
    ]
   },
   "source": [
    "### Fig. 3a of Vicsek, 1995 \n",
    "Shows the scaling collapse for the noise-driven transition:\n",
    "- When rescaled appropriately $(\\eta_c(L) - \\eta)/\\eta_c(L)$, the curves for different system sizes line up on a single straight line in log–log space.\n",
    "- The slope ($\\beta \\approx 0.45$) is the **critical exponent**.\n",
    "- This is evidence of power-law scaling, not just a smooth decline (the straight-line slope in log–log plots is a fingerprint of a power law).\n",
    "- ($\\beta \\approx 0.45$): quantifies universality — the idea that very different systems can share the same behaviour near critical points.\n",
    "\n",
    "* X-axis: rescaled distance from the critical noise $(\\eta_c(L)-\\eta)/\\eta_c(L)$.\n",
    "* Y-axis: order parameter $v_a$.\n",
    "* What it shows: when you rescale properly, data from different system sizes collapse onto a single straight line in log–log space.\n",
    "* The slope of that line is the **critical exponent $\\beta \\approx 0.45$**.\n",
    "* Interpretation: quantifies how the order parameter vanishes as noise approaches the threshold. This is the *classic order-parameter critical exponent*.\n",
    "\n",
    "\n",
    "The critical exponent $\\beta \\approx 0.45$ quantified exactly how the order parameter shrank near the threshold. Critical exponents matter because they’re often universal: the same numbers show up in completely different systems (magnets, fluids, even flocking birds).\n",
    "\n",
    "Near the critical point, Vicsek et al. observed that the order parameter didn’t just vanish — it followed a power-law with noise. This slow, scale-free decline is a hallmark of criticality, and very different from an abrupt fall.\n"
   ]
  },
  {
   "cell_type": "markdown",
   "id": "fed64b0c-cbef-4ff5-90dc-be0a6ea6530a",
   "metadata": {
    "editable": true,
    "slideshow": {
     "slide_type": ""
    },
    "tags": []
   },
   "source": [
    "### Fig. 3b of Vicsek, 1995 \n",
    "Shows the critical exponents beyond $\\beta$:\n",
    "- They also measured other exponents (e.g. $\\delta \\approx 0.35$) from how $v_a$ changes with density at fixed noise.\n",
    "- Shows that *multiple exponents* can characterise different aspects of criticality.\n",
    "\n",
    "### **Fig. 3b** – Scaling with density (at fixed noise)\n",
    "\n",
    "* X-axis: density of particles.\n",
    "* Y-axis: order parameter $v_a$, again in rescaled form.\n",
    "* What it shows: by varying density (while fixing noise at its critical value), you get another power-law relation.\n",
    "* The slope here gives a **different exponent ($\\delta \\approx 0.35$)**.\n",
    "* Interpretation: characterises how ordering depends on system density near criticality.\n",
    "\n",
    "\n",
    "### In short\n",
    "\n",
    "* **3a:** varies **noise** (control parameter) → yields exponent $\\beta$.\n",
    "* **3b:** varies **density** (system parameter) → yields exponent $\\delta$.\n",
    "* Together, they show that **multiple critical exponents** are needed to fully describe the behaviour of the Vicsek model near the transition.\n"
   ]
  },
  {
   "cell_type": "markdown",
   "id": "382b69fc",
   "metadata": {
    "editable": true,
    "slideshow": {
     "slide_type": "subslide"
    },
    "tags": [
     "slides"
    ]
   },
   "source": [
    "## Phase transition\n",
    "A **phase transition** is a sudden transformation of a system from one state to another (e.g. order to chaos).\n",
    "\n",
    "It occurs when conditions change, triggering new patterns or behaviours.\n",
    "\n",
    "Driven by interactions and feedback loops, it is marked by a shift in key properties."
   ]
  },
  {
   "cell_type": "markdown",
   "id": "155a6f95-9ba9-4c92-95ee-b426dcd13a78",
   "metadata": {
    "editable": true,
    "slideshow": {
     "slide_type": ""
    },
    "tags": [
     "reader-only"
    ]
   },
   "source": [
    "Phase transitions are often about ordering.\n",
    "\n",
    "For example, water molecules are disordered in liquid, but ordered in ice. Between these states there is a transition that we often describe a phase transition using an order parameter.\n",
    "\n",
    "There are two main types of phase transitions:"
   ]
  },
  {
   "cell_type": "markdown",
   "id": "e6dfdec8",
   "metadata": {
    "editable": true,
    "slideshow": {
     "slide_type": "subslide"
    },
    "tags": [
     "slides"
    ]
   },
   "source": [
    "### First-order phase transitions\n",
    "A discontinuous jump in the order parameter:\n",
    "\n",
    "![](images/First_order_transition.png)\n",
    "   \n",
    "Fig from [here](https://doi.org/10.1016/j.sbi.2023.102597)\n",
    "\n",
    "e.g.: melting of ice, boiling of water, and ferromagnetic/paramagnetic transitions."
   ]
  },
  {
   "cell_type": "markdown",
   "id": "95ff6598-94be-4550-84b6-e3a3f23c9dea",
   "metadata": {
    "editable": true,
    "slideshow": {
     "slide_type": ""
    },
    "tags": [
     "reader-only"
    ]
   },
   "source": [
    "- Abrupt, discontinuous change: the system jumps sharply from one stable state to another.\n",
    "- Thermodynamic signature: discontinuity in the first derivative of the free energy (e.g. entropy, volume), usually with latent heat absorbed or released.\n",
    "- Supercritical behaviour: beyond the critical point, the distinction between phases disappears and their properties merge."
   ]
  },
  {
   "cell_type": "markdown",
   "id": "7f63890a-b67b-4c8f-a091-d882e5c2dcf8",
   "metadata": {
    "editable": true,
    "slideshow": {
     "slide_type": "subslide"
    },
    "tags": [
     "slides"
    ]
   },
   "source": [
    "### Second-order phase transitions\n",
    "A more gradual smooth change:\n",
    "\n",
    "![](images/Second_order_transition.png)\n",
    "\n",
    "Fig from [here](https://doi.org/10.1016/j.sbi.2023.102597)\n",
    "\n",
    "e.g.: superconducting transition in metals, ferromagnetic transition in iron, and the superfluid transition in helium."
   ]
  },
  {
   "cell_type": "markdown",
   "id": "845af020-f094-4954-b53d-21da41f4c437",
   "metadata": {
    "editable": true,
    "slideshow": {
     "slide_type": ""
    },
    "tags": [
     "reader-only"
    ]
   },
   "source": [
    "- Continuous transitions: change occurs smoothly, without abrupt jumps.\n",
    "- Thermodynamic signature: first derivatives of free energy remain continuous, but second derivatives (e.g. specific heat, susceptibility) diverge or show discontinuities.\n",
    "No latent heat is involved."
   ]
  },
  {
   "cell_type": "markdown",
   "id": "7496334f",
   "metadata": {
    "editable": true,
    "slideshow": {
     "slide_type": "subslide"
    },
    "tags": [
     "slides"
    ]
   },
   "source": [
    "## Critical phenomena\n",
    "If a phase transition occurs then there is a **critical point (aka tipping point)** between the phases where dramatic changes in behaviour and properties are observed.\n",
    "\n",
    "At this point, the system sits at the boundary between phases. It is (typically) the most dynamic and complex here, often leading to the most interesting and unexpected phenomena.\n",
    "\n",
    "Near this point, systems exhibit distinctive **critical phenomena/behaviour**..."
   ]
  },
  {
   "cell_type": "markdown",
   "id": "f13d40c7",
   "metadata": {
    "editable": true,
    "slideshow": {
     "slide_type": "subslide"
    },
    "tags": [
     "slides"
    ]
   },
   "source": [
    "### Power law scaling and critical exponents\n",
    "\n",
    "At a critical point, many observable properties follow power-law scaling, described by critical exponents that quantify how these properties diverge or vanish.\n"
   ]
  },
  {
   "cell_type": "markdown",
   "id": "a34f3a4d",
   "metadata": {
    "editable": true,
    "slideshow": {
     "slide_type": "subslide"
    },
    "tags": []
   },
   "source": [
    "#### Power laws\n",
    "\n",
    "**Power laws** describe a functional relationship between two quantities where one quantity varies as a power of the other:\n",
    "\n",
    "$$\n",
    "y = C \\cdot x^\\alpha\n",
    "$$\n",
    "\n",
    "where:\n",
    "- $y$ and $x$ are variables of interest\n",
    "- $\\alpha$ is the **power law exponent** (a constant that characterises the relationship)\n",
    "- $C$ is a constant of proportionality\n",
    "\n",
    "Near the critical threshold the system also exhibits **critical exponents**. These are parameters that describe how physical quantities/properties behave near the critical point of a phase transition\n",
    "\n",
    "**Power law distributions** are those where the probability $P(x)$ of observing a value $x$ follows:\n",
    "\n",
    "$$\n",
    "P(x) \\propto x^{-\\tau}\n",
    "$$\n",
    "\n",
    "where $\\tau$ is the **exponent** of the power law. "
   ]
  },
  {
   "cell_type": "markdown",
   "id": "f490e793",
   "metadata": {
    "editable": true,
    "slideshow": {
     "slide_type": "subslide"
    },
    "tags": [
     "slides"
    ]
   },
   "source": [
    "Power laws are **heavy-tailed**. This means that the part of the distribution representing extreme values decays *more slowly than an exponential distribution*.\n",
    "\n",
    "![](images/Tails_comparison.png)"
   ]
  },
  {
   "cell_type": "markdown",
   "id": "4a4a2053-2235-4672-9836-e9303a5b4268",
   "metadata": {
    "editable": true,
    "slideshow": {
     "slide_type": ""
    },
    "tags": [
     "reader-only"
    ]
   },
   "source": [
    "This means that:\n",
    "- **Extreme events are common**: very large earthquakes, financial crashes, or highly connected network hubs occur far more often than in light-tailed distributions. If you wait long enough, a “big one” will eventually arrive.\n",
    "- **Robust yet fragile**: systems with heavy-tailed structure (e.g. scale-free networks) are resilient to random small failures but highly vulnerable to targeted attacks on hubs.\n",
    "- **Statistical challenges**: extreme values are so frequent that standard summary measures fail. In many cases:\n",
    "    - The **mean** may diverge or be dominated by a few large events.\n",
    "    - Averages are therefore not representative or meaningful.\n",
    "    - Special statistical tools (e.g. tail exponents, quantile methods, log-log plots) are needed for proper analysis."
   ]
  },
  {
   "cell_type": "markdown",
   "id": "d623f99a",
   "metadata": {
    "editable": true,
    "slideshow": {
     "slide_type": "subslide"
    },
    "tags": []
   },
   "source": [
    "Empirically, we will rarely see true power laws for all values but we will consider the system to be governed by a power law if it follows a *power law in the tail* (heavy tail).\n",
    "\n",
    "- Gutenberg-Richter Law relating the magnitude and number of earthquakes:\n",
    "\n",
    "$$\n",
    "N(M) = 10^{a-bM}\n",
    "$$\n",
    "\n",
    "The critical system in this case is the Earth's crust.\n",
    "\n",
    "![](images/Earthquake_heavy_tail.png)"
   ]
  },
  {
   "cell_type": "markdown",
   "id": "8d766dee-8d3f-414f-9dfd-b09e78c54aa8",
   "metadata": {
    "editable": true,
    "slideshow": {
     "slide_type": "subslide"
    },
    "tags": [
     "slides"
    ]
   },
   "source": [
    "Power laws also appear outside strict thermodynamic critical points — in networks, biology, economics etc.\n",
    "\n",
    "- Scale-free networks with power law degree distribution:\n",
    "\n",
    "$$\n",
    "p(k) \\propto k^{-\\gamma}\n",
    "$$\n",
    "\n",
    "![](images/Degree_distribution_for_BA_network.png)\n",
    "\n",
    "The noisy tail is something you’ll almost always see, on account of sampling limits (very few nodes at high degree) and real-world constraints (finite size, cutoffs, costs on connections)."
   ]
  },
  {
   "cell_type": "markdown",
   "id": "a717dc52-668d-431f-88e3-fa644db5733a",
   "metadata": {
    "editable": true,
    "slideshow": {
     "slide_type": "subslide"
    },
    "tags": [
     "slides"
    ]
   },
   "source": [
    "![](images/Clauset_recipe_for_analysing_power_laws.png)\n",
    "\n",
    "Fig from Clauset's SIAM review on [Power-Law Distributions in Empirical Data](https://doi.org/10.1137/070710111)"
   ]
  },
  {
   "cell_type": "markdown",
   "id": "d5e2aa86-b9b7-4d0a-a900-a427fd6e71a3",
   "metadata": {
    "editable": true,
    "raw_mimetype": "",
    "slideshow": {
     "slide_type": ""
    },
    "tags": []
   },
   "source": [
    "\n",
    "Critical systems often show power laws in both spatial correlations (how patterns extend across space) and temporal correlations (how fluctuations persist over time).\n",
    "\n",
    "At a critical point, the correlation length (spatial scale over which parts of the system are correlated) and the correlation time (time scale of fluctuations) both diverge. When correlations exist across all scales, the system no longer has a “typical” scale → that scale-invariance is what produces power-law behaviour in observables.\n",
    "\n",
    "i.e. correlations in space and time are the mechanism, and power laws are the fingerprint.\n",
    "\n",
    "The following are examples of power laws *emerging from correlations that have lost their characteristic scale*:\n",
    "\n",
    "#### Ising/percolation (spatial) \n",
    "\n",
    "Correlation function\n",
    "\n",
    "$$\n",
    "C(r) \\sim r^{-\\eta}\n",
    "$$\n",
    "\n",
    "decays as a power law with distance at criticality.\n",
    "\n",
    "##### Long-ranged correlations\n",
    "Correlations between different parts of the system become increasingly long-ranged.\n",
    "\n",
    "A small change in one part of the system can influence distant parts, leading to large-scale fluctuations.\n",
    "\n",
    "e.g. in a social network, near the critical point of opinion formation, a small group of individuals adopting a new idea can have a disproportionately large impact, potentially leading to widespread adoption.\n",
    "\n",
    "#### Critical slowing down / avalanches (temporal)\n",
    "\n",
    "Autocorrelation function\n",
    "\n",
    "$$\n",
    "C(t) \\sim t^{-\\alpha}\n",
    "$$\n",
    "\n",
    "decays as a power law with time.\n",
    "\n",
    "Response to external perturbations slows down dramatically\n",
    "\n",
    "The time it takes for the system to return to equilibrium after a disturbance becomes very long\n",
    "\n",
    "e.g. in ecological systems, at the critical point before a sudden shift (like desertification), the recovery time of the ecosystem from environmental stress increases, making the system more vulnerable to collapse.\n",
    "\n",
    "### Scale invariance (aka scale free)\n",
    "**Scale invariance**, meaning it (the patterns, behaviour, or statistical properties) looks similar at different scales. \n",
    "\n",
    "$f(x)$ is scale invariant if, for any constant $c>0$, we have:\n",
    "\n",
    "$$\n",
    "f(cx)\\sim f(x)\n",
    "$$\n",
    "\n",
    "No specific length or time scale that governs the dynamics and resulting statistical properties i.e. that if you observe a phenomena at different spatial or temporal scales by zooming in or out then you'll see similar characteristics and statistical properties regardless of the scale at which you observe them (think back to fractals)\n",
    "\n",
    "Power laws often arise because of the system's scale invariance as a direct way to quantify this property \n",
    "\n",
    "Again, this means we can't calculate the average or any other characteristic length of an observable property because the distribution remains the same regardless of the scale at which you observe it\n",
    "\n",
    "e.g. in financial markets, at critical points (like during a market crash), price movements exhibit fractal-like patterns, where similar fluctuations are observed at both small and large timescales"
   ]
  },
  {
   "cell_type": "markdown",
   "id": "1d551eed",
   "metadata": {
    "editable": true,
    "slideshow": {
     "slide_type": "subslide"
    },
    "tags": []
   },
   "source": [
    "### Scale invariance (aka scale free)\n",
    "**Scale invariance**, meaning it (the patterns, behaviour, or statistical properties) looks similar at different scales. \n",
    "\n",
    "$f(x)$ is scale invariant if, for any constant $c>0$, we have:\n",
    "\n",
    "$$\n",
    "f(cx)\\sim f(x)\n",
    "$$\n",
    "\n",
    "No specific length or time scale that governs the dynamics and resulting statistical properties i.e. that if you observe a phenomena at different spatial or temporal scales by zooming in or out then you'll see similar characteristics and statistical properties regardless of the scale at which you observe them (think back to fractals).\n",
    "\n",
    "Power laws often arise because of the system's scale invariance as a direct way to quantify this property \n",
    "\n",
    "Again, this means we can't calculate the average or any other characteristic length of an observable property because the distribution remains the same regardless of the scale at which you observe it\n",
    "\n",
    "e.g. in financial markets, at critical points (like during a market crash), price movements exhibit fractal-like patterns, where similar fluctuations are observed at both small and large timescales\n",
    "\n",
    "\n",
    "Same patterns at different scales (like fractals)\n",
    "Explains why power laws emerge\n",
    "No “average size” makes sense"
   ]
  },
  {
   "cell_type": "markdown",
   "id": "fbd6a50e",
   "metadata": {
    "editable": true,
    "slideshow": {
     "slide_type": "subslide"
    },
    "tags": []
   },
   "source": [
    "## A familiar example: Ising model (magnetic spins in a crystalline lattice)\n",
    "The Ising model is a canonical example of critical behaviour and phase transitions in statistical mechanics.\n",
    "\n",
    "Temperature is the *tuning/control parameter* that determines the system behaviour. The phase transition occurs at a critical temperature, $T_c$, aka \"Curie temperature\" for Pierre Curie.\n",
    "\n",
    "Near $T_c$ the system undergoes a second-order phase transition from a disordered (paramagnetic) phase to an ordered (ferromagnetic) phase:\n",
    "- Below $T_c$ the system exhibits long-range order (ferromagnetic phase), where spins tend to align and form large domains of up or down spins. \n",
    "- Increasing temperature to $T>T_c$ will cause a phase transition (from order-disorder, where long range spatiotemporal correlations will breakdown). \n",
    "- Near $T_c$ interesting things happen."
   ]
  },
  {
   "cell_type": "markdown",
   "id": "aab3340f",
   "metadata": {
    "editable": true,
    "slideshow": {
     "slide_type": "subslide"
    },
    "tags": []
   },
   "source": [
    "##### 1. Power law scaling and critical exponents\n",
    "Power law scaling in magnetisation is a hallmark of critical phenomena near second-order phase transitions (other observable quantities such as susceptibility, and correlation length behave also follow power laws)\n",
    "<!-- the sum of the magnetic moments of all the individual spins in the system. It represents the net magnetic effect of the spins. -->\n",
    "\n",
    "As $T \\to T_c$ from below, the magnetisation follows a power law decay with an exponent $\\beta$:\n",
    "- spontaneous magnetisation $M(T)$ follows a power law as the system approaches the critical temperature from below:\n",
    "\n",
    "$$\n",
    "M(T) \\propto (T_c - T)^{\\beta}\n",
    "$$\n",
    "\n",
    "- $\\beta$ is the **critical exponent for magnetisation**. It describes how the magnetisation vanishes as the system nears the critical temperature\n",
    "\n",
    "- When $T = T_c$, the system undergoes a second-order phase transition, and magnetisation drops to zero at $T_c$\n",
    "\n",
    "2D Ising model: $\\beta = \\frac{1}{8}$. 3D Ising model: $\\beta \\approx 0.326 $."
   ]
  },
  {
   "cell_type": "markdown",
   "id": "18e395fd",
   "metadata": {
    "slideshow": {
     "slide_type": "subslide"
    }
   },
   "source": [
    "*Magnetic Susceptibility*: The magnetic susceptibility $\\chi(T)$, which measures the system's response to an external magnetic field, diverges near $T_c$ following the power law:\n",
    "\n",
    "$$\n",
    "\\chi(T) \\propto |T - T_c|^{-\\gamma}\n",
    "$$\n",
    "\n",
    "where $\\gamma$ is the critical exponent for susceptibility. In the 2D Ising model, $\\gamma = 7/4$\n",
    "\n",
    "*Correlation Length*: The correlation length $\\xi(T)$, which measures the typical distance over which spins are correlated, diverges as:\n",
    "\n",
    "$$\n",
    "\\xi(T) \\propto |T - T_c|^{-\\nu}\n",
    "$$\n",
    "\n",
    "where $\\nu$ is the critical exponent for the correlation length. In the 2D Ising model, $\\nu = 1$"
   ]
  },
  {
   "cell_type": "markdown",
   "id": "5dbf67cb",
   "metadata": {
    "editable": true,
    "slideshow": {
     "slide_type": "subslide"
    },
    "tags": []
   },
   "source": [
    "##### 2. Long-Ranged Correlations:\n",
    "\n",
    "- Near $T_c$ the spins in the Ising model become strongly correlated over large distances. This means that the behaviour of one spin can influence the behaviour of distant spins, leading to the formation of large, correlated regions and large-scale fluctuations in magnetisation\n",
    "- As the temperature approaches $T_c$, the correlation length $\\xi(T)$ diverges, meaning that the correlations between spins extend over increasingly long distances \n",
    "- Far from $T_c$, the correlations are short-ranged, and spins only influence their immediate neighbours\n",
    "\n",
    "Note that this is different to the ordered (ferromagnetic) phase, where correlations are finite but not as extensive."
   ]
  },
  {
   "cell_type": "markdown",
   "id": "86b0d8a0",
   "metadata": {
    "editable": true,
    "slideshow": {
     "slide_type": "subslide"
    },
    "tags": []
   },
   "source": [
    "##### 3. Scale Invariance (aka Scale-Free Behaviour)\n",
    "\n",
    "Near $T_c$ the spatial distribution of clusters of aligned spins exhibits scale invariance (and hence follows a power law)\n",
    "\n",
    "i.e. The distribution of cluster sizes is similar whether you look at large or small clusters, due to the self-similar nature of the system."
   ]
  },
  {
   "cell_type": "markdown",
   "id": "6dd9cda9",
   "metadata": {
    "editable": true,
    "slideshow": {
     "slide_type": "subslide"
    },
    "tags": []
   },
   "source": [
    "##### 4. Critical Slowing Down\n",
    "As the correlation length $\\xi(T)$ grows larger near $T_c$, the system's dynamics become increasingly slow because large clusters of correlated spins must align or flip together, making it harder for the system to return to equilibrium\n",
    "   \n",
    "This slowing down is due to the fact that near the critical point, the system must reorganise over increasingly larger distances, leading to longer timescales for fluctuations to decay."
   ]
  },
  {
   "cell_type": "markdown",
   "id": "0242dfc2",
   "metadata": {
    "editable": true,
    "slideshow": {
     "slide_type": "subslide"
    },
    "tags": []
   },
   "source": [
    "##### Universality\n",
    "\n",
    "These transitions are observed in systems of a very different nature in a wide range of disciplines, from sociology to computer science, and they can be classified in ways similar to physical systems\n",
    "\n",
    "This concept, known as **universality**, means that systems with different underlying details can share the same critical exponents and scaling behaviour\n",
    "\n",
    "e.g.: The percolation threshold in networks, the onset of magnetism in materials, and the transition to turbulence in fluids can all be described by similar mathematical frameworks, despite their differences in physical nature\n",
    "\n",
    "The specific value of $\\beta$ depends on the system's **universality class** (the set of systems that share the same critical exponents, regardless of microscopic details)"
   ]
  },
  {
   "cell_type": "markdown",
   "id": "2d206a41",
   "metadata": {
    "editable": true,
    "slideshow": {
     "slide_type": "subslide"
    },
    "tags": []
   },
   "source": [
    "## Percolation\n",
    "Another very prominent statistical physics model for criticality is **percolation**.\n",
    "\n",
    "Percolation is a process where fluid flows through a semi-porous material e.g. oil in rock formations, hydrogen gas in micropores or water through coffee grounds:\n",
    "\n",
    "[The barista's secret Complexity Explorable](http://www.complexity-explorables.org/explorables/baristas-secret/).\n",
    "\n",
    "Three different initialisations with the porosity, $p=59.22\\%<p_c$:\n",
    "![](images/Baristas_secret_screenshots.png)"
   ]
  },
  {
   "cell_type": "markdown",
   "id": "9f6df625",
   "metadata": {
    "editable": true,
    "slideshow": {
     "slide_type": ""
    },
    "tags": [
     "reader-only"
    ]
   },
   "source": [
    "The system's response shows a sharp transition at a certain porosity. This is the **percolation threshold**, $p_c$, which is a critical value:\n",
    "- Below $p_c$ no percolation occurs\n",
    "- As the control parameter approaches the percolation threshold, $p_c$, various other critical behaviours can be observed\n",
    "- Near $p_c$ the system is very sensitive to small perturbation\n",
    "- Above $p_c$ percolation occurs"
   ]
  },
  {
   "cell_type": "markdown",
   "id": "cd594555-6784-4911-8c48-a6a58a43c0b1",
   "metadata": {
    "editable": true,
    "slideshow": {
     "slide_type": ""
    },
    "tags": [
     "reader-only"
    ]
   },
   "source": [
    "Computing the percolation threshold, $p_c$, can be tricky in general.\n",
    "\n",
    "Some options:\n",
    "- Numerical experiments\n",
    "- Finite-size scaling theory is used to extrapolate the behaviour of an infinitely large system based on data from finite-sized systems\n",
    "- Theoretical mean-field models\n",
    "- Other theoretical approaches based on concepts from statistical physics, percolation theory, or graph theory.\n",
    "\n",
    "In this unit we are primarily concerned with numerical experiments."
   ]
  },
  {
   "cell_type": "markdown",
   "id": "27be62e0",
   "metadata": {
    "editable": true,
    "slideshow": {
     "slide_type": ""
    },
    "tags": [
     "reader-only"
    ]
   },
   "source": [
    "The image of a liquid seeping through a porous material is just one metaphor for percolation. Other applications for spatial contact processes:\n",
    "- spread of infectious disease in which the liquid becomes an infectious disease, empty sites are susceptible individuals and occupied sites are immune. In this case the percolation threshold is the epidemic threshold\n",
    "    - [Critical hexSIRSize](https://www.complexity-explorables.org/explorables/critical-hexsirsize/): stochastic, spatial SIRS model. Pattern formation in an epidemic model near its critical point \n",
    "\n",
    "- dynamics of forest fires in which the liquid is a fire that expands across an area of vegetation and the porosity is equivalent to the density of trees\n",
    "    - [Critically inflammatory](https://www.complexity-explorables.org/explorables/critically-inflammatory/): A forest fire model. Spatial patterns, dynamics and criticality in forest fire dynamics "
   ]
  },
  {
   "cell_type": "markdown",
   "id": "37df611f",
   "metadata": {
    "editable": true,
    "slideshow": {
     "slide_type": "slide"
    },
    "tags": []
   },
   "source": [
    "# Self-organised criticality\n",
    "\n",
    "Critical points are usually unstable, so why do we see critical behaviour everywhere?\n",
    "\n",
    "Self-organised criticality (SOC) is the idea that some systems naturally evolve toward a critical state, without external tuning.\n",
    "\n",
    "At criticality, systems gain advantages:\n",
    "- adaptability and robustness\n",
    "- efficient information processing\n",
    "- capacity for self-organisation\n",
    "\n",
    "As Sayama puts it many complex systems are:\n",
    ">“utilising such critical behaviours for their self-organising and information processing.”"
   ]
  },
  {
   "cell_type": "markdown",
   "id": "56f59428",
   "metadata": {
    "editable": true,
    "slideshow": {
     "slide_type": "subslide"
    },
    "tags": []
   },
   "source": [
    "We've seen that 'self-organised' is a sort of spontaneous order that arises from local interactions in systems (not in thermodynamic equilibrium) with spatial degrees of freedom\n",
    "\n",
    "If the dynamics evolve the system towards the critical point then we refer to this as self-organised criticality (SOC)\n",
    "\n",
    "In systems that exhibit SOC, the (critical) behaviour resembles the critical point of phase transitions with all the same features\n",
    "\n",
    "But, these systems *do not require external control via tuning of parameters* - they organise *themself* into the critical behaviour \n",
    "<!-- and complexity arises as no single characteristic event size exists -->\n"
   ]
  },
  {
   "cell_type": "markdown",
   "id": "1688c8df",
   "metadata": {
    "slideshow": {
     "slide_type": "subslide"
    }
   },
   "source": [
    "\n",
    "In the critical state these systems are poised on the edge of instability, which allows them to:\n",
    "- efficiently distribute energy or resources \n",
    "- maintain robustness and adaptability \n",
    "<!-- i.e. balance stability and responsiveness to adapt to changes in the environment -->\n",
    "\n",
    "SOC is a very active and influential research area because we still don't have answers to some of the biggest questions:\n",
    "- how does self-organised criticality work? (we know there is usually a slow drive and highly non-linear interaction nut not much else is known...)\n",
    "- is it ubiquitous?"
   ]
  },
  {
   "cell_type": "markdown",
   "id": "b0ca695d",
   "metadata": {
    "slideshow": {
     "slide_type": "subslide"
    }
   },
   "source": [
    "## To summarise the difference...\n",
    "The Ising model and percolation do not rely on self-organisation to reach a critical state\n",
    "\n",
    "The key difference between standard systems with a critical or bifurcation point and SOC systems is in their underlying dynamics and the role of external control\n",
    "\n",
    "Standard systems are typically deterministic and reach a critical point through parameter tuning, while SOC systems are stochastic, self-organising, and naturally evolve to a critical state without external intervention\n",
    "\n",
    "SOC systems often involve complex interactions and are characterised by the occurrence of cascading events with scale-invariant properties\n",
    "\n",
    "One of the key features of SOC systems is the unpredictability and complexity of events\n",
    "\n",
    "But we don't just give up, there is plenty we can understand even if prediction isn't likely... to do this, of course we will lean on complex systems modelling"
   ]
  },
  {
   "cell_type": "markdown",
   "id": "6186397c",
   "metadata": {
    "editable": true,
    "slideshow": {
     "slide_type": "slide"
    },
    "tags": []
   },
   "source": [
    "# Sand piles\n",
    "\n",
    "<div style=\"margin: 1.5em 0; border-right: 4px solid #888; padding-right: 1em; text-align: right;\">\n",
    "  <div style=\"font-style: italic; font-family: 'Comic Neue', 'Segoe Script', cursive; font-size: 1.2em;\">\n",
    "    How do we know that the creations of worlds are not determined by falling grains of sand?\n",
    "  </div>\n",
    "  <div style=\"font-style: normal; font-size: 0.95em; margin-top: 0.5em;\">\n",
    "    — Victor Hugo, Les Miserables 1862\n",
    "  </div>\n",
    "</div>\n",
    "\n",
    "\n",
    "Consider a pile of sand  formed by dropping one sand grain on top of another over time. These piles form pyramid-like shapes of a certain slope.\n",
    "\n",
    "If we continue to add sand grains then they slide down the slopes of the pyramid causing mini avalanches and the slope of the pyramid stays at the same angle. This is the *angle of repose*. A pyramid of sand with a larger slope than the angle of repose will create avalanches until the slope is again the angle of repose. The pyramid is in a critical state, and any departure from this state causes sequences of avalanches of different sizes to return to the critical state."
   ]
  },
  {
   "cell_type": "markdown",
   "id": "29f6e3a1",
   "metadata": {
    "editable": true,
    "slideshow": {
     "slide_type": "subslide"
    },
    "tags": []
   },
   "source": [
    "## Sand pile models\n",
    "\n",
    "Bak et al. proposed a sandpile model in 1987 to emulate this and demonstrate self-organised criticality. It is sometimes referred to as the Abelian sand pile model*.\n",
    "\n",
    "It's not meant to be a realistic model of a sand pile - it's an abstraction, i.e. a simple example of a broad category of models for self-organised criticality.\n",
    "\n",
    "The idea we aim to capture: how the addition of grains of sand to a 'metastable state' can trigger local motion causing the sand to rearrange itself via avalanches that span the entire pile.\n",
    "\n",
    "In the self-organised critical state chain reactions can trigger avalanches of all sizes\n",
    "- **\"Critical\"** because a single local event can impact the entire system\n",
    "- **\"Self-organised\"** because the global state/pattern/dynamics has emerged spontaneously (no top-down control/invisible hand imposing order)."
   ]
  },
  {
   "cell_type": "markdown",
   "id": "6b96f25a-41ca-4279-9da3-c68eaa1bdf50",
   "metadata": {
    "editable": true,
    "slideshow": {
     "slide_type": ""
    },
    "tags": [
     "reader-only"
    ]
   },
   "source": [
    "*The term Abelian comes from group theory, where a group is called Abelian if the order of operations does not matter (i.e., the group is commutative), i.e. the order in which you combine its elements (via a binary operation like addition or multiplication) does not affect the result. For example, in ordinary arithmetic, addition is commutative because:\n",
    "\n",
    "$$\n",
    "a + b = b + a\n",
    "$$\n",
    "\n",
    "In the sandpile model, regardless of the sequence of topplings, the final distribution of sand is the same, making the model an example of an Abelian system.\n",
    "\n",
    "The commutative property in the Abelian Sandpile Model makes it a more tractable and mathematically interesting system to study."
   ]
  },
  {
   "cell_type": "markdown",
   "id": "7384aa07-208d-4764-847c-e4651a5af1b0",
   "metadata": {
    "editable": true,
    "slideshow": {
     "slide_type": ""
    },
    "tags": [
     "reader-only"
    ]
   },
   "source": [
    "<div style=\"border-left: 4px solid #1e70bf; padding: 0.75em; background-color: #eaf3fb; margin-bottom: 1em;\">\n",
    "  <strong>Pause and consider:</strong><br>\n",
    "  With everything you have learnt so far... How will we model this?\n",
    "</div>"
   ]
  },
  {
   "cell_type": "markdown",
   "id": "bba65e0b-cdd4-4d39-bca2-c72a8fbce982",
   "metadata": {
    "editable": true,
    "slideshow": {
     "slide_type": ""
    },
    "tags": []
   },
   "source": [
    ">*\"The subject of sand movement lies far more in the realm of physics than of geomorphology\"* - Ralph Bagnold, Physics of Blown Sand and Desert Dunes\n",
    "\n",
    ">*\"To see a World in a Grain of Sand\"*, William Blake, Auguries of Innocence"
   ]
  },
  {
   "cell_type": "markdown",
   "id": "7faf3c7e-82c0-4a11-b8d3-f8705292d2fa",
   "metadata": {
    "editable": true,
    "slideshow": {
     "slide_type": ""
    },
    "tags": []
   },
   "source": [
    "## Model details\n",
    "- 2D cellular automata \n",
    "- state of each cell, $z(x,y)$, represents the slope of a part of the sand pile (or equivalently the number of grains)\n",
    "- boundary of grid: state is kept at 0 i.e. as sand is distributed outwards, excess will 'fall off the edge'\n",
    "- dynamics: \n",
    "    1. randomly select cell and increment state by 1 (add sand to it)\n",
    "    2. if cell state exceeds a critical value of $K_c$ then it 'topples' and redistributes sand to 4 neighbouring cells (-4 to the cell that topples and +1 to its von Neumann neighbours)    \n",
    "    3. once all sites are stable again return to step 1\n",
    "   \n",
    "$$\n",
    "z(x,y) \\mapsto z(x,y) - 4,\n",
    "$$ \n",
    "\n",
    "$$\n",
    "z(x\\pm 1,y) \\mapsto z(x\\pm 1,y) + 1,\n",
    "$$ \n",
    "\n",
    "$$\n",
    "z(x,y\\pm 1) \\mapsto z(x, y\\pm 1) + 1.\n",
    "$$ \n",
    "\n",
    "Note that we usually choose $K_c=4$."
   ]
  },
  {
   "cell_type": "markdown",
   "id": "2c72beb4-40d7-49ac-86ab-c0494dcbcf97",
   "metadata": {
    "editable": true,
    "slideshow": {
     "slide_type": ""
    },
    "tags": []
   },
   "source": [
    "## Perturbations\n",
    "Most of the time, dropping a single grain causes no cells to topple\n",
    "\n",
    "Occasionally a single grain can cause an avalanche affecting a substantial fraction of the grid\n",
    "\n",
    "To investigate this behaviour we initialise as:\n",
    "- option A (more common): all cells are initialised randomly with integer values $z>K_c$, and the model is run until it stabilises. This state is then used as an initialisation\n",
    "- option B: build up a sand pile by adding a grains at a random lattice point $(x,y)$ and then running the dynamics"
   ]
  },
  {
   "cell_type": "markdown",
   "id": "ca507330-8d20-4fc7-ac1a-a56a3e29c860",
   "metadata": {
    "editable": true,
    "slideshow": {
     "slide_type": ""
    },
    "tags": []
   },
   "source": [
    "# Properties of self-organising critical systems\n",
    "The idea of SOC is intuitive but definitions are typically vague and involve presence of properties. We will focus on a few of these properties:\n",
    "1. Fractal Geometry - non-regular geometric shape containing the same degree of non-regularity on all scales, i.e. scale invariance\n",
    "2. Heavy-tailed distributions - probability distribution whose tails are not exponentially bounded (a looser condition than the power-law but intended to capture the same behaviour)\n",
    "3. Pink noise - exhibited through variations in time where low frequency components have more power than high frequency components. The power for a particular frequency $f$ will decay at a rate of $1/f$ 'Self-Organized Criticality: An Explanation of 1/f Noise'"
   ]
  },
  {
   "cell_type": "markdown",
   "id": "29665138-b405-49c6-92b5-92d88f2f28ab",
   "metadata": {
    "editable": true,
    "slideshow": {
     "slide_type": ""
    },
    "tags": []
   },
   "source": [
    "## Power law?\n",
    "\n",
    "**Q1:** What should we be looking at to quantify this behaviour?\n"
   ]
  },
  {
   "cell_type": "markdown",
   "id": "4ef815da-7df1-4d08-a36c-f5593e8edd2c",
   "metadata": {
    "editable": true,
    "slideshow": {
     "slide_type": ""
    },
    "tags": []
   },
   "source": [
    "\n",
    "**A1:** For each perturbation:\n",
    "- the number of time steps the pile takes to stabilise, $t$\n",
    "- the total number of cells that topple, $S$\n"
   ]
  },
  {
   "cell_type": "markdown",
   "id": "aaa2da7a-b0ba-4564-932a-a666d6ada765",
   "metadata": {
    "editable": true,
    "slideshow": {
     "slide_type": ""
    },
    "tags": []
   },
   "source": [
    "**Q2:** How can we use these observations to demonstrate the properties typical of critical phenomena?\n"
   ]
  },
  {
   "cell_type": "markdown",
   "id": "08e31379-e4c7-460b-a44b-807e16791745",
   "metadata": {
    "editable": true,
    "slideshow": {
     "slide_type": ""
    },
    "tags": []
   },
   "source": [
    "**A2:** Tracking the distribution of avalanche sizes, $S$ as a function of size, we should find the hallmark of self-organised criticality...\n",
    "\n",
    "...a power law (or at least a heavy tail distribution characterised by many small values and a few very large values, slower-than-exponential decay rate):\n",
    "\n",
    "$$\n",
    "D(S) = a S^{-\\alpha}.\n",
    "$$"
   ]
  },
  {
   "cell_type": "markdown",
   "id": "6ef6999f-aeb2-47d9-a94d-4f405a74be02",
   "metadata": {
    "editable": true,
    "slideshow": {
     "slide_type": ""
    },
    "tags": []
   },
   "source": [
    "$$\n",
    "D(S) = a S^{-\\alpha}.\n",
    "$$\n",
    "\n",
    "Extending the size of the system does not change the exponent, i.e., there is no intrinsic length scale in the system (scale invariance)\n",
    "\n",
    "Note: large amount of data is required to demonstrate the cascading effect of dropping sand in a random location. The majority of the time that this process takes place, nothing happens. This will cause the CA state to be unchanged. Thus, it is important to filter these results out, so that the histogram displays desired outcomes without difficulty. i.e. $S$ is looking at the number of cells that topple, given that a cell topples\n",
    "\n",
    "![](images/Downey_sand_avalanche_quantified.png)\n",
    "\n",
    "Images from [Allen Downey's Think Complexity](https://greenteapress.com/wp/think-complexity-2e/) (he also provides code)."
   ]
  },
  {
   "cell_type": "markdown",
   "id": "a1e274ff-bbbe-4952-a618-d75c7fa5a6d5",
   "metadata": {
    "editable": true,
    "slideshow": {
     "slide_type": ""
    },
    "tags": []
   },
   "source": [
    "## Fractals?\n",
    "Binarised sand piles for $z=\\{0,1,2,3\\}$:\n",
    "\n",
    "![](images/Downey_sand_fractals.png)\n",
    "\n",
    "Image from [Allen Downey's Think Complexity](https://greenteapress.com/wp/think-complexity-2e/).\n",
    "\n",
    "**Q:** It looks fractal... but is it? "
   ]
  },
  {
   "cell_type": "markdown",
   "id": "d9689493-fe6d-4c11-98e4-7cb1ecfc711e",
   "metadata": {
    "editable": true,
    "slideshow": {
     "slide_type": ""
    },
    "tags": []
   },
   "source": [
    "**A:** To be sure we'll need to estimate the fractal dimension \n",
    "\n",
    "Box-counting dimension: \n",
    "1. count number of cells with sand in it for varying box sizes\n",
    "2. On a log-log scale, the cell counts form nearly straight lines, which indicates that we are measuring fractal dimension over a valid range of box sizes.\n",
    "\n",
    "![](images/Downey_sand_fractals_box_counting.png)\n",
    "\n",
    "Image from [Allen Downey's Think Complexity](https://greenteapress.com/wp/think-complexity-2e/)."
   ]
  },
  {
   "cell_type": "markdown",
   "id": "fa3bfefe-1c99-4c2c-ad53-23730af51551",
   "metadata": {
    "editable": true,
    "slideshow": {
     "slide_type": ""
    },
    "tags": []
   },
   "source": [
    "It's certainly not a square but ask yourself what if it's random? What would you expect the box-counting dimension to tell you for a random distribution of sand?"
   ]
  },
  {
   "cell_type": "markdown",
   "id": "9d05b3e0-f95a-4b8f-b541-f6ff0e01180b",
   "metadata": {
    "editable": true,
    "slideshow": {
     "slide_type": ""
    },
    "tags": []
   },
   "source": [
    "## Pink noise?\n",
    "Bak et al. originally presented the sand pile model in a paper titled *'Self-Organized Criticality: An Explanation of 1/f Noise'* (and of why it is so common in natural and engineered systems)\n",
    "\n",
    "A signal is a quantity that changes over time\n",
    "\n",
    "Any signal can be decomposed into a set of frequency components with different levels of power (amplitude or volume) \n",
    "\n",
    "The power spectrum of a signal is a function that shows the power of each frequency component. Specifically, the power, $P$, at frequency $f$ is proportional to $1/f$"
   ]
  },
  {
   "cell_type": "markdown",
   "id": "f99c1ab5-f5cc-48ec-9cad-95c2bea1cee4",
   "metadata": {
    "editable": true,
    "slideshow": {
     "slide_type": ""
    },
    "tags": []
   },
   "source": [
    "Noise is a signal that contains many frequency components (can be found through a process called spectral analysis)\n",
    "\n",
    "There are many kinds of noise. For example, white noise is a signal that has components with equal power over a wide range of frequencies so $\\beta=0$, i.e. it has a flat Fourier spectrum. Other kinds of noise have different relationships between frequency and power\n",
    "\n",
    "In pink noise (sometimes called 'flicker noise') low-frequency components have more power than high-frequency components and $0<\\beta<2$ (between white and red noise)\n",
    "\n",
    "For the sand pile model we need a signal that can be measured when sand is toppled ($t$ and $S$)\n",
    "\n",
    "**Q:** How would we find $\\beta$ from data?"
   ]
  },
  {
   "cell_type": "markdown",
   "id": "40949b83-6a08-4aeb-814d-25c07e0aac0d",
   "metadata": {
    "editable": true,
    "slideshow": {
     "slide_type": ""
    },
    "tags": []
   },
   "source": [
    "**Q:** How would we find $\\beta$ from data?\n",
    "\n",
    "**A:** We'll need to extract the power spectrum \n",
    "\n",
    "I am sweeping a lot of the mathematical detail under the rug here. The basic idea is to take a signal and decompose it into its individual frequency components which add up to make that signal. (This isn't assessable, we'll just assume we easily extract the power spectrum from some nice python package)\n",
    "\n",
    "Taking the $\\log$ of both sides yields\n",
    "$$\\log P(f) = -\\beta \\log f$$\n",
    "Plotting $P(f)$ versus $f$ on a log-log scale, we expect a straight line with slope $\\beta$\n",
    "\n",
    "The power spectrum of the number of toppled cells over time gives a value of $\\beta=1.58$:\n",
    "\n",
    "![](images/Downey_sand_power_spectra.png)\n",
    "\n",
    "Image from [Allen Downey's Think Complexity](https://greenteapress.com/wp/think-complexity-2e/)."
   ]
  },
  {
   "cell_type": "markdown",
   "id": "729d84cf-01d7-4cce-b4aa-ff50d6c87ab5",
   "metadata": {
    "editable": true,
    "slideshow": {
     "slide_type": ""
    },
    "tags": []
   },
   "source": [
    "The sand pile model is an example of stochastic dynamics operating in a deterministic environment \n",
    "\n",
    "But we could also consider models that consist of deterministic dynamics operating in a random environment (sometimes called ‘extremal’ or ‘quenched’ models). The most important example of this type is the Bak-Sneppen model of evolution (power laws based on extinction events suggest that evolution is a SOC process. Extinctions can be viewed as avalances where death of a species triggers deaths of others)."
   ]
  },
  {
   "cell_type": "markdown",
   "id": "624205d2-4885-4976-a5b4-0718c366279d",
   "metadata": {
    "editable": true,
    "slideshow": {
     "slide_type": "slide"
    },
    "tags": [
     "slides"
    ]
   },
   "source": [
    "# Analytics\n",
    "Mathematically, we can use mean-field approximations and renormalisation group analysis to predict typical average outcomes and percolation thresholds.\n",
    "\n",
    "**Mean-field approximations:** \n",
    "- describe how the macroscopic detail of system changes on average over time\n",
    "- i.e. large detail/dynamics over time\n",
    "\n",
    "**Renormalisation group analysis:**\n",
    "- describes a certain property of a small part of the system and how it changes over length scales\n",
    "- i.e. small detail over space/relationships between scales\n",
    "- more comprehensive in its approach to scaling\n",
    "\n",
    "These are two sides of the same coin: Both aim to simplify and understand complex systems by focusing on effective behaviours and average effects."
   ]
  },
  {
   "cell_type": "markdown",
   "id": "b322e303-e825-45ce-b6ea-f1a0633e3e25",
   "metadata": {
    "editable": true,
    "slideshow": {
     "slide_type": "subslide"
    },
    "tags": [
     "slides"
    ]
   },
   "source": [
    "## Mean-field approximation\n",
    "We saw mean-field approximation applied to Game of Life and Kuramoto's network of oscillators previously:\n",
    "\n",
    "![](images/Mean_field_approximation_GoL.png)\n",
    "\n",
    "![](images/Mean_field_approximation_Kuramoto.png)\n",
    "\n",
    "The averaging across the entire system disregards spatial relationships. For this reason, you should use it with caution as it can be misleading. It failed completely for Game of Life but worked well the Kuramoto model."
   ]
  },
  {
   "cell_type": "markdown",
   "id": "09831db2-3461-4ae3-adbc-94ca2a924b8e",
   "metadata": {
    "editable": true,
    "slideshow": {
     "slide_type": ""
    },
    "tags": [
     "reader-only"
    ]
   },
   "source": [
    "Recall the process...\n",
    "1. reformulate the dynamics by describing the system's average state, which represents the overall behavior of all cells\n",
    "2. derive an equation that shows how this average state evolves over time based on how individual cells interact with it\n",
    "    - each cell's behaviour is viewed in relation to the average, known as the *mean field*, which is a uniform, probabilistic space\n",
    "    - we assume that each cell experiences the same average environment\n",
    "    - rather than updating every single cell based on its actual neighbours, we calculate the probability that a cell will be black or white based on the average density\n",
    "    - focus shifts from individual cell updates to the evolution of the global density of black cells over time\n",
    "3. analyse how the average state and long-term behaviour changes over time to predict the expected outcome of the process given an initial configuration"
   ]
  },
  {
   "cell_type": "markdown",
   "id": "68c884ee-8a64-4d96-852e-2cc48ae10ee6",
   "metadata": {
    "editable": true,
    "slideshow": {
     "slide_type": "subslide"
    },
    "tags": [
     "slides"
    ]
   },
   "source": [
    "## Renormalisation group analysis (RGA)\n",
    "Used in quantum and statistical physics\n",
    "\n",
    "RGA focuses on how the system's behaviour changes as you zoom out or coarse-grain the system. It simplifies the system by averaging out details at smaller scales and analysing the effective interactions at larger scales\n",
    "\n",
    "It's complicated and in my opinion not a fantastic method for complex systems but it is included in many classic text books (like Sayama's).\n",
    "\n",
    "It works by defining a certain property of a small part of the system and describing how it changes over length scales, not time.\n",
    "\n",
    "The result is an iterative map whose long-term/large-scale behaviour can be used to make predictions or statements about the system property (a la MATH3021).\n",
    "\n",
    "We'll look at a very simple example to illustrate the idea..."
   ]
  },
  {
   "cell_type": "markdown",
   "id": "cb05e58d-a142-4678-b52a-359ecf3f018a",
   "metadata": {
    "editable": true,
    "slideshow": {
     "slide_type": ""
    },
    "tags": []
   },
   "source": [
    "### Forest fire\n",
    "[Critically inflammatory Complexity Explorable](https://www.complexity-explorables.org/explorables/critically-inflammatory/)\n"
   ]
  },
  {
   "cell_type": "markdown",
   "id": "10b1bd93-b83e-4d3b-b2d3-18032b8f3314",
   "metadata": {
    "editable": true,
    "slideshow": {
     "slide_type": "subslide"
    },
    "tags": [
     "slides"
    ]
   },
   "source": [
    "#### Our own (very simple) model: ignoring regrowth of trees\n",
    "\n",
    "**Initialise**: Assume a square lattice where the states are occupied by a tree with state equal to $1$ or not with state equal to $0$\n",
    "- Trees initially occupy a cell with probability $p$ ($p=0$ means no trees anywhere, $p=1$ means every cell has a tree)\n",
    "- Randomly set fire to one tree\n",
    "\n",
    "**Dynamics**: If an unburnt tree is next to (Moore neighbourhood) a burning tree then it catches fire.\n",
    "\n",
    "We want to know if percolation occurs, i.e., does the extent of the burnt trees span the lattice?"
   ]
  },
  {
   "cell_type": "markdown",
   "id": "6d9eb663-a3e9-4661-86d3-0ca14962879f",
   "metadata": {
    "editable": true,
    "slideshow": {
     "slide_type": ""
    },
    "tags": [
     "reader-only"
    ]
   },
   "source": [
    "Renormalisation works by coarse-graining: dividing the system into blocks, which are replaced with simplified variables (at each step of the renormalisation) that describe whether large clusters of trees within them are connected or disconnected.\n",
    "\n",
    "As the system is \"zoomed out\" through multiple renormalisation steps, the behaviour of clusters at larger scales is observed.\n",
    "\n",
    "Specifically:"
   ]
  },
  {
   "cell_type": "markdown",
   "id": "6c2ffd69-b6ad-4667-bda0-dd6a896a8fde",
   "metadata": {
    "editable": true,
    "slideshow": {
     "slide_type": "subslide"
    },
    "tags": [
     "slides"
    ]
   },
   "source": [
    "1. define a property of the system than can be measured at any scale. \n",
    "    - For the simple forest fire model, where we are interested in percolation, this property could be the probability, $P$, that a fire can spread from one side of the portion of the forest (of scale $s$) to another.\n",
    "    \n",
    "2. calculate the property at the smallest scale $P_{1}$. \n",
    "    - one cell, and we need a tree to be present so $P_{1} = p$."
   ]
  },
  {
   "cell_type": "markdown",
   "id": "52b4be81-73db-4358-85f7-fe778d909062",
   "metadata": {
    "editable": true,
    "slideshow": {
     "slide_type": "subslide"
    },
    "tags": [
     "slides"
    ]
   },
   "source": [
    "3. derive a mathematical relationship between the property at the smallest scale and the property at the next larger scale $P_{2} = \\Phi\\left[P_{1}\\right]$\n",
    "    - calculate the probability that a fire can percolate on a $2\\times 2$ grid.\n",
    "    \n",
    "By considering an exhaustive list of possible situations we see that this happens if all four cells have trees, all combinations of three cells having trees, and the four possibilities for only two cells having trees.\n",
    "\n",
    "$$\n",
    "P_{2}=\\Phi\\left[P_{1}\\right] = P_{1}^{4} + 4P_{1}^{3}(1-P_{1})+4P_{1}^{2}(1-P_{1})^{2}.\n",
    "$$\n",
    "\n",
    "![](images/Sayama_renormalisation.png)\n",
    "\n",
    "Image from Sayama's text book\n"
   ]
  },
  {
   "cell_type": "markdown",
   "id": "f43a3e77-d785-4a9c-8b43-975188a6d692",
   "metadata": {
    "editable": true,
    "slideshow": {
     "slide_type": "subslide"
    },
    "tags": [
     "slides"
    ]
   },
   "source": [
    "\n",
    "4. *Assume* this relationship holds to predict larger scales and obtain the iterative map:\n",
    "\\begin{equation*}\n",
    "P_{s+1}=\\Phi\\left[P_{s}\\right] = P_{s}^{4} + 4P_{s}^{3}(1-P_{s})+4P_{s}^{2}(1-P_{s})^{2} \\text{ for all } s.\n",
    "\\end{equation*}    \n",
    "    \n",
    "![](images/Sayama_renormalisation.png)\n",
    "\n",
    "Image from Sayama's text book."
   ]
  },
  {
   "cell_type": "markdown",
   "id": "3fd2ba4c-ccee-43bd-a316-0275a97854da",
   "metadata": {
    "editable": true,
    "slideshow": {
     "slide_type": "subslide"
    },
    "tags": [
     "slides"
    ]
   },
   "source": [
    "This is clearly an approximation but it does produce a difference equation whose asymptotic behaviour ($s\\to\\infty$) can be analysed (cobweb plot, determine fixed points and stability etc).\n",
    "\n",
    "It's not correct but *some kind of approximation needs to be made in order to study complex systems analytically*.\n",
    "\n",
    "When you scale up to larger blocks, like 4×4, the interactions become more complex. Fires that start in one 2×2 block can influence adjacent 2×2 blocks. However, when looking at a 4×4 block as a whole, the spread of fire can become nonlinear due to interactions across the entire 4×4 area, which can introduce new dynamics not observed in the smaller 2×2 blocks."
   ]
  },
  {
   "cell_type": "markdown",
   "id": "7e997ebc-7369-49d2-8f24-577f346418cd",
   "metadata": {
    "editable": true,
    "slideshow": {
     "slide_type": "subslide"
    },
    "tags": [
     "slides"
    ]
   },
   "source": [
    "For the simple forest fire model if $P_{1}=p$ is above $0.382$ then RGA predicts percolation i.e. If the tree density in the forest is below 38%, only a small area will burn. But if the tree density is above 38%, most of the forest will be burned.\n"
   ]
  },
  {
   "cell_type": "markdown",
   "id": "e366b59a-df9a-46b3-9f21-04f774943173",
   "metadata": {
    "editable": true,
    "slideshow": {
     "slide_type": ""
    },
    "tags": []
   },
   "source": [
    "#### A slightly more complicated model: with regrowth of trees\n",
    "\n",
    "Bak, Chen and Tang proposed the following rules for a forest fire model on a lattice:\n",
    "- A burning tree becomes an empty site,\n",
    "- A green tree becomes burning if at least one of its neighbours is burning,\n",
    "- At an empty site a green tree grows with probability $p$.\n",
    "\n",
    "Bak et al. claimed this exhibits SOC in the limit as $p\\to 0$.\n",
    "\n",
    "However, there is no fire-starting mechanism other than the initialisation or seeding fires by hand. This was criticised as being a bit artificial.\n",
    "\n",
    "Drossel and Schwabl argued that the SOC was not exhibited because small forest fires can't occur.\n",
    "\n",
    "So, they introduced a fourth rule modelling lightning strikes:\n",
    "- A tree without a burning neighbour becomes a burning tree during one time step with probability $f$."
   ]
  },
  {
   "cell_type": "markdown",
   "id": "a5dc6615-efc6-4c64-93eb-22a2a7d05ade",
   "metadata": {
    "editable": true,
    "raw_mimetype": "",
    "slideshow": {
     "slide_type": ""
    },
    "tags": []
   },
   "source": [
    "Love this. Here’s a **very bare-bones, teaching-friendly RG sketch** for the Drossel–Schwabl (DS) forest-fire model that’s honest about assumptions and still shows the idea.\n",
    "\n",
    "---\n",
    "\n",
    "# A toy real-space RG for the DS forest-fire model\n",
    "\n",
    "**Model recap (DS):**\n",
    "\n",
    "* States on a 2D lattice: empty (E), tree (T), burning (B).\n",
    "* Dynamics per tick:\n",
    "  (i) $B \\to E$ (burns out),\n",
    "  (ii) $T$ with a burning neighbour $\\to B$ (spread),\n",
    "  (iii) $E \\xrightarrow{p} T$ (growth),\n",
    "  (iv) $T \\xrightarrow{f} B$ (lightning).\n",
    "* SOC regime: **time-scale separation** $f \\ll p \\ll 1$: fires spread fast (ballistically), growth is slow, lightning is rarer still.\n",
    "\n",
    "We’ll do a **real-space coarse-graining** with $b\\times b$ blocks and define **renormalised variables**.\n",
    "\n",
    "---\n",
    "\n",
    "## 1) Coarse-grained variables and a quasi-static approximation\n",
    "\n",
    "Let\n",
    "\n",
    "* $\\rho \\equiv \\Pr(\\text{site is a tree})$ (tree density at a snapshot),\n",
    "* $\\phi \\equiv \\Pr(\\text{site is burning})$ (burning fraction).\n",
    "\n",
    "With $f \\ll p$ and fast spread, **burning is impulsive**: avalanches are brief, so at a random time $\\phi$ is small (most of the time nothing is burning). We therefore treat the geometry **quasi-statically**:\n",
    "\n",
    "* between avalanches, trees regrow;\n",
    "* a lightning strike ignites a connected tree cluster, which then burns out rapidly.\n",
    "\n",
    "Thus, at the instant of ignition, the forest looks like **site percolation** on the tree subgraph with occupation probability $\\rho$. The avalanche size is essentially the size of the ignited tree cluster.\n",
    "\n",
    "---\n",
    "\n",
    "## 2) Block states and RG map\n",
    "\n",
    "Partition the lattice into $b\\times b$ blocks. Define the **block state** by a simple majority/OR rule tailored to the dynamics:\n",
    "\n",
    "* A block is **Burning** if **any** site is burning inside (fast contagion → “OR” is appropriate):\n",
    "\n",
    "  $$\n",
    "  \\Phi' \\;=\\; 1 - (1-\\phi)^{b^{2}} \\;\\approx\\; b^{2}\\phi \\quad (\\phi\\ll 1).\n",
    "  $$\n",
    "\n",
    "  Since $\\phi$ is episodic and small, the flow rapidly sends $\\Phi' \\to 0$ between avalanches. Burning does **not** set the fixed point; it’s the trigger for relaxation.\n",
    "\n",
    "* For **trees**, define a block as **Tree-occupied** if it contains **at least one tree** (the most conservative choice):\n",
    "\n",
    "  $$\n",
    "  \\rho'_{\\text{OR}} \\;=\\; 1 - (1-\\rho)^{b^{2}}\n",
    "  \\;\\approx\\; b^{2}\\rho \\quad (\\rho\\ll 1).\n",
    "  $$\n",
    "\n",
    "  That map is only good at low density.\n",
    "\n",
    "A better coarse variable (because avalanches burn **connected** clusters) is:\n",
    "\n",
    "* A block is **Tree-connected** if there exists a **connected tree path across the block** (left-to-right or top-to-bottom). Call its probability $Q(\\rho)$. Then the RG map is\n",
    "\n",
    "$$\n",
    "\\rho' \\;=\\; R_b(\\rho) \\;\\equiv\\; Q_b(\\rho).\n",
    "$$\n",
    "\n",
    "This is exactly the **real-space RG for site percolation** on a $b\\times b$ cell: there exists a **nontrivial fixed point** $\\rho_c$ such that\n",
    "\n",
    "$$\n",
    "R_b(\\rho_c)=\\rho_c,\\qquad \\lambda \\;\\equiv\\; \\left.\\frac{dR_b}{d\\rho}\\right|_{\\rho_c} > 1,\n",
    "$$\n",
    "\n",
    "so $\\rho_c$ is **unstable** (critical).\n",
    "\n",
    "> Intuition: coarse-graining keeps only whether trees percolate through a block; the detailed micro-arrangement is irrelevant at large scales. That produces the percolation critical fixed point.\n",
    "\n",
    "---\n",
    "\n",
    "## 3) Including the slow drive ($p$) and dissipation ($f$)\n",
    "\n",
    "The DS model **self-drives** $\\rho$ upward via growth and **dissipates** it via avalanches:\n",
    "\n",
    "* **Drive (between avalanches):**\n",
    "  In a region with empty fraction $1-\\rho$, growth increases density by $\\Delta \\rho_+ \\sim p(1-\\rho)$ per tick.\n",
    "\n",
    "* **Dissipation (during an avalanche):**\n",
    "  Lightning hits a random tree with rate $\\sim f \\rho$ and removes a connected tree cluster of mean size $\\langle s(\\rho)\\rangle$. The **density drop per event** is $\\Delta \\rho_- \\sim \\langle s(\\rho)\\rangle / L^{2}$, and **events occur** at rate $\\sim f \\rho L^{2}$. Over time, the **mean dissipation rate** is therefore\n",
    "\n",
    "  $$\n",
    "  \\dot\\rho_- \\;\\sim\\; f \\rho \\,\\langle s(\\rho)\\rangle.\n",
    "  $$\n",
    "\n",
    "Near the percolation point,\n",
    "\n",
    "$$\n",
    "\\langle s(\\rho)\\rangle \\sim \n",
    "\\begin{cases}\n",
    "\\text{finite}, & \\rho<\\rho_c,\\\\\n",
    "L^{D}, & \\rho\\to\\rho_c^{+} \\text{ with finite } L,\\\\\n",
    "\\text{diverges as } |\\rho-\\rho_c|^{-\\gamma}, & L\\to\\infty,\n",
    "\\end{cases}\n",
    "$$\n",
    "\n",
    "so the **dissipation grows sharply** as $\\rho\\to \\rho_c$.\n",
    "\n",
    "A mean-field balance for the **slow evolution** of $\\rho$ is:\n",
    "\n",
    "$$\n",
    "\\dot\\rho \\;=\\; p(1-\\rho) \\;-\\; f \\rho \\,\\langle s(\\rho)\\rangle.\n",
    "$$\n",
    "\n",
    "* For **$f\\ll p$** (many growth ticks between lightning strikes) and **fast avalanches**, the system drifts upward in $\\rho$ until the **dissipation term explodes** near $\\rho_c$, kicking $\\rho$ back down by a large avalanche.\n",
    "* Repeating this cycle makes $\\rho(t)$ **hover near the unstable fixed point** $\\rho_c$ of the percolation RG: the **RG flow tries to push away**, but the **drive-dissipate cycle repeatedly returns** the system to its vicinity.\n",
    "\n",
    "This is the RG picture of **self-organized criticality**: the **critical manifold** (here the percolation fixed point) is an **attractor of the driven–dissipative dynamics**, even though it is **unstable** under the static RG map $R_b$.\n",
    "\n",
    "---\n",
    "\n",
    "## 4) What this toy RG says (and doesn’t)\n",
    "\n",
    "* **Says:**\n",
    "\n",
    "  * Coarse-graining reduces the geometry to **percolation** of trees with control parameter $\\rho$.\n",
    "  * The static RG has an **unstable critical fixed point** $\\rho_c$.\n",
    "  * The DS dynamics with $f\\ll p$ **self-tunes** $\\rho$ toward $\\rho_c$, producing **scale-free avalanches** (because cluster sizes near $\\rho_c$ are scale-free).\n",
    "* **Doesn’t (on purpose):**\n",
    "\n",
    "  * Compute exact recursion $R_b$ or exponents; we only used their **structure** (existence and instability of $\\rho_c$).\n",
    "  * Prove which **universality class** all avalanche exponents fall into; DS has subtleties (finite-size, double-limit issues, etc.).\n",
    "\n",
    "---\n",
    "\n",
    "## 5) If you want one equation to show on a slide\n",
    "\n",
    "$$\n",
    "\\boxed{\\quad\n",
    "\\begin{aligned}\n",
    "\\rho' &= R_b(\\rho)\\quad\\text{(percolation RG; fixed point }\\rho_c\\text{)},\\\\[2pt]\n",
    "\\dot\\rho &= p(1-\\rho) \\;-\\; f\\,\\rho\\,\\langle s(\\rho)\\rangle, \\qquad\n",
    "\\langle s(\\rho)\\rangle \\uparrow \\text{ as } \\rho \\to \\rho_c.\n",
    "\\end{aligned}\n",
    "\\quad}\n",
    "$$\n",
    "\n",
    "**Moral:** the **RG flow** defines the critical manifold; the **slow drive + fast dissipation** makes that manifold an **effective attractor** → **SOC**.\n",
    "\n",
    "---\n",
    "\n",
    "If you’d like, I can turn this into two slide-ready panels: (i) cartoon RG flow with unstable $\\rho_c$; (ii) sawtooth $\\rho(t)$ drifting up via growth and dropping via avalanches, annotated with “hovering near $\\rho_c$”.\n"
   ]
  },
  {
   "cell_type": "markdown",
   "id": "02eb3df5-da81-4f62-8611-886656eb36cd",
   "metadata": {
    "editable": true,
    "slideshow": {
     "slide_type": ""
    },
    "tags": []
   },
   "source": [
    "# Conclusions\n",
    "\n",
    "The sand-pile model is idealised with highly oversimplifed laws of motion. *However*, it successfully explains the behaviour of diverse phenomena such as earthquakes or forest fires.\n",
    "\n",
    "So much of life and nature seems to be poised at criticality. e.g. large earthquakes and some kinds of accidents are fundamentally unpredictable.\n",
    "\n",
    "There is strong support and empirical evidence suggesting that SOC is key to understanding how the world works.\n",
    "- Per Bak (1997, title) claims to have discovered ‘how nature works’\n",
    "<!-- - Creutz (1997, p. 147) thinks that ‘[t]he idea provides a possible “explanation” of the omnipresent multi-scale structures throughout the natural world’ (my emphasis)\n",
    "- Paczuski and Bak (1999, p. 2) assert that ‘punctuated equilibrium [i.e. SOC] dynamics is the essential dynamical process for everything that evolves and becomes complex’ (my emphasis)\n",
    "- Blanchard and co-workers (1999, p. 375) observe that SOC has become a ‘new paradigm for the explanation of a huge variety of phenomena in nature as well as social science’\n",
    "- Buchanan (2000, title) thinks that SOC is ‘ubiquitous’ and has discovered ‘why the world is simpler than we think’ -->\n",
    "\n",
    "But is SOC ubiquitous? And in what sense is SOC a general feature of nature? ... We still don't know.\n",
    "\n",
    "SOC is no longer seen as the sole framework to explain multi-scale phenomena. It is now understood as part of a broader collection of mechanisms (including the importance of network topologies and non-equilibrium models), rather than a universal theory.\n",
    "\n",
    "What we do know is that it is impossible to look at the state of a critical system and say whether a large avalanche is 'due'. If the system is in a critical state, then a large avalanche is always possible... It just depends on the next grain of sand."
   ]
  },
  {
   "cell_type": "markdown",
   "id": "67d26bbc-2614-4b1c-9c8e-8635b235018c",
   "metadata": {
    "editable": true,
    "slideshow": {
     "slide_type": ""
    },
    "tags": []
   },
   "source": [
    "# References\n",
    "**Cellular automata introduction and RGA**:\n",
    "- Sayama H, 'Introduction to the modeling and analysis of complex systems,' OpenSUNY textbooks, (2015).\n",
    "- Self-organized criticality, sandpile model\n",
    "- Bak P, Tang C, Wiesenfeld K, 'Self-organized criticality: an explanation of $1/f$ noise,' Physical Review Letters, 59, 381--384 (1987).\n",
    "- Bak P, Tang C, Wiesenfeld K, 'Self-organized criticality,' Physical Review A, 38, 364--374 (1988).\n",
    "\n",
    "**Forest fire and earthquake models**:\n",
    "- Bak P, Chen K, Tang C, 'A forest-fire model and some thoughts on turbulence,' Physics Letters A, 147, 297--300 (1990).\n",
    "- Drossel B, Schwabl F, 'Self-organized critical forest-fire model,' Physical Review Letters, 69, 1629--1632 (1992).\n",
    "- Olami Z, Feder HJS, Christensen K, 'Self-organized criticality in a continuous, nonconservative cellular automaton modeling earthquakes,' Physical Review Letters, 68, 1244--1247 (1992).\n"
   ]
  },
  {
   "cell_type": "markdown",
   "id": "219e7e0b-ddca-4791-9637-a95bc0e0515b",
   "metadata": {
    "editable": true,
    "slideshow": {
     "slide_type": ""
    },
    "tags": [
     "reader-only"
    ]
   },
   "source": [
    "<div style=\"border-left: 4px solid #1e70bf; padding: 0.75em; background-color: #eaf3fb; margin-bottom: 1em;\">\n",
    "  <strong>Something else to consider...</strong><br>\n",
    "  What would you say if asked 'what caused the avalanche?'?\n",
    "</div>"
   ]
  },
  {
   "cell_type": "markdown",
   "id": "0d574797-1189-4ee9-b05d-0948af75120d",
   "metadata": {
    "editable": true,
    "slideshow": {
     "slide_type": ""
    },
    "tags": [
     "reader-only"
    ]
   },
   "source": [
    "```{toggle}\n",
    "\n",
    "Within a sand pile model, large avalanches occur under two different philosophies:\n",
    "- the proximate (most immediate) cause of these avalanches are because a grain of sand is dropped on the sand pile (and the topple mechanism)\n",
    "- the ultimate (true) cause of these avalanches are because of the properties of the self-organised critical state that the system is in\n",
    "\n",
    "```"
   ]
  }
 ],
 "metadata": {
  "@webio": {
   "lastCommId": null,
   "lastKernelId": null
  },
  "celltoolbar": "Slideshow",
  "kernelspec": {
   "display_name": "Python 3 (ipykernel)",
   "language": "python",
   "name": "python3"
  },
  "language_info": {
   "codemirror_mode": {
    "name": "ipython",
    "version": 3
   },
   "file_extension": ".py",
   "mimetype": "text/x-python",
   "name": "python",
   "nbconvert_exporter": "python",
   "pygments_lexer": "ipython3",
   "version": "3.11.8"
  },
  "toc": {
   "base_numbering": 1,
   "nav_menu": {},
   "number_sections": true,
   "sideBar": true,
   "skip_h1_title": false,
   "title_cell": "Table of Contents",
   "title_sidebar": "Contents",
   "toc_cell": false,
   "toc_position": {},
   "toc_section_display": true,
   "toc_window_display": false
  }
 },
 "nbformat": 4,
 "nbformat_minor": 5
}

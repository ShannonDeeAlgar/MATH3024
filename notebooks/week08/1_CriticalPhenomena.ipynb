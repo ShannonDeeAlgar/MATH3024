{
 "cells": [
  {
   "cell_type": "markdown",
   "id": "082eb6fb",
   "metadata": {
    "slideshow": {
     "slide_type": "slide"
    }
   },
   "source": [
    "# Critical behaviour \n",
    "Last week we learnt about swarm optimisation with agent-based models\n",
    "\n",
    "Today, we'll return to cellular automata as the modelling framework to explore criticality."
   ]
  },
  {
   "cell_type": "markdown",
   "id": "382b69fc",
   "metadata": {
    "slideshow": {
     "slide_type": "subslide"
    }
   },
   "source": [
    "## Phase transition\n",
    "A **phase transition** is a transformation in a system from one state (i.e. phase) to another \n",
    "- e.g. order to chaos\n",
    "- typically occurs when system undergoes a change in conditions\n",
    "- signal the emergence of new patterns or behaviours that were not present before\n",
    "- driven by the interactions and feedback loops within the system\n",
    "- characterised by a sudden change in some property(s)"
   ]
  },
  {
   "cell_type": "markdown",
   "id": "e6dfdec8",
   "metadata": {
    "slideshow": {
     "slide_type": "subslide"
    }
   },
   "source": [
    "There are two main types of phase transitions:\n",
    "\n",
    "1. **First-order phase transitions**\n",
    "- abrupt/discontinuous change in system's behaviour or structure \n",
    "<!-- sharp transition where the system jumps from one stable state to another. -->\n",
    "- (in a first derivative of the free energy with respect to some thermodynamic variable, such as temperature or pressure, often involving latent heat)\n",
    "- distinction between two phases disappears and properties of the phases become indistinguishable in a supercritical state\n",
    "- e.g.: Melting of ice to water, boiling of water to steam, and the transition from ferromagnetism to paramagnetism in certain materials\n",
    "\n",
    "2. **Second-order phase transitions**\n",
    "- smooth/continuous/more gradual phase transitions\n",
    "- (first derivatives of the free energy are continuous, but the second derivatives (like specific heat or magnetic susceptibility) are discontinuous or diverge. These transitions do not involve latent heat.)\n",
    "- e.g.: The superconducting transition in metals, the ferromagnetic transition in iron, and the transition to a superfluid state in helium.\n"
   ]
  },
  {
   "cell_type": "markdown",
   "id": "c44a987d",
   "metadata": {
    "slideshow": {
     "slide_type": "subslide"
    }
   },
   "source": [
    "\n",
    "![](images/PhaseTransitions.png)\n",
    "\n",
    "\n",
    "Image from: https://www.nature.com/articles/nmat3506"
   ]
  },
  {
   "cell_type": "markdown",
   "id": "7496334f",
   "metadata": {
    "slideshow": {
     "slide_type": "subslide"
    }
   },
   "source": [
    "## Critical point\n",
    "If a phase transition occurs then there is a **critical point (aka tipping point)** between the phases where dramatic changes in behaviour and properties are observed\n",
    "\n",
    "The system is most dynamic and complex here, often leading to the most interesting and unexpected phenomena\n",
    "\n",
    "Near this point, the system displays various *critical phenomena/behaviour*..."
   ]
  },
  {
   "cell_type": "markdown",
   "id": "f13d40c7",
   "metadata": {
    "slideshow": {
     "slide_type": "subslide"
    }
   },
   "source": [
    "### 1. Power law scaling and critical exponents\n",
    "Various observable properties exhibit power law scaling with critical exponents that describe the behaviour of these properties\n",
    "    \n",
    "Critical systems typically have power laws everywhere, particularly in spatial and temporal correlations"
   ]
  },
  {
   "cell_type": "markdown",
   "id": "a34f3a4d",
   "metadata": {
    "slideshow": {
     "slide_type": "subslide"
    }
   },
   "source": [
    "##### Power laws\n",
    "\n",
    "**Power laws** describe a functional relationship between two quantities where one quantity varies as a power of the other:\n",
    "$$y = C \\cdot x^\\alpha$$\n",
    "\n",
    "where:\n",
    "- $y$ and $x$ are variables of interest\n",
    "- $\\alpha$ is the **power law exponent** (a constant that characterises the relationship)\n",
    "- $C$ is a constant of proportionality\n",
    "\n",
    "Near the critical threshold the system also exhibits **critical exponents**. These are parameters that describe how physical quantities/properties behave near the critical point of a phase transition\n",
    "\n",
    "**Power law distributions** are those where the probability $P(x)$ of observing a value $x$ follows:\n",
    "$$P(x) \\propto x^{-\\tau}$$\n",
    "\n",
    "where $\\tau$ is the **exponent** of the power law. "
   ]
  },
  {
   "cell_type": "markdown",
   "id": "f490e793",
   "metadata": {
    "slideshow": {
     "slide_type": "subslide"
    }
   },
   "source": [
    "Power laws are **heavy-tailed** (i.e.the part of the distribution representing extreme values decays more slowly than an exponential distribution)\n",
    "\n",
    "This means that:\n",
    "- extreme events (such as very large earthquakes, very large financial losses, or very high degrees of network nodes) are not just possible but are more common than they would be in distributions with lighter tails... wait long enough a big enough avalanche will come\n",
    "- robust to small perturbations but highly vulnerable to extreme events. For example, a network with power-law degree distribution (scale-free network) is resilient to random failures but susceptible to targeted attacks\n",
    "- because the occurrence of extreme values is more frequent than predicted by models with lighter tails special statistical techniques and considerations in modelling and analysis may be required. We can't compute an average of a power law distribution because \n",
    "    - the average of such a distribution is not representative of the dataset\n",
    "    - doesn't give a meaningful central value"
   ]
  },
  {
   "cell_type": "markdown",
   "id": "d623f99a",
   "metadata": {
    "slideshow": {
     "slide_type": "subslide"
    }
   },
   "source": [
    "Empirically, we will rarely see true power laws for all values but we will consider the system to be governed by a power law if it follows a *power law in the tail* i.e. a heavy tail\n",
    "\n",
    "- Gutenberg-Richter Law relating the magnitude and number of earthquakes:\n",
    "\n",
    "$$\n",
    "N(M) = 10^{a-bM}\n",
    "$$\n",
    "\n",
    "- Omori's Law relating the frequency of aftershocks to the reciprocal of time:\n",
    "\n",
    "$$\n",
    "n(t) = \\frac{k}{c+t}\n",
    "$$\n",
    "\n",
    "<!-- - So-called $\\frac{1}{f}$ noise, or flicker noise, where the power spectral density of a signal is inversely proportional to the frequency:\n",
    "$$\n",
    "\\color{white}{S(f) \\propto \\frac{1}{f^{\\alpha}}}\n",
    "$$ -->\n",
    "- Scale-free networks with power law degree distribution:\n",
    "\n",
    "$$\n",
    "p(k) \\propto k^{-\\gamma}\n",
    "$$"
   ]
  },
  {
   "cell_type": "markdown",
   "id": "2a21aa66",
   "metadata": {
    "slideshow": {
     "slide_type": "subslide"
    }
   },
   "source": [
    "### 2. Long-ranged correlations\n",
    "Correlations between different parts of the system become increasingly long-ranged\n",
    "\n",
    "A small change in one part of the system can influence distant parts, leading to large-scale fluctuations\n",
    "\n",
    "e.g. in a social network, near the critical point of opinion formation, a small group of individuals adopting a new idea can have a disproportionately large impact, potentially leading to widespread adoption"
   ]
  },
  {
   "cell_type": "markdown",
   "id": "1d551eed",
   "metadata": {
    "slideshow": {
     "slide_type": "subslide"
    }
   },
   "source": [
    "### 3. Scale invariance (aka scale free)\n",
    "Scale invariance, meaning it (the patterns, behaviour, or statistical properties) looks similar at different scales \n",
    "\n",
    "$f(x)$ is scale invariant if, for any constant $c>0$\n",
    "$$f(cx)\\sim f(x)$$\n",
    "\n",
    "No specific length or time scale that governs the dynamics and resulting statistical properties i.e. that if you observe a phenomena at different spatial or temporal scales by zooming in or out then you'll see similar characteristics and statistical properties regardless of the scale at which you observe them (think back to fractals)\n",
    "\n",
    "Power laws often arise because of the system's scale invariance as a direct way to quantify this property \n",
    "\n",
    "Again, this means we can't calculate the average or any other characteristic length of an observable property because the distribution remains the same regardless of the scale at which you observe it\n",
    "\n",
    "e.g. in financial markets, at critical points (like during a market crash), price movements exhibit fractal-like patterns, where similar fluctuations are observed at both small and large timescales"
   ]
  },
  {
   "cell_type": "markdown",
   "id": "e5d5ffa6",
   "metadata": {
    "slideshow": {
     "slide_type": "subslide"
    }
   },
   "source": [
    "### 4. Critical slowing down\n",
    "Response to external perturbations slows down dramatically\n",
    "\n",
    "The time it takes for the system to return to equilibrium after a disturbance becomes very long\n",
    "\n",
    "e.g. in ecological systems, at the critical point before a sudden shift (like desertification), the recovery time of the ecosystem from environmental stress increases, making the system more vulnerable to collapse."
   ]
  },
  {
   "cell_type": "markdown",
   "id": "fbd6a50e",
   "metadata": {
    "slideshow": {
     "slide_type": "subslide"
    }
   },
   "source": [
    "## A familiar example: Ising model\n",
    "The Ising model is a canonical example of critical behaviour and phase transitions in statistical mechanics\n",
    "\n",
    "(We've already seen it: magnetic spins in a crystalline lattice) \n",
    "\n",
    "Temperature is the *tuning parameter* that determines the system behaviour. The phase transition occurs at a critical temperature, $T_c$, aka \"Curie temperature\" for Pierre Curie\n",
    "\n",
    "Near $T_c$ the system undergoes a second-order phase transition from a disordered (paramagnetic) phase to an ordered (ferromagnetic) phase\n",
    "- Below $T_c$ the system exhibits long-range order (ferromagnetic phase), where spins tend to align and form large domains of up or down spins\n",
    "- Increasing temperature to $T>T_c$ will cause a phase transition (from order-disorder, where long range spatiotemporal correlations will breakdown) \n",
    "- Near $T_c$ interesting things happen."
   ]
  },
  {
   "cell_type": "markdown",
   "id": "aab3340f",
   "metadata": {
    "slideshow": {
     "slide_type": "subslide"
    }
   },
   "source": [
    "##### 1. Power law scaling and critical exponents\n",
    "Power law scaling in magnetisation is a hallmark of critical phenomena near second-order phase transitions (other observable quantities such as susceptibility, and correlation length behave also follow power laws)\n",
    "<!-- the sum of the magnetic moments of all the individual spins in the system. It represents the net magnetic effect of the spins. -->\n",
    "\n",
    "As $T \\to T_c$ from below, the magnetisation follows a power law decay with an exponent $\\beta$:\n",
    "- spontaneous magnetisation $M(T)$ follows a power law as the system approaches the critical temperature from below:\n",
    "\n",
    "$$\n",
    "M(T) \\propto (T_c - T)^{\\beta}\n",
    "$$\n",
    "\n",
    "- $\\beta$ is the **critical exponent for magnetisation**. It describes how the magnetisation vanishes as the system nears the critical temperature\n",
    "\n",
    "- When $T = T_c$, the system undergoes a second-order phase transition, and magnetisation drops to zero at $T_c$\n",
    "\n",
    "2D Ising model: $\\beta = \\frac{1}{8}$. 3D Ising model: $\\beta \\approx 0.326 $."
   ]
  },
  {
   "cell_type": "markdown",
   "id": "18e395fd",
   "metadata": {
    "slideshow": {
     "slide_type": "subslide"
    }
   },
   "source": [
    "*Magnetic Susceptibility*: The magnetic susceptibility $\\chi(T)$, which measures the system's response to an external magnetic field, diverges near $T_c$ following the power law:\n",
    "\n",
    "$$\n",
    "\\chi(T) \\propto |T - T_c|^{-\\gamma}\n",
    "$$\n",
    "\n",
    "where $\\gamma$ is the critical exponent for susceptibility. In the 2D Ising model, $\\gamma = 7/4$\n",
    "\n",
    "*Correlation Length*: The correlation length $\\xi(T)$, which measures the typical distance over which spins are correlated, diverges as:\n",
    "\n",
    "$$\n",
    "\\xi(T) \\propto |T - T_c|^{-\\nu}\n",
    "$$\n",
    "\n",
    "where $\\nu$ is the critical exponent for the correlation length. In the 2D Ising model, $\\nu = 1$"
   ]
  },
  {
   "cell_type": "markdown",
   "id": "5dbf67cb",
   "metadata": {
    "slideshow": {
     "slide_type": "subslide"
    }
   },
   "source": [
    "##### 2. Long-Ranged Correlations:\n",
    "\n",
    "- Near $T_c$ the spins in the Ising model become strongly correlated over large distances. This means that the behaviour of one spin can influence the behaviour of distant spins, leading to the formation of large, correlated regions and large-scale fluctuations in magnetisation\n",
    "- As the temperature approaches $T_c$, the correlation length $\\xi(T)$ diverges, meaning that the correlations between spins extend over increasingly long distances \n",
    "- Far from $T_c$, the correlations are short-ranged, and spins only influence their immediate neighbours\n",
    "\n",
    "Note that this is different to the ordered (ferromagnetic) phase, where correlations are finite but not as extensive."
   ]
  },
  {
   "cell_type": "markdown",
   "id": "86b0d8a0",
   "metadata": {
    "slideshow": {
     "slide_type": "subslide"
    }
   },
   "source": [
    "##### 3. Scale Invariance (aka Scale-Free Behaviour)\n",
    "\n",
    "Near $T_c$ the spatial distribution of clusters of aligned spins exhibits scale invariance (and hence follows a power law)\n",
    "\n",
    "i.e. The distribution of cluster sizes is similar whether you look at large or small clusters, due to the self-similar nature of the system."
   ]
  },
  {
   "cell_type": "markdown",
   "id": "6dd9cda9",
   "metadata": {
    "slideshow": {
     "slide_type": "subslide"
    }
   },
   "source": [
    "##### 4. Critical Slowing Down\n",
    "As the correlation length $\\xi(T)$ grows larger near $T_c$, the system's dynamics become increasingly slow because large clusters of correlated spins must align or flip together, making it harder for the system to return to equilibrium\n",
    "   \n",
    "This slowing down is due to the fact that near the critical point, the system must reorganise over increasingly larger distances, leading to longer timescales for fluctuations to decay."
   ]
  },
  {
   "cell_type": "markdown",
   "id": "0242dfc2",
   "metadata": {
    "slideshow": {
     "slide_type": "subslide"
    }
   },
   "source": [
    "##### Universality\n",
    "\n",
    "These transitions are observed in systems of a very different nature in a wide range of disciplines, from sociology to computer science, and they can be classified in ways similar to physical systems\n",
    "\n",
    "This concept, known as **universality**, means that systems with different underlying details can share the same critical exponents and scaling behaviour\n",
    "\n",
    "e.g.: The percolation threshold in networks, the onset of magnetism in materials, and the transition to turbulence in fluids can all be described by similar mathematical frameworks, despite their differences in physical nature\n",
    "\n",
    "The specific value of $\\beta$ depends on the system's **universality class** (the set of systems that share the same critical exponents, regardless of microscopic details)"
   ]
  },
  {
   "cell_type": "markdown",
   "id": "2d206a41",
   "metadata": {
    "slideshow": {
     "slide_type": "subslide"
    }
   },
   "source": [
    "## Percolation\n",
    "Another very prominent statistical physics model for criticality is percolation\n",
    "\n",
    "Percolation is a process where fluid flows through a semi-porous material e.g. oil in rock formations, water in paper, and hydrogen gas in micropores\n",
    "\n",
    "Percolation theory is an entire area of mathematics dedicated to better understanding this phenomena\n",
    "\n",
    "- [The barista's secret](http://www.complexity-explorables.org/explorables/baristas-secret/): Percolation on a lattice "
   ]
  },
  {
   "cell_type": "markdown",
   "id": "9f6df625",
   "metadata": {
    "slideshow": {
     "slide_type": "subslide"
    }
   },
   "source": [
    "## Critical phenomena\n",
    "\n",
    "The system's response shows a sharp transition at a certain porosity\n",
    "\n",
    "This is the **percolation threshold**, which is a critical value\n",
    "- Below $p_c$ no percolation occurs\n",
    "- As the control parameter approaches the percolation threshold, $p_c$, various other critical behaviours can be observed\n",
    "- Near $p_c$ the system is very sensitive to small perturbation\n",
    "- Above $p_c$ percolation occurs\n",
    "\n",
    "Computing the percolation threshold, $p_c$, can be tricky \n",
    "\n",
    "Some options:\n",
    "- Numerical experiments\n",
    "- Finite-size scaling theory is used to extrapolate the behaviour of an infinitely large system based on data from finite-sized systems\n",
    "- Theoretical mean-field models\n",
    "- Other theoretical approaches based on concepts from statistical physics, percolation theory, or graph theory"
   ]
  },
  {
   "cell_type": "markdown",
   "id": "27be62e0",
   "metadata": {
    "slideshow": {
     "slide_type": "subslide"
    }
   },
   "source": [
    "## 'Percolation'\n",
    "\n",
    "The physical metaphor of a liquid expanding through a porous medium is only one way to think of percolation\n",
    "\n",
    "Other applications for spatial contact processes:\n",
    "- spread of infectious disease in which the liquid becomes an infectious disease, empty sites are susceptible individuals and occupied sites are immune. In this case the percolation threshold is the epidemic threshold\n",
    "    - [Critical hexSIRSize](https://www.complexity-explorables.org/explorables/critical-hexsirsize/): stochastic, spatial SIRS model. Pattern formation in an epidemic model near its critical point \n",
    "\n",
    "- dynamics of forest fires in which the liquid is a fire that expands across an area of vegetation and the porosity is equivalent to the density of trees\n",
    "    - [Critically inflammatory](https://www.complexity-explorables.org/explorables/critically-inflammatory/): A forest fire model. Spatial patterns, dynamics and criticality in forest fire dynamics "
   ]
  },
  {
   "cell_type": "markdown",
   "id": "37df611f",
   "metadata": {
    "slideshow": {
     "slide_type": "slide"
    }
   },
   "source": [
    "# Self-organised criticality\n",
    "\n",
    "Critical behaviour in dynamical systems can be explained by the phenomenon of **self-organised criticality** (SOC)\n",
    "\n",
    "Critical systems are usually unstable - so why are they so common? \n",
    "\n",
    "Many complex systems are considered to be *utilising such critical behaviours for their self-organising and information processing* - Sayama\n",
    "\n",
    "(They are also highly adaptable and efficient)"
   ]
  },
  {
   "cell_type": "markdown",
   "id": "56f59428",
   "metadata": {
    "slideshow": {
     "slide_type": "subslide"
    }
   },
   "source": [
    "We've seen that 'self-organised' is a sort of spontaneous order that arises from local interactions in systems (not in thermodynamic equilibrium) with spatial degrees of freedom\n",
    "\n",
    "If the dynamics evolve the system towards the critical point then we refer to this as self-organised criticality (SOC)\n",
    "\n",
    "In systems that exhibit SOC, the (critical) behaviour resembles the critical point of phase transitions with all the same features\n",
    "\n",
    "But, these systems *do not require external control via tuning of parameters* - they organise *themself* into the critical behaviour \n",
    "<!-- and complexity arises as no single characteristic event size exists -->\n"
   ]
  },
  {
   "cell_type": "markdown",
   "id": "1688c8df",
   "metadata": {
    "slideshow": {
     "slide_type": "subslide"
    }
   },
   "source": [
    "\n",
    "In the critical state these systems are poised on the edge of instability, which allows them to:\n",
    "- efficiently distribute energy or resources \n",
    "- maintain robustness and adaptability \n",
    "<!-- i.e. balance stability and responsiveness to adapt to changes in the environment -->\n",
    "\n",
    "SOC is a very active and influential research area because we still don't have answers to some of the biggest questions:\n",
    "- how does self-organised criticality work? (we know there is usually a slow drive and highly non-linear interaction nut not much else is known...)\n",
    "- is it ubiquitous?"
   ]
  },
  {
   "cell_type": "markdown",
   "id": "b0ca695d",
   "metadata": {
    "slideshow": {
     "slide_type": "subslide"
    }
   },
   "source": [
    "## To summarise the difference...\n",
    "The Ising model and percolation do not rely on self-organisation to reach a critical state\n",
    "\n",
    "The key difference between standard systems with a critical or bifurcation point and SOC systems is in their underlying dynamics and the role of external control\n",
    "\n",
    "Standard systems are typically deterministic and reach a critical point through parameter tuning, while SOC systems are stochastic, self-organising, and naturally evolve to a critical state without external intervention\n",
    "\n",
    "SOC systems often involve complex interactions and are characterised by the occurrence of cascading events with scale-invariant properties\n",
    "\n",
    "One of the key features of SOC systems is the unpredictability and complexity of events\n",
    "\n",
    "But we don't just give up, there is plenty we can understand even if prediction isn't likely... to do this, of course we will lean on complex systems modelling"
   ]
  },
  {
   "cell_type": "markdown",
   "id": "6186397c",
   "metadata": {
    "slideshow": {
     "slide_type": "slide"
    }
   },
   "source": [
    "# Sand piles\n",
    "\n",
    "<div style=\"margin: 1.5em 0; border-right: 4px solid #888; padding-right: 1em; text-align: right;\">\n",
    "  <div style=\"font-style: italic; font-family: 'Comic Neue', 'Segoe Script', cursive; font-size: 1.2em;\">\n",
    "    How do we know that the creations of worlds are not determined by falling grains of sand?\n",
    "  </div>\n",
    "  <div style=\"font-style: normal; font-size: 0.95em; margin-top: 0.5em;\">\n",
    "    — Victor Hugo, Les Miserables 1862\n",
    "  </div>\n",
    "</div>\n",
    "\n",
    "\n",
    "Consider a pile of sand  formed by dropping one sand grain on top of another over time. These piles form pyramid-like shapes of a certain slope\n",
    "\n",
    "If we continue to add sand grains then they slide down the slopes of the pyramid causing mini avalanches and the slope of the pyramid stays at the same angle. This is the *angle of repose*. A pyramid of sand with a larger slope than the angle of repose will create avalanches until the slope is again the angle of repose. The pyramid is in a critical state, and any departure from this state causes sequences of avalanches of different sizes to return to the critical state"
   ]
  },
  {
   "cell_type": "markdown",
   "id": "29f6e3a1",
   "metadata": {
    "slideshow": {
     "slide_type": "subslide"
    }
   },
   "source": [
    "## Sand pile models\n",
    "\n",
    "Bak et al. proposed a sandpile model in 1987 to emulate this and demonstrate self-organised criticality\n",
    "\n",
    "It's not meant to be a realistic model of a sand pile - it's an abstraction, i.e. a simple example of a broad category of models for self-organised criticality\n",
    "\n",
    "With everything you have learnt so far... How will we model this?"
   ]
  },
  {
   "cell_type": "markdown",
   "id": "e0cf78d5",
   "metadata": {
    "slideshow": {
     "slide_type": "subslide"
    }
   },
   "source": [
    "## Something else to consider...\n",
    "What would you say if asked 'what caused the avalanche?'\n",
    "\n",
    "Within a sand pile model, large avalanches occur under two different philosophies:\n",
    "- the proximate (most immediate) cause of these avalanches are because a grain of sand is dropped on the sand pile (and the topple mechanism)\n",
    "- the ultimate (true) cause of these avalanches are because of the properties of the self-organised critical state that the system is in"
   ]
  },
  {
   "cell_type": "markdown",
   "id": "3ae74a11",
   "metadata": {
    "slideshow": {
     "slide_type": "skip"
    }
   },
   "source": [
    "\n",
    "\n",
    "'Networks can fool people, just like how the earth seems flat when you're standing here on the ground, people can get the wrong idea about society because they're in it'. THe majority illusion makes people think their political views are consensus"
   ]
  },
  {
   "cell_type": "markdown",
   "id": "bba65e0b-cdd4-4d39-bca2-c72a8fbce982",
   "metadata": {},
   "source": [
    ">*\"The subject of sand movement lies far more in the realm of physics than of geomorphology\"* - Ralph Bagnold, Physics of Blown Sand and Desert Dunes\n",
    "\n",
    ">*\"To see a World in a Grain of Sand\"*, William Blake, Auguries of Innocence"
   ]
  },
  {
   "cell_type": "markdown",
   "id": "ca507330-8d20-4fc7-ac1a-a56a3e29c860",
   "metadata": {},
   "source": [
    "# Properties of critical systems\n",
    "We will focus on a few properties today\n",
    "1. Fractal Geometry - non-regular geometric shape containing the same degree of non-regularity on all scales, i.e. scale invariance\n",
    "2. Heavy-tailed distributions - probability distribution whose tails are not exponentially bounded (a looser condition than the power-law but intended to capture the same behaviour)\n",
    "3. Pink noise* - exhibited through variations in time where low frequency components have more power than high frequency components. The power for a particular frequency $f$ will decay at a rate of $1/f$ 'Self-Organized Criticality: An Explanation of 1/f Noise'"
   ]
  },
  {
   "cell_type": "markdown",
   "id": "af59c1ec-8b2c-4423-95e6-9cb4f5d493db",
   "metadata": {},
   "source": [
    "# Sand pile model\n",
    "A model of self-organised criticality (not of sand piles)\n",
    "\n",
    "The idea we aim to capture: how the addition of grains of sand to a 'metastable state' can trigger local motion causing the sand to rearrange itself via avalanches that span the entire pile\n",
    "\n",
    "In the self-organised critical state chain reactions can trigger avalanches of all sizes\n",
    "- **\"Critical\"** because a single local event can impact the entire system\n",
    "- **\"Self-organised\"** because the global state/pattern/dynamics has emerged spontaneously (no top-down control/invisible hand imposing order).\n",
    "\n",
    "<!-- The idea of SOC is intuitive but definitions are typically vague, involve presence of properties, e.g. \n",
    "- power law distributed events\n",
    "- scale invariance\n",
    "- criticality with no parameter fine tuning -->"
   ]
  },
  {
   "cell_type": "markdown",
   "id": "6b96f25a-41ca-4279-9da3-c68eaa1bdf50",
   "metadata": {},
   "source": [
    "## (Abelian) Sand pile model\n",
    "The term Abelian comes from group theory, where a group is called Abelian if the order of operations does not matter (i.e., the group is commutative), i.e. the order in which you combine its elements (via a binary operation like addition or multiplication) does not affect the result. For example, in ordinary arithmetic, addition is commutative because:\n",
    "\n",
    "$$\n",
    "a + b = b + a\n",
    "$$\n",
    "\n",
    "In the sandpile model, regardless of the sequence of topplings, the final distribution of sand is the same, making the model an example of an Abelian system\n",
    "\n",
    "The commutative property in the Abelian Sandpile Model makes it a more tractable and mathematically interesting system to study."
   ]
  },
  {
   "cell_type": "markdown",
   "id": "7faf3c7e-82c0-4a11-b8d3-f8705292d2fa",
   "metadata": {},
   "source": [
    "## Sand pile model details\n",
    "- 2D cellular automata \n",
    "- state of each cell, $z(x,y)$, represents the slope of a part of the sand pile (or equivalently the number of grains)\n",
    "- boundary of grid: state is kept at 0 i.e. as sand is distributed outwards, excess will 'fall off the edge'\n",
    "- dynamics: \n",
    "    1. randomly select cell and increment state by 1 (add sand to it)\n",
    "    2. if cell state exceeds a critical value of $K_c$ then it 'topples' and redistributes sand to 4 neighbouring cells (-4 to the cell that topples and +1 to its von Neumann neighbours)    \n",
    "    3. once all sites are stable again return to step 1\n",
    "   \n",
    "$$\n",
    "z(x,y) \\mapsto z(x,y) - 4,\n",
    "$$ \n",
    "\n",
    "$$\n",
    "z(x\\pm 1,y) \\mapsto z(x\\pm 1,y) + 1,\n",
    "$$ \n",
    "\n",
    "$$\n",
    "z(x,y\\pm 1) \\mapsto z(x, y\\pm 1) + 1.\n",
    "$$ \n",
    "\n",
    "Note that we usually choose $K_c=4$.\n",
    "\n"
   ]
  },
  {
   "cell_type": "markdown",
   "id": "2c72beb4-40d7-49ac-86ab-c0494dcbcf97",
   "metadata": {},
   "source": [
    "## Perturbations\n",
    "Most of the time, dropping a single grain causes no cells to topple\n",
    "\n",
    "Occasionally a single grain can cause an avalanche affecting a substantial fraction of the grid\n",
    "\n",
    "To investigate this behaviour we initialise as:\n",
    "- option A (more common): all cells are initialised randomly with integer values $z>K_c$, and the model is run until it stabilises. This state is then used as an initialisation\n",
    "- option B: build up a sand pile by adding a grains at a random lattice point $(x,y)$ and then running the dynamics"
   ]
  },
  {
   "cell_type": "markdown",
   "id": "29665138-b405-49c6-92b5-92d88f2f28ab",
   "metadata": {},
   "source": [
    "## Power law?\n",
    "\n",
    "**Q1:** What should we be looking at to quantify this behaviour?\n"
   ]
  },
  {
   "cell_type": "markdown",
   "id": "4ef815da-7df1-4d08-a36c-f5593e8edd2c",
   "metadata": {},
   "source": [
    "\n",
    "**A1:** For each perturbation:\n",
    "- the number of time steps the pile takes to stabilise, $t$\n",
    "- the total number of cells that topple, $S$\n"
   ]
  },
  {
   "cell_type": "markdown",
   "id": "aaa2da7a-b0ba-4564-932a-a666d6ada765",
   "metadata": {},
   "source": [
    "**Q2:** How can we use these observations to demonstrate the properties typical of critical phenomena?\n"
   ]
  },
  {
   "cell_type": "markdown",
   "id": "08e31379-e4c7-460b-a44b-807e16791745",
   "metadata": {},
   "source": [
    "**A2:** Tracking the distribution of avalanche sizes, $S$ as a function of size, we should find the hallmark of self-organised criticality...\n",
    "\n",
    "...a power law (or at least a heavy tail distribution characterised by many small values and a few very large values, slower-than-exponential decay rate):\n",
    "\n",
    "$$\n",
    "D(S) = a S^{-\\alpha}.\n",
    "$$"
   ]
  },
  {
   "cell_type": "markdown",
   "id": "6ef6999f-aeb2-47d9-a94d-4f405a74be02",
   "metadata": {},
   "source": [
    "$$\n",
    "D(S) = a S^{-\\alpha}.\n",
    "$$\n",
    "\n",
    "Extending the size of the system does not change the exponent, i.e., there is no intrinsic length scale in the system (scale invariance)\n",
    "\n",
    "Note: large amount of data is required to demonstrate the cascading effect of dropping sand in a random location. The majority of the time that this process takes place, nothing happens. This will cause the CA state to be unchanged. Thus, it is important to filter these results out, so that the histogram displays desired outcomes without difficulty. i.e. $S$ is looking at the number of cells that topple, given that a cell topples\n",
    "\n",
    "<center>\n",
    "<img src=\"Sand_Distributions2.png\" width=\"600\"/>\n",
    "</center>\n",
    "\n",
    "Image from Bak et al 'Self- Organized Criticality: An Explanation of 1/f Noise'"
   ]
  },
  {
   "cell_type": "markdown",
   "id": "a1e274ff-bbbe-4952-a618-d75c7fa5a6d5",
   "metadata": {},
   "source": [
    "## Fractals?\n",
    "Binarised sand piles for $z=\\{0,1,2,3\\}$:\n",
    "<center>\n",
    "<img src=\"Sand_Fractals.png\" width=\"600\"/>\n",
    "</center>\n",
    "\n",
    "Image from Allen Downey's Think Complexity (he also provides code)\n",
    "\n",
    "**Q:** It looks fractal... but is it? "
   ]
  },
  {
   "cell_type": "markdown",
   "id": "d9689493-fe6d-4c11-98e4-7cb1ecfc711e",
   "metadata": {},
   "source": [
    "**A:** To be sure we'll need to estimate the fractal dimension \n",
    "\n",
    "Box-counting dimension: \n",
    "1. count number of cells with sand in it for varying box sizes\n",
    "2. On a log-log scale, the cell counts form nearly straight lines, which indicates that we are measuring fractal dimension over a valid range of box sizes\n",
    "<center>\n",
    "<img src=\"Sand_FractalBoxCounting.png\" width=\"600\"/>\n",
    "</center>\n"
   ]
  },
  {
   "cell_type": "markdown",
   "id": "9d05b3e0-f95a-4b8f-b541-f6ff0e01180b",
   "metadata": {},
   "source": [
    "## Pink noise?\n",
    "Bak et al. originally presented the sand pile model in a paper titled *'Self-Organized Criticality: An Explanation of 1/f Noise'* (and of why it is so common in natural and engineered systems)\n",
    "\n",
    "A signal is a quantity that changes over time\n",
    "\n",
    "Any signal can be decomposed into a set of frequency components with different levels of power (amplitude or volume) \n",
    "\n",
    "The power spectrum of a signal is a function that shows the power of each frequency component. Specifically, the power, $P$, at frequency $f$ is proportional to $1/f$"
   ]
  },
  {
   "cell_type": "markdown",
   "id": "f99c1ab5-f5cc-48ec-9cad-95c2bea1cee4",
   "metadata": {},
   "source": [
    "Noise is a signal that contains many frequency components (can be found through a process called spectral analysis)\n",
    "\n",
    "There are many kinds of noise. For example, white noise is a signal that has components with equal power over a wide range of frequencies so $\\beta=0$, i.e. it has a flat Fourier spectrum. Other kinds of noise have different relationships between frequency and power\n",
    "\n",
    "In pink noise (sometimes called 'flicker noise') low-frequency components have more power than high-frequency components and $0<\\beta<2$ (between white and red noise)\n",
    "\n",
    "For the sand pile model we need a signal that can be measured when sand is toppled ($t$ and $S$)\n",
    "\n",
    "**Q:** How would we find $\\beta$ from data?"
   ]
  },
  {
   "cell_type": "markdown",
   "id": "40949b83-6a08-4aeb-814d-25c07e0aac0d",
   "metadata": {},
   "source": [
    "**Q:** How would we find $\\beta$ from data?\n",
    "\n",
    "**A:** We'll need to extract the power spectrum \n",
    "\n",
    "I am sweeping a lot of the mathematical detail under the rug here. The basic idea is to take a signal and decompose it into its individual frequency components which add up to make that signal. (This isn't assessable, we'll just assume we easily extract the power spectrum from some nice python package)\n",
    "\n",
    "Taking the $\\log$ of both sides yields\n",
    "$$\\log P(f) = -\\beta \\log f$$\n",
    "Plotting $P(f)$ versus $f$ on a log-log scale, we expect a straight line with slope $\\beta$\n",
    "\n",
    "The power spectrum of the number of toppled cells over time gives a value of $\\beta=1.58$:\n",
    "<center>\n",
    "<img src=\"Sand_PowerSpectra.png\" width=\"300\"/>\n",
    "</center>\n",
    "\n",
    "Image from Allen Downey's Think Complexity "
   ]
  },
  {
   "cell_type": "markdown",
   "id": "729d84cf-01d7-4cce-b4aa-ff50d6c87ab5",
   "metadata": {},
   "source": [
    "The sand pile model is an example of stochastic dynamics operating in a deterministic environment \n",
    "\n",
    "But we could also consider models that consist of deterministic dynamics operating in a random environment (sometimes called ‘extremal’ or ‘quenched’ models). The most important example of this type is the Bak-Sneppen model of evolution (power laws based on extinction events suggest that evolution is a SOC process. Extinctions can be viewed as avalances where death of a species triggers deaths of others)."
   ]
  },
  {
   "cell_type": "markdown",
   "id": "624205d2-4885-4976-a5b4-0718c366279d",
   "metadata": {},
   "source": [
    "# Analytics\n",
    "Mathematically, we can use mean-field approximations and renormalization group analysis to predict typical average outcomes and percolation thresholds\n",
    "\n",
    "**Mean-field approximations:** \n",
    "- describe how the macroscopic detail of system changes on average over time\n",
    "- i.e. large detail/dynamics over time\n",
    "\n",
    "**Renormalization group analysis:**\n",
    "- describes a certain property of a small part of the system and how it changes over length scales\n",
    "- i.e. small detail over space/relationships between scales\n",
    "- more comprehensive in its approach to scaling\n",
    "\n",
    "Two sides of the same coin: Both aim to simplify and understand complex systems by focusing on effective behaviours and average effects."
   ]
  },
  {
   "cell_type": "markdown",
   "id": "b322e303-e825-45ce-b6ea-f1a0633e3e25",
   "metadata": {},
   "source": [
    "## Mean-field approximation\n",
    "We saw mean-field approximation when analysing cellular automata previously\n",
    "\n",
    "Recall...\n",
    "1. reformulate the dynamics by describing the system's average state, which represents the overall behavior of all cells\n",
    "2. derive an equation that shows how this average state evolves over time based on how individual cells interact with it\n",
    "    - each cell's behaviour is viewed in relation to the average, known as the *mean field*, which is a uniform, probabilistic space\n",
    "    - we assume that each cell experiences the same average environment\n",
    "    - rather than updating every single cell based on its actual neighbours, we calculate the probability that a cell will be black or white based on the average density\n",
    "    - focus shifts from individual cell updates to the evolution of the global density of black cells over time\n",
    "3. analyse how the average state and long-term behaviour changes over time to predict the expected outcome of the process given an initial configuration\n",
    "\n",
    "This process (of averaging across the entire system) disregards spatial relationships. For this reason, you should use it with caution as it can be misleading."
   ]
  },
  {
   "cell_type": "markdown",
   "id": "68c884ee-8a64-4d96-852e-2cc48ae10ee6",
   "metadata": {},
   "source": [
    "## Renormalization group analysis (RGA)\n",
    "Used in quantum and statistical physics\n",
    "\n",
    "RGA focuses on how the system's behaviour changes as you zoom out or coarse-grain the system. It simplifies the system by averaging out details at smaller scales and analyzing the effective interactions at larger scales\n",
    "\n",
    "It's complicated and in my opinion not a fantastic method for complex systems but it is included in many classic text books\n",
    "\n",
    "It works by defining a certain property of a small part of the system and describing how it changes over length scales, not time\n",
    "\n",
    "The result is an iterative map whose long-term/large-scale behaviour can be used to make predictions or statements about the system property\n",
    "\n",
    "We'll look at a very simple example to illustrate the idea..."
   ]
  },
  {
   "cell_type": "markdown",
   "id": "cb05e58d-a142-4678-b52a-359ecf3f018a",
   "metadata": {},
   "source": [
    "## Forest fire\n",
    "https://www.complexity-explorables.org/explorables/critically-inflammatory/\n",
    "\n",
    "Assume a square lattice where the states are occupied by a tree $1$ or not $0$\n",
    "- Trees initially occupy a cell with probability $p$.  \n",
    "<!-- $p=0$ means no trees anywhere, $p=1$ means every cell has a tree -->\n",
    "- Randomly set fire to one tree\n",
    "- If an unburnt tree is next to (Moore neighbourhood) a burning tree then it catches fire\n",
    "\n",
    "Note, there is no regrowth of trees in this model and so eventually there will be a static final configuration (different to the explorable above)\n",
    "\n",
    "We want to know if percolation occurs, i.e., does the extent of the burnt trees span the lattice?"
   ]
  },
  {
   "cell_type": "markdown",
   "id": "6c2ffd69-b6ad-4667-bda0-dd6a896a8fde",
   "metadata": {},
   "source": [
    "Renormalization works by coarse-graining: dividing the system into blocks, which are replaced with simplified variables (at each step of the renormalisation) that describe whether large clusters of trees within them are connected or disconnected\n",
    "\n",
    "As the system is \"zoomed out\" through multiple renormalization steps, the behaviour of clusters at larger scales is observed\n",
    "\n",
    "Specifically:\n",
    "1. define a property of the system than can be measured at any scale. \n",
    "    - For the simple forest fire model, where we are interested in percolation, this property could be the probability, $P$, that a fire can spread from one side of the portion of the forest (of scale $s$) to another\n",
    "    \n",
    "2. calculate the property at the smallest scale $P_{1}$. \n",
    "    - one cell, and we need a tree to be present so $ P_{1} = p $\n",
    "  \n",
    "3. derive a mathematical relationship between the property at the smallest scale and the property at the next larger scale $P_{2} = \\Phi\\left[P_{1}\\right]$\n",
    "    - calculate the probability that a fire can percolate on a $2\\times 2$ grid.\n",
    "    \n",
    "By considering an exhaustive list of possible situations we see that this happens if all four cells have trees, all combinations of three cells having trees, and the four possibilities for only two cells having trees.\n",
    "\\begin{equation*}\n",
    "P_{2}=\\Phi\\left[P_{1}\\right] = P_{1}^{4} + 4P_{1}^{3}(1-P_{1})+4P_{1}^{2}(1-P_{1})^{2}.\n",
    "\\end{equation*}\n",
    "\n",
    "<center>\n",
    "<img src=\"Renormalisation_Sayama.png\" width=\"600\"/>\n",
    "</center>\n",
    "\n",
    "Image from Sayama\n",
    "\n",
    "4. *Assume* this relationship holds to predict larger scales and obtain the iterative map:\n",
    "\\begin{equation*}\n",
    "P_{s+1}=\\Phi\\left[P_{s}\\right] = P_{s}^{4} + 4P_{s}^{3}(1-P_{s})+4P_{s}^{2}(1-P_{s})^{2} \\text{ for all } s.\n",
    "\\end{equation*}    \n",
    "    \n",
    "<center>\n",
    "<img src=\"Renormalisation2_Sayama.png\" width=\"600\"/>\n",
    "</center>\n",
    "\n",
    "Image from Sayama\n",
    "\n",
    "This is clearly an approximation but does produce a difference equation whose asymptotic behaviour ($s\\to\\infty$) can be analysed (cobweb plot, determine fixed points and stability etc)\n",
    "\n",
    "It's not correct but *some kind of approximation needs to be made in order to study complex systems analytically*\n",
    "<!-- When you scale up to larger blocks, like 4×4, the interactions become more complex. Fires that start in one 2×2 block can influence adjacent 2×2 blocks. However, when looking at a 4×4 block as a whole, the spread of fire can become nonlinear due to interactions across the entire 4×4 area, which can introduce new dynamics not observed in the smaller 2×2 blocks. -->\n",
    "\n",
    "\n",
    "\n",
    "For the simple forest fire model if $P_{1}=p$ is above $0.382$ then RGA predicts percolation i.e. If the tree density in the forest is below 38%, only a small area will burn. But if the tree density is above 38%, most of the forest will be burned.\n",
    "<!-- \n",
    "**Forest fire---more complicated**\n",
    "\n",
    "Bak, Chen and Tang proposed the following rules for a forest fire model on a lattice:\n",
    "- A burning tree becomes an empty site,\n",
    "- A green tree becomes burning if at least one of its neighbours is burning,\n",
    "- At an empty site a green tree grows with probability $p$.\n",
    "\n",
    "Bak et al. claimed this exhibits SOC in the limit as $p\\to 0$.\n",
    "\n",
    "However, Drossel and Schwabl argue that this is not the case as small forest fires can't occur.\n",
    "\n",
    "So, they introduced a fourth rule modelling lightning strikes\n",
    "A tree without a burning neighbour becomes a burning tree during one time step with probability $f$.\n",
    "\n",
    " -->"
   ]
  },
  {
   "cell_type": "markdown",
   "id": "02eb3df5-da81-4f62-8611-886656eb36cd",
   "metadata": {},
   "source": [
    "# Conclusions\n",
    "\n",
    "The sand-pile model is idealised with highly oversimplifed laws of motion. *However*, it successfully explains the behaviour of diverse phenomena such as earthquakes or forest fires\n",
    "\n",
    "So much of life and nature seems to be poised at criticality. e.g. large earthquakes and some kinds of accidents are fundamentally unpredictable\n",
    "\n",
    "There is strong support and empirical evidence suggesting that SOC is key to understanding how the world works\n",
    "- Per Bak (1997, title) claims to have discovered ‘how nature works’\n",
    "<!-- - Creutz (1997, p. 147) thinks that ‘[t]he idea provides a possible “explanation” of the omnipresent multi-scale structures throughout the natural world’ (my emphasis)\n",
    "- Paczuski and Bak (1999, p. 2) assert that ‘punctuated equilibrium [i.e. SOC] dynamics is the essential dynamical process for everything that evolves and becomes complex’ (my emphasis)\n",
    "- Blanchard and co-workers (1999, p. 375) observe that SOC has become a ‘new paradigm for the explanation of a huge variety of phenomena in nature as well as social science’\n",
    "- Buchanan (2000, title) thinks that SOC is ‘ubiquitous’ and has discovered ‘why the world is simpler than we think’ -->\n",
    "\n",
    "But is SOC ubiquitous? And in what sense is SOC a general feature of nature? \n",
    "\n",
    "We still don't know\n",
    "\n",
    "SOC is no longer seen as the sole framework to explain multi-scale phenomena\n",
    "\n",
    "It is now understood as part of a broader collection of mechanisms (including the importance of network topologies and non-equilibrium models), rather than a universal theory.\n",
    "\n",
    "What we do know is that it is impossible to look at the state of a critical system and say whether a large avalanche is 'due'. If the system is in a critical state, then a large avalanche is always possible... It just depends on the next grain of sand."
   ]
  },
  {
   "cell_type": "markdown",
   "id": "67d26bbc-2614-4b1c-9c8e-8635b235018c",
   "metadata": {},
   "source": [
    "# References\n",
    "Cellular automata introduction and RGA:\n",
    "- Sayama H, 'Introduction to the modeling and analysis of complex systems,' OpenSUNY textbooks, (2015).\n",
    "- Self-organized criticality, sandpile model\n",
    "- Bak P, Tang C, Wiesenfeld K, 'Self-organized criticality: an explanation of $1/f$ noise,' Physical Review Letters, 59, 381--384 (1987).\n",
    "- Bak P, Tang C, Wiesenfeld K, 'Self-organized criticality,' Physical Review A, 38, 364--374 (1988).\n",
    "\n",
    "Forest fire and earthquake models:\n",
    "- Bak P, Chen K, Tang C, 'A forest-fire model and some thoughts on turbulence,' Physics Letters A, 147, 297--300 (1990).\n",
    "- Drossel B, Schwabl F, 'Self-organized critical forest-fire model,' Physical Review Letters, 69, 1629--1632 (1992).\n",
    "- Olami Z, Feder HJS, Christensen K, 'Self-organized criticality in a continuous, nonconservative cellular automaton modeling earthquakes,' Physical Review Letters, 68, 1244--1247 (1992).\n"
   ]
  }
 ],
 "metadata": {
  "@webio": {
   "lastCommId": null,
   "lastKernelId": null
  },
  "celltoolbar": "Slideshow",
  "kernelspec": {
   "display_name": "Python 3 (ipykernel)",
   "language": "python",
   "name": "python3"
  },
  "language_info": {
   "codemirror_mode": {
    "name": "ipython",
    "version": 3
   },
   "file_extension": ".py",
   "mimetype": "text/x-python",
   "name": "python",
   "nbconvert_exporter": "python",
   "pygments_lexer": "ipython3",
   "version": "3.11.13"
  },
  "toc": {
   "base_numbering": 1,
   "nav_menu": {},
   "number_sections": true,
   "sideBar": true,
   "skip_h1_title": false,
   "title_cell": "Table of Contents",
   "title_sidebar": "Contents",
   "toc_cell": false,
   "toc_position": {},
   "toc_section_display": true,
   "toc_window_display": false
  }
 },
 "nbformat": 4,
 "nbformat_minor": 5
}

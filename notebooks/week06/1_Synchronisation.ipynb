{
 "cells": [
  {
   "cell_type": "markdown",
   "id": "7c6ff6ab",
   "metadata": {
    "editable": true,
    "slideshow": {
     "slide_type": "slide"
    },
    "tags": [
     "slides"
    ]
   },
   "source": [
    "# Synchronisation \n",
    "Choreography *can* give rise to synchrony but also we don't need it (recall, starling murmurations).\n",
    "\n",
    "Synchronisation is typically celebrated e.g. to be in sync with the music as we dance or being in sync with teammates on the field."
   ]
  },
  {
   "cell_type": "markdown",
   "id": "f53f0da6",
   "metadata": {
    "editable": true,
    "slideshow": {
     "slide_type": "subslide"
    },
    "tags": [
     "slides"
    ]
   },
   "source": [
    "But it can be bad too e.g. epilepsy and Parkinsons are thought to be cases of too much synchrony, Millenium bridge in London."
   ]
  },
  {
   "cell_type": "code",
   "execution_count": 1,
   "id": "b3891fbd",
   "metadata": {
    "editable": true,
    "slideshow": {
     "slide_type": "fragment"
    },
    "tags": [
     "slides"
    ]
   },
   "outputs": [
    {
     "data": {
      "image/jpeg": "[encoded data removed]",
      "text/html": [
       "\n",
       "        <iframe\n",
       "            width=\"400\"\n",
       "            height=\"300\"\n",
       "            src=\"https://www.youtube.com/embed/eAXVa__XWZ8\"\n",
       "            frameborder=\"0\"\n",
       "            allowfullscreen\n",
       "            \n",
       "        ></iframe>\n",
       "        "
      ],
      "text/plain": [
       "<IPython.lib.display.YouTubeVideo at 0x10fa4cb90>"
      ]
     },
     "execution_count": 1,
     "metadata": {},
     "output_type": "execute_result"
    }
   ],
   "source": [
    "from IPython.display import YouTubeVideo\n",
    "YouTubeVideo(\"eAXVa__XWZ8\", width=400)\n",
    "# <!-- https://www.youtube.com/watch?v=eAXVa__XWZ8 -->"
   ]
  },
  {
   "cell_type": "markdown",
   "id": "c530ba90",
   "metadata": {
    "editable": true,
    "slideshow": {
     "slide_type": "subslide"
    },
    "tags": [
     "slides"
    ]
   },
   "source": [
    "**Some definitions for synchronisation:** \n",
    "- a state in which two or more processes/events are coordinated in time\n",
    "- a tendency towards spontaneous order that seems to oppose entropy i.e. a process of self-organisation (more of a Complex Systems perspective)"
   ]
  },
  {
   "cell_type": "markdown",
   "id": "03796625-2021-4d38-b9b2-4c974bc374d4",
   "metadata": {
    "editable": true,
    "slideshow": {
     "slide_type": "subslide"
    },
    "tags": [
     "slides"
    ]
   },
   "source": [
    "What are the minimum requirements for spontaneous synchronisation to ocur? \n"
   ]
  },
  {
   "cell_type": "markdown",
   "id": "f63f84f5-411b-4899-9ae5-f9f7a8f3eff6",
   "metadata": {
    "editable": true,
    "slideshow": {
     "slide_type": "fragment"
    },
    "tags": [
     "slides"
    ]
   },
   "source": [
    "\n",
    "Do you need to have a brain? \n"
   ]
  },
  {
   "cell_type": "markdown",
   "id": "e43a0126-ab57-41d2-ba79-a45000445f7e",
   "metadata": {
    "editable": true,
    "slideshow": {
     "slide_type": "fragment"
    },
    "tags": [
     "slides"
    ]
   },
   "source": [
    "\n",
    "Do you even need to be alive?\n"
   ]
  },
  {
   "cell_type": "code",
   "execution_count": 4,
   "id": "f9cb8506-bd5b-487b-8f6e-ad0ab31b308e",
   "metadata": {
    "editable": true,
    "slideshow": {
     "slide_type": "fragment"
    },
    "tags": [
     "slides"
    ]
   },
   "outputs": [
    {
     "data": {
      "text/html": [
       "\n",
       "        <iframe\n",
       "            width=\"400\"\n",
       "            height=\"300\"\n",
       "            src=\"https://www.youtube.com/embed/JWToUATLGzs\"\n",
       "            frameborder=\"0\"\n",
       "            allowfullscreen\n",
       "            \n",
       "        ></iframe>\n",
       "        "
      ],
      "text/plain": [
       "<IPython.lib.display.YouTubeVideo at 0x10ffefb10>"
      ]
     },
     "execution_count": 4,
     "metadata": {},
     "output_type": "execute_result"
    }
   ],
   "source": [
    "from IPython.display import YouTubeVideo\n",
    "YouTubeVideo(\"JWToUATLGzs\", width=400)                                         "
   ]
  },
  {
   "cell_type": "markdown",
   "id": "33036a9c",
   "metadata": {
    "editable": true,
    "slideshow": {
     "slide_type": ""
    },
    "tags": [
     "reader-only"
    ]
   },
   "source": [
    "\n",
    "**Inanimate objects**: \n",
    "- electrons in superconductors synchronise their vibrations to allow for superconductivity, allowing electrical current to pass through it with minimal resistance\n",
    "- laser is syncronised light (regular light is scattered)\n",
    "\n",
    "**Man-made systems**:\n",
    "- traders on financial markets \n",
    "- London bridge\n",
    "- power grids may require matching the frequency, phase and voltage of a generator or other source to an electrical grid in order to transfer power\n",
    "\n",
    "**But nature has the best examples**: sync is a pervasive driver from subatomic to cosmos scales\n",
    "- the flocks we spent time on last week were synchronised\n",
    "- excitation of neurons in brain can synchronise with each other to allow different brain areas to communicate with each other\n",
    "- pacemaker cells fire electrical discharges synchronously to ensure heart beats properly."
   ]
  },
  {
   "cell_type": "markdown",
   "id": "b2e8da51",
   "metadata": {
    "editable": true,
    "slideshow": {
     "slide_type": "slide"
    },
    "tags": [
     "slides"
    ]
   },
   "source": [
    "# Fireflies\n",
    "Synchronisation is observed in the firing patterns fireflies as they blink (bioluminescence) in unison with one another."
   ]
  },
  {
   "cell_type": "markdown",
   "id": "44e88407-1025-44d9-bb38-5e1b5b83b746",
   "metadata": {
    "editable": true,
    "slideshow": {
     "slide_type": ""
    },
    "tags": [
     "reader-only"
    ]
   },
   "source": [
    "The display is known for ['bettering the stars' (Richard Newman](https://writersalmanac.publicradio.org/index.php%3Fdate=2006%252F05%252F22.html).\n",
    "\n",
    "We study fireflies, not really for the fireflies themselves but to work towards understanding synchronisation generally as it might help crack any number of riddles in cellular biology, animal communication and even swarm robotics."
   ]
  },
  {
   "cell_type": "code",
   "execution_count": 2,
   "id": "2e3d0f60",
   "metadata": {
    "editable": true,
    "scrolled": true,
    "slideshow": {
     "slide_type": "fragment"
    },
    "tags": [
     "slides"
    ]
   },
   "outputs": [
    {
     "data": {
      "image/jpeg": "[encoded data removed]",
      "text/html": [
       "\n",
       "        <iframe\n",
       "            width=\"1000\"\n",
       "            height=\"300\"\n",
       "            src=\"https://www.youtube.com/embed/ZGvtnE1Wy6U\"\n",
       "            frameborder=\"0\"\n",
       "            allowfullscreen\n",
       "            \n",
       "        ></iframe>\n",
       "        "
      ],
      "text/plain": [
       "<IPython.lib.display.YouTubeVideo at 0x110003f90>"
      ]
     },
     "execution_count": 2,
     "metadata": {},
     "output_type": "execute_result"
    }
   ],
   "source": [
    "from IPython.display import YouTubeVideo\n",
    "\n",
    "YouTubeVideo(\"ZGvtnE1Wy6U\", width=1000) #video from here: https://www.youtube.com/watch?v=ZGvtnE1Wy6U"
   ]
  },
  {
   "cell_type": "markdown",
   "id": "b3146bd2",
   "metadata": {
    "editable": true,
    "slideshow": {
     "slide_type": ""
    },
    "tags": [
     "reader-only"
    ]
   },
   "source": [
    "## How do they do it?\n",
    "\n",
    "**Early theories:** Twitching eyelids, human tendency to see patterns where there are none, fireflies' light-producing organs being aligned by the wind.\n",
    "\n",
    "**Physically:** neurotransmitter triggers a chemical reaction in the lantern. (It's not really known how they control the flashing. The current theory is something to do with oxygen regulation).\n",
    "\n",
    "**Motivation:** courtship rituals, a sort of dialogue allowing males and females to locate each other. Species-specific on/off light pattern repeated periodically. Male fireflies are reinforcing the message to the females. If the female is interested, she waits some time before making a flash of her own.\n",
    " \n",
    "Insects are visible as flashing adults for only about ten days each year, and even then, they produce flashes for just a few hours each night. As a result, opportunities to observe them are fleeting, data collection in the wild is challenging, and laboratory cultivation remains difficult. This means the data is scarce and limited."
   ]
  },
  {
   "cell_type": "markdown",
   "id": "f00a0844",
   "metadata": {
    "editable": true,
    "slideshow": {
     "slide_type": "subslide"
    },
    "tags": [
     "slides"
    ]
   },
   "source": [
    "## Modelling fireflies\n",
    "\n",
    "All hail [Nicky Case](https://ncase.me/fireflies/)!\n",
    "\n",
    "![](images/Nicky_Case_fireflies.png)"
   ]
  },
  {
   "cell_type": "markdown",
   "id": "724ea832-183e-470b-a843-9890ff945f34",
   "metadata": {
    "editable": true,
    "slideshow": {
     "slide_type": ""
    },
    "tags": [
     "reader-only"
    ]
   },
   "source": [
    "Each firefly has its own individual internal clock, and every time the clock “strikes twelve”, it flashes.\n",
    "\n",
    "Update rule: when you see a nearby firefly flash, nudge your clock a little bit forward.\n",
    "\n",
    "This explorable is pretty but it isn't particularly detailed mathematically... \n"
   ]
  },
  {
   "cell_type": "markdown",
   "id": "6bc2326a-1cb2-4ee0-8755-70daf895c4db",
   "metadata": {
    "editable": true,
    "slideshow": {
     "slide_type": ""
    },
    "tags": [
     "reader-only"
    ]
   },
   "source": [
    "<div style=\"border-left: 4px solid #1e70bf; padding: 0.75em; background-color: #eaf3fb; margin-bottom: 1em;\">\n",
    "  <strong>Modelling:</strong><br>\n",
    "How do we represent an individual's internal clock?\n",
    "    </div>"
   ]
  },
  {
   "cell_type": "markdown",
   "id": "fab30e64-a392-4273-90b6-a336e3d0ba1d",
   "metadata": {
    "editable": true,
    "slideshow": {
     "slide_type": ""
    },
    "tags": [
     "reader-only"
    ]
   },
   "source": [
    "```{toggle}\n",
    "A clock, or at least the hand on a clock, can be thought of as a sinusoidal time series, i.e. a one dimensional signal.\n",
    "```"
   ]
  },
  {
   "cell_type": "markdown",
   "id": "6b8002e9",
   "metadata": {
    "editable": true,
    "slideshow": {
     "slide_type": "slide"
    },
    "tags": [
     "slides"
    ]
   },
   "source": [
    "# Dynamics *on* networks\n",
    "\n",
    "We will explore synchronisation via the **Kuramoto model**. \n",
    "\n",
    "Proposed by Japanese physicist Yoshiki Kuramoto in the 1970s. \n"
   ]
  },
  {
   "cell_type": "markdown",
   "id": "6b1a64f4-81b2-4d40-8d1f-7412c5aa286e",
   "metadata": {
    "editable": true,
    "slideshow": {
     "slide_type": ""
    },
    "tags": [
     "reader-only"
    ]
   },
   "source": [
    "This model falls under the category 'dynamics *on* networks' i.e. the dynamics are occurring at the nodes of a (static) network.\n",
    "\n",
    "What do I mean by *dynamics* for students who haven't done MATH3021: Differential equations, or some other rules (hierarchical, rule-based recipes etc) governing some of the evolution of individual components of a complex system.\n",
    "\n",
    "What do I mean by a *network* for students who haven't done MATH3002: Individual components of the system are interacting via some notion of connectedness"
   ]
  },
  {
   "cell_type": "markdown",
   "id": "45a0fbd8",
   "metadata": {
    "editable": true,
    "slideshow": {
     "slide_type": ""
    },
    "tags": [
     "reader-only"
    ]
   },
   "source": [
    "## Internal dynamics\n",
    "\n",
    "So far, the agent states in our ABMs have evolved in response to their local environment. \n",
    "\n",
    "If that local environment wasn't there, then there would be no change. e.g. a Vicsek agent will not change its direction (except for some noise) if it doesn't have any neighbours to interact with.\n",
    "\n",
    "But the state of an agent may also have its own internal dynamics e.g. a bird's energy levels might evolve with a circadian rhythm.\n",
    "\n",
    "Mathematically, an oscillator is a dynamic system that exhibits periodic or repetitive behaviour, e.g. a pendulum, or the internal clock of a firefly."
   ]
  },
  {
   "cell_type": "markdown",
   "id": "9a9788dd-f348-4093-97be-b9c8ba5968a9",
   "metadata": {
    "editable": true,
    "slideshow": {
     "slide_type": ""
    },
    "tags": [
     "reader-only"
    ]
   },
   "source": [
    "## Kuramoto model explorables (and variations)\n"
   ]
  },
  {
   "cell_type": "markdown",
   "id": "658fa9ca",
   "metadata": {
    "editable": true,
    "slideshow": {
     "slide_type": "fragment"
    },
    "tags": [
     "slides"
    ]
   },
   "source": [
    "\n",
    "- **Standard Kuramoto**: [Ride my Kuramotocycle](https://www.complexity-explorables.org/explorables/ride-my-kuramotocycle/)\n",
    "- **Kuramoto on a lattice**: [Spin wheels](https://www.complexity-explorables.org/explorables/spin-wheels/)\n",
    "- **Kuramoto + swarm dynamics**: [Swårmalätørs](https://www.complexity-explorables.org/explorables/swarmalators/)\n",
    "- **Pulse oscillators on a lattice**: [Dr. Fibryll & Mr. Glyde](https://www.complexity-explorables.org/explorables/dr-fibryll-and-mr-glyde/)\n",
    "- **Pulse oscillators + swarm dynamics**: [Fireflies](https://ncase.me/fireflies/) The oscillators are switching between one of two states, in this case, the fireflies’ ‘on’ or ‘off’ "
   ]
  },
  {
   "cell_type": "markdown",
   "id": "d66bb678",
   "metadata": {
    "editable": true,
    "slideshow": {
     "slide_type": "slide"
    },
    "tags": [
     "slides"
    ]
   },
   "source": [
    "# Other types of Dynamical Networks \n",
    "(We won't spend much time on these)"
   ]
  },
  {
   "cell_type": "markdown",
   "id": "4549223a",
   "metadata": {
    "editable": true,
    "slideshow": {
     "slide_type": ""
    },
    "tags": [
     "reader-only"
    ]
   },
   "source": [
    "## Dynamics *of* networks\n",
    "\n",
    "The key here is *temporal change* that allows the network to evolve, self-organise, adapt and grow over time.\n",
    "\n",
    "e.g. the construction of a Watts–Strogatz small-world network can be viewed as an evolutionary process, where edges in an initially $k$-regular graph are gradually rewired, transforming the structure from regular to random.\n",
    "\n",
    "- **BA preferential attachment**: [Knitworks](https://www.complexity-explorables.org/explorables/knitworks/)"
   ]
  },
  {
   "cell_type": "markdown",
   "id": "b74ea1fd",
   "metadata": {
    "editable": true,
    "slideshow": {
     "slide_type": ""
    },
    "tags": [
     "reader-only"
    ]
   },
   "source": [
    "## Adaptive networks\n",
    "\n",
    "Of course, both of these types of dynamics (on, and of, networks) could be occuring at the same time, perhaps with interaction, perhaps on the same or on different time scales.\n",
    "\n",
    "These are **'adaptive networks'**.\n",
    "\n",
    "A good example is epidemic spread, where the network is temporal as people come into and out of contact with each other and the disease spread occurs dynamically on this network. The propagation of the disease is a function of the changing topology of the network and the network is changing as a function of how the disease propagates.\n",
    "\n",
    "The standard SIS (Susceptible-Infected-Susceptible) model assumes a fixed network but we don't need to think too far into the past to understand that our social connections can be disrupted because of how a disease is propagating! \n",
    "\n",
    "An implementation of the SIS model can be found here: [I herd you](https://www.complexity-explorables.org/explorables/i-herd-you/)."
   ]
  },
  {
   "cell_type": "markdown",
   "id": "3fd87063-07a0-4c46-87d5-2a30a18a5fa5",
   "metadata": {
    "editable": true,
    "slideshow": {
     "slide_type": ""
    },
    "tags": []
   },
   "source": [
    "# Oscillators\n",
    "Dynamical systems can exhibit self-excited oscillations or periodic behaviour.\n",
    "\n",
    "Such systems are referred to as **oscillators**."
   ]
  },
  {
   "cell_type": "markdown",
   "id": "89b5acda-60b0-4b33-af0c-2223d5c4e94b",
   "metadata": {
    "editable": true,
    "slideshow": {
     "slide_type": "subslide"
    },
    "tags": [
     "slides"
    ]
   },
   "source": [
    "## A single oscillator\n",
    "i.e. a point moving round a circle\n",
    "\n",
    "Consider vector fields on the circle:\n",
    "\n",
    "$$\n",
    "\\dot{\\theta}=f(\\theta)\n",
    "$$\n",
    "\n",
    "$\\theta$ is the angle, or phase, and determines where on the circle one is. \n",
    "\n",
    "By moving around the circle we can return to our starting point and so we have periodic solutions.\n"
   ]
  },
  {
   "cell_type": "markdown",
   "id": "9edb4485-fe1c-4c35-9a78-6064f184814f",
   "metadata": {
    "editable": true,
    "slideshow": {
     "slide_type": "subslide"
    },
    "tags": [
     "slides"
    ]
   },
   "source": [
    "### Simple oscillators\n",
    "\n",
    "$$\n",
    "\\dot{\\theta}=\\omega,\n",
    "$$\n",
    "\n",
    "where $\\omega$ is a constant. \n",
    "\n",
    "Hence, $\\theta=\\omega t + \\theta_0$. \n",
    "\n",
    "So simple oscillators have uniform, periodic motion around a circle at angular frequency $\\omega$ and period $T=\\frac{2\\pi}{\\omega}$ (we're ignoring amplitude).\n"
   ]
  },
  {
   "cell_type": "markdown",
   "id": "8019c66b-7097-4c8a-a824-ab20aff7747c",
   "metadata": {
    "editable": true,
    "slideshow": {
     "slide_type": ""
    },
    "tags": [
     "reader-only"
    ]
   },
   "source": [
    "\n",
    "More complicated vector fields could be considered such as $f(\\theta)=\\sin(\\theta)$, which has two fixed points $\\theta^* = 0, \\pi$."
   ]
  },
  {
   "cell_type": "markdown",
   "id": "a8e77228-0638-42c3-8d25-dadaece76923",
   "metadata": {
    "editable": true,
    "slideshow": {
     "slide_type": ""
    },
    "tags": []
   },
   "source": [
    "## Two (uncoupled) simple oscillators\n",
    "i.e. two points moving around a circle independently of each other:\n",
    "\n",
    "$$\n",
    "\\dot{\\theta}_1=\\omega_1, \\quad \\dot{\\theta}_1=\\omega_2\n",
    "$$\n",
    "\n",
    "Initialising the oscillators at the same location then after some time the angle between them, their phase difference, is:\n",
    "\n",
    "$$\n",
    "\\phi=\\theta_1-\\theta_2\n",
    "$$\n",
    "\n",
    "To determine when the points will next be at the same location in time we note:\n",
    "\n",
    "$$\n",
    "\\dot{\\phi}=\\dot{\\theta}_1- \\dot{\\theta}_2=\\omega_1-\\omega_2\n",
    "$$\n",
    "\n",
    "which is sort of like another oscillator with period $T=\\frac{2\\pi}{\\omega_1-\\omega_2}$. \n",
    "\n",
    "i.e. $\\phi$ increases by $2\\pi$ and oscillator 1 laps oscillator 2 after $T=\\Big(\\frac{1}{T_1}-\\frac{1}{T_2}\\Big)^{-1}$. \n",
    "\n",
    "This is an example of beat phenomenon."
   ]
  },
  {
   "cell_type": "markdown",
   "id": "a5c448eb-a25b-49c0-87df-9c05d3c85873",
   "metadata": {
    "editable": true,
    "slideshow": {
     "slide_type": ""
    },
    "tags": []
   },
   "source": [
    "### Detail\n",
    "The difference in their frequencies (inversely related to their periods) causes one oscillator to gradually gain on the other.\n",
    "\n",
    "The phase of each oscillator at time $t$ can be expressed as:\n",
    "- Oscillator 1: $ \\theta_1(t) = \\frac{2\\pi t}{T_1} $\n",
    "- Oscillator 2: $ \\theta_2(t) = \\frac{2\\pi t}{T_2} $\n",
    "\n",
    "And hence phase difference at any time $t$ is given by:\n",
    "\n",
    "$$\n",
    "\\Delta \\theta(t) = \\theta_1(t) - \\theta_2(t) = \\frac{2\\pi t}{T_1} - \\frac{2\\pi t}{T_2} = 2\\pi t \\left( \\frac{1}{T_1} - \\frac{1}{T_2} \\right)\n",
    "$$\n",
    "\n",
    "One oscillator laps the other when the phase difference reaches $2\\pi$, meaning one oscillator has completed exactly one more cycle than the other. So, we set $\\Delta \\theta(t) = 2\\pi$:\n",
    "\n",
    "$$\n",
    "2\\pi t \\left( \\frac{1}{T_1} - \\frac{1}{T_2} \\right) = 2\\pi\n",
    "$$\n",
    "\n",
    "\n",
    "Solving for $t$:\n",
    "\n",
    "$$\n",
    "t = \\frac{1}{\\frac{1}{T_1} - \\frac{1}{T_2}} = \\left( \\frac{1}{T_1} - \\frac{1}{T_2} \\right)^{-1}\n",
    "$$\n",
    "\n",
    "This $t$ is the time $T$ after which Oscillator 1 laps Oscillator 2."
   ]
  },
  {
   "cell_type": "code",
   "execution_count": 5,
   "id": "a5526170-d518-4698-920a-7ab15d9ba029",
   "metadata": {
    "editable": true,
    "slideshow": {
     "slide_type": ""
    },
    "tags": []
   },
   "outputs": [
    {
     "data": {
      "image/png": "[encoded data removed]",
      "text/plain": [
       "<Figure size 600x600 with 3 Axes>"
      ]
     },
     "metadata": {},
     "output_type": "display_data"
    }
   ],
   "source": [
    "import numpy as np\n",
    "import matplotlib.pyplot as plt\n",
    "\n",
    "# Parameters\n",
    "sampling_rate = 1000  # Sampling rate in Hz\n",
    "duration = 2  # Duration of the simulation in seconds\n",
    "frequency_1 = 10  # Frequency of the first oscillator in Hz\n",
    "frequency_2 = 11  # Frequency of the second oscillator in Hz\n",
    "\n",
    "# Time array\n",
    "t = np.linspace(0, duration, int(sampling_rate * duration))\n",
    "\n",
    "# Oscillator signals\n",
    "signal_1 = np.sin(2 * np.pi * frequency_1 * t)\n",
    "signal_2 = np.sin(2 * np.pi * frequency_2 * t)\n",
    "\n",
    "# Combined signal (beat phenomenon)\n",
    "combined_signal = signal_1 + signal_2\n",
    "\n",
    "# Plotting\n",
    "plt.figure(figsize=(6, 6))\n",
    "\n",
    "plt.subplot(3, 1, 1)\n",
    "plt.plot(t, signal_1, label='Oscillator 1')\n",
    "plt.xlabel('Time (s)')\n",
    "plt.ylabel('Amplitude')\n",
    "plt.legend()\n",
    "plt.legend(loc='upper right', bbox_to_anchor=(0.99, 0.99))\n",
    "\n",
    "plt.subplot(3, 1, 2)\n",
    "plt.plot(t, signal_2, label='Oscillator 2', color='orange')\n",
    "plt.xlabel('Time (s)')\n",
    "plt.ylabel('Amplitude')\n",
    "plt.legend()\n",
    "plt.legend(loc='upper right', bbox_to_anchor=(0.99, 0.99))\n",
    "\n",
    "plt.subplot(3, 1, 3)\n",
    "plt.plot(t, combined_signal, label='Linearly combined signals', color='green')\n",
    "plt.xlabel('Time (s)')\n",
    "plt.ylabel('Amplitude')\n",
    "plt.legend()\n",
    "plt.legend(loc='upper right', bbox_to_anchor=(0.99, 0.99))\n",
    "\n",
    "plt.tight_layout()\n",
    "plt.show()"
   ]
  },
  {
   "cell_type": "markdown",
   "id": "1fb2ab6f-d463-4658-9dea-62fa34b66c5a",
   "metadata": {
    "editable": true,
    "slideshow": {
     "slide_type": ""
    },
    "tags": []
   },
   "source": [
    "# Synchronisation\n",
    "Synchronisation occurs when coupled dynamical systems suddenly start to behave coherently together.\n",
    "\n",
    "It is a key type of emergent collective phenomena that may be observed in complex systems.\n"
   ]
  },
  {
   "cell_type": "code",
   "execution_count": null,
   "id": "28f10bb0-6a81-40f0-8841-f920701a8e7e",
   "metadata": {
    "editable": true,
    "slideshow": {
     "slide_type": ""
    },
    "tags": []
   },
   "outputs": [],
   "source": [
    "\n",
    "It was first famously tackled by Dutch scientist Christiaan Huygens back in the 17th century as he attempted to solve the longitude problem for sailors. In an effort to improve the accuracy of timekeeping Huygens invented the pendulum clock and spoke of “the sympathy of two clocks” to describe their ability to synchonise. \n",
    "The synchronisation was due to weak coupling between the pendulums via the vibrations transmitted through the common wooden beam support (the fact that they synchronised ensured they were keeping the same time, which was not practically possible with two separate clocks)."
   ]
  },
  {
   "cell_type": "markdown",
   "id": "c52b429a-0a40-42a0-b8da-bb60f0b652ac",
   "metadata": {},
   "source": [
    "## Coupling \n",
    "\n",
    "Coupling can be the result of different types of interaction:\n",
    "- **physical** e.g. mechanical systems or the metronomes that influence each other via the table they are on\n",
    "- **informational** e.g. communication networks, where nodes transmit and receive data/signals\n",
    "- **feedback** via a closed-loop interaction where the output of one system is fed back as an input to the other system e.g. thermostat-controlled heating system in a room where the output (room temperature) influences the input (heating system activation), which in turn affects the output \n",
    "- **functional** with behaviour of one system relying on the output or input of the other system. e.g. the heart and lungs in the circulatory system\n",
    "\n",
    "The coupling can be uni-directional with one system driving the other or bi-directional with the systems mutually coupled\n",
    "\n",
    "So what happens when two (or more) oscillators are coupled? Will we still observe beat phenomena? "
   ]
  },
  {
   "cell_type": "markdown",
   "id": "c40466e3-cbf0-4e4d-9ae8-29b40fad51f2",
   "metadata": {},
   "source": [
    "### Two coupled oscillators\n",
    "i.e. that there is an interaction or influence between two points as they move around a circle, which affects their behaviour/dynamics\n",
    "\n",
    "Consider two oscillators where the second drives the first. We want to model the following behaviour:\n",
    "- If the first oscillator lags the second it will speed up\n",
    "- If the first oscillator is ahead of the second it will slow down"
   ]
  },
  {
   "cell_type": "markdown",
   "id": "fc876c26-0e77-4b6a-9f0e-624229e703fe",
   "metadata": {
    "editable": true,
    "slideshow": {
     "slide_type": ""
    },
    "tags": []
   },
   "source": [
    "\n",
    "One such coupling that achieves this is to modify the dynamics of the first oscillator to:\n",
    "\n",
    "$$\n",
    "\\dot{\\theta}_1 = \\omega_1+K\\sin(\\theta_2-\\theta_1)\n",
    "$$\n",
    "\n",
    "$K>0$ is a constant *coupling strength* that controls how strong the influence of the driving oscillator is\n",
    "\n",
    "The $\\sin(\\theta)$ function here ensures that two oscillators are close in physical space (rather than angular space). It also captures a coupling strength and direction that depends on the relative phase\n",
    "\n",
    "The dynamics of the phase difference $\\phi=\\theta_2-\\theta_1$ is:\n",
    "\n",
    "$$\n",
    "\\dot{\\phi}=\\dot{\\theta}_2-\\dot{\\theta}_1=\\omega_2-\\omega_1-K\\sin\\phi\n",
    "$$\n",
    "\n",
    "This is a non-uniform oscillator and so things get interesting."
   ]
  },
  {
   "cell_type": "markdown",
   "id": "97517102-7b0e-476f-8b5e-94b54fecbd27",
   "metadata": {
    "editable": true,
    "slideshow": {
     "slide_type": ""
    },
    "tags": []
   },
   "source": [
    "#### Non-dimensionalisation\n",
    "\n",
    "To simplify the analysis we can remove unnecessary units and make any equations more general\n",
    "\n",
    "For example, non-dimensionalised units of time let us express time in a system without using standard units like seconds, minutes, or hours. Instead, time is scaled by a characteristic time scale specific to the system under consideration:\n",
    "\n",
    "We define dimensionless parameters:\n",
    "\n",
    "$$\n",
    "\\tau=Kt\n",
    "$$\n",
    "\n",
    "$$\n",
    "\\mu=\\frac{\\omega_2-\\omega_1}{K}\n",
    "$$\n",
    "\n",
    "We can now rewrite the dynamics of the phase difference in terms of our non-dimensionalised parameters: \n",
    "\n",
    "$$\n",
    "\\dot{\\phi}=\\dot{\\theta}_2-\\dot{\\theta}_1=\\omega_2-\\omega_1-K\\sin\\phi\n",
    "$$\n",
    "\n",
    "Hence:\n",
    "\n",
    "$$\n",
    "\\frac{d\\phi}{d\\tau}=\\mu-\\sin\\phi\n",
    "$$\n",
    "\n",
    "So what do we do with this...?"
   ]
  },
  {
   "cell_type": "markdown",
   "id": "27a0972d-1e33-4520-8759-965854bf688b",
   "metadata": {
    "editable": true,
    "slideshow": {
     "slide_type": ""
    },
    "tags": []
   },
   "source": [
    "### Classifying the behaviour (if you've done MATH3021)\n",
    "\n",
    "If you've done MATH3021 you wouldn't dream of trying to analytically solve this equation:\n",
    "\n",
    "$$\n",
    "\\frac{d\\phi}{d\\tau}=\\mu-\\sin\\phi\n",
    "$$\n",
    "\n",
    "Instead, you'd sketch the phase portrait of $\\phi$ vs $\\dot{\\phi}=\\mu-\\sin\\phi$ and analyse its fixed points and their stability\n",
    "\n",
    "The fixed points exist when $\\mu=\\sin\\phi$:\n",
    "   - If $ |\\mu| \\leq 1 $, there are two fixed points given by $ \\phi = \\arcsin(\\mu) $ and $\\phi = \\pi - \\arcsin(\\mu) $.\n",
    "   - If $|\\mu| > 1$, there are no real fixed points because $\\sin\\phi$ can only take values in the interval $[-1, 1]$."
   ]
  },
  {
   "cell_type": "markdown",
   "id": "47c6f69b-7aff-46a0-81ac-806078fc1682",
   "metadata": {
    "editable": true,
    "slideshow": {
     "slide_type": ""
    },
    "tags": []
   },
   "source": [
    "To determine the stability of the fixed points we linearise the equation around each fixed point by computing the derivative of the right-hand side with respect to $\\phi$:\n",
    "\n",
    "$$\n",
    "\\frac{d}{d\\phi}\\left(\\mu - \\sin\\phi\\right) = -\\cos\\phi\n",
    "$$\n",
    "\n",
    "At the fixed points $\\phi^*$ where $\\sin\\phi^* = \\mu$, the stability is determined by the sign of $-\\cos\\phi^*$:\n",
    "\n",
    "- **Stable Fixed Point**: If $-\\cos\\phi^* < 0$ (i.e., $\\cos\\phi^* > 0$), the fixed point is **stable**. \n",
    "<!--    Perturbations around this point will decay over time, leading the system back to the fixed point. -->\n",
    "   - **Unstable Fixed Point**: If $-\\cos\\phi^* > 0$ (i.e., $\\cos\\phi^* < 0$), the fixed point is **unstable**. \n",
    "<!--    Perturbations will grow over time, causing the system to move away from the fixed point. -->\n",
    "\n",
    "\n",
    "Interpreting this in the context of synchronisation:\n",
    "- **Complete:** oscillators oscillate with the same frequency and have identical phases $\\phi=n\\pi$, where $n$ is even\n",
    "- **Phase-locked:** oscillators maintain a constant phase difference relative to each other but may have different frequencies\n",
    "    - this will occur for all other values of $\\phi$\n",
    "- **Phase drift:** a specific form of partial synchronisation where the phases of the oscillators exhibit a constant phase difference that changes at a steady rate\n",
    "    - will occurr if $|\\mu|>1$ as there are no fixed points\n",
    "<!-- - **Unsynchronised:** no coherent phase relationship, leading to desynchronised behavior where oscillators operate nearly independently of each other -->"
   ]
  },
  {
   "cell_type": "markdown",
   "id": "19954c53-e7ab-42e1-96f0-be18ea5ef4ae",
   "metadata": {},
   "source": [
    "### Classifying the behaviour in general\n",
    "We don't always have such clean equations for analysis. We may not have any equations at all.\n",
    "\n",
    "In these cases, it might be sufficient to view the trajectories of the individuals that make up the system to determine the type of (if any) synchronisation that has occurred"
   ]
  },
  {
   "cell_type": "code",
   "execution_count": null,
   "id": "3d8b3526-39f2-435b-994a-66756dffd9b5",
   "metadata": {},
   "outputs": [],
   "source": [
    "In phase: "
   ]
  },
  {
   "cell_type": "code",
   "execution_count": null,
   "id": "be4ef1ff-9275-4984-b220-56d2135635df",
   "metadata": {},
   "outputs": [],
   "source": [
    "# Parameters\n",
    "amplitude1 = 1.0\n",
    "amplitude2 = 0.6\n",
    "frequency = 0.1\n",
    "phase_shift = 0 #np.pi /4  # Example phase shift of pi/4 radians (45 degrees)\n",
    "\n",
    "# Time vector\n",
    "t = np.linspace(0, 20, 100)  # Adjust the range and number of time points as needed\n",
    "\n",
    "# Generate oscillator 1 (sine wave)\n",
    "oscillator1 = amplitude1 * np.sin(2 * np.pi * frequency * t)\n",
    "\n",
    "# Generate oscillator 2 (shifted sine wave)\n",
    "oscillator2 = amplitude2 * np.sin(2 * np.pi * frequency * t + phase_shift)\n",
    "\n",
    "# Plot \n",
    "plt.plot(t, oscillator1, label='Oscillator 1')\n",
    "plt.plot(t, oscillator2, label='Oscillator 2')\n",
    "plt.xlabel('Time')\n",
    "plt.ylabel('Amplitude')\n",
    "plt.legend()\n",
    "plt.show()"
   ]
  },
  {
   "cell_type": "code",
   "execution_count": null,
   "id": "3759973a-9339-4836-b7b6-1fd9b2533dbb",
   "metadata": {},
   "outputs": [],
   "source": [
    "Phase locked:"
   ]
  },
  {
   "cell_type": "code",
   "execution_count": null,
   "id": "ae266f9e-3ba2-4c03-a9e4-30649b39a961",
   "metadata": {},
   "outputs": [],
   "source": [
    "# Parameters\n",
    "amplitude1 = 1.0\n",
    "amplitude2 = 1.0\n",
    "frequency = 0.1\n",
    "phase_shift = np.pi /4  # Example phase shift of pi/4 radians (45 degrees)\n",
    "\n",
    "# Time vector\n",
    "t = np.linspace(0, 20, 100)  # Adjust the range and number of time points as needed\n",
    "\n",
    "# Generate oscillator 1 (sine wave)\n",
    "oscillator1 = amplitude1 * np.sin(2 * np.pi * frequency * t)\n",
    "\n",
    "# Generate oscillator 2 (shifted sine wave)\n",
    "oscillator2 = amplitude2 * np.sin(2 * np.pi * frequency * t + phase_shift)\n",
    "\n",
    "# Plot \n",
    "plt.plot(t, oscillator1, label='Oscillator 1')\n",
    "plt.plot(t, oscillator2, label='Oscillator 2')\n",
    "plt.xlabel('Time')\n",
    "plt.ylabel('Amplitude')\n",
    "plt.legend()\n",
    "plt.show()"
   ]
  },
  {
   "cell_type": "code",
   "execution_count": null,
   "id": "29af45d8-2b6a-44fa-a6e0-ada37c7764de",
   "metadata": {},
   "outputs": [],
   "source": [
    "Out of phase:"
   ]
  },
  {
   "cell_type": "code",
   "execution_count": null,
   "id": "223d6186-84cd-4d9d-b4ae-6191e5ecd051",
   "metadata": {},
   "outputs": [],
   "source": [
    "# Parameters\n",
    "amplitude1 = 1.0\n",
    "amplitude2 = 1.0\n",
    "frequency = 0.1\n",
    "phase_shift = np.pi /1  # Example phase shift of pi/4 radians (45 degrees)\n",
    "\n",
    "# Time vector\n",
    "t = np.linspace(0, 20, 100)  # Adjust the range and number of time points as needed\n",
    "\n",
    "# Generate oscillator 1 (sine wave)\n",
    "oscillator1 = amplitude1 * np.sin(2 * np.pi * frequency * t)\n",
    "\n",
    "# Generate oscillator 2 (shifted sine wave)\n",
    "oscillator2 = amplitude2 * np.sin(2 * np.pi * frequency * t + phase_shift)\n",
    "\n",
    "# Plot \n",
    "plt.plot(t, oscillator1, label='Oscillator 1')\n",
    "plt.plot(t, oscillator2, label='Oscillator 2')\n",
    "plt.xlabel('Time')\n",
    "plt.ylabel('Amplitude')\n",
    "plt.legend(loc='upper right')  # Specify the location of the legend (e.g., upper right)\n",
    "plt.show()"
   ]
  },
  {
   "cell_type": "markdown",
   "id": "455f7f7f-e997-4bda-9522-a432a4750545",
   "metadata": {},
   "source": [
    "For a more quantitative approach we can use metrics such as the correlation coefficient"
   ]
  },
  {
   "cell_type": "code",
   "execution_count": null,
   "id": "12703660-4848-44bd-be36-86a8f29b05c6",
   "metadata": {},
   "outputs": [],
   "source": [
    "# Compute the correlation coefficient\n",
    "correlation_matrix = np.corrcoef(oscillator1, oscillator2)\n",
    "\n",
    "# Extract the correlation coefficient value\n",
    "correlation_coefficient = correlation_matrix[0, 1]\n",
    "\n",
    "# Print the correlation coefficient\n",
    "print(\"Correlation coefficient:\", correlation_coefficient)"
   ]
  },
  {
   "cell_type": "markdown",
   "id": "3197db5a-fbb9-462f-a0de-ee2298a023a5",
   "metadata": {
    "editable": true,
    "slideshow": {
     "slide_type": ""
    },
    "tags": []
   },
   "source": [
    "# Networks of coupled oscillators\n",
    "<!-- For a quick review or to play with some standard systems and methods see the Networks.ipynb. -->\n",
    "\n",
    "Why stop at two? We could couple an entire network of oscillators. \n",
    "\n",
    "This is an example of dynamics *on* networks \n",
    "<!-- (https://link.springer.com/book/10.1007/978-3-319-26641-1) -->\n",
    "\n",
    "Generically, a coupled oscillator model can be modelled as:\n",
    "\n",
    "$$\n",
    "\\frac{d c_i}{d t} = l_i(c_i) + k_i \\sum_{j\\in N_i} f(c_j - c_i)\n",
    "$$\n",
    "\n",
    "Here $l_i$ are the local/internal dynamics of oscillator $i$\n",
    "\n",
    "e.g. for diffusion the coupling function $f$ is typically a simple difference in concentrations $c$ and $k_i$ are called diffusion constants. "
   ]
  },
  {
   "cell_type": "markdown",
   "id": "438b132a-d674-40f4-88b9-b7de29a1924a",
   "metadata": {
    "editable": true,
    "slideshow": {
     "slide_type": ""
    },
    "tags": []
   },
   "source": [
    "## Kuramoto model\n",
    "\n",
    "We will explore synchronisation via the Kuramoto model: Y. Kuramoto, \"Chemical Oscillations, Waves, and Turbulence,\" 1984, doi: 10.1007/978-3-642-69689-3.\n",
    "\n",
    "This is a model of a system of oscillators that can synchronise despite differences in the oscillators' individual natural frequencies\n",
    "\n",
    "There are many examples of this in both natural and engineered systems (pacemaker cells in the heart, circadian rhythms, fireflies flashing and crickets chirping,... , arrays of lasers, superconducting Josephson junctions,...)\n",
    "\n",
    "We've already seen this model in action and observed the emergent behaviour qualitatively"
   ]
  },
  {
   "cell_type": "markdown",
   "id": "9516e460-b662-4627-8fef-eb97a8f6143d",
   "metadata": {},
   "source": [
    "Specifically, it is defined for $N$ oscillators with equally weighted all-to-all coupling:\n",
    "\n",
    "$$ \n",
    "\\dot{\\theta}_i = \\omega_i + \\frac{K}{|\\mathcal{N}_i|} \\sum_{j \\in \\mathcal{N}_i} \\sin(\\theta_j - \\theta_i)\n",
    "$$\n",
    "\n",
    "- $\\omega_i$ is the intrinsic/natural frequency of the individual oscillator drawn from a unimodal distribution\n",
    "- $\\sin(x)$ is the coupling function\n",
    "- we average over the number of neighbours $i$ has $|\\mathcal{N}_i|$ (here a fully connected network topology is used)\n",
    "- $K$ is simply a global coupling strength\n",
    "\n",
    "The model makes several assumptions e.g. weak coupling, identical (or nearly identical) oscillators, interactions that depend sinusoidally on phase differences between each pair of objects, etc. "
   ]
  },
  {
   "cell_type": "markdown",
   "id": "6a5a656e-53c9-4bc1-b5b0-0fcb1d8b1110",
   "metadata": {
    "editable": true,
    "slideshow": {
     "slide_type": ""
    },
    "tags": []
   },
   "source": [
    "## Qualititative analysis\n",
    "To visualise the dynamics of the phases, it is convenient to imagine a swarm of points running around the unit circle in the complex plane\n",
    "\n",
    "\n",
    "![](images/Geometric_interpretation_of_order_param.png)\n",
    "\n",
    "\n",
    "Image from: Fig. 1 of [Strogatz, 2000](https://doi.org/10.1016/S0167-2789(00)00094-4)\n",
    "\n",
    "The arrow depicts the centroid, $r$, given by the complex number $e^{i\\psi}$, where $\\psi$ is the average phase."
   ]
  },
  {
   "cell_type": "markdown",
   "id": "768b33a1-ae05-4c85-8735-78ae7d664612",
   "metadata": {
    "editable": true,
    "slideshow": {
     "slide_type": ""
    },
    "tags": []
   },
   "source": [
    "## Quantitative analysis\n",
    "We will use the standard phase coherence (complex order parameter) to quantify and summarise the amount of synchronisation:\n",
    "\n",
    "$$\n",
    "re^{\\mathrm{i}\\psi} = \\frac{1}{N} \\sum_j e^{\\mathrm{i} \\theta_j}\n",
    "$$\n",
    "\n",
    "It is effectively a way to find an average angle avoiding the awkwardness of doing things mod $2\\pi$ by considering vectors in the complex plane\n",
    "\n",
    "$r=|re^{\\mathrm{i}\\psi}|$ is a measure of the phase coherence. \n",
    "- $r\\approx 1 \\implies $ the oscillators are 'clumped' together (synched) \n",
    "- $r \\approx 0 \\implies $ the oscillators are scattered around the circle (independent)\n",
    "- $\\psi$ is like an average phase.\n",
    "\n",
    "We've seen this before when we looked at quantifying the global behaviour of a flock. It is an order parameter here too and is measure of the average behaviour of the system that quantifies the extent to which the oscillators are synchronised (i.e. it is like we are doing a mean-field approximation to analyse the behaviour of the population of oscillators)"
   ]
  },
  {
   "cell_type": "markdown",
   "id": "24432263-aa9a-4d77-88b7-1cadfa276c95",
   "metadata": {
    "editable": true,
    "slideshow": {
     "slide_type": ""
    },
    "tags": []
   },
   "source": [
    "### The mean-field case\n",
    "A mean-field analysis of the Kuramoto model involves approximating the interaction between the oscillators using a mean field that represents the average effect of the oscillators on each other\n",
    "\n",
    "To achieve this we rewrite the governing equation in terms of the order parameter: \n",
    "\n",
    "Multiply the order parameter by $e^{−i\\theta_i}$\n",
    "\n",
    "$$\n",
    "re^{i(\\psi−\\theta_i)} = \\frac{1}{N}\\sum_j^N e^{i (\\theta_j - \\theta_i)}\n",
    "$$\n",
    "\n",
    "Recall, $e^{i\\theta} = \\cos \\theta + i \\sin \\theta$, and so equating imaginary parts:\n",
    "\n",
    "$$\n",
    "\\text{Im}(re^{i(\\psi−\\theta_i)})=r\\sin(\\psi-\\theta_i)=\\frac{1}{N}\\sum_{j=1}^N\\sin(\\theta_j-\\theta_i)\n",
    "$$"
   ]
  },
  {
   "cell_type": "markdown",
   "id": "520df94d-dbd3-438d-b938-5a9d90f42ff6",
   "metadata": {
    "editable": true,
    "slideshow": {
     "slide_type": ""
    },
    "tags": []
   },
   "source": [
    "We can now express the coupled oscillator equations in terms of the order parameter!\n",
    "\n",
    "$$\n",
    "\\dot{\\theta}_i=\\omega_i+Kr\\sin(\\psi-\\theta_i), \\quad i=1,2,\\ldots, N\n",
    "$$\n",
    "\n",
    "In this form, the mean-field nature of the model is clear. Each individual oscillator can be seen to be essentially uncoupled from the others with dynamics controlled by mean-field quantities $r$ (the order parameter/coherence) and $\\psi$ (the mean phase).\n",
    "\n",
    "i.e. The phase $\\theta_i$ is pulled towards the mean phase $\\psi$ with effective strength proportional to the coherence $r$.\n"
   ]
  },
  {
   "cell_type": "markdown",
   "id": "3f52f80e-ec62-42eb-93f3-656b3263f7dc",
   "metadata": {
    "editable": true,
    "slideshow": {
     "slide_type": ""
    },
    "tags": []
   },
   "source": [
    "\n",
    "The mean-field case is the most tractable and is possible because the Kuramoto model corresponds to the simplest possible case of equally weighted, all-to-all, purely sinusoidal coupling\n",
    "\n",
    "$$\n",
    "\\dot{\\theta}_i=\\omega_i+Kr\\sin(\\psi-\\theta_i), \\quad i=1,2,\\ldots, N\n",
    "$$\n",
    "\n",
    "- The fixed points satisfy $\\omega_i=Kr\\sin(\\theta_i)$ and exist if $|\\omega_i|\\leq Kr$ (and one is stable/phase-locked, from the stability analysis)\n",
    "- if $|\\omega_i|\\leq Kr$ then we have phase-drift\n",
    "\n",
    "Even in this highly simplified case of a mean-field interaction, there are still unsolved problems."
   ]
  },
  {
   "cell_type": "markdown",
   "id": "fc0e6982-4dc3-4c74-af12-e31092096370",
   "metadata": {
    "editable": true,
    "slideshow": {
     "slide_type": ""
    },
    "tags": []
   },
   "source": [
    "## Numerical analysis\n",
    "$K$ is the parameter of interest\n",
    "\n",
    "Integrating the model numerically we can observe how $r$ evolves in time, for a particular value of $K$:\n",
    "\n",
    "![](images/Coherence_evolution.png)\n",
    "\n",
    "Image from: Fig. 2 of [Strogatz, 2000](https://doi.org/10.1016/S0167-2789(00)00094-4)\n",
    "\n",
    "- $K<K_c$, the oscillators act as if they were uncoupled with $r_{\\infty} \\approx 0$: the phases become uniformly distributed around the circle, starting from any initial condition\n",
    "- $K\\approx K_c$, the incoherent state becomes unstable and $r(t)$ grows exponentially as a small cluster of oscillators become synchronised generating a collective oscillation. \n",
    "    - population splits into two groups: oscillators near center of frequency distribution lock at mean frequency and co-rotate with average phase, while those in tails run near their natural frequencies and drift relative to synchronised cluster. Often called **partially synchronised**. \n",
    "- $K>>K_c$ more and more oscillators are recruited into the synchronised cluster, and $r_{\\infty}$ grows"
   ]
  },
  {
   "cell_type": "markdown",
   "id": "6e240d43-4eb1-43c2-868b-5b3aac3f6cc3",
   "metadata": {
    "editable": true,
    "slideshow": {
     "slide_type": ""
    },
    "tags": []
   },
   "source": [
    "Alternatively, we might be more interested in viewing the final coherence, $r_{\\infty}$, for varied $K$. Proper ensemble runs demonstrate that $r_{\\infty}$ is independent of the initial condition, i.e. there is a globally attracting state for each value of $K$\n",
    "\n",
    "![](images/Param_sweep.png)\n",
    "\n",
    "Image from: Fig. 3 of [Strogatz, 2000](https://doi.org/10.1016/S0167-2789(00)00094-4)\n"
   ]
  },
  {
   "cell_type": "markdown",
   "id": "6276a5de-6783-4a71-bb0b-5573c6e28022",
   "metadata": {
    "editable": true,
    "slideshow": {
     "slide_type": ""
    },
    "tags": []
   },
   "source": [
    "Returning to the [Complexity Explorable](https://www.complexity-explorables.org/explorables/ride-my-kuramotocycle/),  we can now explain the behavioural modes we observed much more precisely\n",
    "\n",
    "- unsynchronised\n",
    "    - no regular or predictable phase difference between oscillators\n",
    "    - occurs with weak coupling or a broad frequency distribution\n",
    "    - synchronisation is not present, indicated by an order parameter approximately 0\n",
    "- drifting\n",
    "    - not fully synchronised, and their phase differences gradually change over time\n",
    "    - occurs with weak coupling or a broad frequency distribution\n",
    "    - synchronisation level is weak, indicated by a small order parameter\n",
    "- phase-locked\n",
    "    - fully synchronised, and their phase differences remain constant\n",
    "    - occurs with strong coupling that overcomes frequency heterogeneity (or trivially with approximately homogenous intrinsic dynamics). \n",
    "    - synchronisation level is strong, indicated by an order parameter close to one.\n",
    "- complete synchronisation \n",
    "    - fully synchronised, and their phase differences are 0\n",
    "    - occurs with strong coupling that overcomes frequency heterogeneity (or trivially with approximately homogenous intrinsic dynamics). \n",
    "    - synchronisation level is maximised, indicated by an order parameter is equal to one."
   ]
  }
 ],
 "metadata": {
  "@webio": {
   "lastCommId": null,
   "lastKernelId": null
  },
  "celltoolbar": "Slideshow",
  "kernelspec": {
   "display_name": "Python 3 (ipykernel)",
   "language": "python",
   "name": "python3"
  },
  "language_info": {
   "codemirror_mode": {
    "name": "ipython",
    "version": 3
   },
   "file_extension": ".py",
   "mimetype": "text/x-python",
   "name": "python",
   "nbconvert_exporter": "python",
   "pygments_lexer": "ipython3",
   "version": "3.11.13"
  },
  "toc": {
   "base_numbering": 1,
   "nav_menu": {},
   "number_sections": true,
   "sideBar": true,
   "skip_h1_title": false,
   "title_cell": "Table of Contents",
   "title_sidebar": "Contents",
   "toc_cell": false,
   "toc_position": {},
   "toc_section_display": true,
   "toc_window_display": false
  }
 },
 "nbformat": 4,
 "nbformat_minor": 5
}

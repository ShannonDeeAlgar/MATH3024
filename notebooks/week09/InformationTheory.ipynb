{
 "cells": [
  {
   "cell_type": "markdown",
   "id": "9c02aeed",
   "metadata": {
    "slideshow": {
     "slide_type": "slide"
    }
   },
   "source": [
    "Today we come full circle to understand one of the main questions that has run through everything we've covered since day one...\n",
    "\n",
    "**What exactly is 'complexity'?** \n",
    "\n",
    "We are trying to answer this because we don't have a precise definition of what a complex system is (new field finding its feet, multi-disciplinary with very large scope etc etc. All we have is a list of properties we require these systems to have, and even this isn't conclusive as they aren't all required all the time.)"
   ]
  },
  {
   "cell_type": "markdown",
   "id": "a28ff2c8",
   "metadata": {
    "slideshow": {
     "slide_type": "slide"
    }
   },
   "source": [
    "<!-- In the spirit of bringing everything full circle... -->\n",
    "# The scientific challenges of the 21st century thus far\n",
    "Climate change, pandemics, disinformation, economic inequality... \n",
    "\n",
    "A defining characteristic common to the many issues facing the modern world is that they deal with the problem of modelling, predicting, and controlling emergent properties of systems comprised of many interacting elements\n",
    "\n",
    "These systems exhibit complex phenomena such as synchronisation or critical phase changes, cascading failures, extreme ranges of intensities, self-organisation, ...\n",
    "\n",
    "<!-- multi-scale: modelling entire structure is essentially impossible and the ability to think critically about the distinction between 'wholes' and 'parts' as well as understanding when it is possible to reduce the dimensionality with things like coarse-graining is key  -->\n",
    "\n",
    "**Information theory** is a toolkit that can be applied to these systems and their emergent behaviour\n",
    "\n",
    ">'poised to become the lingua franca of our increasingly complexity-aware scientific enterprise' - *Information Theory for Complex Systems Scientists: What, Why, & How?*, Thomas F. Varley\n",
    "\n",
    "i.e. It's the bridge language that will let a climate scientist speak with a sociologist."
   ]
  },
  {
   "cell_type": "markdown",
   "id": "55a8d12f",
   "metadata": {
    "slideshow": {
     "slide_type": "slide"
    }
   },
   "source": [
    "# Information Theory \n",
    "Developed by Claude Shannon when he was working at Bell Labs on the problem of how to reliably send a signal from a sender to a receiver over some potentially noisy channel (such as a telegraph line)\n",
    "\n",
    "\n",
    "<center>\n",
    "<img src=\"MidJ_EntropyMessage.png\" width=\"400\"/>\n",
    "</center>\n",
    "\n",
    "Provides the mathematical foundation for understanding, measuring, and optimising the processes of communication, data storage, and processing\n",
    "\n",
    "One of the fundamental foundations on which our modern, digital world was built \"on par with the development of electricity, or the internal combustion engine in terms of impact\" \n",
    "<!-- (along with other transformative technologies like artificial intelligence (AI), blockchain, etc. I have no idea who actually said this) -->\n",
    "\n",
    "<!-- Almost entire theory was published in his *A Mathematical Theory of Communication* [1948] -->\n",
    "\n",
    "Whilst Information Theory has its origins in field of communication engineering it quickly generated interest from broad and interdisciplinary group of scientists, mathematicians, and even philosophers."
   ]
  },
  {
   "cell_type": "markdown",
   "id": "ffb2b2ce",
   "metadata": {
    "slideshow": {
     "slide_type": "slide"
    }
   },
   "source": [
    "## Information\n",
    "To Shannon, \"information\" referred to signals being propagated through a channel\n",
    "\n",
    "It deals with the general mathematics of *inference* (encoding, decoding, probability and statistics), particularly, inference under conditions of *uncertainty* \n",
    "\n",
    "Intuitively, it can be understood in terms of how our uncertainty is resolved by data made available to us (the problem of transmitting a message is a special case of this general framework)\n",
    "\n",
    "<!-- The same mathematics, applies to any issue where we are attempting to increase our degree of certainty about the state of some as-yet-unknown variable:  -->\n",
    "- information flow\n",
    "- the future state of an evolving system\n",
    "- the degree of mutual coupling between two variables\n",
    "- quantifying uncertainty or unpredictability\n",
    "- ...\n",
    "\n",
    "If these are the questions we are trying to address then of course this is a sensible framework for complex systems"
   ]
  },
  {
   "cell_type": "markdown",
   "id": "07457d15",
   "metadata": {
    "slideshow": {
     "slide_type": "subslide"
    }
   },
   "source": [
    "### 'Information'\n",
    "A really important point is that 'information' is agnostic to the question of the \"meaning\" of a message\n",
    "\n",
    "i.e. We aren't interested in what the information represents - only that we have inferred the correct message from some space of possible messages\n",
    "\n",
    "The focus is on the quantity of information rather than its content or interpretation\n",
    "\n",
    "- **Information**: a measure of the reduction in uncertainty about a system or event when a signal is received\n",
    "- **Meaning**: involves interpretation and context, which are subjective and vary depending on the receiver. "
   ]
  },
  {
   "cell_type": "markdown",
   "id": "c31e5fdc",
   "metadata": {
    "slideshow": {
     "slide_type": "subslide"
    }
   },
   "source": [
    "e.g. Consider the message: *\"The sky is blue.\"*\n",
    "\n",
    "In the context of Information Theory, this sentence is just a sequence of characters\n",
    "\n",
    "We care about:\n",
    "- how many bits are needed to transmit the message?\n",
    "- what is the likelihood of errors in transmission?\n",
    "- how efficiently can the message be encoded and decoded?\n",
    "\n",
    "We don't care about:\n",
    "- what \"sky\" or \"blue\" mean\n",
    "- that this sentence conveys something about the weather\n",
    "\n",
    "These meanings arise in the mind of the receiver and involve interpretation, which is outside the scope of Information Theory\n",
    "\n",
    "Information Theory would treat both \"The sky is blue\" and some random characters \"ajksd873##@\" in much the same way: as strings of characters \n",
    "\n",
    "In fact, the random string is considered as having more information content because it is less predictable."
   ]
  },
  {
   "cell_type": "markdown",
   "id": "801fafe5",
   "metadata": {
    "slideshow": {
     "slide_type": "subslide"
    }
   },
   "source": [
    "# Entropy \n",
    "Because information is the reduction of uncertainty associated with observing data, we must first understand **uncertainty**\n",
    "\n",
    "This is done with **\"entropy\"**, a mathematical function that quantifies how uncertain we are (on average) about the state of some variable *before* any message is received\n",
    "\n",
    "There are many definitions and ways to think about entropy - we will focus on two of the better ones\n",
    "<!-- Ignoring statistical entropy from physics/thermodynamics -->"
   ]
  },
  {
   "cell_type": "markdown",
   "id": "d603c82d",
   "metadata": {
    "slideshow": {
     "slide_type": "subslide"
    }
   },
   "source": [
    "## 1. Entropy as expected surprise\n",
    "Some events are more surprising than others... why?\n",
    "\n",
    "How surprised you are is directly related to how likely you were to make a correct prediction\n",
    "\n",
    "Consider a fair die\n",
    "- probability of any face is 1/6\n",
    "- if you were gambling on the die: no reason to pick any face over another \n",
    "- $\\therefore$ no outcome is more surprising than any other  \n",
    "\n",
    "This notion of surprise as being related to uncertainty becomes clearer if we instead imagine that you are a cheater and, at some point, manage to switch the fair die for a loaded one of your own\n",
    "\n",
    "Consider a loaded die \n",
    "- say 2 comes up 2/3 of the time, all other faces come up with probability 1/15\n",
    "- Knowing this probability distribution ahead of time, you will be less surprised to see a 2 come up than you would be to see a 2 come up\n",
    "\n",
    "So how do we quantify surprise?"
   ]
  },
  {
   "cell_type": "markdown",
   "id": "fd41a6ee",
   "metadata": {
    "slideshow": {
     "slide_type": "subslide"
    }
   },
   "source": [
    "### Quantifying surprise, $h(x)$\n",
    "For a random variable $X$ that draws states from the support set $\\mathcal{X}$ according to the probability distribution $P(x)$, the surprise $h(x)$: \n",
    "1. associated with a particular outcome $X=x$ should be inversely proportional to the probability $P(x)$: the more probable an event, the less surprising it is\n",
    "2. should never be negative $h(x) \\leq 0$ for all $x \\in \\mathcal{X}$\n",
    "3. should be additive: each event has its own uncertainty, and when combined, we sum their respective amounts of information\n",
    "<!-- our surprise at the outcome of two simultaneous, independent coin flips, should be equal to our surprise at the outcome of the same coin flipped two different times. Formally: -->\n",
    "$$\\color{white}{h(x_1,x_2)=h(x_1)+h(x_2) ⇐⇒ X_1\\perp X_2}$$\n",
    "<!--  (because the joint probability of two independent events is the product of their individual probabilities) -->\n",
    "<!--  Multiplying surprise would imply some kind of compounding or interaction between the events -->\n",
    "4. should be continuous\n",
    "5. events that are guaranteed to happen are totally unsurprising: $P(x) = 1$ then $h(x) = 0$\n",
    "6. events that are impossible should be infinitely surprising: $P(x)=0$ then $h(x)=\\infty$."
   ]
  },
  {
   "cell_type": "markdown",
   "id": "67663f5b",
   "metadata": {
    "slideshow": {
     "slide_type": "subslide"
    }
   },
   "source": [
    "### Quantifying surprise, $h(x)$\n",
    "The function uniquely specified by these criteria is:\n",
    "$$h(x)=-\\log P(x)$$\n",
    "\n",
    "i.e. the more unlikely an outcome $x$ is, the greater the surprise when that outcome occurs\n",
    "- $P(x)$ is small (i.e., the event is unlikely), $h(x)$ will be large, indicating high surprise\n",
    "- $P(x)$ is large (i.e., the event is likely), $h(x)$ will be small, indicating low surprise\n",
    "\n",
    "$h(x)$ is referred to as the surprise, self-information, Shannon information content, or the local entropy of a specific outcome of random variable $X$\n",
    "\n",
    "With the base of the log set to 2, each 'bit' of information you receive/surprise you experience corresponds to the total amount of possibilities being cut in half...\n",
    "\n",
    "... And this motivates a second way to view entropy."
   ]
  },
  {
   "cell_type": "markdown",
   "id": "79f95568",
   "metadata": {
    "slideshow": {
     "slide_type": "subslide"
    }
   },
   "source": [
    "## 2. Entropy as required information \n",
    "\n",
    "On average, what's the minimum number of yes/no questions required to determine the state of $X$?\n",
    "\n",
    "For the fair die: \n",
    "- on average, it will take you $\\approx2.59$ questions to uniquely determine the state of the die\n",
    "\n",
    "We can see this with a binary decision tree:"
   ]
  },
  {
   "cell_type": "markdown",
   "id": "fa408c0d",
   "metadata": {
    "slideshow": {
     "slide_type": "subslide"
    }
   },
   "source": [
    "<center>\n",
    "<img src=\"BinaryDecisionTree_FairDie.png\" width=\"300\"/>\n",
    "</center>\n",
    "\n",
    "- For outcomes \\( 1, 2, 4, 5 \\), it takes 3 questions, and the probability of each outcome is $\\frac{1}{6}$\n",
    "- For outcomes \\( 3, 6 \\), it takes 2 questions, and the probability of each outcome is $\\frac{1}{6}$\n",
    "\n",
    "The expected number of questions is:\n",
    "$$\n",
    "E[\\text{questions}] = \\left( \\frac{1}{6} \\times 3 \\right) + \\left( \\frac{1}{6} \\times 3 \\right) + \\left( \\frac{1}{6} \\times 2 \\right) + \\left( \\frac{1}{6} \\times 3 \\right) + \\left( \\frac{1}{6} \\times 3 \\right) + \\left( \\frac{1}{6} \\times 2 \\right) \\approx 2.67\n",
    "$$"
   ]
  },
  {
   "cell_type": "markdown",
   "id": "9c4a655e",
   "metadata": {
    "slideshow": {
     "slide_type": "subslide"
    }
   },
   "source": [
    "\n",
    "For the loaded die: \n",
    "- if you start with \"is it 2\", you'll be correct two times in three\n",
    "- on average, it will only take $\\approx1.7$ guesses\n",
    "\n",
    "To minimise the number of questions, we might structure the decision tree as:\n",
    "\n",
    "<center>\n",
    "<img src=\"BinaryDecisionTree_LoadedDie.png\" width=\"300\"/>\n",
    "</center>\n"
   ]
  },
  {
   "cell_type": "markdown",
   "id": "7aae7340",
   "metadata": {
    "slideshow": {
     "slide_type": "subslide"
    }
   },
   "source": [
    "In the case of the fair die, you need to ask more questions (that is to say, you need more information) to uniquely specify the state of the die, while in the case of the loaded one, since you already know that it's more likely to be two, you need less information\n",
    "\n",
    "The number of unique yes/no questions required is approximately given by the entropy function $H(X)$, when the logarithm base is 2\n",
    "\n",
    "(Note that inefficiencies in the questioning strategy will cause the average to be slightly greater than the entropy of the system.)\n",
    "<!-- Intuitively, the difference between the efficiency of the encoding and the entropy is a measure of the redundancy in the encoding). -->\n",
    "\n",
    "<!-- This is linked with the idea of entropy as a measure of the “capacity” of a random variable to disclose information. You can't really communicate that much information in a coin, since it can only be heads or tails. In contrast, you can communicate a huge amount of information in the English alphabet with its 26 characters (and correspondingly higher entropy). -->"
   ]
  },
  {
   "cell_type": "markdown",
   "id": "178649c4",
   "metadata": {
    "slideshow": {
     "slide_type": "skip"
    }
   },
   "source": [
    "## Entropy as required information  (details)\n",
    "An alternative perspective...\n",
    "\n",
    "On average, what's the minimum number of yes/no questions required to determine the state of $X$?\n",
    "\n",
    "For the fair die: \n",
    "- on average, it will take you $\\approx2.59$ questions to uniquely determine the state of the die\n",
    "    - $I(x) = -\\log_2\\left(\\frac{1}{6}\\right) \\approx 2.59 \\text{ bits}$\n",
    "    - $H(X) = -6\\frac{1}{6}\\log_2\\left(\\frac{1}{6}\\right) \\approx 2.59 \\text{ bits}$\n",
    "\n",
    "For the loaded die with probability of rolling a 2 $p(2) = \\frac{2}{3}$\n",
    "- if you start with \"is it 2\", you'll be correct two times in three\n",
    "    - $I(2) = -\\log_2\\left(\\frac{2}{3}\\right) = \\log_2\\left(\\frac{3}{2}\\right) \\approx 0.585 \\text{ bits}$\n",
    "- Each of the outcomes 1, 3, 4, 5, 6 has a probability of $p(x) = \\frac{1}{15}$\n",
    "    - $I(x) = -\\log_2\\left(\\frac{1}{15}\\right) = \\log_2(15) \\approx 3.906 \\text{ bits}$\n",
    "- on average, it will only take $\\approx1.7$ guesses i.e. the **expected information content** (or Shannon entropy) is the weighted average of the information content over all possible outcomes:\n",
    "    - $H(X) = \\frac{2}{3} \\cdot 0.585 + \\frac{5}{15} \\cdot 3.906= 0.39 + 1.302 \\approx 1.692 \\text{ bits} $\n",
    "\n",
    "In the case of the fair die, you need to ask more questions (that is to say, you need more information) to uniquely specify the state of the die, while in the case of the loaded one, since you already know that it's more likely to be two, you need less information\n",
    "\n",
    "This (i.e. the number of unique yes/no questions required) is given by the entropy function $H(X)$, when the logarithm base is 2.\n",
    "\n",
    "<!-- This is linked with the idea of entropy as a measure of the “capacity” of a random variable to disclose information. You can’t really communicate that much information in a coin, since it can only be heads or tails. In contrast, you can communicate a huge amount of information in the English alphabet with its 26 characters (and correspondingly higher entropy). -->\n",
    "\n",
    "The entropy represents the best-case scenario, while the average number of questions reflects real-world questioning dynamics."
   ]
  },
  {
   "cell_type": "markdown",
   "id": "33aa5643",
   "metadata": {
    "slideshow": {
     "slide_type": "subslide"
    }
   },
   "source": [
    "##### Recall: Expected value\n",
    "The **expected value** of a random variable is computed by taking the sum of all possible outcomes, each weighted by its probability \n",
    "\n",
    "For a discrete random variable $X$, the expected value $\\mathbb{E}[X]$ is given by:\n",
    "\n",
    "$$\n",
    "\\color{white}{\\mathbb{E}[X] = \\sum_{x} p(x) \\cdot x}\n",
    "$$\n",
    "\n",
    "where:\n",
    "- $p(x)$ is the probability of outcome $x$\n",
    "- $x$ is the value of the outcome."
   ]
  },
  {
   "cell_type": "markdown",
   "id": "4d9ad5e7",
   "metadata": {
    "slideshow": {
     "slide_type": "slide"
    }
   },
   "source": [
    "## Shannon Entropy, $H(X)$\n",
    "\n",
    "Two important ideas are involved when we ask \"on average, how surprised are we as we watch this variable over time?\"\n",
    "- rare events are very surprising but we aren't that surprised very often\n",
    "- frequent events are unsurprising, so we spend a lot of time not being very surprised \n",
    "\n",
    "This can be quantified by the expected surprise of a distribution $P(X)$:\n",
    "$$\n",
    "H(X)=\\mathbb{E}_X[h(X)]=-\\sum_{x\\in \\mathcal{X}}P(x)\\log P(x)\n",
    "$$\n",
    "\n",
    "Note that by convention we say that $0 \\log(0) = 0$, so impossible events have no impact on our uncertainty\n",
    "\n",
    "Shannon entropy is *the* fundamental building block of Information Theory."
   ]
  },
  {
   "cell_type": "markdown",
   "id": "0a6897ec",
   "metadata": {
    "slideshow": {
     "slide_type": "subslide"
    }
   },
   "source": [
    "## Consider some known distributions...\n",
    "\n",
    "Let $X$ be a normally distributed random variable, $X \\sim N(\\mu, \\sigma^2)$, 2ith probability density function (PDF) $f(x) = \\frac{1}{\\sqrt{2 \\pi \\sigma^2}} \\exp\\left(-\\frac{(x - \\mu)^2}{2\\sigma^2}\\right)$\n",
    "\n",
    "$$\n",
    "\\begin{align*}\n",
    "H(X) &= -\\int_{-\\infty}^{\\infty} f(x) \\log f(x) \\, dx \\\\\n",
    "\\therefore H_{\\text{normal}} &= -\\int_{-\\infty}^{\\infty} \\frac{1}{\\sqrt{2 \\pi \\sigma^2}} \\exp\\left(-\\frac{(x - \\mu)^2}{2\\sigma^2}\\right) \\log \\left(\\frac{1}{\\sqrt{2 \\pi \\sigma^2}} \\exp\\left(-\\frac{(x - \\mu)^2}{2\\sigma^2}\\right)\\right) \\, dx \\\\\n",
    "&= -\\int_{-\\infty}^{\\infty} f(x) \\left(-\\frac{1}{2} \\log(2 \\pi \\sigma^2) - \\frac{(x - \\mu)^2}{2\\sigma^2}\\right) \\, dx\n",
    "\\end{align*}\n",
    "$$\n",
    "\n",
    "The first term (the constant $\\frac{1}{2} \\log(2 \\pi \\sigma^2) $) comes out of the integral and integrates to 1, and the second term integrates to give $\\sigma^2 $. The result is:\n",
    "\n",
    "$$\n",
    "H_{\\text{normal}} = \\frac{1}{2} \\log(2 \\pi e \\sigma^2)\n",
    "$$\n",
    "\n",
    "Thus, the entropy of a normal distribution depends on the variance $\\sigma^2 $. The larger the variance, the more spread out the distribution, and thus the higher the entropy."
   ]
  },
  {
   "cell_type": "markdown",
   "id": "2dffabe6",
   "metadata": {
    "slideshow": {
     "slide_type": "subslide"
    }
   },
   "source": [
    "Let $X$ be an exponentially distributed random variable, $X \\sim \\text{Exp}(\\lambda) $ with probability density function (PDF), $f(x) = \\lambda \\exp(-\\lambda x) \\quad \\text{for} \\, x \\geq 0$\n",
    "\n",
    "\n",
    "$$\n",
    "\\begin{align*}\n",
    "H(X) &= -\\int_{0}^{\\infty} f(x) \\log f(x) \\, dx \\\\\n",
    "\\therefore H_{\\text{exponential}} &= -\\int_{0}^{\\infty} \\lambda \\exp(-\\lambda x) \\log(\\lambda \\exp(-\\lambda x)) \\, dx \\\\\n",
    "&= -\\int_{0}^{\\infty} \\lambda \\exp(-\\lambda x) \\left(\\log(\\lambda) - \\lambda x\\right) \\, dx\\\\\n",
    "&= -\\log(\\lambda) \\int_{0}^{\\infty} \\lambda \\exp(-\\lambda x) \\, dx + \\lambda \\int_{0}^{\\infty} \\lambda x \\exp(-\\lambda x) \\, dx\n",
    "\\end{align*}\n",
    "$$\n",
    "\n",
    "The first integral evaluates to 1, and the second integral evaluates to $\\frac{1}{\\lambda}$. Hence,\n",
    "\n",
    "$$\n",
    "H_{\\text{exponential}} = -\\log(\\lambda) + 1\n",
    "$$\n",
    "\n",
    "Thus, the entropy of an exponential distribution depends on the rate parameter $\\lambda$. The smaller the rate, the more spread out the distribution, and thus the higher the entropy."
   ]
  },
  {
   "cell_type": "markdown",
   "id": "4bfc3256",
   "metadata": {
    "slideshow": {
     "slide_type": "subslide"
    }
   },
   "source": [
    "### Comparing\n",
    "The normal distribution's entropy grows with the variance $\\sigma^2$, while the exponential distribution's entropy is inversely related to the rate $\\lambda$\n",
    "\n",
    "For comparable scales (a similar spread/variance):\n",
    "\n",
    "Normal distribution $N(\\mu, \\sigma^2)$: \n",
    "- $H_{\\text{normal}} = \\frac{1}{2} \\log(2 \\pi e \\sigma^2)$\n",
    "- defined over the entire real line and spreads out more\n",
    "- generally has higher entropy\n",
    "\n",
    "Exponential distribution $\\text{Exp}(\\lambda)$: \n",
    "- (Recall that the variance of the exponential distribution is $\\frac{1}{\\lambda^2}$.)\n",
    "- $H_{\\text{exponential}} = 1 - \\log(\\lambda)$\n",
    "- despite its unbounded support, concentrates more heavily near 0 and decays rapidly\n",
    "- generally has lower entropy"
   ]
  },
  {
   "cell_type": "markdown",
   "id": "ae831452",
   "metadata": {
    "slideshow": {
     "slide_type": "subslide"
    }
   },
   "source": [
    "### Summarising\n",
    "\n",
    "Higher entropy indicates:\n",
    "- greater uncertainty/complexity/variability/predictability/...\n",
    "- richer interactions\n",
    "- more complex system \n",
    "\n",
    "Lower entropy indicates:\n",
    "- simpler\n",
    "- more ordered system."
   ]
  },
  {
   "cell_type": "markdown",
   "id": "f16e7a63",
   "metadata": {
    "slideshow": {
     "slide_type": "subslide"
    }
   },
   "source": [
    "## Joint entropy, $H(X,Y)$\n",
    "\n",
    "Measure of the total uncertainty in multiple random variables considered together\n",
    "\n",
    "Reflects both the individual uncertainties of the variables *and* how they interact with each other\n",
    "\n",
    "i.e. it provides insights into the interdependencies in a system (highly interconnected system typically has higher joint entropy)\n",
    "\n",
    "Defined as the union of both marginal entropies:\n",
    "\n",
    "$$\n",
    "\\color{white}{H(X,Y)=\\mathbb{E}_{X,Y}[h(X,Y)]=-\\sum_{x\\in \\mathcal{X}\\\\ y\\in \\mathcal{Y}}P(x,y)\\log P(x,y)}\n",
    "$$\n",
    "\n",
    "Joint and marginal entropies are generally related by:\n",
    "$$\n",
    "H(X,Y)\\leq H(X)+H(Y)\n",
    "$$\n",
    "with equality if and only if the variables are independent (rare)."
   ]
  },
  {
   "cell_type": "markdown",
   "id": "2faf6c72",
   "metadata": {
    "slideshow": {
     "slide_type": "subslide"
    }
   },
   "source": [
    "\n",
    "## Conditional entropy, $H(X|Y)$\n",
    "\n",
    "Quantifies how much uncertainty remains in $X$ after learning the state of $Y$\n",
    "\n",
    "<!-- i.e. it's the uncertainty specific to one variable that is left over after resolving the uncertainty specific to the other.  -->\n",
    "$$\n",
    "\\color{white}{H(X|Y)=\\mathbb{E}_{X,Y}[h(X|Y)]=-\\sum_{x\\in \\mathcal{X}\\\\ y\\in \\mathcal{Y}}P(x,y)\\log P(x|y)}\n",
    "$$\n",
    "\n",
    "Note that the expectation is taken with respect to the joint probability $P(X,Y)$ rather\n",
    "than the conditional probability $P(X|Y)$. The presence of two interacting variables means that their joint behaviour must be considered\n",
    "\n",
    "If we wanted to calculate the conditional entropy of $X$, given that we see $Y$ in some particular, fixed state $y$:\n",
    "\n",
    "$$\\color{white}{H(X|y)=\\mathbb{E}_{X|y}[h(X|Y)] = -\\sum P(x|y)\\log P(x|y)}$$"
   ]
  },
  {
   "cell_type": "markdown",
   "id": "5452b666",
   "metadata": {
    "slideshow": {
     "slide_type": "subslide"
    }
   },
   "source": [
    "## Mutual information, $I(X; Y)$\n",
    "\n",
    "The most general measure of correlations\n",
    "\n",
    "Mutual information (MI) provides a measure of the statistical dependency between two random variables: how much does knowing the state of $X$ reduce our uncertainty about the state of $Y$ (and vice versa)\n",
    "$$\n",
    "I(X;Y)=\\sum_{x,y} P(x,y)\\log\\frac{P(x,y)}{P(x)P(y)}\n",
    "$$\n",
    "\n",
    "where:\n",
    "- $P(x), P(y)$ are the marginal probabilities of $X$ and $Y$ respectively\n",
    "\n",
    "\n",
    "$I(X;Y)=0$ implies that $X$ and $Y$ are independent, meaning knowing one provides no information about the other."
   ]
  },
  {
   "cell_type": "markdown",
   "id": "e9313b8d",
   "metadata": {
    "slideshow": {
     "slide_type": "slide"
    }
   },
   "source": [
    "# Putting it all together\n",
    "\n",
    "The area of each circle corresponds to the amount of uncertainty we have about the state of each variable\n",
    "\n",
    "Note that it is *not* the amount of information we have (this is a common misinterpretation)\n",
    "<center>\n",
    "<img src=\"Entropy_VennDiagram.png\" width=\"400\"/>\n",
    "</center>\n",
    "\n",
    "(And these relationships generalise for more variables)\n",
    "\n",
    "\n",
    "Hence we can think about MI in terms of the aforementioned entropies:\n",
    "\n",
    "$$\n",
    "\\begin{align*}\n",
    "I(X; Y) &= H(X) - H(X|Y) \\\\\n",
    "&= H(X) + H(Y) - H(X, Y) \\\\\n",
    "&= H(Y) - H(Y|X) \\\\\n",
    "&= H(X,Y) - H(Y|X) - H(X|Y)\n",
    "\\end{align*}\n",
    "$$\n",
    "\n",
    "<!-- i.e. it is the uncertainty that is common to both variables such that if we were to resolve all of our uncertainty about $Y$, we would also be resolving some uncertainty about $X$. -->"
   ]
  },
  {
   "cell_type": "markdown",
   "id": "5f48d6ea",
   "metadata": {
    "slideshow": {
     "slide_type": "subslide"
    }
   },
   "source": [
    "## Many others too\n",
    "e.g. Relative entropy (Kullback-Liebler divergence)\n",
    "\n",
    "...\n",
    "\n",
    "We won't get into the details here for a lack of time but you may come across them when researching for your Project."
   ]
  },
  {
   "cell_type": "markdown",
   "id": "e0efb326",
   "metadata": {
    "slideshow": {
     "slide_type": "slide"
    }
   },
   "source": [
    "# Applications\n",
    "\n",
    "We can compute the information-theoretic quantities without the prior knowledge of the outcome probabilities (like our die) - we can do it with data\n",
    "\n",
    "While the definition of these functionals is very general and elegant, the practical estimation faces challenges related to the problem of efficient estimation of the PDF from finite size samples\n",
    "\n",
    "Some examples of complexity measures where data is a time series..."
   ]
  },
  {
   "cell_type": "markdown",
   "id": "f4296894",
   "metadata": {
    "slideshow": {
     "slide_type": "subslide"
    }
   },
   "source": [
    "## Permutation Entropy\n",
    "\n",
    "Captures permutation patterns from a scalar time series measured from a complex system by organising windows of the time series with length $n$, according to their *relative values* forming the symbol $\\pi_i$:  \n",
    "$$\n",
    "H(n) = -\\sum_i^{n!} p(\\pi_i)\\log(p(\\pi_i))\n",
    "$$\n",
    "\n",
    "The simple example provided by Bandt and Pompe...\n",
    "\n",
    "- For $x=(4,7,9,10,6,11,3)$ and $n=2$\n",
    "    - we find find four pairs for which $x_{t+1}>x_{t}$ and two pairs for which $x_{t+1}<x_{t}$, i.e.\n",
    "    - 4/6 pairs are represented by the permutation 01 (an increase)\n",
    "    - 2/6 are represented by 10 (a decrease)\n",
    "    - permutation entropy (a measure of the probabilities of the permutations 01 and 10):\n",
    "    $$\n",
    "    H(2) = -\\frac{2}{6}\\log\\left(\\frac{2}{6}\\right) - \\frac{4}{6}\\log\\left(\\frac{4}{6}\\right) \\approx 0.918\n",
    "    $$\n",
    "\n",
    "<!-- Bandt, Pompe, Phys Rev Lett. 2002 Apr 29;88(17):174102.  doi: 10.1103/PhysRevLett.88.174102 -->\n",
    "\n",
    "Everything you wanted to know about permutation entropy (and ordinal methods) but were afraid to ask: https://pubs.aip.org/collection/1214/Ordinal-Methods-Concepts-Applications-New?utm_[…]s%20and%20Challenges_Topical_2023&dm_i=1XPS,8DVWE,5T8ELS,YL4WO"
   ]
  },
  {
   "cell_type": "markdown",
   "id": "73e0803f",
   "metadata": {
    "slideshow": {
     "slide_type": "subslide"
    }
   },
   "source": [
    "<center>\n",
    "<img src=\"PermutationEntropy.png\" width=\"600\"/>\n",
    "</center>\n",
    "\n",
    "https://doi.org/10.48550/arXiv.2102.06786\n"
   ]
  },
  {
   "cell_type": "markdown",
   "id": "16b18443",
   "metadata": {
    "slideshow": {
     "slide_type": "subslide"
    }
   },
   "source": [
    "## Transfer Entropy \n",
    "Note that **Transfer Entropy** is not assessable but is included as an example of how you might extend these ideas for your project\n",
    "\n",
    "The conditional mutual information $I(X; Y |Z)$ of the variables $X$, $Y$ given the variable $Z$:\n",
    "$$\n",
    "I(X; Y |Z) = H(X|Z) + H(Y |Z) - H(X, Y |Z)\n",
    "$$\n",
    "\n",
    "Schreiber introduced transfer entropy as a means to detect asymmetries in interaction of two coupled dynamical systems from their time series\n",
    "\n",
    "It is a measure of the reduction in the uncertainty of the future of $X$ from its present that is gained through knowledge of the present of $Y$, i.e. it is the conditional mutual information between $X_t$ and $Y_{t+1}$ conditional on $Y_t$:\n",
    "$$\n",
    "T_{X\\rightarrow Y} = I(X_t, Y_{t+1}|Y_t)\n",
    "$$"
   ]
  },
  {
   "cell_type": "markdown",
   "id": "d0ee13a0",
   "metadata": {
    "slideshow": {
     "slide_type": "subslide"
    }
   },
   "source": [
    "\n",
    "- In the context of animal interactions, $X$ and $Y$ will measure the behavior of two individuals and transfer entropy will be constructed based on raw time series extracted from behavioral observations or trajectory tracking\n",
    "<center>\n",
    "<img src=\"TransferEntropy_Fish.png\" width=\"600\"/>\n",
    "</center>\n",
    "\n",
    "Entropy here provides insights into the phase transition. At the critical point, the entropy exhibits unique behaviour, indicating a shift in the complexity of the system."
   ]
  },
  {
   "cell_type": "markdown",
   "id": "7a058e5c",
   "metadata": {
    "slideshow": {
     "slide_type": "subslide"
    }
   },
   "source": [
    "- Korbel et al. analysed information flow between communities of financial markets, represented as complex networks (Entropy 2019, 21(11), 1124; https://doi.org/10.3390/e21111124). They focussed on information transfer of rare events—typically large drops which can spread in the network:\n",
    "<center>\n",
    "<img src=\"TransferEntropy_StockExchange.png\" width=\"600\"/>\n",
    "</center>\n"
   ]
  },
  {
   "cell_type": "markdown",
   "id": "e517988c",
   "metadata": {
    "slideshow": {
     "slide_type": "skip"
    }
   },
   "source": [
    "# Python"
   ]
  },
  {
   "cell_type": "markdown",
   "id": "65ae9bcb",
   "metadata": {
    "slideshow": {
     "slide_type": "skip"
    }
   },
   "source": [
    "## Load libraries"
   ]
  },
  {
   "cell_type": "code",
   "execution_count": 2,
   "id": "d3a93158",
   "metadata": {
    "slideshow": {
     "slide_type": "skip"
    }
   },
   "outputs": [],
   "source": [
    "import numpy as np"
   ]
  },
  {
   "cell_type": "markdown",
   "id": "72233bfc",
   "metadata": {
    "slideshow": {
     "slide_type": "skip"
    }
   },
   "source": [
    "\n",
    "Plundering done from here:\n",
    "https://colab.research.google.com/github/d2l-ai/d2l-en-colab/blob/master/chapter_appendix-mathematics-for-deep-learning/information-theory.ipynb#scrollTo=608e73cb \n",
    "\n",
    "We aim to make these ideas precise…. Information theory, entropy, maximum entropy methods, mutual information, transfer entropy. i.e. quantifying complexity. How information exists/is stored/transferred and what it tells us about the system.\n",
    "\n",
    "**Self-information:** The self-information is a measure of the amount of the information gained or 'surprise' associated with the occurrence of an event. The higher the self-information, the more informative the event/more surprising the fact the event occurred. It is calculated as $-\\log_2(p)$, where $p$ is the probability of the event."
   ]
  },
  {
   "cell_type": "code",
   "execution_count": 3,
   "id": "800a6ddf",
   "metadata": {
    "slideshow": {
     "slide_type": "skip"
    }
   },
   "outputs": [
    {
     "data": {
      "text/plain": [
       "6.0"
      ]
     },
     "execution_count": 3,
     "metadata": {},
     "output_type": "execute_result"
    }
   ],
   "source": [
    "def self_information(p):\n",
    "    \"\"\"\n",
    "    Calculates the self-information of an event with probability p.\n",
    "\n",
    "    INPUTS:\n",
    "        p (float): The probability of the event.\n",
    "\n",
    "    OUTPUTS:\n",
    "        float: The self-information of the event.\n",
    "    \"\"\"\n",
    "    return -np.log2(p)\n",
    "\n",
    "#Example usage:\n",
    "self_information(1 / 64)"
   ]
  },
  {
   "cell_type": "markdown",
   "id": "53feb54a",
   "metadata": {
    "slideshow": {
     "slide_type": "skip"
    }
   },
   "source": [
    "**Entropy**\n",
    "\n",
    "Entropy is a key concept in thermodynamics, statistical mechanics and information theory.\n",
    "\n",
    "It is a measure for the amount of 'disorder' and information in a system.\n",
    "\n",
    "In information theory, entropy describes how much randomness is present in a signal or a random event.\n",
    "\n",
    "Entropy of the degree distribution provides an average measurement of the heterogeneity of the network:\n",
    "\\begin{equation*}\n",
    "  H = -\\sum\\limits_{k} P(k) \\log P(k),\n",
    "\\end{equation*}\n",
    "where $P(k)$ is the degree distribution.\n",
    "\n",
    "Maximum value of entropy is obtained for a uniform degree distribution.\n",
    "\n",
    "Minimum value $H_{\\mathrm{min}}=0$ is achieved whenever all vertices have the same degree ($k$-regular network).\n",
    "\n",
    "**Entropy**\n",
    "\n",
    "Network entropy has been related to the robustness of networks, i.e.,their resilience to attacks, and in biological applications, the contribution of vertices to the network entropy is correlated with lethality in protein interactions networks.\n",
    "\n",
    "\n",
    "**Information entropy:** measures the amount of uncertainty/randomness/unpredictability in a set of data or a probability distribution. It quantifies the average amount of information required to describe the outcomes of a random variable. The higher the entropy the more uncertain we are about the outcomes.\n",
    "\n",
    "A fair die has a uniform distribution of outcomes"
   ]
  },
  {
   "cell_type": "code",
   "execution_count": 8,
   "id": "670e06e7",
   "metadata": {
    "slideshow": {
     "slide_type": "skip"
    }
   },
   "outputs": [
    {
     "name": "stdout",
     "output_type": "stream",
     "text": [
      "2.584962500721156 2.1609640474436813\n"
     ]
    }
   ],
   "source": [
    "def information_entropy(p):\n",
    "    \"\"\"\n",
    "    Calculate the information entropy of a probability distribution.\n",
    "\n",
    "    INPUTS:\n",
    "        p (array-like): Input array representing a probability distribution.\n",
    "\n",
    "    OUTPUTS:\n",
    "        float: Entropy value of the probability distribution.\n",
    "\n",
    "    \"\"\"\n",
    "    information_entropy = - p * np.log2(p)\n",
    "    \n",
    "    out = np.nansum(information_entropy) # `nansum` sums up non-nan numbers, ignoring events with probability=0\n",
    "    return out\n",
    "\n",
    "fair_die_entropy = information_entropy(np.array([1/6, 1/6, 1/6, 1/6, 1/6, 1/6])) #a fair die\n",
    "loaded_die_entropy = information_entropy(np.array([0.5, 0.1, 0.1, 0.1, 0.1, 0.1])) #a loaded die\n",
    "\n",
    "print(fair_die_entropy, loaded_die_entropy)"
   ]
  },
  {
   "cell_type": "markdown",
   "id": "cf76dbc8",
   "metadata": {
    "slideshow": {
     "slide_type": "skip"
    }
   },
   "source": [
    "# Thermodynamics\n",
    "Thermodynamics deals only with large systems, containing many constituents.\n",
    "\n",
    "phase space has a huge number of dimensions. \n",
    "\n",
    "The system may or may not be complex (irrelevant for the truth of the second law)"
   ]
  },
  {
   "cell_type": "markdown",
   "id": "aad6d1ef",
   "metadata": {
    "slideshow": {
     "slide_type": "skip"
    }
   },
   "source": [
    "## Entropy\n",
    "entropy is simply a fancy word for “disorder”\n",
    "\n",
    "It is a quantitative measure\n",
    "\n",
    "The second law of thermodynamics is about order compared with disorder. One easy-to- grasp statement, which is an accurate one, is the following. It concerns the time-evolution of an isolated system, which means a system lacking any kind of interaction or connection with the rest of the universe. The spontaneous evolution of an isolated system can never lead to a decrease of its entropy (= disorder). The entropy is always increasing as long as the system evolves. If the system eventually reaches equilibrium and stops evolving, its entropy becomes constant. \n",
    "\n",
    "everybody knows the second law intuitively already. \n"
   ]
  },
  {
   "cell_type": "markdown",
   "id": "df499587",
   "metadata": {
    "slideshow": {
     "slide_type": "skip"
    }
   },
   "source": [
    "**Joint entropy:**"
   ]
  },
  {
   "cell_type": "markdown",
   "id": "08952076",
   "metadata": {
    "slideshow": {
     "slide_type": "skip"
    }
   },
   "source": [
    "## 'Entropy'\n",
    "dimensionless entropy, which measures our lack of knowledge, is a purely subjective quantity.\n",
    "\n",
    "if entropy is really totally subjective, why does it appear so ob- jective to so many people? Ask any physical chemist. You will be told that entropy is a fundamental, permanent property of matter in bulk. You can measure it, you can calculate it accurately, you can look it up in tables, etc. And the answer to that new paradox is: large numbers. It is well-known that very large numbers have a way of making probabilities turn into absolute certainty.\n",
    "\n",
    "The fundamental building block of Information Theory"
   ]
  },
  {
   "cell_type": "markdown",
   "id": "81fc6bff",
   "metadata": {
    "slideshow": {
     "slide_type": "skip"
    }
   },
   "source": [
    "### “the paradox of the arrow of time”\n",
    "it may stay constant, but this happens only under ideal conditions never realized in practice; in the real world, it is always increasing. Therefore the evolution of such a system is always irreversible: if you have observed a certain evolution of your system, you know that the backwards evolution, with the same things happening in reverse order of time, can never be possible, because it would make entropy decrease with time. And this comes as a big shock because, in mechanics, any possible motion is also possible in the reverse direction. The second law says that in thermodynamics this is never true: for an isolated system, no thermodynamic motion is ever reversible. It is the opposite of what happens in mechanics! How could this ever come about, since we are told that thermodynamics is just mechanics plus statistics?"
   ]
  },
  {
   "cell_type": "code",
   "execution_count": 10,
   "id": "5cc24b59",
   "metadata": {
    "slideshow": {
     "slide_type": "skip"
    }
   },
   "outputs": [
    {
     "data": {
      "text/plain": [
       "1.6854752972273346"
      ]
     },
     "execution_count": 10,
     "metadata": {},
     "output_type": "execute_result"
    }
   ],
   "source": [
    "def joint_entropy(p_xy):\n",
    "    joint_ent = -p_xy * np.log2(p_xy)\n",
    "    # Operator `nansum` will sum up the non-nan number\n",
    "    out = np.nansum(joint_ent)\n",
    "    return out\n",
    "\n",
    "joint_entropy(np.array([[0.1, 0.5], [0.1, 0.3]]))"
   ]
  },
  {
   "cell_type": "code",
   "execution_count": 11,
   "id": "fcb53989",
   "metadata": {
    "slideshow": {
     "slide_type": "skip"
    }
   },
   "outputs": [
    {
     "data": {
      "text/plain": [
       "0.8635472023399721"
      ]
     },
     "execution_count": 11,
     "metadata": {},
     "output_type": "execute_result"
    }
   ],
   "source": [
    "def conditional_entropy(p_xy, p_x):\n",
    "    p_y_given_x = p_xy/p_x\n",
    "    cond_ent = -p_xy * np.log2(p_y_given_x)\n",
    "    # Operator `nansum` will sum up the non-nan number\n",
    "    out = np.nansum(cond_ent)\n",
    "    return out\n",
    "\n",
    "conditional_entropy(np.array([[0.1, 0.5], [0.2, 0.3]]), np.array([0.2, 0.8]))"
   ]
  },
  {
   "cell_type": "code",
   "execution_count": 12,
   "id": "457bce3e",
   "metadata": {
    "slideshow": {
     "slide_type": "skip"
    }
   },
   "outputs": [
    {
     "data": {
      "text/plain": [
       "0.7194602975157967"
      ]
     },
     "execution_count": 12,
     "metadata": {},
     "output_type": "execute_result"
    }
   ],
   "source": [
    "def mutual_information(p_xy, p_x, p_y):\n",
    "    p = p_xy / (p_x * p_y)\n",
    "    mutual = p_xy * np.log2(p)\n",
    "    # Operator `nansum` will sum up the non-nan number\n",
    "    out = np.nansum(mutual)\n",
    "    return out\n",
    "\n",
    "mutual_information(np.array([[0.1, 0.5], [0.1, 0.3]]),\n",
    "                   np.array([0.2, 0.8]), np.array([[0.75, 0.25]]))"
   ]
  },
  {
   "cell_type": "code",
   "execution_count": 19,
   "id": "24c0de8e",
   "metadata": {
    "slideshow": {
     "slide_type": "skip"
    }
   },
   "outputs": [
    {
     "data": {
      "text/plain": [
       "0.9485599924429406"
      ]
     },
     "execution_count": 19,
     "metadata": {},
     "output_type": "execute_result"
    }
   ],
   "source": [
    "def cross_entropy(y_hat, y):\n",
    "    ce = -np.log(y_hat[range(len(y_hat)), y])\n",
    "    return ce.mean()\n",
    "\n",
    "labels = np.array([0, 2])\n",
    "preds = np.array([[0.3, 0.6, 0.1], [0.2, 0.3, 0.5]])\n",
    "\n",
    "cross_entropy(preds, labels)"
   ]
  },
  {
   "cell_type": "markdown",
   "id": "456e51bf",
   "metadata": {
    "slideshow": {
     "slide_type": "skip"
    }
   },
   "source": [
    "Relative entropy\n",
    "\n",
    "The relative entropy measures the distance between two distributions and it is also called Kullback-Leibler distance. It is given by:"
   ]
  },
  {
   "cell_type": "code",
   "execution_count": 11,
   "id": "039ed188",
   "metadata": {
    "slideshow": {
     "slide_type": "skip"
    }
   },
   "outputs": [
    {
     "name": "stdout",
     "output_type": "stream",
     "text": [
      "0.6500224216483541\n",
      "0.9182958340544896\n",
      "1.0\n",
      "0.9182958340544896\n",
      "0.6500224216483541\n"
     ]
    }
   ],
   "source": [
    "# For 6 possible outcomes...\n",
    "# import numpy as np\n",
    "import math\n",
    "\n",
    "for i in range(1,6):\n",
    "    H = -(i/6)*math.log2(i/6)-(1-i/6)*math.log2(1-i/6)\n",
    "    print(H)"
   ]
  },
  {
   "cell_type": "markdown",
   "id": "534a0187",
   "metadata": {
    "slideshow": {
     "slide_type": "skip"
    }
   },
   "source": [
    "# How do previous week's topics relate?"
   ]
  },
  {
   "cell_type": "markdown",
   "id": "6c086c42",
   "metadata": {
    "slideshow": {
     "slide_type": "skip"
    }
   },
   "source": [
    "**Previous topics:**\n",
    "\n",
    "*Complex Systems (Schelling)* Computation of maximum entropy: https://github.com/cosmoharrigan/matrix-entropy. Blog explanation: https://stats.stackexchange.com/questions/17109/measuring-entropy-information-patterns-of-a-2d-binary-matrix\n",
    "\n",
    "*Reaction-diffusion*\n",
    "\n",
    "*Cellular automata* \n",
    "CA as models of complexity: https://www.nature.com/articles/311419a0.pdf\n",
    "We can compute the entropy of a cellular automata. For example, consider an elementary CA. A given rule will have a certain probability of black/white cells.\n"
   ]
  },
  {
   "cell_type": "markdown",
   "id": "f5e4ad52",
   "metadata": {
    "slideshow": {
     "slide_type": "skip"
    }
   },
   "source": [
    "Bounds\n",
    "\n",
    "The concavity of log\n",
    "log\n",
    " and Jensen's inequality is enough to show the upper bound :\n",
    "\n",
    "𝐻(𝑋)=𝔼(log21ℙ𝑋(𝑋))≤log2𝔼(1ℙ𝑋(𝑋))(Jensen's inequality)=log2||\n",
    "\n",
    "https://math.stackexchange.com/questions/1114589/entropy-is-upper-bounded-by-cardinality-of-the-random-variable"
   ]
  },
  {
   "cell_type": "code",
   "execution_count": null,
   "id": "8c248665",
   "metadata": {
    "slideshow": {
     "slide_type": "skip"
    }
   },
   "outputs": [],
   "source": [
    "An example with maximally random situation to avoid confusion"
   ]
  },
  {
   "cell_type": "code",
   "execution_count": null,
   "id": "66eb324c",
   "metadata": {
    "slideshow": {
     "slide_type": "skip"
    }
   },
   "outputs": [],
   "source": [
    "Connection of entropy to complexity"
   ]
  },
  {
   "cell_type": "markdown",
   "id": "0db2b03c",
   "metadata": {
    "slideshow": {
     "slide_type": "skip"
    }
   },
   "source": [
    "Primary resource for this slide set: https://necsi.edu/chaos-complexity-and-entropy"
   ]
  },
  {
   "cell_type": "code",
   "execution_count": null,
   "id": "e28967f0",
   "metadata": {
    "slideshow": {
     "slide_type": "skip"
    }
   },
   "outputs": [],
   "source": [
    "In Thermodynamics entropy is simply a fancy word for “disorder”\n",
    "\n",
    "You should consider the connection\n",
    "\n",
    "Include better description of bit cutting down space in half:\n",
    "    \n",
    "<center>\n",
    "<img src=\"3B1B_bits.png\" width=\"500\"/>\n",
    "</center>"
   ]
  },
  {
   "cell_type": "code",
   "execution_count": 3,
   "id": "e3acd8b6",
   "metadata": {
    "slideshow": {
     "slide_type": "skip"
    }
   },
   "outputs": [
    {
     "data": {
      "text/plain": [
       "[<matplotlib.lines.Line2D at 0x11547a810>]"
      ]
     },
     "execution_count": 3,
     "metadata": {},
     "output_type": "execute_result"
    },
    {
     "data": {
      "image/png": "[encoded data removed]",
      "text/plain": [
       "<Figure size 640x480 with 1 Axes>"
      ]
     },
     "metadata": {},
     "output_type": "display_data"
    }
   ],
   "source": [
    "import numpy as np\n",
    "import matplotlib.pyplot as plt\n",
    "\n",
    "# Generate 1,000 random samples from a normal distribution with mean 0 and standard deviation 1\n",
    "data_normal = np.random.normal(0, 1, 1000)\n",
    "\n",
    "mean_normal = 0\n",
    "stddev_normal = 1\n",
    "x_normal = np.linspace(-3, 3, 1000)  # Range of values for PDF calculation\n",
    "pdf_normal = norm.pdf(x_normal, loc=mean_normal, scale=stddev_normal)\n",
    "entropy_normal = shannon_entropy(pdf_normal)\n",
    "\n",
    "# Generate random samples from a uniform distribution between 0 and 1\n",
    "data_uniform = np.random.uniform(0, 1, 1000)\n",
    "\n",
    "# Generate random samples from an exponential distribution with rate parameter (lambda) of 0.5\n",
    "data_exponential = np.random.exponential(1/0.5, 1000)\n",
    "\n",
    "# Generate random samples from a Poisson distribution with a mean rate of 3\n",
    "data_poisson = np.random.poisson(3, 1000)\n",
    "\n",
    "# Generate random samples from a binomial distribution with 10 trials and a success probability of 0.3\n",
    "data_binomial = np.random.binomial(10, 0.3, 1000)\n",
    "\n",
    "# Generate random samples from a geometric distribution with a success probability of 0.2\n",
    "data_geometric = np.random.geometric(0.2, 1000)\n",
    "\n",
    "# Create a histogram with 20 bins\n",
    "plt.hist(data_normal, bins=20, density=True, alpha=0.6, color='b')\n",
    "\n",
    "\n"
   ]
  },
  {
   "cell_type": "code",
   "execution_count": 56,
   "id": "1129309d",
   "metadata": {
    "slideshow": {
     "slide_type": "skip"
    }
   },
   "outputs": [
    {
     "data": {
      "image/png": "[encoded data removed]",
      "text/plain": [
       "<Figure size 1500x500 with 3 Axes>"
      ]
     },
     "metadata": {},
     "output_type": "display_data"
    }
   ],
   "source": [
    "\n",
    "# Create a figure with 1 row and 3 columns of subplots\n",
    "fig, axs = plt.subplots(1, 3, figsize=(15, 5))\n",
    "\n",
    "# Define the range and number of outcomes\n",
    "lower_bound = 0\n",
    "upper_bound = 7\n",
    "num_outcomes = 1000\n",
    "\n",
    "# Generate random values from the uniform distribution\n",
    "samples_uniform = np.random.uniform(lower_bound, upper_bound, num_outcomes)\n",
    "\n",
    "# Create a histogram\n",
    "hist, bin_edges = np.histogram(samples_uniform, bins=20, range=(lower_bound, upper_bound))\n",
    "\n",
    "# Calculate the probability associated with each bin\n",
    "probabilities_uniform = hist / num_outcomes  # Normalize by the total number of outcomes\n",
    "\n",
    "# Calculate entropy using the estimated probabilities\n",
    "entropy_uniform = shannon_entropy(probabilities_uniform)\n",
    "axs[0].hist(samples_uniform, bins=20, density=True, color='powderblue')\n",
    "# axs[1].plot(x_uniform, pdf_normal, 'r-', lw=2)\n",
    "# axs[0].set_title(f'Uniform Distribution\\nEntropy: {entropy_uniform:.2f}')\n",
    "axs[0].set_xticks([])  # Remove x-axis ticks and labels\n",
    "axs[0].set_yticks([])  # Remove y-axis ticks and labels\n",
    "\n",
    "# Normal (Gaussian) Distribution\n",
    "mean_normal = 0\n",
    "stddev_normal = 1\n",
    "x_normal = np.linspace(-3, 3, 1000)\n",
    "# Create a histogram to estimate probabilities\n",
    "hist, bin_edges = np.histogram(samples_normal, bins=20, range=(-3, 3), density=True)\n",
    "\n",
    "# Calculate the probability associated with each bin\n",
    "probabilities_normal = hist * (bin_edges[1] - bin_edges[0])\n",
    "\n",
    "\n",
    "pdf_normal = norm.pdf(x_normal, loc=mean_normal, scale=stddev_normal)\n",
    "entropy_normal = shannon_entropy(probabilities_normal)\n",
    "axs[1].hist(samples_normal, bins=20, density=True, color='pink')\n",
    "# axs[1].plot(x_normal, pdf_normal, 'r-', lw=2)\n",
    "# axs[1].set_title(f'Normal Distribution\\nEntropy: {entropy_normal:.2f}')\n",
    "axs[1].set_xticks([])  # Remove x-axis ticks and labels\n",
    "axs[1].set_yticks([])  # Remove y-axis ticks and labels\n",
    "\n",
    "# Exponential Distribution\n",
    "rate_exponential = 0.1\n",
    "x_exponential = np.linspace(0, 10, 1000)\n",
    "samples_exponential = np.random.exponential(1/rate_exponential, 1000)\n",
    "\n",
    "pdf_exponential = expon.pdf(x_exponential, scale=1/rate_exponential)\n",
    "# Create a histogram to estimate probabilities\n",
    "hist, bin_edges = np.histogram(samples_exponential, bins=20, range=(0, 10), density=True)\n",
    "\n",
    "# Calculate the probability associated with each bin\n",
    "probabilities_exponential = hist * (bin_edges[1] - bin_edges[0])\n",
    "\n",
    "entropy_exponential = shannon_entropy(probabilities_exponential)\n",
    "axs[2].hist(samples_exponential, bins=20, density=True, color='navajowhite')\n",
    "# axs[2].plot(x_exponential, pdf_exponential, 'g-', lw=2)\n",
    "# axs[2].set_title(f'Exponential Distribution\\nEntropy: {entropy_exponential:.2f}')\n",
    "axs[2].set_xticks([])  # Remove x-axis ticks and labels\n",
    "axs[2].set_yticks([])  # Remove y-axis ticks and labels\n",
    "\n",
    "# Adjust spacing between subplots\n",
    "plt.tight_layout()\n",
    "\n",
    "# Save the figure to an image file (e.g., PNG, PDF, etc.)\n",
    "plt.savefig(\"entropy_figure.png\")  # Provide the desired file name and format\n",
    "\n",
    "# Display the figure\n",
    "plt.show()\n",
    "\n"
   ]
  },
  {
   "cell_type": "code",
   "execution_count": 47,
   "id": "bcd4e895",
   "metadata": {
    "slideshow": {
     "slide_type": "skip"
    }
   },
   "outputs": [],
   "source": [
    "def shannon_entropy(probabilities):\n",
    "    entropy = 0\n",
    "    for p in probabilities:\n",
    "        if p > 0:\n",
    "            entropy -= p * np.log2(p)\n",
    "    return entropy"
   ]
  },
  {
   "cell_type": "code",
   "execution_count": null,
   "id": "d20b607c",
   "metadata": {
    "slideshow": {
     "slide_type": "skip"
    }
   },
   "outputs": [],
   "source": [
    "# Define a function to calculate Shannon entropy\n",
    "def shannon_entropy(probabilities):\n",
    "    entropy = -np.sum(probabilities * np.log2(probabilities))\n",
    "    return entropy\n"
   ]
  },
  {
   "cell_type": "code",
   "execution_count": 51,
   "id": "0e2f962d",
   "metadata": {
    "slideshow": {
     "slide_type": "skip"
    }
   },
   "outputs": [
    {
     "data": {
      "text/plain": [
       "array([45, 49, 48, 56, 43, 53, 50, 50, 43, 52, 54, 53, 53, 48, 64, 55, 41,\n",
       "       48, 43, 52])"
      ]
     },
     "execution_count": 51,
     "metadata": {},
     "output_type": "execute_result"
    }
   ],
   "source": [
    "# Define the range and number of outcomes\n",
    "lower_bound = 0\n",
    "upper_bound = 7\n",
    "num_outcomes = 1000\n",
    "\n",
    "# Generate random values from the uniform distribution\n",
    "samples_uniform = np.random.uniform(lower_bound, upper_bound, num_outcomes)\n",
    "\n",
    "# Create a histogram\n",
    "hist, bin_edges = np.histogram(samples_uniform, bins=20, range=(lower_bound, upper_bound))\n",
    "\n",
    "# Calculate the probability associated with each bin\n",
    "probabilities_uniform = hist / num_outcomes  # Normalize by the total number of outcomes\n",
    "\n",
    "# Calculate entropy using the estimated probabilities\n",
    "entropy_uniform = shannon_entropy(probabilities_uniform)\n",
    "hist"
   ]
  },
  {
   "cell_type": "markdown",
   "id": "d18b18c9",
   "metadata": {
    "slideshow": {
     "slide_type": "skip"
    }
   },
   "source": [
    "# For inclusion in 2024\n",
    "\"A new method of estimating the entropy and redundancy of a language is described.\" - Shannon's original paper looked at the redundancy of a language too\n",
    "https://www.princeton.edu/~wbialek/rome/refs/shannon_51.pdf\n",
    "\n",
    "If the language is translated into binary digits(0 or 1) in the most efficient way, the entropy is the average number of binary digits required per letter of the original language. "
   ]
  }
 ],
 "metadata": {
  "@webio": {
   "lastCommId": null,
   "lastKernelId": null
  },
  "celltoolbar": "Slideshow",
  "kernelspec": {
   "display_name": "Python 3 (ipykernel)",
   "language": "python",
   "name": "python3"
  },
  "language_info": {
   "codemirror_mode": {
    "name": "ipython",
    "version": 3
   },
   "file_extension": ".py",
   "mimetype": "text/x-python",
   "name": "python",
   "nbconvert_exporter": "python",
   "pygments_lexer": "ipython3",
   "version": "3.11.0"
  },
  "toc": {
   "base_numbering": 1,
   "nav_menu": {},
   "number_sections": true,
   "sideBar": true,
   "skip_h1_title": false,
   "title_cell": "Table of Contents",
   "title_sidebar": "Contents",
   "toc_cell": false,
   "toc_position": {},
   "toc_section_display": true,
   "toc_window_display": false
  }
 },
 "nbformat": 4,
 "nbformat_minor": 5
}

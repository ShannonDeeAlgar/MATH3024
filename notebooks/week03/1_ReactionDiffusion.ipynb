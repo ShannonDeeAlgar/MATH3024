{
 "cells": [
  {
   "cell_type": "markdown",
   "id": "a2fe3243",
   "metadata": {
    "slideshow": {
     "slide_type": "slide"
    }
   },
   "source": [
    "# How the cheetah got his spots\n",
    "\n",
    "Why aren't they striped?\n",
    "\n",
    "And why is Midjourney struggling so much to draw a stripey cheetah?!!?\n",
    "\n",
    "<center> \n",
    "<img src=\"MidJ_Cheetah.png\" width=\"400\"/>\n",
    "</center>\n",
    "\n",
    "<!-- This is not a fractal -->"
   ]
  },
  {
   "cell_type": "markdown",
   "id": "a6470290",
   "metadata": {
    "slideshow": {
     "slide_type": "subslide"
    }
   },
   "source": [
    "And it's not just a cheetah's spots... there are patterns all around us\n",
    "\n",
    "We see similarities in systems that seem to share nothing in common\n",
    "\n",
    "<centre> \n",
    "<img src=\"Zebra_SandRipples.png\" width=\"600\"/>\n",
    "</centre>\n",
    "\n",
    "<!-- <table><tr>\n",
    "<td> <img src=\"Zebra.jpg\" alt=\"Drawing\" style=\"width: 250px;\"/> </td>\n",
    "<td> <img src=\"1969_Afghanistan_(Sistan)_wind_ripples.tiff\" alt=\"Drawing\" style=\"width: 250px;\"/> </td>\n",
    "</tr></table> -->\n",
    "\n",
    "(Sand ripples: By Kempf EK - Own work, CC BY-SA 3.0, https://commons.wikimedia.org/w/index.php?curid=31910106)\n",
    "\n",
    "Pattern formation is explored in many fields: developmental biology, cell biology and synthetic biology, to physics, mathematics and computer science\n",
    "\n",
    "Complex Systems Thinkers therefore seek to use mathematical methods to \n",
    "- model and understand the underlying mechanisms driving biological pattern formation; and \n",
    "- quantify the resulting pattern. "
   ]
  },
  {
   "cell_type": "markdown",
   "id": "ec366d2b",
   "metadata": {
    "slideshow": {
     "slide_type": "slide"
    }
   },
   "source": [
    "# What is a pattern?\n",
    "We sort of know intuitively. Humans have an uncanny ability to smooth detail in order to see patterns\n",
    "\n",
    "Neither bland uniformity nor disorderly chaos but something in between with some notion of *'repetition'*\n",
    "\n",
    "A simple type of pattern is a repeating structure in space, like wallpaper tessellations or symmetries (shifting one's view by one repeat length results in seeing the same thing). There are also repeating patterns in time, like the seasons. \n",
    "\n",
    "Alternatively, you can consider something like a dress pattern (prototypes), which allows for the dress to be copied\n",
    "\n",
    "Possible definitions:\n",
    "- a set of relationships that are satisfied by observations of a system or a collection of systems\n",
    "- a simple kind of emergent property of a system, where the pattern is a property of the system as a whole but is not a property of small parts of the system\n",
    "- a property of a system that allows its description to be shortened as compared to a list of the descriptions of its parts\n",
    "\n",
    "<!-- These two notions of a pattern depict different types of emergent properties: those that arise from relationships between parts of a system, and those that arise from relationships between the system and its environment. -->"
   ]
  },
  {
   "cell_type": "markdown",
   "id": "4aeacfff",
   "metadata": {
    "slideshow": {
     "slide_type": "subslide"
    }
   },
   "source": [
    "## How do they form? \n",
    "How patterns form (pattern formation) and how they are recognised by the brain (pattern recognition) are important areas of study in complex systems \n",
    "\n",
    "Patterns emerge via via *spatio-temporal dynamics*\n",
    "- fractals\n",
    "- Rayleigh-Bénard convection\n",
    "- growth processes can both produce honeycomb-like structures, \n",
    "- elastic instability is thought to be responsible for fold patterns on the cerebral cortex of higher animals \n",
    "- ...\n",
    "- patterns are likely the result of an interplay of several mechanisms and processes across many scales \n",
    "\n",
    "Today we will focus on one of the most celebrated mechanisms to explain self-organising spatial structures - Turing reaction-diffusion instability as a source of symmetry breaking\n",
    "<!-- (Space can be either 'real' space or a state space) -->\n",
    "<!-- Spatio-temporal dynamics are typically modelled with partial differential equations (PDEs), i.e. in a continuous field (distinction is important because next week is cellular automata) -->\n"
   ]
  },
  {
   "cell_type": "markdown",
   "id": "26286a64",
   "metadata": {
    "slideshow": {
     "slide_type": "slide"
    }
   },
   "source": [
    "# Alan Turing\n",
    "<table><tr>\n",
    "<td> <img src=\"Alan_Turing_Aged_16.jpg\" alt=\"Drawing\" style=\"width: 100px;\"/> </td>\n",
    "<td> <img src=\"The_Imitation_Game_(2014).png\" alt=\"Drawing\" style=\"width: 90px;\"/> </td>\n",
    "</tr></table>\n",
    "\n",
    "Well-known for:\n",
    "- Enigma (code used by the Germany Navy) codebreaker during the Second World War and is widely considered to have been critical for ending the war\n",
    "- Pioneer/the father of computer science and all round visionary. Created blueprint for the digital computer — a universal computing device that may store and execute programs. Also outlined the basics of what would later become known as artificial intelligence, Turing test for determining whether machines can think.\n",
    "<!-- : a human interrogator who poses questions to the machine and to a human foil, and seeks to identify which is which. If there is no discernible difference in the responses,we have no logical reason to deny that the machine is thinking. Famously used in Ridley Scott’s 1982 movieB laderunner to identify non-human ‘replicants’.  -->\n",
    "- Suffered shameful treatment accepting ‘corrective’ hormone therapy (chemical castration) in preference to jail time for 'homosexual acts' after the war, precipitating  his suicide. (The British government apologised for this in 2009:  https://www.theguardian.com/world/2009/sep/11/pm-apology-to-alan-turing)"
   ]
  },
  {
   "cell_type": "markdown",
   "id": "b72f5b93",
   "metadata": {
    "slideshow": {
     "slide_type": "subslide"
    }
   },
   "source": [
    "## The chemical basis of morphogenesis\n",
    "\n",
    "Turing was ahead of his time in many ways\n",
    "\n",
    "He is not so well-known for his contributions to a fundamental problem in biology: the mechanism underlying biological regularity of patterns. He was the first to offer an explanation of morphogenesis through chemistry\n",
    "\n",
    "His prediction was extremely original (no-one was really asking these questions until Turing, he only referenced 6 relevant works!)\n",
    "\n",
    "</center>\n",
    "<img src=\"TuringReferences.png\" width=\"400\"/>\n",
    "</center>\n",
    "\n",
    "Turing, Alan M. The Chemical Basis of Morphogenesis. 1952. Philosophical Transactions of the Royal Society; 237: 37-72\n",
    "https://royalsocietypublishing.org/doi/10.1098/rstb.1952.0012\n",
    "<!-- Published in the year prior to his death -->\n",
    "\n",
    "This work has now been cited over 16000 times!!\n"
   ]
  },
  {
   "cell_type": "markdown",
   "id": "5bc43079",
   "metadata": {
    "slideshow": {
     "slide_type": "subslide"
    }
   },
   "source": [
    "## Morphogenesis\n",
    "\n",
    "*'Morphogenesis'*, from the Greek *morphê* meaning shape/form and *genesis* meaning creation (literally \"the generation of form\")\n",
    "\n",
    "General mechanism producing a diverse array of patterns\n",
    "\n",
    "Morphogens are the 'shape formers'. They are **different chemical signals/substances that react together and diffuse through a plant or animal tissue, one activating and one deactivating growth, to set up patterns of development**\n",
    "\n",
    "Turing was deliberately vague about what these morphogens were. They could be chemicals/molecules/proteins/hormones/genes etc, operating in tissue or cells... It was the 50s lots wasn't known yet and Turing wasn't trying to be a biologist\n",
    "\n",
    "The interaction between *activator and inhibitor morphogens* leads to the formation of spatial patterns of pigmentation, either through the instability of homogeneous states or the formation of spatial gradients\n",
    "\n",
    "</center>\n",
    "<img src=\"TuringOriginal_Dappled.png\" width=\"400\"/>\n",
    "</center>"
   ]
  },
  {
   "cell_type": "markdown",
   "id": "5fe3bb65",
   "metadata": {
    "slideshow": {
     "slide_type": "subslide"
    }
   },
   "source": [
    "The theory was largely ignored for several decades (the biological community became fixated with the double-helix structure of DNA a year later and the subsequent development of molecular biology) but is now still active and new examples of these patterns are still being discovered\n",
    "\n",
    "Interest was kickstarted In the 1970s, Alfred Gierer and Hans Meinhardt reintroduced the ideas of a diffusion-driven instability leading to pattern formation in their study of Hydra, a freshwater invertebrate. They identified the fundamental ingredients: Locally acting activator, and an inhibitor that suppresses pattern elements over longer ranges. \n",
    "</center>\n",
    "<img src=\"Hydra.jpg\" width=\"400\"/>\n",
    "</center>\n",
    "<!-- In Greek mythology the Hydra was a poisonous, many-headed serpent with the power of regeneration – cut off one of its heads and two would grow in its place -->\n",
    "\n",
    "It's only quite recently been possible to test the idea (with increased computing power + advances in molecular sciences on the bio side) - a common theme in Complex Systems! \n",
    "\n",
    "Determining what the job of each morphogen is will be critical, as scientists come to programme stem cells to do certain things in the body."
   ]
  },
  {
   "cell_type": "markdown",
   "id": "d112f5d4",
   "metadata": {
    "slideshow": {
     "slide_type": "slide"
    }
   },
   "source": [
    "# Reaction-diffusion systems\n",
    "\n",
    "<!-- How the single celled fertilised egg becomes a striped zebra -->\n",
    "\n",
    "A process by which complex spatial structures may arise\n",
    "\n",
    "It is the *interaction* (or “reaction”) of two morphogens that allows for the autonomous generation of spatial patterns during development via a type of symmetry breaking"
   ]
  },
  {
   "cell_type": "markdown",
   "id": "db1a470f",
   "metadata": {
    "slideshow": {
     "slide_type": "subslide"
    }
   },
   "source": [
    "## Competing interests \n",
    "\n",
    "##### Activator\n",
    "Slow-moving activator (the reactant) promotes pigment formation in regions where its concentration is high\n",
    "\n",
    "- tells cell to do something, such as make colored pigment; \n",
    "- tells cell to make more activator; and \n",
    "- tells cell to start making its inhibitor. \n",
    "\n",
    " \n",
    " \n",
    "##### Inhibitor (of the activator)\n",
    "\n",
    "Fast-moving inhibitor (the autocatalyst), thus acting at longer ranges, inhibits pigment formation in regions where its concentration is high\n",
    "- tells cell to slow down activator production (and thus, ultimately, to make less of itself). "
   ]
  },
  {
   "cell_type": "markdown",
   "id": "acebe95c",
   "metadata": {
    "slideshow": {
     "slide_type": "subslide"
    }
   },
   "source": [
    "## Reaction\n",
    "    \n",
    "We use $A$ and $B$ to denote the activator (reactant) and inhibitor (product) respectively and will explore the specific example of the following chemical reactions:\n",
    "\n",
    "$A+2B\\rightarrow 3B$\n",
    "\n",
    "i.e. a single species of $A$ will interact with two species of $B$ to form three species of $B$ (sort of like predator-prey (i.e. $B$-$A$) system)\n",
    "\n",
    "This is part of the Gray-Scott model\n",
    "\n",
    "For this interaction to happen (with some probability) the particles first have to come into contact with each other."
   ]
  },
  {
   "cell_type": "markdown",
   "id": "c5c3ba5e",
   "metadata": {
    "slideshow": {
     "slide_type": "subslide"
    }
   },
   "source": [
    "## Diffusion\n",
    "\n",
    "But first... Brownian motion - a bridge between the (invisible) atomic and the (observable) macroscopic world\n",
    "\n",
    "aka Wiener processes, named for Robert Brown [1827], but explained with the kinetic theory of gases by Albert Einstein [1905]\n",
    "<!-- Brown noticed that pollen grains suspended in water  -->\n",
    "\n",
    "A (microscopic) particle suspended in a fluid (e.g. dust in air) moves in an apparently random motion because of the constant, random collisions of the suspended particle with the quick molecules of the surrounding fluid \n",
    "<!-- We don't see big particles jiggle because they are obviously too heavy to be moved by the collisions -->\n",
    "\n",
    "It's a huge number of collisions (like 10^16-10^20/second for gas/water) but the forces from these collisions are not symmetric in both time and space at every instant and so there is a net movement\n",
    "\n",
    "<!-- Cells are full of proteins, complex macromolecules that perform nearly every cellular function. If a protein could move in a straight line, then it would move at 20 kph or faster, meaning that the protein would cover a distance 1 billion times its length every second (analogous to a car traveling at 20 billion kph). However, the cytoplasm filling the cell is so densely packed with water molecules that the protein ping-pongs off them, frequently changing direction. -->\n",
    "\n",
    "<!-- It is a continuous process such that its increments for any time scale are drawn from a normal distribution -(The normal distribution ticks most boxes for analytical properties) -->"
   ]
  },
  {
   "cell_type": "code",
   "execution_count": 7,
   "id": "11879310",
   "metadata": {
    "slideshow": {
     "slide_type": "fragment"
    }
   },
   "outputs": [
    {
     "data": {
      "text/html": [
       "\n",
       "        <iframe\n",
       "            width=\"400\"\n",
       "            height=\"300\"\n",
       "            src=\"https://www.youtube.com/embed/7orMPKrYPwE\"\n",
       "            frameborder=\"0\"\n",
       "            allowfullscreen\n",
       "            \n",
       "        ></iframe>\n",
       "        "
      ],
      "text/plain": [
       "<IPython.lib.display.YouTubeVideo at 0x10f2a1e90>"
      ]
     },
     "metadata": {},
     "output_type": "display_data"
    }
   ],
   "source": [
    "# https://www.youtube.com/watch?v=7orMPKrYPwE\n",
    "from IPython.display import YouTubeVideo\n",
    "display(YouTubeVideo(\"7orMPKrYPwE\", width=400))\n",
    "\n",
    "\n",
    "# https://www.youtube.com/watch?v=cD3dOlcxVmE\n",
    "# from IPython.display import YouTubeVideo\n",
    "# display(YouTubeVideo(\"cD3dOlcxVmE\", width=400))\n"
   ]
  },
  {
   "cell_type": "markdown",
   "id": "259fd509",
   "metadata": {
    "slideshow": {
     "slide_type": "subslide"
    }
   },
   "source": [
    "### Brownian motion \n",
    "\n",
    "<!-- The equation Einstein derived to describe Brownian motion is: -->\n",
    "\n",
    "$ \\langle x^2 \\rangle = 2Dt $\n",
    "- $\\langle x^2 \\rangle$ is the mean square displacement of the particle\n",
    "- $D$ is the diffusion coefficient\n",
    "- $t$ is the time elapsed.\n",
    "\n",
    "The diffusion coefficient $D$ can be related to other physical quantities through the Stokes-Einstein equation:\n",
    "\n",
    "$ D = \\frac{k_B T}{6 \\pi \\eta r} $\n",
    "- $k_B$ is the Boltzmann constant\n",
    "- $T$ is the absolute temperature of the fluid\n",
    "- $\\eta$ is the dynamic viscosity of the fluid\n",
    "- $r$ is the radius of the spherical particle.\n",
    "\n",
    "By combining these equations, Einstein provided a way to calculate the diffusion coefficient from measurable quantities and to study the properties of the particles and the fluid they are suspended in. This approach allowed for experimental verification and provided a method to estimate Avogadro's number, thus giving strong support to the atomic theory of matter.\n",
    "<!-- Einstein worked out how much atoms (that he couldn't see) weigh by observing the diffusion (that he could see). We didn't even know for sure that matter was made of atoms in 1905! He assumed that all particles move by same rules it's just that we can't see the really small ones -->\n",
    "\n",
    "<!-- Completed the groundwork for the development of statistical mechanics that had begun with Maxwell, Boltzmann and Gibbs towards end of 19th century. It demonstrated how macroscopic phenomena could be explained by the statistical behavior of microscopic particles -->\n",
    "\n",
    "<!-- Brownian motion is the building block of stochastic calculus and therefore, the key to simulating stochastic processes.  -->"
   ]
  },
  {
   "cell_type": "markdown",
   "id": "1c3f97fc",
   "metadata": {
    "slideshow": {
     "slide_type": "subslide"
    }
   },
   "source": [
    "##### Random walks\n",
    "To model this phenomenon a particle evolves in space by taking independent steps in a random direction\n",
    "\n",
    "<!-- Mathematically, it's a particular Markov continuous stochastic process -->\n",
    "\n",
    "After $n$ steps of unit length in a random walk, a particle will on average find itself a distance from its origin that is proportional to $\\sqrt{n}$\n",
    "\n",
    "With many particles performing random walks like this the particles will slowly spread outwards at a certain rate. This is *diffusion*\n",
    "\n",
    "Eventually they will fill the space they have to occupy and be evenly mixed, i.e. diffusion should lead to uniformity\n",
    "\n",
    "Intuitively we know this happens. You smell dinner before you see it and wearing masks in the midst of a pandemic is good."
   ]
  },
  {
   "cell_type": "code",
   "execution_count": 4,
   "id": "84aac6ae",
   "metadata": {
    "slideshow": {
     "slide_type": "skip"
    }
   },
   "outputs": [],
   "source": [
    "import numpy as np\n",
    "import matplotlib.pyplot as plt\n",
    "from matplotlib.animation import FuncAnimation\n",
    "\n",
    "def simulate_brownian_motion(num_steps, step_size):\n",
    "    displacements = np.random.normal(loc=0, scale=np.sqrt(step_size), size=(num_steps, 2))\n",
    "    positions = np.cumsum(displacements, axis=0)\n",
    "    return positions\n",
    "\n",
    "num_steps = 1000\n",
    "step_size = 0.1\n",
    "positions = simulate_brownian_motion(num_steps, step_size)\n",
    "\n",
    "# Create a figure and axis for the animation\n",
    "fig, ax = plt.subplots()\n",
    "line, = ax.plot([], [], lw=2)\n",
    "ax.set_title(\"Brownian motion\")\n",
    "ax.set_xlabel(r\"$x$\")\n",
    "ax.set_ylabel(r\"$y$\")\n",
    "ax.set_xlim(-10, 10)\n",
    "ax.set_ylim(-10, 10)\n",
    "\n",
    "# Reduce the number of frames for the animation\n",
    "num_frames = 100\n",
    "frames = np.linspace(0, num_steps - 1, num_frames, dtype=int)\n",
    "\n",
    "def init():\n",
    "    line.set_data([], [])\n",
    "    return line,\n",
    "\n",
    "def update(frame):\n",
    "    line.set_data(positions[:frame, 0], positions[:frame, 1])\n",
    "    return line,\n",
    "\n",
    "# Create the animation\n",
    "animation = FuncAnimation(fig, update, frames=frames, init_func=init, blit=True)\n",
    "\n",
    "# To display the animation in Jupyter Notebook, use the following line:\n",
    "from IPython.display import HTML\n",
    "HTML(animation.to_jshtml())\n",
    "\n",
    "plt.close()"
   ]
  },
  {
   "cell_type": "code",
   "execution_count": 5,
   "id": "a0eac11a",
   "metadata": {
    "slideshow": {
     "slide_type": "skip"
    }
   },
   "outputs": [
    {
     "data": {
      "image/png": "[encoded data removed]",
      "text/plain": [
       "<Figure size 640x480 with 1 Axes>"
      ]
     },
     "metadata": {},
     "output_type": "display_data"
    }
   ],
   "source": [
    "def simulate_brownian_motion(num_steps, step_size):\n",
    "    # Generate random displacements\n",
    "    displacements = np.random.normal(loc=0, scale=np.sqrt(step_size), size=(num_steps, 2))\n",
    "    \n",
    "    # Calculate cumulative sum of displacements\n",
    "    positions = np.cumsum(displacements, axis=0)\n",
    "    \n",
    "    return positions\n",
    "\n",
    "# Set the number of steps and step size\n",
    "num_steps = 1000\n",
    "step_size = 0.1\n",
    "\n",
    "# Simulate Brownian motion\n",
    "positions = simulate_brownian_motion(num_steps, step_size)\n",
    "\n",
    "# Plot the results\n",
    "plt.plot(positions[:, 0], positions[:, 1])\n",
    "plt.title(\"Brownian motion\")\n",
    "plt.xlabel(r\"$x$\")\n",
    "plt.ylabel(r\"$y$\")\n",
    "plt.show()"
   ]
  },
  {
   "cell_type": "markdown",
   "id": "f7ee60e4",
   "metadata": {
    "slideshow": {
     "slide_type": "subslide"
    }
   },
   "source": [
    "Returning to the example we are considering of the two morphogens...\n",
    "\n",
    "Let the diffusion of $B$ (white-blue-purple), $D_B$ to be twice that of $A$ (yellow-orange-brown), $D_A$."
   ]
  },
  {
   "cell_type": "code",
   "execution_count": 6,
   "id": "ea90d920",
   "metadata": {
    "slideshow": {
     "slide_type": "fragment"
    }
   },
   "outputs": [
    {
     "data": {
      "image/png": "[encoded data removed]",
      "text/plain": [
       "<Figure size 800x400 with 1 Axes>"
      ]
     },
     "metadata": {
      "needs_background": "light"
     },
     "output_type": "display_data"
    }
   ],
   "source": [
    "import numpy as np\n",
    "import matplotlib.pyplot as plt\n",
    "%matplotlib inline\n",
    "\n",
    "n = 5000\n",
    "\n",
    "# Adjust the standard deviation to change diffusion rate.\n",
    "diffusion_rate_1 = 0.1  # Adjust this value for particle 1\n",
    "diffusion_rate_2 = 0.2  # Adjust this value for particle 2\n",
    "\n",
    "x_1 = np.cumsum(diffusion_rate_1 * np.random.randn(n))\n",
    "y_1 = np.cumsum(diffusion_rate_1 * np.random.randn(n))\n",
    "x_2 = np.cumsum(diffusion_rate_2 * np.random.randn(n))\n",
    "y_2 = np.cumsum(diffusion_rate_2 * np.random.randn(n))\n",
    "\n",
    "# We add 10 intermediary points between two\n",
    "# successive points. We interpolate x and y.\n",
    "k = 10\n",
    "x_1B = np.interp(np.arange(n * k), np.arange(n) * k, x_1)\n",
    "y_1B = np.interp(np.arange(n * k), np.arange(n) * k, y_1)\n",
    "x_2B = np.interp(np.arange(n * k), np.arange(n) * k, x_2)\n",
    "y_2B = np.interp(np.arange(n * k), np.arange(n) * k, y_2)\n",
    "\n",
    "plt.rcParams['axes.facecolor'] = 'none'\n",
    "\n",
    "fig, ax = plt.subplots(1, 1, figsize=(8, 4))\n",
    "fig.patch.set_alpha(0)\n",
    "\n",
    "ax.scatter(x_1B, y_1B, c=range(n * k), linewidths=0,\n",
    "           marker='o', s=3, cmap=plt.cm.YlOrBr,)\n",
    "ax.scatter(x_2B, y_2B, c=range(n * k), linewidths=0,\n",
    "           marker='o', s=3, cmap=plt.cm.BuPu,)\n",
    "\n",
    "ax.axis('equal')\n",
    "ax.set_axis_off()\n",
    "\n",
    "plt.show()\n"
   ]
  },
  {
   "cell_type": "markdown",
   "id": "46796b54",
   "metadata": {
    "slideshow": {
     "slide_type": "subslide"
    }
   },
   "source": [
    "##### Turing instabilities\n",
    "\n",
    "Turing considered a chemical system that was in a stable equilibrium state, so that no net reactions were occurring, but that could be *destabilised* by the presence of diffusion of these chemicals\n",
    "\n",
    "This is sort of paradoxical - diffusion normally acts to smooth out concentration differences. But Turing showed that it can cause an initially homogeneous system to become patterned\n",
    "\n",
    "How? Small fluctuations in concentration can lead to a situation where areas with a higher concentration of one chemical promote a reaction that further increases the concentration difference. Over time, this *feedback* can create distinct patterns. "
   ]
  },
  {
   "cell_type": "markdown",
   "id": "d1f8631e",
   "metadata": {
    "slideshow": {
     "slide_type": "subslide"
    }
   },
   "source": [
    "## Regulation\n",
    "\n",
    "We will also include:\n",
    "- Feed rate, $f$: controls the supply of $A$\n",
    "- Kill rate, $k$: controls the decay of $B$ (converted to $C$ via the chemical reaction: $B\\rightarrow C$, where $C$ is an inert product of these irreversible reactions)\n",
    "\n",
    "This is also lumped in with the 'reaction' part of the dynamics (because it isn't diffusion)"
   ]
  },
  {
   "cell_type": "markdown",
   "id": "36fa3ed0",
   "metadata": {
    "slideshow": {
     "slide_type": "subslide"
    }
   },
   "source": [
    "## Putting it all together\n",
    "</center>\n",
    "<img src=\"ReactionDiffusion_Particles.png\" width=\"750\"/>\n",
    "</center>"
   ]
  },
  {
   "cell_type": "markdown",
   "id": "ee05f8af",
   "metadata": {
    "slideshow": {
     "slide_type": "slide"
    }
   },
   "source": [
    "# So what happens in this system?\n",
    "\n",
    "How do we solve this?\n",
    "\n",
    "The short answer is that we don't... we simulate it (but this is a 'solution' too)\n",
    "\n",
    "<!-- All the interactions are local so this a good candidate for a parallel implementation.  -->\n",
    "<!-- Diffusion may be modeled by an explicitly conservative exchange process among neighbours where the reactions are locally modeled. -->"
   ]
  },
  {
   "cell_type": "markdown",
   "id": "6ae25a88",
   "metadata": {
    "slideshow": {
     "slide_type": "subslide"
    }
   },
   "source": [
    "## What's important in our simulations?\n",
    "<!-- There is also a length scale for the interaction to occur, possibly some probability for the conversion etc but these are the main parameters assumed:-->\n",
    "\n",
    "Assuming we have the right reaction equations, we move on to explore the parameters:\n",
    "- $k$\n",
    "- $f$\n",
    "- $D_A$\n",
    "- $D_B$\n",
    "\n",
    "We need to explore (via parameter sweeps) the many combinations (the parameter space) of these parameters \n",
    "\n",
    "4-dimensional parameter space, maybe 3 if we have a relationship between the diffusions. Hopefully we can fix the diffusions using something anchored with physical meaning\n",
    "\n",
    "Not all points in the parameter space produce dynamically interesting patterns"
   ]
  },
  {
   "cell_type": "markdown",
   "id": "9988c7d6",
   "metadata": {
    "slideshow": {
     "slide_type": "subslide"
    }
   },
   "source": [
    "## What can happen?\n",
    "\n",
    "Types of behaviour/global patterns:\n",
    "- stationary states: ($\\dot{A}=0, \\dot{B}=0$) unmoving in time and space\n",
    "<!-- For example, consider the situation where there are no B particles. Then B cannot be generated. We can also consider stability of this solution with respect to small perturbations. And consider the types of bifurcations we go through as we move over the parameter space. -->\n",
    "- oscillatory solutions\n",
    "- spatio-temporal chaos (turbulence)\n",
    "- instabilities: even in regions that would exhibit stable stationary states in a well-mixed system, the diffusion in the system can destabilise the uniform state by the Turing mechanism and spatial structure spontaneously emerges\n",
    "- bifurcations: The complexity of the patterns of the Gray-Scott model emerges because in a narrow range in parameter space a Hopf bifurcation, a saddle node bifurcation and Turing instabilities are entangled.\n",
    "\n",
    "<!-- With more morphogens we may see more complex patterns such as travelling waves -->\n",
    "\n",
    "Many of the patterns this simple model produces are familiar\n",
    "\n",
    "<!-- Turing proposed that the interaction of the morphogens is able to produce six different scenarios upon reaching a stable, constant state\n",
    "\n",
    "Case I: Uniform, stationary state. All cells are the same, behaving as if each were in isolation. Eg, mixing two food colorings to a cup of water changes the water to a single hue of color.\n",
    "Case II: Uniform, oscillating state. Similar to case I, except that the cells depart from equilibrium in an oscillatory manner. Eg, cycles of flowers closing and opening in plants.\n",
    "Case III: Salt-and-pepper formation. Cells that have changed or “differentiated” inhibit neighboring cells from differentiating. Eg, garden plot of sunflowers where spacing between adjacent plants is determined by the ability of the plants to inhibit growth of one another due to factors such as competition for nutrients and water.\n",
    "Case IV: Oscillation of salt-and-pepper state.\n",
    "Case V: Traveling wave formation. This scenario requires at least three morphogens, as two morphogens may only result in a stationary pattern (Figure 3B-C). Eg, movement of a slinky at one end propagates itself until it reaches the opposite end.\n",
    "Case VI: Stationary wave formation (Turing patterns). A wave pattern is maintained by a system that has reached dynamic equilibrium (where the morphogens continue to move and react but there is no net change in the overall state). The pattern’s wavelength (the distance between the “peaks” of the wave) is determined by how the molecules react and rates at which they diffuse (Figure 4).\n",
    " -->\n",
    " \n",
    "Stability analysis lets us find the regimes of $f$ and $k$ where interesting things happen. (Some of this will be familiar from MATH3021 but if it isn't don't worry, the intuitive understanding of these types of behaviour is sufficient)"
   ]
  },
  {
   "cell_type": "markdown",
   "id": "150735d5",
   "metadata": {
    "slideshow": {
     "slide_type": "subslide"
    }
   },
   "source": [
    "## Putting all of this together into a complete picture of the model\n",
    "\n",
    "\n",
    "- Have you seen the Complexity Explorables yet? Warning: You may lose a big part of your day visiting this website! https://www.complexity-explorables.org/explorables/hopfed-turingles/ \n",
    "- Another really nice one if you want to play around a bit more: https://visualpde.com/nonlinear-physics/gray-scott.html\n",
    "- And the 'original' here: http://web.archive.org/web/19981206145216/http://www.ccsf.caltech.edu/ismap/image.html"
   ]
  },
  {
   "cell_type": "markdown",
   "id": "41e54183",
   "metadata": {
    "slideshow": {
     "slide_type": "skip"
    }
   },
   "source": [
    "##### Extensions\n",
    "The reaction-diffusion system can be modulated by other factors\n",
    "\n",
    "These influence the formation of the patterns but require extending (and complicating) the model:\n",
    "- Orientation: diffusion can occur faster in one direction than another to give an orientation to the results.\n",
    "- 'Style Map': the feed and kill rates can vary across the grid to give different patterns in different areas.\n",
    "- Flow: the chemicals can flow across the grid under the influence of an external force to give various dynamic effects.\n",
    "- Size: the scale of the pattern changes when the reaction rate is sped up or slowed down relative to the diffusion rate.\n",
    "- External influences"
   ]
  },
  {
   "cell_type": "markdown",
   "id": "4dfe596a",
   "metadata": {
    "slideshow": {
     "slide_type": "subslide"
    }
   },
   "source": [
    "# So why does a cheetah have spots?\n",
    "Diverse anatomies from similar genes. There are countless varieties of stripes, spots and scales - each species surely can't all have their own personal blueprint\n",
    "\n",
    "Understanding why a zebra has stripes and a cheetah has spots may come down to understanding how the animal shape influences the reaction and diffusion of the relevant morphogens\n",
    "\n",
    "<center>\n",
    " <img src=\"Cheetah_leopard_jaguar.pdf\" width=\"400\"/>\n",
    "</center>\n"
   ]
  },
  {
   "cell_type": "markdown",
   "id": "0d3639e9",
   "metadata": {
    "slideshow": {
     "slide_type": "skip"
    }
   },
   "source": [
    "# Returning to understanding a zebra's or sand-dune's stripes\n",
    "deposition of wind-blown grains.\n",
    "\n",
    "Formation of ripple is self-enhancing because it captures more sand the bigger it gets (positive i.e. self-reinforcing feedback). Meanwhile depleting the air of sand grains suppressing another ripple for some distance downwind\n",
    "\n",
    "Pigmentation of zebra skin"
   ]
  },
  {
   "cell_type": "markdown",
   "id": "fd9292e5",
   "metadata": {
    "slideshow": {
     "slide_type": "skip"
    }
   },
   "source": [
    "# Biology benefiting from a reductive ‘physicist’s’ approach. \n",
    "\n",
    "More mathematical approaches to biology now take account of the physical forces and constraints on an organism’s development\n",
    "\n",
    "Biology is messy and complicated, with many confounding factors, which makes it difficult to demonstrate experimentally that a pattern results from a Turing mechanism\n",
    "\n",
    "Synthetic biological systems are playgrounds to explore basic mechanisms of biology in a controlled environment.\n",
    "\n",
    "\n",
    "<!-- Turing’s original model, and many subsequent papers, have only explored the case of two interacting morphogens, but we now know that developmental processes involve hundreds of distinct chemical compounds interacting across a complex and heterogeneous environment. \n",
    "\n",
    "The challenge is pinpointing the precise mechanisms serving in the activator and inhibitor roles. \n",
    "\n",
    "Population migration, infection outbreaks, chemical reactions, BZ reaction, pattern formation and morphogenesis, neural activity in brain, electrical patterns in heart, **signalling patterns of slime mould**. -->\n"
   ]
  },
  {
   "cell_type": "markdown",
   "id": "a0ee7ecb",
   "metadata": {
    "slideshow": {
     "slide_type": "subslide"
    }
   },
   "source": [
    "##### Animal patterns:\n",
    "\n",
    "<!-- Labyrinthine patterns on giant pufferfish:  -->\n",
    "<center>\n",
    "    <img src=\"Pufferfish.png\" width=\"200\">\n",
    "</center>\n",
    "\n",
    "<!-- <div style=\"text-align: right\"> Image source: https://en.wikipedia.org/wiki/Mbu_pufferfish </div> -->\n",
    "\n",
    "<!-- 'Rosettes' of a leopard: -->\n",
    "\n",
    "<center>\n",
    "<img src=\"Leopard.jpg\" width=\"200\">\n",
    "</center>\n",
    "\n",
    "<!-- <div style=\"text-align: right\"> Image source: https://en.wikipedia.org/wiki/Leopard </div> -->\n",
    "\n",
    "<!-- *Theorem 1:* Snakes always have striped (ring) patterns, but not spotted patterns. \n",
    "Why might this be? Why are the stripes rings and not running from head to tail?\n",
    "<!-- The stripes should be rings around the body. In a domain with very small aspect ratio, many wave lengths are allowed along the long axis but fewer wave lengths along the shorter axis. This is not consistent with stripes from head to tail, which correspond to a single long wave length along the long axis (from head to tail) and a much smaller wave length around the body (separating the different stripes). -->\n",
    "\n",
    "<!-- Snake stripes:  -->\n",
    "<center>\n",
    "<img src=\"Snake.png\" width=\"400\">\n",
    "</center>\n",
    "\n",
    "<!-- <div style=\"text-align: right\"> Image source: https://en.wikipedia.org/wiki/Kingsnake  -->\n",
    "<!-- <div style=\"text-align: right\"> Image source: https://en.wikipedia.org/wiki/Thamnophis_saurita </div> -->\n",
    "\n",
    "<!-- *Theorem 2:* There is no animal with striped body and spotted tail, but there is animal with spotted body and\n",
    "striped tail. \n",
    "<!-- The body is always wider than the tail. The same reaction-diffusion mechanism should be responsible for the patterns on both body and tail. Then if the body is striped, and the parameters are similar for tail and body, then the tail must also be striped since the narrower geometry is easier to produce stripes.  -->\n",
    "\n",
    "\n",
    "<!-- weather systems, the distribution of vegetation across landscapes and even the constellations of galaxies,  and even human communities, suggesting that phenomena such as crime hotspots can arise from social feedbacks on behaviour and movement that are similar to the push-me-pull-you process Turing identified. -->"
   ]
  },
  {
   "cell_type": "markdown",
   "id": "a77c46d0",
   "metadata": {
    "slideshow": {
     "slide_type": "skip"
    }
   },
   "source": [
    "So can patterns emerge from particles:\n",
    "    Zebrafish\n",
    "\n",
    "These patterns are formed by the arrangement of pigments, usually packaged in specialised cells. \n",
    "stripes are made up of thousands of small and distinct dots of colour. Each dot is a single pigment cell. The three cell types that produce the pattern are black melanophores, yellow xanthophores and silver and blue iridophores. \n",
    "\n",
    "Kit Yates' study aimed to find out which biological phenomena are crucial for pattern formation and which are just incidental. These sorts of questions can be answered with mathematical modelling\n",
    "\n",
    "\"And then comes the really exciting part. The beauty of mathematical modelling is that once you’re confident your model captures the biology you can start to play around with it and ask biological questions that are difficult to answer through experiments alone.\" They were able to explain why the stripes are horizontal instead of vertical like a zebra-mammal. https://theconversation.com/how-mutant-zebrafish-helped-unlock-the-secret-to-their-stripes-new-research-141460"
   ]
  },
  {
   "cell_type": "markdown",
   "id": "dcb990be",
   "metadata": {
    "slideshow": {
     "slide_type": "skip"
    }
   },
   "source": [
    "Mice digits as a model for human fingerprints\n",
    "\n",
    "“If you have any two processes that act [as activator and inhibitor], you can always get periodic patterns out of them,” said Green, pointing to the ripples that form on sand dunes as an example. “Clearly there are no diffusing morphogens at work there. It’s just that the processes have a property you can represent using a diffusion function."
   ]
  },
  {
   "cell_type": "markdown",
   "id": "b3ed3a09",
   "metadata": {
    "slideshow": {
     "slide_type": "skip"
    }
   },
   "source": [
    "## Turing-like mechanisms\n",
    "The the molecular mechanisms behind Turing remain difficult to validate experimentally, as many of the kinetic parameters cannot be reliably assessed in biological tissues\n",
    "\n",
    "Turing-like features in the distribution of species in ecological systems, such as the predator-prey model, in which the prey function as activators, seeking to reproduce and increase their numbers while the predators act as inhibitors, keeping the population in check. Neurons, too, can be described mathematically as activators or inhibitors, encouraging or dampening the firing of other, nearby neurons in the brain.\n",
    "\n",
    "it is challenging to move from identifying the behavior of a system that seems to follow a Turing mechanism to identifying the specific physical processes that act as activator and inhibitor.\n",
    "\n",
    "Scientists have tried to apply this basic concept to many different kinds of systems. For instance, neurons in the brain could serve as activators and inhibitors, depending on whether they amplify or dampen the firing of other nearby neurons—possibly the reason why we see certain patterns when we hallucinate. There is evidence for Turing mechanisms at work in zebra-fish stripes, the spacing between hair follicles in mice, feather buds on a bird's skin, the ridges on a mouse's palate, as well as the digits on a mouse's paw.The scientists discovered that in mouse embryos, a molecule called FGF, or fibroblast growth factor, acts as a ridge activator, and SHH, or sonic hedgehog, acts as an inhibitor.\n",
    "\n",
    "Certain species of Mediterranean ants will pile the dead bodies of ants into structures that seem to exhibit Turing patterns, and there is evidence of Turing patterns in the movement of Azteca ant colonies on coffee farms in Mexico.\n",
    "\n",
    "\n",
    "\n",
    "Stumbling block: “no one has yet identified the molecules that work for a Turing mechanism in development.”\n",
    "\n",
    "It might be best to consider Turing’s model as playing a specific development role within the context of a larger biological system, in concert with other factors, rather than as a standalone mechanism. “The Turing process is a piece of the puzzle in understanding how multiple morphogens work together,"
   ]
  },
  {
   "cell_type": "markdown",
   "id": "4f8c9362",
   "metadata": {
    "slideshow": {
     "slide_type": "slide"
    }
   },
   "source": [
    "# I've sort of lied to you...\n",
    "\n",
    "The reaction-diffusion system we described involves a huge number of particles\n",
    "\n",
    "Tracking each individual particle's movement for many many generations is enormously computationally expensive\n",
    "\n",
    "It can be done (with an agent-based modelling framework like what we will see in a few weeks) but it's ridiculously complicated (which is why statistical physics aggregates all the particles into average/global properties like temperature). \n",
    "\n",
    "More importantly, it isn't necessary to reproduce the observed behaviour."
   ]
  },
  {
   "cell_type": "markdown",
   "id": "d711b8ba",
   "metadata": {
    "slideshow": {
     "slide_type": "subslide"
    }
   },
   "source": [
    "## Remember... \n",
    "The modeller's purpose is absolutely, definitely **not** to reproduce the system exactly\n",
    "\n",
    "Instead, we want:\n",
    "1. to capture the essence of a system \n",
    "2. for simulations to run \"quickly\" \n",
    "3. for the model to scale well to larger inputs\n",
    "\n",
    "<centre> \n",
    "    <img src=\"Turing_ModelQuote.png\" width=\"600\"/>\n",
    "</centre>\n",
    "\n",
    "(The first paragraph of Turing's paper on morphogenesis)\n",
    "\n",
    "The solutions you saw in the Complexity Explorable were actually the result of a 'coarse-grained' model where instead of caring about the individual particles we will lump many of them together into cells and track the cell concentration instead.\n",
    "\n",
    "We'll dig into this more in the next session."
   ]
  },
  {
   "cell_type": "markdown",
   "id": "9c6e3ccd",
   "metadata": {
    "slideshow": {
     "slide_type": "skip"
    }
   },
   "source": [
    "# How does it fit in with 'complex systems' generally?"
   ]
  },
  {
   "cell_type": "markdown",
   "id": "6de02e55",
   "metadata": {
    "slideshow": {
     "slide_type": "skip"
    }
   },
   "source": [
    "##### Previous topics\n",
    "\n",
    "*Fractals*\n",
    "- When the reaction and diffusion processes in the system are appropriately balanced, it can lead to the formation of self-replicating or self-repeating structures at different scales and fractal-like characteristics."
   ]
  },
  {
   "cell_type": "markdown",
   "id": "7884b4a5",
   "metadata": {
    "slideshow": {
     "slide_type": "skip"
    }
   },
   "source": [
    "##### Upcoming topics\n",
    "\n",
    "*Networks and synchronisation*\n",
    "- We've looked at physical stuff reacting and diffusing in a continuous physical space but the same methods and thinking can be applied to more abstract situations such as information reacting and diffusing on a social network.\n",
    "- The interactions and coupling between chemical species can lead to the emergence of synchronised oscillations or pattern formation, where different regions or elements of the system exhibit coordinated behaviour.\n",
    "- On the other hand, the coupling between individual oscillators in such systems can be described through diffusion-like processes by considering the spread or transmission of information/influence between the oscillators \n",
    "\n",
    "*Cellular automata*\n",
    "- Expand Wolfram's principles for classification to continuous real-valued systems to encompass the sorts of patterns you have discovered by varying parameters and initial conditions of the Gray Scott model.\n",
    "- The Gray Scott model that we implemented is effectively a cellular automata used to simulate coarse grained reaction diffusion dynamics.\n",
    "\n",
    "*Agent-based models*\n",
    "- Can incorporate reaction-diffusion processes as a component of an agent's behaviour or as a mechanism influencing agent interactions, allowing exploration of individual behaviour that is influenced by spatially distributed processes."
   ]
  },
  {
   "cell_type": "markdown",
   "id": "b9ae63ee",
   "metadata": {
    "slideshow": {
     "slide_type": "skip"
    }
   },
   "source": [
    "# Explore and play\n",
    "https://visualpde.com\n",
    "http://www.karlsims.com/rdtool.html: Karl Sims had an exhibit in the Museum of Science in Boston that was based on this tool, see:  http://www.karlsims.com/rd-exhibit.html\n",
    "\n",
    "**Explorables:**\n",
    "https://www.complexity-explorables.org/explorables/come-together/\n",
    "https://www.complexity-explorables.org/explorables/particularly-stuck/\n",
    "https://www.complexity-explorables.org/explorables/albert-and-carl-friedrich/\n",
    "https://www.complexity-explorables.org/explorables/scotts-world/\n",
    "https://www.complexity-explorables.org/explorables/baristas-secret/\n"
   ]
  },
  {
   "cell_type": "markdown",
   "id": "c8b12b1a",
   "metadata": {
    "slideshow": {
     "slide_type": "skip"
    }
   },
   "source": [
    "##### ODE definition (revision)\n",
    "\n",
    "Recall that an ordinary differential equation (ODE) of order $n$\n",
    "\n",
    "$F$ is a function of $x, y$, and the derivatives of $y$\n",
    "$$F\\left(x,y,y',\\ldots ,y^{(n-1)}\\right)=y^{(n)}$$\n",
    "<!-- \n",
    "Or implicit:\n",
    "$F\\left(x,y,y',y'',\\ \\ldots ,\\ y^{(n)}\\right)=0$ -->\n",
    "<!-- And of course F and all of the y's may be vectors if we are working with a system of ODEs. -->\n",
    "\n",
    "The derivatives here are typically time derivatives and so ODEs can describe how the concentrations change with time assuming a well-mixed system\n",
    "\n",
    "But this is insufficient to model the reaction diffusion system because they do not account for spatial variations, i.e. change is not just in time but in space too. \n",
    "\n",
    "The spatial distribution and interaction of the substances involved is crucial for understanding the system's behaviour and emergent patterns. Therefore we must use PDEs."
   ]
  },
  {
   "cell_type": "code",
   "execution_count": 1,
   "id": "c68ca195",
   "metadata": {
    "slideshow": {
     "slide_type": "skip"
    }
   },
   "outputs": [
    {
     "data": {
      "text/html": [
       "\n",
       "        <iframe\n",
       "            width=\"400\"\n",
       "            height=\"300\"\n",
       "            src=\"https://www.youtube.com/embed/miT1-tBapt0\"\n",
       "            frameborder=\"0\"\n",
       "            allowfullscreen\n",
       "            \n",
       "        ></iframe>\n",
       "        "
      ],
      "text/plain": [
       "<IPython.lib.display.YouTubeVideo at 0x1107fbd10>"
      ]
     },
     "metadata": {},
     "output_type": "display_data"
    },
    {
     "data": {
      "text/html": [
       "\n",
       "        <iframe\n",
       "            width=\"400\"\n",
       "            height=\"300\"\n",
       "            src=\"https://www.youtube.com/embed/8dTmUr5qKvI\"\n",
       "            frameborder=\"0\"\n",
       "            allowfullscreen\n",
       "            \n",
       "        ></iframe>\n",
       "        "
      ],
      "text/plain": [
       "<IPython.lib.display.YouTubeVideo at 0x1102a8a90>"
      ]
     },
     "metadata": {},
     "output_type": "display_data"
    }
   ],
   "source": [
    "from IPython.display import YouTubeVideo\n",
    "display(YouTubeVideo(\"miT1-tBapt0\", width=400))\n",
    "display(YouTubeVideo(\"8dTmUr5qKvI\", width=400))\n",
    "\n",
    "# https://www.youtube.com/watch?v=8dTmUr5qKvI\n",
    "#      https://www.youtube.com/watch?v=miT1-tBapt0&t=15s"
   ]
  },
  {
   "cell_type": "code",
   "execution_count": null,
   "id": "a4a39bff",
   "metadata": {},
   "outputs": [],
   "source": []
  }
 ],
 "metadata": {
  "@webio": {
   "lastCommId": null,
   "lastKernelId": null
  },
  "celltoolbar": "Slideshow",
  "kernelspec": {
   "display_name": "Python 3 (ipykernel)",
   "language": "python",
   "name": "python3"
  },
  "language_info": {
   "codemirror_mode": {
    "name": "ipython",
    "version": 3
   },
   "file_extension": ".py",
   "mimetype": "text/x-python",
   "name": "python",
   "nbconvert_exporter": "python",
   "pygments_lexer": "ipython3",
   "version": "3.11.0"
  },
  "toc": {
   "base_numbering": 1,
   "nav_menu": {},
   "number_sections": true,
   "sideBar": true,
   "skip_h1_title": false,
   "title_cell": "Table of Contents",
   "title_sidebar": "Contents",
   "toc_cell": false,
   "toc_position": {},
   "toc_section_display": true,
   "toc_window_display": false
  }
 },
 "nbformat": 4,
 "nbformat_minor": 5
}

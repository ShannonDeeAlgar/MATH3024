{
 "cells": [
  {
   "cell_type": "markdown",
   "id": "0fd70122",
   "metadata": {
    "slideshow": {
     "slide_type": "subslide"
    }
   },
   "source": [
    "# Is it so surprising that people are not rational agents?\n",
    "\n",
    "How can we explain people not doing what Game Theory says they should?\n",
    "- people are not smart enough to understand the scenario?\n",
    "- people are knowingly acting contrary to their own interest?\n",
    "- something else?\n",
    "\n",
    "We will take a small detour via evolution and genetic algorithms and come back to this 'something else'..."
   ]
  },
  {
   "cell_type": "markdown",
   "id": "a7faeec7",
   "metadata": {
    "slideshow": {
     "slide_type": "slide"
    }
   },
   "source": [
    "# Evolution\n",
    "To evolve is to change over time\n",
    "\n",
    "In biology, evolution refers to the gradual process by which species change genetically across generations i.e. it's an aggregate effect: *individuals don't evolve, populations do*\n",
    "\n",
    "The theory of evolution claims that new species are created and existing species change due to **natural selection**\n",
    "\n",
    "Natural selection is the process where inherited variations between individuals cause differences in survival and reproduction"
   ]
  },
  {
   "cell_type": "markdown",
   "id": "f1f13906",
   "metadata": {
    "slideshow": {
     "slide_type": "subslide"
    }
   },
   "source": [
    "## Darwin\n",
    "\n",
    "<center> \n",
    "<img src=\"DarwinsFinches.jpeg\" width=\"300\"/>\n",
    "</center>\n",
    "\n",
    "Finches from the Galapagos inspired Darwin during his visit to the islands in 1835: They are thought to have evolved from a single finch species that came to the islands more than a million years ago. Differences between species are in the size and shape of their beaks, which are highly adapted to different food sources available on the different islands\n",
    "\n",
    "According to Darwin all organisms share a common ancestor that lived about 580 million years ago and there's no hierarchy -- each organism alive now is the most evolved of its kind. "
   ]
  },
  {
   "cell_type": "markdown",
   "id": "d5b08904",
   "metadata": {
    "slideshow": {
     "slide_type": "subslide"
    }
   },
   "source": [
    "### Beware the linear depiction of ape to man!\n",
    "\n",
    "<center> \n",
    "<img src=\"Evolution_ApeMan_Linear.png\" width=\"300\"/>\n",
    "</center>\n",
    "\n",
    "Image: http://creationwiki.org/Devolution\n",
    "\n",
    "Many variations of this picture - some have a humorous spirit, but most aim to ridicule the monkey to man theory\n",
    "\n",
    "Linear depictions like this may confirm false preconceptions about evolution, such as intelligent design (the idea that life has an intelligent creator behind it)\n",
    "<!-- Evolution is not some goal-directed process with humans as the final product/pinnacle -->\n",
    "\n",
    "The reality is that each is a unique species with their own evolutionary paths and humans are no more special than any other primate."
   ]
  },
  {
   "cell_type": "markdown",
   "id": "bac5da97",
   "metadata": {
    "slideshow": {
     "slide_type": "subslide"
    }
   },
   "source": [
    "### Evolution is not linear\n",
    "\n",
    "<center> \n",
    "<img src=\"Evolution_ApeMan_Proper.jpeg\" width=\"300\"/>\n",
    "</center>\n",
    "\n",
    "Image from: doi:10.1038/nature01400\n",
    " \n",
    "Evolution is a process of continuous branching and divergence of populations of organisms\n",
    "\n",
    "Humans did not evolve from chimpanzees or any of the other great apes that live today\n",
    "\n",
    "We share a common ancestor that lived $\\approx$10 million years ago - asking why modern chimps don't look more like humans is like asking why the children of your cousins don't look more like you than their parents - they're on an entirely different evolutionary path.\n",
    "\n",
    "<!-- Some good reading and some really bad reading on this topic exists. Do your own homework.  -->\n",
    "<!-- https://www.washingtonpost.com/news/speaking-of-science/wp/2016/07/25/dear-science-answers-your-questions-about-evolution/ -->"
   ]
  },
  {
   "cell_type": "markdown",
   "id": "ac6dcb20",
   "metadata": {
    "slideshow": {
     "slide_type": "subslide"
    }
   },
   "source": [
    "## Explaining global/macroscopic observations\n",
    "i.e. the output\n",
    "\n",
    "The theory of evolution is powerful because it explains phenomena we see in the natural world:\n",
    "- **Adaptation**: Natural selection favors adaptations that best enable creatures to survive under the circumstances in which they live. (This *does not* mean they should all be becoming more human!)\n",
    "<!--     - How ridiculously elitist to think we are the goal and culmination of 4.5 billion years of evolution.\n",
    "    - We continue to evolve - lactose tolerance came long after we were making cheese. Malaria resilience in parts of the world etc.\n",
    "    - Our species could continue to evolve and change for many millennia to come, but we could just as easily go extinct, as have 99 percent of all life forms that came before us.\n",
    "    - Many features of natural systems seem as if they were designed. -->\n",
    "- **Increasing diversity**: Over time the number of species on earth has generally increased (despite periods of mass extinction)\n",
    "- **Increasing complexity**: The history of life on earth starts with relatively simple life forms, with more complex organisms appearing later in the geological record.\n"
   ]
  },
  {
   "cell_type": "markdown",
   "id": "b54c6671",
   "metadata": {
    "slideshow": {
     "slide_type": "subslide"
    }
   },
   "source": [
    "## Mechanisms for evolution\n",
    "i.e. the inputs required\n",
    "\n",
    "<!-- Gradual change happens on timescales that vary from organism to organism based on the length of a generation -->\n",
    "\n",
    "To model evolution the following three mechanisms are sufficient:\n",
    "1. **Variation**: variability in the population, i.e. differences between individuals\n",
    "2. **Differential survival or reproduction**: differences between individuals affect their ability to survive or reproduce\n",
    "3. **Replicators**: a population of agents that can reproduce in some way (perfect copies of themselves or imperfect copying, i.e. mutation)"
   ]
  },
  {
   "cell_type": "markdown",
   "id": "22a06975",
   "metadata": {
    "slideshow": {
     "slide_type": "subslide"
    }
   },
   "source": [
    "# Modelling evolution\n",
    "\n",
    "The (typical) process is:\n",
    "- Agents have genetic information, called their \"genotype\" \n",
    "- Based on their genotype a \"fitness\" is calculated\n",
    "- Some agents die\n",
    "- Some agents are born \n",
    "\n",
    "There are modelling decisions and choices are everywhere here!\n",
    "\n",
    "e.g.:\n",
    "- What is the genotype?\n",
    "- What is fitness? How does it depend on the agent genotype?\n",
    "- Who dies - dependent on what? Fitness? How many die?\n",
    "- Who is born - how many? What are their properties? Are they children of existing agents? Who gets to reproduce?\n",
    "- etc etc etc..."
   ]
  },
  {
   "cell_type": "markdown",
   "id": "d5d7e326",
   "metadata": {
    "slideshow": {
     "slide_type": "subslide"
    }
   },
   "source": [
    "## An example\n",
    "https://www.complexity-explorables.org/explorables/maggots-in-the-wiggle-room/"
   ]
  },
  {
   "cell_type": "markdown",
   "id": "6613404e",
   "metadata": {
    "slideshow": {
     "slide_type": "subslide"
    }
   },
   "source": [
    "### Fitness\n",
    "Evolution is a change in a population's distribution of genotypes (may be hard to visualise)\n",
    "\n",
    "As genotypes change, we expect fitness to change \n",
    "\n",
    "Therefore, we use changes in the distribution of fitness as evidence of evolution (easier to visualise as it's just a single value)"
   ]
  },
  {
   "cell_type": "markdown",
   "id": "805ed0be",
   "metadata": {
    "slideshow": {
     "slide_type": "subslide"
    }
   },
   "source": [
    "##### Fitness landscapes\n",
    "\n",
    "We saw fitness landscapes in the context of particle swarm optimisation\n",
    "\n",
    "In genetic algorithms the fitness landscape, sometimes called an evolutionary landscape, is a function that maps genotype to fitness\n",
    "<!-- a relationship between genotype and fitness is needed for evolution but it can be any relationship -- even a totally random fitness landscape will work. -->\n",
    "        \n",
    "- The agent's fitness is the 'height' of the landscape at that location, which relates to an agent's ability to survive or reproduce\n",
    "- Increasing fitness (of the population) means that the species is getting better at surviving in its environment\n",
    "- In biological terms, the fitness landscape represents information about how the genotype of an organism is related to its physical form and capabilities, called its phenotype, and how the phenotype interacts with its environment"
   ]
  },
  {
   "cell_type": "markdown",
   "id": "4c707cbb",
   "metadata": {
    "slideshow": {
     "slide_type": "subslide"
    }
   },
   "source": [
    "##### Remember...\n",
    "Agents don't move over the fitness landscape (the genotype of an organism doesn't change)\n",
    "    \n",
    "When an agent dies, it can leave a location unoccupied. And when a mutation occurs, it can occupy a new location \n",
    "        \n",
    "As agents disappear from some locations and appear in others, the *population* migrates across the landscape (like a glider in Game of Life) \n",
    "        \n",
    "i.e. organisms don't evolve; populations do"
   ]
  },
  {
   "cell_type": "markdown",
   "id": "434763b0",
   "metadata": {
    "slideshow": {
     "slide_type": "subslide"
    }
   },
   "source": [
    "## Building the required mechanisms for adaptation into the model\n",
    "1. Variation: initialise the population with a variety of genotypes (or could simply rely on mutation)\n",
    "2. Differential survival and reproduction: genotype is mapped to fitness and a function converts the fitness to agent's ability to survive or reproduce\n",
    "3. Replication: the genotype is copied by agents that reproduce. Mutation of the genotype is included to increase diversity"
   ]
  },
  {
   "cell_type": "markdown",
   "id": "0721cc24",
   "metadata": {
    "slideshow": {
     "slide_type": "subslide"
    }
   },
   "source": [
    "### How would you test these mechanisms?\n",
    "\n",
    "They should result in: adaptation, increasing diversity, increasing complexity\n",
    "\n",
    "For example:\n",
    "- Increasing fitness would mean that the species is getting better at surviving in its environment (and hence adapting)\n",
    "- Diversity could be captured by number of/distribution of genotypes"
   ]
  },
  {
   "cell_type": "markdown",
   "id": "2f159e30",
   "metadata": {
    "slideshow": {
     "slide_type": "subslide"
    }
   },
   "source": [
    "This model is not meant to be realistic - evolution in natural systems is obviously much more complicated than this\n",
    "        \n",
    "Rather, it is a demonstration that the features of the model are *sufficient* to produce the behaviour we are trying to explain\n",
    "\n",
    "This doesn't prove that evolution in nature is caused by these mechanisms alone. But it is reasonable to think that they at least contribute to natural evolution\n",
    "                \n",
    "Similarly, it doesn't prove that these mechanisms always cause evolution. But the results are fairly robust."
   ]
  },
  {
   "cell_type": "markdown",
   "id": "1406650b",
   "metadata": {
    "slideshow": {
     "slide_type": "slide"
    }
   },
   "source": [
    "# Altruistic genes (and selfish ones) with an evolutionary model\n",
    "\n",
    "What do you expect of this computational model...?:\n",
    "\n",
    ">*In a evolving population where some agents have genes that encourage them to help others, even to their own detriment, and other agents are purely selfish...*\n"
   ]
  },
  {
   "cell_type": "markdown",
   "id": "478f96fa",
   "metadata": {
    "slideshow": {
     "slide_type": "fragment"
    }
   },
   "source": [
    ">*... it seems like the selfish ones would benefit, the altruistic ones would suffer, and the genes for altruism would be driven to extinction -- Allen Downey*\n",
    "\n",
    "\n",
    "This apparent conflict (between natural selection, which suggests that animals live in a state of constant competition, and altruism, which is the tendency of many animals to help other animals, even to their own detriment) is the 'problem/paradox of altruism'\n",
    "\n",
    "Among biologists, there are many possible explanations, including reciprocal altruism, sexual selection, kin selection, and group selection. "
   ]
  },
  {
   "cell_type": "markdown",
   "id": "459f2b2a",
   "metadata": {
    "slideshow": {
     "slide_type": "slide"
    }
   },
   "source": [
    "# Iterated prisoner's dilemma\n",
    "\n",
    "There is no altruism in the Prisoner's Dilemma, and yet, when real people play these games we frequently observe them not chasing maximal utility in a rational way\n",
    "\n",
    "Here's a third option for why people are not rational: altruism is simply adaptive (Occam's razor - again!) i.e. genes for altruism make people more likely to survive and reproduce\n",
    "\n",
    "Robert Axelrod's tournament played many different strategies against each other in *repeated games* (200 rounds)\n",
    "\n",
    "14 different strategies (+ random) were submitted by participants\n",
    "\n",
    "<center> \n",
    "<img src=\"Axelrod_PD.png\" width=\"300\"/>\n",
    "</center>"
   ]
  },
  {
   "cell_type": "markdown",
   "id": "8fbeb014",
   "metadata": {
    "slideshow": {
     "slide_type": "subslide"
    }
   },
   "source": [
    "## Successful strategies\n",
    "Successful strategies in the tournament had the following properties:\n",
    "- **Nice**: The strategies that do well cooperate during the first round, and generally cooperate as often as they defect in subsequent rounds\n",
    "- **Retaliating**: Strategies that cooperate all the time did not do as well as strategies that retaliate if the opponent defects (avoiding further losses and disincentivising defecting) \n",
    "- **Forgiving**: But strategies that were too vindictive tended to punish themselves as well as their opponents\n",
    "- **Non-envious**: Some of the most successful strategies seldom outscore their opponents and aren't tempted; they are successful because they do well enough against a wide variety of opponents\n",
    "\n",
    "A brain that is wired to be nice, tempered by a balance of retaliation and forgiveness, with foresight beyond the immediate future will tend to do well in a wide variety of circumstances."
   ]
  },
  {
   "cell_type": "markdown",
   "id": "7784e815",
   "metadata": {
    "slideshow": {
     "slide_type": "subslide"
    }
   },
   "source": [
    "### Tit for Tat\n",
    "One strategy, called Tit for Tat, cooperated in the first instance and then copied the opponents move in the previous round of play\n",
    "\n",
    "Does Tit for Tat have the properties of a successful strategy? (nice, retaliatory, forgiving, non-envious)\n",
    "<!-- nice - cooperates in first round\n",
    "retaliates - tit for tat\n",
    "forgiving - tit for tat. But being more forgiving can be even better e.g. tit for 2tat avoids echo effect but can be taken advantage of once people know this strategy exists\n",
    "non-envious - can only tie or lose against a single opponent -->\n",
    "\n",
    "This strategy actually won the tournament but better strategies have been uncovered since."
   ]
  },
  {
   "cell_type": "markdown",
   "id": "9630b950",
   "metadata": {
    "slideshow": {
     "slide_type": "subslide"
    }
   },
   "source": [
    "<center> \n",
    "<img src=\"Iterated_Prisoners_Dilemma_Venn-Diagram.svg\" width=\"600\"/>\n",
    "</center>\n",
    "\n",
    "\n"
   ]
  },
  {
   "cell_type": "markdown",
   "id": "090901d5",
   "metadata": {},
   "source": [
    "...For inclusion in 2025...\n",
    "More background on PD variants needed: https://en.wikipedia.org/wiki/Prisoner%27s_dilemma#cite_note-1\n",
    "\n",
    "<center> \n",
    "<img src=\"Axelrod_TournamentResults.png\" width=\"600\"/>\n",
    "</center>"
   ]
  },
  {
   "cell_type": "markdown",
   "id": "6bfca8dc",
   "metadata": {
    "slideshow": {
     "slide_type": "subslide"
    }
   },
   "source": [
    "## Evolving a successful strategy\n",
    "\n",
    "Axelrod's tournaments and the strategies that were played were designed by people - they didn't evolve \n",
    "        \n",
    "Assume the points accrued at the end of one of Axelrod's tournaments are a kind of resource that can be used for reproduction\n",
    "\n",
    "- Genotype: iterated PD strategy (we'll need a way to encode the PD strategy as a genotype)\n",
    "- Generation: an Axelrod tournament (200 games against all opponents)\n",
    "- Fitness: points accrued\n",
    "- Reproduction: function of fitness such that the number of players with successful strategies increases in - successive generations\n"
   ]
  },
  {
   "cell_type": "markdown",
   "id": "ee48c7c7",
   "metadata": {
    "slideshow": {
     "slide_type": "subslide"
    }
   },
   "source": [
    "## Analysis\n",
    "What sorts of questions might we try and answer with a computational model of the tournament?\n",
    "- Can genes for niceness, retribution, and forgiveness appear by mutation? \n",
    "- Can they successfully invade a population of other strategies?\n",
    "- Can they resist being invaded by subsequent mutations?\n",
    "\n",
    "I'll leave it with you to think about modelling this to evolve a winning strategy and the sorts of behaviours that might emerge from this Complex System."
   ]
  },
  {
   "cell_type": "code",
   "execution_count": 5,
   "id": "f6c06c63",
   "metadata": {
    "slideshow": {
     "slide_type": "skip"
    }
   },
   "outputs": [
    {
     "data": {
      "text/html": [
       "\n",
       "<style>\n",
       "    .output_area pre {\n",
       "        color: white; /* Change output text color to white */\n",
       "    }\n",
       "</style>\n"
      ],
      "text/plain": [
       "<IPython.core.display.HTML object>"
      ]
     },
     "metadata": {},
     "output_type": "display_data"
    },
    {
     "name": "stdout",
     "output_type": "stream",
     "text": [
      "Lectures completed successfully!\n"
     ]
    }
   ],
   "source": [
    "print(\"Lectures completed successfully!\")"
   ]
  },
  {
   "cell_type": "markdown",
   "id": "eeb46036",
   "metadata": {
    "slideshow": {
     "slide_type": "slide"
    }
   },
   "source": [
    "<center> \n",
    "<img src=\"LecturesCompleted_PythonScreenShot.png\" width=\"400\"/>\n",
    "</center>\n",
    "\n",
    "\n",
    ">*\"Tiger got to hunt, bird got to fly; Man got to sit and wonder 'why, why, why?' Tiger got to sleep, bird got to land; Man got to tell himself he understand.\"* - Kurt Vonnegut\n",
    "\n",
    "I hope that you've enjoyed this unit and that you think about it and what you have learned as you go into the next phase of your working life and education\n",
    "\n",
    "Good luck for the upcoming Test and your final Project submissions :)"
   ]
  }
 ],
 "metadata": {
  "celltoolbar": "Slideshow",
  "kernelspec": {
   "display_name": "Python 3 (ipykernel)",
   "language": "python",
   "name": "python3"
  },
  "language_info": {
   "codemirror_mode": {
    "name": "ipython",
    "version": 3
   },
   "file_extension": ".py",
   "mimetype": "text/x-python",
   "name": "python",
   "nbconvert_exporter": "python",
   "pygments_lexer": "ipython3",
   "version": "3.11.13"
  },
  "toc": {
   "base_numbering": 1,
   "nav_menu": {},
   "number_sections": true,
   "sideBar": true,
   "skip_h1_title": false,
   "title_cell": "Table of Contents",
   "title_sidebar": "Contents",
   "toc_cell": false,
   "toc_position": {},
   "toc_section_display": true,
   "toc_window_display": false
  }
 },
 "nbformat": 4,
 "nbformat_minor": 5
}

{
 "cells": [
  {
   "cell_type": "markdown",
   "id": "c2a410f2",
   "metadata": {
    "slideshow": {
     "slide_type": "slide"
    }
   },
   "source": [
    "# Game theory\n",
    "\n",
    "Formulated by John von Neumann and Oskar Morgenstern during the Cold War\n",
    "\n",
    "\n",
    "Game theory is the standard quantitative tool for analysing the interactions of **multiple decision makers**\n",
    "\n",
    "The decision-making process is framed as a deterministic dynamical system, adding scientific rigor to the analysis of human behaviour\n",
    "\n",
    "Games are contrived strategic scenarios but they are still very useful to shed light on human motivation and behaviour and have been the focus of extensive experimental research in all sorts of areas from social psychology to pure maths\n",
    " \n",
    "We will explore Game Theory via a  particular example that was first discussed in the 1950s (prisoner's dilemma)."
   ]
  },
  {
   "cell_type": "markdown",
   "id": "46b9b198",
   "metadata": {
    "slideshow": {
     "slide_type": "subslide"
    }
   },
   "source": [
    "Of course many complex systems involve multiple decision makers and game theory is therefore a natural framework for modelling them\n",
    " \n",
    "The interactions are *games* where there is a choice to 'cooperate' with each other or 'defect', and where the reward/punishment depends on what the opponent' chooses\n",
    "\n",
    "<center> \n",
    "<img src=\"Complex_systems_organizational_map.jpeg\" width=\"400\"/>\n",
    "</center>\n",
    "\n",
    "Figure from Sayama\n",
    "\n",
    "<!-- Figure 1.1: Visual, organizational map of complex systems science broken into seven topical areas. The three circles on the left (Nonlinear Dynamics, Systems Theory, and Game Theory) are the historical roots of complex systems science, while the other four circles (Pattern Formation, Evolution and Adaptation, Networks, and Collective Behavior) are the more recently studied topical areas. -->"
   ]
  },
  {
   "cell_type": "markdown",
   "id": "d3421853",
   "metadata": {
    "slideshow": {
     "slide_type": "slide"
    }
   },
   "source": [
    "# Game\n",
    "<!-- Set - a collection of things (things could be sets themselves). Think 'container' -->\n",
    "A game says who makes the decision, what decision they make and what reward they get as a result of the decision of *all* players\n",
    "\n",
    "Formally:\n",
    "$$\n",
    "G = \\{P, A, U\\}\n",
    "$$\n",
    "- $P$: players\n",
    "    - A set of decision makers in a game $\\{p_1, p_2, \\ldots, p_n\\}$ (this is an n-player game)\n",
    "- $A$: actions \n",
    "    - A set that tells us what each player can do in the game $\\{a_1,a_2, \\ldots, a_n\\}$\n",
    "    - e.g. the actions of player 1 $a_1=\\{\\text{up}, \\text{down}\\}$\n",
    "- $U$: utility/payoff \n",
    "    - A set of rewards (or punishments) $\\{u_1, u_2, \\ldots, u_n\\}$\n",
    "    - Each element is a function for each player\n",
    "    - e.g. the utility of player 1 in a 2-player game if $p_1$ plays the action $\\text{up}$ and $p_2$ plays the action $\\text{down}$ is $u_1(\\text{up}, \\text{down})=2$\n",
    "\n"
   ]
  },
  {
   "cell_type": "markdown",
   "id": "d9bf6664",
   "metadata": {
    "slideshow": {
     "slide_type": "slide"
    }
   },
   "source": [
    "# Prisoner's dilemma\n",
    "\n",
    "This is the most well-known game within Game Theory\n",
    "\n",
    "Two criminals $P=\\{p_1,p_2\\}$ are caught by police but the police don't have enough evidence to charge them for the full crime\n",
    "\n",
    "They are interrogated separately and can either cooperate ($C$) and stay silent/protect or defect ($D$) and blab/betray, i.e. $A=\\{\\{C,D\\},\\{C,D\\}\\}$ \n",
    "\n",
    "The outcome is a certain number of years in jail, i.e. $U=\\{u_1,u_2\\}$ with $u_1(a_1,a_2)=\\text{time in jail}$ for $p_1$\n",
    "<!-- <center> \n",
    "<img src=\"MidJ_Prisoners.png\" width=\"400\"/>\n",
    "</center> -->"
   ]
  },
  {
   "cell_type": "markdown",
   "id": "497018e3",
   "metadata": {
    "slideshow": {
     "slide_type": "subslide"
    }
   },
   "source": [
    "## The rules of the game\n",
    "The police offer the following Faustian bargain (Faust sold his soul to the devil for unlimited knowledge and worldly pleasures. His name is associated with sacrificing spiritual values for power, knowledge, or material gain.):\n",
    "- If $p_1$ betrays but $p_2$ remains silent, $p_1$ will be set free and $p_2$ will serve 3 years in prison and vice versa $u_1(D,C)=0$, $u_1(C,D)=3$\n",
    "- If $p_1$ and $p_2$ betray each other, they'll both serve 2 years $u_1(D,D)=2$\n",
    "- If $p_1$ and $p_2$ both remain silent, they'll both only serve 1 year $u_1(C,C)=1$\n",
    "\n",
    "Player 2's payoffs are similar so this is referred to as a symmetric game\n",
    "\n",
    "Note that confess ($C$)/don't confess ($D$) are also used (confusingly) and that the utility is sometimes represented as time saved off your sentence"
   ]
  },
  {
   "cell_type": "markdown",
   "id": "a7aa8aa3",
   "metadata": {
    "slideshow": {
     "slide_type": "subslide"
    }
   },
   "source": [
    "## Assumptions\n",
    "\n",
    "The players are **rational utility maximisers** \n",
    "- **Rational** means they don't make mistakes when they choose the action\n",
    "- **Utility maximiser** means they always choose the action that's best for them\n",
    "\n",
    "    Within this major assumption are the following:\n",
    "    - Both players understand the game\n",
    "    - Players prefer the better payoff \n",
    "    - No other considerations (e.g. reputation, loyalty, opportunity for retribution)\n",
    "    - No communication (no negotiating, making promises or threats)\n",
    "\n",
    "i.e. players are only concerned with the immediate goal of minimising their own sentence\n",
    "\n",
    "Behavioural Game Theory relaxes these assumptions."
   ]
  },
  {
   "cell_type": "markdown",
   "id": "f95edecc",
   "metadata": {
    "slideshow": {
     "slide_type": "subslide"
    }
   },
   "source": [
    "## Payoff matrix (normal form)\n",
    "Defined over strategy space $S=\\{C,D\\}\\times\\{C,D\\}=\\{(C,C),(C,D),(D,C),(D,D)\\}$\n",
    "\n",
    "All of this can be summarised as:\n",
    "\n",
    "<center> \n",
    "<img src=\"StrategySpace_PD.png\" width=\"300\"/>\n",
    "</center>\n",
    "\n",
    "Player: Time in prison\n",
    "\n",
    "Highly stylised and parsimonious description (abstract the vital information and suppress the irrelevant)"
   ]
  },
  {
   "cell_type": "markdown",
   "id": "8fd073a2",
   "metadata": {
    "slideshow": {
     "slide_type": "subslide"
    }
   },
   "source": [
    "Alternatively we can represent things in payoff space\n",
    "\n",
    "<center> \n",
    "<img src=\"PayoffSpace_PD.png\" width=\"400\"/>\n",
    "</center>\n",
    "\n",
    "Points linked by a players choice (line connecting (0,3) and (2,2) represents player 1's choice to defect)\n",
    "\n",
    "(The dual of the normal form)"
   ]
  },
  {
   "cell_type": "markdown",
   "id": "5cddb19c",
   "metadata": {
    "slideshow": {
     "slide_type": "subslide"
    }
   },
   "source": [
    "## So what actions should the players choose?\n",
    "From $p_1$'s perspective (same goes for $p_2$ from symmetry)\n",
    "<center> \n",
    "<img src=\"StrategySpace_PD.png\" width=\"300\"/>\n",
    "</center>\n",
    "\n",
    "<!-- What should $p_1$ do? -->"
   ]
  },
  {
   "cell_type": "markdown",
   "id": "f328572a",
   "metadata": {
    "slideshow": {
     "slide_type": "fragment"
    }
   },
   "source": [
    "- If $p_2$ cooperates: $p_1$ is better off defecting; she would go free rather than serve 1 year\n",
    "- If $p_2$ defects: $p_1$ is still better off defecting; she would serve only 2 years rather than 3\n",
    "- No matter what $p_2$ does, $p_1$ is better off defecting "
   ]
  },
  {
   "cell_type": "markdown",
   "id": "23f6c473",
   "metadata": {
    "slideshow": {
     "slide_type": "subslide"
    }
   },
   "source": [
    "\n",
    "Defecting is the best choice in all cases\n",
    "\n",
    "Equally, you could assume a particular set of actions (position of the normal form) and assess whether a player would opt to change their mind when informed what the other player has chosen. \n",
    "\n",
    "This is very clear in the payoff space when lines are replaced with arrows:\n",
    "\n",
    "<center> \n",
    "<img src=\"PayoffSpace_Analysed.png\" width=\"300\"/>\n",
    "</center>\n",
    "\n",
    "The temptation for competitive advantage is strong!"
   ]
  },
  {
   "cell_type": "markdown",
   "id": "229804a0",
   "metadata": {
    "slideshow": {
     "slide_type": "subslide"
    }
   },
   "source": [
    "## Nash equilibrium \n",
    "Both players defecting is the (strictly) *'dominant strategy'* and the **Nash equilibrium** \n",
    "\n",
    "The Nash equilibrium is often phrased as 'No player has an incentive to unilaterally deviate', i.e. there's nothing to gain by changing personal strategy. It is named for Nobel Laureate John Nash\n",
    "\n",
    "'Unilaterally' $\\implies $ a player can only change their own strategy (not that of others)."
   ]
  },
  {
   "cell_type": "markdown",
   "id": "95994921",
   "metadata": {
    "slideshow": {
     "slide_type": "subslide"
    }
   },
   "source": [
    "Formally:\n",
    "\n",
    "Let the actions of $p_1$ and $p_2$ be $a_1=\\{\\alpha_1,\\alpha_2, \\ldots \\alpha_n\\}$ and $a_2=\\{\\beta_1,\\beta_2, \\ldots \\beta_n\\}$ respectively.\n",
    "\n",
    "Then $(\\alpha^*, \\beta^*)$ is a Nash equilibrium if:\n",
    "$$\n",
    "u_1(\\alpha^*,\\beta^*)>u_1(\\alpha',\\beta^*) \\quad \\forall \\alpha'\\in a_1\n",
    "$$\n",
    "\n",
    "and \n",
    "\n",
    "$$\n",
    "\\color{white}{u_2(\\alpha^*,\\beta^*)>u_2(\\alpha^*,\\beta') \\quad \\forall \\beta' \\in a_2}\n",
    "$$\n",
    "\n",
    "Note that for it to not to be a Nash equilibrium only one player needs an incentive to deviate but in this case both players do\n",
    "\n",
    "<!-- Khan Academy has a tutorial: https://www.khanacademy.org/economics-finance-domain/microeconomics/nash-equilibrium-tutorial -->"
   ]
  },
  {
   "cell_type": "markdown",
   "id": "a0a8940a",
   "metadata": {
    "slideshow": {
     "slide_type": "subslide"
    }
   },
   "source": [
    "## What about the greater good?\n",
    "There is nothing the prisoners can do to achieve the outcome they both want (the **Pareto Optimal** outcome)\n",
    "    \n",
    "People acting in their own self-interest do not create the best outcome in this game\n",
    "    \n",
    "The irony is they are 'hurting themselves when they're actually only thinking about themselves'\n",
    "    \n",
    "For example, the tragedy of the commons arises as public goods are always prone to over-use.\n",
    " "
   ]
  },
  {
   "cell_type": "markdown",
   "id": "2adb1aca",
   "metadata": {
    "slideshow": {
     "slide_type": "subslide"
    }
   },
   "source": [
    "## Generalising the payoff\n",
    "\n",
    "<center> \n",
    "<img src=\"General_PD.png\" width=\"400\"/>\n",
    "</center>\n",
    "\n",
    "In general, if: \n",
    "$$S<P<R<T$$\n",
    "then the game is classified as a prisoner's dilemma.\n",
    "\n",
    "- $R>P$ implies that mutual cooperation is superior to mutual defection\n",
    "- $T>R$ and $P>S$ imply that defection is the dominant strategy for both agents.\n",
    "\n",
    "Note: '$>$' here implies 'better', which will depend on the question context (e.g. if the utility is time in jail vs time spared from jail)"
   ]
  },
  {
   "cell_type": "markdown",
   "id": "cb74e375",
   "metadata": {
    "slideshow": {
     "slide_type": "subslide"
    }
   },
   "source": [
    "## Prisoner's dilemmas outside of the prison\n",
    "Many social interactions can be modeled as variations on the Prisoner's Dilemma\n",
    "\n",
    "Some classic examples include:\n",
    "- Business competition between two companies deciding whether to lower their prices to attract more customers or keep prices high to maximise profits\n",
    "- Environmental conservation between neighbouring countries that share a common water resource\n",
    "- Arms race between countries building up their military capabilities \n",
    "- Traffic congestion: https://www.youtube.com/watch?v=cALezV_Fwi0\n",
    "- International diplomacy\n",
    "- Common-pool resource management\n",
    "- ...\n"
   ]
  },
  {
   "cell_type": "markdown",
   "id": "09fa3a4f",
   "metadata": {
    "slideshow": {
     "slide_type": "subslide"
    }
   },
   "source": [
    "And if it doesn't fit the Prisoner's Dilemma framework then there is another game it will fit!\n",
    "<center> \n",
    "<img src=\"2x2Games.jpeg\" width=\"400\"/>\n",
    "</center>\n",
    "\n",
    "https://upload.wikimedia.org/wikipedia/commons/3/32/2x2chart110602.pdf\n",
    "\n",
    "A systematic approach to (strict/indifferent ordinal) $2\\times 2$ games was provided by Robinson and Goforth [2005]\n",
    "<!-- Indifferent rules out ties -->"
   ]
  },
  {
   "cell_type": "markdown",
   "id": "f6989099",
   "metadata": {
    "slideshow": {
     "slide_type": "skip"
    }
   },
   "source": [
    "Payoffs are strictly ordinal so each player has $4!=24$ ways to assign the outcomes\n",
    "\n",
    "Since the rankings of Player 1 and Player 2 are independent, the total number of possible strict ordinal 2x2 games is $24\\times 24=576$\n",
    "\n",
    "Many games are essentially the same when considering symmetries:\n",
    "- No swaps (original game)\n",
    "- Swap Player 1's strategies (flip rows)\n",
    "- Swap Player 2's strategies (flip columns)\n",
    "- Swap both Player 1 and Player 2's strategies (flip both rows and columns).\n",
    "\n",
    "Hence, there is factor 4 reduction and the number of distinct games is $576/4=144$ strict ordinal 2x2 games.\n",
    "\n",
    "In payoff space:\n",
    "\n",
    "<center> \n",
    "<img src=\"PatternsWirings.png\" width=\"400\"/>\n",
    "</center>\n"
   ]
  },
  {
   "cell_type": "markdown",
   "id": "19360953",
   "metadata": {
    "slideshow": {
     "slide_type": "slide"
    }
   },
   "source": [
    "# Reality\n",
    "Game theory tells us what a perfectly rational agent *should* do\n",
    "    \n",
    "It is much harder to predict what real people *actually* do\n",
    "\n",
    "<!-- I remember doing this in my class once. If everyone raises their hand, everyone gets 1 candy, if no one raises, everyone gets 2, if 1 raises, he gets 10 and no one else gets anything, if more than one raises, no one gets anything. It was a fun day. We were all betrayed. -->\n",
    "\n",
    "See this 'real life' example, the Golden Balls: https://www.youtube.com/watch?v=S0qjK3TWZE8\n",
    "\n"
   ]
  },
  {
   "cell_type": "markdown",
   "id": "07507eed-5649-4b03-a13c-efa1871f738b",
   "metadata": {},
   "source": [
    "# Is it so surprising that people are not rational agents?\n",
    "\n",
    "How can we explain people not doing what Game Theory says they should?\n",
    "- people are not smart enough to understand the scenario?\n",
    "- people are knowingly acting contrary to their own interest?\n",
    "- something else?\n",
    "\n",
    "We will take a small detour via evolution and genetic algorithms and come back to this 'something else'..."
   ]
  },
  {
   "cell_type": "markdown",
   "id": "754af072-4e59-4257-80d5-71957ab707a0",
   "metadata": {},
   "source": [
    "# Evolution\n",
    "To evolve is to change over time\n",
    "\n",
    "In biology, evolution refers to the gradual process by which species change genetically across generations i.e. it's an aggregate effect: *individuals don't evolve, populations do*\n",
    "\n",
    "The theory of evolution claims that new species are created and existing species change due to **natural selection**\n",
    "\n",
    "Natural selection is the process where inherited variations between individuals cause differences in survival and reproduction"
   ]
  },
  {
   "cell_type": "markdown",
   "id": "55f9a1d7-3174-45dc-a3c3-f19b708b3f62",
   "metadata": {},
   "source": [
    "## Darwin\n",
    "\n",
    "<center> \n",
    "<img src=\"DarwinsFinches.jpeg\" width=\"300\"/>\n",
    "</center>\n",
    "\n",
    "Finches from the Galapagos inspired Darwin during his visit to the islands in 1835: They are thought to have evolved from a single finch species that came to the islands more than a million years ago. Differences between species are in the size and shape of their beaks, which are highly adapted to different food sources available on the different islands\n",
    "\n",
    "According to Darwin all organisms share a common ancestor that lived about 580 million years ago and there's no hierarchy -- each organism alive now is the most evolved of its kind. "
   ]
  },
  {
   "cell_type": "markdown",
   "id": "5d2f81c4-336e-4821-8451-c33861287542",
   "metadata": {},
   "source": [
    "### Beware the linear depiction of ape to man!\n",
    "\n",
    "<center> \n",
    "<img src=\"Evolution_ApeMan_Linear.png\" width=\"300\"/>\n",
    "</center>\n",
    "\n",
    "Image: http://creationwiki.org/Devolution\n",
    "\n",
    "Many variations of this picture - some have a humorous spirit, but most aim to ridicule the monkey to man theory\n",
    "\n",
    "Linear depictions like this may confirm false preconceptions about evolution, such as intelligent design (the idea that life has an intelligent creator behind it)\n",
    "<!-- Evolution is not some goal-directed process with humans as the final product/pinnacle -->\n",
    "\n",
    "The reality is that each is a unique species with their own evolutionary paths and humans are no more special than any other primate."
   ]
  },
  {
   "cell_type": "markdown",
   "id": "f7eed763-463d-45e7-82a2-2b2a0f1634c3",
   "metadata": {},
   "source": [
    "### Evolution is not linear\n",
    "\n",
    "<center> \n",
    "<img src=\"Evolution_ApeMan_Proper.jpeg\" width=\"300\"/>\n",
    "</center>\n",
    "\n",
    "Image from: doi:10.1038/nature01400\n",
    " \n",
    "Evolution is a process of continuous branching and divergence of populations of organisms\n",
    "\n",
    "Humans did not evolve from chimpanzees or any of the other great apes that live today\n",
    "\n",
    "We share a common ancestor that lived $\\approx$10 million years ago - asking why modern chimps don't look more like humans is like asking why the children of your cousins don't look more like you than their parents - they're on an entirely different evolutionary path.\n",
    "\n",
    "<!-- Some good reading and some really bad reading on this topic exists. Do your own homework.  -->\n",
    "<!-- https://www.washingtonpost.com/news/speaking-of-science/wp/2016/07/25/dear-science-answers-your-questions-about-evolution/ -->"
   ]
  },
  {
   "cell_type": "markdown",
   "id": "adcf3a46-299b-4fd4-af18-7ef091917ca2",
   "metadata": {},
   "source": [
    "## Explaining global/macroscopic observations\n",
    "i.e. the output\n",
    "\n",
    "The theory of evolution is powerful because it explains phenomena we see in the natural world:\n",
    "- **Adaptation**: Natural selection favors adaptations that best enable creatures to survive under the circumstances in which they live. (This *does not* mean they should all be becoming more human!)\n",
    "<!--     - How ridiculously elitist to think we are the goal and culmination of 4.5 billion years of evolution.\n",
    "    - We continue to evolve - lactose tolerance came long after we were making cheese. Malaria resilience in parts of the world etc.\n",
    "    - Our species could continue to evolve and change for many millennia to come, but we could just as easily go extinct, as have 99 percent of all life forms that came before us.\n",
    "    - Many features of natural systems seem as if they were designed. -->\n",
    "- **Increasing diversity**: Over time the number of species on earth has generally increased (despite periods of mass extinction)\n",
    "- **Increasing complexity**: The history of life on earth starts with relatively simple life forms, with more complex organisms appearing later in the geological record.\n"
   ]
  },
  {
   "cell_type": "markdown",
   "id": "798a38a9-aa79-4722-8bb8-ed6ac7dc27ba",
   "metadata": {},
   "source": [
    "## Mechanisms for evolution\n",
    "i.e. the inputs required\n",
    "\n",
    "<!-- Gradual change happens on timescales that vary from organism to organism based on the length of a generation -->\n",
    "\n",
    "To model evolution the following three mechanisms are sufficient:\n",
    "1. **Variation**: variability in the population, i.e. differences between individuals\n",
    "2. **Differential survival or reproduction**: differences between individuals affect their ability to survive or reproduce\n",
    "3. **Replicators**: a population of agents that can reproduce in some way (perfect copies of themselves or imperfect copying, i.e. mutation)"
   ]
  },
  {
   "cell_type": "markdown",
   "id": "ebe6ea04-4789-42ad-9f1c-84645d9eeca6",
   "metadata": {},
   "source": [
    "# Modelling evolution\n",
    "\n",
    "The (typical) process is:\n",
    "- Agents have genetic information, called their \"genotype\" \n",
    "- Based on their genotype a \"fitness\" is calculated\n",
    "- Some agents die\n",
    "- Some agents are born \n",
    "\n",
    "There are modelling decisions and choices are everywhere here!\n",
    "\n",
    "e.g.:\n",
    "- What is the genotype?\n",
    "- What is fitness? How does it depend on the agent genotype?\n",
    "- Who dies - dependent on what? Fitness? How many die?\n",
    "- Who is born - how many? What are their properties? Are they children of existing agents? Who gets to reproduce?\n",
    "- etc etc etc...\n",
    "- \n",
    "## An example\n",
    "https://www.complexity-explorables.org/explorables/maggots-in-the-wiggle-room/"
   ]
  },
  {
   "cell_type": "markdown",
   "id": "076e8823-91a5-4021-80b0-2ced6e5f5cd0",
   "metadata": {},
   "source": [
    "### Fitness\n",
    "Evolution is a change in a population's distribution of genotypes (may be hard to visualise)\n",
    "\n",
    "As genotypes change, we expect fitness to change \n",
    "\n",
    "Therefore, we use changes in the distribution of fitness as evidence of evolution (easier to visualise as it's just a single value)"
   ]
  },
  {
   "cell_type": "markdown",
   "id": "96ec316d-8096-4f97-8217-a45a62fc4524",
   "metadata": {},
   "source": [
    "##### Fitness landscapes\n",
    "\n",
    "We saw fitness landscapes in the context of particle swarm optimisation\n",
    "\n",
    "In genetic algorithms the fitness landscape, sometimes called an evolutionary landscape, is a function that maps genotype to fitness\n",
    "<!-- a relationship between genotype and fitness is needed for evolution but it can be any relationship -- even a totally random fitness landscape will work. -->\n",
    "        \n",
    "- The agent's fitness is the 'height' of the landscape at that location, which relates to an agent's ability to survive or reproduce\n",
    "- Increasing fitness (of the population) means that the species is getting better at surviving in its environment\n",
    "- In biological terms, the fitness landscape represents information about how the genotype of an organism is related to its physical form and capabilities, called its phenotype, and how the phenotype interacts with its environment"
   ]
  },
  {
   "cell_type": "markdown",
   "id": "4d9773f1-c016-47d7-bdd9-f397e6c496a3",
   "metadata": {},
   "source": [
    "##### Remember...\n",
    "Agents don't move over the fitness landscape (the genotype of an organism doesn't change)\n",
    "    \n",
    "When an agent dies, it can leave a location unoccupied. And when a mutation occurs, it can occupy a new location \n",
    "        \n",
    "As agents disappear from some locations and appear in others, the *population* migrates across the landscape (like a glider in Game of Life) \n",
    "        \n",
    "i.e. organisms don't evolve; populations do"
   ]
  },
  {
   "cell_type": "markdown",
   "id": "4b231ff7-ab6e-4fed-bed7-abb64c059f31",
   "metadata": {},
   "source": [
    "## Building the required mechanisms for adaptation into the model\n",
    "1. Variation: initialise the population with a variety of genotypes (or could simply rely on mutation)\n",
    "2. Differential survival and reproduction: genotype is mapped to fitness and a function converts the fitness to agent's ability to survive or reproduce\n",
    "3. Replication: the genotype is copied by agents that reproduce. Mutation of the genotype is included to increase diversity"
   ]
  },
  {
   "cell_type": "markdown",
   "id": "c70fd097-a345-4444-be0e-654e3a2b43c2",
   "metadata": {},
   "source": [
    "### How would you test these mechanisms?\n",
    "\n",
    "They should result in: adaptation, increasing diversity, increasing complexity\n",
    "\n",
    "For example:\n",
    "- Increasing fitness would mean that the species is getting better at surviving in its environment (and hence adapting)\n",
    "- Diversity could be captured by number of/distribution of genotypes"
   ]
  },
  {
   "cell_type": "markdown",
   "id": "405b0c35-35da-48ef-9991-726e1e01152a",
   "metadata": {},
   "source": [
    "This model is not meant to be realistic - evolution in natural systems is obviously much more complicated than this\n",
    "        \n",
    "Rather, it is a demonstration that the features of the model are *sufficient* to produce the behaviour we are trying to explain\n",
    "\n",
    "This doesn't prove that evolution in nature is caused by these mechanisms alone. But it is reasonable to think that they at least contribute to natural evolution\n",
    "                \n",
    "Similarly, it doesn't prove that these mechanisms always cause evolution. But the results are fairly robust."
   ]
  },
  {
   "cell_type": "markdown",
   "id": "2bee20e4-17e8-4992-a011-85783a6770ae",
   "metadata": {},
   "source": [
    "# Altruistic genes (and selfish ones) with an evolutionary model\n",
    "\n",
    "What do you expect of this computational model...?:\n",
    "\n",
    ">*In a evolving population where some agents have genes that encourage them to help others, even to their own detriment, and other agents are purely selfish...*\n",
    "\n",
    ">*... it seems like the selfish ones would benefit, the altruistic ones would suffer, and the genes for altruism would be driven to extinction -- Allen Downey*\n",
    "\n",
    "\n",
    "This apparent conflict (between natural selection, which suggests that animals live in a state of constant competition, and altruism, which is the tendency of many animals to help other animals, even to their own detriment) is the 'problem/paradox of altruism'\n",
    "\n",
    "Among biologists, there are many possible explanations, including reciprocal altruism, sexual selection, kin selection, and group selection. "
   ]
  },
  {
   "cell_type": "markdown",
   "id": "bb4d3000-de25-4139-b5cf-a3f1a7ededf9",
   "metadata": {},
   "source": [
    "# Iterated prisoner's dilemma\n",
    "\n",
    "There is no altruism in the Prisoner's Dilemma, and yet, when real people play these games we frequently observe them not chasing maximal utility in a rational way\n",
    "\n",
    "Here's a third option for why people are not rational: altruism is simply adaptive (Occam's razor - again!) i.e. genes for altruism make people more likely to survive and reproduce\n",
    "\n",
    "Robert Axelrod's tournament played many different strategies against each other in *repeated games* (200 rounds)\n",
    "\n",
    "14 different strategies (+ random) were submitted by participants\n",
    "\n",
    "<center> \n",
    "<img src=\"Axelrod_PD.png\" width=\"300\"/>\n",
    "</center>"
   ]
  },
  {
   "cell_type": "markdown",
   "id": "bc4a3e25-e61d-4249-ad83-e94241116252",
   "metadata": {},
   "source": [
    "## Successful strategies\n",
    "Successful strategies in the tournament had the following properties:\n",
    "- **Nice**: The strategies that do well cooperate during the first round, and generally cooperate as often as they defect in subsequent rounds\n",
    "- **Retaliating**: Strategies that cooperate all the time did not do as well as strategies that retaliate if the opponent defects (avoiding further losses and disincentivising defecting) \n",
    "- **Forgiving**: But strategies that were too vindictive tended to punish themselves as well as their opponents\n",
    "- **Non-envious**: Some of the most successful strategies seldom outscore their opponents and aren't tempted; they are successful because they do well enough against a wide variety of opponents\n",
    "\n",
    "A brain that is wired to be nice, tempered by a balance of retaliation and forgiveness, with foresight beyond the immediate future will tend to do well in a wide variety of circumstances."
   ]
  },
  {
   "cell_type": "markdown",
   "id": "66bd5cf9-9059-4f94-8551-97e061671068",
   "metadata": {},
   "source": [
    "### Tit for Tat\n",
    "One strategy, called Tit for Tat, cooperated in the first instance and then copied the opponents move in the previous round of play\n",
    "\n",
    "Does Tit for Tat have the properties of a successful strategy? (nice, retaliatory, forgiving, non-envious)\n",
    "<!-- nice - cooperates in first round\n",
    "retaliates - tit for tat\n",
    "forgiving - tit for tat. But being more forgiving can be even better e.g. tit for 2tat avoids echo effect but can be taken advantage of once people know this strategy exists\n",
    "non-envious - can only tie or lose against a single opponent -->\n",
    "\n",
    "This strategy actually won the tournament but better strategies have been uncovered since.\n",
    "<center> \n",
    "<img src=\"Iterated_Prisoners_Dilemma_Venn-Diagram.svg\" width=\"600\"/>\n",
    "</center>\n",
    "\n",
    "\n"
   ]
  },
  {
   "cell_type": "markdown",
   "id": "86d7cac4-4d05-4235-b786-29995a6cfc59",
   "metadata": {},
   "source": [
    "...For inclusion in 2025...\n",
    "More background on PD variants needed: https://en.wikipedia.org/wiki/Prisoner%27s_dilemma#cite_note-1\n",
    "\n",
    "<center> \n",
    "<img src=\"Axelrod_TournamentResults.png\" width=\"600\"/>\n",
    "</center>"
   ]
  },
  {
   "cell_type": "markdown",
   "id": "c2b6a8b3-26d3-4941-b32c-2eef774cbd34",
   "metadata": {},
   "source": [
    "## Evolving a successful strategy\n",
    "\n",
    "Axelrod's tournaments and the strategies that were played were designed by people - they didn't evolve \n",
    "        \n",
    "Assume the points accrued at the end of one of Axelrod's tournaments are a kind of resource that can be used for reproduction\n",
    "\n",
    "- Genotype: iterated PD strategy (we'll need a way to encode the PD strategy as a genotype)\n",
    "- Generation: an Axelrod tournament (200 games against all opponents)\n",
    "- Fitness: points accrued\n",
    "- Reproduction: function of fitness such that the number of players with successful strategies increases in - successive generations\n"
   ]
  },
  {
   "cell_type": "markdown",
   "id": "a9bbd415-1de4-4083-b584-6f99d2524d1b",
   "metadata": {},
   "source": [
    "## Analysis\n",
    "What sorts of questions might we try and answer with a computational model of the tournament?\n",
    "- Can genes for niceness, retribution, and forgiveness appear by mutation? \n",
    "- Can they successfully invade a population of other strategies?\n",
    "- Can they resist being invaded by subsequent mutations?\n",
    "\n",
    "I'll leave it with you to think about modelling this to evolve a winning strategy and the sorts of behaviours that might emerge from this Complex System."
   ]
  },
  {
   "cell_type": "code",
   "execution_count": null,
   "id": "5416b4f2-08a4-4c61-9263-8f63fd127ac6",
   "metadata": {},
   "outputs": [],
   "source": [
    "print(\"Lectures completed successfully!\")"
   ]
  },
  {
   "cell_type": "markdown",
   "id": "407e130e-1c99-44a4-a6d5-ef0d46aa6945",
   "metadata": {},
   "source": [
    "\n",
    ">*\"Tiger got to hunt, bird got to fly; Man got to sit and wonder 'why, why, why?' Tiger got to sleep, bird got to land; Man got to tell himself he understand.\"* - Kurt Vonnegut\n",
    "\n",
    "I hope that you've enjoyed this unit and that you think about it and what you have learned as you go into the next phase of your working life and education\n",
    "\n",
    "Good luck for the upcoming Test and your final Project submissions :)"
   ]
  }
 ],
 "metadata": {
  "celltoolbar": "Slideshow",
  "kernelspec": {
   "display_name": "Python 3 (ipykernel)",
   "language": "python",
   "name": "python3"
  },
  "language_info": {
   "codemirror_mode": {
    "name": "ipython",
    "version": 3
   },
   "file_extension": ".py",
   "mimetype": "text/x-python",
   "name": "python",
   "nbconvert_exporter": "python",
   "pygments_lexer": "ipython3",
   "version": "3.11.13"
  },
  "toc": {
   "base_numbering": 1,
   "nav_menu": {},
   "number_sections": true,
   "sideBar": true,
   "skip_h1_title": false,
   "title_cell": "Table of Contents",
   "title_sidebar": "Contents",
   "toc_cell": false,
   "toc_position": {},
   "toc_section_display": true,
   "toc_window_display": false
  }
 },
 "nbformat": 4,
 "nbformat_minor": 5
}

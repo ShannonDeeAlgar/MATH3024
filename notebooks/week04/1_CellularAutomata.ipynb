{
 "cells": [
  {
   "cell_type": "markdown",
   "id": "b7b25964",
   "metadata": {
    "heading_collapsed": true,
    "slideshow": {
     "slide_type": "skip"
    }
   },
   "source": [
    "# Functions used but not output to slides... "
   ]
  },
  {
   "cell_type": "markdown",
   "id": "5c1ee512-304b-4976-99bf-2f1c9ecd6ac4",
   "metadata": {},
   "source": [
    ">*\"It always bothers me that according to the laws as we understand them today, it takes a computing machine an infinite number of logical operations to figure out what goes on in no matter how tiny a region of space, and no matter how tiny a region of time. How can all that be going on in that tiny space? Why should it take an infinite amount of logic to figure out what one tiny piece of space/time is going to do? So I have often made the hypothesis ultimately physics will not require a mathematical statement, that in the end the machinery will be revealed and the laws will turn out to be simple, like the chequer board with all its apparent complexities. But this is just speculation.\"* - Richard Feynman. (The Character of Physical Law - Ch. 2)\n",
    "<!-- The currently accepted theories all assume some sort of spacetime continuum or otherwise continuously defined objects. Of course, a computer 'thinks' in terms of bits, and therefore does not deal with continuum variables or any other continuous objects. It therefore needs to 'chop things up', i.e. discretize. -->"
   ]
  },
  {
   "cell_type": "code",
   "execution_count": 9,
   "id": "cffbf904",
   "metadata": {
    "hidden": true,
    "slideshow": {
     "slide_type": "skip"
    }
   },
   "outputs": [],
   "source": [
    "import numpy as np\n",
    "import matplotlib.pyplot as plt\n",
    "%matplotlib inline"
   ]
  },
  {
   "cell_type": "code",
   "execution_count": 10,
   "id": "b204e529",
   "metadata": {
    "hidden": true,
    "slideshow": {
     "slide_type": "skip"
    }
   },
   "outputs": [],
   "source": [
    "def wolfram_ca(rule, num_steps, initial_state):\n",
    "    \"\"\"Generate a Wolfram cellular automaton.\n",
    "    \n",
    "    INPUTS:\n",
    "        rule (int): Rule number for the cellular automaton.\n",
    "        num_steps (int): Number of steps or generations for the automaton.\n",
    "        initial_state (ndarray): Initial state of the automaton as a 1D array.\n",
    "\n",
    "    OUTPUTS:\n",
    "        ndarray: Array representing the cellular automaton with shape (num_steps, num_cells).\n",
    "    \"\"\"\n",
    "    num_cells = len(initial_state)\n",
    "    automaton = np.zeros((num_steps, num_cells), dtype=np.uint8)\n",
    "    automaton[0] = initial_state\n",
    "\n",
    "    # Convert rule to binary representation and ensure it is represented as an 8-bit string\n",
    "    binary_rule = bin(rule)[2:].zfill(8)\n",
    "\n",
    "    # Apply rule to generate new states\n",
    "    for step in range(1, num_steps):\n",
    "        for i in range(num_cells):\n",
    "            # Determine the neighborhood states\n",
    "            left = automaton[step - 1, (i - 1) % num_cells] #here the modulo operator % ensures that the indices wrap around to the opposite end of the automaton if they exceed the range of valid indices. \n",
    "            center = automaton[step - 1, i]\n",
    "            right = automaton[step - 1, (i + 1) % num_cells]\n",
    "            # Convert neighborhood states to an integer between 0 and 7\n",
    "            neighborhood = 7 - (left << 2 | center << 1 | right)\n",
    "            # Apply the rule to determine the new state of the cell\n",
    "            automaton[step, i] = int(binary_rule[neighborhood])\n",
    "\n",
    "    return automaton\n",
    "\n",
    "def plot_ca(automaton):\n",
    "    \"\"\"Plot the cellular automaton.\n",
    "    \n",
    "    INPUTS: \n",
    "        automaton (ndarray): Array representing the cellular automaton.\n",
    "\n",
    "    OUTPUTS: \n",
    "        None\n",
    "    \"\"\"\n",
    "    num_steps, num_cells = automaton.shape\n",
    "    plt.figure(figsize=(10, 6))\n",
    "    plt.imshow(automaton, cmap='binary', aspect='auto')\n",
    "    plt.xticks([])\n",
    "    plt.yticks([])\n",
    "    plt.xlabel('Cell')\n",
    "    plt.ylabel('Step')\n",
    "    plt.title('Elementary cellular automaton')\n",
    "    plt.show()\n"
   ]
  },
  {
   "cell_type": "markdown",
   "id": "dd2b457f",
   "metadata": {
    "hidden": true,
    "slideshow": {
     "slide_type": "slide"
    }
   },
   "source": [
    "> *\"You don't educate people by telling them useful things, you educate people by telling them interesting things\"* - John Conway\n",
    "\n",
    "\n",
    "We've see an example of continuous field models with PDEs that were coarse-grained for a discrete approximation\n",
    "\n",
    "Spatio-temporal dynamics may also be appropriately modelled intentionally as a discrete dynamical system..."
   ]
  },
  {
   "cell_type": "markdown",
   "id": "0df9920e",
   "metadata": {
    "slideshow": {
     "slide_type": "slide"
    }
   },
   "source": [
    "# Automaton (singular) Automata (plural)\n",
    "\n",
    "<center>\n",
    "<img src=\"a_single_lone_automata_style_of_Rafa_Olbinski.png\" width=\"600\">\n",
    "</center>\n",
    "\n",
    "(Style of Rafał Olbiński)\n",
    "\n",
    "Automata are mathematical models of very simple machines that move between different **states** over time based on some **rules**"
   ]
  },
  {
   "cell_type": "markdown",
   "id": "aeb107aa",
   "metadata": {
    "slideshow": {
     "slide_type": "subslide"
    }
   },
   "source": [
    "## State\n",
    "Machines are fundamentally defined by their *state*\n",
    "\n",
    "The state is finite and discrete (usually)\n",
    "\n",
    "Automata are therefore often referred to as 'finite state automata'/'finite state machines' or simply 'cells'..."
   ]
  },
  {
   "cell_type": "markdown",
   "id": "c38ca9df",
   "metadata": {
    "slideshow": {
     "slide_type": "subslide"
    }
   },
   "source": [
    "## Rules\n",
    "Machines update their state using a *state-transition function*\n",
    "\n",
    "State-transition functions update the state of something based on its current state and (usually) that of its neighbours\n",
    "\n",
    "They are simple, local, deterministic rules for iterating an initial configuration of cells\n",
    "\n",
    "They are often formed as \"if-then\" statements, which are inherently nonlinear. \n",
    "<!-- No Superposition Principle: In linear systems, the principle of superposition holds, meaning the combined effect of two inputs is simply the sum of their individual effects. In cellular automata, this principle doesn't apply because the combined effect of neighboring cells cannot generally be decomposed into a simple sum of individual effects. -->"
   ]
  },
  {
   "cell_type": "markdown",
   "id": "0624ee38",
   "metadata": {
    "slideshow": {
     "slide_type": "slide"
    }
   },
   "source": [
    "# Cellular automata/automaton\n",
    "\n",
    "Invented in 1940s by Stanislaw Ulam and John von Neumann, who were especially interested in logical requirements for machine self-replication \n",
    "\n",
    "<!-- von Neumann was interested in self-reporoduction in a biological context and Stanislaw Ulam suggested using a cell-based concept -->\n",
    "\n",
    "In von Neumann's model (https://en.wikipedia.org/wiki/Von_Neumann_cellular_automaton):\n",
    "- many identical automata/cells were arranged uniformly on a lattice\n",
    "- cells interacted/exchanged information with their 4 neighbouring cells \n",
    "<!-- (hence, this being named the von Neumann neighbourhood) -->\n",
    "- 29 possible states for each cell\n",
    "- and many complicated rules for how a cell in one state would change to another\n",
    "\n",
    "He did all of this (for at least a few iterations) with pen and paper! \n",
    "\n",
    "This highlights two key points: \n",
    "1. the simulations are extremely rudimentary \n",
    "2. yet highly complex behaviour can emerge. "
   ]
  },
  {
   "cell_type": "markdown",
   "id": "66673adf",
   "metadata": {
    "slideshow": {
     "slide_type": "subslide"
    }
   },
   "source": [
    "In general, cellular automata  (CA) are a spatially distributed dynamical system where both space and time are discrete\n",
    "\n",
    "These worlds are built on a regular and homogenous spatial grid (D-dimensional lattice) with one automata residing at each lattice site\n",
    "\n",
    "Simple and relatively straightforward to simulate\n",
    "\n",
    "One of the most common modelling tools in Complex Systems\n",
    "<!-- They've also been used extensively in areas such as hydrodynamics, growth and morphogenesis of living organisms, ecology, traffic jams, social and economic dynamics etc etc -->\n",
    "\n",
    "We'll now look at the *typical* set up and whilst there are some conventions note that nothing is sacred when it comes to cellular automata."
   ]
  },
  {
   "cell_type": "markdown",
   "id": "1aba9519",
   "metadata": {
    "slideshow": {
     "slide_type": "subslide"
    }
   },
   "source": [
    "## The world\n",
    "\n",
    "\n",
    "We must define the space the automata live in\n",
    "\n",
    "- Dimension, size and discretisation (squares, hexagons, ...)\n",
    "- Initial conditions \n",
    "    - simple, random or domain specific (structured/patterned, depending on context)\n",
    "    - may play a significant role in the evolution and resulting dynamics\n",
    "- Boundary conditions\n",
    "    - No boundaries - assume that the space is infinite.\n",
    "    - Periodic boundaries - space is 'wrapped' around each spatial direction.  For example, a ring in $1D$, a torus in $2D$.\n",
    "    - Cut-off boundaries - cells at the edges/boundaries don't have neighbours.\n",
    "    - Fixed boundaries - cells at the edges have fixed states, i.e., they don't update."
   ]
  },
  {
   "cell_type": "markdown",
   "id": "bfb85c3e",
   "metadata": {
    "slideshow": {
     "slide_type": "subslide"
    }
   },
   "source": [
    "## State \n",
    "Each automaton is a dynamical state variable with a finite number of states available\n",
    "\n",
    "Often simply binary:\n",
    "- 0, off, blank, white, dead, ... \n",
    "- 1, on, filled, back, alive, ...\n",
    "\n",
    "These are sometimes called 'two-state cellular automata'\n",
    "<!-- quiescent vs non-quiescent -->\n",
    "\n",
    "The state of all the cells (the pattern produced) is the *configuration*\n",
    "\n",
    "This state changes in time according to some rule"
   ]
  },
  {
   "cell_type": "markdown",
   "id": "33c21645",
   "metadata": {
    "slideshow": {
     "slide_type": "subslide"
    }
   },
   "source": [
    "## Network \n",
    "Which cells can a given cell see? (and use to make decisions)\n",
    "\n",
    "Same *local* neighbourhood template is used by all cells\n",
    "\n",
    "The template is typically centred at the cell of interest for some radius and some notion of distance\n",
    "\n",
    "The state of cells in the neighbourhood feeds into the state-transition function"
   ]
  },
  {
   "cell_type": "markdown",
   "id": "26f9f017",
   "metadata": {
    "slideshow": {
     "slide_type": "subslide"
    }
   },
   "source": [
    "### Distance\n",
    "The geometry of the lattice means the usual (Euclidean) distance function or metric isn't sensible\n",
    "\n",
    "The typical neighbourhood templates consider all cells within a distance $d$: \n",
    "- von Neumann (NESW) is an $L_1$ norm (aka manhattan/taxicab distance)\n",
    "$$\\color{white}{d_1=\\sum_i|x_i|}$$\n",
    "- Moore (includes corners) is an $L_{\\infty}$ norm\n",
    " $$d_{\\infty}=\\max_i|x_i|$$\n",
    "<!-- - more exotic options can also be considered, e.g. in general we could consider the adjacent vertices of a vertex to be the neighbourhood if we operated the CA on a complex network.\n",
    " -->"
   ]
  },
  {
   "cell_type": "markdown",
   "id": "8931ea53",
   "metadata": {
    "slideshow": {
     "slide_type": "subslide"
    }
   },
   "source": [
    "## Update rule\n",
    "State-transition function provides the dynamics (defines the physics)\n",
    "\n",
    "Can be described lookup table, algorithm, mathematical formula, ...\n",
    "<!-- $$s_{t+1}=F\\big(s_t(x+x_0),s_t(x+x_1), \\ldots , s_t(x+x_{n-1})\\big)$$\n",
    "\n",
    "where $s_{t+1}(x)$ is the state of the automaton located at $x$ at time $t$. $F$ is the state-transition function, $N=\\{x_0,x_1,\\ldots,x_{n-1}\\}$ is the neighbourhood. \n",
    "\n",
    " -->\n",
    "\n",
    "\n",
    "\\begin{equation*}\n",
    "\\color{white}{s_{t+1}(x) = F\\left[s_{t}(x+x_{0}), s_{t}(x+x_{1}), \\ldots, s_{t}(x+x_{n-1})\\right],}\n",
    "\\end{equation*}\n",
    "- $s_{t}(x)$ is the state of the automaton located at $x$ at time $t$,\n",
    "- $F$ is the state-transition function, \n",
    "- and $N=\\{x_{0}, x_{1}, \\ldots, x_{n-1}\\}$ is the neighbourhood.\n",
    "\n",
    "Updating of all cells is usually synchronous in step with a universal clock."
   ]
  },
  {
   "cell_type": "markdown",
   "id": "75f88545",
   "metadata": {
    "slideshow": {
     "slide_type": "slide"
    }
   },
   "source": [
    "We will now explore the two most (in)famous examples: \n",
    "1. Wolfram's Elementary Cellular Automata; and \n",
    "2. Conway's two-dimensional Game of Life."
   ]
  },
  {
   "cell_type": "markdown",
   "id": "8429143f",
   "metadata": {
    "slideshow": {
     "slide_type": "slide"
    }
   },
   "source": [
    "# Wolfram's elementary CA\n",
    "These are the simplest class of one-dimensional cellular automata \n",
    "\n",
    "Wolfram has studied them extensively! His tomb *'A new kind of science'* rubbed many people the wrong way and some of the reviews are far more entertaining than the book itself\n",
    "\n",
    "Nevertheless, these CA are an important starting point for our studies\n",
    "\n",
    "They weren't the first CA though, even Game of Life came before them"
   ]
  },
  {
   "cell_type": "markdown",
   "id": "a8b6969e",
   "metadata": {
    "slideshow": {
     "slide_type": "subslide"
    }
   },
   "source": [
    "## The model\n",
    "\n",
    "To create a model we will need to define:\n",
    "- **World:** finite sequence of square automata arranged on a grid with periodic boundaries \n",
    "- **States:** each cell can be in one of two possible states \n",
    "- **Initialisation:** either a single black cell in the middle of a row of white cells, or a random state for all cells\n",
    "- **Neighbourhood:** consists of the cell itself and the cells to the left and right of it\n",
    "- **Update rule:** Rule $X$, where $X \\in \\{0,1,2,\\ldots , 2^8-1\\}$."
   ]
  },
  {
   "cell_type": "markdown",
   "id": "88433fd7",
   "metadata": {
    "slideshow": {
     "slide_type": "subslide"
    }
   },
   "source": [
    "### A unique numerical code for each possible rule set\n",
    "\n",
    "There are 8 possible neighbourhood configurations: $000$ $001$ $010$ $011$ $100$ $101$ $110$ $111$\n",
    "\n",
    "The particular rule is named based on the update for each of these 8 configurations (in order) \n",
    "\n",
    "For example, this is Rule 50:\n",
    "<center>\n",
    "<img src=\"Rule50.png\" width=\"400\">\n",
    "</center>\n",
    "\n",
    "(Image source: https://mathworld.wolfram.com/Rule50.html)\n",
    "\n",
    "\n",
    "Interpretting the outputs of each of the possible combinations as a single integer in base 2 where white is $0$ and black is $1$ i.e. $00110010$ is binary for 50 \n",
    "\n",
    "Wolfram explored every possible set of rules in great detail"
   ]
  },
  {
   "cell_type": "markdown",
   "id": "b5f7b527",
   "metadata": {
    "slideshow": {
     "slide_type": "subslide"
    }
   },
   "source": [
    "##### An aside: Do you know binary?\n",
    "\n",
    "Base two system, i.e. there are only two digits: 0 and 1\n",
    "\n",
    "Each digit's place value is a power of two\n",
    "\n",
    "e.g. $00110010_2=50_{10}$ because $0\\times 2^7 + 0\\times 2^6 + 1\\times 2^5 + 1\\times 2^4 + \\ldots +1\\times 2^1 + 0\\times 2^0 = 50_{10}$\n",
    "\n",
    "Binary is efficient for computers as it aligns with the on/off states of electronic circuits\n",
    "\n",
    "\n",
    "(Whereas the decimal system is a base ten system with digits: 0, 1, 2, 3, 4, 5, 6, 7, 8, 9. And each digit's place value is a power of ten e.g. $50_{10}=5 \\times 10^1 + 0\\times 10^0$)"
   ]
  },
  {
   "cell_type": "markdown",
   "id": "d093a984",
   "metadata": {
    "slideshow": {
     "slide_type": "subslide"
    }
   },
   "source": [
    "### Observing the dynamics\n",
    "There is one more question we need to answer: how should we visualise the evolution?\n",
    "\n",
    "The most straightforward solution, given that we are working with one-dimensional data, is to include a separate axis for time\n",
    "\n",
    "This is a space-time diagram. Each row of depicts the cells of the automaton for a particular time, with time increasing downwards."
   ]
  },
  {
   "cell_type": "markdown",
   "id": "6f71ca95",
   "metadata": {
    "slideshow": {
     "slide_type": "subslide"
    }
   },
   "source": [
    "So what kinds of patterns do these rules produce?: https://www.complexity-explorables.org/explorables/kelp/"
   ]
  },
  {
   "cell_type": "code",
   "execution_count": 11,
   "id": "de5772b7",
   "metadata": {
    "slideshow": {
     "slide_type": "skip"
    }
   },
   "outputs": [
    {
     "data": {
      "image/png": "[encoded data removed]",
      "text/plain": [
       "<Figure size 1000x600 with 1 Axes>"
      ]
     },
     "metadata": {},
     "output_type": "display_data"
    }
   ],
   "source": [
    "rule_number = 110\n",
    "steps = 100\n",
    "L = 100 \n",
    "initial_state = np.zeros(L, dtype=np.uint8) \n",
    "initial_state[L//2] = 1\n",
    "\n",
    "# initial_state = [random.randint(0, 1) for _ in range(L)]\n",
    "\n",
    "automaton = wolfram_ca(rule_number, steps, initial_state)\n",
    "plot_ca(automaton)"
   ]
  },
  {
   "cell_type": "markdown",
   "id": "8de07fb9",
   "metadata": {
    "slideshow": {
     "slide_type": "subslide"
    }
   },
   "source": [
    "##### Sierpiński triangle\n",
    "Rule 90\n",
    "\n",
    "Each cell's state-transition function is the exclusive or of its two neighbours\n",
    "\n",
    "Because this is equivalent to modulo-2 addition, this generates the modulo-2 version of Pascal's triangle\n",
    "<!-- The diagram has a 1 wherever Pascal's triangle has an odd number, and a 0 wherever Pascal's triangle has an even number. -->\n",
    "\n",
    "From a single cell Rules 18, 22, 26, 82, 146, 154, 210 and 218 also generate the Sierpiński triangle\n",
    "\n",
    "CA like this are sometimes referred to as replicators because the patterns are making copies of themselves"
   ]
  },
  {
   "cell_type": "markdown",
   "id": "b3d6e359",
   "metadata": {
    "slideshow": {
     "slide_type": "subslide"
    }
   },
   "source": [
    "##### An aside: Do you know modulo arithmetic?\n",
    "Numbers \"wrap around\" at the modulus \n",
    "\n",
    "Often compared to the way hours wrap around on a clock (modulus $m=12$), days wrap around the week (modulus $m=7$) etc\n",
    "\n",
    "- The operation is written as $a \\text{ mod } m$, where:\n",
    "  - $a$ is the number you're working with.\n",
    "  - $m$ is the modulus.\n",
    "  - the result is the remainder when $a$ is divided by $m$\n",
    "\n",
    "- $17 \\text{ mod } 5 $ means you divide 17 by 5, which gives 3 with a remainder of 2. So, $17 \\text{ mod } 5 = 2 $\n",
    "- $25 \\text{ mod } 7 $ means you divide 25 by 7, which gives 3 with a remainder of 4. So, $25 \\text{ mod } 7 = 4 $"
   ]
  },
  {
   "cell_type": "markdown",
   "id": "170c4d6e",
   "metadata": {
    "slideshow": {
     "slide_type": "slide"
    }
   },
   "source": [
    "# Game of Life\n",
    "\n",
    "Conway's Game of Life is one of the most well-known cellular automata\n",
    "\n",
    "Explored on a Go board in the mathematics department's tea room at Cambridge \n",
    "<!-- Different because Go buttons are put at grid vertices -->\n",
    "\n",
    "Not the first but is arguably the best example of CA \n",
    "\n",
    "Popularised in columns by Martin Gardener in Scientific American"
   ]
  },
  {
   "cell_type": "markdown",
   "id": "fe670fb3",
   "metadata": {
    "slideshow": {
     "slide_type": "subslide"
    }
   },
   "source": [
    "Pause for a moment to think about how all of the elements of our one-dimensional cellular automata might work in the context of a two-dimensional cellular automata... \n"
   ]
  },
  {
   "cell_type": "markdown",
   "id": "90a444e2",
   "metadata": {
    "slideshow": {
     "slide_type": "fragment"
    }
   },
   "source": [
    "To create a model we will need to define:\n",
    "- World;\n",
    "- States;\n",
    "- Initialisation;\n",
    "- Neighbourhood;\n",
    "- Rules for updating;\n",
    "- and a means to visualise the evolution. "
   ]
  },
  {
   "cell_type": "markdown",
   "id": "c334ecc3",
   "metadata": {
    "slideshow": {
     "slide_type": "subslide"
    }
   },
   "source": [
    "## The model\n",
    "\n",
    "- **World:** 2D, square grid (i.e. a square lattice), period boundaries\n",
    "- **States:** binary\n",
    "- **Initialisation:** random\n",
    "- **Neighbourhood:** Moore neighbourhood (the 8 surrounding squares and self)\n",
    "- **Rules:** ???\n",
    "- **Visualisation:** To properly visualise the evolution of cells and any emergent patterns patterns we'll need something more than an additional axis for time. In particular, we want an animation."
   ]
  },
  {
   "cell_type": "markdown",
   "id": "6609c75a",
   "metadata": {
    "slideshow": {
     "slide_type": "subslide"
    }
   },
   "source": [
    "##### State-transition rules\n",
    "The Wolfram-equivalent two-dimensional cellular automata would have $2^{2^9}=262,144$ state-transition rules to define\n",
    "\n",
    "Obviously that's way too many to list them out explicitly\n",
    "\n",
    "Simplification is often achieved via:\n",
    "- Rotational symmetry (common if modelling physical phenomena)\n",
    "- *Totalistic* rules where the state-transition function depends only on the sum of the states \n",
    "<!-- (these are of course always rotationally symmetric) -->"
   ]
  },
  {
   "cell_type": "markdown",
   "id": "8e013a1c",
   "metadata": {
    "slideshow": {
     "slide_type": "subslide"
    }
   },
   "source": [
    "Conway simplified things to be based (loosely) on real cell growth with the birth and death depending on population density\n",
    "\n",
    "**Rules:**\n",
    "- A cell can be alive or dead\n",
    "- Loneliness: alive cells (black) with fewer than 2 alive neighbours will die (turn white)\n",
    "- Overcrowding: alive cells with more than 3 alive neighbours will die\n",
    "- Happiness: alive cells with either 2 or 3 alive neighbours will continue living (stay black)\n",
    "- Reproduction: dead cells with exactly 3 alive neighbours will come alive\n",
    "- Dead cells stay dead."
   ]
  },
  {
   "cell_type": "markdown",
   "id": "4996463d",
   "metadata": {
    "slideshow": {
     "slide_type": "subslide"
    }
   },
   "source": [
    "### (Game of) Life is full of surprises!\n",
    "\n",
    "This very simple 'game' shows dynamic almost life-like behaviours, which are highly non-trivial and fascinating\n",
    "\n",
    "Even though the simulation is very simple and completely determined, there is fundamentally no way to predict what will happen, other than running a specific simulation to find out. \n",
    "\n",
    "No predictive shortcuts - referred to as *irreducible computability*\n",
    " \n",
    "Typically, we will see one of three things occur:\n",
    "1. The cells die out or become stagnant and the simulation effectively ends\n",
    "2. The cells form into interesting small and stable structures that flip between two (or more) states\n",
    "3. The cells seem to come alive and start doing unusual things"
   ]
  },
  {
   "cell_type": "markdown",
   "id": "c3c0a83a",
   "metadata": {
    "slideshow": {
     "slide_type": "subslide"
    }
   },
   "source": [
    "##### 1. The cells die out or become stagnant and the simulation effectively ends\n",
    "\n",
    "**Still lifes**\n",
    "\n",
    "e.g. the beehive: https://conwaylife.com/wiki/Beehive\n",
    "<center>\n",
    "<img src=\"Beehive.png\" width=\"100\">\n",
    "</center>"
   ]
  },
  {
   "cell_type": "markdown",
   "id": "2891c782",
   "metadata": {
    "slideshow": {
     "slide_type": "subslide"
    }
   },
   "source": [
    "##### 2. The cells form into interesting small and stable structures that flip between two (or more) states\n",
    "\n",
    "**Oscillators**\n",
    "\n",
    "e.g. the toad is a period 2 oscillator: https://conwaylife.com/wiki/Toad\n",
    "<center>\n",
    "<img src=\"Toad.png\" width=\"200\">\n",
    "</center>"
   ]
  },
  {
   "cell_type": "markdown",
   "id": "8baedbd8",
   "metadata": {
    "slideshow": {
     "slide_type": "subslide"
    }
   },
   "source": [
    "##### 3. The cells seem to come alive and start doing unusual things\n",
    "\n",
    "**Spaceships** are moving oscillators that return to their starting position but shifted in space\n",
    "\n",
    "e.g. the **glider** is the simplest type of spaceship and the first to be discovered. They are oscillators with period 4, which walk diagonally across the screen: https://conwaylife.com/wiki/Glider. \n",
    "<center>\n",
    "<img src=\"Glider.png\" width=\"400\">\n",
    "</center>\n",
    "\n",
    "Remember: The squares don't actually 'move', but the pattern of black squares appears as though a glider is travelling across the background. Humans are very good at seeing patterns, sometimes we are too good at it  \n",
    "\n",
    "Conway supposedly regrets calling them gliders as they are much more like 'walkers' or 'crawlers'\n",
    "\n",
    "The glider now has fairly widespread use as the emblem for hackers: http://www.catb.org/hacker-emblem/"
   ]
  },
  {
   "cell_type": "markdown",
   "id": "de3b94f5",
   "metadata": {
    "slideshow": {
     "slide_type": "subslide"
    }
   },
   "source": [
    "**Guns**\n",
    "\n",
    "Have parts that repeat periodically, like an oscillator, but they also periodically emit spaceships\n",
    "\n",
    "e.g. Gosper's glider gun (from Bill Gosper and a team at MIT), which produces recurrent streams of “organisms” spawned from digital “parents”\n",
    "<img src=\"Gospers_glider_gun.gif\" width=\"400\" align=\"center\">\n",
    "\n",
    "(By Lucas Vieira - Own work, CC BY-SA 3.0, https://commons.wikimedia.org/w/index.php?curid=101736)\n",
    "\n",
    "This object was discovered when Conway offered a \\\\$50 prize (equivalent to \\\\$380 in 2022) for anyone who could prove/disprove whether the Game of Life could support a pattern that could grow forever (he originally conjectured that no pattern can grow indefinitely)\n",
    "\n",
    "It's discovery eventually led to the proof that Conway's Game of Life could function as a Turing machine."
   ]
  },
  {
   "cell_type": "markdown",
   "id": "bc72b8f0",
   "metadata": {
    "slideshow": {
     "slide_type": "subslide"
    }
   },
   "source": [
    "##### An aside: Do you know what a Turing machine is?\n",
    "Theoretical model of computation \n",
    "\n",
    "Introduced by Alan Turing in 1936\n",
    "\n",
    "It provides a simple but powerful way to capture the fundamental principles of computation and algorithm\n",
    "\n",
    "\n",
    "Consists of an infinite tape, a tape head, a finite set of states, and a set of rules (transition function)\n",
    "\n",
    "The tape serves as both the input and the working memory, with the head reading and writing symbols one at a time\n",
    "\n",
    "The way it works:\n",
    "- The machine reads the symbol under the tape head\n",
    "- looks up the corresponding rule based on its current state\n",
    "- writes a new symbol to the tape (or leaves it as is)\n",
    "- moves the tape head left or right; and\n",
    "- transitions to a new state. \n",
    "- This process continues until the machine enters the halting state. What's left on the tape is the answer\n",
    "\n",
    "<!-- A Turing machine operates sequentially (one step at a time), whereas a cellular automaton operates in parallel (all cells update simultaneously). -->"
   ]
  },
  {
   "cell_type": "markdown",
   "id": "1864e885",
   "metadata": {
    "slideshow": {
     "slide_type": "subslide"
    }
   },
   "source": [
    "**Methuselas**\n",
    "\n",
    "From most initial conditions the Game of Life quickly reaches a stable state where the number of live cells is nearly constant (possibly with some oscillation). \n",
    "\n",
    "Other patterns are so long-lived, they are called “Methuselahs”. (Methuselah, Noah's grandfather, had the longest lifespan of all those given in the Bible passing away at the grand old age of 969.) \n",
    "<!-- There are various explanations for such a long life: some believe a mistranslation, others believe that his age is used to give the impression that part of Genesis takes place in a very distant past.  -->\n",
    "\n",
    "e.g. the r-pentomino is a Methuselah, which doesn't stabilise until generation 1103!: https://conwaylife.com/wiki/R-pentomino.\n",
    "<center>\n",
    "<img src=\"r_pentomino.png\" width=\"100\">\n",
    "</center>"
   ]
  },
  {
   "cell_type": "markdown",
   "id": "9d28cf15",
   "metadata": {
    "slideshow": {
     "slide_type": "subslide"
    }
   },
   "source": [
    "##### Enough talking, let's see the Game of Life in action\n",
    "\n",
    "Explorable:\n",
    "https://www.complexity-explorables.org/explorables/nah-dah-dah-nah-nah-opus-1984/\n",
    "\n",
    "Large-scale patterns: \n",
    "https://www.youtube.com/watch?v=C2vgICfQawE\n",
    "\n",
    "Clock:\n",
    "https://www.youtube.com/watch?v=3NDAZ5g4EuU&t=13s\n",
    "<!-- https://codegolf.stackexchange.com/questions/88783/build-a-digital-clock-in-conways-game-of-life -->\n",
    "\n",
    "Sierpiński triangle: https://www.reddit.com/r/math/comments/fwujar/conways_game_of_life_forms_a_sierpiński_triangle/\n",
    "\n",
    "Everything you could ever hope to know about the Game of Life: https://link.springer.com/content/pdf/10.1007/978-1-84996-217-9.pdf"
   ]
  },
  {
   "cell_type": "markdown",
   "id": "191ae306",
   "metadata": {
    "slideshow": {
     "slide_type": "subslide"
    }
   },
   "source": [
    "Can you find an undiscovered emergent pattern like a glider gun or puffer train? \n",
    "\n",
    "Not easily... and that is not a coincidence\n",
    "\n",
    "Conway chose the rules of Game of Life so that his conjecture (that no pattern can grow indefinitely) would not be obviously true or false\n",
    "\n",
    "Of all possible rules for a 2D CA, most yield simple behaviour, i.e. most initial conditions stabilise quickly or grow unboundedly\n",
    "\n",
    "By avoiding uninteresting CAs, Conway was also avoiding Wolfram’s Class 1 and Class 2 behaviour, and probably Class 3 as well (more on this in the next session)\n",
    "\n",
    "If you do happen to stumble across or design something that is yet to be named additional marks are up for grabs! (And naming these patterns is something people take very seriously: Boojum, the Snark, and the Bandersnatch) "
   ]
  },
  {
   "cell_type": "markdown",
   "id": "74fd5e9d",
   "metadata": {
    "slideshow": {
     "slide_type": "slide"
    }
   },
   "source": [
    "# Extensions\n",
    "\n",
    "- Cellular automata on networks\n",
    "- Stochastic cellular automata - the state-transition function can be defined probablistically. For example, disease compartment changes state based on the probability of infection/recovery\n",
    "- Multi-layer cellular automata - the cell state can be a vector not a scalar\n",
    "- Asynchronous cellular automata - rather than all cells updating their states at once, cells can be chosen at random to update their state (cf. SIS voter model implementation)\n",
    "- States can be oriented\n",
    "- Can be combined with neural networks to guide the simulations towards desired outcomes. In recent years research in this area has been progressing, quickly with some astonishing results."
   ]
  },
  {
   "cell_type": "markdown",
   "id": "7e950ceb",
   "metadata": {
    "slideshow": {
     "slide_type": "slide"
    }
   },
   "source": [
    "# CA in the real world\n",
    "\n",
    "The second law of thermodynamics says that things should move from order to disorder\n",
    "\n",
    "But life seems to contradict this, self-organising from very simple rules and producing highly complex evolution (a consequence of not operating in equilibrium regimes)\n",
    "\n",
    "CA have been shown to directly correspond to processes generated by biological evolution\n",
    "\n",
    "They capture and describe the transmission of information from one local node to another. Thus, any transmission problem, social or otherwise, can be modeled with a CA with appropriate transmission dynamics."
   ]
  },
  {
   "cell_type": "code",
   "execution_count": 1,
   "id": "acb31e2b",
   "metadata": {
    "slideshow": {
     "slide_type": "fragment"
    }
   },
   "outputs": [
    {
     "data": {
      "text/html": [
       "\n",
       "        <iframe\n",
       "            width=\"1000\"\n",
       "            height=\"300\"\n",
       "            src=\"https://www.youtube.com/embed/iE46jKYcI4Y\"\n",
       "            frameborder=\"0\"\n",
       "            allowfullscreen\n",
       "            \n",
       "        ></iframe>\n",
       "        "
      ],
      "text/plain": [
       "<IPython.lib.display.YouTubeVideo at 0x107e4a9d0>"
      ]
     },
     "execution_count": 1,
     "metadata": {},
     "output_type": "execute_result"
    }
   ],
   "source": [
    "from IPython.display import YouTubeVideo\n",
    "# YouTubeVideo(\"video_id_here\", width=400)\n",
    "\n",
    "#Example usage:\n",
    "YouTubeVideo(\"iE46jKYcI4Y\", width=1000) #video from here: https://www.youtube.com/watch?v=iE46jKYcI4Y\n"
   ]
  },
  {
   "cell_type": "markdown",
   "id": "cd252168",
   "metadata": {
    "slideshow": {
     "slide_type": "subslide"
    }
   },
   "source": [
    "##### In 1D: Rule 30\n",
    ">*\"The Rule 30 automataon is the most surprising thing I've ever seen in science... It took me several years to absorb how important this was. But in the end, I realised that this one picture contains the clue to what's perhaps the most long-standing mystery in all of science: where, in the end, the complexity of the natural world comes from.\"* - Stephen Wolfram (Quoted in Forbes)\n",
    "\n",
    "*Conus textile* (a venemous sea snail)\n",
    "<center>\n",
    "<img src=\"Textile_cone.jpg\" width=\"200\">\n",
    "</center>\n",
    "\n",
    "<!-- By Richard Ling - Own work; Location: Cod Hole, Great Barrier Reef, Australia, CC BY-SA 3.0, https://commons.wikimedia.org/w/index.php?curid=293495 -->\n",
    "\n",
    "\n",
    "Wolfram patented this as a pseudo-random number generator\n",
    "<!-- True random numbers are hardware generated or generated from blood volume pulse, atmospheric pressure, thermal noise, quantum phenomenon, etc. -->\n",
    "\n",
    "And a few years ago put \\\\$30,000 up as a prize for answering some as yet unanswered questions: https://writings.stephenwolfram.com/2019/10/announcing-the-rule-30-prizes/"
   ]
  },
  {
   "cell_type": "markdown",
   "id": "3cd97a8a",
   "metadata": {
    "slideshow": {
     "slide_type": "subslide"
    }
   },
   "source": [
    "##### In 2D:\n",
    "<center>\n",
    "<img src=\"Lizard_CA.png\" width=\"600\">\n",
    "</center>\n",
    "\n",
    "There is a reaction-diffusion system underneath the cellular automata model\n",
    "\n",
    "https://www.nature.com/articles/nature22031 \n"
   ]
  },
  {
   "cell_type": "markdown",
   "id": "a16f3527",
   "metadata": {
    "slideshow": {
     "slide_type": "subslide"
    }
   },
   "source": [
    "## In art\n",
    "\n",
    "If you've never thought about knitting and maths in the same thought it's time to pick up a pair of knitting needles...\n",
    "\n",
    "<center>\n",
    "<img src=\"CA_Knitting.png\" width=\"400\">\n",
    "</center>\n",
    "\n",
    "Survey (includes fractals, chaos etc): \n",
    "https://link.springer.com/referenceworkentry/10.1007/978-3-319-70658-0_54-1\n",
    "http://mtarchive.blogspot.com/2011/07/mathematical-knitting-network.html\n"
   ]
  },
  {
   "cell_type": "markdown",
   "id": "62b5c01b",
   "metadata": {
    "slideshow": {
     "slide_type": "slide"
    }
   },
   "source": [
    "# Next session\n",
    "We'll see some of the methods available to actually analyse the outputs of a cellular automata"
   ]
  },
  {
   "cell_type": "markdown",
   "id": "99fb18d0",
   "metadata": {
    "heading_collapsed": true,
    "slideshow": {
     "slide_type": "skip"
    }
   },
   "source": [
    "# Unused material"
   ]
  },
  {
   "cell_type": "markdown",
   "id": "c7ed7a75",
   "metadata": {
    "hidden": true,
    "slideshow": {
     "slide_type": "skip"
    }
   },
   "source": [
    "\n",
    "**Example CA---majority rule**\n",
    "\n",
    "Voting \n",
    "\n",
    "The state of a cell can be a $0$ or a $1$.\n",
    "\n",
    "The rule: A cell changes its state to the local majority of its neighbourhood\n",
    "\n",
    "This CA model self-organises into separated patches of ones or zeros depending on the initial conditions.\n"
   ]
  },
  {
   "cell_type": "markdown",
   "id": "5d07bfa1",
   "metadata": {
    "hidden": true,
    "slideshow": {
     "slide_type": "skip"
    }
   },
   "source": [
    "Forrest fire: https://www.complexity-explorables.org/explorables/critically-inflammatory/\n",
    "        \n",
    "(epidemic spread)\n",
    "\n",
    "contact process\n",
    "\n",
    "Typically: fire seeded in single tree, if your neighbour is on fire you will catch fire, you will be completely charred in a single time step\n",
    "\n",
    "state={tree, burning, charred/empty}=$\\{0,1,2\\}$ $\n",
    "$0\\rightarrow 1 \\rightarrow 2 \\rightarrow 0$\n",
    "\n",
    "Eventual static state\n",
    "\n",
    "What's a good metric? Do we measure static final state? Total area burned? What does it depend on? (density of trees p). Or perhaps the time it takes until the fire stops spreading (again a function of p)\n",
    "\n"
   ]
  },
  {
   "cell_type": "markdown",
   "id": "444d726c",
   "metadata": {
    "slideshow": {
     "slide_type": "skip"
    }
   },
   "source": [
    "# How do previous week's topics relate?"
   ]
  },
  {
   "cell_type": "markdown",
   "id": "962bc7b7",
   "metadata": {
    "slideshow": {
     "slide_type": "skip"
    }
   },
   "source": [
    "**Previous topics:**\n",
    "- Why is this a complex system?\n",
    "- What are the modelling choices that have been made?\n",
    "- We can characterise the pattern of the CA model using dimension estimates.\n",
    "- Are any of the patterns fractals?\n",
    "- Does the 'complexity' of the pattern support Wolfram's categorisation? (this relates to information theory, which we may not have covered yet depending on how I decide to deliver things but you can return to this idea later if you have no idea what I'm talking about yet)\n",
    "- Sierpinski triangle we saw for fractals can be produced with many patterns\n",
    "- The Wolfram taxonomy can be applied to all the patterns we saw in reaction-diffusion systems"
   ]
  },
  {
   "cell_type": "markdown",
   "id": "b18021e3",
   "metadata": {
    "slideshow": {
     "slide_type": "skip"
    }
   },
   "source": [
    "**Upcoming topics:**\n",
    "- By applying a mean field approximation, the system’s state can be approximated just by one variable: the density"
   ]
  },
  {
   "cell_type": "markdown",
   "id": "614c7b35",
   "metadata": {
    "slideshow": {
     "slide_type": "skip"
    }
   },
   "source": [
    "# For inclusion in 2024\n",
    "https://theconversation.com/do-we-live-in-a-computer-simulation-like-in-the-matrix-my-proposed-new-law-of-physics-backs-up-the-idea-215552"
   ]
  }
 ],
 "metadata": {
  "@webio": {
   "lastCommId": null,
   "lastKernelId": null
  },
  "celltoolbar": "Slideshow",
  "kernelspec": {
   "display_name": "Python 3 (ipykernel)",
   "language": "python",
   "name": "python3"
  },
  "language_info": {
   "codemirror_mode": {
    "name": "ipython",
    "version": 3
   },
   "file_extension": ".py",
   "mimetype": "text/x-python",
   "name": "python",
   "nbconvert_exporter": "python",
   "pygments_lexer": "ipython3",
   "version": "3.13.4"
  },
  "toc": {
   "base_numbering": 1,
   "nav_menu": {},
   "number_sections": true,
   "sideBar": true,
   "skip_h1_title": false,
   "title_cell": "Table of Contents",
   "title_sidebar": "Contents",
   "toc_cell": false,
   "toc_position": {},
   "toc_section_display": true,
   "toc_window_display": false
  }
 },
 "nbformat": 4,
 "nbformat_minor": 5
}

{
 "cells": [
  {
   "cell_type": "markdown",
   "id": "46c1eead-2e35-4c71-8a2d-58fb0e477a3d",
   "metadata": {
    "editable": true,
    "slideshow": {
     "slide_type": ""
    },
    "tags": []
   },
   "source": [
    "# Week 4: Cellular automata"
   ]
  },
  {
   "cell_type": "markdown",
   "id": "5c1ee512-304b-4976-99bf-2f1c9ecd6ac4",
   "metadata": {
    "editable": true,
    "slideshow": {
     "slide_type": "slide"
    },
    "tags": [
     "slides"
    ]
   },
   "source": [
    "<div style=\"margin: 1.5em 0; border-right: 4px solid #888; padding-right: 1em; text-align: right;\">\n",
    "  <div style=\"font-style: italic; font-family: 'Comic Neue', 'Segoe Script', cursive; font-size: 1.2em;\">\n",
    "It always bothers me that according to the laws as we understand them today, it takes a computing machine an infinite number of logical operations to figure out what goes on in no matter how tiny a region of space, and no matter how tiny a region of time. How can all that be going on in that tiny space? Why should it take an infinite amount of logic to figure out what one tiny piece of space/time is going to do? So I have often made the hypothesis ultimately physics will not require a mathematical statement, that in the end the machinery will be revealed and the laws will turn out to be simple, like the chequer board with all its apparent complexities. But this is just speculation. \n",
    "  </div>\n",
    "  <div style=\"font-style: normal; font-size: 0.95em; margin-top: 0.5em;\">\n",
    "    — Richard Feynman, <em>The Character of Physical Law </em>, - Ch. 2\n",
    "  </div>\n",
    "</div>"
   ]
  },
  {
   "cell_type": "markdown",
   "id": "dd2b457f",
   "metadata": {
    "editable": true,
    "hidden": true,
    "slideshow": {
     "slide_type": "slide"
    },
    "tags": []
   },
   "source": [
    "\n",
    "<div style=\"margin: 1.5em 0; border-right: 4px solid #888; padding-right: 1em; text-align: right;\">\n",
    "  <div style=\"font-style: italic; font-family: 'Comic Neue', 'Segoe Script', cursive; font-size: 1.2em;\">\n",
    "    You don't educate people by telling them useful things, you educate people by telling them interesting things\n",
    "  </div>\n",
    "  <div style=\"font-style: normal; font-size: 0.95em; margin-top: 0.5em;\">\n",
    "    — John Conway \n",
    "  </div>\n",
    "</div>\n",
    "\n",
    "\n",
    "We've see an example of continuous field models with PDEs that were coarse-grained for a discrete approximation that allowed for simulation.\n",
    "\n",
    "Spatio-temporal dynamics may also be appropriately modelled intentionally as a discrete dynamical system..."
   ]
  },
  {
   "cell_type": "markdown",
   "id": "0df9920e",
   "metadata": {
    "editable": true,
    "slideshow": {
     "slide_type": "slide"
    },
    "tags": [
     "slides"
    ]
   },
   "source": [
    "# Automaton (singular) Automata (plural)\n",
    "\n",
    "Automata are mathematical models of very simple machines that move between different **states** over time based on some **rules**."
   ]
  },
  {
   "cell_type": "markdown",
   "id": "aeb107aa",
   "metadata": {
    "editable": true,
    "slideshow": {
     "slide_type": "subslide"
    },
    "tags": [
     "slides"
    ]
   },
   "source": [
    "## State\n",
    "Machines are fundamentally defined by their **state**, which is finite and discrete (usually)\n",
    "\n",
    "Automata are therefore often referred to as 'finite state automata'/'finite state machines' or simply 'cells'."
   ]
  },
  {
   "cell_type": "markdown",
   "id": "c38ca9df",
   "metadata": {
    "editable": true,
    "slideshow": {
     "slide_type": "subslide"
    },
    "tags": [
     "slides"
    ]
   },
   "source": [
    "## Rules\n",
    "Machines update their state using a **state-transition function**, which depends on the cell's current state and (usually) that of its neighbours\n",
    "\n",
    "They are simple, local, deterministic rules for iterating an initial configuration of cells.\n",
    "\n",
    "They are often formed as \"if-then\" statements, which are inherently nonlinear. "
   ]
  },
  {
   "cell_type": "markdown",
   "id": "181b8bd8-1809-4d62-ac64-7f3251bd9d5b",
   "metadata": {
    "editable": true,
    "slideshow": {
     "slide_type": ""
    },
    "tags": [
     "reader-only"
    ]
   },
   "source": [
    "<div style=\"border-left: 4px solid #1e70bf; padding: 0.75em; background-color: #eaf3fb; margin-bottom: 1em;\">\n",
    "  <strong>Theoretical Question:</strong><br>\n",
    "    In physics, linear systems follow the superposition principle. Why doesn’t this principle work for cellular automata, and what does that tell us about the nature of their rules?\n",
    "</div>"
   ]
  },
  {
   "cell_type": "markdown",
   "id": "5f6cb943-81e7-41ef-8b3e-1c647341f0ba",
   "metadata": {
    "editable": true,
    "slideshow": {
     "slide_type": ""
    },
    "tags": [
     "reader-only"
    ]
   },
   "source": [
    "```{toggle}  my answers...\n",
    "No Superposition Principle: In linear systems, the principle of superposition holds, meaning the combined effect of two inputs is simply the sum of their individual effects. In cellular automata, this principle doesn't apply because the combined effect of neighboring cells cannot generally be decomposed into a simple sum of individual effects.\n",
    "```"
   ]
  },
  {
   "cell_type": "markdown",
   "id": "0624ee38",
   "metadata": {
    "editable": true,
    "slideshow": {
     "slide_type": "slide"
    },
    "tags": []
   },
   "source": [
    "# Cellular automata/automaton\n",
    "\n",
    "Invented in 1940s by Stanislaw Ulam and John von Neumann, who were especially interested in logical requirements for machine self-replication \n",
    "\n",
    "![](images/Ulam_vonNeumann.png)\n",
    "\n",
    "<!-- von Neumann was interested in self-reporoduction in a biological context and Stanislaw Ulam suggested using a cell-based concept -->\n",
    "\n",
    "In [von Neumann's model](https://en.wikipedia.org/wiki/Von_Neumann_cellular_automaton):\n",
    "- many identical automata/cells were arranged uniformly on a lattice\n",
    "- cells interacted/exchanged information with their 4 neighbouring cells (hence, this being named the von Neumann neighbourhood)\n",
    "- 29 possible states for each cell\n",
    "- and many complicated rules for how a cell in one state would change to another\n",
    "\n",
    "He did all of this (for at least a few iterations) with pen and paper! \n",
    "\n",
    "This highlights two key points: \n",
    "1. the simulations are extremely rudimentary \n",
    "2. yet highly complex behaviour can emerge. "
   ]
  },
  {
   "cell_type": "markdown",
   "id": "66673adf",
   "metadata": {
    "editable": true,
    "slideshow": {
     "slide_type": "subslide"
    },
    "tags": []
   },
   "source": [
    "In general, cellular automata  (CA) are a spatially distributed dynamical system where both space and time are discrete\n",
    "\n",
    "These worlds are built on a regular and homogenous spatial grid (D-dimensional lattice) with one automata residing at each lattice site\n",
    "\n",
    "Simple and relatively straightforward to simulate\n",
    "\n",
    "One of the most common modelling tools in Complex Systems\n",
    "<!-- They've also been used extensively in areas such as hydrodynamics, growth and morphogenesis of living organisms, ecology, traffic jams, social and economic dynamics etc etc -->\n",
    "\n",
    "We'll now look at the *typical* set up and whilst there are some conventions note that nothing is sacred when it comes to cellular automata."
   ]
  },
  {
   "cell_type": "markdown",
   "id": "1cbd1b11-3b96-4022-b1c7-73f5dde32168",
   "metadata": {
    "editable": true,
    "slideshow": {
     "slide_type": "subslide"
    },
    "tags": [
     "slides"
    ]
   },
   "source": [
    "## The world\n",
    "\n",
    "We must define the space the automata live in.\n",
    "\n",
    "In cellular automata, these discretisation choices — lattice type, initial conditions, and boundary rules — define the “world” in which the dynamics unfold and can profoundly shape the patterns that emerge.\n",
    "\n",
    "![](images/Regular_tilings.svg)\n",
    "\n",
    "[Figure from Wolfram](https://mathworld.wolfram.com/Tessellation.html)"
   ]
  },
  {
   "cell_type": "markdown",
   "id": "b70624c0-c008-4f97-8bcf-4f2cf0c374dd",
   "metadata": {
    "editable": true,
    "slideshow": {
     "slide_type": ""
    },
    "tags": [
     "remove-cell",
     "presenter-notes"
    ]
   },
   "source": [
    "<div style=\"background-color: #ffff88; padding: 1em; border-left: 5px solid #fff102;\">\n",
    "    \n",
    "The numbers in the brackets ${p,q}$ are the Schläfli symbol for a regular tiling:\n",
    "- $p =$ the number of sides of each regular polygon in the tiling.\n",
    "- $q =$ the number of polygons that meet at each vertex.\n",
    "\n",
    "These three are the only regular tilings of the Euclidean plane because they are the only $\\{p, q\\}$ pairs that satisfy the flatness condition:\n",
    "\n",
    "$$\n",
    "\\frac{1}{p} + \\frac{1}{q} = \\frac{1}{2}.\n",
    "$$\n",
    "\n",
    "(Euler’s formula for planar graphs, $V−E+F=2$, for finite patches, and \n",
    "$V−E+F=0$ in the infinite tiling limit leads to the same constraint.)\n",
    "</div>"
   ]
  },
  {
   "cell_type": "markdown",
   "id": "1aba9519",
   "metadata": {
    "editable": true,
    "slideshow": {
     "slide_type": ""
    },
    "tags": [
     "reader-only"
    ]
   },
   "source": [
    "These are the typical (regular) tilings of the Euclidean plane but you could also dream up more exotic ones.\n",
    "\n",
    "When choosing a discretisation for a model, key features to consider include:\n",
    "\n",
    "- **Dimension, size, and lattice type**\n",
    "  – e.g., squares, hexagons, triangles, or more irregular geometries.\n",
    "\n",
    "- **Initial conditions**\n",
    "  – Simple, random, or domain-specific (structured/patterned).\n",
    "  – Can strongly influence the system’s evolution and resulting dynamics.\n",
    "\n",
    "- **Boundary conditions**\n",
    "  – No boundaries: Assume space is infinite.\n",
    "  – Periodic boundaries: Space “wraps around” in each spatial direction (e.g., a ring in 1D, a torus in 2D).\n",
    "  – Cut-off boundaries: Edge cells lack neighbours beyond the boundary.\n",
    "  – Fixed boundaries: Edge cells are held in fixed states and do not update.\n"
   ]
  },
  {
   "cell_type": "markdown",
   "id": "6a0f0425-68f9-4ee2-a169-69f49e48bf15",
   "metadata": {
    "editable": true,
    "slideshow": {
     "slide_type": "subslide"
    },
    "tags": [
     "slides"
    ]
   },
   "source": [
    "## State \n",
    "Each automaton is a dynamical state variable with a finite number of states available."
   ]
  },
  {
   "cell_type": "markdown",
   "id": "bfb85c3e",
   "metadata": {
    "editable": true,
    "slideshow": {
     "slide_type": "subslide"
    },
    "tags": [
     "reader-only"
    ]
   },
   "source": [
    "\n",
    "The state is often simply binary (sometimes called 'two-state cellular automata'):\n",
    "- 0, off, blank, white, dead, ... \n",
    "- 1, on, filled, back, alive, ...\n",
    "\n",
    "This state changes in time according to some rule.\n",
    "\n",
    "The state of all the cells (the pattern produced) is the **configuration**."
   ]
  },
  {
   "cell_type": "markdown",
   "id": "36d6c344-f73f-4ef4-bc91-0735a524724c",
   "metadata": {
    "editable": true,
    "slideshow": {
     "slide_type": "subslide"
    },
    "tags": [
     "slides"
    ]
   },
   "source": [
    "## Network \n",
    "Which cells can a given cell see? (and use to make decisions).\n"
   ]
  },
  {
   "cell_type": "markdown",
   "id": "33c21645",
   "metadata": {
    "editable": true,
    "slideshow": {
     "slide_type": ""
    },
    "tags": [
     "reader-only"
    ]
   },
   "source": [
    "\n",
    "Same *local* neighbourhood template is used by all cells. It is typically centred at the cell of interest for some radius and some notion of distance.\n"
   ]
  },
  {
   "cell_type": "markdown",
   "id": "26f9f017",
   "metadata": {
    "editable": true,
    "slideshow": {
     "slide_type": ""
    },
    "tags": [
     "reader-only"
    ]
   },
   "source": [
    "### Distance\n",
    "The geometry of the lattice means the usual (Euclidean) distance function or metric isn't sensible\n",
    "\n",
    "The typical neighbourhood templates consider all cells within a distance $d$: \n",
    "- von Neumann (NESW) is an $L_1$ norm (aka manhattan/taxicab distance)\n",
    "$$d_1=\\sum_i|x_i|$$\n",
    "- Moore (includes corners) is an $L_{\\infty}$ norm\n",
    " $$d_{\\infty}=\\max_i|x_i|$$\n",
    "<!-- - more exotic options can also be considered, e.g. in general we could consider the adjacent vertices of a vertex to be the neighbourhood if we operated the CA on a complex network.\n",
    " -->"
   ]
  },
  {
   "cell_type": "markdown",
   "id": "8931ea53",
   "metadata": {
    "editable": true,
    "slideshow": {
     "slide_type": "subslide"
    },
    "tags": [
     "slides"
    ]
   },
   "source": [
    "## Update rule\n",
    "\n",
    "The state of all cells within the neighbourhood feeds into the state-transition function, which provides the dynamics (defines the physics).\n"
   ]
  },
  {
   "cell_type": "markdown",
   "id": "deb6f76f-1a71-4330-bae5-e30ff744bfac",
   "metadata": {
    "editable": true,
    "raw_mimetype": "",
    "slideshow": {
     "slide_type": ""
    },
    "tags": [
     "reader-only"
    ]
   },
   "source": [
    "\n",
    "\\begin{equation*}\n",
    "s_{t+1}(x) = F\\left[s_{t}(x+x_{0}), s_{t}(x+x_{1}), \\ldots, s_{t}(x+x_{n-1})\\right],\n",
    "\\end{equation*}\n",
    "- $s_{t}(x)$ is the state of the automaton located at $x$ at time $t$,\n",
    "- $F$ is the state-transition function. It can be described lookup table, algorithm, mathematical formula, ...\n",
    "- and $N=\\{x_{0}, x_{1}, \\ldots, x_{n-1}\\}$ is the neighbourhood.\n",
    "\n",
    "Updating of all cells is usually synchronous in step with a universal clock."
   ]
  },
  {
   "cell_type": "markdown",
   "id": "75f88545",
   "metadata": {
    "editable": true,
    "slideshow": {
     "slide_type": "subslide"
    },
    "tags": [
     "slides"
    ]
   },
   "source": [
    "We will now explore the two most (in)famous examples: \n",
    "1. Wolfram's Elementary Cellular Automata; and \n",
    "2. Conway's two-dimensional Game of Life."
   ]
  },
  {
   "cell_type": "markdown",
   "id": "8429143f",
   "metadata": {
    "editable": true,
    "slideshow": {
     "slide_type": "slide"
    },
    "tags": [
     "slides"
    ]
   },
   "source": [
    "# Wolfram's elementary CA\n",
    "These are the simplest class of *one-dimensional cellular automata*. \n"
   ]
  },
  {
   "cell_type": "markdown",
   "id": "e129a7c8-4372-4c91-9628-72a15763a134",
   "metadata": {
    "editable": true,
    "slideshow": {
     "slide_type": ""
    },
    "tags": [
     "reader-only"
    ]
   },
   "source": [
    "\n",
    "Wolfram has studied them extensively! His tomb *'A new kind of science'* rubbed many people the wrong way and some of the reviews are far more entertaining than the book itself.\n",
    "\n",
    "Nevertheless, these CA are an important starting point for our studies.\n",
    "\n",
    "They weren't the first CA though, even Game of Life came before them."
   ]
  },
  {
   "cell_type": "markdown",
   "id": "a8b6969e",
   "metadata": {
    "editable": true,
    "slideshow": {
     "slide_type": "subslide"
    },
    "tags": [
     "slides"
    ]
   },
   "source": [
    "## The model\n",
    "\n",
    "To create a model we will need to define:\n",
    "- **World:** finite sequence of square automata arranged on a grid with periodic boundaries \n",
    "- **States:** each cell can be in one of two possible states \n",
    "- **Initialisation:** either a single black cell in the middle of a row of white cells, or a random state for all cells\n",
    "- **Neighbourhood:** consists of the cell itself and the cells to the left and right of it\n",
    "- **Update rule:** Rule $X$, where $X \\in \\{0,1,2,\\ldots , 2^8-1\\}$."
   ]
  },
  {
   "cell_type": "markdown",
   "id": "88433fd7",
   "metadata": {
    "editable": true,
    "slideshow": {
     "slide_type": "subslide"
    },
    "tags": [
     "slides"
    ]
   },
   "source": [
    "### A unique numerical code for each possible rule set\n",
    "\n",
    "There are 8 possible neighbourhood configurations: $000$, $001$, $010$, $011$, $100$, $101$, $110$, $111$\n",
    "\n",
    "The particular rule is named based on the update for each of these 8 configurations (*in order*). \n",
    "\n",
    "For example, this is Rule 50:\n",
    "\n",
    "![](images/Rule50.png)\n",
    "\n",
    "Fig from [Wolfram's Mathworld](https://mathworld.wolfram.com/Rule50.html)\n",
    "\n",
    "\n",
    "Interpretting the outputs of each of the possible combinations as a single integer in base 2 where white is $0$ and black is $1$ i.e. $00110010$ is binary for 50 .\n",
    "\n",
    "Wolfram explored every possible set of rules in great detail."
   ]
  },
  {
   "cell_type": "markdown",
   "id": "b5f7b527",
   "metadata": {
    "editable": true,
    "slideshow": {
     "slide_type": ""
    },
    "tags": [
     "reader-only"
    ]
   },
   "source": [
    "##### An aside: Do you know binary?\n",
    "\n",
    "Base two system, i.e. there are only two digits: 0 and 1\n",
    "\n",
    "Each digit's place value is a power of two\n",
    "\n",
    "e.g. $00110010_2=50_{10}$ because $0\\times 2^7 + 0\\times 2^6 + 1\\times 2^5 + 1\\times 2^4 + \\ldots +1\\times 2^1 + 0\\times 2^0 = 50_{10}$\n",
    "\n",
    "Binary is efficient for computers as it aligns with the on/off states of electronic circuits\n",
    "\n",
    "\n",
    "(Whereas the decimal system is a base ten system with digits: 0, 1, 2, 3, 4, 5, 6, 7, 8, 9. And each digit's place value is a power of ten e.g. $50_{10}=5 \\times 10^1 + 0\\times 10^0$)"
   ]
  },
  {
   "cell_type": "markdown",
   "id": "887e1dc2-5f40-4bd1-8cd6-4b9430c12e3a",
   "metadata": {
    "editable": true,
    "slideshow": {
     "slide_type": "subslide"
    },
    "tags": [
     "slides"
    ]
   },
   "source": [
    "### Observing the dynamics\n",
    "There is one more question we need to answer: how should we visualise the evolution?\n"
   ]
  },
  {
   "cell_type": "markdown",
   "id": "d093a984",
   "metadata": {
    "editable": true,
    "slideshow": {
     "slide_type": ""
    },
    "tags": []
   },
   "source": [
    "\n",
    "The most straightforward solution, given that we are working with one-dimensional data, is to include a separate axis for time.\n",
    "\n",
    "This is a space-time diagram. Each row of depicts the cells of the automaton for a particular time, with time increasing downwards."
   ]
  },
  {
   "cell_type": "markdown",
   "id": "6f71ca95",
   "metadata": {
    "editable": true,
    "slideshow": {
     "slide_type": "subslide"
    },
    "tags": [
     "slides"
    ]
   },
   "source": [
    "So what kinds of patterns do these rules produce?: \n",
    "\n",
    "[Another Complexity Explorable](https://www.complexity-explorables.org/explorables/kelp/)"
   ]
  },
  {
   "cell_type": "code",
   "execution_count": null,
   "id": "aabcd524-1bd8-46e5-8cb4-605e00a5c0cf",
   "metadata": {
    "editable": true,
    "slideshow": {
     "slide_type": ""
    },
    "tags": [
     "hide-input",
     "hide-output",
     "reader-only"
    ]
   },
   "outputs": [],
   "source": [
    "import numpy as np\n",
    "import matplotlib.pyplot as plt\n",
    "%matplotlib inline\n",
    "\n",
    "def wolfram_ca(rule, num_steps, initial_state):\n",
    "    \"\"\"Generate a Wolfram cellular automaton.\n",
    "    \n",
    "    INPUTS:\n",
    "        rule (int): Rule number for the cellular automaton.\n",
    "        num_steps (int): Number of steps or generations for the automaton.\n",
    "        initial_state (ndarray): Initial state of the automaton as a 1D array.\n",
    "\n",
    "    OUTPUTS:\n",
    "        ndarray: Array representing the cellular automaton with shape (num_steps, num_cells).\n",
    "    \"\"\"\n",
    "    num_cells = len(initial_state)\n",
    "    automaton = np.zeros((num_steps, num_cells), dtype=np.uint8)\n",
    "    automaton[0] = initial_state\n",
    "\n",
    "    # Convert rule to binary representation and ensure it is represented as an 8-bit string\n",
    "    binary_rule = bin(rule)[2:].zfill(8)\n",
    "\n",
    "    # Apply rule to generate new states\n",
    "    for step in range(1, num_steps):\n",
    "        for i in range(num_cells):\n",
    "            # Determine the neighborhood states\n",
    "            left = automaton[step - 1, (i - 1) % num_cells] #here the modulo operator % ensures that the indices wrap around to the opposite end of the automaton if they exceed the range of valid indices. \n",
    "            center = automaton[step - 1, i]\n",
    "            right = automaton[step - 1, (i + 1) % num_cells]\n",
    "            # Convert neighborhood states to an integer between 0 and 7\n",
    "            neighborhood = 7 - (left << 2 | center << 1 | right)\n",
    "            # Apply the rule to determine the new state of the cell\n",
    "            automaton[step, i] = int(binary_rule[neighborhood])\n",
    "\n",
    "    return automaton\n",
    "\n",
    "def plot_ca(automaton):\n",
    "    \"\"\"Plot the cellular automaton.\n",
    "    \n",
    "    INPUTS: \n",
    "        automaton (ndarray): Array representing the cellular automaton.\n",
    "\n",
    "    OUTPUTS: \n",
    "        None\n",
    "    \"\"\"\n",
    "    num_steps, num_cells = automaton.shape\n",
    "    plt.figure(figsize=(10, 6))\n",
    "    plt.imshow(automaton, cmap='binary', aspect='auto')\n",
    "    plt.xticks([])\n",
    "    plt.yticks([])\n",
    "    plt.xlabel('Cell')\n",
    "    plt.ylabel('Step')\n",
    "    plt.title('Elementary cellular automaton')\n",
    "    plt.show()"
   ]
  },
  {
   "cell_type": "code",
   "execution_count": 3,
   "id": "de5772b7",
   "metadata": {
    "editable": true,
    "slideshow": {
     "slide_type": ""
    },
    "tags": [
     "hide-input",
     "reader-only"
    ]
   },
   "outputs": [
    {
     "data": {
      "image/png": "[encoded data removed]",
      "text/plain": [
       "<Figure size 1000x600 with 1 Axes>"
      ]
     },
     "metadata": {},
     "output_type": "display_data"
    }
   ],
   "source": [
    "rule_number = 110\n",
    "steps = 100\n",
    "L = 100 \n",
    "initial_state = np.zeros(L, dtype=np.uint8) \n",
    "initial_state[L//2] = 1\n",
    "\n",
    "# initial_state = [random.randint(0, 1) for _ in range(L)]\n",
    "\n",
    "automaton = wolfram_ca(rule_number, steps, initial_state)\n",
    "plot_ca(automaton)"
   ]
  },
  {
   "cell_type": "markdown",
   "id": "8de07fb9",
   "metadata": {
    "editable": true,
    "slideshow": {
     "slide_type": "subslide"
    },
    "tags": [
     "slides"
    ]
   },
   "source": [
    "##### Sierpiński triangle: Rule 90\n",
    "\n",
    "Each cell's state-transition function is the *exclusive or* of its two neighbours.\n",
    "\n",
    "Because this is equivalent to modulo-2 addition, this generates the modulo-2 version of Pascal's triangle. The diagram has a 1 wherever Pascal's triangle has an odd number, and a 0 wherever Pascal's triangle has an even number.\n",
    "\n",
    "CA like this are sometimes referred to as replicators because the patterns are making copies of themselves"
   ]
  },
  {
   "cell_type": "markdown",
   "id": "b3d6e359",
   "metadata": {
    "editable": true,
    "slideshow": {
     "slide_type": ""
    },
    "tags": [
     "reader-only"
    ]
   },
   "source": [
    "##### An aside: Do you know modulo arithmetic?\n",
    "Numbers \"wrap around\" at the modulus. This is often compared to the way hours wrap around on a clock (modulus $m=12$), days wrap around the week (modulus $m=7$) etc.\n",
    "\n",
    "- The operation is written as $a \\text{ mod } m$, where:\n",
    "  - $a$ is the number you're working with.\n",
    "  - $m$ is the modulus.\n",
    "  - the result is the remainder when $a$ is divided by $m$\n",
    "\n",
    "- $17 \\text{ mod } 5 $ means you divide 17 by 5, which gives 3 with a remainder of 2. So, $17 \\text{ mod } 5 = 2 $\n",
    "- $25 \\text{ mod } 7 $ means you divide 25 by 7, which gives 3 with a remainder of 4. So, $25 \\text{ mod } 7 = 4 $"
   ]
  },
  {
   "cell_type": "markdown",
   "id": "0c355faa-c217-460b-8f7c-bb61f4c3fe23",
   "metadata": {
    "editable": true,
    "slideshow": {
     "slide_type": ""
    },
    "tags": [
     "reader-only"
    ]
   },
   "source": [
    "<div style=\"border-left: 4px solid #1e70bf; padding: 0.75em; background-color: #eaf3fb; margin-bottom: 1em;\">\n",
    "  <strong>Theoretical Question:</strong><br>\n",
    "From a single cell initialisation Rules 18, 22, 26, 82, 146, 154, 210 and 218 also generate the Sierpiński triangle. Why?\n",
    "</div>"
   ]
  },
  {
   "cell_type": "markdown",
   "id": "04f20fe7-cdc2-451c-93cb-cbebbdff67b2",
   "metadata": {
    "editable": true,
    "slideshow": {
     "slide_type": ""
    },
    "tags": [
     "reader-only"
    ]
   },
   "source": [
    "```{toggle}  my answers...\n",
    "All those rules are, in some sense, variations of Rule 90, so they generate the same underlying fractal pattern from a single-cell start, possibly with simple inversions or flips.\n",
    "\n",
    "Rule 90 is **additive**: the new state of a cell is just the XOR of its two neighbours:\n",
    "\n",
    "     $$\n",
    "     s_i^{t+1} = s_{i-1}^t \\oplus s_{i+1}^t\n",
    "     $$\n",
    "\n",
    "This linearity over the finite field $\\mathrm{GF}(2)$ means its evolution can be analysed as a kind of discrete Pascal’s triangle modulo 2 — which is exactly the Sierpiński triangle.\n",
    "\n",
    "Rules 18, 22, 26, 82, 146, 154, 210, and 218 are either additive rules themselves, just with different combinations of neighbour contributions, or equivalent to Rule 90 under symmetries (bit flip of 0↔1, left-right reflection, or both).\n",
    "\n",
    "Wolfram’s classification shows that many rules fall into **equivalence classes** under these simple transformations. Within a class, patterns from a single-seed start are identical up to flipping colours or mirroring.\n",
    "\n",
    "With a radius-1 CA (like the Wolfram rules), there are $2^3=8$ possible neighbourhoods.\n",
    "But starting from a single black cell in a sea of white, most of those never appear. \n",
    "\n",
    "At $t=0$, you only have 000 100 000 patterns around the centre. As time evolves, only neighbourhoods containing at most two black cells appear in the active region (because additivity forbids “merging” into larger solid blocks from that starting seed).\n",
    "\n",
    "So the CA’s behaviour in this case is determined entirely by its outputs for just a small subset of the 8 neighbourhoods — specifically the ones that are shared by this set of rules.\n",
    "\n",
    "```"
   ]
  },
  {
   "cell_type": "markdown",
   "id": "170c4d6e",
   "metadata": {
    "editable": true,
    "slideshow": {
     "slide_type": "slide"
    },
    "tags": [
     "slides"
    ]
   },
   "source": [
    "# Game of Life\n",
    "\n",
    "Conway's Game of Life is one of the most well-known cellular automata (not the first but is arguably the best example of CA). It was popularised in columns by Martin Gardener in Scientific American.\n",
    "\n",
    "![](images/Conway_notes.png)\n",
    "\n",
    "\n",
    "[Figure from NY times (a great article that is unfortunately behind a paywall)](https://www.nytimes.com/2020/12/28/science/math-conway-game-of-life.html)"
   ]
  },
  {
   "cell_type": "markdown",
   "id": "d152607d-5aca-47ad-84f4-924c74caa8f9",
   "metadata": {
    "editable": true,
    "slideshow": {
     "slide_type": ""
    },
    "tags": [
     "reader-only"
    ]
   },
   "source": [
    "It was first explored on a Go board in the Cambridge mathematics department’s tea room — though unlike in Go, where stones are placed on the grid’s vertices, the Game of Life assigns states to the grid’s squares.\n"
   ]
  },
  {
   "cell_type": "markdown",
   "id": "fe670fb3",
   "metadata": {
    "editable": true,
    "slideshow": {
     "slide_type": "subslide"
    },
    "tags": [
     "slides"
    ]
   },
   "source": [
    "Pause for a moment to think about how all of the elements of our one-dimensional cellular automata might work in the context of a two-dimensional cellular automata... \n"
   ]
  },
  {
   "cell_type": "markdown",
   "id": "c334ecc3",
   "metadata": {
    "editable": true,
    "slideshow": {
     "slide_type": ""
    },
    "tags": [
     "reader-only"
    ]
   },
   "source": [
    "## The model\n",
    "\n",
    "- **World:** 2D, square grid (i.e. a square lattice), period boundaries\n",
    "- **States:** binary\n",
    "- **Initialisation:** random\n",
    "- **Neighbourhood:** Moore neighbourhood (the 8 surrounding squares and self)\n",
    "- **Rules:** ???\n",
    "- **Visualisation:** To properly visualise the evolution of cells and any emergent patterns patterns we'll need something more than an additional axis for time. In particular, we want an animation."
   ]
  },
  {
   "cell_type": "markdown",
   "id": "6609c75a",
   "metadata": {
    "editable": true,
    "slideshow": {
     "slide_type": "subslide"
    },
    "tags": []
   },
   "source": [
    "##### State-transition rules\n",
    "The Wolfram-equivalent two-dimensional cellular automata would have:\n",
    "\n",
    "$$\n",
    "\\underbrace{2^{\\,\\overbrace{2^{9}}^{\\text{possible neighbourhoods}}}}_{\\text{possible rules}} \\;=\\; 262{,}144\n",
    "$$\n",
    "\n",
    "state-transition rules to define.\n",
    "\n",
    "Obviously that's way too many to list them out explicitly.\n"
   ]
  },
  {
   "cell_type": "markdown",
   "id": "b76cc4fc-bd13-4eb6-b175-6b3a4dde73d9",
   "metadata": {
    "editable": true,
    "slideshow": {
     "slide_type": ""
    },
    "tags": [
     "reader-only"
    ]
   },
   "source": [
    "\n",
    "Simplification is often achieved via:\n",
    "- Rotational symmetry (common if modelling physical phenomena)\n",
    "- *Totalistic* rules where the state-transition function depends only on the sum of the states \n",
    "(which are of course always rotationally symmetric)."
   ]
  },
  {
   "cell_type": "markdown",
   "id": "8e013a1c",
   "metadata": {
    "editable": true,
    "slideshow": {
     "slide_type": "subslide"
    },
    "tags": [
     "slides"
    ]
   },
   "source": [
    "Conway simplified things to be based (loosely) on real cell growth with the birth and death depending on population density.\n",
    "\n",
    "**Rules:**\n",
    "- A cell can be alive or dead\n",
    "- Loneliness: alive cells (black) with fewer than 2 alive neighbours will die (turn white)\n",
    "- Overcrowding: alive cells with more than 3 alive neighbours will die\n",
    "- Happiness: alive cells with either 2 or 3 alive neighbours will continue living (stay black)\n",
    "- Reproduction: dead cells with exactly 3 alive neighbours will come alive\n",
    "- Dead cells stay dead."
   ]
  },
  {
   "cell_type": "markdown",
   "id": "4996463d",
   "metadata": {
    "editable": true,
    "slideshow": {
     "slide_type": "subslide"
    },
    "tags": [
     "slides"
    ]
   },
   "source": [
    "### (Game of) Life is full of surprises!\n",
    "\n",
    "This very simple 'game' shows dynamic almost life-like behaviours, which are highly non-trivial and fascinating.\n",
    "\n",
    "Even though the simulation is very simple and completely determined, there is fundamentally no way to predict what will happen, other than running a specific simulation to find out. \n",
    "\n",
    "No predictive shortcuts - referred to as *irreducible computability*.\n",
    " \n",
    "Typically, we will see one of three things occur:\n",
    "1. The cells die out or become stagnant and the simulation effectively ends\n",
    "2. The cells form into interesting small and stable structures that flip between two (or more) states\n",
    "3. The cells seem to come alive and start doing unusual things."
   ]
  },
  {
   "cell_type": "markdown",
   "id": "c3c0a83a",
   "metadata": {
    "editable": true,
    "slideshow": {
     "slide_type": "subslide"
    },
    "tags": [
     "slides"
    ]
   },
   "source": [
    "##### 1. The cells die out or become stagnant and the simulation effectively ends\n",
    "\n",
    "**Still lifes**\n",
    "\n",
    "e.g. [the beehive: ](https://conwaylife.com/wiki/Beehive)\n",
    "<!-- <center>\n",
    "<img src=\"images/Beehive.png\" width=\"100\">\n",
    "</center> -->\n",
    "\n",
    "![](images/Beehive.png)\n"
   ]
  },
  {
   "cell_type": "markdown",
   "id": "2891c782",
   "metadata": {
    "editable": true,
    "slideshow": {
     "slide_type": "subslide"
    },
    "tags": [
     "slides"
    ]
   },
   "source": [
    "##### 2. The cells form into interesting small and stable structures that flip between two (or more) states\n",
    "\n",
    "**Oscillators**\n",
    "\n",
    "e.g. [the toad is a period 2 oscillator](https://conwaylife.com/wiki/Toad)\n",
    "\n",
    "<!-- <center>\n",
    "<img src=\"images/Toad.png\" width=\"200\">\n",
    "</center> -->\n",
    "\n",
    "![](images/Toad.png)\n"
   ]
  },
  {
   "cell_type": "markdown",
   "id": "8baedbd8",
   "metadata": {
    "editable": true,
    "slideshow": {
     "slide_type": "subslide"
    },
    "tags": [
     "slides"
    ]
   },
   "source": [
    "##### 3. The cells seem to come alive and start doing unusual things\n",
    "\n",
    "**Spaceships** are moving oscillators that return to their starting position but shifted in space\n",
    "\n",
    "e.g. the **glider** is the simplest type of spaceship and the first to be discovered. They are oscillators with period 4, which appear to walk diagonally across the screen:  \n",
    "\n",
    "![](images/Animated_glider_emblem.gif)\n",
    "\n",
    "\n",
    "Remember: The squares don't actually 'move'! Humans are very good at seeing patterns, sometimes we are too good at it.  \n",
    "\n",
    "Conway supposedly regrets calling them gliders as they are much more like 'walkers' or 'crawlers'.\n",
    "\n",
    "The glider now has fairly widespread use as the [emblem for hackers](http://www.catb.org/hacker-emblem/)."
   ]
  },
  {
   "cell_type": "markdown",
   "id": "de3b94f5",
   "metadata": {
    "editable": true,
    "slideshow": {
     "slide_type": "subslide"
    },
    "tags": [
     "slides"
    ]
   },
   "source": [
    "**Guns**\n",
    "\n",
    "Have parts that repeat periodically, like an oscillator, but they also periodically emit spaceships.\n",
    "\n",
    "e.g. Gosper's glider gun (from Bill Gosper and a team at MIT), which produces recurrent streams of “organisms” spawned from digital “parents”\n",
    "\n",
    "![](images/Gospers_glider_gun.gif)\n",
    "\n",
    "[Fig By Lucas Vieira - Own work, CC BY-SA 3.0](https://commons.wikimedia.org/w/index.php?curid=101736)\n",
    "\n",
    "This object was discovered when Conway offered a \\\\$50 prize (equivalent to \\\\$380 in 2022) for anyone who could prove/disprove whether the Game of Life could support a pattern that could grow forever (he originally conjectured that no pattern can grow indefinitely)\n",
    "\n",
    "It's discovery eventually led to the proof that Conway's Game of Life could function as a Turing machine."
   ]
  },
  {
   "cell_type": "markdown",
   "id": "bc72b8f0",
   "metadata": {
    "editable": true,
    "slideshow": {
     "slide_type": ""
    },
    "tags": [
     "reader-only"
    ]
   },
   "source": [
    "##### An aside: Do you know what a Turing machine is?\n",
    "Theoretical model of computation, introduced by Alan Turing in 1936\n",
    "\n",
    "It provides a simple but powerful way to capture the fundamental principles of computation and algorithm.\n",
    "\n",
    "A Turing machine consists of an infinite tape, a tape head, a finite set of states, and a set of rules (transition function). The tape serves as both the input and the working memory, with the head reading and writing symbols one at a time as follows:\n",
    "- The machine reads the symbol under the tape head\n",
    "- looks up the corresponding rule based on its current state\n",
    "- writes a new symbol to the tape (or leaves it as is)\n",
    "- moves the tape head left or right; and\n",
    "- transitions to a new state. \n",
    "- This process continues until the machine enters the halting state. What's left on the tape is the answer\n",
    "\n",
    "Note that a Turing machine operates sequentially (one step at a time), whereas a cellular automaton operates in parallel (all cells update simultaneously)."
   ]
  },
  {
   "cell_type": "markdown",
   "id": "1864e885",
   "metadata": {
    "editable": true,
    "slideshow": {
     "slide_type": "subslide"
    },
    "tags": [
     "slides"
    ]
   },
   "source": [
    "**Methuselas**\n",
    "\n",
    "From most initial conditions the Game of Life quickly reaches a stable state where the number of live cells is nearly constant (possibly with some oscillation). \n",
    "\n",
    "Other patterns are so long-lived, they are called “Methuselahs”. (Methuselah, Noah's grandfather, had the longest lifespan of all those given in the Bible passing away at the grand old age of 969.) \n",
    "\n",
    "e.g. [the r-pentomino](https://conwaylife.com/wiki/R-pentomino) is a Methuselah, which doesn't stabilise until generation 1103!:\n",
    "\n",
    "![](images/r_pentomino.png)\n"
   ]
  },
  {
   "cell_type": "markdown",
   "id": "2fff3df9-01cd-4994-93d5-d4bd1d30257b",
   "metadata": {
    "editable": true,
    "slideshow": {
     "slide_type": ""
    },
    "tags": [
     "remove-cell",
     "presenter-notes"
    ]
   },
   "source": [
    "<div style=\"background-color: #ffff88; padding: 1em; border-left: 5px solid #fff102;\">\n",
    "\n",
    "There are various explanations for such a long life: some believe a mistranslation, others believe that his age is used to give the impression that part of Genesis takes place in a very distant past. \n",
    "\n",
    "A pentomino (or 5-omino) is a polyomino of order 5, i.e., a polygon in the plane made of 5 equal-sized squares connected edge to edge. \n",
    "\n",
    "</div>"
   ]
  },
  {
   "cell_type": "markdown",
   "id": "9d28cf15",
   "metadata": {
    "editable": true,
    "slideshow": {
     "slide_type": "subslide"
    },
    "tags": [
     "slides"
    ]
   },
   "source": [
    "##### Game of Life in action\n",
    "\n",
    "- [Explorable](https://www.complexity-explorables.org/explorables/nah-dah-dah-nah-nah-opus-1984/)\n",
    "- [Large-scale patterns](https://www.youtube.com/watch?v=C2vgICfQawE)\n",
    "- [Clock](https://www.youtube.com/watch?v=3NDAZ5g4EuU&t=13s)\n",
    "- [Sierpiński triangle](https://www.reddit.com/r/math/comments/fwujar/conways_game_of_life_forms_a_sierpiński_triangle/)\n",
    "- [Everything you could ever hope to know about the Game of Life](https://link.springer.com/content/pdf/10.1007/978-1-84996-217-9.pdf)"
   ]
  },
  {
   "cell_type": "markdown",
   "id": "191ae306",
   "metadata": {
    "editable": true,
    "slideshow": {
     "slide_type": ""
    },
    "tags": [
     "reader-only"
    ]
   },
   "source": [
    "<div style=\"border-left: 4px solid #1e70bf; padding: 0.75em; background-color: #eaf3fb; margin-bottom: 1em;\">\n",
    "  <strong>Play:</strong><br>\n",
    "    Can you find an undiscovered emergent pattern like a glider gun or puffer train? \n",
    "</div>"
   ]
  },
  {
   "cell_type": "markdown",
   "id": "4edceb3c-9aa3-4117-a8ea-25351a8b2c1f",
   "metadata": {
    "editable": true,
    "slideshow": {
     "slide_type": ""
    },
    "tags": [
     "reader-only"
    ]
   },
   "source": [
    "``` {toggle}\n",
    "Not easily... and that is not a coincidence.\n",
    "\n",
    "Conway chose the rules of Game of Life so that his conjecture (that no pattern can grow indefinitely) would not be obviously true or false.\n",
    "\n",
    "Of all possible rules for a 2D CA, most yield simple behaviour, i.e. most initial conditions stabilise quickly or grow unboundedly.\n",
    "\n",
    "By avoiding uninteresting CAs, Conway was also avoiding Wolfram’s Class 1 and Class 2 behaviour, and probably Class 3 as well (more on this in the next session).\n",
    "\n",
    "If you do happen to stumble across or design something that is yet to be named additional marks are up for grabs! (And naming these patterns is something people take very seriously: Boojum, the Snark, and the Bandersnatch) .\n",
    "```"
   ]
  },
  {
   "cell_type": "markdown",
   "id": "74fd5e9d",
   "metadata": {
    "editable": true,
    "slideshow": {
     "slide_type": ""
    },
    "tags": [
     "reader-only"
    ]
   },
   "source": [
    "# Extensions\n",
    "\n",
    "- Cellular automata on networks\n",
    "- Stochastic cellular automata - the state-transition function can be defined probablistically. For example, disease compartment changes state based on the probability of infection/recovery\n",
    "- Multi-layer cellular automata - the cell state can be a vector not a scalar\n",
    "- Asynchronous cellular automata - rather than all cells updating their states at once, cells can be chosen at random to update their state (cf. SIS voter model implementation)\n",
    "- States can be oriented\n",
    "- Can be combined with neural networks to guide the simulations towards desired outcomes. In recent years research in this area has been progressing, quickly with some astonishing results."
   ]
  },
  {
   "cell_type": "markdown",
   "id": "7e950ceb",
   "metadata": {
    "editable": true,
    "slideshow": {
     "slide_type": "slide"
    },
    "tags": [
     "slides"
    ]
   },
   "source": [
    "# CA in the real world\n",
    "\n",
    "The second law of thermodynamics says that things should move from order to disorder.\n",
    "\n",
    "But life seems to contradict this, self-organising from very simple rules and producing highly complex evolution (a consequence of not operating in equilibrium regimes).\n",
    "\n",
    "CA have been shown to directly correspond to processes generated by biological evolution.\n",
    "\n",
    "They capture and describe the transmission of information from one local node to another. Thus, any transmission problem, social or otherwise, can be modeled with a CA with appropriate transmission dynamics."
   ]
  },
  {
   "cell_type": "code",
   "execution_count": 6,
   "id": "acb31e2b",
   "metadata": {
    "editable": true,
    "slideshow": {
     "slide_type": "fragment"
    },
    "tags": [
     "slides"
    ]
   },
   "outputs": [
    {
     "data": {
      "text/html": [
       "\n",
       "        <iframe\n",
       "            width=\"1000\"\n",
       "            height=\"300\"\n",
       "            src=\"https://www.youtube.com/embed/iE46jKYcI4Y\"\n",
       "            frameborder=\"0\"\n",
       "            allowfullscreen\n",
       "            \n",
       "        ></iframe>\n",
       "        "
      ],
      "text/plain": [
       "<IPython.lib.display.YouTubeVideo at 0x10e4b3d90>"
      ]
     },
     "execution_count": 6,
     "metadata": {},
     "output_type": "execute_result"
    }
   ],
   "source": [
    "from IPython.display import YouTubeVideo\n",
    "# YouTubeVideo(\"video_id_here\", width=400)\n",
    "YouTubeVideo(\"iE46jKYcI4Y\", width=1000) #video from here: https://www.youtube.com/watch?v=iE46jKYcI4Y\n"
   ]
  },
  {
   "cell_type": "markdown",
   "id": "cd252168",
   "metadata": {
    "editable": true,
    "slideshow": {
     "slide_type": "subslide"
    },
    "tags": [
     "slides"
    ]
   },
   "source": [
    "##### In 1D: Rule 30\n",
    "\n",
    "\n",
    "<div style=\"margin: 1.5em 0; border-right: 4px solid #888; padding-right: 1em; text-align: right;\">\n",
    "  <div style=\"font-style: italic; font-family: 'Comic Neue', 'Segoe Script', cursive; font-size: 1.2em;\">\n",
    "The Rule 30 automataon is the most surprising thing I've ever seen in science... It took me several years to absorb how important this was. But in the end, I realised that this one picture contains the clue to what's perhaps the most long-standing mystery in all of science: where, in the end, the complexity of the natural world comes from  </div>\n",
    "  <div style=\"font-style: normal; font-size: 0.95em; margin-top: 0.5em;\">\n",
    "    — Stephen Wolfram (Quoted in Forbes)\n",
    "  </div>\n",
    "</div>\n",
    "\n",
    "*Conus textile* (a venemous sea snail)\n",
    "\n",
    "![](images/Textile_cone.jpeg)\n",
    "\n",
    "\n",
    "Wolfram patented this as a pseudo-random number generator and a few years ago put [\\\\$30,000 up as a prize for answering some as yet unanswered questions](https://writings.stephenwolfram.com/2019/10/announcing-the-rule-30-prizes/)"
   ]
  },
  {
   "cell_type": "markdown",
   "id": "1206cfbb-e19c-4ed5-8b4e-deef02921750",
   "metadata": {
    "editable": true,
    "slideshow": {
     "slide_type": ""
    },
    "tags": [
     "remove-cell",
     "presenter-notes"
    ]
   },
   "source": [
    "<div style=\"background-color: #ffff88; padding: 1em; border-left: 5px solid #fff102;\">\n",
    "(true random numbers are hardware generated or generated from blood volume pulse, atmospheric pressure, thermal noise, quantum phenomenon, etc.)\n",
    "</div>"
   ]
  },
  {
   "cell_type": "markdown",
   "id": "3cd97a8a",
   "metadata": {
    "editable": true,
    "slideshow": {
     "slide_type": "subslide"
    },
    "tags": [
     "slides"
    ]
   },
   "source": [
    "##### In 2D:\n",
    "\n",
    "![](images/Lizard_cellular_automata.png)\n",
    "\n",
    "Figure from the article: [*A living mesoscopic cellular automaton made of skin scales*](https://www.nature.com/articles/nature22031). \n"
   ]
  },
  {
   "cell_type": "markdown",
   "id": "139f8cc4-382f-4b5c-a5f4-cf2d770a417b",
   "metadata": {
    "editable": true,
    "slideshow": {
     "slide_type": "slide"
    },
    "tags": [
     "slides"
    ]
   },
   "source": [
    "\n",
    "<div style=\"margin: 1.5em 0; border-right: 4px solid #888; padding-right: 1em; text-align: right;\">\n",
    "  <div style=\"font-style: italic; font-family: 'Comic Neue', 'Segoe Script', cursive; font-size: 1.2em;\">\n",
    "People think that mathematics is complicated. Mathematics is the simple bit, it’s the stuff we CAN understand. It’s cats that are complicated.\n",
    "  </div>\n",
    "  <div style=\"font-style: normal; font-size: 0.95em; margin-top: 0.5em;\">\n",
    "    — John Conway \n",
    "  </div>\n",
    "</div>\n"
   ]
  },
  {
   "cell_type": "markdown",
   "id": "62b5c01b",
   "metadata": {
    "editable": true,
    "slideshow": {
     "slide_type": ""
    },
    "tags": [
     "remove-cell",
     "presenter-notes"
    ]
   },
   "source": [
    "<div style=\"background-color: #ffff88; padding: 1em; border-left: 5px solid #fff102;\">\n",
    "\n",
    "\n",
    "We've seen how simple yet powerful rules in cellular automata models can lead to extremely complex and highly nonlinear behaviour. \n",
    "\n",
    "Analysing this behaviour in a mathematically elegant way isn't straightforward\n",
    "\n",
    "Today we will see some options and tricks\n",
    "\n",
    "</div>"
   ]
  },
  {
   "cell_type": "markdown",
   "id": "d0943696-a64e-4d50-82c3-bb84667c0be3",
   "metadata": {
    "editable": true,
    "slideshow": {
     "slide_type": ""
    },
    "tags": []
   },
   "source": [
    "# Rule space\n",
    "\n",
    "CA models are discrete in time and space, and typically the states of the cells are also discrete.\n",
    "\n",
    "This means that the number of all possible neighbourhoods and responses to those neighbourhoods is finite and therefore countable... we can actually list out all possible state-transition functions with an exhaustive search if we want to (and are as crazy as Wolfram).\n",
    "\n",
    "Together, these form the **rule-space**. "
   ]
  },
  {
   "cell_type": "markdown",
   "id": "079918c5-7776-43ae-af9f-03bd78bc2ebb",
   "metadata": {
    "editable": true,
    "slideshow": {
     "slide_type": "subslide"
    },
    "tags": [
     "slides"
    ]
   },
   "source": [
    "Let: \n",
    "- $D$ be the dimension of the space\n",
    "- $r$ be the radius of the neighbourhood\n",
    "- $k$ be the number of possible states for a cell\n",
    "\n",
    "If using a Moore template the size of the neighbourhood will be $2r+1$ neighbours in each dimension and hence the total number of neighbours $n=(2r+1)^D$. \n",
    "\n",
    "Each of the cells in a neighbourhood can be in one of $k$ states. Hence the neighbourhood could be one of $c = k^n$ and each of those neighbourhoods needs a state-transition: \n",
    "\n",
    "$$\n",
    "k^c=k^{k^n}=k^{k^{(2r+1)^D}}.\n",
    "$$\n"
   ]
  },
  {
   "cell_type": "markdown",
   "id": "13a0fc9a-f371-4f6c-bd32-e36582053b4e",
   "metadata": {
    "editable": true,
    "slideshow": {
     "slide_type": ""
    },
    "tags": [
     "reader-only"
    ]
   },
   "source": [
    "\n",
    "This obviously gets very large, very quickly.\n",
    "\n",
    "We've seen how Wolfram's elementary CA have $2^{2^3}$ possible sets of 'physics', which was sort of manageable. Game of Life used a totalistic rule to reduce the size of the rule-space from $2^{2^9}$ to a few simple entries in a lookup table"
   ]
  },
  {
   "cell_type": "markdown",
   "id": "16dbb195-7733-4ed4-bf77-3adb37ac31aa",
   "metadata": {
    "editable": true,
    "slideshow": {
     "slide_type": "slide"
    },
    "tags": [
     "slides"
    ]
   },
   "source": [
    "# Phase-space\n",
    "The **phase-space**, on the other hand, contains all of the possible configurations - the parallel universes that can emerge from these rules. \n",
    "\n",
    "If the space is finite then we can list these too.\n",
    "\n",
    "Let:\n",
    "- $L$ be the length of space in each dimension\n",
    "\n",
    "Then for a regular domain the total number of cells (volume) is $L^D$ and each cell can be in one of $k$ states hence we have $k^{L^D}$ possible configurations."
   ]
  },
  {
   "cell_type": "markdown",
   "id": "769902d2-d412-4bc9-8cee-560318b05ca1",
   "metadata": {
    "editable": true,
    "slideshow": {
     "slide_type": "subslide"
    },
    "tags": [
     "slides"
    ]
   },
   "source": [
    "## Classifying behaviour\n",
    "\n",
    "The emerging configurations can be classified (after some transient from a random initialisation).\n"
   ]
  },
  {
   "cell_type": "markdown",
   "id": "a4040593-f72f-4a9c-b0f5-880af15993d9",
   "metadata": {
    "editable": true,
    "slideshow": {
     "slide_type": ""
    },
    "tags": [
     "reader-only"
    ]
   },
   "source": [
    "Wolfram classified each of the 256 CAs into four classes, numbered in order of increasing complexity, based on how they evolve from anything to their eventual patterns.\n",
    "\n",
    "Whilst it's not exactly a useless classification, it is somewhat ill-defined, qualitative and not necessarily exhaustive or mutually exclusive. It also generalises poorly to other rule-spaces."
   ]
  },
  {
   "cell_type": "markdown",
   "id": "9fab7c50-ed05-482a-a086-60ed70b0ac0a",
   "metadata": {
    "editable": true,
    "slideshow": {
     "slide_type": ""
    },
    "tags": []
   },
   "source": [
    "##### Examples of Class 1\n",
    "Class 1: development of patterns tends towards vacuum - a stable uniform state \n",
    "\n",
    "e.g. rules 0 and 32.\n",
    "\n",
    "<!-- <center>\n",
    "<img src=\"images/Class_1.png\" width=\"300\">\n",
    "</center> -->\n",
    "\n",
    "![](images/Class_1.png)\n",
    "\n",
    "Fig from [Wolfram](https://www.wolframscience.com/nks/p231--four-classes-of-behavior/)"
   ]
  },
  {
   "cell_type": "code",
   "execution_count": 3,
   "id": "d5fb9971-f99a-4600-acca-c827ca3f014c",
   "metadata": {
    "editable": true,
    "slideshow": {
     "slide_type": ""
    },
    "tags": []
   },
   "outputs": [
    {
     "ename": "NameError",
     "evalue": "name 'random' is not defined",
     "output_type": "error",
     "traceback": [
      "\u001b[31m---------------------------------------------------------------------------\u001b[39m",
      "\u001b[31mNameError\u001b[39m                                 Traceback (most recent call last)",
      "\u001b[36mCell\u001b[39m\u001b[36m \u001b[39m\u001b[32mIn[3]\u001b[39m\u001b[32m, line 10\u001b[39m\n\u001b[32m      5\u001b[39m L = \u001b[32m100\u001b[39m \n\u001b[32m      7\u001b[39m \u001b[38;5;66;03m# initial_state = np.zeros(L, dtype=np.uint8) \u001b[39;00m\n\u001b[32m      8\u001b[39m \u001b[38;5;66;03m# initial_state[L//2] = 1\u001b[39;00m\n\u001b[32m---> \u001b[39m\u001b[32m10\u001b[39m initial_state = [\u001b[43mrandom\u001b[49m.randint(\u001b[32m0\u001b[39m, \u001b[32m1\u001b[39m) \u001b[38;5;28;01mfor\u001b[39;00m _ \u001b[38;5;129;01min\u001b[39;00m \u001b[38;5;28mrange\u001b[39m(L)]\n\u001b[32m     12\u001b[39m automaton = wolfram_ca(rule_number, steps, initial_state)\n\u001b[32m     13\u001b[39m plot_ca(automaton, rule_number)\n",
      "\u001b[31mNameError\u001b[39m: name 'random' is not defined"
     ]
    }
   ],
   "source": [
    "#e.g. rules 0, 32, 160 ...\n",
    "\n",
    "rule_number = 0\n",
    "steps = 100\n",
    "L = 100 \n",
    "\n",
    "# initial_state = np.zeros(L, dtype=np.uint8) \n",
    "# initial_state[L//2] = 1\n",
    "\n",
    "initial_state = [random.randint(0, 1) for _ in range(L)]\n",
    "\n",
    "automaton = wolfram_ca(rule_number, steps, initial_state)\n",
    "plot_ca(automaton, rule_number)"
   ]
  },
  {
   "cell_type": "code",
   "execution_count": null,
   "id": "3aa63567-b0df-42e4-86dc-3da79a62914b",
   "metadata": {
    "editable": true,
    "slideshow": {
     "slide_type": ""
    },
    "tags": []
   },
   "outputs": [],
   "source": [
    "import numpy as np\n",
    "import matplotlib.pyplot as plt\n",
    "%matplotlib inline\n",
    "\n",
    "import random\n",
    "def wolfram_ca(rule, num_steps, initial_state):\n",
    "    \"\"\"Generate a Wolfram cellular automaton.\n",
    "    \n",
    "    INPUTS:\n",
    "        rule (int): Rule number for the cellular automaton.\n",
    "        num_steps (int): Number of steps or generations for the automaton.\n",
    "        initial_state (ndarray): Initial state of the automaton as a 1D array.\n",
    "\n",
    "    OUTPUTS:\n",
    "        ndarray: Array representing the cellular automaton with shape (num_steps, num_cells).\n",
    "    \"\"\"\n",
    "    num_cells = len(initial_state)\n",
    "    automaton = np.zeros((num_steps, num_cells), dtype=np.uint8)\n",
    "    automaton[0] = initial_state\n",
    "\n",
    "    # Convert rule to binary representation and ensure it is represented as an 8-bit string\n",
    "    binary_rule = bin(rule)[2:].zfill(8)\n",
    "\n",
    "    # Apply rule to generate new states\n",
    "    for step in range(1, num_steps):\n",
    "        for i in range(num_cells):\n",
    "            # Determine the neighborhood states\n",
    "            left = automaton[step - 1, (i - 1) % num_cells] #here the modulo operator % ensures that the indices wrap around to the opposite end of the automaton if they exceed the range of valid indices. \n",
    "            center = automaton[step - 1, i]\n",
    "            right = automaton[step - 1, (i + 1) % num_cells]\n",
    "            # Convert neighborhood states to an integer between 0 and 7\n",
    "            neighborhood = 7 - (left << 2 | center << 1 | right)\n",
    "            # Apply the rule to determine the new state of the cell\n",
    "            automaton[step, i] = int(binary_rule[neighborhood])\n",
    "\n",
    "    return automaton\n",
    "\n",
    "def plot_ca(automaton, rule):\n",
    "    \"\"\"Plot the cellular automaton.\n",
    "    \n",
    "    INPUTS: \n",
    "        automaton (ndarray): Array representing the cellular automaton.\n",
    "\n",
    "    OUTPUTS: \n",
    "        None\n",
    "    \"\"\"\n",
    "    plt.figure(figsize=(6, 5))\n",
    "    plt.imshow(automaton, cmap='binary', aspect='auto')\n",
    "    plt.xticks([])\n",
    "    plt.yticks([])\n",
    "    plt.xlabel('Cell')\n",
    "    plt.ylabel('Step')\n",
    "    plt.title(f'Rule {rule}')\n",
    "    plt.show()\n"
   ]
  },
  {
   "cell_type": "markdown",
   "id": "48fbc5aa-a2b7-4fe1-bbe3-b48a347ac44c",
   "metadata": {
    "editable": true,
    "slideshow": {
     "slide_type": ""
    },
    "tags": []
   },
   "source": [
    "##### Examples of Class 2\n",
    "- Class 2: patterns tends toward simple stationary -- simple structures that either remain the same forever or repeat every few steps.\n",
    "\n",
    "e.g. rules 4 and 108\n",
    "\n",
    "<!-- <center>\n",
    "<img src=\"images/Class_2.png\" width=\"300\">\n",
    "</center> -->\n",
    "\n",
    "![](images/Class_2.png)\n",
    "\n",
    "Fig from [Wolfram](https://www.wolframscience.com/nks/p231--four-classes-of-behavior/)"
   ]
  },
  {
   "cell_type": "code",
   "execution_count": null,
   "id": "4c9fa3c7-6719-4077-8d68-eecdb5a5f4cb",
   "metadata": {
    "editable": true,
    "slideshow": {
     "slide_type": ""
    },
    "tags": []
   },
   "outputs": [],
   "source": [
    "#e.g. rules 4, 108, 218...\n",
    "\n",
    "rule_number = 108\n",
    "steps = 100\n",
    "L = 100 \n",
    "\n",
    "# initial_state = np.zeros(L, dtype=np.uint8) \n",
    "# initial_state[L//2] = 1\n",
    "\n",
    "initial_state = [random.randint(0, 1) for _ in range(L)]\n",
    "\n",
    "automaton = wolfram_ca(rule_number, steps, initial_state)\n",
    "plot_ca(automaton, rule_number)"
   ]
  },
  {
   "cell_type": "markdown",
   "id": "84735333-07aa-4267-9749-e42f30d8ee60",
   "metadata": {
    "editable": true,
    "slideshow": {
     "slide_type": ""
    },
    "tags": []
   },
   "source": [
    "##### Examples of Class 3\n",
    "- Class 3: *appear* to generate randomness via intricate nested repeats and periodic patterns \n",
    "\n",
    "e.g. rule 30. \n",
    "\n",
    "The key word here is 'appear' - remember this is a deterministic rule so it's not actually random and they are more like chaotic systems in this way. Real randomness does challenge determinism more seriously but it is nice, and perhaps surprising, to get apparent randomness from such simple deterministic computation \n",
    "\n",
    "<!-- <center>\n",
    "<img src=\"images/Class_3.png\" width=\"300\">\n",
    "</center> -->\n",
    "\n",
    "![](images/Class_3.png)\n",
    "\n",
    "Fig from [Wolfram](https://www.wolframscience.com/nks/p231--four-classes-of-behavior/)"
   ]
  },
  {
   "cell_type": "code",
   "execution_count": null,
   "id": "fd0ef828-b6b9-4552-981e-8521d5a9ef87",
   "metadata": {
    "editable": true,
    "slideshow": {
     "slide_type": ""
    },
    "tags": []
   },
   "outputs": [],
   "source": [
    "#e.g. rules 22, 30, 126, 150, 182...\n",
    "\n",
    "rule_number = 126\n",
    "steps = 200\n",
    "L = 200 \n",
    "\n",
    "# initial_state = np.zeros(L, dtype=np.uint8) \n",
    "# initial_state[L//2] = 1\n",
    "\n",
    "initial_state = [random.randint(0, 1) for _ in range(L)]\n",
    "\n",
    "automaton = wolfram_ca(rule_number, steps, initial_state)\n",
    "plot_ca(automaton, rule_number)"
   ]
  },
  {
   "cell_type": "markdown",
   "id": "c48d3b6d-6298-43be-8613-1c075c68a78f",
   "metadata": {
    "editable": true,
    "slideshow": {
     "slide_type": ""
    },
    "tags": []
   },
   "source": [
    "##### Examples of Class 4\n",
    "- Class 4: sits at the border of chaos and stability, order and randomness. \n",
    "\n",
    "e.g. rule 110, Game of Life  \n",
    "\n",
    "Creates complicated local and persistent structures that appear as disturbances to the regular background. It allows discussion of objects (spaceships) moving and proposals of information being passed with simple computations being carried out when objects collide. Rule 110 has been proved to be Turing-complete, or 'Universal', i.e. able to simulate any computer program and is arguably the simplest known Turing complete system.\n",
    "\n",
    "<!-- <center>\n",
    "<img src=\"images/Class_4.png\" width=\"300\">\n",
    "</center> -->\n",
    "\n",
    "![](images/Class_4.png)\n",
    "\n",
    "Fig from [Wolfram](https://www.wolframscience.com/nks/p231--four-classes-of-behavior/)"
   ]
  },
  {
   "cell_type": "code",
   "execution_count": null,
   "id": "0a515825-1dc3-4a15-a865-2c3230881baa",
   "metadata": {
    "editable": true,
    "slideshow": {
     "slide_type": ""
    },
    "tags": []
   },
   "outputs": [],
   "source": [
    "#e.g. rule 110...\n",
    "\n",
    "rule_number = 110\n",
    "steps = 500\n",
    "L = 1000 \n",
    "\n",
    "# initial_state = np.zeros(L, dtype=np.uint8) \n",
    "# initial_state[L//2] = 1\n",
    "\n",
    "initial_state = [random.randint(0, 1) for _ in range(L)]\n",
    "\n",
    "automaton = wolfram_ca(rule_number, steps, initial_state)\n",
    "plot_ca(automaton, rule_number)"
   ]
  },
  {
   "cell_type": "markdown",
   "id": "c4990061-5320-457a-91fd-ae1131e28560",
   "metadata": {
    "editable": true,
    "slideshow": {
     "slide_type": "subslide"
    },
    "tags": [
     "slides"
    ]
   },
   "source": [
    "![](images/Classes.png)\n",
    "\n",
    "Fig from [Wolfram](https://www.wolframscience.com/nks/p231--four-classes-of-behavior/)"
   ]
  },
  {
   "cell_type": "markdown",
   "id": "a643fbc8-c2d3-4ff3-af94-00873a7f1c82",
   "metadata": {
    "editable": true,
    "slideshow": {
     "slide_type": ""
    },
    "tags": []
   },
   "source": [
    "### Cellular automata as computers\n",
    "\n",
    "GoL and Wolfram's Rule 110 support universal computation (moving particles in space and time transfer information from different spatial locations, stored in more regular structures and processed via collisions. Fine in principle, near-impossible in reality because it is slow  and hard)\n",
    "\n",
    "<!-- Some Class 3 CA may also support -->\n",
    "\n",
    "This behaviour mimics a logic gate, that is, an interaction which produces a 1 or 0, which is a critical aspect of the way our computers process information. Similarly, NAND gates can also be generated, which both computers and neurons use to trigger a signal only when a certain threshold is achieved\n",
    "\n",
    "If you don't view CA as computers themselves then perhaps you see them as logical universes that computers can be embedded in...?"
   ]
  },
  {
   "cell_type": "markdown",
   "id": "f637dad9-ed6a-4aac-bb13-958c7b216f43",
   "metadata": {
    "editable": true,
    "slideshow": {
     "slide_type": ""
    },
    "tags": []
   },
   "source": [
    "##### An aside: Turing-complete systems \n",
    "Computation is simply information processing (input, stored, transfered, combined or processed, output) and an automata is memory and processor at the same time\n",
    "\n",
    "Universal computation (aka Turing machines) is a computer that can be programmed to compute any computable function. Only a small set of logical operation is needed to support universal computation \n",
    "\n",
    "They are 'Turing complete', in that eventually all possible states can be realised using certain rules and, therefore, any problem that is computable can be solved (assuming no limitations on time or space/memory)\n",
    "\n",
    "Requirements for Turing-completeness:\n",
    "- Conditional Branching: ability to make decisions based on conditions (e.g., \"if-then-else\" statements)\n",
    "- Repetition/Loops: ability to perform operations repeatedly (e.g., \"for\" or \"while\" loops)\n",
    "- Memory Management: ability to read from and write to a memory store, such as variables or an equivalent data structure."
   ]
  },
  {
   "cell_type": "markdown",
   "id": "447583c0-58fd-484a-8ff9-77e284a4a9cb",
   "metadata": {
    "editable": true,
    "slideshow": {
     "slide_type": ""
    },
    "tags": []
   },
   "source": [
    "# Understanding the dynamics"
   ]
  },
  {
   "cell_type": "markdown",
   "id": "fc8b2074-95a2-45e1-bbd0-b4dd5b407988",
   "metadata": {
    "editable": true,
    "slideshow": {
     "slide_type": ""
    },
    "tags": []
   },
   "source": [
    "## State-transition diagrams\n",
    "\n",
    "We can (try to) visualise the dynamics with a *state-transition diagram*, which unsurprisingly consists of states and transitions between states (and possibly other things like events but not in our context)\n",
    "\n",
    "By enumerating all the phase-space configurations and transitions as the configurations evolve, we obtain a list of connections between the discrete states, which forms a network\n",
    "\n",
    "The dynamics of the system can then be analysed e.g. the number of basins of attraction, their sizes, and the properties of the attractors can be explored, topology of the transition network etc...\n",
    "\n",
    "<!-- If the long-term behaviour of the CA 'settles' to a steady state then we could list the possible configurations and present them along with a histogram showing their likely appearance. We could construct this histogram using many Monte Carlo simulations. -->\n",
    "\n",
    "Note: The state-transition functions refer to how the *local* configuration/state updates. A state-transition diagram refers to how the *global* configuration/state updates."
   ]
  },
  {
   "cell_type": "code",
   "execution_count": 4,
   "id": "1af4bd6a-1ab0-468c-af4d-3194b4db330b",
   "metadata": {
    "editable": true,
    "slideshow": {
     "slide_type": ""
    },
    "tags": []
   },
   "outputs": [
    {
     "ename": "NameError",
     "evalue": "name 'random' is not defined",
     "output_type": "error",
     "traceback": [
      "\u001b[31m---------------------------------------------------------------------------\u001b[39m",
      "\u001b[31mNameError\u001b[39m                                 Traceback (most recent call last)",
      "\u001b[36mCell\u001b[39m\u001b[36m \u001b[39m\u001b[32mIn[4]\u001b[39m\u001b[32m, line 7\u001b[39m\n\u001b[32m      3\u001b[39m L = \u001b[32m3\u001b[39m\n\u001b[32m      4\u001b[39m \u001b[38;5;66;03m# initial_state = np.zeros(L, dtype=np.uint8) \u001b[39;00m\n\u001b[32m      5\u001b[39m \u001b[38;5;66;03m# initial_state[L//2] = 1\u001b[39;00m\n\u001b[32m----> \u001b[39m\u001b[32m7\u001b[39m initial_state = [\u001b[43mrandom\u001b[49m.randint(\u001b[32m0\u001b[39m, \u001b[32m1\u001b[39m) \u001b[38;5;28;01mfor\u001b[39;00m _ \u001b[38;5;129;01min\u001b[39;00m \u001b[38;5;28mrange\u001b[39m(L)]\n\u001b[32m      9\u001b[39m automaton = wolfram_ca(rule_number, steps, initial_state)\n\u001b[32m     10\u001b[39m plot_ca(automaton, rule_number)\n",
      "\u001b[31mNameError\u001b[39m: name 'random' is not defined"
     ]
    }
   ],
   "source": [
    "rule_number = 110\n",
    "steps = 20\n",
    "L = 3\n",
    "# initial_state = np.zeros(L, dtype=np.uint8) \n",
    "# initial_state[L//2] = 1\n",
    "\n",
    "initial_state = [random.randint(0, 1) for _ in range(L)]\n",
    "\n",
    "automaton = wolfram_ca(rule_number, steps, initial_state)\n",
    "plot_ca(automaton, rule_number)"
   ]
  },
  {
   "cell_type": "markdown",
   "id": "8f15f06f-29e6-4535-98d7-dacb48e115de",
   "metadata": {
    "editable": true,
    "slideshow": {
     "slide_type": ""
    },
    "tags": []
   },
   "source": [
    "### Wolfram: State-transition diagrams\n",
    "Rule 110:\n",
    "![](images/Rule110.png)\n",
    "\n",
    "$L=3$:\n",
    "\n",
    "![](images/Rule110_state_transition_L3.png)\n",
    "\n",
    "We can do this if the size of the global configuration isn't too large (where by 'too large', I mean not very large at all!)\n",
    "\n",
    "$L=5$:\n",
    "\n",
    "![](images/Rule110_state_transition_L5.png)\n",
    "\n",
    "As the volume of cells gets bigger these diagrams become increasingly complex and direct enumeration becomes impractical.\n",
    "\n",
    "$L=12$:\n",
    "\n",
    "![](images/Rule110_state_transition_L12.png)\n",
    "\n",
    "[Figs from Wolfram](https://demonstrations.wolfram.com/CellularAutomatonStateTransitionDiagrams/)"
   ]
  },
  {
   "cell_type": "code",
   "execution_count": null,
   "id": "4fd753e5-76e9-4c09-b7db-a84be93e1b39",
   "metadata": {
    "editable": true,
    "slideshow": {
     "slide_type": ""
    },
    "tags": []
   },
   "outputs": [],
   "source": [
    "rule_number = 11\n",
    "steps = 10\n",
    "L = 3\n",
    "# initial_state = np.zeros(L, dtype=np.uint8) \n",
    "# initial_state = np.ones(L, dtype=np.uint8) \n",
    "# initial_state[L//2] = 1 #central cell assignment\n",
    "\n",
    "initial_state = [random.randint(0, 1) for _ in range(L)]\n",
    "\n",
    "automaton = wolfram_ca(rule_number, steps, initial_state)\n",
    "plot_ca(automaton, rule_number)"
   ]
  },
  {
   "cell_type": "code",
   "execution_count": null,
   "id": "242e53fe-b912-4a93-b816-f626affd8c86",
   "metadata": {
    "editable": true,
    "slideshow": {
     "slide_type": ""
    },
    "tags": []
   },
   "outputs": [],
   "source": [
    "rule_number = 11\n",
    "steps = 50\n",
    "L = 12\n",
    "# initial_state = np.zeros(L, dtype=np.uint8) \n",
    "# initial_state[L//2] = 1\n",
    "\n",
    "initial_state = [random.randint(0, 1) for _ in range(L)]\n",
    "\n",
    "automaton = wolfram_ca(rule_number, steps, initial_state)\n",
    "plt1 = plot_ca(automaton, rule_number)"
   ]
  },
  {
   "cell_type": "code",
   "execution_count": null,
   "id": "85302653-e9f2-454a-81c1-f47cba3dabfd",
   "metadata": {
    "editable": true,
    "slideshow": {
     "slide_type": ""
    },
    "tags": []
   },
   "outputs": [],
   "source": [
    "rule_number = 110\n",
    "steps = 100\n",
    "L = 12\n",
    "# initial_state = np.zeros(L, dtype=np.uint8) \n",
    "# initial_state[L//2] = 1\n",
    "\n",
    "initial_state = [random.randint(0, 1) for _ in range(L)]\n",
    "\n",
    "automaton = wolfram_ca(rule_number, steps, initial_state)\n",
    "plot_ca(automaton, rule_number)"
   ]
  },
  {
   "cell_type": "markdown",
   "id": "12df2958-9ff7-4d1f-8017-c3d1847e8984",
   "metadata": {
    "editable": true,
    "slideshow": {
     "slide_type": ""
    },
    "tags": []
   },
   "source": [
    "## Reversability\n",
    "State-transition diagrams map a configuration, $X$, to its **successor**, $Y$.\n",
    "\n",
    "$X$ is the **predecessor** of $Y$.\n",
    "\n",
    "A configuration may have zero, one, or more predecessors, but will always have exactly one successor, i.e. known future, potentially unknown past.\n",
    "\n",
    "If every configuration has a *unique predecessor* then the CA is **reversible**. \n",
    "\n",
    "Hence reversible CA have bijective state-transition functions.\n",
    "\n",
    "Recall:\n",
    "\n",
    "![](images/Bijection.png)\n",
    "\n",
    "- **Failure of injectivity**: information is lost\n",
    "- **Failure of surjectivity**: some states are unreachable\n",
    "\n",
    "Surjectivity and injectivity are independent in general — a CA can fail one, both, or neither.\n"
   ]
  },
  {
   "cell_type": "markdown",
   "id": "c4aa8c50-fb05-448d-819d-c7b01e6dc1ef",
   "metadata": {
    "editable": true,
    "slideshow": {
     "slide_type": ""
    },
    "tags": []
   },
   "source": [
    "### Wolfram\n",
    "\n",
    "Trivial rules are typically reversible. There are not many of these:\n",
    "- cells remain unchanged, Rule 204\n",
    "- cells flip state, Rule 51\n",
    "- cells copy the state of a neighbouring cell, e.g. Rule 170\n",
    "- cell's next state is the XOR (exclusive OR) of its two neighbors, e.g. Rule 90, Rule 150\n",
    "\n",
    "There are no 'nontrivial' reversible elementary cellular automata\n",
    "\n",
    "Rule 254 is an example that is *not* reversible\n",
    " \n",
    "<!-- There are many examples of systems in nature that seem to organise themselves a little like this conflicting with the known reversibility of underlying laws of physics-->\n"
   ]
  },
  {
   "cell_type": "markdown",
   "id": "dc6f07ae-6bf6-41e7-adc1-3a63b1cb87c6",
   "metadata": {
    "editable": true,
    "slideshow": {
     "slide_type": ""
    },
    "tags": []
   },
   "source": [
    "### Game of Life\n",
    "Not reversible\n",
    "\n",
    "Consider for instance, that:\n",
    "- it has many patterns that die out completely (many predecessors)\n",
    "- Garden of Eden patterns have been discovered\n",
    "- the rules of the Game of Life involve a loss of information:\n",
    "\n",
    "Computationally universal CA, such as rule 110 and Game of Life, are often not reversible"
   ]
  },
  {
   "cell_type": "markdown",
   "id": "15ab5850-a40b-418f-b486-5685573c90e0",
   "metadata": {
    "editable": true,
    "slideshow": {
     "slide_type": ""
    },
    "tags": []
   },
   "source": [
    "## Garden of Eden states\n",
    "\n",
    "An *'orphan'* is a pattern with no predecessor (no preimage under the global map of the cellular automata).\n",
    "\n",
    "A *Garden of Eden* is a configuration that contains an orphan (perhaps the initial configuration but they cannot arise in any other way)\n",
    "\n",
    "That is:\n",
    "\n",
    "$$\n",
    "\\text{There exists a state } c \\text{ such that no } c' \\text{ maps to it: } F(c') \\ne c \\text{ for all } c'\n",
    "$$\n",
    "\n",
    "This means the global function is **not surjective**: *not all outputs are reachable* from some input.\n",
    "\n",
    "\n",
    "| Property         | Description                                        | Related to GoE?                            |\n",
    "| ---------------- | -------------------------------------------------- | ------------------------------------------ |\n",
    "| **Injectivity**  | No two distinct configs map to the same next state | ❌ No (GoE ≠ injectivity failure)           |\n",
    "| **Surjectivity** | Every config has a preimage                        | ✅ Yes (GoE states mean surjectivity fails) |\n",
    "\n",
    "- 1-dimension: they can be found by an efficient algorithm\n",
    "- higher dimensions: it's an undecidable problem \n",
    "\n",
    "For reversible automata, no Garden of Eden states exist, while non-reversible automata might have such states."
   ]
  },
  {
   "cell_type": "markdown",
   "id": "ee2cb8b8-aec9-4956-acf7-1b81d3ad346b",
   "metadata": {
    "editable": true,
    "slideshow": {
     "slide_type": ""
    },
    "tags": []
   },
   "source": [
    "### Wolfram\n",
    "\n",
    "Garden of Eden states are the 'leaves' in the state-transition diagrams\n",
    "\n",
    "e.g. Rule 110 is irreversible, with many Garden of Eden states. Rule 240 is logically reversible.\n",
    "\n",
    "<center>\n",
    "<img src=\"ECA_IrreversibleReversible.png\" width=\"500\">\n",
    "</center>\n",
    "\n",
    "![](images/Rule110_Rule240_L3.png)\n",
    "\n",
    "This is true for larger $L$ too:\n",
    "\n",
    "![](images/Rule110_Rule240_L12.png)\n",
    "\n",
    "To test global reversibility for arbitrary $L$, we can't rely on exhaustively enumerating the transition graph once $L$ gets large. Instead, we use algebraic or structural properties of the rule:\n",
    "\n",
    "For Rule 240, the update rule is:\n",
    "\n",
    "$$\n",
    "s_i(t+1)=s_{i-1}(t)\n",
    "$$\n",
    " \n",
    "It’s just a right shift, hence the diagonal stripes. \n",
    "\n",
    "So each state has a unique predecessor (a left shift), regardless of the boundary conditions or size $L$. Hence, Rule 240 is logically reversible for all $L$.\n",
    "\n",
    "For Rule 110, things are more complicated."
   ]
  },
  {
   "cell_type": "markdown",
   "id": "a3c37991-63d8-4f09-b850-c8d533b61a10",
   "metadata": {
    "editable": true,
    "slideshow": {
     "slide_type": ""
    },
    "tags": []
   },
   "source": [
    "### Game of Life\n",
    "\n",
    "An example of a Garden of Eden (from R. Banks in 1971):\n",
    "<center>\n",
    "<img src=\"Garden_of_Eden_GoL.png\" width=\"500\">\n",
    "</center>"
   ]
  },
  {
   "cell_type": "markdown",
   "id": "3fb03fe7-42a6-4742-9127-46ccdd9a1d42",
   "metadata": {
    "editable": true,
    "slideshow": {
     "slide_type": ""
    },
    "tags": []
   },
   "source": [
    "Reversible CAs thus bear some similarity to Newtonian mechanics, which is microscopically reversible, albeit with discrete time-steps, rather than continuous behaviour governed by differential equations. \n",
    "\n",
    "Life on the other hand is frequently irreversible on account of systems being dissipative (arrow of time is essential for life)\n",
    "\n",
    "In general it is undecidable (not just intractable) whether a CA is reversible i.e. no single algorithm that can take any configuration as input is guaranteed to terminate and find the correct answer of whether it is a Garden of Eden state.\n",
    "<!-- i.e. truly undecidable in the formal sense of computability theory (a theoretical impossibility, not dependent on practical limitations like time or computational power) -->\n",
    "<!-- This is akin to the Halting Problem in Turing machines. The Halting Problem is undecidable because there is no general algorithm that can determine whether any arbitrary program will halt or run forever. Similarly, there is no general algorithm that can determine if any arbitrary configuration in the Game of Life is a Garden of Eden state. -->\n",
    "<!-- The undecidability of this problem has been established through mathematical proofs based on the inherent limitations of computation -->"
   ]
  },
  {
   "cell_type": "markdown",
   "id": "cff953e9-1565-43b9-a324-c1f5b0bc669e",
   "metadata": {
    "editable": true,
    "slideshow": {
     "slide_type": ""
    },
    "tags": []
   },
   "source": [
    "# Mean field approximation \n",
    "\n",
    "When there are too many moving parts it's important to think critically about the distinction between “wholes” and “parts”\n",
    " \n",
    "Reformulating the dynamics in terms of the “average state” can reduce the dimensionality \n",
    "\n",
    "We then aim to understand how a cell interacts with this average state and how the average state itself changes over time, providing a macroscopic view of the behaviour\n",
    "\n",
    "This is a *mean-field approximation*\n",
    "\n",
    "It disregards any spatial relationships and treats every component as uniformly represented by a global average with the dynamics occurring probabilistically. \n"
   ]
  },
  {
   "cell_type": "markdown",
   "id": "f6f6346f-5f42-4f78-9452-5794c4ab2c3a",
   "metadata": {
    "editable": true,
    "slideshow": {
     "slide_type": ""
    },
    "tags": []
   },
   "source": [
    "<center>\n",
    "<img src=\"GoL_MeanField.png\" width=\"700\">\n",
    "</center>\n",
    "\n",
    "The system’s state at iteration $n$, is approximated just by one variable: the density of 1s, $\\rho(n)$\n",
    "\n",
    "We now aim to describe the dynamics with a difference equation that can then be analysed with, for example, a cobweb diagram as per MATH3021 (see Sayama for details if you're interested)\n"
   ]
  },
  {
   "cell_type": "markdown",
   "id": "dca21715-2ad6-4081-9dca-a6cd42ac968f",
   "metadata": {
    "editable": true,
    "slideshow": {
     "slide_type": ""
    },
    "tags": []
   },
   "source": [
    "It performs well in systems with complete or random connections among their components\n",
    "\n",
    "Used for all sorts of large-scale dynamical systems. \n",
    "\n",
    "Not a bad first step but you must take the results with a grain of salt when it comes to applying it to complex systems like CA...\n",
    "\n",
    "Because it's ineffective when dealing with local or non-homogenous interactions, or systems that exhibit non-homogeneous patterns of states (i.e. everything we characteristic of complex systems!) "
   ]
  },
  {
   "cell_type": "markdown",
   "id": "8307784e-5171-45a1-add9-2cffdd82a470",
   "metadata": {
    "editable": true,
    "slideshow": {
     "slide_type": ""
    },
    "tags": []
   },
   "source": [
    "## Is the universe a simulation?\n",
    "\n",
    "Natural systems can be mimicked in the artificial programming universes of cellular automata, which means it’s very likely they hold some secrets to the nature of life itself\n",
    "\n",
    "(But we must be careful *'similar pattern does not imply similar process'* - Prof. Sally Thompson)\n",
    "\n",
    "Could the universe itself, at its deepest level, operate on the basis of similarly discrete digital rules and cascading green code?"
   ]
  },
  {
   "cell_type": "markdown",
   "id": "271bf2e4-9c2e-4793-ba89-9edb4f0bf786",
   "metadata": {
    "editable": true,
    "slideshow": {
     "slide_type": ""
    },
    "tags": []
   },
   "source": [
    "\n",
    "<center>\n",
    "<img src=\"MidJ_LivingInASimulation.png\" width=\"400\">\n",
    "</center>\n",
    "<!-- Such a scenario was speculated in the 1960s by Ed Fredkin, and later dubbed “It from Bit” by the accomplished physicist John Wheeler.  -->\n",
    "\n",
    "The 'simulation hypothesis' has remained the focus of much debate surrounding the significance of cellular automata (it's a rabbit hole if you have time you wish to kill)\n",
    "\n",
    "We probably haven't even scratched the surface of what CA can do"
   ]
  },
  {
   "cell_type": "markdown",
   "id": "99fb18d0",
   "metadata": {
    "editable": true,
    "heading_collapsed": true,
    "slideshow": {
     "slide_type": "skip"
    },
    "tags": []
   },
   "source": [
    "# Unused material"
   ]
  },
  {
   "cell_type": "code",
   "execution_count": null,
   "id": "9fb3b21c-07d8-4edd-bb91-9e26571d5a68",
   "metadata": {
    "editable": true,
    "slideshow": {
     "slide_type": ""
    },
    "tags": []
   },
   "outputs": [],
   "source": [
    "rule_number = 90\n",
    "steps = 6\n",
    "L = 11\n",
    "\n",
    "initial_state = np.zeros(L, dtype=np.uint8) \n",
    "initial_state[L//2] = 1\n",
    "\n",
    "# initial_state = [random.randint(0, 1) for _ in range(L)]\n",
    "\n",
    "automaton = wolfram_ca(rule_number, steps, initial_state)\n",
    "\n",
    "# Create and configure the plot\n",
    "plt.figure(figsize=(10, 6))\n",
    "plt.imshow(automaton, cmap='Greys', aspect='auto')\n",
    "plt.title(f'Wolfram Rule {rule_number}')\n",
    "plt.xlabel('Time Step')\n",
    "plt.ylabel('Cell')\n",
    "\n",
    "# Save the plot as an image\n",
    "plt.savefig(f'rule_{rule_number}_plot.png')\n",
    "\n",
    "# Display the plot\n",
    "plt.show()"
   ]
  },
  {
   "cell_type": "markdown",
   "id": "c7ed7a75",
   "metadata": {
    "hidden": true,
    "slideshow": {
     "slide_type": "skip"
    }
   },
   "source": [
    "\n",
    "**Example CA---majority rule**\n",
    "\n",
    "Voting \n",
    "\n",
    "The state of a cell can be a $0$ or a $1$.\n",
    "\n",
    "The rule: A cell changes its state to the local majority of its neighbourhood\n",
    "\n",
    "This CA model self-organises into separated patches of ones or zeros depending on the initial conditions.\n"
   ]
  },
  {
   "cell_type": "markdown",
   "id": "5d07bfa1",
   "metadata": {
    "hidden": true,
    "slideshow": {
     "slide_type": "skip"
    }
   },
   "source": [
    "Forrest fire: https://www.complexity-explorables.org/explorables/critically-inflammatory/\n",
    "        \n",
    "(epidemic spread)\n",
    "\n",
    "contact process\n",
    "\n",
    "Typically: fire seeded in single tree, if your neighbour is on fire you will catch fire, you will be completely charred in a single time step\n",
    "\n",
    "state={tree, burning, charred/empty}=$\\{0,1,2\\}$ $\n",
    "$0\\rightarrow 1 \\rightarrow 2 \\rightarrow 0$\n",
    "\n",
    "Eventual static state\n",
    "\n",
    "What's a good metric? Do we measure static final state? Total area burned? What does it depend on? (density of trees p). Or perhaps the time it takes until the fire stops spreading (again a function of p)\n",
    "\n"
   ]
  },
  {
   "cell_type": "markdown",
   "id": "444d726c",
   "metadata": {
    "slideshow": {
     "slide_type": "skip"
    }
   },
   "source": [
    "# How do previous week's topics relate?"
   ]
  },
  {
   "cell_type": "markdown",
   "id": "962bc7b7",
   "metadata": {
    "slideshow": {
     "slide_type": "skip"
    }
   },
   "source": [
    "**Previous topics:**\n",
    "- Why is this a complex system?\n",
    "- What are the modelling choices that have been made?\n",
    "- We can characterise the pattern of the CA model using dimension estimates.\n",
    "- Are any of the patterns fractals?\n",
    "- Does the 'complexity' of the pattern support Wolfram's categorisation? (this relates to information theory, which we may not have covered yet depending on how I decide to deliver things but you can return to this idea later if you have no idea what I'm talking about yet)\n",
    "- Sierpinski triangle we saw for fractals can be produced with many patterns\n",
    "- The Wolfram taxonomy can be applied to all the patterns we saw in reaction-diffusion systems"
   ]
  },
  {
   "cell_type": "markdown",
   "id": "b18021e3",
   "metadata": {
    "slideshow": {
     "slide_type": "skip"
    }
   },
   "source": [
    "**Upcoming topics:**\n",
    "- By applying a mean field approximation, the system’s state can be approximated just by one variable: the density"
   ]
  },
  {
   "cell_type": "markdown",
   "id": "614c7b35",
   "metadata": {
    "slideshow": {
     "slide_type": "skip"
    }
   },
   "source": [
    "# For inclusion in 2024\n",
    "https://theconversation.com/do-we-live-in-a-computer-simulation-like-in-the-matrix-my-proposed-new-law-of-physics-backs-up-the-idea-215552"
   ]
  }
 ],
 "metadata": {
  "@webio": {
   "lastCommId": null,
   "lastKernelId": null
  },
  "celltoolbar": "Slideshow",
  "kernelspec": {
   "display_name": "Python 3 (ipykernel)",
   "language": "python",
   "name": "python3"
  },
  "language_info": {
   "codemirror_mode": {
    "name": "ipython",
    "version": 3
   },
   "file_extension": ".py",
   "mimetype": "text/x-python",
   "name": "python",
   "nbconvert_exporter": "python",
   "pygments_lexer": "ipython3",
   "version": "3.13.4"
  },
  "toc": {
   "base_numbering": 1,
   "nav_menu": {},
   "number_sections": true,
   "sideBar": true,
   "skip_h1_title": false,
   "title_cell": "Table of Contents",
   "title_sidebar": "Contents",
   "toc_cell": false,
   "toc_position": {},
   "toc_section_display": true,
   "toc_window_display": false
  }
 },
 "nbformat": 4,
 "nbformat_minor": 5
}

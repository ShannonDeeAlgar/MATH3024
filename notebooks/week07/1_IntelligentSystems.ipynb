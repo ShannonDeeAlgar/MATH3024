{
 "cells": [
  {
   "cell_type": "markdown",
   "id": "305e7889",
   "metadata": {
    "slideshow": {
     "slide_type": "slide"
    }
   },
   "source": [
    "# Intelligent systems\n",
    "**Intelligence:** the ability to acquire and *apply* knowledge and skills, i.e. learn from experience and to adapt to, shape, and select environments\n",
    "\n",
    "Intelligent systems perceive and respond to the world around them. They can be found in both natural (e.g., the brain, ant colonies) and artificial (e.g., AI, robots) contexts\n",
    "\n",
    "I actually can't think of any 'intelligent non-system' - can you?"
   ]
  },
  {
   "cell_type": "markdown",
   "id": "3322f266",
   "metadata": {
    "slideshow": {
     "slide_type": "subslide"
    }
   },
   "source": [
    "## A scientific schism\n",
    "\n",
    "![](images/Schism.png)\n",
    "\n",
    "We have spent our time thus far in the Complexity Science space\n",
    "\n",
    "**Complexity Science:** is about simple predictive descriptions of the complex.\n",
    "- seeks insight \n",
    "- Cybernetics (1940s-1960s): Introduction of feedback loops and control systems (Norbert Wiener). Early work on understanding how systems can self-regulate and adapt\n",
    "- Complexity Science (1970s onwards): Recognition of how intelligent behaviours can emerge from simple rules within complex systems (e.g., cellular automata, chaos theory)\n",
    "- provides a theoretical framework to understand the emergent properties and dynamics of intelligent systems\n",
    "\n",
    "Intelligent systems sit at the intersection of both these approaches to working with Complex Systems\n",
    "\n",
    "If you're exploring how intelligence arises from complex interactions (like in biological or social systems), you might position intelligent systems more under Complexity Science. \n"
   ]
  },
  {
   "cell_type": "markdown",
   "id": "65ff3029",
   "metadata": {
    "slideshow": {
     "slide_type": "subslide"
    }
   },
   "source": [
    "The other side of the coin should be a separate unit(s!). We will cover some basics very briefly now\n",
    "\n",
    "**Machine Learning + AI:** Takes all that complexity in and encodes it in big models\n",
    "- seek predictive power\n",
    "- Artificial Intelligence (1950s onwards): Alan Turing’s concept of machine intelligence; birth of AI as a field\n",
    "- Modern AI and Robotics (2000s onwards): Growth of machine learning, deep learning, and their applications in real-world intelligent systems. Founders of AI (Marvin Minsky & John McCarthy) developed early AI systems and frameworks\n",
    "- provide the practical methodologies to build and implement these systems\n",
    "- If your focus is on developing algorithms and models for intelligent behavior in machines, it would fall more under AI and Machine Learning."
   ]
  },
  {
   "cell_type": "markdown",
   "id": "18998055",
   "metadata": {
    "slideshow": {
     "slide_type": "slide"
    }
   },
   "source": [
    "## Artificial intelligence (AI)\n",
    "\n",
    "AI is often considered to be a machine's ability to perform a task that would have previously required 'human intelligence' \n",
    "\n",
    "But successful AI is redefining what this means!\n",
    "\n",
    "e.g. chess was previously thought to be a pinnacle of human intelligence\n",
    "\n",
    "In 1996 Grandmaster Garry Kasparov beat IBM's DeepBlue computer in a 7 match series (4-2). In 1997 he lost the rematch (3.5-2.5), playing uncharacteristically poorly\n",
    "\n",
    "![](images/DeepBlue.png)\n",
    "\n",
    "Image from [here](https://theworld.org/stories/2018-01-05/garry-kasparov-and-game-artificial-intelligence)"
   ]
  },
  {
   "cell_type": "markdown",
   "id": "4a07fb89",
   "metadata": {
    "slideshow": {
     "slide_type": "subslide"
    }
   },
   "source": [
    "\n",
    "DeepBlue was designed specifically to beat Kasparov and he cried foul\n",
    "\n",
    "The Mechanical Turk: an elaborate hoax/fraudulent chess-playing machine constructed in 1770\n",
    "\n",
    "![](images/MechanicalTurk.jpg)\n",
    "\n",
    "\n",
    "The defeat was touted as a sign that artificial intelligence was catching up to human \n",
    "intelligence\n",
    "\n",
    "In 2015/2016 AlphaGo surpassed the top-ranked Go players\n",
    "\n",
    "DeepBlue mainly relied on brute computational force to evaluate millions of positions, AlphaGo also relied on neural networks and reinforcement learning."
   ]
  },
  {
   "cell_type": "markdown",
   "id": "8820788a",
   "metadata": {
    "slideshow": {
     "slide_type": "subslide"
    }
   },
   "source": [
    "## Defining AI\n",
    "Hard to define\n",
    "\n",
    "An umbrella term for *'an anarchy of methods'* (An Anarchy of Methods: Current Trends in How Intelligence Is Abstracted in AI, 10.1109/MIS.2014.92 [2014], Lehman et al.)\n",
    "\n",
    "\n",
    "\n",
    "Simultaneously described as “the new electricity” (Andrew Ng, 2017), poised to revolutionise human life and benefit society and “our biggest existential threat” (Elon Musk, 2014)\n",
    "\n",
    "<!-- Good AI must be explainable, fair and transparent. -->"
   ]
  },
  {
   "cell_type": "markdown",
   "id": "29f05cf9",
   "metadata": {
    "slideshow": {
     "slide_type": "subslide"
    }
   },
   "source": [
    "## History\n",
    "Th (single-layer) perceptron (great grandparent of neural network) invented by McCulloch & Pitts, 1943\n",
    "\n",
    "<center>\n",
    "<img src=\"Perceptron.png\" width=\"320\"/>\n",
    "</center>\n",
    "\n",
    "![](images/Perceptron.png)\n",
    "\n",
    "By Mat the w at English Wikipedia, CC BY-SA 3.0, https://commons.wikimedia.org/w/index.php?curid=23766733\n",
    "\n",
    "<!-- The activation function, $f$, is the Heaviside function -->\n",
    "\n",
    "\n",
    "Psychologist, Frank Rosenblatt first implemented it in 1958. \n",
    "\n",
    "Linear classifier, the simplest feed-forward neural network (works if you can separate data with line). But they can't learn XOR function\n",
    "\n",
    "It took many years to realise that multi-layer perceptrons had far greater processing power"
   ]
  },
  {
   "cell_type": "markdown",
   "id": "f35f34cd",
   "metadata": {
    "slideshow": {
     "slide_type": "subslide"
    }
   },
   "source": [
    "Since then the predictions (and sometimes hyperbole) are generally not being realised:\n",
    "\n",
    ">On the perceptron: *'The embryo of an electronic computer that [the Navy] expects will be able to walk, talk, see, write, reproduce itself and be conscious of its existence.'* - https://doi.org/10.1177%2F030631296026003005\n",
    "\n",
    ">*'I confidently expect that within a matter of 10 or 15 years, something will emerge from the laboratory, which is not too far from the robot of science fiction fame'*- Claude Shannon, 1961\n",
    "\n",
    ">*'Machines will be capable, within twenty years, of doing any work that a (hu)man[sic] can do'* - Nobel Laureat Herbert Simon, 1965\n",
    "\n",
    ">*'Within a generation... the problem of creating 'artificial intelligence; will be substantially solved'* - Founder of MIT Lab Marvin Minsky, 1967"
   ]
  },
  {
   "cell_type": "markdown",
   "id": "528c222f",
   "metadata": {
    "slideshow": {
     "slide_type": "subslide"
    }
   },
   "source": [
    "### Types of AI technology\n",
    "(these terms are often used interchangeably)\n",
    "\n",
    "**Machine learning**\n",
    "- a very large part of AI: learning from data (e.g. neural networks, decision trees, support vector machines, k-nearest neighbours,...)\n",
    "\n",
    "**Neural networks**\n",
    "- a large part of machine learning: inspired by visual system in the brain (very loosely). Artificial neurons organised into layers (input, hidden layers, output). Layers of neurons separate vision into features to build simple shapes, up to more and more complex shapes. They require very careful design. Can be shallow (with only a few hidden layers) or deep (many hidden layers)\n",
    "\n",
    "**Deep (many layers) learning**\n",
    "- a very large part of neural networks. There are now models much more closely aligned with actual brain architecture as well but deep learning is still dominant. "
   ]
  },
  {
   "cell_type": "markdown",
   "id": "970f32ca",
   "metadata": {
    "slideshow": {
     "slide_type": "subslide"
    }
   },
   "source": [
    "### Categories of AI\n",
    "\n",
    "1. **Weak aka Narrow AI:**\n",
    "- successful\n",
    "- views \"intelligence\" as the ability of a machine to solve a very discrete task (no expectations that the AI can solve similar-but-different tasks). \n",
    "- this type of \"intelligence\" is behind much of the AI in daily life, such as recommendation algorithms, chess-playing programs, and GPS navigation."
   ]
  },
  {
   "cell_type": "markdown",
   "id": "806dbfcf",
   "metadata": {
    "slideshow": {
     "slide_type": "subslide"
    }
   },
   "source": [
    "### Categories of AI\n",
    "\n",
    "2. **Strong aka General AI:**\n",
    "- doesn't exist yet\n",
    "- more ambitious and more on par with human capabilities e.g. the ability to interpret tone and emotion\n",
    "- views machine \"intelligence\" as similar to human intelligence (some generalisable computational/cognitive process that enables the solution of unfamiliar tasks by way of analogy and extrapoloation from acquired knowledge or experiences).\n",
    "<!--     - might posses consciousness(?) -->"
   ]
  },
  {
   "cell_type": "markdown",
   "id": "c5b5f6cc",
   "metadata": {
    "slideshow": {
     "slide_type": "subslide"
    }
   },
   "source": [
    "### Categories of AI\n",
    "\n",
    "3. **Super intelligence:**\n",
    "- hypothetical \n",
    "- machines become self-aware and surpass capacity of human intelligence and ability (the muse of dystopian science fiction in which robots overrun/enslave humanity) \n",
    "<!--     - personally I think weak AI in the hands of bad people is a much scarier prospect (e.g. autonomous weapons) -->"
   ]
  },
  {
   "cell_type": "markdown",
   "id": "bc703bda",
   "metadata": {
    "slideshow": {
     "slide_type": "subslide"
    }
   },
   "source": [
    "### AI successes\n",
    "AI has been very successful with tasks that are clearly defined \n",
    "\n",
    "- chess-playing\n",
    "- speech/facial recognition\n",
    "- GPS navigation\n",
    "- translation\n",
    "- self-driving cars\n",
    "- medical diagnosis\n",
    "- image search/classification\n",
    "- ...\n",
    "\n",
    "However, there have also been recent strides towards more open ended 'human' tasks such as creativity (generative art, ChatGPT etc), emotional intelligence (facial expression analysis, personalised content recommendations, sentiment analysis), capacity for abstraction, logic, understanding, ... \n",
    "\n",
    "<!-- Train and test on data -->\n",
    "\n",
    "Whilst they have successfully achieved their task, it's not at all clear what has actually been learnt in each case"
   ]
  },
  {
   "cell_type": "markdown",
   "id": "a2aea159",
   "metadata": {
    "slideshow": {
     "slide_type": "subslide"
    }
   },
   "source": [
    "## AI fails\n",
    "As humans we will try to anthropomorphise the learning and we struggle to think about things outside our own experience\n",
    "\n",
    "But we know that machines don't learn the way we do\n",
    "\n",
    "It's not easy to understand what a machine has actually learned (we don't even have very good definitions for these sort of terms e.g. common sense, consciousness, learning, understanding, ...)\n",
    "\n",
    "In general though, it is the easiest thing in the data that is learned e.g.:\n",
    "- does image contain an animal? Blurred background $\\rightarrow$ yes.\n",
    "- pneumonia detection from chest X-rays. Does image contain metadata (like logos) from specific hospital $\\rightarrow$ yes\n",
    "\n",
    "And this learning can't be transferred to unseen situations in the training because machines lack common sense\n",
    "\n",
    "This is a problem because life is 'long-tailed' (some unlikely things are likely to happen)"
   ]
  },
  {
   "cell_type": "markdown",
   "id": "d22fa3de",
   "metadata": {
    "slideshow": {
     "slide_type": "subslide"
    }
   },
   "source": [
    "AI systems can be, and frequently are, vulnerable and easily fooled:\n",
    "- gender and racial bias in recruiting tools (e.g. Amazon)\n",
    "- many examples in NLP where AI learned and perpetuated societal biases \n",
    "- bad chatbots (e.g. Microsoft's twitter bot)\n",
    "- ball tracking camera at soccer game mistakingly following bald umpire's head\n",
    "- driverless cars (so many examples of cars being fooled by salt lines/plastic bags on roads, crashing into stopped cars, stop signs with stickers misclassifed as 80km/hr speed limit signs etc etc)\n",
    "- ... \n",
    "\n",
    "Defence against adversarial attacks on neural networks is now a highly active field"
   ]
  },
  {
   "cell_type": "markdown",
   "id": "f0d0beff",
   "metadata": {
    "slideshow": {
     "slide_type": "slide"
    }
   },
   "source": [
    "# Collective/swarm  intelligence\n",
    "\n",
    "Collective intelligence refers to an ability to do intelligent things that is exhibited by groups, communities, or networks of individuals when they work together to achieve a common goal\n",
    "\n",
    "It is a type of *unconventional computation*\n",
    "\n",
    "We often struggle to recognise unconventional intelligence, i.e. intelligence that looks different to what we humans supposedly have\n",
    "\n",
    "Of course, you should now be comfortable with the reality - that human intelligence *is* collective intelligence (neurons interacting for brain function)"
   ]
  },
  {
   "cell_type": "markdown",
   "id": "5aa96f13",
   "metadata": {
    "slideshow": {
     "slide_type": "subslide"
    }
   },
   "source": [
    "The basic idea: social sharing of information among group members offers a simple and flexible evolutionary advantage\n",
    "\n",
    ">*\"In theory at least, individual members of the school can profit from the discoveries and previous experience of all other members of the school during the search for food. This advantage can become decisive, outweighing the disadvantages of competition for food items, whenever the resource is unpredictably distributed in patches\"* Biologist E.O. Wilson, from his book Sociobiology: The new synthesis [1975]\n",
    "\n",
    "Ants, bees, termites etc are basic creatures with very limited simple behaviours\n",
    "\n",
    "However en masse, they form *superorganisms* capable of emergent behaviour that is highly complex e.g. bees precisely modulating the temperature of a hive, and ants gathering themselves into a raft to cross a river or to survive a flood\n",
    "\n",
    "<!-- We do it too but in a different space, adjusting our beliefs and attitudes to conform with those of our social peers -->\n",
    "\n",
    "Note that the collective is *required* for the intelligence."
   ]
  },
  {
   "cell_type": "markdown",
   "id": "9012fd46",
   "metadata": {
    "slideshow": {
     "slide_type": "subslide"
    }
   },
   "source": [
    "# Ants\n",
    "\n",
    ">*\"Go to the ant, you sluggard; consider its ways and be wise! It has no commander, no overseer or ruler, yet it stores its provisions in summer and gathers its food at harvest.\"* -- Proverbs 6\n",
    "\n",
    "Ants are eusocial species i.e. they exhibit a high degree of social complexity and cooperation within their colonies (cooperative care of young, division of labour and specialist roles etc)\n",
    "\n",
    "No central control (queen lays eggs but isn't really in charge)\n",
    "\n",
    "<!-- The colony is essentially comprised of the sterile female workers -->\n",
    "\n",
    "They exist in nearly every conceivable environment with behavioral and reproductive traits shared by all army ant species\n",
    "\n",
    "![](images/escher_Ants.jpg)\n"
   ]
  },
  {
   "cell_type": "markdown",
   "id": "2605e487",
   "metadata": {
    "slideshow": {
     "slide_type": "subslide"
    }
   },
   "source": [
    "Ants can do all sorts of curious things \n",
    "\n",
    "It's only recently that we've really started to understand how they do it"
   ]
  },
  {
   "cell_type": "code",
   "execution_count": 1,
   "id": "37d055ce",
   "metadata": {
    "scrolled": true,
    "slideshow": {
     "slide_type": "fragment"
    }
   },
   "outputs": [
    {
     "data": {
      "image/jpeg": "[encoded data removed]",
      "text/html": [
       "\n",
       "        <iframe\n",
       "            width=\"400\"\n",
       "            height=\"300\"\n",
       "            src=\"https://www.youtube.com/embed/pa5UnI279Es\"\n",
       "            frameborder=\"0\"\n",
       "            allowfullscreen\n",
       "            \n",
       "        ></iframe>\n",
       "        "
      ],
      "text/plain": [
       "<IPython.lib.display.YouTubeVideo at 0x104347a90>"
      ]
     },
     "execution_count": 1,
     "metadata": {},
     "output_type": "execute_result"
    }
   ],
   "source": [
    "from IPython.display import YouTubeVideo\n",
    "YouTubeVideo(\"pa5UnI279Es\", width=400)\n",
    "\n",
    "# https://www.youtube.com/watch?v=pa5UnI279Es"
   ]
  },
  {
   "cell_type": "markdown",
   "id": "302edd47",
   "metadata": {
    "slideshow": {
     "slide_type": "subslide"
    }
   },
   "source": [
    "## Ant communication\n",
    "Ants lay pheromone where they walk, which evaporates over time. In particular, they leave a trace of pheromone on their way back to the nest when they have found food\n",
    "\n",
    "Ants can't see very well and smell the pheromone of fellow ants with their antennae \n",
    "\n",
    "The pheromone gives an indication of the frequency of interaction as ants encounter each other's paths. This is what governs and shapes the collective behaviour with what is sometimes referred to as a *response threshold model*\n",
    "\n",
    "A threshold for a particular task is the amount of stimulus (pheromone) required to cause the ant to perform the associated task like following a particular foraging path (and different workers may have different thresholds)... simple positive feedback reinforcing paths\n",
    "\n",
    "Sound familiar? This is the same as the neuron firing once it accumulates enough input voltage and because of this connection, ants are used to study the brain\n",
    "See this TED talk by ecologist Deborah Gordon: https://www.ted.com/talks/deborah_gordon_what_ants_teach_us_about_the_brain_cancer_and_the_internet"
   ]
  },
  {
   "cell_type": "markdown",
   "id": "97fcb7f0",
   "metadata": {
    "slideshow": {
     "slide_type": "subslide"
    }
   },
   "source": [
    "### Stigmergy\n",
    "Pheromone-based communication is an example of *stigmergy*\n",
    "\n",
    "Derived from the Greek words for stigma \"mark, sign\" and ergon \"work, action\"\n",
    "\n",
    "It's a mechanism of indirect communication between agents, which occurs *via the environment*\n",
    "\n",
    "Agents respond to traces left in the environment by others and typically receive positive fitness benefits, reinforcing the likelihood of these behaviours becoming fixed within a population over time\n",
    "\n",
    "1959, Pierre-Paul Grassé invented the theory to explain the behaviour of nest building in termites. Ant homes, see this giant abandoned ant colony: https://www.youtube.com/watch?v=lFg21x2sj-M&t=180s"
   ]
  },
  {
   "cell_type": "markdown",
   "id": "e454bccc",
   "metadata": {
    "slideshow": {
     "slide_type": "subslide"
    }
   },
   "source": [
    "### Shortest paths\n",
    "\n",
    "Together many ants develop a complex network of pheromone trails, which acts as a shared external memory for the colony\n",
    "\n",
    "This allows ants to find shortest paths, demonstrated in the double bridge experiment originally designed in 'The self-organizing exploratory pattern of the argentine ant', Deneubourg et al. [1990]. This work was the inspiration for the ant colony optimisation algorithms proposed by Dorigo.\n",
    "\n",
    "![](images/DoubleBridgeExperiment_Ants.png)\n",
    "\n",
    "Image from here: DOI: 10.5120/ijca2018916224\n",
    "\n",
    "Note that it is not necessary that an ant actually travels the shortest route... the shortest route can be built from the strongest segments of the best solutions"
   ]
  },
  {
   "cell_type": "markdown",
   "id": "c1613ebc",
   "metadata": {
    "slideshow": {
     "slide_type": "subslide"
    }
   },
   "source": [
    "Ultimately, this allows them to solve the traveling salesman problem (TSP): *\"Given some cities and the distances between every pair of cities, what is the most efficient route one should take to visit each city exactly once and return to the starting city?\"* \n",
    "\n",
    "TSP is an NP-hard problem in combinatorial optimisation and is highly relevant in theoretical computer science and many other fields\n",
    "\n",
    "Termites do something similar by rolling pheromone into mudballs and placing them randomly and then with some probability near other pheromoned mud to create complex nest structures with pillars tunnels etc... Sort of like how wikipedia works!"
   ]
  },
  {
   "cell_type": "markdown",
   "id": "3110c932",
   "metadata": {
    "slideshow": {
     "slide_type": "subslide"
    }
   },
   "source": [
    "### Lane formation \n",
    "Ants are great commuters - they don't get stuck in traffic\n",
    "\n",
    "You might be tempted to think that it is because they aren't bound to the roads but they sort of are... ants create the 'roads': wider roads take effort and pheromone gets weaker as its spread out\n",
    "\n",
    "They form 3 distinct traffic lanes between the nest and food source that minimise congestion and prioritise food carrying. The rule is simple - if you aren't carrying food you turn with 50% probability to the left/right\n",
    "\n",
    "![](images/ChowdhuryCouzin_LaneFormation.png)\n",
    "\n",
    "\n",
    "Image 1: 'Flux-density relation for traffic of army ants in a 3-lane bi-directional trail', Pradhan et al. https://www.sciencedirect.com/science/article/pii/S0378437120309626. This is a cellular automata model.\n",
    "\n",
    "Image 2: 'Self-organized lane formation and optimized traffic flow in army ants', Couzin et al. https://www.ncbi.nlm.nih.gov/pmc/articles/PMC1691225/. This is an agent-based model."
   ]
  },
  {
   "cell_type": "markdown",
   "id": "9120f58a",
   "metadata": {
    "slideshow": {
     "slide_type": "subslide"
    }
   },
   "source": [
    "### Lessons\n",
    "\n",
    ">*\"The wonderful thing about being an ant is that they're working together for the benefit of the colony... The problem with us humans is that we tend to be a little selfish.\"* -- Couzin \n",
    "\n",
    "People don't always follow the rules and are rarely thinking about how hitting the brakes or making an unnecessary lane change could impact drivers that are far behind them\n",
    "\n",
    "Take the driving out of our hands and say give it to driverless cars and we may see traffic improve substantially (until it is commercialised)."
   ]
  },
  {
   "cell_type": "markdown",
   "id": "9133eb16",
   "metadata": {
    "slideshow": {
     "slide_type": "subslide"
    }
   },
   "source": [
    "Ants aren’t smart. Ant colonies are. If ants are separated from the wider system dumb behviours can emerge\n",
    "\n",
    "These ants have been separated from the main foraging party and the pheromonal communication has broken down. They are now following each other, forming a continuously rotating circle, a 'mill', commonly referred to as a 'death spiral' as these ants will likely exhaust themselves\n",
    "\n",
    "<!-- It's an extreme illustration of the obligate collective foraging behavior characteristic of army ants, which are ineffective at foraging solitarily -->\n",
    "\n",
    "![](images/ant_mill.gif)\n",
    "\n",
    "By Clemzouzou69 - Own work, CC BY-SA 4.0, https://commons.wikimedia.org/w/index.php?curid=112720630\n",
    "\n",
    "This one is quite small but the first reported was supposedly ~370m in circumference and the ants took two and a half hours to make one revolution (1921, William Beebe)\n",
    "\n",
    "Reproduced in laboratories and has been produced in ant colony simulations\n",
    "\n",
    "<!-- Also seen in fish and caterpillars -->"
   ]
  },
  {
   "cell_type": "markdown",
   "id": "ce2ba53c",
   "metadata": {
    "slideshow": {
     "slide_type": "subslide"
    }
   },
   "source": [
    "# Biomimicry (biomimetics)\n",
    "Nature's systems have had millions, if not billions, of years to evolve in order to adapt to their environments with energy efficient and sustainable solutions\n",
    "\n",
    "From \"bio\" (life) and \"mimicry\" (to imitate or replicate)\n",
    "\n",
    "But this is a little misleading because it's not about copying, it's about inspiration and using the principles that nature uses for *function*\n",
    "\n",
    "The inspiration can be drawn from the levels of form, or process, or system  "
   ]
  },
  {
   "cell_type": "markdown",
   "id": "7bdf8dfb",
   "metadata": {
    "slideshow": {
     "slide_type": "subslide"
    }
   },
   "source": [
    "A classic example of biomimicry is velcro (a fastening system using hooks and loops) that was inspired by the way burrs stick to animal fur. Velcro doesn't look like a burr or like a dog, yet it perfectly recreates their physics to provide strong adhesion\n",
    "\n",
    "![](images/Velcro.jpg)\n",
    "\n",
    "(Images from Shutterstock and Velcro.com)\n",
    "\n",
    "If you're wanting some inspiration for future biomimicry see here: https://asknature.org"
   ]
  },
  {
   "cell_type": "markdown",
   "id": "e99e6df2",
   "metadata": {
    "slideshow": {
     "slide_type": "subslide"
    }
   },
   "source": [
    "## Ant colony optimisation (ACO)\n",
    "We want to mimic the ants' ability to problem solve\n",
    "\n",
    "This is a class of algorithm inspired by the pheromone laying behaviour and communication of real ants\n",
    "\n",
    "The basic mechanism is for agents to deposit \"virtual pheromones\" along paths (aka solutions in say a parameter space) that appear promising as they navigate the search space probabilistically\n",
    "\n",
    "There are then two key inputs to decision-making of an agent\n",
    "- individual component \n",
    "- social component i.e. a motivation to comply with social norms\n",
    "\n"
   ]
  },
  {
   "cell_type": "markdown",
   "id": "45669a33",
   "metadata": {
    "slideshow": {
     "slide_type": "subslide"
    }
   },
   "source": [
    "ACO is typically applied to path finding through *graphs*\n",
    "\n",
    "To apply an ant colony algorithm, the optimisation problem needs to be converted into the problem of finding the shortest path on a weighted graph\n",
    "\n",
    "But, it's a bit vague and there is also a tendency to classify any algorithm that's based on an exchange of information between agents via the environment in this way as ACO\n",
    "\n",
    "The first ACO, called the 'Ant System' by M. Dorigo was designed to solve the travelling salesman problem but they have since been used for so much more!\n",
    "- scheduling\n",
    "- image processing and edge detection\n",
    "- bankruptcy prediction\n",
    "- protein folding\n",
    "- ..."
   ]
  },
  {
   "cell_type": "markdown",
   "id": "00b42943",
   "metadata": {
    "slideshow": {
     "slide_type": "subslide"
    }
   },
   "source": [
    "# So how would you model this?\n",
    "\n"
   ]
  },
  {
   "cell_type": "markdown",
   "id": "a9da65e1",
   "metadata": {
    "slideshow": {
     "slide_type": "subslide"
    }
   },
   "source": [
    "\n",
    "0. Initialse $N$ agents at the 'nest', where $i$ labels the $i$th agent.\n",
    "1. Generate solutions\n",
    "    - consider each edge $k$ and determine its personal 'attractiveness' (e.g. $1/\\text{length}$) $\\alpha_k$, and the corresponding pheromone level $\\beta_k$ \n",
    "    - these are like the local and **global** influences respectively\n",
    "<!--     global influence is the new part here, everything up until now has been entirely local influence -->\n",
    "\n",
    "    - compute the probability of moving along each edge by applying some combination of these two considerations. e.g.:\n",
    "    $$p_{k_i}=\\frac{\\alpha_k^a\\beta_k^b}{\\sum_k \\alpha_k^a\\beta_k^b}$$\n",
    "    - repeat until destination is reached\n",
    "    - $\\alpha$ and $\\beta$ control the balance between *exploration* (selecting edges that could be good but no strong evidence for it) and *exploitation* (selecting the shortest edges with a lots of pheromone) respectively."
   ]
  },
  {
   "cell_type": "markdown",
   "id": "fb79a779",
   "metadata": {
    "slideshow": {
     "slide_type": "subslide"
    }
   },
   "source": [
    "0. Initialise...\n",
    "1. Generate solutions...\n",
    "\n",
    "2. Update pheromone (typically done globally once entire solution has been realised) \n",
    "    - e.g.:\n",
    "    $$\\beta_k \\leftarrow (1-\\rho )\\beta _{k}+\\sum _{i}^{N}\\Delta \\beta _{k_i}$$\n",
    "    i.e. the pheromone on the $k$th edge is updated with the amount of pheromone deposited by the $i$th ant, $\\Delta \\beta_{k_i}$,  $\\rho$  is the pheromone evaporation coefficient, $N$ is the number of ants \n",
    "3. (Option to) Re-initialise with pheromone trail from last generation remaining"
   ]
  },
  {
   "cell_type": "markdown",
   "id": "687fdd80",
   "metadata": {
    "slideshow": {
     "slide_type": "slide"
    }
   },
   "source": [
    "# Other systems inspired by nature..."
   ]
  },
  {
   "cell_type": "markdown",
   "id": "6c29f06a",
   "metadata": {
    "slideshow": {
     "slide_type": "subslide"
    }
   },
   "source": [
    "Some examples:\n",
    "- Bat algorithm (BA)\n",
    "- Artificial fish swarm algorithm (AFSA)\n",
    "- Cuckoo search algorithm (CSA)\n",
    "- Firefly algorithm (FFA)\n",
    "- Flower pollination algorithm (FPA)\n",
    "- Artificial bee colony optimisation (ABC)\n",
    "- Wolf-based search algorithm (WSA)\n",
    "- Bird's-eye view\n",
    "- Slime mould\n",
    "- ...\n",
    "<!-- https://agnescameron.info/assets/pdfs/physarum_self_org.pdf -->\n",
    "<!-- https:/Slime/hackernoon.com/revolutionizing-decision-making-with-python-and-slime-molds-journey-into-world-of-natural-computing -->"
   ]
  },
  {
   "cell_type": "markdown",
   "id": "a9cd8ccb",
   "metadata": {
    "slideshow": {
     "slide_type": "slide"
    }
   },
   "source": [
    "# Other fun examples of collective intelligence\n",
    "\n",
    "Slime\n",
    "\n",
    "Human gambling"
   ]
  },
  {
   "cell_type": "markdown",
   "id": "51ad3691",
   "metadata": {
    "slideshow": {
     "slide_type": "slide"
    }
   },
   "source": [
    "# Controlling collective intelligence"
   ]
  },
  {
   "cell_type": "code",
   "execution_count": 2,
   "id": "872c458e",
   "metadata": {
    "slideshow": {
     "slide_type": "fragment"
    }
   },
   "outputs": [
    {
     "data": {
      "image/jpeg": "[encoded data removed]",
      "text/html": [
       "\n",
       "        <iframe\n",
       "            width=\"400\"\n",
       "            height=\"300\"\n",
       "            src=\"https://www.youtube.com/embed/fsVJuN75vzE\"\n",
       "            frameborder=\"0\"\n",
       "            allowfullscreen\n",
       "            \n",
       "        ></iframe>\n",
       "        "
      ],
      "text/plain": [
       "<IPython.lib.display.YouTubeVideo at 0x1049c1210>"
      ]
     },
     "execution_count": 2,
     "metadata": {},
     "output_type": "execute_result"
    }
   ],
   "source": [
    "from IPython.display import YouTubeVideo\n",
    "YouTubeVideo(\"fsVJuN75vzE\", width=400)"
   ]
  },
  {
   "cell_type": "markdown",
   "id": "04c038e0-a932-42a7-bef3-03b4c1d653a0",
   "metadata": {},
   "source": [
    "# Optimisation\n",
    "A process concerned with finding the best available solution(s)\n",
    "\n",
    "Is, of course, everywhere (engineering, finance, decision-making, computer science, machine learning etc)\n",
    "\n",
    "<!-- Training models, hyperparameter tuning, and neural network optimization. -->\n",
    "\n",
    "We are almost always trying to optimise something e.g. maximise profit, maximise efficiency, minimise energy consumption\n",
    "\n",
    "<!-- (As a consultant engineer we spoke frequently about 'the triangle' with vertices of cost, time and quality. Inevitably to improve one you needed to detract from one or both of the others.) -->"
   ]
  },
  {
   "cell_type": "markdown",
   "id": "7cc52d41-7dc2-40cf-a349-9db0d19da73f",
   "metadata": {},
   "source": [
    "Generically:\n",
    "\n",
    "$$\n",
    "\\min_{x\\in \\mathbb{R}^n} f_i(x), \\quad (i=1,2,\\ldots, M)\n",
    "$$\n",
    "\n",
    "**The objective function**, $f_i(x)$:\n",
    "- is the cost for objective $i$, where there are $M$ is the number of objective functions\n",
    "- this is the function that needs to be maximized or minimised\n",
    "- if $M=1$ then this is a *'single objective'* optimisation, while $M>1$ is a *'multi-objective'* optimisation\n",
    "- if the objective function (and constraints) are linear then we speak of linear programming"
   ]
  },
  {
   "cell_type": "markdown",
   "id": "a69fbf4f-a8a9-4696-a989-3a65c51d21e1",
   "metadata": {},
   "source": [
    "$$\n",
    "\\min_{x\\in \\mathbb{R}^n} f_i(x), \\quad (i=1,2,\\ldots, M)\n",
    "$$\n",
    "\n",
    "**The design variables**, $x$: \n",
    "- $n$ input parameters to be 'guessed' by the optimisation algorithm\n",
    "- these are the factors that affect the outcome of the objective function\n",
    "- $\\mathbb{R}^n$ is the space spanned by the decision variables (the *'search space'*)\n",
    "- variables can be continuous or restricted to discrete values\n"
   ]
  },
  {
   "cell_type": "markdown",
   "id": "0162ba80-d346-4ca2-9944-74f8618b951c",
   "metadata": {},
   "source": [
    "\n",
    "$$\n",
    "\\min_{x\\in \\mathbb{R}^n} f_i(x), \\quad (i=1,2,\\ldots, M)\n",
    "$$\n",
    "\n",
    "**The constraints**:\n",
    "- there may be limitations or restrictions (such as equalities or inequalities) within which the optimisation must occur:\n",
    "  \n",
    "$$\n",
    "h_j(x)=0, \\quad (j=1,2, \\dots, J)\n",
    "$$\n",
    "\n",
    "$$\n",
    "g_k(x) \\leq 0, \\quad (k=1,2,\\ldots, K)\n",
    "$$\n",
    "\n",
    "- the set of all possible solutions that satisfy the constraints is the *feasible region* \n",
    "- if there are no constraints (e.g. $J=0$ and $K=0$) then this is an *'unconstrained'* problem and $x\\in \\mathbb{R}^n$ (while if $J>0$ or $K>0$ then it is a *'constrained'* problem)\n",
    "- if any of $f_i$, $h_j$ and $g_k$ are nonlinear then the problem is classified as a nonlinear optimisation problem"
   ]
  },
  {
   "cell_type": "markdown",
   "id": "275c3eaa-ceeb-477d-bfeb-955e947549c0",
   "metadata": {},
   "source": [
    "## Global vs. Local Optimisation:\n",
    "\n",
    "**Local Optimisation:** Finding the best solution within a specific, possibly limited region of the feasible space\n",
    "- local optima are solutions that are optimal within a neighboring set of solutions, but not necessarily across the entire space\n",
    "- less computationally intensive\n",
    "- gradient descent, Newton’s method, simplex method,...\n",
    "\n",
    "**Global Optimisation:** Finding the absolute best solution across the entire feasible region\n",
    "- often more complex and computationally intensive because the algorithm must explore the entire search space\n",
    "- particularly important for non-convex functions, which may have multiple local optima\n",
    "- simulated annealing, genetic algorithms, branch and bound, ..., **particle swarm optimisation** "
   ]
  },
  {
   "cell_type": "markdown",
   "id": "e93796c1-4ed9-4246-961e-3a85157ee8ce",
   "metadata": {},
   "source": [
    "Some categorisations...\n",
    "\n",
    "- Deterministic e.g. hill-climbing vs Stochastic e.g. particle swarm optimisation (PSO)\n",
    "\n",
    "- Single agent e.g. simulated annealing vs population-based e.g. PSO\n",
    " \n",
    "- (meta-)heuristics e.g. PSO vs bio/nature-inspired based on a successful system e.g. genetic algorithms\n",
    "    - *Heuristics* are rule-of-thumb or intuitive strategies used to quickly find good solutions to problems. They are typically designed for specific problem instances or problem types\n",
    "    - *Metaheuristics* are higher-level strategies that guide the search for solutions in a broader, more generic manner. They are not tied to specific problem structures and can be applied to a wide range of optimisation problems"
   ]
  },
  {
   "cell_type": "markdown",
   "id": "7ca7bd3e-cc3a-4e61-9d70-7a4de98db6d6",
   "metadata": {},
   "source": [
    "# Swarm optimisation\n",
    "Swarm optimisation is an iterative process carried out by a collective of interacting individuals\n",
    "\n",
    "It continues until certain termination criteria are met, which could include a maximum number of iterations, a specific level of convergence, or a predetermined threshold for the fitness score\n",
    "\n",
    "We will cover the basics with respect to a particular swarm optimiser: particle swarm optimisation (PSO)"
   ]
  },
  {
   "cell_type": "markdown",
   "id": "03776ead-c42a-4e00-8b7b-106d0066d038",
   "metadata": {},
   "source": [
    "## Particle swarm optimisation (PSO)\n",
    "\n",
    "First intended for simulating social behaviour as a stylised representation of the movement of organisms in a bird flock or fish school\n",
    "\n",
    "Kennedy and Eberhart included a roost, or, more generally, an attraction point (e.g, a prey) in a simplified Boids-like simulation, such that each agent:\n",
    "- is attracted to the location of the roost\n",
    "- remembers where it was closer to the roost\n",
    "- shares information with its neighbors about its closest location to the roost\n",
    "\n",
    "Eventually (almost) all agents landed at the roost"
   ]
  },
  {
   "cell_type": "markdown",
   "id": "204ea4e5-394b-4b0b-b7db-75b245de629c",
   "metadata": {},
   "source": [
    "They then flipped the set up such that:\n",
    "- roost was an unknown extremum of a function\n",
    "- distance to the roost represented quality of current agent position on the optimisation landscape\n",
    "\n",
    "\n",
    "The PSO algorithm uses only basic mathematical operators and is computationally inexpensive in terms of both memory requirements and speed\n",
    "    *\"very simple concept, and paradigms can be implemented in a few lines of computer code.\" - Kennedy et al.*\n",
    "    \n",
    "It has undergone continued development since it was first proposed in 1995 and continues to be used today\n",
    "\n",
    "<!-- Kennedy J. and Eberhart R. C. Particle swarm optimization. In Proceedings of the International Conference on Neural Networks; Institute of Electrical and Electronics Engineers. Vol. 4. 1995. pp. 1942–1948. DOI: 10.1109/ICNN.1995.488968 -->"
   ]
  },
  {
   "cell_type": "markdown",
   "id": "bb5fc162-6be2-4839-bfa3-f619dcd024f5",
   "metadata": {},
   "source": [
    "### The search space \n",
    "The set of possible solutions is the search/solution space (this may be an abstract space, e.g. a position in it could represent a set of variables or parameters)\n",
    "\n",
    "Each particle (aka agent) has a state (its position) that represents a solution to the optimisation problem\n",
    "\n",
    "<!-- A solution point $x \\in X_n \\subseteq \\mathbb{R}^n $ for an optimisation problem with objective function $f(x): X_n \\mapsto \\mathbb{R}^m$ -->\n",
    "\n",
    "Agents move through the search space, adjusting their positions based on their own experience and the experience of neighbouring particles"
   ]
  },
  {
   "cell_type": "markdown",
   "id": "90374db7-a0fc-4092-a4a9-62522f88c799",
   "metadata": {},
   "source": [
    "### Fitness function (aka objective function, cost function)\n",
    "\n",
    "The fitness function provides the means to objectively compare different candidate solutions and select the best ones for further exploration \n",
    "\n",
    "It is specific to *the particular problem* i.e. it is designed using domain knowledge and informs about how well a solution meets the objectives \n",
    "\n",
    "The *'fitness'* is then the output of the fitness function for a given potential solution, representing the quality of the agent's position on the optimisation landscape \n",
    "\n",
    "The algorithm aims to find the solution(s) with the highest fitness"
   ]
  },
  {
   "cell_type": "markdown",
   "id": "d709e8f4-0030-4683-a35f-7d0eabc47e15",
   "metadata": {},
   "source": [
    "\n",
    "This *could* be a convex function, which would be nice because:\n",
    "- we wouldn't have to worry about getting stuck in local optima (convex functions are well-behaved because any local minimum is also a unique global minimum and there are many efficient algorithms for finding optimal solutions)\n",
    "- less sensitive to initialisation and parameter choices\n",
    "- reliable for a wide range of practical applications\n",
    "\n",
    "But we're rarely dealing with well-behaved convex functions and will often have multiple local optima or complex constraints\n",
    "\n",
    "Swarm optimisation is comparatively good at avoiding premature converge to local minima in multimodal problem optimisation and typically balance fast converge speed with an ability to jump out of local optima.\n",
    "\n",
    "<!-- Standard search space benchmarks\n",
    "- sphere\n",
    "- Rastrigin\n",
    "- Rosenbrock\n",
    "- Griewank -->"
   ]
  },
  {
   "cell_type": "markdown",
   "id": "4d00af5e-42ad-473d-83c8-c3567edcdd76",
   "metadata": {},
   "source": [
    "### Moving through the search space\n",
    "The agents move over the search space \n",
    "\n",
    "In PSO agents move through the search space with a velocity that is dynamically adjusted according to its own and its neighbours’ historical behaviour. In particular, movement is influenced by:\n",
    "- the best state this individual has found so far\n",
    "- the best state that its neighbours have found so far\n",
    "\n",
    "i.e. an agent 'learns' from itself and others\n",
    "\n",
    "In other swarm algorithms different combinations of the information shared and received are used, e.g.:\n",
    "- the local or global best solution (position) or some combination of multiple best solutions, e.g. BA, ABC, WSA\n",
    "- a subset or combination of all of better solutions, e.g. ABC, FFA\n",
    "- a combination of all solutions (centroid), e.g. AFSA"
   ]
  },
  {
   "cell_type": "markdown",
   "id": "bfeacb53-fa34-4113-b0d8-be10a10a41c3",
   "metadata": {},
   "source": [
    "##### Exploration and Exploitation\n",
    "\n",
    "Successful optimisation requires a balance between *exploration and exploitation* within the search space\n",
    "\n",
    "**exploration:** searching for new, potentially better solutions\n",
    "<!-- - 'inertia weight' on the agent velocity \n",
    "- incorporating stochasticity -->\n",
    "\n",
    "**exploitation:** focusing on known, promising solutions\n",
    "\n",
    "Generally speaking, algorithm should have a more exploration and less exploitation ability at first\n",
    "\n",
    "Exploration can then be be decreased, and exploitation increased to refine candidate solutions over the time"
   ]
  },
  {
   "cell_type": "markdown",
   "id": "db6e0e86-0ce4-4d2b-b436-c0fe00f7c59f",
   "metadata": {},
   "source": [
    "##### Forces\n",
    "\n",
    "Velocity is a linear combination of personal inertia (exploration) and influences/biases (both personal and social), which act to enforce social norms and what has been good so far\n",
    "$$\n",
    "v_i(t+1)=wv_i(t) + p U_1 (x_{i_b}-x_i(t)) + s U_2(x_{g_b}-x_i(t))\n",
    "$$\n",
    "\n",
    "- inertia (first term) encourages particle to move in same direction depending on the strength of the inertia weight $w$ (possibly a function changing dynamically over time). $w$ can be used to control the balance between exploration and exploitation\n",
    "- personal bias (second term) aims for short-sighted improvement by directing the particle to return to a previous position best position, $x_{i_b}$\n",
    "- social bias (third term) aims for conformity by directing the particle to follow the best position found so far, $x_{g_b}$\n",
    "\n",
    "\n",
    "$p$, $s$, $U_1$ and $U_2$ are hyperparameters (parameter whose value is used to control the learning process) \n",
    "- $p$ and $s$ weigh the importance of the particle's personal previous experiences and those of the group respectively \n",
    "- $U_n$ are random values drawn from the range [0,1]. This is essential for avoiding premature convergences to local minima"
   ]
  },
  {
   "cell_type": "markdown",
   "id": "69f2f51f-25d0-401d-b261-a1e14c8f468d",
   "metadata": {},
   "source": [
    "##### Randomness\n",
    "\n",
    "We will often lean on stochasticity to:\n",
    "- handle uncertainty e.g. uncertain or noisy objective functions \n",
    "- encourage diversity among swarm agents and the set of solutions they explore by perturbing the state or drivers by random factors. This can help the swarm to avoid premature convergence (where the swarm settles too quickly on suboptimal solutions) and escape local optima by covering a larger portion of the solution space efficiently (helping to balance the trade-off of exploration vs exploitation)\n",
    "    - a lot of randomness allows exploration of new possibilities\n",
    "    - a bit of randomness allows exploitation by testing patterns similar to the best one found so far\n",
    "\n",
    "Can be introduced via:\n",
    "- random initialisation of particles' positions and velocities \n",
    "- probabilistic forces or decisions"
   ]
  },
  {
   "cell_type": "markdown",
   "id": "ebb75231-ca35-4a44-9ee7-1c71ff41973f",
   "metadata": {},
   "source": [
    "## The picture to have in mind\n",
    "\n",
    "<center>\n",
    "<img src=\"ParticleSwarmArrowsAnimation.gif\" width=\"400\"/>\n",
    "</center>\n",
    "\n",
    "But the landscape may:\n",
    "- be complex, noisy, and high-dimensional \n",
    "- change over time\n",
    "- have multiple optimas\n"
   ]
  },
  {
   "cell_type": "markdown",
   "id": "83cb197b-6d5c-4bf4-abab-5827393cd5bc",
   "metadata": {},
   "source": [
    "\n",
    "Consider, for example, the problem of training a neural network for image classification:\n",
    "- The fitness function could be the accuracy of the neural network on a validation set, which measures how well the network is performing on unseen data\n",
    "- The solution space consists of all possible configurations of the neural network’s weights and biases. This space is typically high-dimensional and extremely complex."
   ]
  },
  {
   "cell_type": "markdown",
   "id": "bc2b52d7-b0b0-48c5-af84-5a80082ca8c8",
   "metadata": {},
   "source": [
    "## An* algorithm (pseudo-code)\n",
    "\n",
    "<center>\n",
    "<img src=\"PSO_Algorithm2.png\" width=\"400\"/>\n",
    "</center>\n",
    "\n",
    "$*$ Note that this is a slight variant with the social component based on a local network and the global best only stored and not influencing the dynamics directly \n",
    "\n",
    "Figure from PSO review article here: https://link.springer.com/article/10.1007/s40747-018-0071-2"
   ]
  },
  {
   "cell_type": "markdown",
   "id": "788146cb-6459-4f04-99f0-1aaf3dc53b39",
   "metadata": {},
   "source": [
    "## Limitations and considerations\n",
    "\n",
    "**Advantages**\n",
    "- simple implementation\n",
    "- not a lot of hyper-parameters and very flexible with the form of the objective function, so is able to solve a wide range of problems\n",
    "- relatively insensitive to scaling of design variables \n",
    "- easily parallelised for concurrent and efficient processing \n",
    "\n",
    "**Disadvantages**\n",
    "- final solution is heavily dependent on the initial seeds of the population (so ensemble runs are especially important)\n",
    "- can have a tendency to a fast and premature convergence to sub optimal points\n",
    "- convergence can be slow in the refined search stage (weak local search ability)\n",
    "\n",
    "<!-- Difficult because:\n",
    "- Complex group dynamics\n",
    "- Stochastic search algorithm\n",
    "- Performance depends on the search landscape -->"
   ]
  },
  {
   "cell_type": "markdown",
   "id": "d77d4b40-f301-4e9a-b159-0e5e7755885e",
   "metadata": {},
   "source": [
    "### Hyperparameters\n",
    "a hyperparameter is a parameter whose value is used to control the learning process.\n",
    "Given these hyperparameters, the training algorithm learns the parameters from the data. \n",
    "Most performance variation can be attributed to just a few hyperparameters"
   ]
  },
  {
   "cell_type": "markdown",
   "id": "76774031-1fed-4716-adfc-1a995eb6bde8",
   "metadata": {},
   "source": [
    "Read the OG PSO paper - it's fantastic and full of gems like this...\n",
    "*\"This is a major distinction in terms of contriving a computer simulation,for at least one obvious reason: collision. Two individuals can hold identical attitudes and beliefs without banging together,but two birds cannot occupy the same position in space without colliding. It seems reasonable, in discussing human social behavior,to map the concept of change into the bird fish analogy of movement. This is consistent with the classic Aristotelian view of qualitative and quantitative change as types of movement. Thus, besides moving through three-dimensional physical space, and avoiding collisions, humans change in abstract multi-dimensional space, collision-free. Physical space of course affects informational inputs, but it is arguably a trivial component of psychological experience. Humans learn to avoid physical collision by an early age...\"* \n"
   ]
  },
  {
   "cell_type": "markdown",
   "id": "10f7ed6a",
   "metadata": {
    "slideshow": {
     "slide_type": "skip"
    }
   },
   "source": [
    "# For inclusion in 2026\n",
    "\n",
    "\"Great triumphs and tragedies of histories are caused not by people being fundamentally good or bad but by people being fundamentally people\"-- Neil Gaiman and Terry Pratchett\n",
    "\n",
    "\n",
    "http://ncase.me/bees/sliders.html\n",
    "\n",
    "\n",
    "Why do some crowds turn to madness and others turn to wisdom? - many examples from the news?\n",
    "\n",
    "A healthy society needs bonds within groups and bridges between groups\n",
    "Unity without uniformity\n",
    "Diversity without divisiion\n",
    "Out of many, one\n",
    "\n",
    "Wright implies here (page 63 or SFI Foundations): 'The environment, living and non-living, of any species is actually in continual change... this means that certain high places are gradually being depressed and certain low places are becoming higher. A species occupying a small field under influence of severe selection is likely to be left in a pit and become extinct, the victime of extreme specialisation to conditions which have ceased...' that fitness landscapes may also change continuously, thgerefore in some cases a metaphor of a 'fitness seascape' can be more appropriate than that of a fitness lanscape"
   ]
  },
  {
   "cell_type": "markdown",
   "id": "fb714979",
   "metadata": {
    "slideshow": {
     "slide_type": "skip"
    }
   },
   "source": [
    "## Social learning and decision making\n",
    "The way we come to decisions, collectively and individually \n",
    "depends on the networks we are embedded in and how information flows through these networks\n",
    "\n",
    "when we decide to follow the majority or place our trust in experts, for example, depends on the networks in which we’re embedded. Consequently, much of learning and decision-making has as much or more to do with social implications as it has to do with an objective world of fact…and this has major consequences for the ways in which we come together to solve complex problems. \n",
    "\n",
    "Homo Economicus model of the rational decision maker acting on perfect information, having a sort of unassailable self interest…that we are always acting on imperfect information, that we have these cognitive limits. And so our strategies for making decisions are not ubiquitous. Like everyone kind of settles on their own strategies based on the conditions of their life."
   ]
  }
 ],
 "metadata": {
  "celltoolbar": "Slideshow",
  "kernelspec": {
   "display_name": "Python 3 (ipykernel)",
   "language": "python",
   "name": "python3"
  },
  "language_info": {
   "codemirror_mode": {
    "name": "ipython",
    "version": 3
   },
   "file_extension": ".py",
   "mimetype": "text/x-python",
   "name": "python",
   "nbconvert_exporter": "python",
   "pygments_lexer": "ipython3",
   "version": "3.11.13"
  },
  "toc": {
   "base_numbering": 1,
   "nav_menu": {},
   "number_sections": true,
   "sideBar": true,
   "skip_h1_title": false,
   "title_cell": "Table of Contents",
   "title_sidebar": "Contents",
   "toc_cell": false,
   "toc_position": {},
   "toc_section_display": true,
   "toc_window_display": false
  }
 },
 "nbformat": 4,
 "nbformat_minor": 5
}

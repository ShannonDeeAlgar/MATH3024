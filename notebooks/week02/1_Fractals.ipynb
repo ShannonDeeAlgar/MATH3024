{
 "cells": [
  {
   "cell_type": "markdown",
   "id": "c9cb01db",
   "metadata": {
    "slideshow": {
     "slide_type": "slide"
    }
   },
   "source": [
    "# Euclidean geometry\n",
    "Geometry: Ancient Greek words, “geo” meaning “earth” and “metron” meaning “measurement”\n",
    "\n",
    "<!-- Euclidean geometry is a branch of mathematics that deals with the study of geometric shapes and their properties -->\n",
    "\n",
    "Based on a small set of assumptions (postulates or axioms) detailed in Euclid's book the ‘Elements’\n",
    "<!-- Elements is one of the most important books in history, quantifying a new way to think - logic, deductive reasoning and proof. Uncovers rules that govern the world from assumptions. Combined geometrical theorem into a coherent framework and the basis of modern science. -->\n",
    "<!-- 5 key axioms: line between two points, line can go indefinitely, circle can be drawn with any centre and radii, all right angles are equal, non-paralell lines must meet -->\n",
    "<!-- Euclidean geometry has many limitations (e.g. only works on flat surfaces) -->\n",
    "\n",
    "Euclidean geometry deals with the plane and solids that can be defined by their *shape, location and size*. These properties are considered absolute because under the paradigm of Euclidean geometry, everything is measurable, no matter how big or small\n",
    "\n",
    "Euclidean solids are also smooth and have integer dimension\n",
    "<center>\n",
    "<img src=\"Euclid.jpg\" width=\"150\">\n",
    "</center>\n",
    "<!-- <div style=\"text-align: right\"> Euclid - the 'father of geometry'. His work \"Elements\" laid the foundation for the study of geometry </div> -->\n",
    "\n",
    "Euclid - the 'father of geometry'. His work \"Elements\" laid the foundation for the study of geometry\n",
    "\n",
    "<!-- Perhaps this is the only version of geometry you know, and for a long time it was simply called 'geometry'. But over time other 'non-Euclidean' geometries were required (typically departing from some of the assumptions made in Euclidean geometry's parallel postulate).  -->\n",
    "<!-- Hyperbolic geometry\n",
    "Elliptic geometry\n",
    "Spherical geometry\n",
    "Parabolic geometry\n",
    "Discrete geometry\n",
    "Hilbert geometry -->"
   ]
  },
  {
   "cell_type": "markdown",
   "id": "e7adeb53",
   "metadata": {
    "slideshow": {
     "slide_type": "subslide"
    }
   },
   "source": [
    "## Size\n",
    "Euclidean objects have a natural size, e.g.: \n",
    "- circles and spheres have diameters\n",
    "- squares have side lengths\n",
    "\n",
    "Zooming in on these objects changes them (a large circle looks like a line to a tiny ant walking along it)\n",
    "\n",
    "Euclidean geometry measures size at one particular scale characteristic of the shape\n",
    "\n",
    "If the shape is scale-free or involves all scales then Euclidean measurement isn't possible\n",
    "\n",
    "For example, *'How long is the British coastline?'*"
   ]
  },
  {
   "cell_type": "markdown",
   "id": "0264cae9",
   "metadata": {
    "slideshow": {
     "slide_type": "subslide"
    }
   },
   "source": [
    "## Symmetries\n",
    "The idea of a symmetry is to perform an operation that leaves a shape undetectably different in shape and form.\n",
    "\n",
    "Classic symmetries (the so-called Euclidean motions):\n",
    "- translational\n",
    "- reflection\n",
    "- rotation\n",
    "\n",
    "If you close your eyes you won't know if I have translated, reflected, rotated these shapes, i.e. their geometrical properties (lengths of sides, interior angles, etc) haven't changed."
   ]
  },
  {
   "cell_type": "markdown",
   "id": "572df75b",
   "metadata": {
    "slideshow": {
     "slide_type": "subslide"
    }
   },
   "source": [
    "But there is another type of symmetry...\n",
    "- symmetry under magnification such that zooming in on an object leaves the shape approximately unaltered\n",
    "\n",
    "Classical Euclidean geometry fails entirely when trying to describe shapes that have this feature... and there are a lot of these shapes! The regular shapes are rare in the natural world but 'irregular shapes' abound."
   ]
  },
  {
   "cell_type": "markdown",
   "id": "b3d07d54",
   "metadata": {
    "slideshow": {
     "slide_type": "subslide"
    }
   },
   "source": [
    "##### The first fractal was a Fourier series\n",
    "\n",
    "$$\n",
    "\\color{white}{f(x)= \\sum_{n=0}^{\\infty} a^n \\cos(b^n \\pi x)} $$\n",
    "where $ab>1+3/2\\pi$\n",
    "<!-- ab must be large enough to balance the decay of amplitudes with the increase in frequency, ensuring the Weierstrass function is continuous and nowhere differentiable, with fractal dimension $D = 2 + ln(a)/ln(b)$.-->\n",
    "<center>\n",
    "<img src=\"WeierstrassFunction.png\" width=\"400\">\n",
    "</center>\n",
    "(Figure from Wikipedia)\n",
    "\n",
    "In the 1800s Karl Weierstrass a German mathematician created a fractal shape that has no flat surfaces - it is only corners!\n",
    "\n",
    "Traditional geometry says this is impossible. \n",
    "<!-- 'It is impossible to print a fractal on a piece of paper' -->\n",
    "<!-- And so on ad infinitum -->\n",
    "\n",
    "<!-- the infinite zoom that prevents a local derivative from existing -->"
   ]
  },
  {
   "cell_type": "markdown",
   "id": "2044c4db",
   "metadata": {
    "slideshow": {
     "slide_type": "subslide"
    }
   },
   "source": [
    "##### The most famous fractal\n",
    "\n",
    ">*\"The thumb print of god\"* - ?\n",
    "\n",
    "<!-- It has an organic feel to it and tends to remind people of real things. Has been said to look like a man, a cactus, a cockroach, ...? There is a connection here to the way that nature operates.\n",
    "\n",
    "Julia was working on this idea in 1917 but it wasn't until the advent of modern computers that this was invented/discovered because millions/billions of iterations are required to be computed before the patterns are seen. -->\n",
    "\n",
    "<!-- Iterative map: $z_{n+1} = z_n^2 + c$ -->"
   ]
  },
  {
   "cell_type": "code",
   "execution_count": 1,
   "id": "d63dc58c",
   "metadata": {
    "slideshow": {
     "slide_type": "fragment"
    }
   },
   "outputs": [
    {
     "data": {
      "text/html": [
       "\n",
       "        <iframe\n",
       "            width=\"1000\"\n",
       "            height=\"300\"\n",
       "            src=\"https://www.youtube.com/embed/b005iHf8Z3g\"\n",
       "            frameborder=\"0\"\n",
       "            allowfullscreen\n",
       "            \n",
       "        ></iframe>\n",
       "        "
      ],
      "text/plain": [
       "<IPython.lib.display.YouTubeVideo at 0x103c11f10>"
      ]
     },
     "execution_count": 1,
     "metadata": {},
     "output_type": "execute_result"
    }
   ],
   "source": [
    "# A very simple nonlinear transformation gives the most famous of all fractals.... The Mandelbrot set.\n",
    "# (This is generated with complex numbers). Each point in the complex plane is coloured based on how long it takes to “escape” off the page. \n",
    "# Mandelbrot worked at computing giant IBM and had access to enormous (for the time) computing power.\n",
    "#Mandelbrot zoom...\n",
    "from IPython.display import YouTubeVideo\n",
    "YouTubeVideo(\"b005iHf8Z3g\", width=1000)\n",
    "# https://www.youtube.com/watch?v=b005iHf8Z3g"
   ]
  },
  {
   "cell_type": "markdown",
   "id": "031c8d2d",
   "metadata": {
    "slideshow": {
     "slide_type": "subslide"
    }
   },
   "source": [
    "# Fractal geometry\n",
    "\n",
    ">\"*Many patterns of nature are so irregular and fragmented that, compared with Euclid ... Nature exhibits not simply a higher degree but an altogether different level of complexity.\"* - Benoit Mandelbrot, The Fractal Geometry of Nature\n",
    "\n",
    "> \"*A rebellion against calculus*\" - Grant Sanderson, 3Blue1Brown\n",
    "<!-- Calculus: central assumption is that things tend to look smooth if you zoom in enough -->\n",
    "\n",
    "To describe something like the Mandelbrot set, a new type of geometry was required\n",
    "<!-- Work by Cantor, Peano, von Koch and Sierpinski created a crisis in geometry as mathematicians struggled to rescue concepts of dimensionality -->\n",
    "\n",
    "Like the British coastline, the Mandelbrot set is complicated and irregular (Mandelbrot called it rough). It's the sort of shape that mathematicians used to shy away from in favour of regular ones, like spheres, which could be tamed with equations\n",
    "\n",
    "Fractals provide a systematic method to capture the “roughness” of some objects. \n",
    "<!-- Because the length of the coastline is sort of a dumb question -->\n",
    "\n",
    "Benoit Mandelbrot was the first to call them *'fractals'* from the Latin noun *”fractus”*, meaning ”to break”.\n",
    "\n",
    "<!-- <center>\n",
    "<img src=\"FractalGeometry_DesmondPaulHenry.png\" width=\"600\">\n",
    "</center>\n",
    "<div style=\"text-align: right\"> - style of Desmond Paul Henry </div> -->"
   ]
  },
  {
   "cell_type": "markdown",
   "id": "02dc2ea8",
   "metadata": {
    "slideshow": {
     "slide_type": "slide"
    }
   },
   "source": [
    "## Fractal properties\n",
    "\n",
    "The definition of a fractal is not so clear. They tend to be defined by their properties\n",
    "\n",
    "Fractals are shapes containing detailed structure and **self-similarity**, often in a recursive or iterative manner\n",
    "\n",
    "Zooming in on the fractal's detail can happen to arbitrarily small scales, which results in geometric object that has an **infinite complexity**\n",
    "\n",
    "Fractals will typically have a **fractal dimension**."
   ]
  },
  {
   "cell_type": "markdown",
   "id": "16f4a6b2",
   "metadata": {
    "slideshow": {
     "slide_type": "slide"
    }
   },
   "source": [
    "## Types of fractals\n",
    "\n",
    "In terms of these properties we classify fractals as:\n",
    "1. Classic/strict/mathematical fractals \n",
    "    - nice toy models\n",
    "    - e.g. Cantor dust (1883), Koch curve (1904), and Sierpinski carpet (1915) \n",
    "    - exact self-similarity\n",
    "    - infinite scaling range"
   ]
  },
  {
   "cell_type": "markdown",
   "id": "b566a96f",
   "metadata": {
    "slideshow": {
     "slide_type": "subslide"
    }
   },
   "source": [
    "### Strict fractals\n",
    "We'll spend a lot of time with these two canonical examples (once considered mathematical \"monsters\"):\n",
    "\n",
    "1. the Cantor set, named after German mathematician Georg Cantor, who introduced it in 1883\n",
    "2. the Sierpiński triangle, named after Polish mathematician Wacław Sierpiński, who introduced it in 1915."
   ]
  },
  {
   "cell_type": "markdown",
   "id": "7c0456cc",
   "metadata": {
    "slideshow": {
     "slide_type": "subslide"
    }
   },
   "source": [
    "##### Cantor set:\n",
    "<center>\n",
    "<img src=\"Cantor_set_iterations.png\" width=\"500\" height=\"200\">\n",
    "</center>"
   ]
  },
  {
   "cell_type": "markdown",
   "id": "65f4be46",
   "metadata": {
    "slideshow": {
     "slide_type": "subslide"
    }
   },
   "source": [
    "##### Sierpiński triangle:\n",
    "<center>\n",
    "<img src=\"Sierpinski_triangle_iterations.png\" width=\"600\">\n",
    "</center>\n",
    "\n",
    "<!-- Towers of Hanoi https://en.wikipedia.org/wiki/Tower_of_Hanoi\n",
    "Also the limiting shape of Pascal's triangle modulo 2.\n",
    "Shape is changing less and less with each iteration... converging to a limiting shape -->"
   ]
  },
  {
   "cell_type": "markdown",
   "id": "7ee951ed",
   "metadata": {
    "slideshow": {
     "slide_type": "skip"
    }
   },
   "source": [
    "How are these objects created?\n",
    "\n",
    "<!-- We'll see lots of alternative ways of generating them in the following lecture. -->"
   ]
  },
  {
   "cell_type": "markdown",
   "id": "a9ed2c20",
   "metadata": {
    "slideshow": {
     "slide_type": "subslide"
    }
   },
   "source": [
    "2. Statistical fractals \n",
    "    - much broader conception\n",
    "    - e.g. coastlines and cauliflower\n",
    "    - found in nature \n",
    "    - *fractal-like* objects because they differ from the mathematical examples in two important ways:\n",
    "        - the self-similarity of natural fractals is approximate or statistical (environmental perturbations, scuplt and grow over time with history dependence).  \n",
    "        - this self-similarity extends over only a limited range of scales (e.g. Planck length).\n",
    "    - This is because nothing is really infinite in nature (size scales in nature can go only from around $10^9$ meters to $10^{-12}$ meters before you hit either the size of the earth or the size of an atom.) Hence, the self-similarity ends after a few orders of magnitude of zooming in"
   ]
  },
  {
   "cell_type": "markdown",
   "id": "0196902d",
   "metadata": {
    "slideshow": {
     "slide_type": "slide"
    }
   },
   "source": [
    "## Self-similarity (zoom symmetry)\n",
    "As you zoom in on a fractal, you can observe smaller copies or repetitions of the overall shape or pattern. \n",
    "\n",
    "A consequence of this self-similarity across scales is scale ambiguity (fractals have no natural size). \n",
    "\n",
    "<!-- What are we looking at here?... -->\n",
    "\n",
    "<center>\n",
    "<img src=\"Happisburgh_Footprints_Cropped.png\" width=\"350\">\n",
    "</center>"
   ]
  },
  {
   "cell_type": "markdown",
   "id": "0e5295ba",
   "metadata": {
    "slideshow": {
     "slide_type": "fragment"
    }
   },
   "source": [
    "<center>\n",
    "<img src=\"Happisburgh_Footprints.png\" width=\"350\">\n",
    "</center>\n",
    "\n",
    "(Image source: https://en.wikipedia.org/wiki/Happisburgh_footprints)\n",
    "\n",
    "Scale ambiguity is why photos in nature will often include another Euclidean object such as a lens cap (see for example here: http://www.palaeogeography.net/blog/a-guide-to-taking-geological-field-photos)"
   ]
  },
  {
   "cell_type": "markdown",
   "id": "7c242d76",
   "metadata": {
    "slideshow": {
     "slide_type": "subslide"
    }
   },
   "source": [
    "<!-- What are we looking at here...? -->\n",
    "<center>\n",
    "<img src=\"Cauliflower_without_scale.png\" width=\"400\">\n",
    "</center>"
   ]
  },
  {
   "cell_type": "markdown",
   "id": "e6b381fb",
   "metadata": {
    "slideshow": {
     "slide_type": "fragment"
    }
   },
   "source": [
    "<center>\n",
    "<img src=\"Cauliflower_with_scale.png\" width=\"400\">\n",
    "</center>\n",
    "\n",
    "Figure from: H.-O. Peitgen, J. Jürgens, and D. Saupe, Chaos and Fractals: New Frontiers of Science\n",
    "\n",
    "<!-- Have you ever seen Romanesco broccoli? It's such a perfect fractal it almost looks like one shouldn't be eating it! -->"
   ]
  },
  {
   "cell_type": "markdown",
   "id": "1aa27a5d",
   "metadata": {
    "slideshow": {
     "slide_type": "slide"
    }
   },
   "source": [
    "## Infinite complexity\n",
    "\n",
    "The question Mandelbrot famously asked was *'how long is the coast of Britain?'* \n",
    "\n",
    "Much like the question, 'how long is a piece of string?' the answer is that it depends...\n",
    "\n",
    "In particular, it depends on how long your ruler is and as your ruler gets smaller and smaller, the coast line becomes longer and longer approaching an infinite length\n",
    "<center>\n",
    "<img src=\"Britain-fractal-coastline-combined.jpg\" width=\"350\">\n",
    "</center>\n",
    "\n",
    "(Image source: https://en.wikipedia.org/wiki/Coastline_paradox)\n",
    "\n",
    "<!-- Note that this isn't the case for Euclidean objects - halving a ruler would mean we needed twice as many of them to cover the perimeter of a square -->\n",
    "\n",
    "<!--'Infinite' coastline zoom: https://www.youtube.com/watch?v=2YtCm8s4w9w (A GIF but it gives the right idea) -->\n",
    "\n",
    "In 2D and 3D, this notion can be extended to a measuring pixel or voxel of increasingly small size\n",
    "\n",
    "The point, for objects like a coastline, is that it isn't the length that matters (indeed we can't answer that question). What matters is its *complexity*."
   ]
  },
  {
   "cell_type": "markdown",
   "id": "e03ad9f9",
   "metadata": {
    "slideshow": {
     "slide_type": "slide"
    }
   },
   "source": [
    "## Fractal dimension\n",
    "\n",
    "The fractal dimension is *a* measure that quantifies the complexity (aka roughness) of an object\n",
    "\n",
    "<!-- You could also think of the dimension as being like the weight of an object\n",
    " -->\n",
    "It tells us something about how wiggly a curve is, how crinkled a surface is, or how porous a complex volume is, etc. \n",
    "\n",
    "And it doesn't have to be an integer \n",
    "<!-- this isn't just mathematicians making things up (any more than the rest of maths). It makes sense -->\n",
    "\n",
    "Before we try and understand fractal dimension, let's make sure we understand dimension generally..."
   ]
  },
  {
   "cell_type": "markdown",
   "id": "23c562be",
   "metadata": {
    "slideshow": {
     "slide_type": "subslide"
    }
   },
   "source": [
    "### Dimension\n",
    "\n",
    "The dimensions we are familiar with are (probably) 0, 1, 2 and 3. A dot is zero-dimensional, a line is one-dimensional, squares are 2D and cubes are 3D. In each case, to articulate a particular location within the object would require an amount of information equal to the dimension, $d$. e.g. I'll meet you at $X=(x_1, x_2, \\ldots, x_d)$ would be sufficient to ensure you could understand my message with no uncertainty.\n",
    "\n",
    "i.e. Points are designated by coordinates/dynamical variables with one for each 'dimension'. Or, if you prefer, a space is $d$-dimensional if locally it 'looks like' a patch of $\\mathbb{R}^d$. Note that there are many different (but consistent) mathematical definitions of dimension.\n",
    "<!-- Where by looks like we mean diffeomorphic to -->\n",
    "\n",
    "Perhaps, you're a physicist or a computer scientist and dimension can be much larger than this (4, 5, ... , 100000,...). As long as we are thinking of dimension as 'amount of information required to specify the location of a point in the space precisely' then increasing dimension like this is perfectly sensible.\n",
    "\n",
    "What we are calling 'dimension' here is often referred to as the *'topological dimension'* but there are some subtleties involved."
   ]
  },
  {
   "cell_type": "markdown",
   "id": "323a6a49",
   "metadata": {
    "slideshow": {
     "slide_type": "subslide"
    }
   },
   "source": [
    "#### Topological dimension (if you're interested)\n",
    "\n",
    "We said we need no information to describe a point. How much information do we need to describe 2 points? or 100 or any countable number of points? Our previous definition suggests that a collection of points is one-dimensional, which we definitely aren't comfortable with.\n",
    "\n",
    "Dimension is a zoo.\n",
    "\n",
    "Some 'formal hand-waving' for an alternative perspective...\n",
    "\n",
    "By definition, the null set (and only the null set) has a dimension equal to -1.\n",
    "\n",
    "The topological dimension of a space is determined by the highest local dimension within the space. The local dimension is one more than the dimension of the lowest-dimensional object capable of dividing any neighbourhood of the space into two distinct parts.\n",
    "\n",
    "- any countable set has a dimension of 0 (-1 + 1 = 0)\n",
    "- a line has dimension 1 as it can be separated by a point (0 + 1 = 1)\n",
    "- a plane has dimension 2 since it can be separated by a line (1 + 1 = 2)\n",
    "- a volume has dimension 3 since it can be separated by a plane (2 + 1 = 3).\n",
    "\n",
    "Topological properties are invariant under continuous, one-to-one transformations (i.e. smooth deformations or homeomorphisms) but the topological dimension is a very crude measure of the local size of a space\n",
    "\n",
    "<!-- And we take the dimension the space of interest is immersed in to be the minimal one -->\n",
    "But there's another way to think about dimension..."
   ]
  },
  {
   "cell_type": "markdown",
   "id": "47b6047a",
   "metadata": {
    "slideshow": {
     "slide_type": "subslide"
    }
   },
   "source": [
    "Scaling an object effectively changes the amount of stuff (mass/volume/length/amount of ink used to draw it/whatever is relevant)\n",
    "\n",
    "Let's look at how these classical objects of different dimensions scale as we divide them:\n",
    "<center>\n",
    "<img src=\"Dimension.png\" width=\"300\">\n",
    "<!-- <img src=\"Dimension_scaling_B.png\" width=\"300\"> -->\n",
    "</center>\n",
    "\n",
    "Cutting the side length of a square in half produces $N=4$ **small copies of the original** square. Similarly, $N=9$ with scaling factor $r=1/3$\n",
    "\n",
    "Note also that we could continue this process... cutting the length of each of the newly created 4 small squares in half to give 4 sets of 4 small squares, so $N=4$ again and $r=1/2$ if we compare with the previous level or $N=16$ and $r=1/4$ if we compare with the original single square i.e. it doesn't matter which two levels you work with when understanding how $N$ changes with $r$."
   ]
  },
  {
   "cell_type": "markdown",
   "id": "c8ff9478",
   "metadata": {
    "slideshow": {
     "slide_type": "subslide"
    }
   },
   "source": [
    "Generalising, if we consider $N$ small copies of the original object, that are scaled copies by a factor $r$ we see that $N$ and $r$ are related by:\n",
    "$$\n",
    "N=r^{-D}\n",
    "$$\n",
    "where $D=-\\frac{\\log N}{\\log r}$ is the **dimension**. \n",
    "\n",
    "This is the first of many power laws we will see\n",
    "\n",
    "The line, square and cube are all self similar, while other Euclidean objects like a circle clearly are not. However, if you're happy with a square then you should be ok with everything that is topologically equivalent to it."
   ]
  },
  {
   "cell_type": "markdown",
   "id": "84a0e4f1",
   "metadata": {
    "slideshow": {
     "slide_type": "skip"
    }
   },
   "source": [
    "##### Power laws\n",
    "\n",
    "This is the first of many power laws we will see with a relationship between scales and details (either strict or statistical) that can be expressed as:\n",
    "$$y = x^{-\\alpha}$$ where $\\alpha$ is called the power law exponent. \n",
    "\n",
    "They arise because as one variable decreases exponentially another increases exponentially e.g. with the square: decreasing the scale exponentially (for example by one-third: 1, 1/3, 1/9, and 1/27), causes the number of small copies to increase exponentially (by 9 times: 1, 9, 81, and 729)\n",
    "\n",
    "In essence, power laws tell us that there are far more small things than large ones."
   ]
  },
  {
   "cell_type": "markdown",
   "id": "ced63a5a",
   "metadata": {
    "slideshow": {
     "slide_type": "subslide"
    }
   },
   "source": [
    "### Self-similarity dimension \n",
    "\n",
    "Recall: \n",
    "$$D=-\\frac{\\log N}{\\log r}$$\n",
    "\n",
    "For our standard objects $D$ is equal to the topological dimension but it need not be an integer and we can generalise this logic (of looking at the number of scaled copies for a given magnification) to work with other objects such as with geometric fractals\n",
    "\n",
    "We now call $D$ the *self-similarity dimension*\n",
    "\n",
    "Note that fractals still have an integer topological dimension, but in terms of the amount of space they take up, it behaves like a higher-dimensional space\n",
    "\n",
    "These values are not unique descriptors and many fractal objects may be constructed with the same scaling relationship but have vastly different appearances."
   ]
  },
  {
   "cell_type": "markdown",
   "id": "e557ad87",
   "metadata": {
    "slideshow": {
     "slide_type": "subslide"
    }
   },
   "source": [
    "##### Cantor set\n",
    "To generate the (standard middle third) Cantor set we cut the line into thirds, such that $r=\\frac{1}{3}$ and remove the middle third, leaving $N=2$ copies of the original line. \n",
    "\n",
    "Hence,\n",
    "$$D=-\\frac{\\log 2}{\\log 1/3}\\approx0.631$$\n",
    "\n",
    "i.e. the Cantor set is less than a line but more complex than a point."
   ]
  },
  {
   "cell_type": "markdown",
   "id": "6a8dd469",
   "metadata": {
    "slideshow": {
     "slide_type": "subslide"
    }
   },
   "source": [
    "##### Sierpiński triangle\n",
    "To generate the Sierpiński triangle we cut the triangle into 4 replicas and remove the one, leaving $N=3$ copies of the original triangle. These replicas are smaller by a factor of $r=1/2$ the size of the original.\n",
    "Hence,\n",
    "$$D=-\\frac{\\log 3}{\\log 1/2}\\approx 1.585$$\n",
    "\n",
    "i.e. the Sierpiński triangle is less than a complete triangle but more complex than a line."
   ]
  },
  {
   "cell_type": "markdown",
   "id": "5b3471ad",
   "metadata": {
    "slideshow": {
     "slide_type": "slide"
    }
   },
   "source": [
    "## A possible fourth property\n",
    "    \n",
    "Complexity emerges from simplicity"
   ]
  },
  {
   "cell_type": "markdown",
   "id": "c5749243",
   "metadata": {
    "slideshow": {
     "slide_type": "slide"
    }
   },
   "source": [
    "# Why do we care about these mathematical monsters?"
   ]
  },
  {
   "cell_type": "markdown",
   "id": "5ae895a7",
   "metadata": {
    "slideshow": {
     "slide_type": "fragment"
    }
   },
   "source": [
    "Of course there are no such thing as monsters and so we have nothing to fear\n",
    "\n",
    "<center>\n",
    "<img src=\"DisneyMonster.png\" width=\"600\">\n",
    "</center>\n",
    "\n",
    "Mathematics is fortified by the study of monsters and not destroyed by them. These fractals can be deeply explored for proper and complete understanding (zero and the complex numbers were once scary too and now they are very natural concepts)\n",
    "\n",
    "<!-- What doesn't kill you makes you stronger -->\n",
    "\n",
    "Remember our goal is to model complex systems... If those complex systems are naturally occurring they are likely to be fractal\n",
    "\n",
    "Fractal mathematics allows us to begin modelling the shapes of nature. Fractal dimension is a core differentiator between manmade objects and the shapes in nature."
   ]
  },
  {
   "cell_type": "markdown",
   "id": "8337c74e",
   "metadata": {
    "slideshow": {
     "slide_type": "skip"
    }
   },
   "source": [
    "##### Cantor set and Sierpiński triangle applications\n",
    "...TO BE INCLUDED FOR NEXT ITERATION\n",
    "\n",
    "\n",
    "<img src=\"Sierpinski_FractalTree.gif\" width=\"350\" align=\"center\">\n",
    "\n",
    "By Rafael Ruggiero - Own work, CC BY-SA 4.0, https://commons.wikimedia.org/w/index.php?curid=63863683"
   ]
  },
  {
   "cell_type": "markdown",
   "id": "5134a749",
   "metadata": {
    "slideshow": {
     "slide_type": "slide"
    }
   },
   "source": [
    "# Fractals in nature\n",
    ">*\"I find the ideas in the fractals, both as a body of knowledge and as a metaphor, an incredibly important way of looking at the world.\"* Vice President of the United States of America and Nobel Laureate Al Gore, New York Times, Wednesday, June 21, 2000, discussing some of the \"big think\" questions that intrigue him."
   ]
  },
  {
   "cell_type": "markdown",
   "id": "2e4c6d0c",
   "metadata": {
    "slideshow": {
     "slide_type": "subslide"
    }
   },
   "source": [
    "Once you start looking for fractals you will see them everywhere!\n",
    "<center>\n",
    "<img src=\"NatureFractals_Combined.png\" width=\"800\">\n",
    "</center>\n",
    "\n",
    "All images taken from Wiki Commons\n",
    "<!-- <center>\n",
    "<img src=\"Samambaia_fern.jpg\" width=\"400\">\n",
    "</center>\n",
    "\n",
    "<center>\n",
    "<img src=\"Soap.jpg\" width=\"400\">\n",
    "</center>\n",
    "\n",
    "<center>\n",
    "<img src=\"Snowflake_macro_photography_1.jpg\" width=\"400\">\n",
    "</center>\n",
    "\n",
    "<center>\n",
    "<img src=\"NautilusCutawayLogarithmicSpiral.jpg\" width=\"400\">\n",
    "</center>\n",
    "\n",
    "<center>\n",
    "<img src=\"Vortex-street-1.jpg\" width=\"400\">\n",
    "</center>\n",
    "\n",
    "<table><tr>\n",
    "<td> <img src=\"Staccoto_Lightning.jpg\" alt=\"Drawing\" style=\"width: 250px;\"/> </td>\n",
    "<td> <img src=\"Samambaia_fern.jpg\" alt=\"Drawing\" style=\"width: 250px;\"/> </td>\n",
    "<td> <img src=\"Soap.jpg\" alt=\"Drawing\" style=\"width: 250px;\"/> </td>\n",
    "<td> <img src=\"Snowflake_macro_photography_1.jpg\" alt=\"Drawing\" style=\"width: 250px;\"/> </td>\n",
    "<td> <img src=\"NautilusCutawayLogarithmicSpiral.jpg\" alt=\"Drawing\" style=\"width: 250px;\"/> </td>\n",
    "<td> <img src=\"Vortex-street-1.jpg\" alt=\"Drawing\" style=\"width: 250px;\"/> </td>\n",
    "</tr></table> -->\n",
    "\n",
    "\n",
    "<!-- Lightning: By Griffinstorm - Own work, CC BY-SA 4.0, https://commons.wikimedia.org/w/index.php?curid=37874129\n",
    "Fern: By Jml3 - Own work, CC BY-SA 3.0, https://commons.wikimedia.org/w/index.php?curid=17823361\n",
    "Soap: By I, Malene, CC BY 2.5, https://commons.wikimedia.org/w/index.php?curid=90085224\n",
    "Snowflake: By Alexey Kljatov - Own work, CC BY-SA 4.0, https://commons.wikimedia.org/w/index.php?curid=39993014\n",
    "Shell: By Chris 73 / Wikimedia Commons, CC BY-SA 3.0, https://commons.wikimedia.org/w/index.php?curid=19711\n",
    "Clouds: By Robert Cahalan, NASA/GSFC - http://earthobservatory.nasa.gov/Newsroom/NewImages/images.php3?img_id=3328, Archive linkOriginal JPEG, Archive JPEG, Public Domain, https://commons.wikimedia.org/w/index.php?curid=87336 -->\n",
    "\n",
    "\n",
    "<!-- found in various natural phenomena, such as branching structures of trees, river deltas, lightening, mountain ridges, cloud formations, coastlines, and even in the structure of the human lungs and blood vessels. etc etc \n",
    "\n",
    "Foam an example of gap filling (Apollian gasket)-->"
   ]
  },
  {
   "cell_type": "markdown",
   "id": "874f2acf",
   "metadata": {
    "slideshow": {
     "slide_type": "subslide"
    }
   },
   "source": [
    "## Why do fractal patterns so often appear in nature? \n",
    "\n",
    "In a 1904 letter to Emile Bernard, Paul Cézanne wrote \n",
    ">*\"everything in nature is modeled according to the sphere, the cone, and the cylinder. You have to learn to paint with reference to these simple shapes; then you can do anything.\"* Doran, M., ed., Conversations with Cézanne, Univ. of California Press, 2001, pg 63.\n",
    "\n",
    "But...\n",
    "\n",
    ">*\"Clouds are not spheres, mountains are not cones, coastlines are not circles, and bark is not smooth, nor does lightning travel in a straight line.\"* - Mandelbrot \n",
    "\n",
    "Similar structures are seen in vastly different systems and scales\n"
   ]
  },
  {
   "cell_type": "markdown",
   "id": "14b8e357",
   "metadata": {
    "slideshow": {
     "slide_type": "subslide"
    }
   },
   "source": [
    "### Recursion\n",
    "i.e. doing the same thing on different scales, is easy from an evolution perspective and we don't need a blueprint with all the detail\n",
    "\n",
    "Growth processes will frequently lead to fractals\n",
    "\n",
    "Fractals are hyper-efficient in their construction and this allows for example, plants to maximise their exposure to sunlight and efficiently transport nutritious throughout their cellular structure (your lungs have as much surface area as a tennis court, your blood vessels can wrap around the planet 2.5 times etc...)\n",
    " \n",
    "After relatively few iterations of self-similarity we begin to converge on an attractor."
   ]
  },
  {
   "cell_type": "markdown",
   "id": "768546df",
   "metadata": {
    "slideshow": {
     "slide_type": "subslide"
    }
   },
   "source": [
    "\n",
    "Can also occur in man-made structures: e.g. the roads leading to Rome.\n",
    "<center>\n",
    "<img src=\"All_roads_lead_to_rome.jpeg\" width=\"400\">\n",
    "</center>\n",
    "\n",
    "(Image from: https://www.bloomberg.com/news/articles/2015-12-11/all-roads-lead-to-rome-according-to-new-map-from-moovel-lab)"
   ]
  },
  {
   "cell_type": "markdown",
   "id": "30f3930d",
   "metadata": {
    "slideshow": {
     "slide_type": "skip"
    }
   },
   "source": [
    "# How does it fit in with 'Complex Systems' generally?"
   ]
  },
  {
   "cell_type": "markdown",
   "id": "f082f5ff",
   "metadata": {
    "slideshow": {
     "slide_type": "skip"
    }
   },
   "source": [
    "**Previous topics:**\n",
    "- why are fractals a complex system? Fractals and fractal properties appear in vastly different systems and scales. From simplicity (such as 'iteratively remove middle third of lines') we get complexity.\n",
    "- think about the systems examples we've seen so far, where are the fractals?"
   ]
  },
  {
   "cell_type": "markdown",
   "id": "f5c53d64",
   "metadata": {
    "slideshow": {
     "slide_type": "skip"
    }
   },
   "source": [
    "**Upcoming topics:**\n",
    "- other measures of complexity in Information Theory\n",
    "- fractal objects emerge with Cellular Automata and Diffusion Limited Aggregation\n",
    "- fractal landscapes can be incorporated into Agent-based models\n",
    "- ..."
   ]
  },
  {
   "cell_type": "markdown",
   "id": "913fe522",
   "metadata": {
    "slideshow": {
     "slide_type": "slide"
    }
   },
   "source": [
    "# Fun stuff \n",
    "\n",
    "Fractal geometry isn't just about shapes\n",
    "\n",
    "It also provides a way to understand complexity in \"systems\" and help describe the unpredictable.\n",
    "- timing and sizes of earthquakes \n",
    "- variation in a person's heartbeat \n",
    "- prevalence of diseases \n",
    "- financial markets (this is where Mandelbrot first gained insight into the mathematics of complexity while working as a researcher for IBM during the 1960s).\n",
    "\n",
    "\n",
    "Below is a verrrrrry select few examples. \n",
    "\n",
    "Go explore whatever interests you - it's probably fractal somehow!"
   ]
  },
  {
   "cell_type": "markdown",
   "id": "52f2c1e6",
   "metadata": {
    "slideshow": {
     "slide_type": "subslide"
    }
   },
   "source": [
    "## Fractal tech\n",
    "##### Fractal antenna\n",
    "Sierpinski carpet is used as a fractal antenna (very high performing)\n",
    "accommodate multiple frequencies, whilst being small. They are also easy to fabricate and smaller than conventional antennas of similar performance, thus being optimal for pocket-sized mobile phones. (see here: http://www.fractenna.com/our/our.html#otherfractaltechnology)\n",
    "\n",
    "##### Fractal compression\n",
    "Since fractals allow us to convey seemingly random patterns with little data, working with image resolution and even 3D model creation becomes hugely data-efficient using fractal image coding (FIC) and other applications. \n",
    " \n",
    "##### Fractal distributors\n",
    "Engineered fractal With the use of fractals, the random characteristics of the turbulent cascade can be replaced with symmetries, providing precise control of fluid scaling and distribution. This results in energy savings, process size reduction and reaction homogeneity.\n",
    " \n",
    "https://www.arifractal.net/technologies/fractal-fluid-control/\n"
   ]
  },
  {
   "cell_type": "markdown",
   "id": "b7fae20f",
   "metadata": {
    "slideshow": {
     "slide_type": "subslide"
    }
   },
   "source": [
    "## Fractal universe/Fractal forgeries\n",
    "Creating digital worlds that remind us of our own.\n",
    "\n",
    "Videogames are now regularly be created with fractals, because they allow for small amounts of storage as all the details aren't required only the simple fractal rules.\n",
    "Fractal algorithms such as the diamond-square or Perlin noise can be employed to generate terrain or resource distributions that exhibit fractal properties. No Man's Sky is a game with 18 quintillion planets to explore (they call it 'procedural' but its a deterministic fractal)\n",
    "\n",
    "Star Trek II was first to do this in Wrath of Khan and this was the start of Pixar (Steve Jobs bought out Wrath of Khan animators)\n",
    "\n",
    "###### Fractal landscapes\n",
    "<img src=\"Animated_fractal_mountain.gif\" width=\"350\" align=\"center\">\n",
    "\n",
    "https://en.wikipedia.org/wiki/Fractal_landscape\n"
   ]
  },
  {
   "cell_type": "markdown",
   "id": "d4c8b48f",
   "metadata": {
    "slideshow": {
     "slide_type": "subslide"
    }
   },
   "source": [
    "\n",
    "<table><tr>\n",
    "<td> <img src=\"FractalLandscape1.jpg\" alt=\"Drawing\" style=\"width: 280px;\"/> </td>\n",
    "<td> <img src=\"FractalLandscape2.jpg\" alt=\"Drawing\" style=\"width: 250px;\"/> </td>\n",
    "<td> <img src=\"FractalLandscape3.jpg\" alt=\"Drawing\" style=\"width: 250px;\"/> </td>\n",
    "</tr></table>\n",
    "\n",
    "By The Ostrich - Own work, CC BY 3.0, https://commons.wikimedia.org/w/index.php?curid=4716597, By Stevo-88 - Own work, used Adobe Photoshop for Perlin noise creation and Terragen for rendering., Public Domain, https://commons.wikimedia.org/w/index.php?curid=2208011, By Gary R. Huber, 3D Nature, LLC - http://www.3dnworld.com/gallery.php?user=GHuber, CC BY-SA 2.5, https://commons.wikimedia.org/w/index.php?curid=1790607"
   ]
  },
  {
   "cell_type": "markdown",
   "id": "0abe7084",
   "metadata": {
    "slideshow": {
     "slide_type": "subslide"
    }
   },
   "source": [
    "## Fractal biology + medicine\n",
    "<center>\n",
    "<img src=\"HeartFractal.png\" width=\"200\">\n",
    "</center>\n",
    "\n",
    "Figure and many other nice examples from here: https://iternal.us/what-is-a-fractal/\n",
    "\n",
    "- Medical diagnoses such as cancer: healthy blood vessel cells grow in an orderly fractal pattern but cancerous cells grow in an abnormal fashion. \n",
    "- lungs are about 2.97 dimensional: they pack lots of surface area (apparently few tennis courts) into a small volume (a few tennis balls). This gives them the ability to extract enough oxygen in a highly efficient way."
   ]
  },
  {
   "cell_type": "markdown",
   "id": "90beb30c",
   "metadata": {
    "slideshow": {
     "slide_type": "skip"
    }
   },
   "source": [
    "Our lungs, our circulatory system, our brains are like trees\n",
    "Fractal geometry allows bounded curves of infinite length, and closed surfaces with infinite area. It even allows curves with positive volume, and arbitrarily large groups of shapes with exactly the same boundary. This is exactly how our lungs manage to maximize their surface area.\n",
    "Lungs have surace area >100m^2 efficiently absorb oxygen. Our lungs cram the area of a tennis court into the area of just a few tennis balls.\n",
    "\n",
    "Nuerons are interconnected fractally\n",
    "\n",
    "Our arteries, which account for just 3 per cent of our bodies by volume, can reach every cell in our bodies with nutrients. In the kidneys and lungs, our arteries, veins, and bronchioles all manage to intertwine around a common boundary.\n",
    "The arteries that deliver the blood, and the veins that take it away, need to share a common interface with the surface of the lungs, in order to aerate the blood. The arteries must provide every cell in our body with nutrients, using the minimum amount of blood\n",
    "complex protein surfaces fold up and wrinkle around towards three-dimensional space in a dimension that is around 2.4. Antibodies bind to a virus through their compatibility with the specific fractal dimension of the surface of the cell with which they intend to react.\n",
    "\n",
    "receptor molecules on the surfaces of all viruses and bacteria are fractal. Their positioning techniques, the methods they use to determine the chemistry of the body they have invaded and how they will interfere with that body's chemistry, and their binding functions, emerge mathematically by way of the deterministic rules of fractal geometry."
   ]
  },
  {
   "cell_type": "markdown",
   "id": "cf2b4f93",
   "metadata": {
    "slideshow": {
     "slide_type": "subslide"
    }
   },
   "source": [
    "## Fractals in popular culture"
   ]
  },
  {
   "cell_type": "markdown",
   "id": "0aac6190",
   "metadata": {
    "slideshow": {
     "slide_type": "subslide"
    }
   },
   "source": [
    "##### Music\n",
    "\n",
    "*Pathological monsters! cried the terrified mathematician*\n",
    "\n",
    "*Every one of them a splinter in my eye*\n",
    "\n",
    "*I hate the Peano Space and the Koch Curve*\n",
    "\n",
    "*I fear the Cantor Ternary Set\n",
    "\n",
    "*The Sierpinski Gasket makes me wanna cry*\n",
    "\n",
    "*And a million miles away a butterfly flapped its wings*\n",
    "\n",
    "*On a cold November day a man named Benoit Mandelbrot was born”*\n",
    "\n",
    "\n",
    "(Jonathan Coulton, lyrics from “Mandelbrot Set” https://open.spotify.com/track/1KOV7p4LBEFkTitQ0vcmgy)\n",
    "\n",
    "The equations in the lyrics actually describe Julia set (not Mandelbrot set), and apparently Coulton is accutely aware of this thanks to the many mathematicians the like to point it out to him.\n",
    "\n",
    "<!-- See here: Really nice Mandelbrot code: Mandelbrot code from: https://github.com/vassilikitsios/fractals/blob/master/fractals.ipynb for some really nice Manelbrot code.\n",
    " -->\n",
    " \n",
    "##### Art\n",
    "\n",
    "https://users.math.yale.edu/public_html/People/frame/Fractals/Panorama/\n",
    "\n",
    "##### Literature\n",
    "\n",
    "https://users.math.yale.edu/public_html/People/frame/Fractals/Panorama/Literature/Lit/Literature.html"
   ]
  }
 ],
 "metadata": {
  "@webio": {
   "lastCommId": null,
   "lastKernelId": null
  },
  "celltoolbar": "Slideshow",
  "kernelspec": {
   "display_name": "Python 3 (ipykernel)",
   "language": "python",
   "name": "python3"
  },
  "language_info": {
   "codemirror_mode": {
    "name": "ipython",
    "version": 3
   },
   "file_extension": ".py",
   "mimetype": "text/x-python",
   "name": "python",
   "nbconvert_exporter": "python",
   "pygments_lexer": "ipython3",
   "version": "3.11.0"
  },
  "toc": {
   "base_numbering": 1,
   "nav_menu": {},
   "number_sections": true,
   "sideBar": true,
   "skip_h1_title": false,
   "title_cell": "Table of Contents",
   "title_sidebar": "Contents",
   "toc_cell": false,
   "toc_position": {},
   "toc_section_display": true,
   "toc_window_display": false
  }
 },
 "nbformat": 4,
 "nbformat_minor": 5
}
